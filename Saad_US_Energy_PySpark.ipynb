{
  "cells": [
    {
      "cell_type": "code",
      "execution_count": 1,
      "id": "a99c675e",
      "metadata": {
        "colab": {
          "base_uri": "https://localhost:8080/"
        },
        "id": "a99c675e",
        "outputId": "7fd9078b-cbb1-4aa7-8855-93ee5d5df78b"
      },
      "outputs": [
        {
          "output_type": "stream",
          "name": "stdout",
          "text": [
            "Hit:1 https://cloud.r-project.org/bin/linux/ubuntu bionic-cran40/ InRelease\n",
            "Get:2 http://security.ubuntu.com/ubuntu bionic-security InRelease [88.7 kB]\n",
            "Ign:3 https://developer.download.nvidia.com/compute/machine-learning/repos/ubuntu1804/x86_64  InRelease\n",
            "Hit:4 https://developer.download.nvidia.com/compute/cuda/repos/ubuntu1804/x86_64  InRelease\n",
            "Hit:5 https://developer.download.nvidia.com/compute/machine-learning/repos/ubuntu1804/x86_64  Release\n",
            "Hit:6 http://archive.ubuntu.com/ubuntu bionic InRelease\n",
            "Hit:7 http://ppa.launchpad.net/c2d4u.team/c2d4u4.0+/ubuntu bionic InRelease\n",
            "Get:8 http://archive.ubuntu.com/ubuntu bionic-updates InRelease [88.7 kB]\n",
            "Hit:10 http://ppa.launchpad.net/cran/libgit2/ubuntu bionic InRelease\n",
            "Get:11 http://archive.ubuntu.com/ubuntu bionic-backports InRelease [83.3 kB]\n",
            "Hit:12 http://ppa.launchpad.net/deadsnakes/ppa/ubuntu bionic InRelease\n",
            "Hit:13 http://ppa.launchpad.net/graphics-drivers/ppa/ubuntu bionic InRelease\n",
            "Fetched 261 kB in 3s (91.9 kB/s)\n",
            "Reading package lists... Done\n"
          ]
        }
      ],
      "source": [
        "# Activate Spark in our Colab notebook.\n",
        "import os\n",
        "# Find the latest version of spark 3.0  from http://www.apache.org/dist/spark/ and enter as the spark version\n",
        "# For example: 'spark-3.2.2'\n",
        "spark_version = 'spark-3.2.2'\n",
        "# spark_version = 'spark-3.<enter version>'\n",
        "os.environ['SPARK_VERSION']=spark_version\n",
        "\n",
        "# Install Spark and Java\n",
        "!apt-get update\n",
        "!apt-get install openjdk-11-jdk-headless -qq > /dev/null\n",
        "!wget -q http://www.apache.org/dist/spark/$SPARK_VERSION/$SPARK_VERSION-bin-hadoop3.2.tgz\n",
        "!tar xf $SPARK_VERSION-bin-hadoop3.2.tgz\n",
        "!pip install -q findspark\n",
        "\n",
        "# Set Environment Variables\n",
        "os.environ[\"JAVA_HOME\"] = \"/usr/lib/jvm/java-11-openjdk-amd64\"\n",
        "os.environ[\"SPARK_HOME\"] = f\"/content/{spark_version}-bin-hadoop3.2\""
      ]
    },
    {
      "cell_type": "code",
      "execution_count": 2,
      "id": "873c062b",
      "metadata": {
        "id": "873c062b"
      },
      "outputs": [],
      "source": [
        "# Install pytest and pytest-sugar to make our output look nice.\n",
        "!pip install -q pytest pytest-sugar"
      ]
    },
    {
      "cell_type": "code",
      "source": [],
      "metadata": {
        "id": "vHBBNb_HC8TL"
      },
      "id": "vHBBNb_HC8TL",
      "execution_count": null,
      "outputs": []
    },
    {
      "cell_type": "code",
      "execution_count": 2,
      "id": "cd71c874",
      "metadata": {
        "colab": {
          "base_uri": "https://localhost:8080/",
          "height": 71
        },
        "id": "cd71c874",
        "outputId": "6863c797-b367-4755-b09e-d74315d2730b"
      },
      "outputs": [
        {
          "output_type": "stream",
          "name": "stdout",
          "text": [
            "mkdir: cannot create directory ‘tests’: File exists\n",
            "/content/tests\n"
          ]
        },
        {
          "output_type": "execute_result",
          "data": {
            "text/plain": [
              "'/content/tests'"
            ],
            "application/vnd.google.colaboratory.intrinsic+json": {
              "type": "string"
            }
          },
          "metadata": {},
          "execution_count": 2
        }
      ],
      "source": [
        "# Create and navigate to the tdd directory.\n",
        "from pathlib import Path\n",
        "if Path.cwd().name != 'tests':\n",
        "    %mkdir tests\n",
        "    %cd tests\n",
        "# Show the current working directory.  \n",
        "%pwd"
      ]
    },
    {
      "cell_type": "code",
      "execution_count": 3,
      "id": "6d7ed8f9",
      "metadata": {
        "colab": {
          "base_uri": "https://localhost:8080/"
        },
        "id": "6d7ed8f9",
        "outputId": "8726b842-55d6-45c6-d4fb-98331c8b9a32"
      },
      "outputs": [
        {
          "output_type": "stream",
          "name": "stdout",
          "text": [
            "Overwriting __init__.py\n"
          ]
        }
      ],
      "source": [
        "# Initialize the __init__.py file. \n",
        "# This file will be stored in our pwd (/content/tests)\n",
        "%%file __init__.py\n",
        "pass"
      ]
    },
    {
      "cell_type": "code",
      "source": [
        "import findspark\n",
        "findspark.init()\n",
        "\n",
        "# Import other dependencies. \n",
        "from pyspark import SparkFiles\n",
        "from pyspark.sql import SparkSession\n",
        "\n",
        "import time\n",
        "spark = SparkSession.builder.appName(\"sparkEnergyData\").getOrCreate()\n"
      ],
      "metadata": {
        "id": "_bebzfGeBlIo"
      },
      "id": "_bebzfGeBlIo",
      "execution_count": 4,
      "outputs": []
    },
    {
      "cell_type": "code",
      "source": [],
      "metadata": {
        "id": "SEpgyPdBCpiP"
      },
      "id": "SEpgyPdBCpiP",
      "execution_count": null,
      "outputs": []
    },
    {
      "cell_type": "code",
      "source": [
        "energy = spark.read.csv(\"organised_Gen.csv\", header=True)\n",
        "energy.show()"
      ],
      "metadata": {
        "colab": {
          "base_uri": "https://localhost:8080/"
        },
        "id": "vwSmy6P9BlL_",
        "outputId": "8b10190b-5036-4581-b5e6-72fb0b6ddcb5"
      },
      "id": "vwSmy6P9BlL_",
      "execution_count": 5,
      "outputs": [
        {
          "output_type": "stream",
          "name": "stdout",
          "text": [
            "+---+----+-----+-----+--------------------+--------------------+--------------------------+\n",
            "|_c0|YEAR|MONTH|STATE|    TYPE OF PRODUCER|       ENERGY SOURCE|GENERATION (Megawatthours)|\n",
            "+---+----+-----+-----+--------------------+--------------------+--------------------------+\n",
            "|  0|2001|    1|   AK|Total Electric Po...|                Coal|                   46903.0|\n",
            "|  1|2001|    1|   AK|Total Electric Po...|           Petroleum|                   71085.0|\n",
            "|  2|2001|    1|   AK|Total Electric Po...|         Natural Gas|                  367521.0|\n",
            "|  3|2001|    1|   AK|Total Electric Po...|Hydroelectric Con...|                  104549.0|\n",
            "|  4|2001|    1|   AK|Total Electric Po...|                Wind|                      87.0|\n",
            "|  5|2001|    1|   AK|Total Electric Po...|               Total|                  590145.0|\n",
            "|  6|2001|    1|   AK|Electric Generato...|                Coal|                   18410.0|\n",
            "|  7|2001|    1|   AK|Electric Generato...|           Petroleum|                   64883.0|\n",
            "|  8|2001|    1|   AK|Electric Generato...|         Natural Gas|                  305277.0|\n",
            "|  9|2001|    1|   AK|Electric Generato...|Hydroelectric Con...|                  104549.0|\n",
            "| 10|2001|    1|   AK|Electric Generato...|                Wind|                      87.0|\n",
            "| 11|2001|    1|   AK|Electric Generato...|               Total|                  493206.0|\n",
            "| 12|2001|    1|   AK|Combined Heat and...|                Coal|                   19742.0|\n",
            "| 13|2001|    1|   AK|Combined Heat and...|           Petroleum|                     213.0|\n",
            "| 14|2001|    1|   AK|Combined Heat and...|               Total|                   19955.0|\n",
            "| 15|2001|    1|   AK|Combined Heat and...|                Coal|                    8751.0|\n",
            "| 16|2001|    1|   AK|Combined Heat and...|           Petroleum|                    1073.0|\n",
            "| 17|2001|    1|   AK|Combined Heat and...|               Total|                    9824.0|\n",
            "| 18|2001|    1|   AK|Combined Heat and...|           Petroleum|                    4916.0|\n",
            "| 19|2001|    1|   AK|Combined Heat and...|         Natural Gas|                   62244.0|\n",
            "+---+----+-----+-----+--------------------+--------------------+--------------------------+\n",
            "only showing top 20 rows\n",
            "\n"
          ]
        }
      ]
    },
    {
      "cell_type": "code",
      "source": [
        "from pyspark.sql.types import IntegerType\n",
        "from pyspark.sql.types import StringType\n",
        "from pyspark.sql.functions import udf\n",
        "\n"
      ],
      "metadata": {
        "id": "3l64zrAtCFXW"
      },
      "id": "3l64zrAtCFXW",
      "execution_count": 40,
      "outputs": []
    },
    {
      "cell_type": "code",
      "execution_count": 41,
      "id": "d57ab78a",
      "metadata": {
        "id": "d57ab78a"
      },
      "outputs": [],
      "source": [
        "spark = SparkSession \\\n",
        "    .builder \\\n",
        "    .appName(\"energy file read in\") \\\n",
        "    .getOrCreate()\n",
        "energy = spark.read.csv('organised_Gen.csv', header = True)\n",
        "energy = energy.withColumnRenamed('TYPE OF PRODUCER', 'Producer_Type')\n",
        "energy = energy.withColumnRenamed('ENERGY SOURCE', 'Energy_Source')\n",
        "energy = energy.withColumnRenamed('GENERATION (Megawatthours)', 'Generated_Megawatthours')\n",
        "season_udf = udf(lambda MONTH: 'Winter' if (MONTH in ('12', '1', '2')) else 'Spring' if (MONTH in ('3','4','5')) else 'Summer' if (MONTH in ('6','7','8')) else 'Autumn', StringType())\n",
        "energy = energy.withColumn(\"Season\", season_udf(energy.MONTH))\n",
        "\n"
      ]
    },
    {
      "cell_type": "code",
      "source": [
        "energy.show(10)"
      ],
      "metadata": {
        "colab": {
          "base_uri": "https://localhost:8080/"
        },
        "id": "dq8upKNvNV6S",
        "outputId": "004620a1-c5f8-4a60-823b-d70993b0670e"
      },
      "id": "dq8upKNvNV6S",
      "execution_count": 42,
      "outputs": [
        {
          "output_type": "stream",
          "name": "stdout",
          "text": [
            "+---+----+-----+-----+--------------------+--------------------+-----------------------+------+\n",
            "|_c0|YEAR|MONTH|STATE|       Producer_Type|       Energy_Source|Generated_Megawatthours|Season|\n",
            "+---+----+-----+-----+--------------------+--------------------+-----------------------+------+\n",
            "|  0|2001|    1|   AK|Total Electric Po...|                Coal|                46903.0|Winter|\n",
            "|  1|2001|    1|   AK|Total Electric Po...|           Petroleum|                71085.0|Winter|\n",
            "|  2|2001|    1|   AK|Total Electric Po...|         Natural Gas|               367521.0|Winter|\n",
            "|  3|2001|    1|   AK|Total Electric Po...|Hydroelectric Con...|               104549.0|Winter|\n",
            "|  4|2001|    1|   AK|Total Electric Po...|                Wind|                   87.0|Winter|\n",
            "|  5|2001|    1|   AK|Total Electric Po...|               Total|               590145.0|Winter|\n",
            "|  6|2001|    1|   AK|Electric Generato...|                Coal|                18410.0|Winter|\n",
            "|  7|2001|    1|   AK|Electric Generato...|           Petroleum|                64883.0|Winter|\n",
            "|  8|2001|    1|   AK|Electric Generato...|         Natural Gas|               305277.0|Winter|\n",
            "|  9|2001|    1|   AK|Electric Generato...|Hydroelectric Con...|               104549.0|Winter|\n",
            "+---+----+-----+-----+--------------------+--------------------+-----------------------+------+\n",
            "only showing top 10 rows\n",
            "\n"
          ]
        }
      ]
    },
    {
      "cell_type": "code",
      "source": [
        "energy.write.parquet('parquet_energy', mode='overwrite')\n",
        "new_energy = spark.read.parquet('parquet_energy')\n",
        "new_energy.createOrReplaceTempView('p_energy_data')\n",
        "\n",
        "start_time = time.time()\n",
        "\n",
        "\n"
      ],
      "metadata": {
        "id": "VWg_Wu0zMuqX"
      },
      "id": "VWg_Wu0zMuqX",
      "execution_count": 43,
      "outputs": []
    },
    {
      "cell_type": "code",
      "source": [
        "new_df = spark.sql(\"\"\"SELECT * FROM p_energy_data \"\"\")\n",
        "\n",
        "new_df.show()\n"
      ],
      "metadata": {
        "colab": {
          "base_uri": "https://localhost:8080/"
        },
        "id": "NV8M22oERiwr",
        "outputId": "8607c424-ff0d-4433-d65f-940f6230c706"
      },
      "id": "NV8M22oERiwr",
      "execution_count": 45,
      "outputs": [
        {
          "output_type": "stream",
          "name": "stdout",
          "text": [
            "+---+----+-----+-----+--------------------+--------------------+-----------------------+------+\n",
            "|_c0|YEAR|MONTH|STATE|       Producer_Type|       Energy_Source|Generated_Megawatthours|Season|\n",
            "+---+----+-----+-----+--------------------+--------------------+-----------------------+------+\n",
            "|  0|2001|    1|   AK|Total Electric Po...|                Coal|                46903.0|Winter|\n",
            "|  1|2001|    1|   AK|Total Electric Po...|           Petroleum|                71085.0|Winter|\n",
            "|  2|2001|    1|   AK|Total Electric Po...|         Natural Gas|               367521.0|Winter|\n",
            "|  3|2001|    1|   AK|Total Electric Po...|Hydroelectric Con...|               104549.0|Winter|\n",
            "|  4|2001|    1|   AK|Total Electric Po...|                Wind|                   87.0|Winter|\n",
            "|  5|2001|    1|   AK|Total Electric Po...|               Total|               590145.0|Winter|\n",
            "|  6|2001|    1|   AK|Electric Generato...|                Coal|                18410.0|Winter|\n",
            "|  7|2001|    1|   AK|Electric Generato...|           Petroleum|                64883.0|Winter|\n",
            "|  8|2001|    1|   AK|Electric Generato...|         Natural Gas|               305277.0|Winter|\n",
            "|  9|2001|    1|   AK|Electric Generato...|Hydroelectric Con...|               104549.0|Winter|\n",
            "| 10|2001|    1|   AK|Electric Generato...|                Wind|                   87.0|Winter|\n",
            "| 11|2001|    1|   AK|Electric Generato...|               Total|               493206.0|Winter|\n",
            "| 12|2001|    1|   AK|Combined Heat and...|                Coal|                19742.0|Winter|\n",
            "| 13|2001|    1|   AK|Combined Heat and...|           Petroleum|                  213.0|Winter|\n",
            "| 14|2001|    1|   AK|Combined Heat and...|               Total|                19955.0|Winter|\n",
            "| 15|2001|    1|   AK|Combined Heat and...|                Coal|                 8751.0|Winter|\n",
            "| 16|2001|    1|   AK|Combined Heat and...|           Petroleum|                 1073.0|Winter|\n",
            "| 17|2001|    1|   AK|Combined Heat and...|               Total|                 9824.0|Winter|\n",
            "| 18|2001|    1|   AK|Combined Heat and...|           Petroleum|                 4916.0|Winter|\n",
            "| 19|2001|    1|   AK|Combined Heat and...|         Natural Gas|                62244.0|Winter|\n",
            "+---+----+-----+-----+--------------------+--------------------+-----------------------+------+\n",
            "only showing top 20 rows\n",
            "\n"
          ]
        }
      ]
    },
    {
      "cell_type": "code",
      "source": [],
      "metadata": {
        "id": "mfDZMPK3ZbG1"
      },
      "id": "mfDZMPK3ZbG1",
      "execution_count": 45,
      "outputs": []
    },
    {
      "cell_type": "code",
      "execution_count": 55,
      "id": "0495881c",
      "metadata": {
        "id": "0495881c",
        "colab": {
          "base_uri": "https://localhost:8080/"
        },
        "outputId": "99d87151-8f52-43b8-a836-86b15a6f15e5"
      },
      "outputs": [
        {
          "output_type": "stream",
          "name": "stdout",
          "text": [
            "+--------------------+------+----------------------------+\n",
            "|       Energy_Source|Season|sum(Generated_Megawatthours)|\n",
            "+--------------------+------+----------------------------+\n",
            "|          Geothermal|Autumn|               7.958760456E7|\n",
            "|Hydroelectric Con...|Winter|        1.4710756455000005E9|\n",
            "|             Nuclear|Autumn|               3.980135663E9|\n",
            "|                Wind|Autumn|         7.274587293499999E8|\n",
            "|          Geothermal|Summer|         8.100923721999997E7|\n",
            "|             Nuclear|Spring|               4.078164619E9|\n",
            "|Wood and Wood Der...|Spring|         2.022933708599999E8|\n",
            "|                Wind|Winter|         8.286922304200002E8|\n",
            "|Solar Thermal and...|Autumn|              1.1993666909E8|\n",
            "|Solar Thermal and...|Summer|              1.5974313533E8|\n",
            "|          Geothermal|Spring|         8.393710702000001E7|\n",
            "|         Other Gases|Spring|         6.800739398000002E7|\n",
            "|Hydroelectric Con...|Summer|        1.5290877372800012E9|\n",
            "|         Natural Gas|Autumn|         5.555902655870007E9|\n",
            "|         Natural Gas|Winter|         5.252051428620003E9|\n",
            "|         Other Gases|Autumn|         6.371577663000002E7|\n",
            "|             Nuclear|Winter|               4.474647028E9|\n",
            "|                Coal|Summer|          9.39620611480001E9|\n",
            "|      Pumped Storage|Summer|        -3.92511992399999...|\n",
            "|Wood and Wood Der...|Autumn|        2.0057422688000003E8|\n",
            "|               Other|Spring|               6.994927606E7|\n",
            "|               Other|Summer|               7.282893771E7|\n",
            "|         Natural Gas|Summer|         7.225150383459999E9|\n",
            "|Solar Thermal and...|Winter|               9.603257162E7|\n",
            "|      Pumped Storage|Spring|              -2.867331312E7|\n",
            "|Wood and Wood Der...|Summer|              2.1229007351E8|\n",
            "|               Other|Autumn|         6.831260699000001E7|\n",
            "|                Wind|Spring|         9.440301606599998E8|\n",
            "|             Nuclear|Summer|               4.408093994E9|\n",
            "|         Other Gases|Winter|               6.581822172E7|\n",
            "|       Other Biomass|Winter|         9.795694581999993E7|\n",
            "|               Other|Winter|         6.822652562000002E7|\n",
            "|           Petroleum|Spring|         2.528810461000006E8|\n",
            "|         Natural Gas|Spring|         5.269187630639995E9|\n",
            "|                Coal|Winter|         8.786351574069984E9|\n",
            "|       Other Biomass|Spring|        1.0072438927999997E8|\n",
            "|       Other Biomass|Summer|         9.945238602000001E7|\n",
            "|          Geothermal|Winter|               8.315336365E7|\n",
            "|                Coal|Spring|         7.625589741989993E9|\n",
            "|       Other Biomass|Autumn|         9.583808025999995E7|\n",
            "|                Wind|Summer|         6.206106099399998E8|\n",
            "|                Coal|Autumn|         7.924373136070007E9|\n",
            "|Hydroelectric Con...|Autumn|        1.1432465013700004E9|\n",
            "|           Petroleum|Summer|        3.1488653253999996E8|\n",
            "|Solar Thermal and...|Spring|              1.7623850563E8|\n",
            "|           Petroleum|Autumn|         2.272427283000002E8|\n",
            "|      Pumped Storage|Autumn|              -3.406380791E7|\n",
            "|      Pumped Storage|Winter|              -3.260086772E7|\n",
            "|Wood and Wood Der...|Winter|        2.1159676563000005E8|\n",
            "|Hydroelectric Con...|Spring|        1.6646645353999991E9|\n",
            "|           Petroleum|Winter|              3.1358791393E8|\n",
            "|         Other Gases|Summer|         6.865432686999993E7|\n",
            "+--------------------+------+----------------------------+\n",
            "\n",
            "--- 213.8220226764679 seconds ---\n"
          ]
        }
      ],
      "source": [
        "p_sql = spark.sql(\"\"\"SELECT Energy_Source, Season, sum(Generated_Megawatthours)\n",
        "            FROM p_energy_data \n",
        "            WHERE Producer_Type != 'Total Electric Power Industry' AND Energy_Source != 'Total' AND State != 'US-TOTAL'\n",
        "            GROUP BY Energy_Source, Season\n",
        "            \"\"\")\n",
        "\n",
        "p_sql.show(52)\n",
        "\n",
        "print(\"--- %s seconds ---\" % (time.time() - start_time))"
      ]
    },
    {
      "cell_type": "code",
      "source": [],
      "metadata": {
        "id": "pwOU70d0bLWO"
      },
      "id": "pwOU70d0bLWO",
      "execution_count": 48,
      "outputs": []
    },
    {
      "cell_type": "code",
      "execution_count": 53,
      "id": "bd818210",
      "metadata": {
        "id": "bd818210",
        "colab": {
          "base_uri": "https://localhost:8080/"
        },
        "outputId": "edc52112-7a07-4bb7-86d9-9ab159ab0fec"
      },
      "outputs": [
        {
          "output_type": "stream",
          "name": "stdout",
          "text": [
            "Overwriting test_total_energy.py\n"
          ]
        }
      ],
      "source": [
        "# Create a test_bank_data.py file and write the test functions to it. \n",
        "# This file will be stored in our pwd (/content/tests).\n",
        "%%file test_total_energy.py\n",
        "\n",
        "# From the bank_data.py file and import the import_data function. \n",
        "from total_energy import (import_data, transform_data, query_data) #transform_data_full, distinct_zip_codes\n",
        "\n",
        "# Write the tests. \n",
        "def test_row_count_before_transform():\n",
        "  df = import_data()\n",
        "  assert df.count() == 52\n",
        "\n",
        "def test_column_count_before_transform():\n",
        "  df = import_data()\n",
        "  assert len(df.columns) == 3\n",
        "\n",
        "def test_row_count_after_transform():\n",
        "    df = transform_data()\n",
        "    assert df.count() != 52\n",
        "\n",
        "def test_column_count_after_transform():\n",
        "    df = transform_data()\n",
        "    assert len(df.columns) != 3\n",
        "\n"
      ]
    },
    {
      "cell_type": "code",
      "execution_count": 54,
      "id": "688319f6",
      "metadata": {
        "id": "688319f6",
        "colab": {
          "base_uri": "https://localhost:8080/"
        },
        "outputId": "9bded636-d1b0-4e76-f7bd-4b5180d99226"
      },
      "outputs": [
        {
          "output_type": "stream",
          "name": "stdout",
          "text": [
            "\u001b[1mTest session starts (platform: linux, Python 3.7.14, pytest 3.6.4, pytest-sugar 0.9.5)\u001b[0m\n",
            "rootdir: /content/tests, inifile:\n",
            "plugins: typeguard-2.7.1, sugar-0.9.5\n",
            "\r\n",
            "―――――――――――――――――――― ERROR collecting test_total_energy.py ―――――――――――――――――――――\n",
            "\u001b[31mImportError while importing test module '/content/tests/test_total_energy.py'.\n",
            "Hint: make sure your test modules/packages have valid Python names.\n",
            "Traceback:\n",
            "test_total_energy.py:3: in <module>\n",
            "    from total_energy import (import_data, transform_data, query_data) #transform_data_full, distinct_zip_codes\n",
            "E   ModuleNotFoundError: No module named 'total_energy'\u001b[0m\n",
            "\n",
            "!!!!!!!!!!!!!!!!!!! Interrupted: 1 errors during collection !!!!!!!!!!!!!!!!!!!!\n",
            "\n",
            "Results (0.08s):\n"
          ]
        }
      ],
      "source": [
        "# Run the test_import_data.py file with pytest. \n",
        "!python -m pytest test_total_energy.py"
      ]
    },
    {
      "cell_type": "code",
      "execution_count": null,
      "id": "3c719436",
      "metadata": {
        "id": "3c719436"
      },
      "outputs": [],
      "source": []
    },
    {
      "cell_type": "code",
      "execution_count": null,
      "id": "d24040c8",
      "metadata": {
        "id": "d24040c8"
      },
      "outputs": [],
      "source": []
    },
    {
      "cell_type": "code",
      "execution_count": null,
      "id": "3389d778",
      "metadata": {
        "id": "3389d778"
      },
      "outputs": [],
      "source": []
    },
    {
      "cell_type": "code",
      "execution_count": null,
      "id": "3f3d3524",
      "metadata": {
        "id": "3f3d3524"
      },
      "outputs": [],
      "source": []
    },
    {
      "cell_type": "code",
      "execution_count": null,
      "id": "04d5d026",
      "metadata": {
        "id": "04d5d026"
      },
      "outputs": [],
      "source": []
    }
  ],
  "metadata": {
    "kernelspec": {
      "display_name": "Python 3 (ipykernel)",
      "language": "python",
      "name": "python3"
    },
    "language_info": {
      "codemirror_mode": {
        "name": "ipython",
        "version": 3
      },
      "file_extension": ".py",
      "mimetype": "text/x-python",
      "name": "python",
      "nbconvert_exporter": "python",
      "pygments_lexer": "ipython3",
      "version": "3.9.7"
    },
    "colab": {
      "provenance": [],
      "collapsed_sections": []
    }
  },
  "nbformat": 4,
  "nbformat_minor": 5
}