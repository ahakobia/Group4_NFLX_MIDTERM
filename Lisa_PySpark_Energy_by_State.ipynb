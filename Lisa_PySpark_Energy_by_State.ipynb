{
 "cells": [
  {
   "cell_type": "code",
   "execution_count": 1,
   "id": "5620af14",
   "metadata": {},
   "outputs": [
    {
     "name": "stdout",
     "output_type": "stream",
     "text": [
      "/bin/bash: apt-get: command not found\n",
      "/bin/bash: apt-get: command not found\n",
      "/bin/bash: wget: command not found\n",
      "tar: Error opening archive: Failed to open 'spark-3.2.2-bin-hadoop3.2.tgz'\n"
     ]
    }
   ],
   "source": [
    "# Activate Spark in our Colab notebook.\n",
    "import os\n",
    "# Find the latest version of spark 3.0  from http://www.apache.org/dist/spark/ and enter as the spark version\n",
    "# For example: 'spark-3.2.2'\n",
    "spark_version = 'spark-3.2.2'\n",
    "# spark_version = 'spark-3.<enter version>'\n",
    "os.environ['SPARK_VERSION']=spark_version\n",
    "\n",
    "# Install Spark and Java\n",
    "!apt-get update\n",
    "!apt-get install openjdk-11-jdk-headless -qq > /dev/null\n",
    "!wget -q http://www.apache.org/dist/spark/$SPARK_VERSION/$SPARK_VERSION-bin-hadoop3.2.tgz\n",
    "!tar xf $SPARK_VERSION-bin-hadoop3.2.tgz\n",
    "!pip install -q findspark\n",
    "\n",
    "# Set Environment Variables\n",
    "os.environ[\"JAVA_HOME\"] = \"/usr/lib/jvm/java-11-openjdk-amd64\"\n",
    "os.environ[\"SPARK_HOME\"] = f\"/content/{spark_version}-bin-hadoop3.2\""
   ]
  },
  {
   "cell_type": "code",
   "execution_count": 2,
   "id": "e6c2175f",
   "metadata": {},
   "outputs": [],
   "source": [
    "# Install pytest and pytest-sugar to make our output look nice.\n",
    "!pip install -q pytest pytest-sugar"
   ]
  },
  {
   "cell_type": "code",
   "execution_count": 3,
   "id": "2e7d7aff",
   "metadata": {},
   "outputs": [
    {
     "name": "stdout",
     "output_type": "stream",
     "text": [
      "/Users/LisaHong/Desktop/github-test-project/tests\n"
     ]
    },
    {
     "data": {
      "text/plain": [
       "'/Users/LisaHong/Desktop/github-test-project/tests'"
      ]
     },
     "execution_count": 3,
     "metadata": {},
     "output_type": "execute_result"
    }
   ],
   "source": [
    "# Create and navigate to the tdd directory.\n",
    "from pathlib import Path\n",
    "if Path.cwd().name != 'tests':\n",
    "    %mkdir tests\n",
    "    %cd tests\n",
    "# Show the current working directory.  \n",
    "%pwd"
   ]
  },
  {
   "cell_type": "code",
   "execution_count": 6,
   "id": "a6df55ae",
   "metadata": {},
   "outputs": [
    {
     "name": "stderr",
     "output_type": "stream",
     "text": [
      "UsageError: Line magic function `%%file` not found.\n"
     ]
    }
   ],
   "source": [
    "# Initialize the __init__.py file. \n",
    "# This file will be stored in our pwd (/content/tests)\n",
    "%%file __init__.py\n",
    "pass"
   ]
  },
  {
   "cell_type": "code",
   "execution_count": null,
   "id": "84e747fe",
   "metadata": {},
   "outputs": [],
   "source": [
    "import findspark\n",
    "findspark.init()\n",
    "\n",
    "# Import other dependencies. \n",
    "from pyspark import SparkFiles\n",
    "from pyspark.sql import SparkSession\n",
    "\n",
    "import time\n",
    "spark = SparkSession.builder.appName(\"sparkEnergyData\").getOrCreate()\n",
    "\n",
    "# url = \"https://raw.githubusercontent.com/ahakobia/Group4_NFLX_MIDTERM/main/Resources/organised_Gen.csv?token=GHSAT0AAAAAABXH6XNLVR2KDPQKXAWUGPNQYZX5EYQ\"\n",
    "# spark.sparkContext.addFile(url)\n",
    "# energy = spark.read.csv(SparkFiles.get(\"organised_Gen.csv\"), header=True)\n",
    "\n",
    "spark = SparkSession \\\n",
    "    .builder \\\n",
    "    .appName(\"energy file read in\") \\\n",
    "    .getOrCreate()\n",
    "energy = spark.read.csv('organised_Gen.csv', header = True)\n",
    "energy = energy.withColumnRenamed('TYPE OF PRODUCER', 'producer')\n",
    "energy = energy.withColumnRenamed('ENERGY SOURCE', 'source')\n",
    "energy = energy.withColumnRenamed('GENERATION (Megawatthours)', 'generated')\n",
    "energy.write.parquet('parquet_energy',mode='overwrite')\n",
    "p_energy = spark.read.parquet('parquet_energy')\n",
    "p_energy.createOrReplaceTempView('p_energy_data')\n",
    "\n",
    "start_time = time.time()\n",
    "transformed_df = spark.sql(\"\"\"\n",
    "    SELECT\n",
    "        YEAR as year,\n",
    "        MONTH as month,\n",
    "        STATE as state, producer, source, generated\n",
    "        FROM p_energy_data\n",
    "        WHERE state != 'US-TOTAL' AND producer != 'Total Electric Power Industry'\n",
    "        AND source != 'Total'\n",
    "        \"\"\")\n",
    "transformed_df\n",
    "\n",
    "  \n",
    "q_df = spark.sql(\"\"\"SELECT state, source, SUM(generated) as Total_generated\n",
    "            FROM p_energy_data \n",
    "            WHERE producer != 'Total Electric Power Industry' \n",
    "                AND source != 'Total' \n",
    "                AND state != 'US-TOTAL'\n",
    "            Group By state, source\n",
    "            Order By state\n",
    "                \"\"\")\n",
    "q_df\n",
    "\n",
    "\n",
    "print(\"--- %s seconds ---\" % (time.time() - start_time))"
   ]
  },
  {
   "cell_type": "code",
   "execution_count": null,
   "id": "e1f28f32",
   "metadata": {},
   "outputs": [],
   "source": [
    "q_df.show()"
   ]
  },
  {
   "cell_type": "code",
   "execution_count": null,
   "id": "fdb38267",
   "metadata": {},
   "outputs": [],
   "source": [
    "# Create a bank_data.py file and write the function to it. \n",
    "# This file will be stored in our pwd (/content/tests).\n",
    "%%file total_energy.py\n",
    "\n",
    "# Import findspark() and initialize. \n",
    "import findspark\n",
    "findspark.init()\n",
    "\n",
    "# Import other dependencies. \n",
    "from pyspark import SparkFiles\n",
    "from pyspark.sql import SparkSession\n",
    "spark = SparkSession.builder.appName(\"sparkEnergyData\").getOrCreate()\n",
    "\n",
    "# Create the import_data function. \n",
    "def import_data():\n",
    "    spark = SparkSession \\\n",
    "    .builder \\\n",
    "    .appName(\"energy file read in\") \\\n",
    "    .getOrCreate()\n",
    "    energy = spark.read.csv('organised_Gen.csv', header = True)\n",
    "    energy = energy.withColumnRenamed('TYPE OF PRODUCER', 'producer')\n",
    "    energy = energy.withColumnRenamed('ENERGY SOURCE', 'source')\n",
    "    energy = energy.withColumnRenamed('GENERATION (Megawatthours)', 'generated')\n",
    "    energy.write.parquet('parquet_energy',mode='overwrite')\n",
    "    p_energy = spark.read.parquet('parquet_energy')\n",
    "    p_energy.createOrReplaceTempView('p_energy_data')\n",
    "    return p_energy\n",
    "\n",
    "def transform_data():\n",
    "    transformed_df = spark.sql(\"\"\"\n",
    "    SELECT\n",
    "        YEAR as year,\n",
    "        MONTH as month,\n",
    "        STATE as state, producer, source, generated\n",
    "        FROM p_energy_data\n",
    "        WHERE state != 'US-TOTAL' AND producer != 'Total Electric Power Industry'\n",
    "        AND source != 'Total'\n",
    "        \"\"\")\n",
    "    return transformed_df\n",
    "\n",
    "def query_data():\n",
    "  \n",
    "    q_df = spark.sql(\"\"\"SELECT state, source, SUM(generated) as Total_generated\n",
    "            FROM p_energy_data \n",
    "            WHERE producer != 'Total Electric Power Industry' \n",
    "                AND source != 'Total' \n",
    "                AND state != 'US-TOTAL'\n",
    "            Group By state, source\n",
    "            Order By state\n",
    "                \"\"\")\n",
    "    return q_df"
   ]
  },
  {
   "cell_type": "code",
   "execution_count": null,
   "id": "7064f0e9",
   "metadata": {},
   "outputs": [],
   "source": [
    "# Create a test_bank_data.py file and write the test functions to it. \n",
    "# This file will be stored in our pwd (/content/tests).\n",
    "%%file test_total_states_energy.py\n",
    "\n",
    "# From the bank_data.py file and import the import_data function. \n",
    "from total_energy import (import_data, transform_data, query_data)\n",
    "\n",
    "# Write the tests. \n",
    "def test_row_count_before_transform():\n",
    "  df = import_data()\n",
    "  assert df.count() == 496774\n",
    "\n",
    "def test_column_count_before_transform():\n",
    "  df = import_data()\n",
    "  assert len(df.columns) == 7\n",
    "\n",
    "def test_row_count_after_transform():\n",
    "    df = transform_data()\n",
    "    assert df.count() != 496774\n",
    "\n",
    "def test_column_count_after_transform():\n",
    "    df = transform_data()\n",
    "    assert len(df.columns) != 7\n",
    "\n",
    "def test_row_count_query():\n",
    "    df = query_data()\n",
    "    assert df.count() == 529\n",
    "\n",
    "def test_column_count_query():\n",
    "    df = query_data()\n",
    "    assert len(df.columns) == 3"
   ]
  },
  {
   "cell_type": "code",
   "execution_count": null,
   "id": "edaff8d3",
   "metadata": {},
   "outputs": [],
   "source": [
    "# Run the test_import_data.py file with pytest. \n",
    "!python -m pytest test_total_states_energy.py"
   ]
  }
 ],
 "metadata": {
  "kernelspec": {
   "display_name": "Python 3 (ipykernel)",
   "language": "python",
   "name": "python3"
  },
  "language_info": {
   "codemirror_mode": {
    "name": "ipython",
    "version": 3
   },
   "file_extension": ".py",
   "mimetype": "text/x-python",
   "name": "python",
   "nbconvert_exporter": "python",
   "pygments_lexer": "ipython3",
   "version": "3.9.7"
  }
 },
 "nbformat": 4,
 "nbformat_minor": 5
}
