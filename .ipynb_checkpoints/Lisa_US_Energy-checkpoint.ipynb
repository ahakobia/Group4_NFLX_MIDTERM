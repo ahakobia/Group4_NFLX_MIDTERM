{
 "cells": [
  {
   "cell_type": "code",
   "execution_count": 47,
   "id": "065fb6e4",
   "metadata": {},
   "outputs": [],
   "source": [
    "import pandas as pd\n",
    "import os\n",
    "import plotly.express as px"
   ]
  },
  {
   "cell_type": "code",
   "execution_count": 4,
   "id": "4bfd52c8",
   "metadata": {},
   "outputs": [],
   "source": [
    "df = pd.read_csv('Resources/organised_Gen.csv')"
   ]
  },
  {
   "cell_type": "code",
   "execution_count": 45,
   "id": "a1c0430b",
   "metadata": {},
   "outputs": [
    {
     "data": {
      "text/html": [
       "<div>\n",
       "<style scoped>\n",
       "    .dataframe tbody tr th:only-of-type {\n",
       "        vertical-align: middle;\n",
       "    }\n",
       "\n",
       "    .dataframe tbody tr th {\n",
       "        vertical-align: top;\n",
       "    }\n",
       "\n",
       "    .dataframe thead th {\n",
       "        text-align: right;\n",
       "    }\n",
       "</style>\n",
       "<table border=\"1\" class=\"dataframe\">\n",
       "  <thead>\n",
       "    <tr style=\"text-align: right;\">\n",
       "      <th></th>\n",
       "      <th>Unnamed: 0</th>\n",
       "      <th>YEAR</th>\n",
       "      <th>MONTH</th>\n",
       "      <th>STATE</th>\n",
       "      <th>TYPE OF PRODUCER</th>\n",
       "      <th>ENERGY SOURCE</th>\n",
       "      <th>GENERATION (Megawatthours)</th>\n",
       "    </tr>\n",
       "  </thead>\n",
       "  <tbody>\n",
       "    <tr>\n",
       "      <th>6</th>\n",
       "      <td>6</td>\n",
       "      <td>2001</td>\n",
       "      <td>1</td>\n",
       "      <td>AK</td>\n",
       "      <td>Electric Generators, Electric Utilities</td>\n",
       "      <td>Coal</td>\n",
       "      <td>18410.0</td>\n",
       "    </tr>\n",
       "    <tr>\n",
       "      <th>7</th>\n",
       "      <td>7</td>\n",
       "      <td>2001</td>\n",
       "      <td>1</td>\n",
       "      <td>AK</td>\n",
       "      <td>Electric Generators, Electric Utilities</td>\n",
       "      <td>Petroleum</td>\n",
       "      <td>64883.0</td>\n",
       "    </tr>\n",
       "    <tr>\n",
       "      <th>8</th>\n",
       "      <td>8</td>\n",
       "      <td>2001</td>\n",
       "      <td>1</td>\n",
       "      <td>AK</td>\n",
       "      <td>Electric Generators, Electric Utilities</td>\n",
       "      <td>Natural Gas</td>\n",
       "      <td>305277.0</td>\n",
       "    </tr>\n",
       "    <tr>\n",
       "      <th>9</th>\n",
       "      <td>9</td>\n",
       "      <td>2001</td>\n",
       "      <td>1</td>\n",
       "      <td>AK</td>\n",
       "      <td>Electric Generators, Electric Utilities</td>\n",
       "      <td>Hydroelectric Conventional</td>\n",
       "      <td>104549.0</td>\n",
       "    </tr>\n",
       "    <tr>\n",
       "      <th>10</th>\n",
       "      <td>10</td>\n",
       "      <td>2001</td>\n",
       "      <td>1</td>\n",
       "      <td>AK</td>\n",
       "      <td>Electric Generators, Electric Utilities</td>\n",
       "      <td>Wind</td>\n",
       "      <td>87.0</td>\n",
       "    </tr>\n",
       "  </tbody>\n",
       "</table>\n",
       "</div>"
      ],
      "text/plain": [
       "    Unnamed: 0  YEAR  MONTH STATE                         TYPE OF PRODUCER  \\\n",
       "6            6  2001      1    AK  Electric Generators, Electric Utilities   \n",
       "7            7  2001      1    AK  Electric Generators, Electric Utilities   \n",
       "8            8  2001      1    AK  Electric Generators, Electric Utilities   \n",
       "9            9  2001      1    AK  Electric Generators, Electric Utilities   \n",
       "10          10  2001      1    AK  Electric Generators, Electric Utilities   \n",
       "\n",
       "                 ENERGY SOURCE  GENERATION (Megawatthours)  \n",
       "6                         Coal                     18410.0  \n",
       "7                    Petroleum                     64883.0  \n",
       "8                  Natural Gas                    305277.0  \n",
       "9   Hydroelectric Conventional                    104549.0  \n",
       "10                        Wind                        87.0  "
      ]
     },
     "execution_count": 45,
     "metadata": {},
     "output_type": "execute_result"
    }
   ],
   "source": [
    "df.head()"
   ]
  },
  {
   "cell_type": "code",
   "execution_count": 51,
   "id": "2398fbe7",
   "metadata": {},
   "outputs": [
    {
     "data": {
      "text/html": [
       "<div>\n",
       "<style scoped>\n",
       "    .dataframe tbody tr th:only-of-type {\n",
       "        vertical-align: middle;\n",
       "    }\n",
       "\n",
       "    .dataframe tbody tr th {\n",
       "        vertical-align: top;\n",
       "    }\n",
       "\n",
       "    .dataframe thead th {\n",
       "        text-align: right;\n",
       "    }\n",
       "</style>\n",
       "<table border=\"1\" class=\"dataframe\">\n",
       "  <thead>\n",
       "    <tr style=\"text-align: right;\">\n",
       "      <th></th>\n",
       "      <th>Unnamed: 0</th>\n",
       "      <th>YEAR</th>\n",
       "      <th>MONTH</th>\n",
       "      <th>STATE</th>\n",
       "      <th>TYPE OF PRODUCER</th>\n",
       "      <th>ENERGY SOURCE</th>\n",
       "      <th>GENERATION (Megawatthours)</th>\n",
       "    </tr>\n",
       "  </thead>\n",
       "  <tbody>\n",
       "    <tr>\n",
       "      <th>6</th>\n",
       "      <td>6</td>\n",
       "      <td>2001</td>\n",
       "      <td>1</td>\n",
       "      <td>AK</td>\n",
       "      <td>Electric Generators, Electric Utilities</td>\n",
       "      <td>Coal</td>\n",
       "      <td>18410.0</td>\n",
       "    </tr>\n",
       "    <tr>\n",
       "      <th>7</th>\n",
       "      <td>7</td>\n",
       "      <td>2001</td>\n",
       "      <td>1</td>\n",
       "      <td>AK</td>\n",
       "      <td>Electric Generators, Electric Utilities</td>\n",
       "      <td>Petroleum</td>\n",
       "      <td>64883.0</td>\n",
       "    </tr>\n",
       "    <tr>\n",
       "      <th>8</th>\n",
       "      <td>8</td>\n",
       "      <td>2001</td>\n",
       "      <td>1</td>\n",
       "      <td>AK</td>\n",
       "      <td>Electric Generators, Electric Utilities</td>\n",
       "      <td>Natural Gas</td>\n",
       "      <td>305277.0</td>\n",
       "    </tr>\n",
       "    <tr>\n",
       "      <th>9</th>\n",
       "      <td>9</td>\n",
       "      <td>2001</td>\n",
       "      <td>1</td>\n",
       "      <td>AK</td>\n",
       "      <td>Electric Generators, Electric Utilities</td>\n",
       "      <td>Hydroelectric Conventional</td>\n",
       "      <td>104549.0</td>\n",
       "    </tr>\n",
       "    <tr>\n",
       "      <th>10</th>\n",
       "      <td>10</td>\n",
       "      <td>2001</td>\n",
       "      <td>1</td>\n",
       "      <td>AK</td>\n",
       "      <td>Electric Generators, Electric Utilities</td>\n",
       "      <td>Wind</td>\n",
       "      <td>87.0</td>\n",
       "    </tr>\n",
       "  </tbody>\n",
       "</table>\n",
       "</div>"
      ],
      "text/plain": [
       "    Unnamed: 0  YEAR  MONTH STATE                         TYPE OF PRODUCER  \\\n",
       "6            6  2001      1    AK  Electric Generators, Electric Utilities   \n",
       "7            7  2001      1    AK  Electric Generators, Electric Utilities   \n",
       "8            8  2001      1    AK  Electric Generators, Electric Utilities   \n",
       "9            9  2001      1    AK  Electric Generators, Electric Utilities   \n",
       "10          10  2001      1    AK  Electric Generators, Electric Utilities   \n",
       "\n",
       "                 ENERGY SOURCE  GENERATION (Megawatthours)  \n",
       "6                         Coal                     18410.0  \n",
       "7                    Petroleum                     64883.0  \n",
       "8                  Natural Gas                    305277.0  \n",
       "9   Hydroelectric Conventional                    104549.0  \n",
       "10                        Wind                        87.0  "
      ]
     },
     "execution_count": 51,
     "metadata": {},
     "output_type": "execute_result"
    }
   ],
   "source": [
    "#Dropping \"Total Electric Power Industry\", \"Total\", \"US-TOTAL\" to not double count\n",
    "df.drop(df[df['ENERGY SOURCE'] == 'Total'].index, inplace=True)\n",
    "df.drop(df[df['TYPE OF PRODUCER'] == 'Total Electric Power Industry'].index, inplace=True)\n",
    "df.drop(df[df['STATE'] == 'US-TOTAL'].index, inplace=True)\n",
    "df.head()"
   ]
  },
  {
   "cell_type": "code",
   "execution_count": 55,
   "id": "dd3b9531",
   "metadata": {},
   "outputs": [
    {
     "data": {
      "text/html": [
       "<div>\n",
       "<style scoped>\n",
       "    .dataframe tbody tr th:only-of-type {\n",
       "        vertical-align: middle;\n",
       "    }\n",
       "\n",
       "    .dataframe tbody tr th {\n",
       "        vertical-align: top;\n",
       "    }\n",
       "\n",
       "    .dataframe thead th {\n",
       "        text-align: right;\n",
       "    }\n",
       "</style>\n",
       "<table border=\"1\" class=\"dataframe\">\n",
       "  <thead>\n",
       "    <tr style=\"text-align: right;\">\n",
       "      <th></th>\n",
       "      <th>ENERGY SOURCE</th>\n",
       "      <th>STATE</th>\n",
       "      <th>GENERATION (Megawatthours)</th>\n",
       "    </tr>\n",
       "  </thead>\n",
       "  <tbody>\n",
       "    <tr>\n",
       "      <th>0</th>\n",
       "      <td>Coal</td>\n",
       "      <td>AK</td>\n",
       "      <td>1.357579e+07</td>\n",
       "    </tr>\n",
       "    <tr>\n",
       "      <th>1</th>\n",
       "      <td>Coal</td>\n",
       "      <td>AL</td>\n",
       "      <td>1.144624e+09</td>\n",
       "    </tr>\n",
       "    <tr>\n",
       "      <th>2</th>\n",
       "      <td>Coal</td>\n",
       "      <td>AR</td>\n",
       "      <td>5.420841e+08</td>\n",
       "    </tr>\n",
       "    <tr>\n",
       "      <th>3</th>\n",
       "      <td>Coal</td>\n",
       "      <td>AZ</td>\n",
       "      <td>7.593331e+08</td>\n",
       "    </tr>\n",
       "    <tr>\n",
       "      <th>4</th>\n",
       "      <td>Coal</td>\n",
       "      <td>CA</td>\n",
       "      <td>2.930336e+07</td>\n",
       "    </tr>\n",
       "  </tbody>\n",
       "</table>\n",
       "</div>"
      ],
      "text/plain": [
       "  ENERGY SOURCE STATE  GENERATION (Megawatthours)\n",
       "0          Coal    AK                1.357579e+07\n",
       "1          Coal    AL                1.144624e+09\n",
       "2          Coal    AR                5.420841e+08\n",
       "3          Coal    AZ                7.593331e+08\n",
       "4          Coal    CA                2.930336e+07"
      ]
     },
     "execution_count": 55,
     "metadata": {},
     "output_type": "execute_result"
    }
   ],
   "source": [
    "#Groupby energy source and then by state\n",
    "state_grouped=df.groupby(by=[\"ENERGY SOURCE\",\"STATE\"]).sum()[\"GENERATION (Megawatthours)\"].reset_index()\n",
    "state_grouped.head()"
   ]
  },
  {
   "cell_type": "code",
   "execution_count": 54,
   "id": "ddcb0a00",
   "metadata": {},
   "outputs": [
    {
     "data": {
      "application/vnd.plotly.v1+json": {
       "config": {
        "plotlyServerURL": "https://plot.ly"
       },
       "data": [
        {
         "alignmentgroup": "True",
         "hovertemplate": "ENERGY SOURCE=Coal<br>STATE=%{x}<br>GENERATION (Megawatthours)=%{y}<extra></extra>",
         "legendgroup": "Coal",
         "marker": {
          "color": "#636efa",
          "pattern": {
           "shape": ""
          }
         },
         "name": "Coal",
         "offsetgroup": "Coal",
         "orientation": "v",
         "showlegend": true,
         "textposition": "auto",
         "type": "bar",
         "x": [
          "AK",
          "AL",
          "AR",
          "AZ",
          "CA",
          "CO",
          "CT",
          "DE",
          "FL",
          "GA",
          "HI",
          "IA",
          "ID",
          "IL",
          "IN",
          "KS",
          "KY",
          "LA",
          "MA",
          "MD",
          "ME",
          "MI",
          "MN",
          "MO",
          "MS",
          "MT",
          "NC",
          "ND",
          "NE",
          "NH",
          "NJ",
          "NM",
          "NV",
          "NY",
          "OH",
          "OK",
          "OR",
          "PA",
          "RI",
          "SC",
          "SD",
          "TN",
          "TX",
          "UT",
          "VA",
          "WA",
          "WI",
          "WV",
          "WY"
         ],
         "xaxis": "x",
         "y": [
          13575792.65,
          1144623786.24,
          542084088.74,
          759333143.63,
          29303357.54,
          680222236.06,
          41147551.09,
          49301145.16,
          1048689727.56,
          1195924452.3,
          31185382.93,
          680715635.29,
          1443699.01,
          1646572846.75,
          2056471642.39,
          605546338.26,
          1643916955.99,
          392415062.93,
          125467591.69,
          413824867.76,
          4154706.8,
          1197526714.65,
          573402740.38,
          1476311805.53,
          239103206.33,
          327293097.64,
          1175295523.17,
          594144965.19,
          469554752.16,
          46293407.49,
          111863030.49,
          495168142.6,
          163423417.84,
          231020250.53,
          2084649628.51,
          576978729.7,
          62240432.52,
          1829251573.99,
          0,
          630058987.15,
          58821042.21,
          867586081.11,
          2826613068.26,
          682128286.83,
          478077438.36,
          149211375.22,
          783983445.0600001,
          1618465915.38,
          878133497.86
         ],
         "yaxis": "y"
        },
        {
         "alignmentgroup": "True",
         "hovertemplate": "ENERGY SOURCE=Geothermal<br>STATE=%{x}<br>GENERATION (Megawatthours)=%{y}<extra></extra>",
         "legendgroup": "Geothermal",
         "marker": {
          "color": "#EF553B",
          "pattern": {
           "shape": ""
          }
         },
         "name": "Geothermal",
         "offsetgroup": "Geothermal",
         "orientation": "v",
         "showlegend": true,
         "textposition": "auto",
         "type": "bar",
         "x": [
          "CA",
          "HI",
          "ID",
          "MN",
          "NM",
          "NV",
          "OR",
          "UT"
         ],
         "xaxis": "x",
         "y": [
          263547286.64,
          4123913,
          1074970.64,
          47758.020000000004,
          252450.86,
          50244587.2,
          1741994.81,
          6654351.28
         ],
         "yaxis": "y"
        },
        {
         "alignmentgroup": "True",
         "hovertemplate": "ENERGY SOURCE=Hydroelectric Conventional<br>STATE=%{x}<br>GENERATION (Megawatthours)=%{y}<extra></extra>",
         "legendgroup": "Hydroelectric Conventional",
         "marker": {
          "color": "#00cc96",
          "pattern": {
           "shape": ""
          }
         },
         "name": "Hydroelectric Conventional",
         "offsetgroup": "Hydroelectric Conventional",
         "orientation": "v",
         "showlegend": true,
         "textposition": "auto",
         "type": "bar",
         "x": [
          "AK",
          "AL",
          "AR",
          "AZ",
          "CA",
          "CO",
          "CT",
          "FL",
          "GA",
          "HI",
          "IA",
          "ID",
          "IL",
          "IN",
          "KS",
          "KY",
          "LA",
          "MA",
          "MD",
          "ME",
          "MI",
          "MN",
          "MO",
          "MT",
          "NC",
          "ND",
          "NE",
          "NH",
          "NJ",
          "NM",
          "NV",
          "NY",
          "OH",
          "OK",
          "OR",
          "PA",
          "RI",
          "SC",
          "SD",
          "TN",
          "TX",
          "UT",
          "VA",
          "VT",
          "WA",
          "WI",
          "WV",
          "WY"
         ],
         "xaxis": "x",
         "y": [
          32033605.81,
          208274456.08,
          70929723.84,
          145628121.07,
          630022072,
          35267298.7,
          8765410.69,
          4507718.13,
          69806302.43,
          2051805.31,
          19389113.02,
          204755723.83,
          2873312.58,
          8438656.86,
          383829.94,
          74652523.85,
          21628565,
          21084946.6,
          41500194.35,
          75061861.21,
          31811770.38,
          17680625.06,
          27912711.35,
          214131619.44,
          108032592.91,
          43283659,
          23572396.08,
          29416981.95,
          482249.07,
          4121708,
          44634917.41,
          570098738.31,
          9661752.18,
          51924279.12,
          723657215.54,
          58222621.62,
          94459.96,
          51646880.28,
          102669378.41,
          200366430.57,
          22395488.51,
          15788696.49,
          29774853.92,
          25769120.74,
          1628134117.03,
          45536674.9,
          31183805.14,
          19013434.88
         ],
         "yaxis": "y"
        },
        {
         "alignmentgroup": "True",
         "hovertemplate": "ENERGY SOURCE=Natural Gas<br>STATE=%{x}<br>GENERATION (Megawatthours)=%{y}<extra></extra>",
         "legendgroup": "Natural Gas",
         "marker": {
          "color": "#ab63fa",
          "pattern": {
           "shape": ""
          }
         },
         "name": "Natural Gas",
         "offsetgroup": "Natural Gas",
         "orientation": "v",
         "showlegend": true,
         "textposition": "auto",
         "type": "bar",
         "x": [
          "AK",
          "AL",
          "AR",
          "AZ",
          "CA",
          "CO",
          "CT",
          "DC",
          "DE",
          "FL",
          "GA",
          "HI",
          "IA",
          "ID",
          "IL",
          "IN",
          "KS",
          "KY",
          "LA",
          "MA",
          "MD",
          "ME",
          "MI",
          "MN",
          "MO",
          "MS",
          "MT",
          "NC",
          "ND",
          "NE",
          "NH",
          "NJ",
          "NM",
          "NV",
          "NY",
          "OH",
          "OK",
          "OR",
          "PA",
          "RI",
          "SC",
          "SD",
          "TN",
          "TX",
          "UT",
          "VA",
          "VT",
          "WA",
          "WI",
          "WV",
          "WY"
         ],
         "xaxis": "x",
         "y": [
          72484175.18,
          816255568.07,
          266161812.31,
          685844548.28,
          2190498096.38,
          267533386.29,
          296883673.43,
          776929.29,
          81142112.69,
          2718234312.87,
          675067459.57,
          0,
          60429586.84,
          50837974.57,
          219836712.65,
          264572550.17,
          45389406.64,
          109583727.13,
          1157731322.12,
          430982896.97,
          110433195.84,
          129266904.41,
          403520064.22,
          117576517.63,
          105062389.25,
          677172504.53,
          5903851.51,
          432258769.36,
          8525016.54,
          14542767.62,
          99073537.77,
          562080581.09,
          168983518.96,
          482622908.93,
          996228878.85,
          423823418.5,
          684565361.35,
          309961966.06,
          1021205582.85,
          146795633.47,
          257118645.65,
          10915598.09,
          127886433.05,
          4479738938.03,
          129091185.05,
          532215526.22,
          61548.82,
          213035479.06,
          210430786.61,
          17781587.15,
          14166750.67
         ],
         "yaxis": "y"
        },
        {
         "alignmentgroup": "True",
         "hovertemplate": "ENERGY SOURCE=Nuclear<br>STATE=%{x}<br>GENERATION (Megawatthours)=%{y}<extra></extra>",
         "legendgroup": "Nuclear",
         "marker": {
          "color": "#FFA15A",
          "pattern": {
           "shape": ""
          }
         },
         "name": "Nuclear",
         "offsetgroup": "Nuclear",
         "orientation": "v",
         "showlegend": true,
         "textposition": "auto",
         "type": "bar",
         "x": [
          "AL",
          "AR",
          "AZ",
          "CA",
          "CT",
          "FL",
          "GA",
          "IA",
          "IL",
          "KS",
          "LA",
          "MA",
          "MD",
          "MI",
          "MN",
          "MO",
          "MS",
          "NC",
          "NE",
          "NH",
          "NJ",
          "NY",
          "OH",
          "PA",
          "SC",
          "TN",
          "TX",
          "VA",
          "VT",
          "WA",
          "WI"
         ],
         "xaxis": "x",
         "y": [
          817414918,
          305966021,
          647189983,
          553445456,
          349136220,
          611440670,
          706392266,
          93138763,
          2054537211,
          194498095,
          353958825,
          98555949,
          307256632,
          645507128,
          281020434,
          190871767,
          203673365,
          874209012,
          180709441,
          209230176,
          667401221,
          885038803,
          340597214,
          1670087056,
          1132379035,
          624448544,
          848799020,
          603725806,
          65159442,
          183397676,
          241855155
         ],
         "yaxis": "y"
        },
        {
         "alignmentgroup": "True",
         "hovertemplate": "ENERGY SOURCE=Other<br>STATE=%{x}<br>GENERATION (Megawatthours)=%{y}<extra></extra>",
         "legendgroup": "Other",
         "marker": {
          "color": "#19d3f3",
          "pattern": {
           "shape": ""
          }
         },
         "name": "Other",
         "offsetgroup": "Other",
         "orientation": "v",
         "showlegend": true,
         "textposition": "auto",
         "type": "bar",
         "x": [
          "AK",
          "AL",
          "AR",
          "AZ",
          "CA",
          "CO",
          "CT",
          "DE",
          "FL",
          "GA",
          "HI",
          "IA",
          "ID",
          "IL",
          "IN",
          "KS",
          "KY",
          "LA",
          "MA",
          "MD",
          "ME",
          "MI",
          "MN",
          "MO",
          "MS",
          "MT",
          "NC",
          "ND",
          "NE",
          "NH",
          "NJ",
          "NM",
          "NV",
          "NY",
          "OH",
          "OK",
          "OR",
          "PA",
          "RI",
          "SC",
          "SD",
          "TN",
          "TX",
          "UT",
          "VA",
          "VT",
          "WA",
          "WI",
          "WV",
          "WY"
         ],
         "xaxis": "x",
         "y": [
          4865.160000000001,
          1594962.92,
          589539.54,
          2830348.98,
          13545220.4,
          825678.75,
          14478844.26,
          16818,
          66145934.13,
          1368131.25,
          5990368.48,
          83915,
          1400084,
          3975380.19,
          7893061.4,
          25516,
          614129.09,
          12950018.38,
          17850411.31,
          6406221.96,
          8008048.86,
          6622022.67,
          7181454.71,
          744501.72,
          87998.69,
          3962871,
          8453609.05,
          605416.5,
          58,
          1227091.62,
          11997821.37,
          2559.25,
          259653.76,
          19627266.3,
          329917.62,
          246751.81,
          873799.13,
          17443970.07,
          587380,
          1288854.01,
          61962,
          169813.18,
          13959643.52,
          2405413.06,
          9807565.71,
          671,
          1699450.45,
          1669094.77,
          -2236.25,
          1405473.6
         ],
         "yaxis": "y"
        },
        {
         "alignmentgroup": "True",
         "hovertemplate": "ENERGY SOURCE=Other Biomass<br>STATE=%{x}<br>GENERATION (Megawatthours)=%{y}<extra></extra>",
         "legendgroup": "Other Biomass",
         "marker": {
          "color": "#FF6692",
          "pattern": {
           "shape": ""
          }
         },
         "name": "Other Biomass",
         "offsetgroup": "Other Biomass",
         "orientation": "v",
         "showlegend": true,
         "textposition": "auto",
         "type": "bar",
         "x": [
          "AK",
          "AL",
          "AR",
          "AZ",
          "CA",
          "CO",
          "CT",
          "DC",
          "DE",
          "FL",
          "GA",
          "HI",
          "IA",
          "ID",
          "IL",
          "IN",
          "KS",
          "KY",
          "LA",
          "MA",
          "MD",
          "ME",
          "MI",
          "MN",
          "MO",
          "MS",
          "MT",
          "NC",
          "ND",
          "NE",
          "NH",
          "NJ",
          "NM",
          "NV",
          "NY",
          "OH",
          "OK",
          "OR",
          "PA",
          "RI",
          "SC",
          "SD",
          "TN",
          "TX",
          "UT",
          "VA",
          "VT",
          "WA",
          "WI",
          "WV"
         ],
         "xaxis": "x",
         "y": [
          492652.07,
          537102.67,
          1456999.28,
          853549.61,
          53803658.7,
          1269300.75,
          14305747.49,
          378471,
          1337563.87,
          49755752.03,
          4378909.52,
          6548156.03,
          3590023.57,
          1417681.39,
          12655122.58,
          6679787.38,
          743921.81,
          1784644.19,
          1598829.88,
          22972643.03,
          8317033.15,
          5007411.48,
          18373902.26,
          12562318.01,
          1154025.79,
          196742.19,
          28197,
          7204557.58,
          125222.74,
          1405886.23,
          3060022.39,
          18821081.63,
          369314.24,
          452429.06,
          32451513.9,
          5779246.58,
          1485500.99,
          4641341.45,
          33796514.58,
          3167725.57,
          2714499.72,
          10362,
          1406468.77,
          10330054.15,
          1040069.82,
          18653396.29,
          441670.58,
          4289185.74,
          10052340.06,
          73250.58
         ],
         "yaxis": "y"
        },
        {
         "alignmentgroup": "True",
         "hovertemplate": "ENERGY SOURCE=Other Gases<br>STATE=%{x}<br>GENERATION (Megawatthours)=%{y}<extra></extra>",
         "legendgroup": "Other Gases",
         "marker": {
          "color": "#B6E880",
          "pattern": {
           "shape": ""
          }
         },
         "name": "Other Gases",
         "offsetgroup": "Other Gases",
         "orientation": "v",
         "showlegend": true,
         "textposition": "auto",
         "type": "bar",
         "x": [
          "AK",
          "AL",
          "CA",
          "CO",
          "CT",
          "DE",
          "FL",
          "HI",
          "IL",
          "IN",
          "KY",
          "LA",
          "MA",
          "MD",
          "ME",
          "MI",
          "MN",
          "MO",
          "MS",
          "MT",
          "NC",
          "ND",
          "NE",
          "NH",
          "NJ",
          "NV",
          "NY",
          "OH",
          "OK",
          "OR",
          "PA",
          "SC",
          "TN",
          "TX",
          "UT",
          "VA",
          "WA",
          "WI",
          "WV",
          "WY"
         ],
         "xaxis": "x",
         "y": [
          5396.77,
          2707126.95,
          33971566.18,
          67024,
          29678,
          6023883.91,
          153043.33,
          754774.31,
          4833303.62,
          51544557.08,
          26084,
          38328641.59,
          0,
          3822572.74,
          173,
          15507472.71,
          76475,
          31032,
          283493,
          202826.18,
          1871,
          941883.01,
          455,
          0,
          3700683.67,
          141431.67,
          116217,
          11183422.25,
          251586,
          0,
          11519757.21,
          6266,
          270900.31,
          65866597.9,
          254651.94,
          2959,
          6684826.55,
          19,
          1299878.66,
          5583188.66
         ],
         "yaxis": "y"
        },
        {
         "alignmentgroup": "True",
         "hovertemplate": "ENERGY SOURCE=Petroleum<br>STATE=%{x}<br>GENERATION (Megawatthours)=%{y}<extra></extra>",
         "legendgroup": "Petroleum",
         "marker": {
          "color": "#FF97FF",
          "pattern": {
           "shape": ""
          }
         },
         "name": "Petroleum",
         "offsetgroup": "Petroleum",
         "orientation": "v",
         "showlegend": true,
         "textposition": "auto",
         "type": "bar",
         "x": [
          "AK",
          "AL",
          "AR",
          "AZ",
          "CA",
          "CO",
          "CT",
          "DC",
          "DE",
          "FL",
          "GA",
          "HI",
          "IA",
          "ID",
          "IL",
          "IN",
          "KS",
          "KY",
          "LA",
          "MA",
          "MD",
          "ME",
          "MI",
          "MN",
          "MO",
          "MS",
          "MT",
          "NC",
          "ND",
          "NE",
          "NH",
          "NJ",
          "NM",
          "NV",
          "NY",
          "OH",
          "OK",
          "OR",
          "PA",
          "RI",
          "SC",
          "SD",
          "TN",
          "TX",
          "UT",
          "VA",
          "VT",
          "WA",
          "WI",
          "WV",
          "WY"
         ],
         "xaxis": "x",
         "y": [
          19088571.23,
          3387558.58,
          3039312.07,
          1368639.69,
          23183337.74,
          294089.01,
          20624924.04,
          1326540,
          8357842.54,
          281896019.48,
          12876960.63,
          165326036.12,
          3063621.34,
          5596.2,
          5249673.46,
          10829824.39,
          5198027.55,
          35735896.93,
          74926635.14,
          50459279.17,
          20660676.01,
          12904549.17,
          16705888.05,
          5358454.87,
          3179442.01,
          12187678.11,
          9701412.51,
          8184897.6899999995,
          811247.75,
          509525.79,
          9179451.74,
          9733616.85,
          1084672.82,
          1284314.37,
          128646114.9,
          24568231.99,
          999664.48,
          412301.64,
          29869188.16,
          906422.03,
          5548528.77,
          319480.07,
          4075696.4,
          21489551.88,
          845532.66,
          37320532.2,
          173115.31,
          1081163.25,
          9806150.5,
          3821877.27,
          990456.31
         ],
         "yaxis": "y"
        },
        {
         "alignmentgroup": "True",
         "hovertemplate": "ENERGY SOURCE=Pumped Storage<br>STATE=%{x}<br>GENERATION (Megawatthours)=%{y}<extra></extra>",
         "legendgroup": "Pumped Storage",
         "marker": {
          "color": "#FECB52",
          "pattern": {
           "shape": ""
          }
         },
         "name": "Pumped Storage",
         "offsetgroup": "Pumped Storage",
         "orientation": "v",
         "showlegend": true,
         "textposition": "auto",
         "type": "bar",
         "x": [
          "AR",
          "AZ",
          "CA",
          "CO",
          "CT",
          "GA",
          "MA",
          "MI",
          "MO",
          "NC",
          "NJ",
          "NY",
          "OK",
          "PA",
          "SC",
          "TN",
          "VA",
          "WA"
         ],
         "xaxis": "x",
         "y": [
          788922,
          1951245,
          -1382482.99,
          -4385708,
          26915,
          -11349379,
          -10959970,
          -18752908,
          3601515,
          637658,
          -4032457,
          -12140839,
          -2821693,
          -12843100,
          -20984372,
          -13029609,
          -29341611,
          428686
         ],
         "yaxis": "y"
        },
        {
         "alignmentgroup": "True",
         "hovertemplate": "ENERGY SOURCE=Solar Thermal and Photovoltaic<br>STATE=%{x}<br>GENERATION (Megawatthours)=%{y}<extra></extra>",
         "legendgroup": "Solar Thermal and Photovoltaic",
         "marker": {
          "color": "#636efa",
          "pattern": {
           "shape": ""
          }
         },
         "name": "Solar Thermal and Photovoltaic",
         "offsetgroup": "Solar Thermal and Photovoltaic",
         "orientation": "v",
         "showlegend": true,
         "textposition": "auto",
         "type": "bar",
         "x": [
          "AK",
          "AL",
          "AR",
          "AZ",
          "CA",
          "CO",
          "CT",
          "DC",
          "DE",
          "FL",
          "GA",
          "HI",
          "IA",
          "ID",
          "IL",
          "IN",
          "KS",
          "KY",
          "LA",
          "MA",
          "MD",
          "ME",
          "MI",
          "MN",
          "MO",
          "MS",
          "MT",
          "NC",
          "NE",
          "NH",
          "NJ",
          "NM",
          "NV",
          "NY",
          "OH",
          "OK",
          "OR",
          "PA",
          "RI",
          "SC",
          "SD",
          "TN",
          "TX",
          "UT",
          "VA",
          "VT",
          "WA",
          "WI",
          "WY"
         ],
         "xaxis": "x",
         "y": [
          634,
          2193804,
          1494592,
          44396703.18,
          215180003.19,
          9164663.86,
          1013919.28,
          59885,
          528484.4,
          28920448.59,
          18750977.54,
          2069875.23,
          394266,
          2943765,
          1588340.3900000001,
          2937690.02,
          170642,
          221622,
          280569,
          8584792.16,
          3176422.79,
          391372,
          1283993,
          7281259.01,
          589034.83,
          1802074,
          155116,
          47761572.84,
          214543,
          9482,
          9577848.88,
          10987134.62,
          37499223.74,
          4194605.67,
          1830804.05,
          346968,
          4809098.76,
          1092933.72,
          858426.45,
          6466914.14,
          10866,
          1703579.76,
          42453185.39,
          15325734.46,
          8600528,
          969530.72,
          169200,
          893072,
          600681
         ],
         "yaxis": "y"
        },
        {
         "alignmentgroup": "True",
         "hovertemplate": "ENERGY SOURCE=Wind<br>STATE=%{x}<br>GENERATION (Megawatthours)=%{y}<extra></extra>",
         "legendgroup": "Wind",
         "marker": {
          "color": "#EF553B",
          "pattern": {
           "shape": ""
          }
         },
         "name": "Wind",
         "offsetgroup": "Wind",
         "orientation": "v",
         "showlegend": true,
         "textposition": "auto",
         "type": "bar",
         "x": [
          "AK",
          "AZ",
          "CA",
          "CO",
          "CT",
          "DE",
          "HI",
          "IA",
          "ID",
          "IL",
          "IN",
          "KS",
          "MA",
          "MD",
          "ME",
          "MI",
          "MN",
          "MO",
          "MT",
          "NC",
          "ND",
          "NE",
          "NH",
          "NJ",
          "NM",
          "NV",
          "NY",
          "OH",
          "OK",
          "OR",
          "PA",
          "RI",
          "SD",
          "TN",
          "TX",
          "UT",
          "VA",
          "VT",
          "WA",
          "WI",
          "WV",
          "WY"
         ],
         "xaxis": "x",
         "y": [
          1461976.87,
          7549967.12,
          194721806.08,
          121919874.87,
          81069,
          58923.68,
          7315969.53,
          285489450.37,
          29145007.58,
          150649782.03,
          63314758.37,
          188395858.58,
          2267577.36,
          5171536.12,
          21231105.23,
          53949349.17,
          140065523.69,
          29878844.8,
          27948358.91,
          2889521,
          116542335.71,
          57950935.34,
          4600112.81,
          296230.34,
          66018543.75,
          3138455,
          53061837.64,
          17923274.56,
          245255810.44,
          97107212.51,
          42487498.31,
          1059658.67,
          48149016.42,
          767572,
          805310737.3,
          8980920.32,
          76272,
          3385394.45,
          104858123.63,
          21718519.49,
          20521926.31,
          68075083.01
         ],
         "yaxis": "y"
        },
        {
         "alignmentgroup": "True",
         "hovertemplate": "ENERGY SOURCE=Wood and Wood Derived Fuels<br>STATE=%{x}<br>GENERATION (Megawatthours)=%{y}<extra></extra>",
         "legendgroup": "Wood and Wood Derived Fuels",
         "marker": {
          "color": "#00cc96",
          "pattern": {
           "shape": ""
          }
         },
         "name": "Wood and Wood Derived Fuels",
         "offsetgroup": "Wood and Wood Derived Fuels",
         "orientation": "v",
         "showlegend": true,
         "textposition": "auto",
         "type": "bar",
         "x": [
          "AK",
          "AL",
          "AR",
          "AZ",
          "CA",
          "CO",
          "CT",
          "FL",
          "GA",
          "HI",
          "IA",
          "ID",
          "IL",
          "IN",
          "KY",
          "LA",
          "MA",
          "MD",
          "ME",
          "MI",
          "MN",
          "MO",
          "MS",
          "MT",
          "NC",
          "NE",
          "NH",
          "NV",
          "NY",
          "OH",
          "OK",
          "OR",
          "PA",
          "SC",
          "SD",
          "TN",
          "TX",
          "VA",
          "VT",
          "WA",
          "WI",
          "WV"
         ],
         "xaxis": "x",
         "y": [
          3099,
          71329402.25,
          30902335.88,
          2332864.61,
          74741177.78,
          589039.92,
          2065185.33,
          45046042.9,
          83233228.43,
          9,
          29532,
          9872828.01,
          1748.25,
          0,
          6527814.22,
          54981744.55,
          2988395.64,
          2942844.84,
          66420849.46,
          34183653.64,
          18211581.31,
          371126.19,
          30285619.14,
          999771,
          39685348.41,
          0,
          21680299.72,
          889,
          11256755.47,
          7129736.41,
          4939631.25,
          14262307.17,
          12252469.49,
          39205932.2,
          26318,
          17316046.37,
          19982310.5,
          44182384.6,
          8808988.18,
          29883851.77,
          18079701.6,
          1573.39
         ],
         "yaxis": "y"
        }
       ],
       "layout": {
        "barmode": "relative",
        "legend": {
         "title": {
          "text": "ENERGY SOURCE"
         },
         "tracegroupgap": 0
        },
        "template": {
         "data": {
          "bar": [
           {
            "error_x": {
             "color": "#2a3f5f"
            },
            "error_y": {
             "color": "#2a3f5f"
            },
            "marker": {
             "line": {
              "color": "#E5ECF6",
              "width": 0.5
             },
             "pattern": {
              "fillmode": "overlay",
              "size": 10,
              "solidity": 0.2
             }
            },
            "type": "bar"
           }
          ],
          "barpolar": [
           {
            "marker": {
             "line": {
              "color": "#E5ECF6",
              "width": 0.5
             },
             "pattern": {
              "fillmode": "overlay",
              "size": 10,
              "solidity": 0.2
             }
            },
            "type": "barpolar"
           }
          ],
          "carpet": [
           {
            "aaxis": {
             "endlinecolor": "#2a3f5f",
             "gridcolor": "white",
             "linecolor": "white",
             "minorgridcolor": "white",
             "startlinecolor": "#2a3f5f"
            },
            "baxis": {
             "endlinecolor": "#2a3f5f",
             "gridcolor": "white",
             "linecolor": "white",
             "minorgridcolor": "white",
             "startlinecolor": "#2a3f5f"
            },
            "type": "carpet"
           }
          ],
          "choropleth": [
           {
            "colorbar": {
             "outlinewidth": 0,
             "ticks": ""
            },
            "type": "choropleth"
           }
          ],
          "contour": [
           {
            "colorbar": {
             "outlinewidth": 0,
             "ticks": ""
            },
            "colorscale": [
             [
              0,
              "#0d0887"
             ],
             [
              0.1111111111111111,
              "#46039f"
             ],
             [
              0.2222222222222222,
              "#7201a8"
             ],
             [
              0.3333333333333333,
              "#9c179e"
             ],
             [
              0.4444444444444444,
              "#bd3786"
             ],
             [
              0.5555555555555556,
              "#d8576b"
             ],
             [
              0.6666666666666666,
              "#ed7953"
             ],
             [
              0.7777777777777778,
              "#fb9f3a"
             ],
             [
              0.8888888888888888,
              "#fdca26"
             ],
             [
              1,
              "#f0f921"
             ]
            ],
            "type": "contour"
           }
          ],
          "contourcarpet": [
           {
            "colorbar": {
             "outlinewidth": 0,
             "ticks": ""
            },
            "type": "contourcarpet"
           }
          ],
          "heatmap": [
           {
            "colorbar": {
             "outlinewidth": 0,
             "ticks": ""
            },
            "colorscale": [
             [
              0,
              "#0d0887"
             ],
             [
              0.1111111111111111,
              "#46039f"
             ],
             [
              0.2222222222222222,
              "#7201a8"
             ],
             [
              0.3333333333333333,
              "#9c179e"
             ],
             [
              0.4444444444444444,
              "#bd3786"
             ],
             [
              0.5555555555555556,
              "#d8576b"
             ],
             [
              0.6666666666666666,
              "#ed7953"
             ],
             [
              0.7777777777777778,
              "#fb9f3a"
             ],
             [
              0.8888888888888888,
              "#fdca26"
             ],
             [
              1,
              "#f0f921"
             ]
            ],
            "type": "heatmap"
           }
          ],
          "heatmapgl": [
           {
            "colorbar": {
             "outlinewidth": 0,
             "ticks": ""
            },
            "colorscale": [
             [
              0,
              "#0d0887"
             ],
             [
              0.1111111111111111,
              "#46039f"
             ],
             [
              0.2222222222222222,
              "#7201a8"
             ],
             [
              0.3333333333333333,
              "#9c179e"
             ],
             [
              0.4444444444444444,
              "#bd3786"
             ],
             [
              0.5555555555555556,
              "#d8576b"
             ],
             [
              0.6666666666666666,
              "#ed7953"
             ],
             [
              0.7777777777777778,
              "#fb9f3a"
             ],
             [
              0.8888888888888888,
              "#fdca26"
             ],
             [
              1,
              "#f0f921"
             ]
            ],
            "type": "heatmapgl"
           }
          ],
          "histogram": [
           {
            "marker": {
             "pattern": {
              "fillmode": "overlay",
              "size": 10,
              "solidity": 0.2
             }
            },
            "type": "histogram"
           }
          ],
          "histogram2d": [
           {
            "colorbar": {
             "outlinewidth": 0,
             "ticks": ""
            },
            "colorscale": [
             [
              0,
              "#0d0887"
             ],
             [
              0.1111111111111111,
              "#46039f"
             ],
             [
              0.2222222222222222,
              "#7201a8"
             ],
             [
              0.3333333333333333,
              "#9c179e"
             ],
             [
              0.4444444444444444,
              "#bd3786"
             ],
             [
              0.5555555555555556,
              "#d8576b"
             ],
             [
              0.6666666666666666,
              "#ed7953"
             ],
             [
              0.7777777777777778,
              "#fb9f3a"
             ],
             [
              0.8888888888888888,
              "#fdca26"
             ],
             [
              1,
              "#f0f921"
             ]
            ],
            "type": "histogram2d"
           }
          ],
          "histogram2dcontour": [
           {
            "colorbar": {
             "outlinewidth": 0,
             "ticks": ""
            },
            "colorscale": [
             [
              0,
              "#0d0887"
             ],
             [
              0.1111111111111111,
              "#46039f"
             ],
             [
              0.2222222222222222,
              "#7201a8"
             ],
             [
              0.3333333333333333,
              "#9c179e"
             ],
             [
              0.4444444444444444,
              "#bd3786"
             ],
             [
              0.5555555555555556,
              "#d8576b"
             ],
             [
              0.6666666666666666,
              "#ed7953"
             ],
             [
              0.7777777777777778,
              "#fb9f3a"
             ],
             [
              0.8888888888888888,
              "#fdca26"
             ],
             [
              1,
              "#f0f921"
             ]
            ],
            "type": "histogram2dcontour"
           }
          ],
          "mesh3d": [
           {
            "colorbar": {
             "outlinewidth": 0,
             "ticks": ""
            },
            "type": "mesh3d"
           }
          ],
          "parcoords": [
           {
            "line": {
             "colorbar": {
              "outlinewidth": 0,
              "ticks": ""
             }
            },
            "type": "parcoords"
           }
          ],
          "pie": [
           {
            "automargin": true,
            "type": "pie"
           }
          ],
          "scatter": [
           {
            "marker": {
             "colorbar": {
              "outlinewidth": 0,
              "ticks": ""
             }
            },
            "type": "scatter"
           }
          ],
          "scatter3d": [
           {
            "line": {
             "colorbar": {
              "outlinewidth": 0,
              "ticks": ""
             }
            },
            "marker": {
             "colorbar": {
              "outlinewidth": 0,
              "ticks": ""
             }
            },
            "type": "scatter3d"
           }
          ],
          "scattercarpet": [
           {
            "marker": {
             "colorbar": {
              "outlinewidth": 0,
              "ticks": ""
             }
            },
            "type": "scattercarpet"
           }
          ],
          "scattergeo": [
           {
            "marker": {
             "colorbar": {
              "outlinewidth": 0,
              "ticks": ""
             }
            },
            "type": "scattergeo"
           }
          ],
          "scattergl": [
           {
            "marker": {
             "colorbar": {
              "outlinewidth": 0,
              "ticks": ""
             }
            },
            "type": "scattergl"
           }
          ],
          "scattermapbox": [
           {
            "marker": {
             "colorbar": {
              "outlinewidth": 0,
              "ticks": ""
             }
            },
            "type": "scattermapbox"
           }
          ],
          "scatterpolar": [
           {
            "marker": {
             "colorbar": {
              "outlinewidth": 0,
              "ticks": ""
             }
            },
            "type": "scatterpolar"
           }
          ],
          "scatterpolargl": [
           {
            "marker": {
             "colorbar": {
              "outlinewidth": 0,
              "ticks": ""
             }
            },
            "type": "scatterpolargl"
           }
          ],
          "scatterternary": [
           {
            "marker": {
             "colorbar": {
              "outlinewidth": 0,
              "ticks": ""
             }
            },
            "type": "scatterternary"
           }
          ],
          "surface": [
           {
            "colorbar": {
             "outlinewidth": 0,
             "ticks": ""
            },
            "colorscale": [
             [
              0,
              "#0d0887"
             ],
             [
              0.1111111111111111,
              "#46039f"
             ],
             [
              0.2222222222222222,
              "#7201a8"
             ],
             [
              0.3333333333333333,
              "#9c179e"
             ],
             [
              0.4444444444444444,
              "#bd3786"
             ],
             [
              0.5555555555555556,
              "#d8576b"
             ],
             [
              0.6666666666666666,
              "#ed7953"
             ],
             [
              0.7777777777777778,
              "#fb9f3a"
             ],
             [
              0.8888888888888888,
              "#fdca26"
             ],
             [
              1,
              "#f0f921"
             ]
            ],
            "type": "surface"
           }
          ],
          "table": [
           {
            "cells": {
             "fill": {
              "color": "#EBF0F8"
             },
             "line": {
              "color": "white"
             }
            },
            "header": {
             "fill": {
              "color": "#C8D4E3"
             },
             "line": {
              "color": "white"
             }
            },
            "type": "table"
           }
          ]
         },
         "layout": {
          "annotationdefaults": {
           "arrowcolor": "#2a3f5f",
           "arrowhead": 0,
           "arrowwidth": 1
          },
          "autotypenumbers": "strict",
          "coloraxis": {
           "colorbar": {
            "outlinewidth": 0,
            "ticks": ""
           }
          },
          "colorscale": {
           "diverging": [
            [
             0,
             "#8e0152"
            ],
            [
             0.1,
             "#c51b7d"
            ],
            [
             0.2,
             "#de77ae"
            ],
            [
             0.3,
             "#f1b6da"
            ],
            [
             0.4,
             "#fde0ef"
            ],
            [
             0.5,
             "#f7f7f7"
            ],
            [
             0.6,
             "#e6f5d0"
            ],
            [
             0.7,
             "#b8e186"
            ],
            [
             0.8,
             "#7fbc41"
            ],
            [
             0.9,
             "#4d9221"
            ],
            [
             1,
             "#276419"
            ]
           ],
           "sequential": [
            [
             0,
             "#0d0887"
            ],
            [
             0.1111111111111111,
             "#46039f"
            ],
            [
             0.2222222222222222,
             "#7201a8"
            ],
            [
             0.3333333333333333,
             "#9c179e"
            ],
            [
             0.4444444444444444,
             "#bd3786"
            ],
            [
             0.5555555555555556,
             "#d8576b"
            ],
            [
             0.6666666666666666,
             "#ed7953"
            ],
            [
             0.7777777777777778,
             "#fb9f3a"
            ],
            [
             0.8888888888888888,
             "#fdca26"
            ],
            [
             1,
             "#f0f921"
            ]
           ],
           "sequentialminus": [
            [
             0,
             "#0d0887"
            ],
            [
             0.1111111111111111,
             "#46039f"
            ],
            [
             0.2222222222222222,
             "#7201a8"
            ],
            [
             0.3333333333333333,
             "#9c179e"
            ],
            [
             0.4444444444444444,
             "#bd3786"
            ],
            [
             0.5555555555555556,
             "#d8576b"
            ],
            [
             0.6666666666666666,
             "#ed7953"
            ],
            [
             0.7777777777777778,
             "#fb9f3a"
            ],
            [
             0.8888888888888888,
             "#fdca26"
            ],
            [
             1,
             "#f0f921"
            ]
           ]
          },
          "colorway": [
           "#636efa",
           "#EF553B",
           "#00cc96",
           "#ab63fa",
           "#FFA15A",
           "#19d3f3",
           "#FF6692",
           "#B6E880",
           "#FF97FF",
           "#FECB52"
          ],
          "font": {
           "color": "#2a3f5f"
          },
          "geo": {
           "bgcolor": "white",
           "lakecolor": "white",
           "landcolor": "#E5ECF6",
           "showlakes": true,
           "showland": true,
           "subunitcolor": "white"
          },
          "hoverlabel": {
           "align": "left"
          },
          "hovermode": "closest",
          "mapbox": {
           "style": "light"
          },
          "paper_bgcolor": "white",
          "plot_bgcolor": "#E5ECF6",
          "polar": {
           "angularaxis": {
            "gridcolor": "white",
            "linecolor": "white",
            "ticks": ""
           },
           "bgcolor": "#E5ECF6",
           "radialaxis": {
            "gridcolor": "white",
            "linecolor": "white",
            "ticks": ""
           }
          },
          "scene": {
           "xaxis": {
            "backgroundcolor": "#E5ECF6",
            "gridcolor": "white",
            "gridwidth": 2,
            "linecolor": "white",
            "showbackground": true,
            "ticks": "",
            "zerolinecolor": "white"
           },
           "yaxis": {
            "backgroundcolor": "#E5ECF6",
            "gridcolor": "white",
            "gridwidth": 2,
            "linecolor": "white",
            "showbackground": true,
            "ticks": "",
            "zerolinecolor": "white"
           },
           "zaxis": {
            "backgroundcolor": "#E5ECF6",
            "gridcolor": "white",
            "gridwidth": 2,
            "linecolor": "white",
            "showbackground": true,
            "ticks": "",
            "zerolinecolor": "white"
           }
          },
          "shapedefaults": {
           "line": {
            "color": "#2a3f5f"
           }
          },
          "ternary": {
           "aaxis": {
            "gridcolor": "white",
            "linecolor": "white",
            "ticks": ""
           },
           "baxis": {
            "gridcolor": "white",
            "linecolor": "white",
            "ticks": ""
           },
           "bgcolor": "#E5ECF6",
           "caxis": {
            "gridcolor": "white",
            "linecolor": "white",
            "ticks": ""
           }
          },
          "title": {
           "x": 0.05
          },
          "xaxis": {
           "automargin": true,
           "gridcolor": "white",
           "linecolor": "white",
           "ticks": "",
           "title": {
            "standoff": 15
           },
           "zerolinecolor": "white",
           "zerolinewidth": 2
          },
          "yaxis": {
           "automargin": true,
           "gridcolor": "white",
           "linecolor": "white",
           "ticks": "",
           "title": {
            "standoff": 15
           },
           "zerolinecolor": "white",
           "zerolinewidth": 2
          }
         }
        },
        "title": {
         "text": "Energy Generated by State"
        },
        "xaxis": {
         "anchor": "y",
         "domain": [
          0,
          1
         ],
         "title": {
          "text": "STATE"
         }
        },
        "yaxis": {
         "anchor": "x",
         "domain": [
          0,
          1
         ],
         "title": {
          "text": "GENERATION (Megawatthours)"
         }
        }
       }
      },
      "text/html": [
       "<div>                            <div id=\"0dd946b1-af14-4ca2-870b-5a559ee5928b\" class=\"plotly-graph-div\" style=\"height:525px; width:100%;\"></div>            <script type=\"text/javascript\">                require([\"plotly\"], function(Plotly) {                    window.PLOTLYENV=window.PLOTLYENV || {};                                    if (document.getElementById(\"0dd946b1-af14-4ca2-870b-5a559ee5928b\")) {                    Plotly.newPlot(                        \"0dd946b1-af14-4ca2-870b-5a559ee5928b\",                        [{\"alignmentgroup\":\"True\",\"hovertemplate\":\"ENERGY SOURCE=Coal<br>STATE=%{x}<br>GENERATION (Megawatthours)=%{y}<extra></extra>\",\"legendgroup\":\"Coal\",\"marker\":{\"color\":\"#636efa\",\"pattern\":{\"shape\":\"\"}},\"name\":\"Coal\",\"offsetgroup\":\"Coal\",\"orientation\":\"v\",\"showlegend\":true,\"textposition\":\"auto\",\"x\":[\"AK\",\"AL\",\"AR\",\"AZ\",\"CA\",\"CO\",\"CT\",\"DE\",\"FL\",\"GA\",\"HI\",\"IA\",\"ID\",\"IL\",\"IN\",\"KS\",\"KY\",\"LA\",\"MA\",\"MD\",\"ME\",\"MI\",\"MN\",\"MO\",\"MS\",\"MT\",\"NC\",\"ND\",\"NE\",\"NH\",\"NJ\",\"NM\",\"NV\",\"NY\",\"OH\",\"OK\",\"OR\",\"PA\",\"RI\",\"SC\",\"SD\",\"TN\",\"TX\",\"UT\",\"VA\",\"WA\",\"WI\",\"WV\",\"WY\"],\"xaxis\":\"x\",\"y\":[13575792.65,1144623786.24,542084088.74,759333143.63,29303357.54,680222236.06,41147551.09,49301145.16,1048689727.56,1195924452.3,31185382.93,680715635.29,1443699.01,1646572846.75,2056471642.39,605546338.26,1643916955.99,392415062.93,125467591.69,413824867.76,4154706.8,1197526714.65,573402740.38,1476311805.53,239103206.33,327293097.64,1175295523.17,594144965.19,469554752.16,46293407.49,111863030.49,495168142.6,163423417.84,231020250.53,2084649628.51,576978729.7,62240432.52,1829251573.99,0.0,630058987.15,58821042.21,867586081.11,2826613068.26,682128286.83,478077438.36,149211375.22,783983445.0600001,1618465915.38,878133497.86],\"yaxis\":\"y\",\"type\":\"bar\"},{\"alignmentgroup\":\"True\",\"hovertemplate\":\"ENERGY SOURCE=Geothermal<br>STATE=%{x}<br>GENERATION (Megawatthours)=%{y}<extra></extra>\",\"legendgroup\":\"Geothermal\",\"marker\":{\"color\":\"#EF553B\",\"pattern\":{\"shape\":\"\"}},\"name\":\"Geothermal\",\"offsetgroup\":\"Geothermal\",\"orientation\":\"v\",\"showlegend\":true,\"textposition\":\"auto\",\"x\":[\"CA\",\"HI\",\"ID\",\"MN\",\"NM\",\"NV\",\"OR\",\"UT\"],\"xaxis\":\"x\",\"y\":[263547286.64,4123913.0,1074970.64,47758.020000000004,252450.86,50244587.2,1741994.81,6654351.28],\"yaxis\":\"y\",\"type\":\"bar\"},{\"alignmentgroup\":\"True\",\"hovertemplate\":\"ENERGY SOURCE=Hydroelectric Conventional<br>STATE=%{x}<br>GENERATION (Megawatthours)=%{y}<extra></extra>\",\"legendgroup\":\"Hydroelectric Conventional\",\"marker\":{\"color\":\"#00cc96\",\"pattern\":{\"shape\":\"\"}},\"name\":\"Hydroelectric Conventional\",\"offsetgroup\":\"Hydroelectric Conventional\",\"orientation\":\"v\",\"showlegend\":true,\"textposition\":\"auto\",\"x\":[\"AK\",\"AL\",\"AR\",\"AZ\",\"CA\",\"CO\",\"CT\",\"FL\",\"GA\",\"HI\",\"IA\",\"ID\",\"IL\",\"IN\",\"KS\",\"KY\",\"LA\",\"MA\",\"MD\",\"ME\",\"MI\",\"MN\",\"MO\",\"MT\",\"NC\",\"ND\",\"NE\",\"NH\",\"NJ\",\"NM\",\"NV\",\"NY\",\"OH\",\"OK\",\"OR\",\"PA\",\"RI\",\"SC\",\"SD\",\"TN\",\"TX\",\"UT\",\"VA\",\"VT\",\"WA\",\"WI\",\"WV\",\"WY\"],\"xaxis\":\"x\",\"y\":[32033605.81,208274456.08,70929723.84,145628121.07,630022072.0,35267298.7,8765410.69,4507718.13,69806302.43,2051805.31,19389113.02,204755723.83,2873312.58,8438656.86,383829.94,74652523.85,21628565.0,21084946.6,41500194.35,75061861.21,31811770.38,17680625.06,27912711.35,214131619.44,108032592.91,43283659.0,23572396.08,29416981.95,482249.07,4121708.0,44634917.41,570098738.31,9661752.18,51924279.12,723657215.54,58222621.62,94459.96,51646880.28,102669378.41,200366430.57,22395488.51,15788696.49,29774853.92,25769120.74,1628134117.03,45536674.9,31183805.14,19013434.88],\"yaxis\":\"y\",\"type\":\"bar\"},{\"alignmentgroup\":\"True\",\"hovertemplate\":\"ENERGY SOURCE=Natural Gas<br>STATE=%{x}<br>GENERATION (Megawatthours)=%{y}<extra></extra>\",\"legendgroup\":\"Natural Gas\",\"marker\":{\"color\":\"#ab63fa\",\"pattern\":{\"shape\":\"\"}},\"name\":\"Natural Gas\",\"offsetgroup\":\"Natural Gas\",\"orientation\":\"v\",\"showlegend\":true,\"textposition\":\"auto\",\"x\":[\"AK\",\"AL\",\"AR\",\"AZ\",\"CA\",\"CO\",\"CT\",\"DC\",\"DE\",\"FL\",\"GA\",\"HI\",\"IA\",\"ID\",\"IL\",\"IN\",\"KS\",\"KY\",\"LA\",\"MA\",\"MD\",\"ME\",\"MI\",\"MN\",\"MO\",\"MS\",\"MT\",\"NC\",\"ND\",\"NE\",\"NH\",\"NJ\",\"NM\",\"NV\",\"NY\",\"OH\",\"OK\",\"OR\",\"PA\",\"RI\",\"SC\",\"SD\",\"TN\",\"TX\",\"UT\",\"VA\",\"VT\",\"WA\",\"WI\",\"WV\",\"WY\"],\"xaxis\":\"x\",\"y\":[72484175.18,816255568.07,266161812.31,685844548.28,2190498096.38,267533386.29,296883673.43,776929.29,81142112.69,2718234312.87,675067459.57,0.0,60429586.84,50837974.57,219836712.65,264572550.17,45389406.64,109583727.13,1157731322.12,430982896.97,110433195.84,129266904.41,403520064.22,117576517.63,105062389.25,677172504.53,5903851.51,432258769.36,8525016.54,14542767.62,99073537.77,562080581.09,168983518.96,482622908.93,996228878.85,423823418.5,684565361.35,309961966.06,1021205582.85,146795633.47,257118645.65,10915598.09,127886433.05,4479738938.03,129091185.05,532215526.22,61548.82,213035479.06,210430786.61,17781587.15,14166750.67],\"yaxis\":\"y\",\"type\":\"bar\"},{\"alignmentgroup\":\"True\",\"hovertemplate\":\"ENERGY SOURCE=Nuclear<br>STATE=%{x}<br>GENERATION (Megawatthours)=%{y}<extra></extra>\",\"legendgroup\":\"Nuclear\",\"marker\":{\"color\":\"#FFA15A\",\"pattern\":{\"shape\":\"\"}},\"name\":\"Nuclear\",\"offsetgroup\":\"Nuclear\",\"orientation\":\"v\",\"showlegend\":true,\"textposition\":\"auto\",\"x\":[\"AL\",\"AR\",\"AZ\",\"CA\",\"CT\",\"FL\",\"GA\",\"IA\",\"IL\",\"KS\",\"LA\",\"MA\",\"MD\",\"MI\",\"MN\",\"MO\",\"MS\",\"NC\",\"NE\",\"NH\",\"NJ\",\"NY\",\"OH\",\"PA\",\"SC\",\"TN\",\"TX\",\"VA\",\"VT\",\"WA\",\"WI\"],\"xaxis\":\"x\",\"y\":[817414918.0,305966021.0,647189983.0,553445456.0,349136220.0,611440670.0,706392266.0,93138763.0,2054537211.0,194498095.0,353958825.0,98555949.0,307256632.0,645507128.0,281020434.0,190871767.0,203673365.0,874209012.0,180709441.0,209230176.0,667401221.0,885038803.0,340597214.0,1670087056.0,1132379035.0,624448544.0,848799020.0,603725806.0,65159442.0,183397676.0,241855155.0],\"yaxis\":\"y\",\"type\":\"bar\"},{\"alignmentgroup\":\"True\",\"hovertemplate\":\"ENERGY SOURCE=Other<br>STATE=%{x}<br>GENERATION (Megawatthours)=%{y}<extra></extra>\",\"legendgroup\":\"Other\",\"marker\":{\"color\":\"#19d3f3\",\"pattern\":{\"shape\":\"\"}},\"name\":\"Other\",\"offsetgroup\":\"Other\",\"orientation\":\"v\",\"showlegend\":true,\"textposition\":\"auto\",\"x\":[\"AK\",\"AL\",\"AR\",\"AZ\",\"CA\",\"CO\",\"CT\",\"DE\",\"FL\",\"GA\",\"HI\",\"IA\",\"ID\",\"IL\",\"IN\",\"KS\",\"KY\",\"LA\",\"MA\",\"MD\",\"ME\",\"MI\",\"MN\",\"MO\",\"MS\",\"MT\",\"NC\",\"ND\",\"NE\",\"NH\",\"NJ\",\"NM\",\"NV\",\"NY\",\"OH\",\"OK\",\"OR\",\"PA\",\"RI\",\"SC\",\"SD\",\"TN\",\"TX\",\"UT\",\"VA\",\"VT\",\"WA\",\"WI\",\"WV\",\"WY\"],\"xaxis\":\"x\",\"y\":[4865.160000000001,1594962.92,589539.54,2830348.98,13545220.4,825678.75,14478844.26,16818.0,66145934.13,1368131.25,5990368.48,83915.0,1400084.0,3975380.19,7893061.4,25516.0,614129.09,12950018.38,17850411.31,6406221.96,8008048.86,6622022.67,7181454.71,744501.72,87998.69,3962871.0,8453609.05,605416.5,58.0,1227091.62,11997821.37,2559.25,259653.76,19627266.3,329917.62,246751.81,873799.13,17443970.07,587380.0,1288854.01,61962.0,169813.18,13959643.52,2405413.06,9807565.71,671.0,1699450.45,1669094.77,-2236.25,1405473.6],\"yaxis\":\"y\",\"type\":\"bar\"},{\"alignmentgroup\":\"True\",\"hovertemplate\":\"ENERGY SOURCE=Other Biomass<br>STATE=%{x}<br>GENERATION (Megawatthours)=%{y}<extra></extra>\",\"legendgroup\":\"Other Biomass\",\"marker\":{\"color\":\"#FF6692\",\"pattern\":{\"shape\":\"\"}},\"name\":\"Other Biomass\",\"offsetgroup\":\"Other Biomass\",\"orientation\":\"v\",\"showlegend\":true,\"textposition\":\"auto\",\"x\":[\"AK\",\"AL\",\"AR\",\"AZ\",\"CA\",\"CO\",\"CT\",\"DC\",\"DE\",\"FL\",\"GA\",\"HI\",\"IA\",\"ID\",\"IL\",\"IN\",\"KS\",\"KY\",\"LA\",\"MA\",\"MD\",\"ME\",\"MI\",\"MN\",\"MO\",\"MS\",\"MT\",\"NC\",\"ND\",\"NE\",\"NH\",\"NJ\",\"NM\",\"NV\",\"NY\",\"OH\",\"OK\",\"OR\",\"PA\",\"RI\",\"SC\",\"SD\",\"TN\",\"TX\",\"UT\",\"VA\",\"VT\",\"WA\",\"WI\",\"WV\"],\"xaxis\":\"x\",\"y\":[492652.07,537102.67,1456999.28,853549.61,53803658.7,1269300.75,14305747.49,378471.0,1337563.87,49755752.03,4378909.52,6548156.03,3590023.57,1417681.39,12655122.58,6679787.38,743921.81,1784644.19,1598829.88,22972643.03,8317033.15,5007411.48,18373902.26,12562318.01,1154025.79,196742.19,28197.0,7204557.58,125222.74,1405886.23,3060022.39,18821081.63,369314.24,452429.06,32451513.9,5779246.58,1485500.99,4641341.45,33796514.58,3167725.57,2714499.72,10362.0,1406468.77,10330054.15,1040069.82,18653396.29,441670.58,4289185.74,10052340.06,73250.58],\"yaxis\":\"y\",\"type\":\"bar\"},{\"alignmentgroup\":\"True\",\"hovertemplate\":\"ENERGY SOURCE=Other Gases<br>STATE=%{x}<br>GENERATION (Megawatthours)=%{y}<extra></extra>\",\"legendgroup\":\"Other Gases\",\"marker\":{\"color\":\"#B6E880\",\"pattern\":{\"shape\":\"\"}},\"name\":\"Other Gases\",\"offsetgroup\":\"Other Gases\",\"orientation\":\"v\",\"showlegend\":true,\"textposition\":\"auto\",\"x\":[\"AK\",\"AL\",\"CA\",\"CO\",\"CT\",\"DE\",\"FL\",\"HI\",\"IL\",\"IN\",\"KY\",\"LA\",\"MA\",\"MD\",\"ME\",\"MI\",\"MN\",\"MO\",\"MS\",\"MT\",\"NC\",\"ND\",\"NE\",\"NH\",\"NJ\",\"NV\",\"NY\",\"OH\",\"OK\",\"OR\",\"PA\",\"SC\",\"TN\",\"TX\",\"UT\",\"VA\",\"WA\",\"WI\",\"WV\",\"WY\"],\"xaxis\":\"x\",\"y\":[5396.77,2707126.95,33971566.18,67024.0,29678.0,6023883.91,153043.33,754774.31,4833303.62,51544557.08,26084.0,38328641.59,0.0,3822572.74,173.0,15507472.71,76475.0,31032.0,283493.0,202826.18,1871.0,941883.01,455.0,0.0,3700683.67,141431.67,116217.0,11183422.25,251586.0,0.0,11519757.21,6266.0,270900.31,65866597.9,254651.94,2959.0,6684826.55,19.0,1299878.66,5583188.66],\"yaxis\":\"y\",\"type\":\"bar\"},{\"alignmentgroup\":\"True\",\"hovertemplate\":\"ENERGY SOURCE=Petroleum<br>STATE=%{x}<br>GENERATION (Megawatthours)=%{y}<extra></extra>\",\"legendgroup\":\"Petroleum\",\"marker\":{\"color\":\"#FF97FF\",\"pattern\":{\"shape\":\"\"}},\"name\":\"Petroleum\",\"offsetgroup\":\"Petroleum\",\"orientation\":\"v\",\"showlegend\":true,\"textposition\":\"auto\",\"x\":[\"AK\",\"AL\",\"AR\",\"AZ\",\"CA\",\"CO\",\"CT\",\"DC\",\"DE\",\"FL\",\"GA\",\"HI\",\"IA\",\"ID\",\"IL\",\"IN\",\"KS\",\"KY\",\"LA\",\"MA\",\"MD\",\"ME\",\"MI\",\"MN\",\"MO\",\"MS\",\"MT\",\"NC\",\"ND\",\"NE\",\"NH\",\"NJ\",\"NM\",\"NV\",\"NY\",\"OH\",\"OK\",\"OR\",\"PA\",\"RI\",\"SC\",\"SD\",\"TN\",\"TX\",\"UT\",\"VA\",\"VT\",\"WA\",\"WI\",\"WV\",\"WY\"],\"xaxis\":\"x\",\"y\":[19088571.23,3387558.58,3039312.07,1368639.69,23183337.74,294089.01,20624924.04,1326540.0,8357842.54,281896019.48,12876960.63,165326036.12,3063621.34,5596.2,5249673.46,10829824.39,5198027.55,35735896.93,74926635.14,50459279.17,20660676.01,12904549.17,16705888.05,5358454.87,3179442.01,12187678.11,9701412.51,8184897.6899999995,811247.75,509525.79,9179451.74,9733616.85,1084672.82,1284314.37,128646114.9,24568231.99,999664.48,412301.64,29869188.16,906422.03,5548528.77,319480.07,4075696.4,21489551.88,845532.66,37320532.2,173115.31,1081163.25,9806150.5,3821877.27,990456.31],\"yaxis\":\"y\",\"type\":\"bar\"},{\"alignmentgroup\":\"True\",\"hovertemplate\":\"ENERGY SOURCE=Pumped Storage<br>STATE=%{x}<br>GENERATION (Megawatthours)=%{y}<extra></extra>\",\"legendgroup\":\"Pumped Storage\",\"marker\":{\"color\":\"#FECB52\",\"pattern\":{\"shape\":\"\"}},\"name\":\"Pumped Storage\",\"offsetgroup\":\"Pumped Storage\",\"orientation\":\"v\",\"showlegend\":true,\"textposition\":\"auto\",\"x\":[\"AR\",\"AZ\",\"CA\",\"CO\",\"CT\",\"GA\",\"MA\",\"MI\",\"MO\",\"NC\",\"NJ\",\"NY\",\"OK\",\"PA\",\"SC\",\"TN\",\"VA\",\"WA\"],\"xaxis\":\"x\",\"y\":[788922.0,1951245.0,-1382482.99,-4385708.0,26915.0,-11349379.0,-10959970.0,-18752908.0,3601515.0,637658.0,-4032457.0,-12140839.0,-2821693.0,-12843100.0,-20984372.0,-13029609.0,-29341611.0,428686.0],\"yaxis\":\"y\",\"type\":\"bar\"},{\"alignmentgroup\":\"True\",\"hovertemplate\":\"ENERGY SOURCE=Solar Thermal and Photovoltaic<br>STATE=%{x}<br>GENERATION (Megawatthours)=%{y}<extra></extra>\",\"legendgroup\":\"Solar Thermal and Photovoltaic\",\"marker\":{\"color\":\"#636efa\",\"pattern\":{\"shape\":\"\"}},\"name\":\"Solar Thermal and Photovoltaic\",\"offsetgroup\":\"Solar Thermal and Photovoltaic\",\"orientation\":\"v\",\"showlegend\":true,\"textposition\":\"auto\",\"x\":[\"AK\",\"AL\",\"AR\",\"AZ\",\"CA\",\"CO\",\"CT\",\"DC\",\"DE\",\"FL\",\"GA\",\"HI\",\"IA\",\"ID\",\"IL\",\"IN\",\"KS\",\"KY\",\"LA\",\"MA\",\"MD\",\"ME\",\"MI\",\"MN\",\"MO\",\"MS\",\"MT\",\"NC\",\"NE\",\"NH\",\"NJ\",\"NM\",\"NV\",\"NY\",\"OH\",\"OK\",\"OR\",\"PA\",\"RI\",\"SC\",\"SD\",\"TN\",\"TX\",\"UT\",\"VA\",\"VT\",\"WA\",\"WI\",\"WY\"],\"xaxis\":\"x\",\"y\":[634.0,2193804.0,1494592.0,44396703.18,215180003.19,9164663.86,1013919.28,59885.0,528484.4,28920448.59,18750977.54,2069875.23,394266.0,2943765.0,1588340.3900000001,2937690.02,170642.0,221622.0,280569.0,8584792.16,3176422.79,391372.0,1283993.0,7281259.01,589034.83,1802074.0,155116.0,47761572.84,214543.0,9482.0,9577848.88,10987134.62,37499223.74,4194605.67,1830804.05,346968.0,4809098.76,1092933.72,858426.45,6466914.14,10866.0,1703579.76,42453185.39,15325734.46,8600528.0,969530.72,169200.0,893072.0,600681.0],\"yaxis\":\"y\",\"type\":\"bar\"},{\"alignmentgroup\":\"True\",\"hovertemplate\":\"ENERGY SOURCE=Wind<br>STATE=%{x}<br>GENERATION (Megawatthours)=%{y}<extra></extra>\",\"legendgroup\":\"Wind\",\"marker\":{\"color\":\"#EF553B\",\"pattern\":{\"shape\":\"\"}},\"name\":\"Wind\",\"offsetgroup\":\"Wind\",\"orientation\":\"v\",\"showlegend\":true,\"textposition\":\"auto\",\"x\":[\"AK\",\"AZ\",\"CA\",\"CO\",\"CT\",\"DE\",\"HI\",\"IA\",\"ID\",\"IL\",\"IN\",\"KS\",\"MA\",\"MD\",\"ME\",\"MI\",\"MN\",\"MO\",\"MT\",\"NC\",\"ND\",\"NE\",\"NH\",\"NJ\",\"NM\",\"NV\",\"NY\",\"OH\",\"OK\",\"OR\",\"PA\",\"RI\",\"SD\",\"TN\",\"TX\",\"UT\",\"VA\",\"VT\",\"WA\",\"WI\",\"WV\",\"WY\"],\"xaxis\":\"x\",\"y\":[1461976.87,7549967.12,194721806.08,121919874.87,81069.0,58923.68,7315969.53,285489450.37,29145007.58,150649782.03,63314758.37,188395858.58,2267577.36,5171536.12,21231105.23,53949349.17,140065523.69,29878844.8,27948358.91,2889521.0,116542335.71,57950935.34,4600112.81,296230.34,66018543.75,3138455.0,53061837.64,17923274.56,245255810.44,97107212.51,42487498.31,1059658.67,48149016.42,767572.0,805310737.3,8980920.32,76272.0,3385394.45,104858123.63,21718519.49,20521926.31,68075083.01],\"yaxis\":\"y\",\"type\":\"bar\"},{\"alignmentgroup\":\"True\",\"hovertemplate\":\"ENERGY SOURCE=Wood and Wood Derived Fuels<br>STATE=%{x}<br>GENERATION (Megawatthours)=%{y}<extra></extra>\",\"legendgroup\":\"Wood and Wood Derived Fuels\",\"marker\":{\"color\":\"#00cc96\",\"pattern\":{\"shape\":\"\"}},\"name\":\"Wood and Wood Derived Fuels\",\"offsetgroup\":\"Wood and Wood Derived Fuels\",\"orientation\":\"v\",\"showlegend\":true,\"textposition\":\"auto\",\"x\":[\"AK\",\"AL\",\"AR\",\"AZ\",\"CA\",\"CO\",\"CT\",\"FL\",\"GA\",\"HI\",\"IA\",\"ID\",\"IL\",\"IN\",\"KY\",\"LA\",\"MA\",\"MD\",\"ME\",\"MI\",\"MN\",\"MO\",\"MS\",\"MT\",\"NC\",\"NE\",\"NH\",\"NV\",\"NY\",\"OH\",\"OK\",\"OR\",\"PA\",\"SC\",\"SD\",\"TN\",\"TX\",\"VA\",\"VT\",\"WA\",\"WI\",\"WV\"],\"xaxis\":\"x\",\"y\":[3099.0,71329402.25,30902335.88,2332864.61,74741177.78,589039.92,2065185.33,45046042.9,83233228.43,9.0,29532.0,9872828.01,1748.25,0.0,6527814.22,54981744.55,2988395.64,2942844.84,66420849.46,34183653.64,18211581.31,371126.19,30285619.14,999771.0,39685348.41,0.0,21680299.72,889.0,11256755.47,7129736.41,4939631.25,14262307.17,12252469.49,39205932.2,26318.0,17316046.37,19982310.5,44182384.6,8808988.18,29883851.77,18079701.6,1573.39],\"yaxis\":\"y\",\"type\":\"bar\"}],                        {\"template\":{\"data\":{\"bar\":[{\"error_x\":{\"color\":\"#2a3f5f\"},\"error_y\":{\"color\":\"#2a3f5f\"},\"marker\":{\"line\":{\"color\":\"#E5ECF6\",\"width\":0.5},\"pattern\":{\"fillmode\":\"overlay\",\"size\":10,\"solidity\":0.2}},\"type\":\"bar\"}],\"barpolar\":[{\"marker\":{\"line\":{\"color\":\"#E5ECF6\",\"width\":0.5},\"pattern\":{\"fillmode\":\"overlay\",\"size\":10,\"solidity\":0.2}},\"type\":\"barpolar\"}],\"carpet\":[{\"aaxis\":{\"endlinecolor\":\"#2a3f5f\",\"gridcolor\":\"white\",\"linecolor\":\"white\",\"minorgridcolor\":\"white\",\"startlinecolor\":\"#2a3f5f\"},\"baxis\":{\"endlinecolor\":\"#2a3f5f\",\"gridcolor\":\"white\",\"linecolor\":\"white\",\"minorgridcolor\":\"white\",\"startlinecolor\":\"#2a3f5f\"},\"type\":\"carpet\"}],\"choropleth\":[{\"colorbar\":{\"outlinewidth\":0,\"ticks\":\"\"},\"type\":\"choropleth\"}],\"contour\":[{\"colorbar\":{\"outlinewidth\":0,\"ticks\":\"\"},\"colorscale\":[[0.0,\"#0d0887\"],[0.1111111111111111,\"#46039f\"],[0.2222222222222222,\"#7201a8\"],[0.3333333333333333,\"#9c179e\"],[0.4444444444444444,\"#bd3786\"],[0.5555555555555556,\"#d8576b\"],[0.6666666666666666,\"#ed7953\"],[0.7777777777777778,\"#fb9f3a\"],[0.8888888888888888,\"#fdca26\"],[1.0,\"#f0f921\"]],\"type\":\"contour\"}],\"contourcarpet\":[{\"colorbar\":{\"outlinewidth\":0,\"ticks\":\"\"},\"type\":\"contourcarpet\"}],\"heatmap\":[{\"colorbar\":{\"outlinewidth\":0,\"ticks\":\"\"},\"colorscale\":[[0.0,\"#0d0887\"],[0.1111111111111111,\"#46039f\"],[0.2222222222222222,\"#7201a8\"],[0.3333333333333333,\"#9c179e\"],[0.4444444444444444,\"#bd3786\"],[0.5555555555555556,\"#d8576b\"],[0.6666666666666666,\"#ed7953\"],[0.7777777777777778,\"#fb9f3a\"],[0.8888888888888888,\"#fdca26\"],[1.0,\"#f0f921\"]],\"type\":\"heatmap\"}],\"heatmapgl\":[{\"colorbar\":{\"outlinewidth\":0,\"ticks\":\"\"},\"colorscale\":[[0.0,\"#0d0887\"],[0.1111111111111111,\"#46039f\"],[0.2222222222222222,\"#7201a8\"],[0.3333333333333333,\"#9c179e\"],[0.4444444444444444,\"#bd3786\"],[0.5555555555555556,\"#d8576b\"],[0.6666666666666666,\"#ed7953\"],[0.7777777777777778,\"#fb9f3a\"],[0.8888888888888888,\"#fdca26\"],[1.0,\"#f0f921\"]],\"type\":\"heatmapgl\"}],\"histogram\":[{\"marker\":{\"pattern\":{\"fillmode\":\"overlay\",\"size\":10,\"solidity\":0.2}},\"type\":\"histogram\"}],\"histogram2d\":[{\"colorbar\":{\"outlinewidth\":0,\"ticks\":\"\"},\"colorscale\":[[0.0,\"#0d0887\"],[0.1111111111111111,\"#46039f\"],[0.2222222222222222,\"#7201a8\"],[0.3333333333333333,\"#9c179e\"],[0.4444444444444444,\"#bd3786\"],[0.5555555555555556,\"#d8576b\"],[0.6666666666666666,\"#ed7953\"],[0.7777777777777778,\"#fb9f3a\"],[0.8888888888888888,\"#fdca26\"],[1.0,\"#f0f921\"]],\"type\":\"histogram2d\"}],\"histogram2dcontour\":[{\"colorbar\":{\"outlinewidth\":0,\"ticks\":\"\"},\"colorscale\":[[0.0,\"#0d0887\"],[0.1111111111111111,\"#46039f\"],[0.2222222222222222,\"#7201a8\"],[0.3333333333333333,\"#9c179e\"],[0.4444444444444444,\"#bd3786\"],[0.5555555555555556,\"#d8576b\"],[0.6666666666666666,\"#ed7953\"],[0.7777777777777778,\"#fb9f3a\"],[0.8888888888888888,\"#fdca26\"],[1.0,\"#f0f921\"]],\"type\":\"histogram2dcontour\"}],\"mesh3d\":[{\"colorbar\":{\"outlinewidth\":0,\"ticks\":\"\"},\"type\":\"mesh3d\"}],\"parcoords\":[{\"line\":{\"colorbar\":{\"outlinewidth\":0,\"ticks\":\"\"}},\"type\":\"parcoords\"}],\"pie\":[{\"automargin\":true,\"type\":\"pie\"}],\"scatter\":[{\"marker\":{\"colorbar\":{\"outlinewidth\":0,\"ticks\":\"\"}},\"type\":\"scatter\"}],\"scatter3d\":[{\"line\":{\"colorbar\":{\"outlinewidth\":0,\"ticks\":\"\"}},\"marker\":{\"colorbar\":{\"outlinewidth\":0,\"ticks\":\"\"}},\"type\":\"scatter3d\"}],\"scattercarpet\":[{\"marker\":{\"colorbar\":{\"outlinewidth\":0,\"ticks\":\"\"}},\"type\":\"scattercarpet\"}],\"scattergeo\":[{\"marker\":{\"colorbar\":{\"outlinewidth\":0,\"ticks\":\"\"}},\"type\":\"scattergeo\"}],\"scattergl\":[{\"marker\":{\"colorbar\":{\"outlinewidth\":0,\"ticks\":\"\"}},\"type\":\"scattergl\"}],\"scattermapbox\":[{\"marker\":{\"colorbar\":{\"outlinewidth\":0,\"ticks\":\"\"}},\"type\":\"scattermapbox\"}],\"scatterpolar\":[{\"marker\":{\"colorbar\":{\"outlinewidth\":0,\"ticks\":\"\"}},\"type\":\"scatterpolar\"}],\"scatterpolargl\":[{\"marker\":{\"colorbar\":{\"outlinewidth\":0,\"ticks\":\"\"}},\"type\":\"scatterpolargl\"}],\"scatterternary\":[{\"marker\":{\"colorbar\":{\"outlinewidth\":0,\"ticks\":\"\"}},\"type\":\"scatterternary\"}],\"surface\":[{\"colorbar\":{\"outlinewidth\":0,\"ticks\":\"\"},\"colorscale\":[[0.0,\"#0d0887\"],[0.1111111111111111,\"#46039f\"],[0.2222222222222222,\"#7201a8\"],[0.3333333333333333,\"#9c179e\"],[0.4444444444444444,\"#bd3786\"],[0.5555555555555556,\"#d8576b\"],[0.6666666666666666,\"#ed7953\"],[0.7777777777777778,\"#fb9f3a\"],[0.8888888888888888,\"#fdca26\"],[1.0,\"#f0f921\"]],\"type\":\"surface\"}],\"table\":[{\"cells\":{\"fill\":{\"color\":\"#EBF0F8\"},\"line\":{\"color\":\"white\"}},\"header\":{\"fill\":{\"color\":\"#C8D4E3\"},\"line\":{\"color\":\"white\"}},\"type\":\"table\"}]},\"layout\":{\"annotationdefaults\":{\"arrowcolor\":\"#2a3f5f\",\"arrowhead\":0,\"arrowwidth\":1},\"autotypenumbers\":\"strict\",\"coloraxis\":{\"colorbar\":{\"outlinewidth\":0,\"ticks\":\"\"}},\"colorscale\":{\"diverging\":[[0,\"#8e0152\"],[0.1,\"#c51b7d\"],[0.2,\"#de77ae\"],[0.3,\"#f1b6da\"],[0.4,\"#fde0ef\"],[0.5,\"#f7f7f7\"],[0.6,\"#e6f5d0\"],[0.7,\"#b8e186\"],[0.8,\"#7fbc41\"],[0.9,\"#4d9221\"],[1,\"#276419\"]],\"sequential\":[[0.0,\"#0d0887\"],[0.1111111111111111,\"#46039f\"],[0.2222222222222222,\"#7201a8\"],[0.3333333333333333,\"#9c179e\"],[0.4444444444444444,\"#bd3786\"],[0.5555555555555556,\"#d8576b\"],[0.6666666666666666,\"#ed7953\"],[0.7777777777777778,\"#fb9f3a\"],[0.8888888888888888,\"#fdca26\"],[1.0,\"#f0f921\"]],\"sequentialminus\":[[0.0,\"#0d0887\"],[0.1111111111111111,\"#46039f\"],[0.2222222222222222,\"#7201a8\"],[0.3333333333333333,\"#9c179e\"],[0.4444444444444444,\"#bd3786\"],[0.5555555555555556,\"#d8576b\"],[0.6666666666666666,\"#ed7953\"],[0.7777777777777778,\"#fb9f3a\"],[0.8888888888888888,\"#fdca26\"],[1.0,\"#f0f921\"]]},\"colorway\":[\"#636efa\",\"#EF553B\",\"#00cc96\",\"#ab63fa\",\"#FFA15A\",\"#19d3f3\",\"#FF6692\",\"#B6E880\",\"#FF97FF\",\"#FECB52\"],\"font\":{\"color\":\"#2a3f5f\"},\"geo\":{\"bgcolor\":\"white\",\"lakecolor\":\"white\",\"landcolor\":\"#E5ECF6\",\"showlakes\":true,\"showland\":true,\"subunitcolor\":\"white\"},\"hoverlabel\":{\"align\":\"left\"},\"hovermode\":\"closest\",\"mapbox\":{\"style\":\"light\"},\"paper_bgcolor\":\"white\",\"plot_bgcolor\":\"#E5ECF6\",\"polar\":{\"angularaxis\":{\"gridcolor\":\"white\",\"linecolor\":\"white\",\"ticks\":\"\"},\"bgcolor\":\"#E5ECF6\",\"radialaxis\":{\"gridcolor\":\"white\",\"linecolor\":\"white\",\"ticks\":\"\"}},\"scene\":{\"xaxis\":{\"backgroundcolor\":\"#E5ECF6\",\"gridcolor\":\"white\",\"gridwidth\":2,\"linecolor\":\"white\",\"showbackground\":true,\"ticks\":\"\",\"zerolinecolor\":\"white\"},\"yaxis\":{\"backgroundcolor\":\"#E5ECF6\",\"gridcolor\":\"white\",\"gridwidth\":2,\"linecolor\":\"white\",\"showbackground\":true,\"ticks\":\"\",\"zerolinecolor\":\"white\"},\"zaxis\":{\"backgroundcolor\":\"#E5ECF6\",\"gridcolor\":\"white\",\"gridwidth\":2,\"linecolor\":\"white\",\"showbackground\":true,\"ticks\":\"\",\"zerolinecolor\":\"white\"}},\"shapedefaults\":{\"line\":{\"color\":\"#2a3f5f\"}},\"ternary\":{\"aaxis\":{\"gridcolor\":\"white\",\"linecolor\":\"white\",\"ticks\":\"\"},\"baxis\":{\"gridcolor\":\"white\",\"linecolor\":\"white\",\"ticks\":\"\"},\"bgcolor\":\"#E5ECF6\",\"caxis\":{\"gridcolor\":\"white\",\"linecolor\":\"white\",\"ticks\":\"\"}},\"title\":{\"x\":0.05},\"xaxis\":{\"automargin\":true,\"gridcolor\":\"white\",\"linecolor\":\"white\",\"ticks\":\"\",\"title\":{\"standoff\":15},\"zerolinecolor\":\"white\",\"zerolinewidth\":2},\"yaxis\":{\"automargin\":true,\"gridcolor\":\"white\",\"linecolor\":\"white\",\"ticks\":\"\",\"title\":{\"standoff\":15},\"zerolinecolor\":\"white\",\"zerolinewidth\":2}}},\"xaxis\":{\"anchor\":\"y\",\"domain\":[0.0,1.0],\"title\":{\"text\":\"STATE\"}},\"yaxis\":{\"anchor\":\"x\",\"domain\":[0.0,1.0],\"title\":{\"text\":\"GENERATION (Megawatthours)\"}},\"legend\":{\"title\":{\"text\":\"ENERGY SOURCE\"},\"tracegroupgap\":0},\"title\":{\"text\":\"Energy Generated by State\"},\"barmode\":\"relative\"},                        {\"responsive\": true}                    ).then(function(){\n",
       "                            \n",
       "var gd = document.getElementById('0dd946b1-af14-4ca2-870b-5a559ee5928b');\n",
       "var x = new MutationObserver(function (mutations, observer) {{\n",
       "        var display = window.getComputedStyle(gd).display;\n",
       "        if (!display || display === 'none') {{\n",
       "            console.log([gd, 'removed!']);\n",
       "            Plotly.purge(gd);\n",
       "            observer.disconnect();\n",
       "        }}\n",
       "}});\n",
       "\n",
       "// Listen for the removal of the full notebook cells\n",
       "var notebookContainer = gd.closest('#notebook-container');\n",
       "if (notebookContainer) {{\n",
       "    x.observe(notebookContainer, {childList: true});\n",
       "}}\n",
       "\n",
       "// Listen for the clearing of the current output cell\n",
       "var outputEl = gd.closest('.output');\n",
       "if (outputEl) {{\n",
       "    x.observe(outputEl, {childList: true});\n",
       "}}\n",
       "\n",
       "                        })                };                });            </script>        </div>"
      ]
     },
     "metadata": {},
     "output_type": "display_data"
    }
   ],
   "source": [
    "fig = px.bar(state_grouped, x=\"STATE\", y=\"GENERATION (Megawatthours)\", color=\"ENERGY SOURCE\", title=\"Energy Generated by State\")\n",
    "fig.show()"
   ]
  },
  {
   "cell_type": "code",
   "execution_count": null,
   "id": "f1fa29a4",
   "metadata": {},
   "outputs": [],
   "source": []
  }
 ],
 "metadata": {
  "kernelspec": {
   "display_name": "Python 3 (ipykernel)",
   "language": "python",
   "name": "python3"
  },
  "language_info": {
   "codemirror_mode": {
    "name": "ipython",
    "version": 3
   },
   "file_extension": ".py",
   "mimetype": "text/x-python",
   "name": "python",
   "nbconvert_exporter": "python",
   "pygments_lexer": "ipython3",
   "version": "3.9.7"
  }
 },
 "nbformat": 4,
 "nbformat_minor": 5
}
