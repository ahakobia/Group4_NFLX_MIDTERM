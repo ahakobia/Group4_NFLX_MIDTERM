{
 "cells": [
  {
   "cell_type": "markdown",
   "id": "8cae563f",
   "metadata": {
    "colab_type": "text",
    "id": "view-in-github"
   },
   "source": [
    "<a href=\"https://colab.research.google.com/github/ahakobia/Group4_NFLX_MIDTERM/blob/main/Adehs_US_Energy.ipynb\" target=\"_parent\"><img src=\"https://colab.research.google.com/assets/colab-badge.svg\" alt=\"Open In Colab\"/></a>"
   ]
  },
  {
   "cell_type": "code",
   "execution_count": 58,
   "id": "16ead5e6",
   "metadata": {},
   "outputs": [],
   "source": [
    "import os\n",
    "import sys\n",
    "# import the connect library for psycopg2\n",
    "import psycopg2\n",
    "# import the error handling libraries for psycopg2\n",
    "from psycopg2 import OperationalError, errorcodes, errors\n",
    "import psycopg2.extras as extras\n",
    "import pandas as pd\n",
    "from io import StringIO\n",
    "import numpy as np\n",
    "\n",
    "import matplotlib.pyplot as plt"
   ]
  },
  {
   "cell_type": "code",
   "execution_count": 6,
   "id": "bfcc65fe",
   "metadata": {},
   "outputs": [],
   "source": [
    "params_dic = {\n",
    "    \"host\"      : \"localhost\",\n",
    "    \"user\"      : \"postgres\",\n",
    "    \"password\"  : \"postgres\",\n",
    "    \"port\"      : \"5432\"\n",
    "}"
   ]
  },
  {
   "cell_type": "code",
   "execution_count": 8,
   "id": "65e1d551",
   "metadata": {},
   "outputs": [
    {
     "name": "stdout",
     "output_type": "stream",
     "text": [
      "Connecting to the PostgreSQL database...\n",
      "Connection successful\n"
     ]
    }
   ],
   "source": [
    "def connect(params_dic):\n",
    "    \"\"\" Connect to the PostgreSQL database server \"\"\"\n",
    "    conn = None\n",
    "    try:\n",
    "        # connect to the PostgreSQL server\n",
    "        print('Connecting to the PostgreSQL database...')\n",
    "        conn = psycopg2.connect(**params_dic)\n",
    "    except (Exception, psycopg2.DatabaseError) as error:\n",
    "        print(error)\n",
    "        sys.exit(1) \n",
    "    print(\"Connection successful\")\n",
    "    return conn\n",
    "conn = connect(params_dic)"
   ]
  },
  {
   "cell_type": "code",
   "execution_count": 40,
   "id": "b271e2b5",
   "metadata": {
    "colab": {
     "base_uri": "https://localhost:8080/",
     "height": 350
    },
    "id": "b271e2b5",
    "outputId": "866eb74a-98f9-4e01-be3e-b20e8fc1b279"
   },
   "outputs": [
    {
     "data": {
      "text/html": [
       "<div>\n",
       "<style scoped>\n",
       "    .dataframe tbody tr th:only-of-type {\n",
       "        vertical-align: middle;\n",
       "    }\n",
       "\n",
       "    .dataframe tbody tr th {\n",
       "        vertical-align: top;\n",
       "    }\n",
       "\n",
       "    .dataframe thead th {\n",
       "        text-align: right;\n",
       "    }\n",
       "</style>\n",
       "<table border=\"1\" class=\"dataframe\">\n",
       "  <thead>\n",
       "    <tr style=\"text-align: right;\">\n",
       "      <th></th>\n",
       "      <th>year</th>\n",
       "      <th>month</th>\n",
       "      <th>state</th>\n",
       "      <th>producer</th>\n",
       "      <th>source</th>\n",
       "      <th>generated</th>\n",
       "    </tr>\n",
       "  </thead>\n",
       "  <tbody>\n",
       "    <tr>\n",
       "      <th>0</th>\n",
       "      <td>2001</td>\n",
       "      <td>1</td>\n",
       "      <td>AK</td>\n",
       "      <td>Total Electric Power Industry</td>\n",
       "      <td>Coal</td>\n",
       "      <td>46903.0</td>\n",
       "    </tr>\n",
       "    <tr>\n",
       "      <th>1</th>\n",
       "      <td>2001</td>\n",
       "      <td>1</td>\n",
       "      <td>AK</td>\n",
       "      <td>Total Electric Power Industry</td>\n",
       "      <td>Petroleum</td>\n",
       "      <td>71085.0</td>\n",
       "    </tr>\n",
       "    <tr>\n",
       "      <th>2</th>\n",
       "      <td>2001</td>\n",
       "      <td>1</td>\n",
       "      <td>AK</td>\n",
       "      <td>Total Electric Power Industry</td>\n",
       "      <td>Natural Gas</td>\n",
       "      <td>367521.0</td>\n",
       "    </tr>\n",
       "    <tr>\n",
       "      <th>3</th>\n",
       "      <td>2001</td>\n",
       "      <td>1</td>\n",
       "      <td>AK</td>\n",
       "      <td>Total Electric Power Industry</td>\n",
       "      <td>Hydroelectric Conventional</td>\n",
       "      <td>104549.0</td>\n",
       "    </tr>\n",
       "    <tr>\n",
       "      <th>4</th>\n",
       "      <td>2001</td>\n",
       "      <td>1</td>\n",
       "      <td>AK</td>\n",
       "      <td>Total Electric Power Industry</td>\n",
       "      <td>Wind</td>\n",
       "      <td>87.0</td>\n",
       "    </tr>\n",
       "    <tr>\n",
       "      <th>5</th>\n",
       "      <td>2001</td>\n",
       "      <td>1</td>\n",
       "      <td>AK</td>\n",
       "      <td>Total Electric Power Industry</td>\n",
       "      <td>Total</td>\n",
       "      <td>590145.0</td>\n",
       "    </tr>\n",
       "    <tr>\n",
       "      <th>6</th>\n",
       "      <td>2001</td>\n",
       "      <td>1</td>\n",
       "      <td>AK</td>\n",
       "      <td>Electric Generators/ Electric Utilities</td>\n",
       "      <td>Coal</td>\n",
       "      <td>18410.0</td>\n",
       "    </tr>\n",
       "    <tr>\n",
       "      <th>7</th>\n",
       "      <td>2001</td>\n",
       "      <td>1</td>\n",
       "      <td>AK</td>\n",
       "      <td>Electric Generators/ Electric Utilities</td>\n",
       "      <td>Petroleum</td>\n",
       "      <td>64883.0</td>\n",
       "    </tr>\n",
       "    <tr>\n",
       "      <th>8</th>\n",
       "      <td>2001</td>\n",
       "      <td>1</td>\n",
       "      <td>AK</td>\n",
       "      <td>Electric Generators/ Electric Utilities</td>\n",
       "      <td>Natural Gas</td>\n",
       "      <td>305277.0</td>\n",
       "    </tr>\n",
       "    <tr>\n",
       "      <th>9</th>\n",
       "      <td>2001</td>\n",
       "      <td>1</td>\n",
       "      <td>AK</td>\n",
       "      <td>Electric Generators/ Electric Utilities</td>\n",
       "      <td>Hydroelectric Conventional</td>\n",
       "      <td>104549.0</td>\n",
       "    </tr>\n",
       "  </tbody>\n",
       "</table>\n",
       "</div>"
      ],
      "text/plain": [
       "   year  month state                                 producer  \\\n",
       "0  2001      1    AK            Total Electric Power Industry   \n",
       "1  2001      1    AK            Total Electric Power Industry   \n",
       "2  2001      1    AK            Total Electric Power Industry   \n",
       "3  2001      1    AK            Total Electric Power Industry   \n",
       "4  2001      1    AK            Total Electric Power Industry   \n",
       "5  2001      1    AK            Total Electric Power Industry   \n",
       "6  2001      1    AK  Electric Generators/ Electric Utilities   \n",
       "7  2001      1    AK  Electric Generators/ Electric Utilities   \n",
       "8  2001      1    AK  Electric Generators/ Electric Utilities   \n",
       "9  2001      1    AK  Electric Generators/ Electric Utilities   \n",
       "\n",
       "                       source  generated  \n",
       "0                        Coal    46903.0  \n",
       "1                   Petroleum    71085.0  \n",
       "2                 Natural Gas   367521.0  \n",
       "3  Hydroelectric Conventional   104549.0  \n",
       "4                        Wind       87.0  \n",
       "5                       Total   590145.0  \n",
       "6                        Coal    18410.0  \n",
       "7                   Petroleum    64883.0  \n",
       "8                 Natural Gas   305277.0  \n",
       "9  Hydroelectric Conventional   104549.0  "
      ]
     },
     "execution_count": 40,
     "metadata": {},
     "output_type": "execute_result"
    }
   ],
   "source": [
    "csv_file = \"Resources/organised_Gen.csv\"\n",
    "energy_data = pd.read_csv(csv_file)\n",
    "energy_data = energy_data.drop(columns=['Unnamed: 0'])\n",
    "\n",
    "energy_df = energy_data.rename(columns={\n",
    "    \"YEAR\": \"year\", \n",
    "    \"MONTH\": \"month\",\n",
    "    \"STATE\": \"state\",\n",
    "    \"TYPE OF PRODUCER\": \"producer\",\n",
    "    \"ENERGY SOURCE\": \"source\",\n",
    "    \"GENERATION (Megawatthours)\": \"generated\"})\n",
    "\n",
    "\n",
    "energy_df['producer'] = energy_df['producer'].apply(lambda x: x.replace(',','/'))\n",
    "    \n",
    "energy_df.head(10)"
   ]
  },
  {
   "cell_type": "code",
   "execution_count": 41,
   "id": "03dcf98c",
   "metadata": {},
   "outputs": [
    {
     "name": "stdout",
     "output_type": "stream",
     "text": [
      "Requirement already satisfied: psycopg2-binary in /Users/slimykid/opt/anaconda3/lib/python3.9/site-packages (2.9.3)\r\n"
     ]
    }
   ],
   "source": [
    "!pip install psycopg2-binary"
   ]
  },
  {
   "cell_type": "code",
   "execution_count": 42,
   "id": "3e9631ff",
   "metadata": {},
   "outputs": [],
   "source": [
    "# Define a function that handles and parses psycopg2 exceptions\n",
    "def show_psycopg2_exception(err):\n",
    "    # get details about the exception\n",
    "    err_type, err_obj, traceback = sys.exc_info()    \n",
    "    # get the line number when exception occured\n",
    "    line_n = traceback.tb_lineno    \n",
    "    # print the connect() error\n",
    "    print (\"\\npsycopg2 ERROR:\", err, \"on line number:\", line_n)\n",
    "    print (\"psycopg2 traceback:\", traceback, \"-- type:\", err_type) \n",
    "    # psycopg2 extensions.Diagnostics object attribute\n",
    "    print (\"\\nextensions.Diagnostics:\", err.diag)    \n",
    "    # print the pgcode and pgerror exceptions\n",
    "    print (\"pgerror:\", err.pgerror)\n",
    "    print (\"pgcode:\", err.pgcode, \"\\n\")"
   ]
  },
  {
   "cell_type": "code",
   "execution_count": 43,
   "id": "6384deba",
   "metadata": {},
   "outputs": [],
   "source": [
    "def create_table(cursor):\n",
    "    try:\n",
    "        # Dropping table iris if exists\n",
    "        cursor.execute(\"DROP TABLE IF EXISTS energy;\")\n",
    "        sql = '''CREATE TABLE energy(\n",
    "        year INT NOT NULL, \n",
    "        month INT NOT NULL, \n",
    "        state VARCHAR NOT NULL, \n",
    "        producer TEXT NOT NULL,\n",
    "        source VARCHAR NOT NULL,\n",
    "        generated FLOAT NOT NULL\n",
    "        )'''\n",
    "        # Creating a table\n",
    "        cursor.execute(sql);\n",
    "        print(\"energy table is created successfully...............\")  \n",
    "    except OperationalError as err:\n",
    "        # pass exception to function\n",
    "        show_psycopg2_exception(err)\n",
    "        # set the connection to 'None' in case of error\n",
    "        conn = None"
   ]
  },
  {
   "cell_type": "code",
   "execution_count": 44,
   "id": "c484038b",
   "metadata": {},
   "outputs": [
    {
     "name": "stdout",
     "output_type": "stream",
     "text": [
      "function took 661.312 ms\n"
     ]
    }
   ],
   "source": [
    "def run_method(n):\n",
    "    for i in range(n):\n",
    "        3 ** n\n",
    "from timeit import default_timer as timer\n",
    "start_time = timer()\n",
    "run_method(10000)\n",
    "end_time = timer()\n",
    "elapsed = end_time-start_time\n",
    "print('function took {:.3f} ms'.format((elapsed)*1000.0))"
   ]
  },
  {
   "cell_type": "code",
   "execution_count": 45,
   "id": "17369d1c",
   "metadata": {},
   "outputs": [],
   "source": [
    "# Define function using copy_from() with StringIO to insert the dataframe\n",
    "def copy_from_dataFile_StringIO(conn, datafrm, table):\n",
    "    \n",
    "  # save dataframe to an in memory buffer\n",
    "    buffer = StringIO()\n",
    "    datafrm.to_csv(buffer, header=False, index = False)\n",
    "    buffer.seek(0)\n",
    "    \n",
    "    cursor = conn.cursor()\n",
    "    try:\n",
    "        cursor.copy_from(buffer, table, sep=\",\")\n",
    "        print(\"Data inserted using copy_from_datafile_StringIO() successfully....\")\n",
    "    except (Exception, psycopg2.DatabaseError) as err:\n",
    "        # pass exception to function\n",
    "        show_psycopg2_exception(err)\n",
    "        cursor.close()"
   ]
  },
  {
   "cell_type": "code",
   "execution_count": 46,
   "id": "c13d7f0c",
   "metadata": {},
   "outputs": [
    {
     "name": "stdout",
     "output_type": "stream",
     "text": [
      "Connecting to the PostgreSQL database...\n",
      "Connection successful\n",
      "energy table is created successfully...............\n"
     ]
    }
   ],
   "source": [
    "conn = connect(params_dic)\n",
    "# We set autocommit=True so every command we execute will produce results immediately.\n",
    "conn.autocommit = True\n",
    "cursor = conn.cursor()\n",
    "create_table(cursor)"
   ]
  },
  {
   "cell_type": "code",
   "execution_count": 47,
   "id": "90ab1953",
   "metadata": {},
   "outputs": [
    {
     "name": "stdout",
     "output_type": "stream",
     "text": [
      "Data inserted using copy_from_datafile_StringIO() successfully....\n"
     ]
    }
   ],
   "source": [
    "copy_from_dataFile_StringIO(conn, energy_df, 'energy')"
   ]
  },
  {
   "cell_type": "code",
   "execution_count": 72,
   "id": "f773127a",
   "metadata": {},
   "outputs": [
    {
     "name": "stdout",
     "output_type": "stream",
     "text": [
      "[(2001, 1, 'US-TOTAL', 'Total Electric Power Industry', 'Total', 332493160.0), (2001, 2, 'US-TOTAL', 'Total Electric Power Industry', 'Total', 282940198.0), (2001, 3, 'US-TOTAL', 'Total Electric Power Industry', 'Total', 300706544.0), (2001, 4, 'US-TOTAL', 'Total Electric Power Industry', 'Total', 278078871.0), (2001, 5, 'US-TOTAL', 'Total Electric Power Industry', 'Total', 300491621.0), (2001, 6, 'US-TOTAL', 'Total Electric Power Industry', 'Total', 327693978.0), (2001, 7, 'US-TOTAL', 'Total Electric Power Industry', 'Total', 357613700.0), (2001, 8, 'US-TOTAL', 'Total Electric Power Industry', 'Total', 370532828.0), (2001, 9, 'US-TOTAL', 'Total Electric Power Industry', 'Total', 306928866.0), (2001, 10, 'US-TOTAL', 'Total Electric Power Industry', 'Total', 294733613.0), (2001, 11, 'US-TOTAL', 'Total Electric Power Industry', 'Total', 278933942.0), (2001, 12, 'US-TOTAL', 'Total Electric Power Industry', 'Total', 305496328.0), (2002, 1, 'US-TOTAL', 'Total Electric Power Industry', 'Total', 319941476.0), (2002, 2, 'US-TOTAL', 'Total Electric Power Industry', 'Total', 281825712.0), (2002, 3, 'US-TOTAL', 'Total Electric Power Industry', 'Total', 302549011.0), (2002, 4, 'US-TOTAL', 'Total Electric Power Industry', 'Total', 289848253.0), (2002, 5, 'US-TOTAL', 'Total Electric Power Industry', 'Total', 307674569.0), (2002, 6, 'US-TOTAL', 'Total Electric Power Industry', 'Total', 341023144.0), (2002, 7, 'US-TOTAL', 'Total Electric Power Industry', 'Total', 381542107.0), (2002, 8, 'US-TOTAL', 'Total Electric Power Industry', 'Total', 374585819.0), (2002, 9, 'US-TOTAL', 'Total Electric Power Industry', 'Total', 331279434.0), (2002, 10, 'US-TOTAL', 'Total Electric Power Industry', 'Total', 307059460.0), (2002, 11, 'US-TOTAL', 'Total Electric Power Industry', 'Total', 296289561.0), (2002, 12, 'US-TOTAL', 'Total Electric Power Industry', 'Total', 324833705.0), (2003, 1, 'US-TOTAL', 'Total Electric Power Industry', 'Total', 341988901.0), (2003, 2, 'US-TOTAL', 'Total Electric Power Industry', 'Total', 299248777.0), (2003, 3, 'US-TOTAL', 'Total Electric Power Industry', 'Total', 304317265.0), (2003, 4, 'US-TOTAL', 'Total Electric Power Industry', 'Total', 285755699.0), (2003, 5, 'US-TOTAL', 'Total Electric Power Industry', 'Total', 307544887.0), (2003, 6, 'US-TOTAL', 'Total Electric Power Industry', 'Total', 328693698.0), (2003, 7, 'US-TOTAL', 'Total Electric Power Industry', 'Total', 374396050.0), (2003, 8, 'US-TOTAL', 'Total Electric Power Industry', 'Total', 381816319.0), (2003, 9, 'US-TOTAL', 'Total Electric Power Industry', 'Total', 323135534.0), (2003, 10, 'US-TOTAL', 'Total Electric Power Industry', 'Total', 306740933.0), (2003, 11, 'US-TOTAL', 'Total Electric Power Industry', 'Total', 297866711.0), (2003, 12, 'US-TOTAL', 'Total Electric Power Industry', 'Total', 331680430.0), (2004, 1, 'US-TOTAL', 'Total Electric Power Industry', 'Total', 346545627.0), (2004, 2, 'US-TOTAL', 'Total Electric Power Industry', 'Total', 314279910.0), (2004, 3, 'US-TOTAL', 'Total Electric Power Industry', 'Total', 308812096.0), (2004, 4, 'US-TOTAL', 'Total Electric Power Industry', 'Total', 290559914.0), (2004, 5, 'US-TOTAL', 'Total Electric Power Industry', 'Total', 327380264.0), (2004, 6, 'US-TOTAL', 'Total Electric Power Industry', 'Total', 345085079.0), (2004, 7, 'US-TOTAL', 'Total Electric Power Industry', 'Total', 377331697.0), (2004, 8, 'US-TOTAL', 'Total Electric Power Industry', 'Total', 368439037.0), (2004, 9, 'US-TOTAL', 'Total Electric Power Industry', 'Total', 335622198.0), (2004, 10, 'US-TOTAL', 'Total Electric Power Industry', 'Total', 312450223.0), (2004, 11, 'US-TOTAL', 'Total Electric Power Industry', 'Total', 302101256.0), (2004, 12, 'US-TOTAL', 'Total Electric Power Industry', 'Total', 341947963.0), (2005, 1, 'US-TOTAL', 'Total Electric Power Industry', 'Total', 343121453.0), (2005, 2, 'US-TOTAL', 'Total Electric Power Industry', 'Total', 298500316.0), (2005, 3, 'US-TOTAL', 'Total Electric Power Industry', 'Total', 317458276.0), (2005, 4, 'US-TOTAL', 'Total Electric Power Industry', 'Total', 289562400.0), (2005, 5, 'US-TOTAL', 'Total Electric Power Industry', 'Total', 315062110.0), (2005, 6, 'US-TOTAL', 'Total Electric Power Industry', 'Total', 363671636.0), (2005, 7, 'US-TOTAL', 'Total Electric Power Industry', 'Total', 402273846.0), (2005, 8, 'US-TOTAL', 'Total Electric Power Industry', 'Total', 404940681.0), (2005, 9, 'US-TOTAL', 'Total Electric Power Industry', 'Total', 350217801.0), (2005, 10, 'US-TOTAL', 'Total Electric Power Industry', 'Total', 316397924.0), (2005, 11, 'US-TOTAL', 'Total Electric Power Industry', 'Total', 306115236.0), (2005, 12, 'US-TOTAL', 'Total Electric Power Industry', 'Total', 348101071.0), (2006, 1, 'US-TOTAL', 'Total Electric Power Industry', 'Total', 328657738.0), (2006, 2, 'US-TOTAL', 'Total Electric Power Industry', 'Total', 307333430.0), (2006, 3, 'US-TOTAL', 'Total Electric Power Industry', 'Total', 318729800.0), (2006, 4, 'US-TOTAL', 'Total Electric Power Industry', 'Total', 297858078.0), (2006, 5, 'US-TOTAL', 'Total Electric Power Industry', 'Total', 330615570.0), (2006, 6, 'US-TOTAL', 'Total Electric Power Industry', 'Total', 364259798.0), (2006, 7, 'US-TOTAL', 'Total Electric Power Industry', 'Total', 410420793.0), (2006, 8, 'US-TOTAL', 'Total Electric Power Industry', 'Total', 407762536.0), (2006, 9, 'US-TOTAL', 'Total Electric Power Industry', 'Total', 332055321.0), (2006, 10, 'US-TOTAL', 'Total Electric Power Industry', 'Total', 321567091.0), (2006, 11, 'US-TOTAL', 'Total Electric Power Industry', 'Total', 309158826.0), (2006, 12, 'US-TOTAL', 'Total Electric Power Industry', 'Total', 336283246.0), (2007, 1, 'US-TOTAL', 'Total Electric Power Industry', 'Total', 353531095.0), (2007, 2, 'US-TOTAL', 'Total Electric Power Industry', 'Total', 323230395.0), (2007, 3, 'US-TOTAL', 'Total Electric Power Industry', 'Total', 320471243.0), (2007, 4, 'US-TOTAL', 'Total Electric Power Industry', 'Total', 303129064.0), (2007, 5, 'US-TOTAL', 'Total Electric Power Industry', 'Total', 330202758.0), (2007, 6, 'US-TOTAL', 'Total Electric Power Industry', 'Total', 362754877.0), (2007, 7, 'US-TOTAL', 'Total Electric Power Industry', 'Total', 393226432.0), (2007, 8, 'US-TOTAL', 'Total Electric Power Industry', 'Total', 421796659.0), (2007, 9, 'US-TOTAL', 'Total Electric Power Industry', 'Total', 355393912.0), (2007, 10, 'US-TOTAL', 'Total Electric Power Industry', 'Total', 332615416.0), (2007, 11, 'US-TOTAL', 'Total Electric Power Industry', 'Total', 314102543.0), (2007, 12, 'US-TOTAL', 'Total Electric Power Industry', 'Total', 346290331.0), (2008, 1, 'US-TOTAL', 'Total Electric Power Industry', 'Total', 362998429.0), (2008, 2, 'US-TOTAL', 'Total Electric Power Industry', 'Total', 325105597.0), (2008, 3, 'US-TOTAL', 'Total Electric Power Industry', 'Total', 324629850.0), (2008, 4, 'US-TOTAL', 'Total Electric Power Industry', 'Total', 305865031.0), (2008, 5, 'US-TOTAL', 'Total Electric Power Industry', 'Total', 325244802.0), (2008, 6, 'US-TOTAL', 'Total Electric Power Industry', 'Total', 373109027.0), (2008, 7, 'US-TOTAL', 'Total Electric Power Industry', 'Total', 402900336.0), (2008, 8, 'US-TOTAL', 'Total Electric Power Industry', 'Total', 388986719.0), (2008, 9, 'US-TOTAL', 'Total Electric Power Industry', 'Total', 338056130.0), (2008, 10, 'US-TOTAL', 'Total Electric Power Industry', 'Total', 318547343.0), (2008, 11, 'US-TOTAL', 'Total Electric Power Industry', 'Total', 310046241.0), (2008, 12, 'US-TOTAL', 'Total Electric Power Industry', 'Total', 343898254.0), (2009, 1, 'US-TOTAL', 'Total Electric Power Industry', 'Total', 354992636.0), (2009, 2, 'US-TOTAL', 'Total Electric Power Industry', 'Total', 300887398.0), (2009, 3, 'US-TOTAL', 'Total Electric Power Industry', 'Total', 310602964.0), (2009, 4, 'US-TOTAL', 'Total Electric Power Industry', 'Total', 289537255.0), (2009, 5, 'US-TOTAL', 'Total Electric Power Industry', 'Total', 311305872.0), (2009, 6, 'US-TOTAL', 'Total Electric Power Industry', 'Total', 347658241.0), (2009, 7, 'US-TOTAL', 'Total Electric Power Industry', 'Total', 372542226.0), (2009, 8, 'US-TOTAL', 'Total Electric Power Industry', 'Total', 381221417.0), (2009, 9, 'US-TOTAL', 'Total Electric Power Industry', 'Total', 327400612.0), (2009, 10, 'US-TOTAL', 'Total Electric Power Industry', 'Total', 307040341.0), (2009, 11, 'US-TOTAL', 'Total Electric Power Industry', 'Total', 296634670.0), (2009, 12, 'US-TOTAL', 'Total Electric Power Industry', 'Total', 350507295.0), (2010, 1, 'US-TOTAL', 'Total Electric Power Industry', 'Total', 360957167.0), (2010, 2, 'US-TOTAL', 'Total Electric Power Industry', 'Total', 319734727.0), (2010, 3, 'US-TOTAL', 'Total Electric Power Industry', 'Total', 312167640.0), (2010, 4, 'US-TOTAL', 'Total Electric Power Industry', 'Total', 287800227.0), (2010, 5, 'US-TOTAL', 'Total Electric Power Industry', 'Total', 327936492.0), (2010, 6, 'US-TOTAL', 'Total Electric Power Industry', 'Total', 375759478.0), (2010, 7, 'US-TOTAL', 'Total Electric Power Industry', 'Total', 409725440.0), (2010, 8, 'US-TOTAL', 'Total Electric Power Industry', 'Total', 408884155.0), (2010, 9, 'US-TOTAL', 'Total Electric Power Industry', 'Total', 346045172.0), (2010, 10, 'US-TOTAL', 'Total Electric Power Industry', 'Total', 307920691.0), (2010, 11, 'US-TOTAL', 'Total Electric Power Industry', 'Total', 306009629.0), (2010, 12, 'US-TOTAL', 'Total Electric Power Industry', 'Total', 362119081.0), (2011, 1, 'US-TOTAL', 'Total Electric Power Industry', 'Total', 363105034.95), (2011, 2, 'US-TOTAL', 'Total Electric Power Industry', 'Total', 313292705.05), (2011, 3, 'US-TOTAL', 'Total Electric Power Industry', 'Total', 318709735.9), (2011, 4, 'US-TOTAL', 'Total Electric Power Industry', 'Total', 302399938.44), (2011, 5, 'US-TOTAL', 'Total Electric Power Industry', 'Total', 323627190.05), (2011, 6, 'US-TOTAL', 'Total Electric Power Industry', 'Total', 367726909.0), (2011, 7, 'US-TOTAL', 'Total Electric Power Industry', 'Total', 418692523.64), (2011, 8, 'US-TOTAL', 'Total Electric Power Industry', 'Total', 406541098.71), (2011, 9, 'US-TOTAL', 'Total Electric Power Industry', 'Total', 337961358.6), (2011, 10, 'US-TOTAL', 'Total Electric Power Industry', 'Total', 308727420.58), (2011, 11, 'US-TOTAL', 'Total Electric Power Industry', 'Total', 304119343.44), (2011, 12, 'US-TOTAL', 'Total Electric Power Industry', 'Total', 335752791.76), (2012, 1, 'US-TOTAL', 'Total Electric Power Industry', 'Total', 339528259.36), (2012, 2, 'US-TOTAL', 'Total Electric Power Industry', 'Total', 309389420.17), (2012, 3, 'US-TOTAL', 'Total Electric Power Industry', 'Total', 309090568.91), (2012, 4, 'US-TOTAL', 'Total Electric Power Industry', 'Total', 295228216.26), (2012, 5, 'US-TOTAL', 'Total Electric Power Industry', 'Total', 336517630.8), (2012, 6, 'US-TOTAL', 'Total Electric Power Industry', 'Total', 360826151.2), (2012, 7, 'US-TOTAL', 'Total Electric Power Industry', 'Total', 414639670.76), (2012, 8, 'US-TOTAL', 'Total Electric Power Industry', 'Total', 395699566.38), (2012, 9, 'US-TOTAL', 'Total Electric Power Industry', 'Total', 334584877.4), (2012, 10, 'US-TOTAL', 'Total Electric Power Industry', 'Total', 311650774.27), (2012, 11, 'US-TOTAL', 'Total Electric Power Industry', 'Total', 305975035.03), (2012, 12, 'US-TOTAL', 'Total Electric Power Industry', 'Total', 334635088.61), (2013, 1, 'US-TOTAL', 'Total Electric Power Industry', 'Total', 348967377.92), (2013, 2, 'US-TOTAL', 'Total Electric Power Industry', 'Total', 309728080.0), (2013, 3, 'US-TOTAL', 'Total Electric Power Industry', 'Total', 325398834.02), (2013, 4, 'US-TOTAL', 'Total Electric Power Industry', 'Total', 299332868.31), (2013, 5, 'US-TOTAL', 'Total Electric Power Industry', 'Total', 322155640.42), (2013, 6, 'US-TOTAL', 'Total Electric Power Industry', 'Total', 356822647.23), (2013, 7, 'US-TOTAL', 'Total Electric Power Industry', 'Total', 394845620.8), (2013, 8, 'US-TOTAL', 'Total Electric Power Industry', 'Total', 385285745.15), (2013, 9, 'US-TOTAL', 'Total Electric Power Industry', 'Total', 340940901.55), (2013, 10, 'US-TOTAL', 'Total Electric Power Industry', 'Total', 314925462.47), (2013, 11, 'US-TOTAL', 'Total Electric Power Industry', 'Total', 314539641.85), (2013, 12, 'US-TOTAL', 'Total Electric Power Industry', 'Total', 353021247.73), (2014, 1, 'US-TOTAL', 'Total Electric Power Industry', 'Total', 377531444.63), (2014, 2, 'US-TOTAL', 'Total Electric Power Industry', 'Total', 324128411.54), (2014, 3, 'US-TOTAL', 'Total Electric Power Industry', 'Total', 332111367.76), (2014, 4, 'US-TOTAL', 'Total Electric Power Industry', 'Total', 297652920.36), (2014, 5, 'US-TOTAL', 'Total Electric Power Industry', 'Total', 324298683.86), (2014, 6, 'US-TOTAL', 'Total Electric Power Industry', 'Total', 358391918.7), (2014, 7, 'US-TOTAL', 'Total Electric Power Industry', 'Total', 385532962.49), (2014, 8, 'US-TOTAL', 'Total Electric Power Industry', 'Total', 384191731.55), (2014, 9, 'US-TOTAL', 'Total Electric Power Industry', 'Total', 339787642.55), (2014, 10, 'US-TOTAL', 'Total Electric Power Industry', 'Total', 314559591.08), (2014, 11, 'US-TOTAL', 'Total Electric Power Industry', 'Total', 317689146.0), (2014, 12, 'US-TOTAL', 'Total Electric Power Industry', 'Total', 337058870.6), (2015, 1, 'US-TOTAL', 'Total Electric Power Industry', 'Total', 360455167.0), (2015, 2, 'US-TOTAL', 'Total Electric Power Industry', 'Total', 334475546.0), (2015, 3, 'US-TOTAL', 'Total Electric Power Industry', 'Total', 324191894.0), (2015, 4, 'US-TOTAL', 'Total Electric Power Industry', 'Total', 294133342.0), (2015, 5, 'US-TOTAL', 'Total Electric Power Industry', 'Total', 322086912.0), (2015, 8, 'US-TOTAL', 'Total Electric Power Industry', 'Total', 392116203.0), (2015, 6, 'US-TOTAL', 'Total Electric Power Industry', 'Total', 362409202.0), (2015, 7, 'US-TOTAL', 'Total Electric Power Industry', 'Total', 400418853.0), (2015, 9, 'US-TOTAL', 'Total Electric Power Industry', 'Total', 350121648.0), (2015, 10, 'US-TOTAL', 'Total Electric Power Industry', 'Total', 312111680.0), (2015, 12, 'US-TOTAL', 'Total Electric Power Industry', 'Total', 324427224.0), (2015, 11, 'US-TOTAL', 'Total Electric Power Industry', 'Total', 300653268.0), (2016, 1, 'US-TOTAL', 'Total Electric Power Industry', 'Total', 352719066.0), (2016, 4, 'US-TOTAL', 'Total Electric Power Industry', 'Total', 292893550.0), (2016, 2, 'US-TOTAL', 'Total Electric Power Industry', 'Total', 313685401.0), (2016, 3, 'US-TOTAL', 'Total Electric Power Industry', 'Total', 304389581.0), (2016, 5, 'US-TOTAL', 'Total Electric Power Industry', 'Total', 316784457.0), (2016, 8, 'US-TOTAL', 'Total Electric Power Industry', 'Total', 409700812.0), (2016, 6, 'US-TOTAL', 'Total Electric Power Industry', 'Total', 367781196.0), (2016, 7, 'US-TOTAL', 'Total Electric Power Industry', 'Total', 411886942.0), (2016, 9, 'US-TOTAL', 'Total Electric Power Industry', 'Total', 351484468.0), (2019, 6, 'US-TOTAL', 'Total Electric Power Industry', 'Total', 352928018.0), (2016, 10, 'US-TOTAL', 'Total Electric Power Industry', 'Total', 312945164.0), (2016, 11, 'US-TOTAL', 'Total Electric Power Industry', 'Total', 297061772.0), (2016, 12, 'US-TOTAL', 'Total Electric Power Industry', 'Total', 345342577.0), (2017, 2, 'US-TOTAL', 'Total Electric Power Industry', 'Total', 291049672.0), (2017, 3, 'US-TOTAL', 'Total Electric Power Industry', 'Total', 319335755.0), (2017, 5, 'US-TOTAL', 'Total Electric Power Industry', 'Total', 323446738.0), (2017, 7, 'US-TOTAL', 'Total Electric Power Industry', 'Total', 404432473.0), (2017, 8, 'US-TOTAL', 'Total Electric Power Industry', 'Total', 384738580.0), (2017, 10, 'US-TOTAL', 'Total Electric Power Industry', 'Total', 318669649.0), (2017, 12, 'US-TOTAL', 'Total Electric Power Industry', 'Total', 350415808.0), (2018, 3, 'US-TOTAL', 'Total Electric Power Industry', 'Total', 321546954.0), (2018, 6, 'US-TOTAL', 'Total Electric Power Industry', 'Total', 371885761.0), (2018, 8, 'US-TOTAL', 'Total Electric Power Industry', 'Total', 408027757.0), (2018, 10, 'US-TOTAL', 'Total Electric Power Industry', 'Total', 324931943.0), (2019, 1, 'US-TOTAL', 'Total Electric Power Industry', 'Total', 359457030.0), (2019, 3, 'US-TOTAL', 'Total Electric Power Industry', 'Total', 326568496.0), (2019, 4, 'US-TOTAL', 'Total Electric Power Industry', 'Total', 296601728.0), (2017, 1, 'US-TOTAL', 'Total Electric Power Industry', 'Total', 344332034.0), (2017, 4, 'US-TOTAL', 'Total Electric Power Industry', 'Total', 295360591.0), (2017, 6, 'US-TOTAL', 'Total Electric Power Industry', 'Total', 358522007.0), (2017, 9, 'US-TOTAL', 'Total Electric Power Industry', 'Total', 335914910.0), (2017, 11, 'US-TOTAL', 'Total Electric Power Industry', 'Total', 308052342.0), (2018, 1, 'US-TOTAL', 'Total Electric Power Industry', 'Total', 373230280.0), (2018, 2, 'US-TOTAL', 'Total Electric Power Industry', 'Total', 306894213.0), (2018, 4, 'US-TOTAL', 'Total Electric Power Industry', 'Total', 300756440.0), (2018, 5, 'US-TOTAL', 'Total Electric Power Industry', 'Total', 338947606.0), (2018, 7, 'US-TOTAL', 'Total Electric Power Industry', 'Total', 411290320.0), (2018, 9, 'US-TOTAL', 'Total Electric Power Industry', 'Total', 356258302.0), (2018, 11, 'US-TOTAL', 'Total Electric Power Industry', 'Total', 322368657.0), (2018, 12, 'US-TOTAL', 'Total Electric Power Industry', 'Total', 342139112.0), (2019, 2, 'US-TOTAL', 'Total Electric Power Industry', 'Total', 314951104.0), (2019, 5, 'US-TOTAL', 'Total Electric Power Industry', 'Total', 330343348.0), (2019, 8, 'US-TOTAL', 'Total Electric Power Industry', 'Total', 401396979.0), (2019, 7, 'US-TOTAL', 'Total Electric Power Industry', 'Total', 409972868.0), (2019, 9, 'US-TOTAL', 'Total Electric Power Industry', 'Total', 360451536.0), (2019, 10, 'US-TOTAL', 'Total Electric Power Industry', 'Total', 320250123.0), (2019, 11, 'US-TOTAL', 'Total Electric Power Industry', 'Total', 315707869.0), (2020, 1, 'US-TOTAL', 'Total Electric Power Industry', 'Total', 341839179.0), (2019, 12, 'US-TOTAL', 'Total Electric Power Industry', 'Total', 338253046.0), (2020, 2, 'US-TOTAL', 'Total Electric Power Industry', 'Total', 319540157.0), (2020, 3, 'US-TOTAL', 'Total Electric Power Industry', 'Total', 309577442.0), (2020, 6, 'US-TOTAL', 'Total Electric Power Industry', 'Total', 351734080.0), (2020, 4, 'US-TOTAL', 'Total Electric Power Industry', 'Total', 279574150.0), (2020, 7, 'US-TOTAL', 'Total Electric Power Industry', 'Total', 409550061.0), (2020, 8, 'US-TOTAL', 'Total Electric Power Industry', 'Total', 398269349.0), (2021, 1, 'US-TOTAL', 'Total Electric Power Industry', 'Total', 350795813.0), (2020, 9, 'US-TOTAL', 'Total Electric Power Industry', 'Total', 333249486.0), (2020, 10, 'US-TOTAL', 'Total Electric Power Industry', 'Total', 313522604.0), (2020, 11, 'US-TOTAL', 'Total Electric Power Industry', 'Total', 301243058.0), (2020, 12, 'US-TOTAL', 'Total Electric Power Industry', 'Total', 344335224.0), (2021, 2, 'US-TOTAL', 'Total Electric Power Industry', 'Total', 326223389.0), (2020, 5, 'US-TOTAL', 'Total Electric Power Industry', 'Total', 304583804.0), (2021, 3, 'US-TOTAL', 'Total Electric Power Industry', 'Total', 312284621.0), (2021, 4, 'US-TOTAL', 'Total Electric Power Industry', 'Total', 292503539.0), (2021, 5, 'US-TOTAL', 'Total Electric Power Industry', 'Total', 318858513.0), (2021, 6, 'US-TOTAL', 'Total Electric Power Industry', 'Total', 373754405.0), (2021, 9, 'US-TOTAL', 'Total Electric Power Industry', 'Total', 348200651.0), (2021, 7, 'US-TOTAL', 'Total Electric Power Industry', 'Total', 404748716.0), (2021, 8, 'US-TOTAL', 'Total Electric Power Industry', 'Total', 413353176.0), (2022, 4, 'US-TOTAL', 'Total Electric Power Industry', 'Total', 304348709.0), (2021, 10, 'US-TOTAL', 'Total Electric Power Industry', 'Total', 319638396.0), (2021, 11, 'US-TOTAL', 'Total Electric Power Industry', 'Total', 315494917.0), (2021, 12, 'US-TOTAL', 'Total Electric Power Industry', 'Total', 339684017.0), (2022, 1, 'US-TOTAL', 'Total Electric Power Industry', 'Total', 378966702.0), (2022, 2, 'US-TOTAL', 'Total Electric Power Industry', 'Total', 327766846.0), (2022, 3, 'US-TOTAL', 'Total Electric Power Industry', 'Total', 325952002.0), (2022, 5, 'US-TOTAL', 'Total Electric Power Industry', 'Total', 343502190.0)]\n"
     ]
    }
   ],
   "source": [
    "conn.autocommit = True\n",
    "cursor = conn.cursor()\n",
    "  \n",
    "sql = '''SELECT * \n",
    "            FROM energy \n",
    "            WHERE producer = 'Total Electric Power Industry' \n",
    "                AND source = 'Total' \n",
    "                AND state = 'US-TOTAL'\n",
    "                ;'''  \n",
    "cursor.execute(sql)\n",
    "results = cursor.fetchall()\n",
    "print(results)\n",
    "  \n",
    "conn.commit()\n",
    "#conn.close()"
   ]
  },
  {
   "cell_type": "code",
   "execution_count": 66,
   "id": "50d4eb35",
   "metadata": {},
   "outputs": [
    {
     "data": {
      "text/html": [
       "<div>\n",
       "<style scoped>\n",
       "    .dataframe tbody tr th:only-of-type {\n",
       "        vertical-align: middle;\n",
       "    }\n",
       "\n",
       "    .dataframe tbody tr th {\n",
       "        vertical-align: top;\n",
       "    }\n",
       "\n",
       "    .dataframe thead th {\n",
       "        text-align: right;\n",
       "    }\n",
       "</style>\n",
       "<table border=\"1\" class=\"dataframe\">\n",
       "  <thead>\n",
       "    <tr style=\"text-align: right;\">\n",
       "      <th></th>\n",
       "      <th>YEAR</th>\n",
       "      <th>MONTH</th>\n",
       "      <th>STATE</th>\n",
       "      <th>TYPE OF PRODUCER</th>\n",
       "      <th>ENERGY SOURCE</th>\n",
       "      <th>GENERATION (Megawatthours)</th>\n",
       "    </tr>\n",
       "  </thead>\n",
       "  <tbody>\n",
       "    <tr>\n",
       "      <th>0</th>\n",
       "      <td>2001</td>\n",
       "      <td>1</td>\n",
       "      <td>AK</td>\n",
       "      <td>Total Electric Power Industry</td>\n",
       "      <td>Coal</td>\n",
       "      <td>46903.0</td>\n",
       "    </tr>\n",
       "    <tr>\n",
       "      <th>1</th>\n",
       "      <td>2001</td>\n",
       "      <td>1</td>\n",
       "      <td>AK</td>\n",
       "      <td>Total Electric Power Industry</td>\n",
       "      <td>Petroleum</td>\n",
       "      <td>71085.0</td>\n",
       "    </tr>\n",
       "    <tr>\n",
       "      <th>2</th>\n",
       "      <td>2001</td>\n",
       "      <td>1</td>\n",
       "      <td>AK</td>\n",
       "      <td>Total Electric Power Industry</td>\n",
       "      <td>Natural Gas</td>\n",
       "      <td>367521.0</td>\n",
       "    </tr>\n",
       "    <tr>\n",
       "      <th>3</th>\n",
       "      <td>2001</td>\n",
       "      <td>1</td>\n",
       "      <td>AK</td>\n",
       "      <td>Total Electric Power Industry</td>\n",
       "      <td>Hydroelectric Conventional</td>\n",
       "      <td>104549.0</td>\n",
       "    </tr>\n",
       "    <tr>\n",
       "      <th>4</th>\n",
       "      <td>2001</td>\n",
       "      <td>1</td>\n",
       "      <td>AK</td>\n",
       "      <td>Total Electric Power Industry</td>\n",
       "      <td>Wind</td>\n",
       "      <td>87.0</td>\n",
       "    </tr>\n",
       "    <tr>\n",
       "      <th>...</th>\n",
       "      <td>...</td>\n",
       "      <td>...</td>\n",
       "      <td>...</td>\n",
       "      <td>...</td>\n",
       "      <td>...</td>\n",
       "      <td>...</td>\n",
       "    </tr>\n",
       "    <tr>\n",
       "      <th>20153</th>\n",
       "      <td>2001</td>\n",
       "      <td>12</td>\n",
       "      <td>US-TOTAL</td>\n",
       "      <td>Total Electric Power Industry</td>\n",
       "      <td>Geothermal</td>\n",
       "      <td>1190232.0</td>\n",
       "    </tr>\n",
       "    <tr>\n",
       "      <th>20154</th>\n",
       "      <td>2001</td>\n",
       "      <td>12</td>\n",
       "      <td>US-TOTAL</td>\n",
       "      <td>Total Electric Power Industry</td>\n",
       "      <td>Other Biomass</td>\n",
       "      <td>1252855.0</td>\n",
       "    </tr>\n",
       "    <tr>\n",
       "      <th>20155</th>\n",
       "      <td>2001</td>\n",
       "      <td>12</td>\n",
       "      <td>US-TOTAL</td>\n",
       "      <td>Total Electric Power Industry</td>\n",
       "      <td>Pumped Storage</td>\n",
       "      <td>-622574.0</td>\n",
       "    </tr>\n",
       "    <tr>\n",
       "      <th>20156</th>\n",
       "      <td>2001</td>\n",
       "      <td>12</td>\n",
       "      <td>US-TOTAL</td>\n",
       "      <td>Total Electric Power Industry</td>\n",
       "      <td>Other</td>\n",
       "      <td>1051329.0</td>\n",
       "    </tr>\n",
       "    <tr>\n",
       "      <th>20157</th>\n",
       "      <td>2001</td>\n",
       "      <td>12</td>\n",
       "      <td>US-TOTAL</td>\n",
       "      <td>Total Electric Power Industry</td>\n",
       "      <td>Total</td>\n",
       "      <td>305496328.0</td>\n",
       "    </tr>\n",
       "  </tbody>\n",
       "</table>\n",
       "<p>20158 rows × 6 columns</p>\n",
       "</div>"
      ],
      "text/plain": [
       "       YEAR  MONTH     STATE               TYPE OF PRODUCER  \\\n",
       "0      2001      1        AK  Total Electric Power Industry   \n",
       "1      2001      1        AK  Total Electric Power Industry   \n",
       "2      2001      1        AK  Total Electric Power Industry   \n",
       "3      2001      1        AK  Total Electric Power Industry   \n",
       "4      2001      1        AK  Total Electric Power Industry   \n",
       "...     ...    ...       ...                            ...   \n",
       "20153  2001     12  US-TOTAL  Total Electric Power Industry   \n",
       "20154  2001     12  US-TOTAL  Total Electric Power Industry   \n",
       "20155  2001     12  US-TOTAL  Total Electric Power Industry   \n",
       "20156  2001     12  US-TOTAL  Total Electric Power Industry   \n",
       "20157  2001     12  US-TOTAL  Total Electric Power Industry   \n",
       "\n",
       "                    ENERGY SOURCE  GENERATION (Megawatthours)  \n",
       "0                            Coal                     46903.0  \n",
       "1                       Petroleum                     71085.0  \n",
       "2                     Natural Gas                    367521.0  \n",
       "3      Hydroelectric Conventional                    104549.0  \n",
       "4                            Wind                        87.0  \n",
       "...                           ...                         ...  \n",
       "20153                  Geothermal                   1190232.0  \n",
       "20154               Other Biomass                   1252855.0  \n",
       "20155              Pumped Storage                   -622574.0  \n",
       "20156                       Other                   1051329.0  \n",
       "20157                       Total                 305496328.0  \n",
       "\n",
       "[20158 rows x 6 columns]"
      ]
     },
     "execution_count": 66,
     "metadata": {},
     "output_type": "execute_result"
    }
   ],
   "source": [
    "energy_data.head(20158)"
   ]
  },
  {
   "cell_type": "code",
   "execution_count": 69,
   "id": "ead4989c",
   "metadata": {},
   "outputs": [],
   "source": [
    "# Create a temporary view and transform the temporary view to retrieve only the \"School Organization\" values from the \"TYPE\" column. \n",
    "def transform_data():\n",
    "    energy_data.createOrReplaceTempView('energy')\n",
    "    conn.autocommit = True\n",
    "    cursor = conn.cursor()\n",
    "  \n",
    "    sql = '''SELECT * \n",
    "                FROM energy \n",
    "                WHERE year = 2001 \n",
    "                    AND producer = 'Total Electric Power Industry' \n",
    "                    AND source = 'Total' \n",
    "                    AND state = 'US-TOTAL'\n",
    "                    ;'''\n",
    "  \n",
    "    cursor.execute(sql)\n",
    "    results = cursor.fetchall()\n",
    "    print(results)\n",
    "  \n",
    "    conn.commit()\n",
    "  \n",
    "    return results"
   ]
  },
  {
   "cell_type": "code",
   "execution_count": 71,
   "id": "71bb45fc",
   "metadata": {},
   "outputs": [
    {
     "ename": "AttributeError",
     "evalue": "'DataFrame' object has no attribute 'createOrReplaceTempView'",
     "output_type": "error",
     "traceback": [
      "\u001b[0;31m---------------------------------------------------------------------------\u001b[0m",
      "\u001b[0;31mAttributeError\u001b[0m                            Traceback (most recent call last)",
      "\u001b[0;32m/var/folders/_l/n59lfx993pz8wm0c3316b3vm0000gn/T/ipykernel_85069/3916799311.py\u001b[0m in \u001b[0;36m<module>\u001b[0;34m\u001b[0m\n\u001b[0;32m----> 1\u001b[0;31m \u001b[0mtransform_data\u001b[0m\u001b[0;34m(\u001b[0m\u001b[0;34m)\u001b[0m\u001b[0;34m\u001b[0m\u001b[0;34m\u001b[0m\u001b[0m\n\u001b[0m",
      "\u001b[0;32m/var/folders/_l/n59lfx993pz8wm0c3316b3vm0000gn/T/ipykernel_85069/3430719545.py\u001b[0m in \u001b[0;36mtransform_data\u001b[0;34m()\u001b[0m\n\u001b[1;32m      1\u001b[0m \u001b[0;31m# Create a temporary view and transform the temporary view to retrieve only the \"School Organization\" values from the \"TYPE\" column.\u001b[0m\u001b[0;34m\u001b[0m\u001b[0;34m\u001b[0m\u001b[0m\n\u001b[1;32m      2\u001b[0m \u001b[0;32mdef\u001b[0m \u001b[0mtransform_data\u001b[0m\u001b[0;34m(\u001b[0m\u001b[0;34m)\u001b[0m\u001b[0;34m:\u001b[0m\u001b[0;34m\u001b[0m\u001b[0;34m\u001b[0m\u001b[0m\n\u001b[0;32m----> 3\u001b[0;31m     \u001b[0menergy_data\u001b[0m\u001b[0;34m.\u001b[0m\u001b[0mcreateOrReplaceTempView\u001b[0m\u001b[0;34m(\u001b[0m\u001b[0;34m'energy'\u001b[0m\u001b[0;34m)\u001b[0m\u001b[0;34m\u001b[0m\u001b[0;34m\u001b[0m\u001b[0m\n\u001b[0m\u001b[1;32m      4\u001b[0m     \u001b[0mconn\u001b[0m\u001b[0;34m.\u001b[0m\u001b[0mautocommit\u001b[0m \u001b[0;34m=\u001b[0m \u001b[0;32mTrue\u001b[0m\u001b[0;34m\u001b[0m\u001b[0;34m\u001b[0m\u001b[0m\n\u001b[1;32m      5\u001b[0m     \u001b[0mcursor\u001b[0m \u001b[0;34m=\u001b[0m \u001b[0mconn\u001b[0m\u001b[0;34m.\u001b[0m\u001b[0mcursor\u001b[0m\u001b[0;34m(\u001b[0m\u001b[0;34m)\u001b[0m\u001b[0;34m\u001b[0m\u001b[0;34m\u001b[0m\u001b[0m\n",
      "\u001b[0;32m~/opt/anaconda3/lib/python3.9/site-packages/pandas/core/generic.py\u001b[0m in \u001b[0;36m__getattr__\u001b[0;34m(self, name)\u001b[0m\n\u001b[1;32m   5485\u001b[0m         ):\n\u001b[1;32m   5486\u001b[0m             \u001b[0;32mreturn\u001b[0m \u001b[0mself\u001b[0m\u001b[0;34m[\u001b[0m\u001b[0mname\u001b[0m\u001b[0;34m]\u001b[0m\u001b[0;34m\u001b[0m\u001b[0;34m\u001b[0m\u001b[0m\n\u001b[0;32m-> 5487\u001b[0;31m         \u001b[0;32mreturn\u001b[0m \u001b[0mobject\u001b[0m\u001b[0;34m.\u001b[0m\u001b[0m__getattribute__\u001b[0m\u001b[0;34m(\u001b[0m\u001b[0mself\u001b[0m\u001b[0;34m,\u001b[0m \u001b[0mname\u001b[0m\u001b[0;34m)\u001b[0m\u001b[0;34m\u001b[0m\u001b[0;34m\u001b[0m\u001b[0m\n\u001b[0m\u001b[1;32m   5488\u001b[0m \u001b[0;34m\u001b[0m\u001b[0m\n\u001b[1;32m   5489\u001b[0m     \u001b[0;32mdef\u001b[0m \u001b[0m__setattr__\u001b[0m\u001b[0;34m(\u001b[0m\u001b[0mself\u001b[0m\u001b[0;34m,\u001b[0m \u001b[0mname\u001b[0m\u001b[0;34m:\u001b[0m \u001b[0mstr\u001b[0m\u001b[0;34m,\u001b[0m \u001b[0mvalue\u001b[0m\u001b[0;34m)\u001b[0m \u001b[0;34m->\u001b[0m \u001b[0;32mNone\u001b[0m\u001b[0;34m:\u001b[0m\u001b[0;34m\u001b[0m\u001b[0;34m\u001b[0m\u001b[0m\n",
      "\u001b[0;31mAttributeError\u001b[0m: 'DataFrame' object has no attribute 'createOrReplaceTempView'"
     ]
    }
   ],
   "source": [
    "transform_data()"
   ]
  },
  {
   "cell_type": "code",
   "execution_count": null,
   "id": "289c0cd0",
   "metadata": {},
   "outputs": [],
   "source": [
    "conn.close()"
   ]
  },
  {
   "cell_type": "code",
   "execution_count": null,
   "id": "8a7f7f9b",
   "metadata": {},
   "outputs": [],
   "source": []
  }
 ],
 "metadata": {
  "colab": {
   "include_colab_link": true,
   "provenance": []
  },
  "kernelspec": {
   "display_name": "Python 3 (ipykernel)",
   "language": "python",
   "name": "python3"
  },
  "language_info": {
   "codemirror_mode": {
    "name": "ipython",
    "version": 3
   },
   "file_extension": ".py",
   "mimetype": "text/x-python",
   "name": "python",
   "nbconvert_exporter": "python",
   "pygments_lexer": "ipython3",
   "version": "3.9.7"
  }
 },
 "nbformat": 4,
 "nbformat_minor": 5
}
