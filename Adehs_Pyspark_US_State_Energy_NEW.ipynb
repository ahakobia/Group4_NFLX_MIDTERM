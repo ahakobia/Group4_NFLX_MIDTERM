{
  "cells": [
    {
      "cell_type": "markdown",
      "metadata": {
        "id": "view-in-github",
        "colab_type": "text"
      },
      "source": [
        "<a href=\"https://colab.research.google.com/github/ahakobia/Group4_NFLX_MIDTERM/blob/main/Adehs_Pyspark_US_State_Energy_NEW.ipynb\" target=\"_parent\"><img src=\"https://colab.research.google.com/assets/colab-badge.svg\" alt=\"Open In Colab\"/></a>"
      ]
    },
    {
      "cell_type": "code",
      "execution_count": 1,
      "id": "6f50fcdd",
      "metadata": {
        "id": "6f50fcdd",
        "colab": {
          "base_uri": "https://localhost:8080/"
        },
        "outputId": "790b700a-43fd-43da-84e9-c6fcfc1a79e9"
      },
      "outputs": [
        {
          "output_type": "stream",
          "name": "stdout",
          "text": [
            "\r0% [Working]\r            \rGet:1 http://security.ubuntu.com/ubuntu bionic-security InRelease [88.7 kB]\n",
            "Get:2 https://cloud.r-project.org/bin/linux/ubuntu bionic-cran40/ InRelease [3,626 B]\n",
            "Ign:3 https://developer.download.nvidia.com/compute/machine-learning/repos/ubuntu1804/x86_64  InRelease\n",
            "Get:4 https://developer.download.nvidia.com/compute/cuda/repos/ubuntu1804/x86_64  InRelease [1,581 B]\n",
            "Hit:5 https://developer.download.nvidia.com/compute/machine-learning/repos/ubuntu1804/x86_64  Release\n",
            "Hit:6 http://ppa.launchpad.net/c2d4u.team/c2d4u4.0+/ubuntu bionic InRelease\n",
            "Hit:7 http://archive.ubuntu.com/ubuntu bionic InRelease\n",
            "Get:8 http://archive.ubuntu.com/ubuntu bionic-updates InRelease [88.7 kB]\n",
            "Hit:9 http://ppa.launchpad.net/cran/libgit2/ubuntu bionic InRelease\n",
            "Hit:10 http://ppa.launchpad.net/deadsnakes/ppa/ubuntu bionic InRelease\n",
            "Get:11 http://archive.ubuntu.com/ubuntu bionic-backports InRelease [83.3 kB]\n",
            "Get:12 http://security.ubuntu.com/ubuntu bionic-security/main amd64 Packages [2,992 kB]\n",
            "Hit:13 http://ppa.launchpad.net/graphics-drivers/ppa/ubuntu bionic InRelease\n",
            "Get:14 https://developer.download.nvidia.com/compute/cuda/repos/ubuntu1804/x86_64  Packages [950 kB]\n",
            "Get:15 http://security.ubuntu.com/ubuntu bionic-security/universe amd64 Packages [1,546 kB]\n",
            "Get:17 http://archive.ubuntu.com/ubuntu bionic-updates/universe amd64 Packages [2,324 kB]\n",
            "Get:18 http://archive.ubuntu.com/ubuntu bionic-updates/main amd64 Packages [3,424 kB]\n",
            "Fetched 11.5 MB in 5s (2,350 kB/s)\n",
            "Reading package lists... Done\n"
          ]
        }
      ],
      "source": [
        "# Activate Spark in our Colab notebook.\n",
        "import os\n",
        "# Find the latest version of spark 3.0  from http://www.apache.org/dist/spark/ and enter as the spark version\n",
        "# For example: 'spark-3.2.2'\n",
        "spark_version = 'spark-3.2.2'\n",
        "# spark_version = 'spark-3.<enter version>'\n",
        "os.environ['SPARK_VERSION']=spark_version\n",
        "\n",
        "# Install Spark and Java\n",
        "!apt-get update\n",
        "!apt-get install openjdk-11-jdk-headless -qq > /dev/null\n",
        "!wget -q http://www.apache.org/dist/spark/$SPARK_VERSION/$SPARK_VERSION-bin-hadoop3.2.tgz\n",
        "!tar xf $SPARK_VERSION-bin-hadoop3.2.tgz\n",
        "!pip install -q findspark\n",
        "\n",
        "# Set Environment Variables\n",
        "os.environ[\"JAVA_HOME\"] = \"/usr/lib/jvm/java-11-openjdk-amd64\"\n",
        "os.environ[\"SPARK_HOME\"] = f\"/content/{spark_version}-bin-hadoop3.2\""
      ]
    },
    {
      "cell_type": "code",
      "source": [
        "# Install pytest and pytest-sugar to make our output look nice.\n",
        "!pip install -q pytest pytest-sugar"
      ],
      "metadata": {
        "id": "9dqv3W_wwtZh"
      },
      "id": "9dqv3W_wwtZh",
      "execution_count": 2,
      "outputs": []
    },
    {
      "cell_type": "code",
      "source": [
        "# Create and navigate to the tdd directory.\n",
        "from pathlib import Path\n",
        "if Path.cwd().name != 'tests':\n",
        "    %mkdir tests\n",
        "    %cd tests\n",
        "# Show the current working directory.  \n",
        "%pwd"
      ],
      "metadata": {
        "colab": {
          "base_uri": "https://localhost:8080/",
          "height": 54
        },
        "id": "lFHbSdrwwvih",
        "outputId": "256018c2-02f4-40a5-e4fe-ed0042eaa1fd"
      },
      "id": "lFHbSdrwwvih",
      "execution_count": 3,
      "outputs": [
        {
          "output_type": "stream",
          "name": "stdout",
          "text": [
            "/content/tests\n"
          ]
        },
        {
          "output_type": "execute_result",
          "data": {
            "text/plain": [
              "'/content/tests'"
            ],
            "application/vnd.google.colaboratory.intrinsic+json": {
              "type": "string"
            }
          },
          "metadata": {},
          "execution_count": 3
        }
      ]
    },
    {
      "cell_type": "code",
      "source": [
        "# Initialize the __init__.py file. \n",
        "# This file will be stored in our pwd (/content/tests)\n",
        "%%file __init__.py\n",
        "pass"
      ],
      "metadata": {
        "colab": {
          "base_uri": "https://localhost:8080/"
        },
        "id": "zqP8DmQvxBPy",
        "outputId": "53c2df6d-cf92-4d44-bb7b-beb4af11ed86"
      },
      "id": "zqP8DmQvxBPy",
      "execution_count": 4,
      "outputs": [
        {
          "output_type": "stream",
          "name": "stdout",
          "text": [
            "Writing __init__.py\n"
          ]
        }
      ]
    },
    {
      "cell_type": "code",
      "source": [
        "from google.colab import drive\n",
        "drive.mount('/content/drive')"
      ],
      "metadata": {
        "colab": {
          "base_uri": "https://localhost:8080/"
        },
        "id": "X6Rw0O2s3rVb",
        "outputId": "52122df1-581e-4303-815e-8ce4fc72f593"
      },
      "id": "X6Rw0O2s3rVb",
      "execution_count": 5,
      "outputs": [
        {
          "output_type": "stream",
          "name": "stdout",
          "text": [
            "Mounted at /content/drive\n"
          ]
        }
      ]
    },
    {
      "cell_type": "code",
      "source": [
        "import findspark\n",
        "findspark.init()\n",
        "\n",
        "# Import other dependencies. \n",
        "from pyspark import SparkFiles\n",
        "from pyspark.sql import SparkSession\n",
        "\n",
        "import time\n",
        "\n",
        "spark = SparkSession \\\n",
        "    .builder \\\n",
        "    .appName(\"energy file read in\") \\\n",
        "    .getOrCreate()\n",
        "energy = spark.read.csv('../drive/MyDrive/organised_Gen.csv', header = True, inferSchema = True)\n",
        "energy = energy.withColumnRenamed('_c0', 'id')\n",
        "energy = energy.withColumnRenamed('YEAR', 'year')\n",
        "energy = energy.withColumnRenamed('MONTH', 'month')\n",
        "energy = energy.withColumnRenamed('TYPE OF PRODUCER', 'producer')\n",
        "energy = energy.withColumnRenamed('ENERGY SOURCE', 'source')\n",
        "energy = energy.withColumnRenamed('GENERATION (Megawatthours)', 'generated')\n",
        "energy.write.parquet('parquet_energy',mode='overwrite')\n",
        "p_energy = spark.read.parquet('parquet_energy')\n",
        "p_energy = p_energy.where(\"producer == 'Total Electric Power Industry' AND source == 'Total' AND state != 'US-TOTAL AND year != 2022'\")\n",
        "p_energy.createOrReplaceTempView('p_energy_data')\n",
        "\n",
        "start_time = time.time()\n",
        "  \n",
        "q_df = spark.sql(\"\"\"\n",
        "      SELECT year, state, SUM(generated) as Total_generated\n",
        "            FROM p_energy_data \n",
        "            Group By year, state\n",
        "            Order By year DESC, Total_generated DESC\n",
        "                \"\"\")\n",
        "print(\"--- %s seconds ---\" % (time.time() - start_time))\n",
        "\n",
        "q_df.show()"
      ],
      "metadata": {
        "colab": {
          "base_uri": "https://localhost:8080/"
        },
        "id": "AIt3SGUa8r_Y",
        "outputId": "a289ad20-e6d9-4df3-9111-9d925f78d914"
      },
      "id": "AIt3SGUa8r_Y",
      "execution_count": 17,
      "outputs": [
        {
          "output_type": "stream",
          "name": "stdout",
          "text": [
            "--- 0.01768660545349121 seconds ---\n",
            "+----+--------+---------------+\n",
            "|year|   state|Total_generated|\n",
            "+----+--------+---------------+\n",
            "|2022|US-TOTAL|  1.680536449E9|\n",
            "|2022|      TX|   2.02632121E8|\n",
            "|2022|      PA|    9.8886241E7|\n",
            "|2022|      FL|    9.8030052E7|\n",
            "|2022|      IL|     7.797494E7|\n",
            "|2022|      CA|    7.4409695E7|\n",
            "|2022|      AL|    5.8449245E7|\n",
            "|2022|      OH|    5.4393347E7|\n",
            "|2022|      NC|    5.2738148E7|\n",
            "|2022|      GA|    5.0216005E7|\n",
            "|2022|      WA|    4.9491911E7|\n",
            "|2022|      NY|    4.9361595E7|\n",
            "|2022|      MI|    4.4213685E7|\n",
            "|2022|      LA|     4.158867E7|\n",
            "|2022|      SC|    4.0976847E7|\n",
            "|2022|      IN|    4.0925857E7|\n",
            "|2022|      AZ|    3.7998697E7|\n",
            "|2022|      VA|    3.4972164E7|\n",
            "|2022|      TN|    3.3679753E7|\n",
            "|2022|      OK|    3.3396004E7|\n",
            "+----+--------+---------------+\n",
            "only showing top 20 rows\n",
            "\n"
          ]
        }
      ]
    },
    {
      "cell_type": "code",
      "source": [
        "# Create a bank_data.py file and write the function to it. \n",
        "# This file will be stored in our pwd (/content/tests).\n",
        "%%file total_energy.py\n",
        "\n",
        "# Import findspark() and initialize. \n",
        "import findspark\n",
        "findspark.init()\n",
        "\n",
        "# Import other dependencies. \n",
        "from pyspark import SparkFiles\n",
        "from pyspark.sql import SparkSession\n",
        "\n",
        "# Create the import_data function. \n",
        "def import_data():\n",
        "    spark = SparkSession \\\n",
        "    .builder \\\n",
        "    .appName(\"energy file read in\") \\\n",
        "    .getOrCreate()\n",
        "    energy = spark.read.csv('../drive/MyDrive/organised_Gen.csv', header = True, inferSchema = True)\n",
        "    energy = energy.withColumnRenamed('_c0', 'id')\n",
        "    energy = energy.withColumnRenamed('YEAR', 'year')\n",
        "    energy = energy.withColumnRenamed('MONTH', 'month')\n",
        "    energy = energy.withColumnRenamed('TYPE OF PRODUCER', 'producer')\n",
        "    energy = energy.withColumnRenamed('ENERGY SOURCE', 'source')\n",
        "    energy = energy.withColumnRenamed('GENERATION (Megawatthours)', 'generated')\n",
        "    energy.write.parquet('parquet_energy',mode='overwrite')\n",
        "    return energy\n",
        "\n",
        "def transform_data():\n",
        "    spark = SparkSession \\\n",
        "    .builder \\\n",
        "    .appName(\"energy file read in\") \\\n",
        "    .getOrCreate()\n",
        "    p_energy = spark.read.parquet('parquet_energy')\n",
        "    p_energy = p_energy.where(\"producer == 'Total Electric Power Industry' AND source == 'Total' AND state != 'US-TOTAL AND year != 2022'\")\n",
        "    p_energy.createOrReplaceTempView('p_energy_data')\n",
        "    return p_energy\n",
        "\n",
        "def query_data():\n",
        "    spark = SparkSession \\\n",
        "    .builder \\\n",
        "    .appName(\"energy file read in\") \\\n",
        "    .getOrCreate()\n",
        "    q_df = spark.sql(\"\"\"\n",
        "      SELECT year, state, SUM(generated) as Total_generated\n",
        "            FROM p_energy_data \n",
        "            Group By year, state\n",
        "            Order By year DESC, Total_generated DESC\n",
        "                \"\"\")\n",
        "    return q_df\n"
      ],
      "metadata": {
        "colab": {
          "base_uri": "https://localhost:8080/"
        },
        "id": "6-cuCOSFxDyM",
        "outputId": "4707e2fa-4609-484a-8d56-1006c216be33"
      },
      "id": "6-cuCOSFxDyM",
      "execution_count": 18,
      "outputs": [
        {
          "output_type": "stream",
          "name": "stdout",
          "text": [
            "Overwriting total_energy.py\n"
          ]
        }
      ]
    },
    {
      "cell_type": "code",
      "source": [
        "# Create a test_bank_data.py file and write the test functions to it. \n",
        "# This file will be stored in our pwd (/content/tests).\n",
        "%%file test_total_states_energy.py\n",
        "\n",
        "from total_energy import (import_data, transform_data, query_data)\n",
        "\n",
        "# Write the tests. \n",
        "def test_row_count_before_transform():\n",
        "  df = import_data()\n",
        "  assert df.count() == 496774\n",
        "\n",
        "def test_column_count_before_transform():\n",
        "  df = import_data()\n",
        "  assert len(df.columns) == 7\n",
        "\n",
        "def test_row_count_after_transform():\n",
        "    df = transform_data()\n",
        "    assert df.count() != 496774\n",
        "\n",
        "def test_column_count_after_transform():\n",
        "    df = transform_data()\n",
        "    assert len(df.columns) == 7\n",
        "\n",
        "def test_row_count_query():\n",
        "    df = query_data()\n",
        "    assert df.count() == 1144\n",
        "\n",
        "def test_column_count_query():\n",
        "    df = query_data()\n",
        "    assert len(df.columns) == 3\n"
      ],
      "metadata": {
        "colab": {
          "base_uri": "https://localhost:8080/"
        },
        "id": "RpK75RP5xMQV",
        "outputId": "bd49a2dd-fc58-4f12-8fe8-d6f4b0c39cf9"
      },
      "id": "RpK75RP5xMQV",
      "execution_count": 23,
      "outputs": [
        {
          "output_type": "stream",
          "name": "stdout",
          "text": [
            "Overwriting test_total_states_energy.py\n"
          ]
        }
      ]
    },
    {
      "cell_type": "code",
      "source": [
        "# Run the test_import_data.py file with pytest. \n",
        "!python -m pytest test_total_states_energy.py"
      ],
      "metadata": {
        "colab": {
          "base_uri": "https://localhost:8080/"
        },
        "id": "SX7Z2IM9xNAN",
        "outputId": "5af40ea4-84db-41f5-aab5-780a0150bfcd"
      },
      "id": "SX7Z2IM9xNAN",
      "execution_count": 24,
      "outputs": [
        {
          "output_type": "stream",
          "name": "stdout",
          "text": [
            "\u001b[1mTest session starts (platform: linux, Python 3.7.14, pytest 3.6.4, pytest-sugar 0.9.5)\u001b[0m\n",
            "rootdir: /content/tests, inifile:\n",
            "plugins: typeguard-2.7.1, sugar-0.9.5\n",
            "\n",
            " \u001b[36m\u001b[0mtest_total_states_energy.py\u001b[0m \u001b[32m✓\u001b[0m\u001b[32m✓\u001b[0m\u001b[32m✓\u001b[0m\u001b[32m✓\u001b[0m\u001b[32m✓\u001b[0m\u001b[32m✓\u001b[0m                              \u001b[32m100% \u001b[0m\u001b[40m\u001b[32m█\u001b[0m\u001b[40m\u001b[32m█\u001b[0m\u001b[40m\u001b[32m█\u001b[0m\u001b[40m\u001b[32m█\u001b[0m\u001b[40m\u001b[32m█\u001b[0m\u001b[40m\u001b[32m█\u001b[0m\u001b[40m\u001b[32m█\u001b[0m\u001b[40m\u001b[32m█\u001b[0m\u001b[40m\u001b[32m█\u001b[0m\u001b[40m\u001b[32m█\u001b[0m\n",
            "\n",
            "Results (34.13s):\n",
            "\u001b[32m       6 passed\u001b[0m\n"
          ]
        }
      ]
    },
    {
      "cell_type": "code",
      "source": [],
      "metadata": {
        "id": "V11Ep4Yd2v6t"
      },
      "id": "V11Ep4Yd2v6t",
      "execution_count": null,
      "outputs": []
    }
  ],
  "metadata": {
    "colab": {
      "provenance": [],
      "collapsed_sections": [],
      "include_colab_link": true
    },
    "kernelspec": {
      "display_name": "Python 3 (ipykernel)",
      "language": "python",
      "name": "python3"
    },
    "language_info": {
      "codemirror_mode": {
        "name": "ipython",
        "version": 3
      },
      "file_extension": ".py",
      "mimetype": "text/x-python",
      "name": "python",
      "nbconvert_exporter": "python",
      "pygments_lexer": "ipython3",
      "version": "3.9.7"
    }
  },
  "nbformat": 4,
  "nbformat_minor": 5
}