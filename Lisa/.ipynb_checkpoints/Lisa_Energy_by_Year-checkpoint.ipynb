{
 "cells": [
  {
   "cell_type": "code",
   "execution_count": 1,
   "id": "7b73fc8a",
   "metadata": {},
   "outputs": [
    {
     "name": "stdout",
     "output_type": "stream",
     "text": [
      "Overwriting total_energy.py\n"
     ]
    }
   ],
   "source": [
    "%%file total_energy.py\n",
    "\n",
    "import pandas as pd\n",
    "\n",
    "def import_data():\n",
    "    csv_file = \"../Resources/organised_Gen.csv\"\n",
    "    energy = pd.read_csv(csv_file)\n",
    "    return energy"
   ]
  },
  {
   "cell_type": "code",
   "execution_count": 2,
   "id": "462ca7a6",
   "metadata": {},
   "outputs": [
    {
     "data": {
      "text/html": [
       "<div>\n",
       "<style scoped>\n",
       "    .dataframe tbody tr th:only-of-type {\n",
       "        vertical-align: middle;\n",
       "    }\n",
       "\n",
       "    .dataframe tbody tr th {\n",
       "        vertical-align: top;\n",
       "    }\n",
       "\n",
       "    .dataframe thead th {\n",
       "        text-align: right;\n",
       "    }\n",
       "</style>\n",
       "<table border=\"1\" class=\"dataframe\">\n",
       "  <thead>\n",
       "    <tr style=\"text-align: right;\">\n",
       "      <th></th>\n",
       "      <th>Unnamed: 0</th>\n",
       "      <th>YEAR</th>\n",
       "      <th>MONTH</th>\n",
       "      <th>STATE</th>\n",
       "      <th>TYPE OF PRODUCER</th>\n",
       "      <th>ENERGY SOURCE</th>\n",
       "      <th>GENERATION (Megawatthours)</th>\n",
       "    </tr>\n",
       "  </thead>\n",
       "  <tbody>\n",
       "    <tr>\n",
       "      <th>0</th>\n",
       "      <td>0</td>\n",
       "      <td>2001</td>\n",
       "      <td>1</td>\n",
       "      <td>AK</td>\n",
       "      <td>Total Electric Power Industry</td>\n",
       "      <td>Coal</td>\n",
       "      <td>46903.0</td>\n",
       "    </tr>\n",
       "    <tr>\n",
       "      <th>1</th>\n",
       "      <td>1</td>\n",
       "      <td>2001</td>\n",
       "      <td>1</td>\n",
       "      <td>AK</td>\n",
       "      <td>Total Electric Power Industry</td>\n",
       "      <td>Petroleum</td>\n",
       "      <td>71085.0</td>\n",
       "    </tr>\n",
       "    <tr>\n",
       "      <th>2</th>\n",
       "      <td>2</td>\n",
       "      <td>2001</td>\n",
       "      <td>1</td>\n",
       "      <td>AK</td>\n",
       "      <td>Total Electric Power Industry</td>\n",
       "      <td>Natural Gas</td>\n",
       "      <td>367521.0</td>\n",
       "    </tr>\n",
       "    <tr>\n",
       "      <th>3</th>\n",
       "      <td>3</td>\n",
       "      <td>2001</td>\n",
       "      <td>1</td>\n",
       "      <td>AK</td>\n",
       "      <td>Total Electric Power Industry</td>\n",
       "      <td>Hydroelectric Conventional</td>\n",
       "      <td>104549.0</td>\n",
       "    </tr>\n",
       "    <tr>\n",
       "      <th>4</th>\n",
       "      <td>4</td>\n",
       "      <td>2001</td>\n",
       "      <td>1</td>\n",
       "      <td>AK</td>\n",
       "      <td>Total Electric Power Industry</td>\n",
       "      <td>Wind</td>\n",
       "      <td>87.0</td>\n",
       "    </tr>\n",
       "    <tr>\n",
       "      <th>...</th>\n",
       "      <td>...</td>\n",
       "      <td>...</td>\n",
       "      <td>...</td>\n",
       "      <td>...</td>\n",
       "      <td>...</td>\n",
       "      <td>...</td>\n",
       "      <td>...</td>\n",
       "    </tr>\n",
       "    <tr>\n",
       "      <th>496769</th>\n",
       "      <td>10581</td>\n",
       "      <td>2022</td>\n",
       "      <td>5</td>\n",
       "      <td>WY</td>\n",
       "      <td>Electric Generators, Electric Utilities</td>\n",
       "      <td>Coal</td>\n",
       "      <td>2071403.0</td>\n",
       "    </tr>\n",
       "    <tr>\n",
       "      <th>496770</th>\n",
       "      <td>10582</td>\n",
       "      <td>2022</td>\n",
       "      <td>5</td>\n",
       "      <td>WY</td>\n",
       "      <td>Electric Generators, Electric Utilities</td>\n",
       "      <td>Hydroelectric Conventional</td>\n",
       "      <td>96790.0</td>\n",
       "    </tr>\n",
       "    <tr>\n",
       "      <th>496771</th>\n",
       "      <td>10583</td>\n",
       "      <td>2022</td>\n",
       "      <td>5</td>\n",
       "      <td>WY</td>\n",
       "      <td>Electric Generators, Electric Utilities</td>\n",
       "      <td>Natural Gas</td>\n",
       "      <td>91570.0</td>\n",
       "    </tr>\n",
       "    <tr>\n",
       "      <th>496772</th>\n",
       "      <td>10584</td>\n",
       "      <td>2022</td>\n",
       "      <td>5</td>\n",
       "      <td>WY</td>\n",
       "      <td>Electric Generators, Electric Utilities</td>\n",
       "      <td>Petroleum</td>\n",
       "      <td>1812.0</td>\n",
       "    </tr>\n",
       "    <tr>\n",
       "      <th>496773</th>\n",
       "      <td>10585</td>\n",
       "      <td>2022</td>\n",
       "      <td>5</td>\n",
       "      <td>WY</td>\n",
       "      <td>Electric Generators, Electric Utilities</td>\n",
       "      <td>Wind</td>\n",
       "      <td>452913.0</td>\n",
       "    </tr>\n",
       "  </tbody>\n",
       "</table>\n",
       "<p>496774 rows × 7 columns</p>\n",
       "</div>"
      ],
      "text/plain": [
       "        Unnamed: 0  YEAR  MONTH STATE  \\\n",
       "0                0  2001      1    AK   \n",
       "1                1  2001      1    AK   \n",
       "2                2  2001      1    AK   \n",
       "3                3  2001      1    AK   \n",
       "4                4  2001      1    AK   \n",
       "...            ...   ...    ...   ...   \n",
       "496769       10581  2022      5    WY   \n",
       "496770       10582  2022      5    WY   \n",
       "496771       10583  2022      5    WY   \n",
       "496772       10584  2022      5    WY   \n",
       "496773       10585  2022      5    WY   \n",
       "\n",
       "                               TYPE OF PRODUCER               ENERGY SOURCE  \\\n",
       "0                 Total Electric Power Industry                        Coal   \n",
       "1                 Total Electric Power Industry                   Petroleum   \n",
       "2                 Total Electric Power Industry                 Natural Gas   \n",
       "3                 Total Electric Power Industry  Hydroelectric Conventional   \n",
       "4                 Total Electric Power Industry                        Wind   \n",
       "...                                         ...                         ...   \n",
       "496769  Electric Generators, Electric Utilities                        Coal   \n",
       "496770  Electric Generators, Electric Utilities  Hydroelectric Conventional   \n",
       "496771  Electric Generators, Electric Utilities                 Natural Gas   \n",
       "496772  Electric Generators, Electric Utilities                   Petroleum   \n",
       "496773  Electric Generators, Electric Utilities                        Wind   \n",
       "\n",
       "        GENERATION (Megawatthours)  \n",
       "0                          46903.0  \n",
       "1                          71085.0  \n",
       "2                         367521.0  \n",
       "3                         104549.0  \n",
       "4                             87.0  \n",
       "...                            ...  \n",
       "496769                   2071403.0  \n",
       "496770                     96790.0  \n",
       "496771                     91570.0  \n",
       "496772                      1812.0  \n",
       "496773                    452913.0  \n",
       "\n",
       "[496774 rows x 7 columns]"
      ]
     },
     "execution_count": 2,
     "metadata": {},
     "output_type": "execute_result"
    }
   ],
   "source": [
    "from total_energy import import_data\n",
    "\n",
    "x = import_data()\n",
    "x"
   ]
  },
  {
   "cell_type": "code",
   "execution_count": 3,
   "id": "e7fb247d",
   "metadata": {},
   "outputs": [
    {
     "name": "stdout",
     "output_type": "stream",
     "text": [
      "Overwriting tran_total_energy.py\n"
     ]
    }
   ],
   "source": [
    "%%file tran_total_energy.py\n",
    "\n",
    "from total_energy import import_data\n",
    "\n",
    "import pandas as pd\n",
    "\n",
    "def transform_data():\n",
    "    \n",
    "    tf_energy_data = import_data().drop(columns=['Unnamed: 0'])\n",
    "\n",
    "    tf_energy_data = tf_energy_data.rename(columns={\n",
    "        \"YEAR\": \"year\", \n",
    "        \"MONTH\": \"month\",\n",
    "        \"STATE\": \"state\",\n",
    "        \"TYPE OF PRODUCER\": \"producer\",\n",
    "        \"ENERGY SOURCE\": \"source\",\n",
    "        \"GENERATION (Megawatthours)\": \"generated\"})\n",
    "\n",
    "\n",
    "    tf_energy_data['producer'] = tf_energy_data['producer'].apply(lambda x: x.replace(',','/'))\n",
    "    tf_energy_data = tf_energy_data[tf_energy_data.state != 'US-TOTAL']\n",
    "    tf_energy_data = tf_energy_data[tf_energy_data.producer != 'Total Electric Power Industry']\n",
    "    tf_energy_data = tf_energy_data[tf_energy_data.source != 'Total']\n",
    "\n",
    "\n",
    "    tf_energy_data = tf_energy_data.reset_index(drop = True)\n",
    "\n",
    "    tf_energy_data = tf_energy_data.replace(to_replace = ['Wind','Solar Thermal and Photovoltaic', \n",
    "                                                 'Hydroelectric Conventional', 'Geothermal', \n",
    "                                                 'Wood and Wood Derived Fuels', 'Other Biomass', \n",
    "                                                 'Pumped Storage'],value = 'Renewable energy')\n",
    "    tf_energy_data = tf_energy_data.groupby(['year','month','state','producer','source'],\n",
    "                                            as_index=False).agg({'generated': 'sum'})\n",
    "    \n",
    "    return tf_energy_data"
   ]
  },
  {
   "cell_type": "code",
   "execution_count": 4,
   "id": "90111ebf",
   "metadata": {},
   "outputs": [
    {
     "name": "stdout",
     "output_type": "stream",
     "text": [
      "Query execution time: 1.36146521s\n"
     ]
    },
    {
     "data": {
      "text/html": [
       "<div>\n",
       "<style scoped>\n",
       "    .dataframe tbody tr th:only-of-type {\n",
       "        vertical-align: middle;\n",
       "    }\n",
       "\n",
       "    .dataframe tbody tr th {\n",
       "        vertical-align: top;\n",
       "    }\n",
       "\n",
       "    .dataframe thead th {\n",
       "        text-align: right;\n",
       "    }\n",
       "</style>\n",
       "<table border=\"1\" class=\"dataframe\">\n",
       "  <thead>\n",
       "    <tr style=\"text-align: right;\">\n",
       "      <th></th>\n",
       "      <th>year</th>\n",
       "      <th>month</th>\n",
       "      <th>state</th>\n",
       "      <th>producer</th>\n",
       "      <th>source</th>\n",
       "      <th>generated</th>\n",
       "    </tr>\n",
       "  </thead>\n",
       "  <tbody>\n",
       "    <tr>\n",
       "      <th>0</th>\n",
       "      <td>2001</td>\n",
       "      <td>1</td>\n",
       "      <td>AK</td>\n",
       "      <td>Combined Heat and Power/ Commercial Power</td>\n",
       "      <td>Coal</td>\n",
       "      <td>8751.0</td>\n",
       "    </tr>\n",
       "    <tr>\n",
       "      <th>1</th>\n",
       "      <td>2001</td>\n",
       "      <td>1</td>\n",
       "      <td>AK</td>\n",
       "      <td>Combined Heat and Power/ Commercial Power</td>\n",
       "      <td>Petroleum</td>\n",
       "      <td>1073.0</td>\n",
       "    </tr>\n",
       "    <tr>\n",
       "      <th>2</th>\n",
       "      <td>2001</td>\n",
       "      <td>1</td>\n",
       "      <td>AK</td>\n",
       "      <td>Combined Heat and Power/ Electric Power</td>\n",
       "      <td>Coal</td>\n",
       "      <td>19742.0</td>\n",
       "    </tr>\n",
       "    <tr>\n",
       "      <th>3</th>\n",
       "      <td>2001</td>\n",
       "      <td>1</td>\n",
       "      <td>AK</td>\n",
       "      <td>Combined Heat and Power/ Electric Power</td>\n",
       "      <td>Petroleum</td>\n",
       "      <td>213.0</td>\n",
       "    </tr>\n",
       "    <tr>\n",
       "      <th>4</th>\n",
       "      <td>2001</td>\n",
       "      <td>1</td>\n",
       "      <td>AK</td>\n",
       "      <td>Combined Heat and Power/ Industrial Power</td>\n",
       "      <td>Natural Gas</td>\n",
       "      <td>62244.0</td>\n",
       "    </tr>\n",
       "    <tr>\n",
       "      <th>...</th>\n",
       "      <td>...</td>\n",
       "      <td>...</td>\n",
       "      <td>...</td>\n",
       "      <td>...</td>\n",
       "      <td>...</td>\n",
       "      <td>...</td>\n",
       "    </tr>\n",
       "    <tr>\n",
       "      <th>224657</th>\n",
       "      <td>2022</td>\n",
       "      <td>5</td>\n",
       "      <td>WY</td>\n",
       "      <td>Electric Generators/ Electric Utilities</td>\n",
       "      <td>Petroleum</td>\n",
       "      <td>1812.0</td>\n",
       "    </tr>\n",
       "    <tr>\n",
       "      <th>224658</th>\n",
       "      <td>2022</td>\n",
       "      <td>5</td>\n",
       "      <td>WY</td>\n",
       "      <td>Electric Generators/ Electric Utilities</td>\n",
       "      <td>Renewable energy</td>\n",
       "      <td>549703.0</td>\n",
       "    </tr>\n",
       "    <tr>\n",
       "      <th>224659</th>\n",
       "      <td>2022</td>\n",
       "      <td>5</td>\n",
       "      <td>WY</td>\n",
       "      <td>Electric Generators/ Independent Power Producers</td>\n",
       "      <td>Coal</td>\n",
       "      <td>55187.0</td>\n",
       "    </tr>\n",
       "    <tr>\n",
       "      <th>224660</th>\n",
       "      <td>2022</td>\n",
       "      <td>5</td>\n",
       "      <td>WY</td>\n",
       "      <td>Electric Generators/ Independent Power Producers</td>\n",
       "      <td>Natural Gas</td>\n",
       "      <td>0.0</td>\n",
       "    </tr>\n",
       "    <tr>\n",
       "      <th>224661</th>\n",
       "      <td>2022</td>\n",
       "      <td>5</td>\n",
       "      <td>WY</td>\n",
       "      <td>Electric Generators/ Independent Power Producers</td>\n",
       "      <td>Renewable energy</td>\n",
       "      <td>400255.0</td>\n",
       "    </tr>\n",
       "  </tbody>\n",
       "</table>\n",
       "<p>224662 rows × 6 columns</p>\n",
       "</div>"
      ],
      "text/plain": [
       "        year  month state                                          producer  \\\n",
       "0       2001      1    AK         Combined Heat and Power/ Commercial Power   \n",
       "1       2001      1    AK         Combined Heat and Power/ Commercial Power   \n",
       "2       2001      1    AK           Combined Heat and Power/ Electric Power   \n",
       "3       2001      1    AK           Combined Heat and Power/ Electric Power   \n",
       "4       2001      1    AK         Combined Heat and Power/ Industrial Power   \n",
       "...      ...    ...   ...                                               ...   \n",
       "224657  2022      5    WY           Electric Generators/ Electric Utilities   \n",
       "224658  2022      5    WY           Electric Generators/ Electric Utilities   \n",
       "224659  2022      5    WY  Electric Generators/ Independent Power Producers   \n",
       "224660  2022      5    WY  Electric Generators/ Independent Power Producers   \n",
       "224661  2022      5    WY  Electric Generators/ Independent Power Producers   \n",
       "\n",
       "                  source  generated  \n",
       "0                   Coal     8751.0  \n",
       "1              Petroleum     1073.0  \n",
       "2                   Coal    19742.0  \n",
       "3              Petroleum      213.0  \n",
       "4            Natural Gas    62244.0  \n",
       "...                  ...        ...  \n",
       "224657         Petroleum     1812.0  \n",
       "224658  Renewable energy   549703.0  \n",
       "224659              Coal    55187.0  \n",
       "224660       Natural Gas        0.0  \n",
       "224661  Renewable energy   400255.0  \n",
       "\n",
       "[224662 rows x 6 columns]"
      ]
     },
     "execution_count": 4,
     "metadata": {},
     "output_type": "execute_result"
    }
   ],
   "source": [
    "from tran_total_energy import transform_data\n",
    "import sys\n",
    "\n",
    "import psycopg2\n",
    "\n",
    "from psycopg2 import OperationalError, errorcodes, errors\n",
    "import psycopg2.extras as extras\n",
    "import pandas as pd\n",
    "from io import StringIO\n",
    "import numpy as np\n",
    "\n",
    "import plotly.express as px\n",
    "from timeit import default_timer as timer\n",
    "\n",
    "from tran_total_energy import transform_data\n",
    "start = timer()\n",
    "x = transform_data()\n",
    "end = timer()\n",
    "k = end - start \n",
    "print(\"Query execution time: {}s\".format(k))\n",
    "x"
   ]
  },
  {
   "cell_type": "code",
   "execution_count": 5,
   "id": "c3cc71c6",
   "metadata": {},
   "outputs": [
    {
     "name": "stdout",
     "output_type": "stream",
     "text": [
      "Overwriting query_total_energy.py\n"
     ]
    }
   ],
   "source": [
    "%%file query_total_energy.py \n",
    "\n",
    "from tran_total_energy import transform_data\n",
    "import sys\n",
    "import pandas as pd\n",
    "\n",
    "import psycopg2\n",
    "\n",
    "from psycopg2 import OperationalError, errorcodes, errors\n",
    "import psycopg2.extras as extras\n",
    "from io import StringIO\n",
    "import numpy as np\n",
    "\n",
    "import plotly.express as px\n",
    "from timeit import default_timer as timer\n",
    "\n",
    "edf = transform_data()\n",
    "\n",
    "params_dic = {\n",
    "    \"host\"      : \"localhost\",\n",
    "    \"user\"      : \"postgres\",\n",
    "    \"password\"  : \"postgres\",\n",
    "    \"port\"      : \"5432\"\n",
    "}\n",
    "\n",
    "def connect(params_dic):\n",
    "    \"\"\" Connect to the PostgreSQL database server \"\"\"\n",
    "    conn = None\n",
    "    try:\n",
    "        # connect to the PostgreSQL server\n",
    "        print('Connecting to the PostgreSQL database...')\n",
    "        conn = psycopg2.connect(**params_dic)\n",
    "    except (Exception, psycopg2.DatabaseError) as error:\n",
    "        print(error)\n",
    "        sys.exit(1) \n",
    "    print(\"Connection successful\")\n",
    "    return conn\n",
    "conn = connect(params_dic)\n",
    "\n",
    "#install psycopg2-binary for MacOs if you don't have it\n",
    "    #!pip install psycopg2-binary\n",
    "\n",
    "# Define a function that handles and parses psycopg2 exceptions\n",
    "def show_psycopg2_exception(err):\n",
    "    # get details about the exception\n",
    "    err_type, err_obj, traceback = sys.exc_info()    \n",
    "    # get the line number when exception occured\n",
    "    line_n = traceback.tb_lineno    \n",
    "    # print the connect() error\n",
    "    print (\"\\npsycopg2 ERROR:\", err, \"on line number:\", line_n)\n",
    "    print (\"psycopg2 traceback:\", traceback, \"-- type:\", err_type) \n",
    "    # psycopg2 extensions.Diagnostics object attribute\n",
    "    print (\"\\nextensions.Diagnostics:\", err.diag)    \n",
    "    # print the pgcode and pgerror exceptions\n",
    "    print (\"pgerror:\", err.pgerror)\n",
    "    print (\"pgcode:\", err.pgcode, \"\\n\")\n",
    "\n",
    "def create_table(cursor):\n",
    "    try:\n",
    "        # \n",
    "        cursor.execute(\"DROP TABLE IF EXISTS energy_over_time;\")\n",
    "        sql = '''CREATE TABLE energy_over_time(\n",
    "        year INT NOT NULL,\n",
    "        month INT NOT NULL,\n",
    "        state VARCHAR NOT NULL, \n",
    "        producer VARCHAR NOT NULL,\n",
    "        source VARCHAR NOT NULL, \n",
    "        generated FLOAT NOT NULL\n",
    "        )'''\n",
    "        # Creating a table\n",
    "        cursor.execute(sql);\n",
    "        print(\"energy table is created successfully...............\")  \n",
    "    except OperationalError as err:\n",
    "        # pass exception to function\n",
    "        show_psycopg2_exception(err)\n",
    "        # set the connection to 'None' in case of error\n",
    "        conn = None\n",
    "\n",
    "# Define function using copy_from() with StringIO to insert the dataframe\n",
    "def copy_from_dataFile_StringIO(conn, datafrm, table):\n",
    "    \n",
    "    #save dataframe to an in memory buffer\n",
    "    buffer = StringIO()\n",
    "    datafrm.to_csv(buffer, header=False, index = False)\n",
    "    buffer.seek(0)\n",
    "    \n",
    "    cursor = conn.cursor()\n",
    "    try:\n",
    "        cursor.copy_from(buffer, table, sep=\",\")\n",
    "        print(\"Data inserted using copy_from_datafile_StringIO() successfully....\")\n",
    "    except (Exception, psycopg2.DatabaseError) as err:\n",
    "        # pass exception to function\n",
    "        show_psycopg2_exception(err)\n",
    "        cursor.close()\n",
    "\n",
    "conn = connect(params_dic)\n",
    "\n",
    "# We set autocommit=True so every command we execute will produce results immediately.\n",
    "conn.autocommit = True\n",
    "cursor = conn.cursor()\n",
    "create_table(cursor)\n",
    "\n",
    "copy_from_dataFile_StringIO(conn, edf, 'energy_over_time')\n",
    "\n",
    "\n",
    "def query_data():\n",
    "    start = timer()\n",
    "\n",
    "    conn.autocommit = True\n",
    "    cursor = conn.cursor()\n",
    "  \n",
    "    sql = '''SELECT year, source, SUM(generated)\n",
    "                FROM energy_over_time \n",
    "                WHERE year != 2022\n",
    "                GROUP By year, source\n",
    "                ORDER By year\n",
    "                ''' \n",
    "  \n",
    "    cursor.execute(sql)\n",
    "    results = cursor.fetchall()\n",
    "    df = pd.DataFrame (results, columns = ['Year', 'Energy Source','Total Generated'])\n",
    "    conn.commit()\n",
    "    end = timer()\n",
    "    k = end - start \n",
    "    #print(\"Query execution time: {}s\".format(k))\n",
    "    #fig.show()\n",
    "    return df"
   ]
  },
  {
   "cell_type": "code",
   "execution_count": 6,
   "id": "e20b8bc5",
   "metadata": {},
   "outputs": [
    {
     "name": "stdout",
     "output_type": "stream",
     "text": [
      "Connecting to the PostgreSQL database...\n",
      "Connection successful\n",
      "Connecting to the PostgreSQL database...\n",
      "Connection successful\n",
      "energy table is created successfully...............\n",
      "Data inserted using copy_from_datafile_StringIO() successfully....\n",
      "Query execution time: 1.4496864630000008s\n"
     ]
    }
   ],
   "source": [
    "from tran_total_energy import transform_data\n",
    "from query_total_energy import query_data\n",
    "\n",
    "start = timer()\n",
    "x = transform_data()\n",
    "y = query_data()\n",
    "end = timer()\n",
    "k = end - start \n",
    "print(\"Query execution time: {}s\".format(k))"
   ]
  },
  {
   "cell_type": "code",
   "execution_count": 7,
   "id": "4d49ffab",
   "metadata": {},
   "outputs": [
    {
     "data": {
      "text/html": [
       "<div>\n",
       "<style scoped>\n",
       "    .dataframe tbody tr th:only-of-type {\n",
       "        vertical-align: middle;\n",
       "    }\n",
       "\n",
       "    .dataframe tbody tr th {\n",
       "        vertical-align: top;\n",
       "    }\n",
       "\n",
       "    .dataframe thead th {\n",
       "        text-align: right;\n",
       "    }\n",
       "</style>\n",
       "<table border=\"1\" class=\"dataframe\">\n",
       "  <thead>\n",
       "    <tr style=\"text-align: right;\">\n",
       "      <th></th>\n",
       "      <th>Year</th>\n",
       "      <th>Energy Source</th>\n",
       "      <th>Total Generated</th>\n",
       "    </tr>\n",
       "  </thead>\n",
       "  <tbody>\n",
       "    <tr>\n",
       "      <th>0</th>\n",
       "      <td>2001</td>\n",
       "      <td>Renewable energy</td>\n",
       "      <td>2.789062e+08</td>\n",
       "    </tr>\n",
       "    <tr>\n",
       "      <th>1</th>\n",
       "      <td>2001</td>\n",
       "      <td>Petroleum</td>\n",
       "      <td>1.248802e+08</td>\n",
       "    </tr>\n",
       "    <tr>\n",
       "      <th>2</th>\n",
       "      <td>2001</td>\n",
       "      <td>Other Gases</td>\n",
       "      <td>9.039473e+06</td>\n",
       "    </tr>\n",
       "    <tr>\n",
       "      <th>3</th>\n",
       "      <td>2001</td>\n",
       "      <td>Coal</td>\n",
       "      <td>1.903956e+09</td>\n",
       "    </tr>\n",
       "    <tr>\n",
       "      <th>4</th>\n",
       "      <td>2001</td>\n",
       "      <td>Other</td>\n",
       "      <td>1.190635e+07</td>\n",
       "    </tr>\n",
       "    <tr>\n",
       "      <th>...</th>\n",
       "      <td>...</td>\n",
       "      <td>...</td>\n",
       "      <td>...</td>\n",
       "    </tr>\n",
       "    <tr>\n",
       "      <th>142</th>\n",
       "      <td>2021</td>\n",
       "      <td>Nuclear</td>\n",
       "      <td>7.781515e+08</td>\n",
       "    </tr>\n",
       "    <tr>\n",
       "      <th>143</th>\n",
       "      <td>2021</td>\n",
       "      <td>Petroleum</td>\n",
       "      <td>1.878178e+07</td>\n",
       "    </tr>\n",
       "    <tr>\n",
       "      <th>144</th>\n",
       "      <td>2021</td>\n",
       "      <td>Natural Gas</td>\n",
       "      <td>1.575230e+09</td>\n",
       "    </tr>\n",
       "    <tr>\n",
       "      <th>145</th>\n",
       "      <td>2021</td>\n",
       "      <td>Coal</td>\n",
       "      <td>8.986785e+08</td>\n",
       "    </tr>\n",
       "    <tr>\n",
       "      <th>146</th>\n",
       "      <td>2021</td>\n",
       "      <td>Other Gases</td>\n",
       "      <td>1.128310e+07</td>\n",
       "    </tr>\n",
       "  </tbody>\n",
       "</table>\n",
       "<p>147 rows × 3 columns</p>\n",
       "</div>"
      ],
      "text/plain": [
       "     Year     Energy Source  Total Generated\n",
       "0    2001  Renewable energy     2.789062e+08\n",
       "1    2001         Petroleum     1.248802e+08\n",
       "2    2001       Other Gases     9.039473e+06\n",
       "3    2001              Coal     1.903956e+09\n",
       "4    2001             Other     1.190635e+07\n",
       "..    ...               ...              ...\n",
       "142  2021           Nuclear     7.781515e+08\n",
       "143  2021         Petroleum     1.878178e+07\n",
       "144  2021       Natural Gas     1.575230e+09\n",
       "145  2021              Coal     8.986785e+08\n",
       "146  2021       Other Gases     1.128310e+07\n",
       "\n",
       "[147 rows x 3 columns]"
      ]
     },
     "execution_count": 7,
     "metadata": {},
     "output_type": "execute_result"
    }
   ],
   "source": [
    "query_data()"
   ]
  },
  {
   "cell_type": "code",
   "execution_count": 8,
   "id": "e59203ab",
   "metadata": {},
   "outputs": [
    {
     "name": "stdout",
     "output_type": "stream",
     "text": [
      "Overwriting test_total_energy.py\n"
     ]
    }
   ],
   "source": [
    "%%file test_total_energy.py\n",
    "\n",
    "from total_energy import import_data\n",
    "from tran_total_energy import transform_data\n",
    "from query_total_energy import query_data\n",
    "\n",
    "def test_data_columns_count():\n",
    "    df = import_data()\n",
    "    assert len(df.columns) == 7\n",
    "\n",
    "def test_data_row_count():\n",
    "    df = import_data()\n",
    "    assert len(df.index) == 496774\n",
    "    \n",
    "def test_transform_data_columns_count():\n",
    "    df = transform_data()\n",
    "    assert len(df.columns) == 6\n",
    "\n",
    "def test_transform_data_row_count():\n",
    "    df = transform_data()\n",
    "    assert len(df.index) == 224662\n",
    "    \n",
    "def test_query_data_column_count():\n",
    "    df = query_data()\n",
    "    assert len(df.columns) == 3\n",
    "\n",
    "def test_query_data_row_count():\n",
    "    df = query_data()\n",
    "    assert len(df.index) == 147"
   ]
  },
  {
   "cell_type": "code",
   "execution_count": 9,
   "id": "429df940",
   "metadata": {},
   "outputs": [
    {
     "name": "stdout",
     "output_type": "stream",
     "text": [
      "\u001b[1m============================= test session starts ==============================\u001b[0m\n",
      "platform darwin -- Python 3.9.7, pytest-6.2.4, py-1.10.0, pluggy-0.13.1\n",
      "rootdir: /Users/slimykid/Group4_NFLX_MIDTERM/Lisa\n",
      "plugins: anyio-2.2.0\n",
      "collected 6 items                                                              \u001b[0m\u001b[1m\n",
      "\n",
      "test_total_energy.py \u001b[32m.\u001b[0m\u001b[32m.\u001b[0m\u001b[32m.\u001b[0m\u001b[32m.\u001b[0m\u001b[32m.\u001b[0m\u001b[32m.\u001b[0m\u001b[32m                                              [100%]\u001b[0m\n",
      "\n",
      "\u001b[32m============================== \u001b[32m\u001b[1m6 passed\u001b[0m\u001b[32m in 7.46s\u001b[0m\u001b[32m ===============================\u001b[0m\n"
     ]
    }
   ],
   "source": [
    "# Run the test_import_data.py file with pytest. \n",
    "!python -m pytest test_total_energy.py"
   ]
  },
  {
   "cell_type": "code",
   "execution_count": 15,
   "id": "c4b158c1",
   "metadata": {},
   "outputs": [
    {
     "data": {
      "application/vnd.plotly.v1+json": {
       "config": {
        "plotlyServerURL": "https://plotly.com"
       },
       "data": [
        {
         "hovertemplate": "Energy Source=Renewable energy<br>Year=%{x}<br>Total Generated=%{y}<extra></extra>",
         "legendgroup": "Renewable energy",
         "line": {
          "color": "#636efa",
          "dash": "solid"
         },
         "marker": {
          "symbol": "circle"
         },
         "mode": "lines",
         "name": "Renewable energy",
         "orientation": "v",
         "showlegend": true,
         "type": "scatter",
         "x": [
          2001,
          2002,
          2003,
          2004,
          2005,
          2006,
          2007,
          2008,
          2009,
          2010,
          2011,
          2012,
          2013,
          2014,
          2015,
          2016,
          2017,
          2018,
          2019,
          2020,
          2021
         ],
         "xaxis": "x",
         "y": [
          278906244,
          334695061,
          346758061,
          342996480,
          351092887,
          379214086,
          345851148,
          374644348,
          413096483,
          421874987,
          507478463.6000009,
          489622698.9400005,
          517392418.34999955,
          533600439.4199986,
          539149485,
          602758969,
          680088153,
          700911298,
          722435784,
          777682224,
          821275716
         ],
         "yaxis": "y"
        },
        {
         "hovertemplate": "Energy Source=Petroleum<br>Year=%{x}<br>Total Generated=%{y}<extra></extra>",
         "legendgroup": "Petroleum",
         "line": {
          "color": "#EF553B",
          "dash": "solid"
         },
         "marker": {
          "symbol": "circle"
         },
         "mode": "lines",
         "name": "Petroleum",
         "orientation": "v",
         "showlegend": true,
         "type": "scatter",
         "x": [
          2001,
          2002,
          2003,
          2004,
          2005,
          2006,
          2007,
          2008,
          2009,
          2010,
          2011,
          2012,
          2013,
          2014,
          2015,
          2016,
          2017,
          2018,
          2019,
          2020,
          2021
         ],
         "xaxis": "x",
         "y": [
          124880223,
          94567379,
          119405639,
          121145083,
          122225034,
          64166415,
          65738967,
          46242610,
          38936507,
          37061009,
          30182246.750000022,
          23189542.32999998,
          27164444.79000006,
          30488869.000000037,
          28248721,
          24204817,
          21389948,
          25225630,
          18438197,
          17341026,
          18781782
         ],
         "yaxis": "y"
        },
        {
         "hovertemplate": "Energy Source=Other Gases<br>Year=%{x}<br>Total Generated=%{y}<extra></extra>",
         "legendgroup": "Other Gases",
         "line": {
          "color": "#00cc96",
          "dash": "solid"
         },
         "marker": {
          "symbol": "circle"
         },
         "mode": "lines",
         "name": "Other Gases",
         "orientation": "v",
         "showlegend": true,
         "type": "scatter",
         "x": [
          2001,
          2002,
          2003,
          2004,
          2005,
          2006,
          2007,
          2008,
          2009,
          2010,
          2011,
          2012,
          2013,
          2014,
          2015,
          2016,
          2017,
          2018,
          2019,
          2020,
          2021
         ],
         "xaxis": "x",
         "y": [
          9039473,
          11462685,
          15600026,
          15252421,
          13464151,
          14176800,
          13453352,
          11706870,
          10632113,
          11312795,
          11566200.52,
          11897585.239999996,
          12852937.21999999,
          11577838.22,
          13116699,
          12807433,
          12468968,
          13462749,
          12591101,
          11818477,
          11283103
         ],
         "yaxis": "y"
        },
        {
         "hovertemplate": "Energy Source=Coal<br>Year=%{x}<br>Total Generated=%{y}<extra></extra>",
         "legendgroup": "Coal",
         "line": {
          "color": "#ab63fa",
          "dash": "solid"
         },
         "marker": {
          "symbol": "circle"
         },
         "mode": "lines",
         "name": "Coal",
         "orientation": "v",
         "showlegend": true,
         "type": "scatter",
         "x": [
          2001,
          2002,
          2003,
          2004,
          2005,
          2006,
          2007,
          2008,
          2009,
          2010,
          2011,
          2012,
          2013,
          2014,
          2015,
          2016,
          2017,
          2018,
          2019,
          2020,
          2021
         ],
         "xaxis": "x",
         "y": [
          1903955939,
          1933130342,
          1973736746,
          1978300559,
          2012873053,
          1990511140,
          2016455587,
          1985801252,
          1755904259,
          1847290262,
          1733430006.1499982,
          1514042945.3599985,
          1581114716.500002,
          1585696613.9199986,
          1352398200,
          1239148659,
          1205835277,
          1149487354,
          964956757,
          773392913,
          898678541
         ],
         "yaxis": "y"
        },
        {
         "hovertemplate": "Energy Source=Other<br>Year=%{x}<br>Total Generated=%{y}<extra></extra>",
         "legendgroup": "Other",
         "line": {
          "color": "#FFA15A",
          "dash": "solid"
         },
         "marker": {
          "symbol": "circle"
         },
         "mode": "lines",
         "name": "Other",
         "orientation": "v",
         "showlegend": true,
         "type": "scatter",
         "x": [
          2001,
          2002,
          2003,
          2004,
          2005,
          2006,
          2007,
          2008,
          2009,
          2010,
          2011,
          2012,
          2013,
          2014,
          2015,
          2016,
          2017,
          2018,
          2019,
          2020,
          2021
         ],
         "xaxis": "x",
         "y": [
          11906353,
          13526916,
          14044522,
          14232431,
          12821041,
          12974403,
          12231148,
          11803654,
          11928337,
          12855339,
          14105841.91999999,
          13787067.17,
          13587522.129999977,
          12575954.159999996,
          14027809,
          13754235,
          13096119,
          12973208,
          13334272,
          12855196,
          12139767
         ],
         "yaxis": "y"
        },
        {
         "hovertemplate": "Energy Source=Nuclear<br>Year=%{x}<br>Total Generated=%{y}<extra></extra>",
         "legendgroup": "Nuclear",
         "line": {
          "color": "#19d3f3",
          "dash": "solid"
         },
         "marker": {
          "symbol": "circle"
         },
         "mode": "lines",
         "name": "Nuclear",
         "orientation": "v",
         "showlegend": true,
         "type": "scatter",
         "x": [
          2001,
          2002,
          2003,
          2004,
          2005,
          2006,
          2007,
          2008,
          2009,
          2010,
          2011,
          2012,
          2013,
          2014,
          2015,
          2016,
          2017,
          2018,
          2019,
          2020,
          2021
         ],
         "xaxis": "x",
         "y": [
          768826308,
          780064087,
          763732695,
          788528387,
          781986365,
          787218636,
          806424753,
          806208435,
          798854585,
          806968301,
          790204367,
          769331249,
          789016473,
          797067458,
          797177877,
          805693948,
          804949635,
          807084477,
          809409262,
          789878863,
          778151500
         ],
         "yaxis": "y"
        },
        {
         "hovertemplate": "Energy Source=Natural Gas<br>Year=%{x}<br>Total Generated=%{y}<extra></extra>",
         "legendgroup": "Natural Gas",
         "line": {
          "color": "#FF6692",
          "dash": "solid"
         },
         "marker": {
          "symbol": "circle"
         },
         "mode": "lines",
         "name": "Natural Gas",
         "orientation": "v",
         "showlegend": true,
         "type": "scatter",
         "x": [
          2001,
          2002,
          2003,
          2004,
          2005,
          2006,
          2007,
          2008,
          2009,
          2010,
          2011,
          2012,
          2013,
          2014,
          2015,
          2016,
          2017,
          2018,
          2019,
          2020,
          2021
         ],
         "xaxis": "x",
         "y": [
          639129114,
          691005761,
          649907551,
          710100037,
          760960257,
          816440783,
          896589798,
          882980635,
          920978685,
          987697270,
          1013688930.269999,
          1225894176.389999,
          1124835560.8100038,
          1121927524.1200018,
          1333482110,
          1378306947,
          1296442511,
          1469132687,
          1585716776,
          1624050006,
          1575229843
         ],
         "yaxis": "y"
        }
       ],
       "layout": {
        "legend": {
         "title": {
          "text": "Energy Source"
         },
         "tracegroupgap": 0
        },
        "template": {
         "data": {
          "bar": [
           {
            "error_x": {
             "color": "#2a3f5f"
            },
            "error_y": {
             "color": "#2a3f5f"
            },
            "marker": {
             "line": {
              "color": "#E5ECF6",
              "width": 0.5
             },
             "pattern": {
              "fillmode": "overlay",
              "size": 10,
              "solidity": 0.2
             }
            },
            "type": "bar"
           }
          ],
          "barpolar": [
           {
            "marker": {
             "line": {
              "color": "#E5ECF6",
              "width": 0.5
             },
             "pattern": {
              "fillmode": "overlay",
              "size": 10,
              "solidity": 0.2
             }
            },
            "type": "barpolar"
           }
          ],
          "carpet": [
           {
            "aaxis": {
             "endlinecolor": "#2a3f5f",
             "gridcolor": "white",
             "linecolor": "white",
             "minorgridcolor": "white",
             "startlinecolor": "#2a3f5f"
            },
            "baxis": {
             "endlinecolor": "#2a3f5f",
             "gridcolor": "white",
             "linecolor": "white",
             "minorgridcolor": "white",
             "startlinecolor": "#2a3f5f"
            },
            "type": "carpet"
           }
          ],
          "choropleth": [
           {
            "colorbar": {
             "outlinewidth": 0,
             "ticks": ""
            },
            "type": "choropleth"
           }
          ],
          "contour": [
           {
            "colorbar": {
             "outlinewidth": 0,
             "ticks": ""
            },
            "colorscale": [
             [
              0,
              "#0d0887"
             ],
             [
              0.1111111111111111,
              "#46039f"
             ],
             [
              0.2222222222222222,
              "#7201a8"
             ],
             [
              0.3333333333333333,
              "#9c179e"
             ],
             [
              0.4444444444444444,
              "#bd3786"
             ],
             [
              0.5555555555555556,
              "#d8576b"
             ],
             [
              0.6666666666666666,
              "#ed7953"
             ],
             [
              0.7777777777777778,
              "#fb9f3a"
             ],
             [
              0.8888888888888888,
              "#fdca26"
             ],
             [
              1,
              "#f0f921"
             ]
            ],
            "type": "contour"
           }
          ],
          "contourcarpet": [
           {
            "colorbar": {
             "outlinewidth": 0,
             "ticks": ""
            },
            "type": "contourcarpet"
           }
          ],
          "heatmap": [
           {
            "colorbar": {
             "outlinewidth": 0,
             "ticks": ""
            },
            "colorscale": [
             [
              0,
              "#0d0887"
             ],
             [
              0.1111111111111111,
              "#46039f"
             ],
             [
              0.2222222222222222,
              "#7201a8"
             ],
             [
              0.3333333333333333,
              "#9c179e"
             ],
             [
              0.4444444444444444,
              "#bd3786"
             ],
             [
              0.5555555555555556,
              "#d8576b"
             ],
             [
              0.6666666666666666,
              "#ed7953"
             ],
             [
              0.7777777777777778,
              "#fb9f3a"
             ],
             [
              0.8888888888888888,
              "#fdca26"
             ],
             [
              1,
              "#f0f921"
             ]
            ],
            "type": "heatmap"
           }
          ],
          "heatmapgl": [
           {
            "colorbar": {
             "outlinewidth": 0,
             "ticks": ""
            },
            "colorscale": [
             [
              0,
              "#0d0887"
             ],
             [
              0.1111111111111111,
              "#46039f"
             ],
             [
              0.2222222222222222,
              "#7201a8"
             ],
             [
              0.3333333333333333,
              "#9c179e"
             ],
             [
              0.4444444444444444,
              "#bd3786"
             ],
             [
              0.5555555555555556,
              "#d8576b"
             ],
             [
              0.6666666666666666,
              "#ed7953"
             ],
             [
              0.7777777777777778,
              "#fb9f3a"
             ],
             [
              0.8888888888888888,
              "#fdca26"
             ],
             [
              1,
              "#f0f921"
             ]
            ],
            "type": "heatmapgl"
           }
          ],
          "histogram": [
           {
            "marker": {
             "pattern": {
              "fillmode": "overlay",
              "size": 10,
              "solidity": 0.2
             }
            },
            "type": "histogram"
           }
          ],
          "histogram2d": [
           {
            "colorbar": {
             "outlinewidth": 0,
             "ticks": ""
            },
            "colorscale": [
             [
              0,
              "#0d0887"
             ],
             [
              0.1111111111111111,
              "#46039f"
             ],
             [
              0.2222222222222222,
              "#7201a8"
             ],
             [
              0.3333333333333333,
              "#9c179e"
             ],
             [
              0.4444444444444444,
              "#bd3786"
             ],
             [
              0.5555555555555556,
              "#d8576b"
             ],
             [
              0.6666666666666666,
              "#ed7953"
             ],
             [
              0.7777777777777778,
              "#fb9f3a"
             ],
             [
              0.8888888888888888,
              "#fdca26"
             ],
             [
              1,
              "#f0f921"
             ]
            ],
            "type": "histogram2d"
           }
          ],
          "histogram2dcontour": [
           {
            "colorbar": {
             "outlinewidth": 0,
             "ticks": ""
            },
            "colorscale": [
             [
              0,
              "#0d0887"
             ],
             [
              0.1111111111111111,
              "#46039f"
             ],
             [
              0.2222222222222222,
              "#7201a8"
             ],
             [
              0.3333333333333333,
              "#9c179e"
             ],
             [
              0.4444444444444444,
              "#bd3786"
             ],
             [
              0.5555555555555556,
              "#d8576b"
             ],
             [
              0.6666666666666666,
              "#ed7953"
             ],
             [
              0.7777777777777778,
              "#fb9f3a"
             ],
             [
              0.8888888888888888,
              "#fdca26"
             ],
             [
              1,
              "#f0f921"
             ]
            ],
            "type": "histogram2dcontour"
           }
          ],
          "mesh3d": [
           {
            "colorbar": {
             "outlinewidth": 0,
             "ticks": ""
            },
            "type": "mesh3d"
           }
          ],
          "parcoords": [
           {
            "line": {
             "colorbar": {
              "outlinewidth": 0,
              "ticks": ""
             }
            },
            "type": "parcoords"
           }
          ],
          "pie": [
           {
            "automargin": true,
            "type": "pie"
           }
          ],
          "scatter": [
           {
            "marker": {
             "colorbar": {
              "outlinewidth": 0,
              "ticks": ""
             }
            },
            "type": "scatter"
           }
          ],
          "scatter3d": [
           {
            "line": {
             "colorbar": {
              "outlinewidth": 0,
              "ticks": ""
             }
            },
            "marker": {
             "colorbar": {
              "outlinewidth": 0,
              "ticks": ""
             }
            },
            "type": "scatter3d"
           }
          ],
          "scattercarpet": [
           {
            "marker": {
             "colorbar": {
              "outlinewidth": 0,
              "ticks": ""
             }
            },
            "type": "scattercarpet"
           }
          ],
          "scattergeo": [
           {
            "marker": {
             "colorbar": {
              "outlinewidth": 0,
              "ticks": ""
             }
            },
            "type": "scattergeo"
           }
          ],
          "scattergl": [
           {
            "marker": {
             "colorbar": {
              "outlinewidth": 0,
              "ticks": ""
             }
            },
            "type": "scattergl"
           }
          ],
          "scattermapbox": [
           {
            "marker": {
             "colorbar": {
              "outlinewidth": 0,
              "ticks": ""
             }
            },
            "type": "scattermapbox"
           }
          ],
          "scatterpolar": [
           {
            "marker": {
             "colorbar": {
              "outlinewidth": 0,
              "ticks": ""
             }
            },
            "type": "scatterpolar"
           }
          ],
          "scatterpolargl": [
           {
            "marker": {
             "colorbar": {
              "outlinewidth": 0,
              "ticks": ""
             }
            },
            "type": "scatterpolargl"
           }
          ],
          "scatterternary": [
           {
            "marker": {
             "colorbar": {
              "outlinewidth": 0,
              "ticks": ""
             }
            },
            "type": "scatterternary"
           }
          ],
          "surface": [
           {
            "colorbar": {
             "outlinewidth": 0,
             "ticks": ""
            },
            "colorscale": [
             [
              0,
              "#0d0887"
             ],
             [
              0.1111111111111111,
              "#46039f"
             ],
             [
              0.2222222222222222,
              "#7201a8"
             ],
             [
              0.3333333333333333,
              "#9c179e"
             ],
             [
              0.4444444444444444,
              "#bd3786"
             ],
             [
              0.5555555555555556,
              "#d8576b"
             ],
             [
              0.6666666666666666,
              "#ed7953"
             ],
             [
              0.7777777777777778,
              "#fb9f3a"
             ],
             [
              0.8888888888888888,
              "#fdca26"
             ],
             [
              1,
              "#f0f921"
             ]
            ],
            "type": "surface"
           }
          ],
          "table": [
           {
            "cells": {
             "fill": {
              "color": "#EBF0F8"
             },
             "line": {
              "color": "white"
             }
            },
            "header": {
             "fill": {
              "color": "#C8D4E3"
             },
             "line": {
              "color": "white"
             }
            },
            "type": "table"
           }
          ]
         },
         "layout": {
          "annotationdefaults": {
           "arrowcolor": "#2a3f5f",
           "arrowhead": 0,
           "arrowwidth": 1
          },
          "autotypenumbers": "strict",
          "coloraxis": {
           "colorbar": {
            "outlinewidth": 0,
            "ticks": ""
           }
          },
          "colorscale": {
           "diverging": [
            [
             0,
             "#8e0152"
            ],
            [
             0.1,
             "#c51b7d"
            ],
            [
             0.2,
             "#de77ae"
            ],
            [
             0.3,
             "#f1b6da"
            ],
            [
             0.4,
             "#fde0ef"
            ],
            [
             0.5,
             "#f7f7f7"
            ],
            [
             0.6,
             "#e6f5d0"
            ],
            [
             0.7,
             "#b8e186"
            ],
            [
             0.8,
             "#7fbc41"
            ],
            [
             0.9,
             "#4d9221"
            ],
            [
             1,
             "#276419"
            ]
           ],
           "sequential": [
            [
             0,
             "#0d0887"
            ],
            [
             0.1111111111111111,
             "#46039f"
            ],
            [
             0.2222222222222222,
             "#7201a8"
            ],
            [
             0.3333333333333333,
             "#9c179e"
            ],
            [
             0.4444444444444444,
             "#bd3786"
            ],
            [
             0.5555555555555556,
             "#d8576b"
            ],
            [
             0.6666666666666666,
             "#ed7953"
            ],
            [
             0.7777777777777778,
             "#fb9f3a"
            ],
            [
             0.8888888888888888,
             "#fdca26"
            ],
            [
             1,
             "#f0f921"
            ]
           ],
           "sequentialminus": [
            [
             0,
             "#0d0887"
            ],
            [
             0.1111111111111111,
             "#46039f"
            ],
            [
             0.2222222222222222,
             "#7201a8"
            ],
            [
             0.3333333333333333,
             "#9c179e"
            ],
            [
             0.4444444444444444,
             "#bd3786"
            ],
            [
             0.5555555555555556,
             "#d8576b"
            ],
            [
             0.6666666666666666,
             "#ed7953"
            ],
            [
             0.7777777777777778,
             "#fb9f3a"
            ],
            [
             0.8888888888888888,
             "#fdca26"
            ],
            [
             1,
             "#f0f921"
            ]
           ]
          },
          "colorway": [
           "#636efa",
           "#EF553B",
           "#00cc96",
           "#ab63fa",
           "#FFA15A",
           "#19d3f3",
           "#FF6692",
           "#B6E880",
           "#FF97FF",
           "#FECB52"
          ],
          "font": {
           "color": "#2a3f5f"
          },
          "geo": {
           "bgcolor": "white",
           "lakecolor": "white",
           "landcolor": "#E5ECF6",
           "showlakes": true,
           "showland": true,
           "subunitcolor": "white"
          },
          "hoverlabel": {
           "align": "left"
          },
          "hovermode": "closest",
          "mapbox": {
           "style": "light"
          },
          "paper_bgcolor": "white",
          "plot_bgcolor": "#E5ECF6",
          "polar": {
           "angularaxis": {
            "gridcolor": "white",
            "linecolor": "white",
            "ticks": ""
           },
           "bgcolor": "#E5ECF6",
           "radialaxis": {
            "gridcolor": "white",
            "linecolor": "white",
            "ticks": ""
           }
          },
          "scene": {
           "xaxis": {
            "backgroundcolor": "#E5ECF6",
            "gridcolor": "white",
            "gridwidth": 2,
            "linecolor": "white",
            "showbackground": true,
            "ticks": "",
            "zerolinecolor": "white"
           },
           "yaxis": {
            "backgroundcolor": "#E5ECF6",
            "gridcolor": "white",
            "gridwidth": 2,
            "linecolor": "white",
            "showbackground": true,
            "ticks": "",
            "zerolinecolor": "white"
           },
           "zaxis": {
            "backgroundcolor": "#E5ECF6",
            "gridcolor": "white",
            "gridwidth": 2,
            "linecolor": "white",
            "showbackground": true,
            "ticks": "",
            "zerolinecolor": "white"
           }
          },
          "shapedefaults": {
           "line": {
            "color": "#2a3f5f"
           }
          },
          "ternary": {
           "aaxis": {
            "gridcolor": "white",
            "linecolor": "white",
            "ticks": ""
           },
           "baxis": {
            "gridcolor": "white",
            "linecolor": "white",
            "ticks": ""
           },
           "bgcolor": "#E5ECF6",
           "caxis": {
            "gridcolor": "white",
            "linecolor": "white",
            "ticks": ""
           }
          },
          "title": {
           "x": 0.05
          },
          "xaxis": {
           "automargin": true,
           "gridcolor": "white",
           "linecolor": "white",
           "ticks": "",
           "title": {
            "standoff": 15
           },
           "zerolinecolor": "white",
           "zerolinewidth": 2
          },
          "yaxis": {
           "automargin": true,
           "gridcolor": "white",
           "linecolor": "white",
           "ticks": "",
           "title": {
            "standoff": 15
           },
           "zerolinecolor": "white",
           "zerolinewidth": 2
          }
         }
        },
        "title": {
         "text": "Energy Source from 2001-2021"
        },
        "xaxis": {
         "anchor": "y",
         "domain": [
          0,
          1
         ],
         "title": {
          "text": "Year"
         }
        },
        "yaxis": {
         "anchor": "x",
         "domain": [
          0,
          1
         ],
         "title": {
          "text": "Total Generated"
         }
        }
       }
      },
      "text/html": [
       "<div>                            <div id=\"66c2dc33-c16a-49cc-ae7c-d3443e49257f\" class=\"plotly-graph-div\" style=\"height:525px; width:100%;\"></div>            <script type=\"text/javascript\">                require([\"plotly\"], function(Plotly) {                    window.PLOTLYENV=window.PLOTLYENV || {};                                    if (document.getElementById(\"66c2dc33-c16a-49cc-ae7c-d3443e49257f\")) {                    Plotly.newPlot(                        \"66c2dc33-c16a-49cc-ae7c-d3443e49257f\",                        [{\"hovertemplate\":\"Energy Source=Renewable energy<br>Year=%{x}<br>Total Generated=%{y}<extra></extra>\",\"legendgroup\":\"Renewable energy\",\"line\":{\"color\":\"#636efa\",\"dash\":\"solid\"},\"marker\":{\"symbol\":\"circle\"},\"mode\":\"lines\",\"name\":\"Renewable energy\",\"orientation\":\"v\",\"showlegend\":true,\"x\":[2001,2002,2003,2004,2005,2006,2007,2008,2009,2010,2011,2012,2013,2014,2015,2016,2017,2018,2019,2020,2021],\"xaxis\":\"x\",\"y\":[278906244.0,334695061.0,346758061.0,342996480.0,351092887.0,379214086.0,345851148.0,374644348.0,413096483.0,421874987.0,507478463.6000009,489622698.9400005,517392418.34999955,533600439.4199986,539149485.0,602758969.0,680088153.0,700911298.0,722435784.0,777682224.0,821275716.0],\"yaxis\":\"y\",\"type\":\"scatter\"},{\"hovertemplate\":\"Energy Source=Petroleum<br>Year=%{x}<br>Total Generated=%{y}<extra></extra>\",\"legendgroup\":\"Petroleum\",\"line\":{\"color\":\"#EF553B\",\"dash\":\"solid\"},\"marker\":{\"symbol\":\"circle\"},\"mode\":\"lines\",\"name\":\"Petroleum\",\"orientation\":\"v\",\"showlegend\":true,\"x\":[2001,2002,2003,2004,2005,2006,2007,2008,2009,2010,2011,2012,2013,2014,2015,2016,2017,2018,2019,2020,2021],\"xaxis\":\"x\",\"y\":[124880223.0,94567379.0,119405639.0,121145083.0,122225034.0,64166415.0,65738967.0,46242610.0,38936507.0,37061009.0,30182246.750000022,23189542.32999998,27164444.79000006,30488869.000000037,28248721.0,24204817.0,21389948.0,25225630.0,18438197.0,17341026.0,18781782.0],\"yaxis\":\"y\",\"type\":\"scatter\"},{\"hovertemplate\":\"Energy Source=Other Gases<br>Year=%{x}<br>Total Generated=%{y}<extra></extra>\",\"legendgroup\":\"Other Gases\",\"line\":{\"color\":\"#00cc96\",\"dash\":\"solid\"},\"marker\":{\"symbol\":\"circle\"},\"mode\":\"lines\",\"name\":\"Other Gases\",\"orientation\":\"v\",\"showlegend\":true,\"x\":[2001,2002,2003,2004,2005,2006,2007,2008,2009,2010,2011,2012,2013,2014,2015,2016,2017,2018,2019,2020,2021],\"xaxis\":\"x\",\"y\":[9039473.0,11462685.0,15600026.0,15252421.0,13464151.0,14176800.0,13453352.0,11706870.0,10632113.0,11312795.0,11566200.52,11897585.239999996,12852937.21999999,11577838.22,13116699.0,12807433.0,12468968.0,13462749.0,12591101.0,11818477.0,11283103.0],\"yaxis\":\"y\",\"type\":\"scatter\"},{\"hovertemplate\":\"Energy Source=Coal<br>Year=%{x}<br>Total Generated=%{y}<extra></extra>\",\"legendgroup\":\"Coal\",\"line\":{\"color\":\"#ab63fa\",\"dash\":\"solid\"},\"marker\":{\"symbol\":\"circle\"},\"mode\":\"lines\",\"name\":\"Coal\",\"orientation\":\"v\",\"showlegend\":true,\"x\":[2001,2002,2003,2004,2005,2006,2007,2008,2009,2010,2011,2012,2013,2014,2015,2016,2017,2018,2019,2020,2021],\"xaxis\":\"x\",\"y\":[1903955939.0,1933130342.0,1973736746.0,1978300559.0,2012873053.0,1990511140.0,2016455587.0,1985801252.0,1755904259.0,1847290262.0,1733430006.1499982,1514042945.3599985,1581114716.500002,1585696613.9199986,1352398200.0,1239148659.0,1205835277.0,1149487354.0,964956757.0,773392913.0,898678541.0],\"yaxis\":\"y\",\"type\":\"scatter\"},{\"hovertemplate\":\"Energy Source=Other<br>Year=%{x}<br>Total Generated=%{y}<extra></extra>\",\"legendgroup\":\"Other\",\"line\":{\"color\":\"#FFA15A\",\"dash\":\"solid\"},\"marker\":{\"symbol\":\"circle\"},\"mode\":\"lines\",\"name\":\"Other\",\"orientation\":\"v\",\"showlegend\":true,\"x\":[2001,2002,2003,2004,2005,2006,2007,2008,2009,2010,2011,2012,2013,2014,2015,2016,2017,2018,2019,2020,2021],\"xaxis\":\"x\",\"y\":[11906353.0,13526916.0,14044522.0,14232431.0,12821041.0,12974403.0,12231148.0,11803654.0,11928337.0,12855339.0,14105841.91999999,13787067.17,13587522.129999977,12575954.159999996,14027809.0,13754235.0,13096119.0,12973208.0,13334272.0,12855196.0,12139767.0],\"yaxis\":\"y\",\"type\":\"scatter\"},{\"hovertemplate\":\"Energy Source=Nuclear<br>Year=%{x}<br>Total Generated=%{y}<extra></extra>\",\"legendgroup\":\"Nuclear\",\"line\":{\"color\":\"#19d3f3\",\"dash\":\"solid\"},\"marker\":{\"symbol\":\"circle\"},\"mode\":\"lines\",\"name\":\"Nuclear\",\"orientation\":\"v\",\"showlegend\":true,\"x\":[2001,2002,2003,2004,2005,2006,2007,2008,2009,2010,2011,2012,2013,2014,2015,2016,2017,2018,2019,2020,2021],\"xaxis\":\"x\",\"y\":[768826308.0,780064087.0,763732695.0,788528387.0,781986365.0,787218636.0,806424753.0,806208435.0,798854585.0,806968301.0,790204367.0,769331249.0,789016473.0,797067458.0,797177877.0,805693948.0,804949635.0,807084477.0,809409262.0,789878863.0,778151500.0],\"yaxis\":\"y\",\"type\":\"scatter\"},{\"hovertemplate\":\"Energy Source=Natural Gas<br>Year=%{x}<br>Total Generated=%{y}<extra></extra>\",\"legendgroup\":\"Natural Gas\",\"line\":{\"color\":\"#FF6692\",\"dash\":\"solid\"},\"marker\":{\"symbol\":\"circle\"},\"mode\":\"lines\",\"name\":\"Natural Gas\",\"orientation\":\"v\",\"showlegend\":true,\"x\":[2001,2002,2003,2004,2005,2006,2007,2008,2009,2010,2011,2012,2013,2014,2015,2016,2017,2018,2019,2020,2021],\"xaxis\":\"x\",\"y\":[639129114.0,691005761.0,649907551.0,710100037.0,760960257.0,816440783.0,896589798.0,882980635.0,920978685.0,987697270.0,1013688930.269999,1225894176.389999,1124835560.8100038,1121927524.1200018,1333482110.0,1378306947.0,1296442511.0,1469132687.0,1585716776.0,1624050006.0,1575229843.0],\"yaxis\":\"y\",\"type\":\"scatter\"}],                        {\"template\":{\"data\":{\"bar\":[{\"error_x\":{\"color\":\"#2a3f5f\"},\"error_y\":{\"color\":\"#2a3f5f\"},\"marker\":{\"line\":{\"color\":\"#E5ECF6\",\"width\":0.5},\"pattern\":{\"fillmode\":\"overlay\",\"size\":10,\"solidity\":0.2}},\"type\":\"bar\"}],\"barpolar\":[{\"marker\":{\"line\":{\"color\":\"#E5ECF6\",\"width\":0.5},\"pattern\":{\"fillmode\":\"overlay\",\"size\":10,\"solidity\":0.2}},\"type\":\"barpolar\"}],\"carpet\":[{\"aaxis\":{\"endlinecolor\":\"#2a3f5f\",\"gridcolor\":\"white\",\"linecolor\":\"white\",\"minorgridcolor\":\"white\",\"startlinecolor\":\"#2a3f5f\"},\"baxis\":{\"endlinecolor\":\"#2a3f5f\",\"gridcolor\":\"white\",\"linecolor\":\"white\",\"minorgridcolor\":\"white\",\"startlinecolor\":\"#2a3f5f\"},\"type\":\"carpet\"}],\"choropleth\":[{\"colorbar\":{\"outlinewidth\":0,\"ticks\":\"\"},\"type\":\"choropleth\"}],\"contour\":[{\"colorbar\":{\"outlinewidth\":0,\"ticks\":\"\"},\"colorscale\":[[0.0,\"#0d0887\"],[0.1111111111111111,\"#46039f\"],[0.2222222222222222,\"#7201a8\"],[0.3333333333333333,\"#9c179e\"],[0.4444444444444444,\"#bd3786\"],[0.5555555555555556,\"#d8576b\"],[0.6666666666666666,\"#ed7953\"],[0.7777777777777778,\"#fb9f3a\"],[0.8888888888888888,\"#fdca26\"],[1.0,\"#f0f921\"]],\"type\":\"contour\"}],\"contourcarpet\":[{\"colorbar\":{\"outlinewidth\":0,\"ticks\":\"\"},\"type\":\"contourcarpet\"}],\"heatmap\":[{\"colorbar\":{\"outlinewidth\":0,\"ticks\":\"\"},\"colorscale\":[[0.0,\"#0d0887\"],[0.1111111111111111,\"#46039f\"],[0.2222222222222222,\"#7201a8\"],[0.3333333333333333,\"#9c179e\"],[0.4444444444444444,\"#bd3786\"],[0.5555555555555556,\"#d8576b\"],[0.6666666666666666,\"#ed7953\"],[0.7777777777777778,\"#fb9f3a\"],[0.8888888888888888,\"#fdca26\"],[1.0,\"#f0f921\"]],\"type\":\"heatmap\"}],\"heatmapgl\":[{\"colorbar\":{\"outlinewidth\":0,\"ticks\":\"\"},\"colorscale\":[[0.0,\"#0d0887\"],[0.1111111111111111,\"#46039f\"],[0.2222222222222222,\"#7201a8\"],[0.3333333333333333,\"#9c179e\"],[0.4444444444444444,\"#bd3786\"],[0.5555555555555556,\"#d8576b\"],[0.6666666666666666,\"#ed7953\"],[0.7777777777777778,\"#fb9f3a\"],[0.8888888888888888,\"#fdca26\"],[1.0,\"#f0f921\"]],\"type\":\"heatmapgl\"}],\"histogram\":[{\"marker\":{\"pattern\":{\"fillmode\":\"overlay\",\"size\":10,\"solidity\":0.2}},\"type\":\"histogram\"}],\"histogram2d\":[{\"colorbar\":{\"outlinewidth\":0,\"ticks\":\"\"},\"colorscale\":[[0.0,\"#0d0887\"],[0.1111111111111111,\"#46039f\"],[0.2222222222222222,\"#7201a8\"],[0.3333333333333333,\"#9c179e\"],[0.4444444444444444,\"#bd3786\"],[0.5555555555555556,\"#d8576b\"],[0.6666666666666666,\"#ed7953\"],[0.7777777777777778,\"#fb9f3a\"],[0.8888888888888888,\"#fdca26\"],[1.0,\"#f0f921\"]],\"type\":\"histogram2d\"}],\"histogram2dcontour\":[{\"colorbar\":{\"outlinewidth\":0,\"ticks\":\"\"},\"colorscale\":[[0.0,\"#0d0887\"],[0.1111111111111111,\"#46039f\"],[0.2222222222222222,\"#7201a8\"],[0.3333333333333333,\"#9c179e\"],[0.4444444444444444,\"#bd3786\"],[0.5555555555555556,\"#d8576b\"],[0.6666666666666666,\"#ed7953\"],[0.7777777777777778,\"#fb9f3a\"],[0.8888888888888888,\"#fdca26\"],[1.0,\"#f0f921\"]],\"type\":\"histogram2dcontour\"}],\"mesh3d\":[{\"colorbar\":{\"outlinewidth\":0,\"ticks\":\"\"},\"type\":\"mesh3d\"}],\"parcoords\":[{\"line\":{\"colorbar\":{\"outlinewidth\":0,\"ticks\":\"\"}},\"type\":\"parcoords\"}],\"pie\":[{\"automargin\":true,\"type\":\"pie\"}],\"scatter\":[{\"marker\":{\"colorbar\":{\"outlinewidth\":0,\"ticks\":\"\"}},\"type\":\"scatter\"}],\"scatter3d\":[{\"line\":{\"colorbar\":{\"outlinewidth\":0,\"ticks\":\"\"}},\"marker\":{\"colorbar\":{\"outlinewidth\":0,\"ticks\":\"\"}},\"type\":\"scatter3d\"}],\"scattercarpet\":[{\"marker\":{\"colorbar\":{\"outlinewidth\":0,\"ticks\":\"\"}},\"type\":\"scattercarpet\"}],\"scattergeo\":[{\"marker\":{\"colorbar\":{\"outlinewidth\":0,\"ticks\":\"\"}},\"type\":\"scattergeo\"}],\"scattergl\":[{\"marker\":{\"colorbar\":{\"outlinewidth\":0,\"ticks\":\"\"}},\"type\":\"scattergl\"}],\"scattermapbox\":[{\"marker\":{\"colorbar\":{\"outlinewidth\":0,\"ticks\":\"\"}},\"type\":\"scattermapbox\"}],\"scatterpolar\":[{\"marker\":{\"colorbar\":{\"outlinewidth\":0,\"ticks\":\"\"}},\"type\":\"scatterpolar\"}],\"scatterpolargl\":[{\"marker\":{\"colorbar\":{\"outlinewidth\":0,\"ticks\":\"\"}},\"type\":\"scatterpolargl\"}],\"scatterternary\":[{\"marker\":{\"colorbar\":{\"outlinewidth\":0,\"ticks\":\"\"}},\"type\":\"scatterternary\"}],\"surface\":[{\"colorbar\":{\"outlinewidth\":0,\"ticks\":\"\"},\"colorscale\":[[0.0,\"#0d0887\"],[0.1111111111111111,\"#46039f\"],[0.2222222222222222,\"#7201a8\"],[0.3333333333333333,\"#9c179e\"],[0.4444444444444444,\"#bd3786\"],[0.5555555555555556,\"#d8576b\"],[0.6666666666666666,\"#ed7953\"],[0.7777777777777778,\"#fb9f3a\"],[0.8888888888888888,\"#fdca26\"],[1.0,\"#f0f921\"]],\"type\":\"surface\"}],\"table\":[{\"cells\":{\"fill\":{\"color\":\"#EBF0F8\"},\"line\":{\"color\":\"white\"}},\"header\":{\"fill\":{\"color\":\"#C8D4E3\"},\"line\":{\"color\":\"white\"}},\"type\":\"table\"}]},\"layout\":{\"annotationdefaults\":{\"arrowcolor\":\"#2a3f5f\",\"arrowhead\":0,\"arrowwidth\":1},\"autotypenumbers\":\"strict\",\"coloraxis\":{\"colorbar\":{\"outlinewidth\":0,\"ticks\":\"\"}},\"colorscale\":{\"diverging\":[[0,\"#8e0152\"],[0.1,\"#c51b7d\"],[0.2,\"#de77ae\"],[0.3,\"#f1b6da\"],[0.4,\"#fde0ef\"],[0.5,\"#f7f7f7\"],[0.6,\"#e6f5d0\"],[0.7,\"#b8e186\"],[0.8,\"#7fbc41\"],[0.9,\"#4d9221\"],[1,\"#276419\"]],\"sequential\":[[0.0,\"#0d0887\"],[0.1111111111111111,\"#46039f\"],[0.2222222222222222,\"#7201a8\"],[0.3333333333333333,\"#9c179e\"],[0.4444444444444444,\"#bd3786\"],[0.5555555555555556,\"#d8576b\"],[0.6666666666666666,\"#ed7953\"],[0.7777777777777778,\"#fb9f3a\"],[0.8888888888888888,\"#fdca26\"],[1.0,\"#f0f921\"]],\"sequentialminus\":[[0.0,\"#0d0887\"],[0.1111111111111111,\"#46039f\"],[0.2222222222222222,\"#7201a8\"],[0.3333333333333333,\"#9c179e\"],[0.4444444444444444,\"#bd3786\"],[0.5555555555555556,\"#d8576b\"],[0.6666666666666666,\"#ed7953\"],[0.7777777777777778,\"#fb9f3a\"],[0.8888888888888888,\"#fdca26\"],[1.0,\"#f0f921\"]]},\"colorway\":[\"#636efa\",\"#EF553B\",\"#00cc96\",\"#ab63fa\",\"#FFA15A\",\"#19d3f3\",\"#FF6692\",\"#B6E880\",\"#FF97FF\",\"#FECB52\"],\"font\":{\"color\":\"#2a3f5f\"},\"geo\":{\"bgcolor\":\"white\",\"lakecolor\":\"white\",\"landcolor\":\"#E5ECF6\",\"showlakes\":true,\"showland\":true,\"subunitcolor\":\"white\"},\"hoverlabel\":{\"align\":\"left\"},\"hovermode\":\"closest\",\"mapbox\":{\"style\":\"light\"},\"paper_bgcolor\":\"white\",\"plot_bgcolor\":\"#E5ECF6\",\"polar\":{\"angularaxis\":{\"gridcolor\":\"white\",\"linecolor\":\"white\",\"ticks\":\"\"},\"bgcolor\":\"#E5ECF6\",\"radialaxis\":{\"gridcolor\":\"white\",\"linecolor\":\"white\",\"ticks\":\"\"}},\"scene\":{\"xaxis\":{\"backgroundcolor\":\"#E5ECF6\",\"gridcolor\":\"white\",\"gridwidth\":2,\"linecolor\":\"white\",\"showbackground\":true,\"ticks\":\"\",\"zerolinecolor\":\"white\"},\"yaxis\":{\"backgroundcolor\":\"#E5ECF6\",\"gridcolor\":\"white\",\"gridwidth\":2,\"linecolor\":\"white\",\"showbackground\":true,\"ticks\":\"\",\"zerolinecolor\":\"white\"},\"zaxis\":{\"backgroundcolor\":\"#E5ECF6\",\"gridcolor\":\"white\",\"gridwidth\":2,\"linecolor\":\"white\",\"showbackground\":true,\"ticks\":\"\",\"zerolinecolor\":\"white\"}},\"shapedefaults\":{\"line\":{\"color\":\"#2a3f5f\"}},\"ternary\":{\"aaxis\":{\"gridcolor\":\"white\",\"linecolor\":\"white\",\"ticks\":\"\"},\"baxis\":{\"gridcolor\":\"white\",\"linecolor\":\"white\",\"ticks\":\"\"},\"bgcolor\":\"#E5ECF6\",\"caxis\":{\"gridcolor\":\"white\",\"linecolor\":\"white\",\"ticks\":\"\"}},\"title\":{\"x\":0.05},\"xaxis\":{\"automargin\":true,\"gridcolor\":\"white\",\"linecolor\":\"white\",\"ticks\":\"\",\"title\":{\"standoff\":15},\"zerolinecolor\":\"white\",\"zerolinewidth\":2},\"yaxis\":{\"automargin\":true,\"gridcolor\":\"white\",\"linecolor\":\"white\",\"ticks\":\"\",\"title\":{\"standoff\":15},\"zerolinecolor\":\"white\",\"zerolinewidth\":2}}},\"xaxis\":{\"anchor\":\"y\",\"domain\":[0.0,1.0],\"title\":{\"text\":\"Year\"}},\"yaxis\":{\"anchor\":\"x\",\"domain\":[0.0,1.0],\"title\":{\"text\":\"Total Generated\"}},\"legend\":{\"title\":{\"text\":\"Energy Source\"},\"tracegroupgap\":0},\"title\":{\"text\":\"Energy Source from 2001-2021\"}},                        {\"responsive\": true}                    ).then(function(){\n",
       "                            \n",
       "var gd = document.getElementById('66c2dc33-c16a-49cc-ae7c-d3443e49257f');\n",
       "var x = new MutationObserver(function (mutations, observer) {{\n",
       "        var display = window.getComputedStyle(gd).display;\n",
       "        if (!display || display === 'none') {{\n",
       "            console.log([gd, 'removed!']);\n",
       "            Plotly.purge(gd);\n",
       "            observer.disconnect();\n",
       "        }}\n",
       "}});\n",
       "\n",
       "// Listen for the removal of the full notebook cells\n",
       "var notebookContainer = gd.closest('#notebook-container');\n",
       "if (notebookContainer) {{\n",
       "    x.observe(notebookContainer, {childList: true});\n",
       "}}\n",
       "\n",
       "// Listen for the clearing of the current output cell\n",
       "var outputEl = gd.closest('.output');\n",
       "if (outputEl) {{\n",
       "    x.observe(outputEl, {childList: true});\n",
       "}}\n",
       "\n",
       "                        })                };                });            </script>        </div>"
      ]
     },
     "metadata": {},
     "output_type": "display_data"
    }
   ],
   "source": [
    "#line graph\n",
    "energy_grouped = query_data()\n",
    "\n",
    "fig = px.line(energy_grouped, x=\"Year\", y=\"Total Generated\", \n",
    "              title=\"Energy Source from 2001-2021\",\n",
    "              color = 'Energy Source') \n",
    "\n",
    "fig.show()"
   ]
  },
  {
   "cell_type": "code",
   "execution_count": 13,
   "id": "59f82404",
   "metadata": {},
   "outputs": [
    {
     "data": {
      "application/vnd.plotly.v1+json": {
       "config": {
        "plotlyServerURL": "https://plotly.com"
       },
       "data": [
        {
         "alignmentgroup": "True",
         "hovertemplate": "Energy Source=%{x}<br>Year=2001<br>Total Generated=%{y}<extra></extra>",
         "legendgroup": "Coal",
         "marker": {
          "color": "#636efa",
          "pattern": {
           "shape": ""
          }
         },
         "name": "Coal",
         "offsetgroup": "Coal",
         "orientation": "v",
         "showlegend": true,
         "textposition": "auto",
         "type": "bar",
         "x": [
          "Coal"
         ],
         "xaxis": "x",
         "y": [
          1903955939
         ],
         "yaxis": "y"
        },
        {
         "alignmentgroup": "True",
         "hovertemplate": "Energy Source=%{x}<br>Year=2001<br>Total Generated=%{y}<extra></extra>",
         "legendgroup": "Natural Gas",
         "marker": {
          "color": "#EF553B",
          "pattern": {
           "shape": ""
          }
         },
         "name": "Natural Gas",
         "offsetgroup": "Natural Gas",
         "orientation": "v",
         "showlegend": true,
         "textposition": "auto",
         "type": "bar",
         "x": [
          "Natural Gas"
         ],
         "xaxis": "x",
         "y": [
          639129114
         ],
         "yaxis": "y"
        },
        {
         "alignmentgroup": "True",
         "hovertemplate": "Energy Source=%{x}<br>Year=2001<br>Total Generated=%{y}<extra></extra>",
         "legendgroup": "Nuclear",
         "marker": {
          "color": "#00cc96",
          "pattern": {
           "shape": ""
          }
         },
         "name": "Nuclear",
         "offsetgroup": "Nuclear",
         "orientation": "v",
         "showlegend": true,
         "textposition": "auto",
         "type": "bar",
         "x": [
          "Nuclear"
         ],
         "xaxis": "x",
         "y": [
          768826308
         ],
         "yaxis": "y"
        },
        {
         "alignmentgroup": "True",
         "hovertemplate": "Energy Source=%{x}<br>Year=2001<br>Total Generated=%{y}<extra></extra>",
         "legendgroup": "Renewable energy",
         "marker": {
          "color": "#ab63fa",
          "pattern": {
           "shape": ""
          }
         },
         "name": "Renewable energy",
         "offsetgroup": "Renewable energy",
         "orientation": "v",
         "showlegend": true,
         "textposition": "auto",
         "type": "bar",
         "x": [
          "Renewable energy"
         ],
         "xaxis": "x",
         "y": [
          278906244
         ],
         "yaxis": "y"
        },
        {
         "alignmentgroup": "True",
         "hovertemplate": "Energy Source=%{x}<br>Year=2001<br>Total Generated=%{y}<extra></extra>",
         "legendgroup": "Petroleum",
         "marker": {
          "color": "#FFA15A",
          "pattern": {
           "shape": ""
          }
         },
         "name": "Petroleum",
         "offsetgroup": "Petroleum",
         "orientation": "v",
         "showlegend": true,
         "textposition": "auto",
         "type": "bar",
         "x": [
          "Petroleum"
         ],
         "xaxis": "x",
         "y": [
          124880223
         ],
         "yaxis": "y"
        },
        {
         "alignmentgroup": "True",
         "hovertemplate": "Energy Source=%{x}<br>Year=2001<br>Total Generated=%{y}<extra></extra>",
         "legendgroup": "Other Gases",
         "marker": {
          "color": "#19d3f3",
          "pattern": {
           "shape": ""
          }
         },
         "name": "Other Gases",
         "offsetgroup": "Other Gases",
         "orientation": "v",
         "showlegend": true,
         "textposition": "auto",
         "type": "bar",
         "x": [
          "Other Gases"
         ],
         "xaxis": "x",
         "y": [
          9039473
         ],
         "yaxis": "y"
        },
        {
         "alignmentgroup": "True",
         "hovertemplate": "Energy Source=%{x}<br>Year=2001<br>Total Generated=%{y}<extra></extra>",
         "legendgroup": "Other",
         "marker": {
          "color": "#FF6692",
          "pattern": {
           "shape": ""
          }
         },
         "name": "Other",
         "offsetgroup": "Other",
         "orientation": "v",
         "showlegend": true,
         "textposition": "auto",
         "type": "bar",
         "x": [
          "Other"
         ],
         "xaxis": "x",
         "y": [
          11906353
         ],
         "yaxis": "y"
        }
       ],
       "frames": [
        {
         "data": [
          {
           "alignmentgroup": "True",
           "hovertemplate": "Energy Source=%{x}<br>Year=2001<br>Total Generated=%{y}<extra></extra>",
           "legendgroup": "Coal",
           "marker": {
            "color": "#636efa",
            "pattern": {
             "shape": ""
            }
           },
           "name": "Coal",
           "offsetgroup": "Coal",
           "orientation": "v",
           "showlegend": true,
           "textposition": "auto",
           "type": "bar",
           "x": [
            "Coal"
           ],
           "xaxis": "x",
           "y": [
            1903955939
           ],
           "yaxis": "y"
          },
          {
           "alignmentgroup": "True",
           "hovertemplate": "Energy Source=%{x}<br>Year=2001<br>Total Generated=%{y}<extra></extra>",
           "legendgroup": "Natural Gas",
           "marker": {
            "color": "#EF553B",
            "pattern": {
             "shape": ""
            }
           },
           "name": "Natural Gas",
           "offsetgroup": "Natural Gas",
           "orientation": "v",
           "showlegend": true,
           "textposition": "auto",
           "type": "bar",
           "x": [
            "Natural Gas"
           ],
           "xaxis": "x",
           "y": [
            639129114
           ],
           "yaxis": "y"
          },
          {
           "alignmentgroup": "True",
           "hovertemplate": "Energy Source=%{x}<br>Year=2001<br>Total Generated=%{y}<extra></extra>",
           "legendgroup": "Nuclear",
           "marker": {
            "color": "#00cc96",
            "pattern": {
             "shape": ""
            }
           },
           "name": "Nuclear",
           "offsetgroup": "Nuclear",
           "orientation": "v",
           "showlegend": true,
           "textposition": "auto",
           "type": "bar",
           "x": [
            "Nuclear"
           ],
           "xaxis": "x",
           "y": [
            768826308
           ],
           "yaxis": "y"
          },
          {
           "alignmentgroup": "True",
           "hovertemplate": "Energy Source=%{x}<br>Year=2001<br>Total Generated=%{y}<extra></extra>",
           "legendgroup": "Renewable energy",
           "marker": {
            "color": "#ab63fa",
            "pattern": {
             "shape": ""
            }
           },
           "name": "Renewable energy",
           "offsetgroup": "Renewable energy",
           "orientation": "v",
           "showlegend": true,
           "textposition": "auto",
           "type": "bar",
           "x": [
            "Renewable energy"
           ],
           "xaxis": "x",
           "y": [
            278906244
           ],
           "yaxis": "y"
          },
          {
           "alignmentgroup": "True",
           "hovertemplate": "Energy Source=%{x}<br>Year=2001<br>Total Generated=%{y}<extra></extra>",
           "legendgroup": "Petroleum",
           "marker": {
            "color": "#FFA15A",
            "pattern": {
             "shape": ""
            }
           },
           "name": "Petroleum",
           "offsetgroup": "Petroleum",
           "orientation": "v",
           "showlegend": true,
           "textposition": "auto",
           "type": "bar",
           "x": [
            "Petroleum"
           ],
           "xaxis": "x",
           "y": [
            124880223
           ],
           "yaxis": "y"
          },
          {
           "alignmentgroup": "True",
           "hovertemplate": "Energy Source=%{x}<br>Year=2001<br>Total Generated=%{y}<extra></extra>",
           "legendgroup": "Other Gases",
           "marker": {
            "color": "#19d3f3",
            "pattern": {
             "shape": ""
            }
           },
           "name": "Other Gases",
           "offsetgroup": "Other Gases",
           "orientation": "v",
           "showlegend": true,
           "textposition": "auto",
           "type": "bar",
           "x": [
            "Other Gases"
           ],
           "xaxis": "x",
           "y": [
            9039473
           ],
           "yaxis": "y"
          },
          {
           "alignmentgroup": "True",
           "hovertemplate": "Energy Source=%{x}<br>Year=2001<br>Total Generated=%{y}<extra></extra>",
           "legendgroup": "Other",
           "marker": {
            "color": "#FF6692",
            "pattern": {
             "shape": ""
            }
           },
           "name": "Other",
           "offsetgroup": "Other",
           "orientation": "v",
           "showlegend": true,
           "textposition": "auto",
           "type": "bar",
           "x": [
            "Other"
           ],
           "xaxis": "x",
           "y": [
            11906353
           ],
           "yaxis": "y"
          }
         ],
         "name": "2001"
        },
        {
         "data": [
          {
           "alignmentgroup": "True",
           "hovertemplate": "Energy Source=%{x}<br>Year=2002<br>Total Generated=%{y}<extra></extra>",
           "legendgroup": "Coal",
           "marker": {
            "color": "#636efa",
            "pattern": {
             "shape": ""
            }
           },
           "name": "Coal",
           "offsetgroup": "Coal",
           "orientation": "v",
           "showlegend": true,
           "textposition": "auto",
           "type": "bar",
           "x": [
            "Coal"
           ],
           "xaxis": "x",
           "y": [
            1933130342
           ],
           "yaxis": "y"
          },
          {
           "alignmentgroup": "True",
           "hovertemplate": "Energy Source=%{x}<br>Year=2002<br>Total Generated=%{y}<extra></extra>",
           "legendgroup": "Natural Gas",
           "marker": {
            "color": "#EF553B",
            "pattern": {
             "shape": ""
            }
           },
           "name": "Natural Gas",
           "offsetgroup": "Natural Gas",
           "orientation": "v",
           "showlegend": true,
           "textposition": "auto",
           "type": "bar",
           "x": [
            "Natural Gas"
           ],
           "xaxis": "x",
           "y": [
            691005761
           ],
           "yaxis": "y"
          },
          {
           "alignmentgroup": "True",
           "hovertemplate": "Energy Source=%{x}<br>Year=2002<br>Total Generated=%{y}<extra></extra>",
           "legendgroup": "Nuclear",
           "marker": {
            "color": "#00cc96",
            "pattern": {
             "shape": ""
            }
           },
           "name": "Nuclear",
           "offsetgroup": "Nuclear",
           "orientation": "v",
           "showlegend": true,
           "textposition": "auto",
           "type": "bar",
           "x": [
            "Nuclear"
           ],
           "xaxis": "x",
           "y": [
            780064087
           ],
           "yaxis": "y"
          },
          {
           "alignmentgroup": "True",
           "hovertemplate": "Energy Source=%{x}<br>Year=2002<br>Total Generated=%{y}<extra></extra>",
           "legendgroup": "Renewable energy",
           "marker": {
            "color": "#ab63fa",
            "pattern": {
             "shape": ""
            }
           },
           "name": "Renewable energy",
           "offsetgroup": "Renewable energy",
           "orientation": "v",
           "showlegend": true,
           "textposition": "auto",
           "type": "bar",
           "x": [
            "Renewable energy"
           ],
           "xaxis": "x",
           "y": [
            334695061
           ],
           "yaxis": "y"
          },
          {
           "alignmentgroup": "True",
           "hovertemplate": "Energy Source=%{x}<br>Year=2002<br>Total Generated=%{y}<extra></extra>",
           "legendgroup": "Petroleum",
           "marker": {
            "color": "#FFA15A",
            "pattern": {
             "shape": ""
            }
           },
           "name": "Petroleum",
           "offsetgroup": "Petroleum",
           "orientation": "v",
           "showlegend": true,
           "textposition": "auto",
           "type": "bar",
           "x": [
            "Petroleum"
           ],
           "xaxis": "x",
           "y": [
            94567379
           ],
           "yaxis": "y"
          },
          {
           "alignmentgroup": "True",
           "hovertemplate": "Energy Source=%{x}<br>Year=2002<br>Total Generated=%{y}<extra></extra>",
           "legendgroup": "Other Gases",
           "marker": {
            "color": "#19d3f3",
            "pattern": {
             "shape": ""
            }
           },
           "name": "Other Gases",
           "offsetgroup": "Other Gases",
           "orientation": "v",
           "showlegend": true,
           "textposition": "auto",
           "type": "bar",
           "x": [
            "Other Gases"
           ],
           "xaxis": "x",
           "y": [
            11462685
           ],
           "yaxis": "y"
          },
          {
           "alignmentgroup": "True",
           "hovertemplate": "Energy Source=%{x}<br>Year=2002<br>Total Generated=%{y}<extra></extra>",
           "legendgroup": "Other",
           "marker": {
            "color": "#FF6692",
            "pattern": {
             "shape": ""
            }
           },
           "name": "Other",
           "offsetgroup": "Other",
           "orientation": "v",
           "showlegend": true,
           "textposition": "auto",
           "type": "bar",
           "x": [
            "Other"
           ],
           "xaxis": "x",
           "y": [
            13526916
           ],
           "yaxis": "y"
          }
         ],
         "name": "2002"
        },
        {
         "data": [
          {
           "alignmentgroup": "True",
           "hovertemplate": "Energy Source=%{x}<br>Year=2003<br>Total Generated=%{y}<extra></extra>",
           "legendgroup": "Coal",
           "marker": {
            "color": "#636efa",
            "pattern": {
             "shape": ""
            }
           },
           "name": "Coal",
           "offsetgroup": "Coal",
           "orientation": "v",
           "showlegend": true,
           "textposition": "auto",
           "type": "bar",
           "x": [
            "Coal"
           ],
           "xaxis": "x",
           "y": [
            1973736746
           ],
           "yaxis": "y"
          },
          {
           "alignmentgroup": "True",
           "hovertemplate": "Energy Source=%{x}<br>Year=2003<br>Total Generated=%{y}<extra></extra>",
           "legendgroup": "Natural Gas",
           "marker": {
            "color": "#EF553B",
            "pattern": {
             "shape": ""
            }
           },
           "name": "Natural Gas",
           "offsetgroup": "Natural Gas",
           "orientation": "v",
           "showlegend": true,
           "textposition": "auto",
           "type": "bar",
           "x": [
            "Natural Gas"
           ],
           "xaxis": "x",
           "y": [
            649907551
           ],
           "yaxis": "y"
          },
          {
           "alignmentgroup": "True",
           "hovertemplate": "Energy Source=%{x}<br>Year=2003<br>Total Generated=%{y}<extra></extra>",
           "legendgroup": "Nuclear",
           "marker": {
            "color": "#00cc96",
            "pattern": {
             "shape": ""
            }
           },
           "name": "Nuclear",
           "offsetgroup": "Nuclear",
           "orientation": "v",
           "showlegend": true,
           "textposition": "auto",
           "type": "bar",
           "x": [
            "Nuclear"
           ],
           "xaxis": "x",
           "y": [
            763732695
           ],
           "yaxis": "y"
          },
          {
           "alignmentgroup": "True",
           "hovertemplate": "Energy Source=%{x}<br>Year=2003<br>Total Generated=%{y}<extra></extra>",
           "legendgroup": "Renewable energy",
           "marker": {
            "color": "#ab63fa",
            "pattern": {
             "shape": ""
            }
           },
           "name": "Renewable energy",
           "offsetgroup": "Renewable energy",
           "orientation": "v",
           "showlegend": true,
           "textposition": "auto",
           "type": "bar",
           "x": [
            "Renewable energy"
           ],
           "xaxis": "x",
           "y": [
            346758061
           ],
           "yaxis": "y"
          },
          {
           "alignmentgroup": "True",
           "hovertemplate": "Energy Source=%{x}<br>Year=2003<br>Total Generated=%{y}<extra></extra>",
           "legendgroup": "Petroleum",
           "marker": {
            "color": "#FFA15A",
            "pattern": {
             "shape": ""
            }
           },
           "name": "Petroleum",
           "offsetgroup": "Petroleum",
           "orientation": "v",
           "showlegend": true,
           "textposition": "auto",
           "type": "bar",
           "x": [
            "Petroleum"
           ],
           "xaxis": "x",
           "y": [
            119405639
           ],
           "yaxis": "y"
          },
          {
           "alignmentgroup": "True",
           "hovertemplate": "Energy Source=%{x}<br>Year=2003<br>Total Generated=%{y}<extra></extra>",
           "legendgroup": "Other Gases",
           "marker": {
            "color": "#19d3f3",
            "pattern": {
             "shape": ""
            }
           },
           "name": "Other Gases",
           "offsetgroup": "Other Gases",
           "orientation": "v",
           "showlegend": true,
           "textposition": "auto",
           "type": "bar",
           "x": [
            "Other Gases"
           ],
           "xaxis": "x",
           "y": [
            15600026
           ],
           "yaxis": "y"
          },
          {
           "alignmentgroup": "True",
           "hovertemplate": "Energy Source=%{x}<br>Year=2003<br>Total Generated=%{y}<extra></extra>",
           "legendgroup": "Other",
           "marker": {
            "color": "#FF6692",
            "pattern": {
             "shape": ""
            }
           },
           "name": "Other",
           "offsetgroup": "Other",
           "orientation": "v",
           "showlegend": true,
           "textposition": "auto",
           "type": "bar",
           "x": [
            "Other"
           ],
           "xaxis": "x",
           "y": [
            14044522
           ],
           "yaxis": "y"
          }
         ],
         "name": "2003"
        },
        {
         "data": [
          {
           "alignmentgroup": "True",
           "hovertemplate": "Energy Source=%{x}<br>Year=2004<br>Total Generated=%{y}<extra></extra>",
           "legendgroup": "Coal",
           "marker": {
            "color": "#636efa",
            "pattern": {
             "shape": ""
            }
           },
           "name": "Coal",
           "offsetgroup": "Coal",
           "orientation": "v",
           "showlegend": true,
           "textposition": "auto",
           "type": "bar",
           "x": [
            "Coal"
           ],
           "xaxis": "x",
           "y": [
            1978300559
           ],
           "yaxis": "y"
          },
          {
           "alignmentgroup": "True",
           "hovertemplate": "Energy Source=%{x}<br>Year=2004<br>Total Generated=%{y}<extra></extra>",
           "legendgroup": "Natural Gas",
           "marker": {
            "color": "#EF553B",
            "pattern": {
             "shape": ""
            }
           },
           "name": "Natural Gas",
           "offsetgroup": "Natural Gas",
           "orientation": "v",
           "showlegend": true,
           "textposition": "auto",
           "type": "bar",
           "x": [
            "Natural Gas"
           ],
           "xaxis": "x",
           "y": [
            710100037
           ],
           "yaxis": "y"
          },
          {
           "alignmentgroup": "True",
           "hovertemplate": "Energy Source=%{x}<br>Year=2004<br>Total Generated=%{y}<extra></extra>",
           "legendgroup": "Nuclear",
           "marker": {
            "color": "#00cc96",
            "pattern": {
             "shape": ""
            }
           },
           "name": "Nuclear",
           "offsetgroup": "Nuclear",
           "orientation": "v",
           "showlegend": true,
           "textposition": "auto",
           "type": "bar",
           "x": [
            "Nuclear"
           ],
           "xaxis": "x",
           "y": [
            788528387
           ],
           "yaxis": "y"
          },
          {
           "alignmentgroup": "True",
           "hovertemplate": "Energy Source=%{x}<br>Year=2004<br>Total Generated=%{y}<extra></extra>",
           "legendgroup": "Renewable energy",
           "marker": {
            "color": "#ab63fa",
            "pattern": {
             "shape": ""
            }
           },
           "name": "Renewable energy",
           "offsetgroup": "Renewable energy",
           "orientation": "v",
           "showlegend": true,
           "textposition": "auto",
           "type": "bar",
           "x": [
            "Renewable energy"
           ],
           "xaxis": "x",
           "y": [
            342996480
           ],
           "yaxis": "y"
          },
          {
           "alignmentgroup": "True",
           "hovertemplate": "Energy Source=%{x}<br>Year=2004<br>Total Generated=%{y}<extra></extra>",
           "legendgroup": "Petroleum",
           "marker": {
            "color": "#FFA15A",
            "pattern": {
             "shape": ""
            }
           },
           "name": "Petroleum",
           "offsetgroup": "Petroleum",
           "orientation": "v",
           "showlegend": true,
           "textposition": "auto",
           "type": "bar",
           "x": [
            "Petroleum"
           ],
           "xaxis": "x",
           "y": [
            121145083
           ],
           "yaxis": "y"
          },
          {
           "alignmentgroup": "True",
           "hovertemplate": "Energy Source=%{x}<br>Year=2004<br>Total Generated=%{y}<extra></extra>",
           "legendgroup": "Other Gases",
           "marker": {
            "color": "#19d3f3",
            "pattern": {
             "shape": ""
            }
           },
           "name": "Other Gases",
           "offsetgroup": "Other Gases",
           "orientation": "v",
           "showlegend": true,
           "textposition": "auto",
           "type": "bar",
           "x": [
            "Other Gases"
           ],
           "xaxis": "x",
           "y": [
            15252421
           ],
           "yaxis": "y"
          },
          {
           "alignmentgroup": "True",
           "hovertemplate": "Energy Source=%{x}<br>Year=2004<br>Total Generated=%{y}<extra></extra>",
           "legendgroup": "Other",
           "marker": {
            "color": "#FF6692",
            "pattern": {
             "shape": ""
            }
           },
           "name": "Other",
           "offsetgroup": "Other",
           "orientation": "v",
           "showlegend": true,
           "textposition": "auto",
           "type": "bar",
           "x": [
            "Other"
           ],
           "xaxis": "x",
           "y": [
            14232431
           ],
           "yaxis": "y"
          }
         ],
         "name": "2004"
        },
        {
         "data": [
          {
           "alignmentgroup": "True",
           "hovertemplate": "Energy Source=%{x}<br>Year=2005<br>Total Generated=%{y}<extra></extra>",
           "legendgroup": "Coal",
           "marker": {
            "color": "#636efa",
            "pattern": {
             "shape": ""
            }
           },
           "name": "Coal",
           "offsetgroup": "Coal",
           "orientation": "v",
           "showlegend": true,
           "textposition": "auto",
           "type": "bar",
           "x": [
            "Coal"
           ],
           "xaxis": "x",
           "y": [
            2012873053
           ],
           "yaxis": "y"
          },
          {
           "alignmentgroup": "True",
           "hovertemplate": "Energy Source=%{x}<br>Year=2005<br>Total Generated=%{y}<extra></extra>",
           "legendgroup": "Natural Gas",
           "marker": {
            "color": "#EF553B",
            "pattern": {
             "shape": ""
            }
           },
           "name": "Natural Gas",
           "offsetgroup": "Natural Gas",
           "orientation": "v",
           "showlegend": true,
           "textposition": "auto",
           "type": "bar",
           "x": [
            "Natural Gas"
           ],
           "xaxis": "x",
           "y": [
            760960257
           ],
           "yaxis": "y"
          },
          {
           "alignmentgroup": "True",
           "hovertemplate": "Energy Source=%{x}<br>Year=2005<br>Total Generated=%{y}<extra></extra>",
           "legendgroup": "Nuclear",
           "marker": {
            "color": "#00cc96",
            "pattern": {
             "shape": ""
            }
           },
           "name": "Nuclear",
           "offsetgroup": "Nuclear",
           "orientation": "v",
           "showlegend": true,
           "textposition": "auto",
           "type": "bar",
           "x": [
            "Nuclear"
           ],
           "xaxis": "x",
           "y": [
            781986365
           ],
           "yaxis": "y"
          },
          {
           "alignmentgroup": "True",
           "hovertemplate": "Energy Source=%{x}<br>Year=2005<br>Total Generated=%{y}<extra></extra>",
           "legendgroup": "Renewable energy",
           "marker": {
            "color": "#ab63fa",
            "pattern": {
             "shape": ""
            }
           },
           "name": "Renewable energy",
           "offsetgroup": "Renewable energy",
           "orientation": "v",
           "showlegend": true,
           "textposition": "auto",
           "type": "bar",
           "x": [
            "Renewable energy"
           ],
           "xaxis": "x",
           "y": [
            351092887
           ],
           "yaxis": "y"
          },
          {
           "alignmentgroup": "True",
           "hovertemplate": "Energy Source=%{x}<br>Year=2005<br>Total Generated=%{y}<extra></extra>",
           "legendgroup": "Petroleum",
           "marker": {
            "color": "#FFA15A",
            "pattern": {
             "shape": ""
            }
           },
           "name": "Petroleum",
           "offsetgroup": "Petroleum",
           "orientation": "v",
           "showlegend": true,
           "textposition": "auto",
           "type": "bar",
           "x": [
            "Petroleum"
           ],
           "xaxis": "x",
           "y": [
            122225034
           ],
           "yaxis": "y"
          },
          {
           "alignmentgroup": "True",
           "hovertemplate": "Energy Source=%{x}<br>Year=2005<br>Total Generated=%{y}<extra></extra>",
           "legendgroup": "Other Gases",
           "marker": {
            "color": "#19d3f3",
            "pattern": {
             "shape": ""
            }
           },
           "name": "Other Gases",
           "offsetgroup": "Other Gases",
           "orientation": "v",
           "showlegend": true,
           "textposition": "auto",
           "type": "bar",
           "x": [
            "Other Gases"
           ],
           "xaxis": "x",
           "y": [
            13464151
           ],
           "yaxis": "y"
          },
          {
           "alignmentgroup": "True",
           "hovertemplate": "Energy Source=%{x}<br>Year=2005<br>Total Generated=%{y}<extra></extra>",
           "legendgroup": "Other",
           "marker": {
            "color": "#FF6692",
            "pattern": {
             "shape": ""
            }
           },
           "name": "Other",
           "offsetgroup": "Other",
           "orientation": "v",
           "showlegend": true,
           "textposition": "auto",
           "type": "bar",
           "x": [
            "Other"
           ],
           "xaxis": "x",
           "y": [
            12821041
           ],
           "yaxis": "y"
          }
         ],
         "name": "2005"
        },
        {
         "data": [
          {
           "alignmentgroup": "True",
           "hovertemplate": "Energy Source=%{x}<br>Year=2006<br>Total Generated=%{y}<extra></extra>",
           "legendgroup": "Coal",
           "marker": {
            "color": "#636efa",
            "pattern": {
             "shape": ""
            }
           },
           "name": "Coal",
           "offsetgroup": "Coal",
           "orientation": "v",
           "showlegend": true,
           "textposition": "auto",
           "type": "bar",
           "x": [
            "Coal"
           ],
           "xaxis": "x",
           "y": [
            1990511140
           ],
           "yaxis": "y"
          },
          {
           "alignmentgroup": "True",
           "hovertemplate": "Energy Source=%{x}<br>Year=2006<br>Total Generated=%{y}<extra></extra>",
           "legendgroup": "Natural Gas",
           "marker": {
            "color": "#EF553B",
            "pattern": {
             "shape": ""
            }
           },
           "name": "Natural Gas",
           "offsetgroup": "Natural Gas",
           "orientation": "v",
           "showlegend": true,
           "textposition": "auto",
           "type": "bar",
           "x": [
            "Natural Gas"
           ],
           "xaxis": "x",
           "y": [
            816440783
           ],
           "yaxis": "y"
          },
          {
           "alignmentgroup": "True",
           "hovertemplate": "Energy Source=%{x}<br>Year=2006<br>Total Generated=%{y}<extra></extra>",
           "legendgroup": "Nuclear",
           "marker": {
            "color": "#00cc96",
            "pattern": {
             "shape": ""
            }
           },
           "name": "Nuclear",
           "offsetgroup": "Nuclear",
           "orientation": "v",
           "showlegend": true,
           "textposition": "auto",
           "type": "bar",
           "x": [
            "Nuclear"
           ],
           "xaxis": "x",
           "y": [
            787218636
           ],
           "yaxis": "y"
          },
          {
           "alignmentgroup": "True",
           "hovertemplate": "Energy Source=%{x}<br>Year=2006<br>Total Generated=%{y}<extra></extra>",
           "legendgroup": "Renewable energy",
           "marker": {
            "color": "#ab63fa",
            "pattern": {
             "shape": ""
            }
           },
           "name": "Renewable energy",
           "offsetgroup": "Renewable energy",
           "orientation": "v",
           "showlegend": true,
           "textposition": "auto",
           "type": "bar",
           "x": [
            "Renewable energy"
           ],
           "xaxis": "x",
           "y": [
            379214086
           ],
           "yaxis": "y"
          },
          {
           "alignmentgroup": "True",
           "hovertemplate": "Energy Source=%{x}<br>Year=2006<br>Total Generated=%{y}<extra></extra>",
           "legendgroup": "Petroleum",
           "marker": {
            "color": "#FFA15A",
            "pattern": {
             "shape": ""
            }
           },
           "name": "Petroleum",
           "offsetgroup": "Petroleum",
           "orientation": "v",
           "showlegend": true,
           "textposition": "auto",
           "type": "bar",
           "x": [
            "Petroleum"
           ],
           "xaxis": "x",
           "y": [
            64166415
           ],
           "yaxis": "y"
          },
          {
           "alignmentgroup": "True",
           "hovertemplate": "Energy Source=%{x}<br>Year=2006<br>Total Generated=%{y}<extra></extra>",
           "legendgroup": "Other Gases",
           "marker": {
            "color": "#19d3f3",
            "pattern": {
             "shape": ""
            }
           },
           "name": "Other Gases",
           "offsetgroup": "Other Gases",
           "orientation": "v",
           "showlegend": true,
           "textposition": "auto",
           "type": "bar",
           "x": [
            "Other Gases"
           ],
           "xaxis": "x",
           "y": [
            14176800
           ],
           "yaxis": "y"
          },
          {
           "alignmentgroup": "True",
           "hovertemplate": "Energy Source=%{x}<br>Year=2006<br>Total Generated=%{y}<extra></extra>",
           "legendgroup": "Other",
           "marker": {
            "color": "#FF6692",
            "pattern": {
             "shape": ""
            }
           },
           "name": "Other",
           "offsetgroup": "Other",
           "orientation": "v",
           "showlegend": true,
           "textposition": "auto",
           "type": "bar",
           "x": [
            "Other"
           ],
           "xaxis": "x",
           "y": [
            12974403
           ],
           "yaxis": "y"
          }
         ],
         "name": "2006"
        },
        {
         "data": [
          {
           "alignmentgroup": "True",
           "hovertemplate": "Energy Source=%{x}<br>Year=2007<br>Total Generated=%{y}<extra></extra>",
           "legendgroup": "Coal",
           "marker": {
            "color": "#636efa",
            "pattern": {
             "shape": ""
            }
           },
           "name": "Coal",
           "offsetgroup": "Coal",
           "orientation": "v",
           "showlegend": true,
           "textposition": "auto",
           "type": "bar",
           "x": [
            "Coal"
           ],
           "xaxis": "x",
           "y": [
            2016455587
           ],
           "yaxis": "y"
          },
          {
           "alignmentgroup": "True",
           "hovertemplate": "Energy Source=%{x}<br>Year=2007<br>Total Generated=%{y}<extra></extra>",
           "legendgroup": "Natural Gas",
           "marker": {
            "color": "#EF553B",
            "pattern": {
             "shape": ""
            }
           },
           "name": "Natural Gas",
           "offsetgroup": "Natural Gas",
           "orientation": "v",
           "showlegend": true,
           "textposition": "auto",
           "type": "bar",
           "x": [
            "Natural Gas"
           ],
           "xaxis": "x",
           "y": [
            896589798
           ],
           "yaxis": "y"
          },
          {
           "alignmentgroup": "True",
           "hovertemplate": "Energy Source=%{x}<br>Year=2007<br>Total Generated=%{y}<extra></extra>",
           "legendgroup": "Nuclear",
           "marker": {
            "color": "#00cc96",
            "pattern": {
             "shape": ""
            }
           },
           "name": "Nuclear",
           "offsetgroup": "Nuclear",
           "orientation": "v",
           "showlegend": true,
           "textposition": "auto",
           "type": "bar",
           "x": [
            "Nuclear"
           ],
           "xaxis": "x",
           "y": [
            806424753
           ],
           "yaxis": "y"
          },
          {
           "alignmentgroup": "True",
           "hovertemplate": "Energy Source=%{x}<br>Year=2007<br>Total Generated=%{y}<extra></extra>",
           "legendgroup": "Renewable energy",
           "marker": {
            "color": "#ab63fa",
            "pattern": {
             "shape": ""
            }
           },
           "name": "Renewable energy",
           "offsetgroup": "Renewable energy",
           "orientation": "v",
           "showlegend": true,
           "textposition": "auto",
           "type": "bar",
           "x": [
            "Renewable energy"
           ],
           "xaxis": "x",
           "y": [
            345851148
           ],
           "yaxis": "y"
          },
          {
           "alignmentgroup": "True",
           "hovertemplate": "Energy Source=%{x}<br>Year=2007<br>Total Generated=%{y}<extra></extra>",
           "legendgroup": "Petroleum",
           "marker": {
            "color": "#FFA15A",
            "pattern": {
             "shape": ""
            }
           },
           "name": "Petroleum",
           "offsetgroup": "Petroleum",
           "orientation": "v",
           "showlegend": true,
           "textposition": "auto",
           "type": "bar",
           "x": [
            "Petroleum"
           ],
           "xaxis": "x",
           "y": [
            65738967
           ],
           "yaxis": "y"
          },
          {
           "alignmentgroup": "True",
           "hovertemplate": "Energy Source=%{x}<br>Year=2007<br>Total Generated=%{y}<extra></extra>",
           "legendgroup": "Other Gases",
           "marker": {
            "color": "#19d3f3",
            "pattern": {
             "shape": ""
            }
           },
           "name": "Other Gases",
           "offsetgroup": "Other Gases",
           "orientation": "v",
           "showlegend": true,
           "textposition": "auto",
           "type": "bar",
           "x": [
            "Other Gases"
           ],
           "xaxis": "x",
           "y": [
            13453352
           ],
           "yaxis": "y"
          },
          {
           "alignmentgroup": "True",
           "hovertemplate": "Energy Source=%{x}<br>Year=2007<br>Total Generated=%{y}<extra></extra>",
           "legendgroup": "Other",
           "marker": {
            "color": "#FF6692",
            "pattern": {
             "shape": ""
            }
           },
           "name": "Other",
           "offsetgroup": "Other",
           "orientation": "v",
           "showlegend": true,
           "textposition": "auto",
           "type": "bar",
           "x": [
            "Other"
           ],
           "xaxis": "x",
           "y": [
            12231148
           ],
           "yaxis": "y"
          }
         ],
         "name": "2007"
        },
        {
         "data": [
          {
           "alignmentgroup": "True",
           "hovertemplate": "Energy Source=%{x}<br>Year=2008<br>Total Generated=%{y}<extra></extra>",
           "legendgroup": "Coal",
           "marker": {
            "color": "#636efa",
            "pattern": {
             "shape": ""
            }
           },
           "name": "Coal",
           "offsetgroup": "Coal",
           "orientation": "v",
           "showlegend": true,
           "textposition": "auto",
           "type": "bar",
           "x": [
            "Coal"
           ],
           "xaxis": "x",
           "y": [
            1985801252
           ],
           "yaxis": "y"
          },
          {
           "alignmentgroup": "True",
           "hovertemplate": "Energy Source=%{x}<br>Year=2008<br>Total Generated=%{y}<extra></extra>",
           "legendgroup": "Natural Gas",
           "marker": {
            "color": "#EF553B",
            "pattern": {
             "shape": ""
            }
           },
           "name": "Natural Gas",
           "offsetgroup": "Natural Gas",
           "orientation": "v",
           "showlegend": true,
           "textposition": "auto",
           "type": "bar",
           "x": [
            "Natural Gas"
           ],
           "xaxis": "x",
           "y": [
            882980635
           ],
           "yaxis": "y"
          },
          {
           "alignmentgroup": "True",
           "hovertemplate": "Energy Source=%{x}<br>Year=2008<br>Total Generated=%{y}<extra></extra>",
           "legendgroup": "Nuclear",
           "marker": {
            "color": "#00cc96",
            "pattern": {
             "shape": ""
            }
           },
           "name": "Nuclear",
           "offsetgroup": "Nuclear",
           "orientation": "v",
           "showlegend": true,
           "textposition": "auto",
           "type": "bar",
           "x": [
            "Nuclear"
           ],
           "xaxis": "x",
           "y": [
            806208435
           ],
           "yaxis": "y"
          },
          {
           "alignmentgroup": "True",
           "hovertemplate": "Energy Source=%{x}<br>Year=2008<br>Total Generated=%{y}<extra></extra>",
           "legendgroup": "Renewable energy",
           "marker": {
            "color": "#ab63fa",
            "pattern": {
             "shape": ""
            }
           },
           "name": "Renewable energy",
           "offsetgroup": "Renewable energy",
           "orientation": "v",
           "showlegend": true,
           "textposition": "auto",
           "type": "bar",
           "x": [
            "Renewable energy"
           ],
           "xaxis": "x",
           "y": [
            374644348
           ],
           "yaxis": "y"
          },
          {
           "alignmentgroup": "True",
           "hovertemplate": "Energy Source=%{x}<br>Year=2008<br>Total Generated=%{y}<extra></extra>",
           "legendgroup": "Petroleum",
           "marker": {
            "color": "#FFA15A",
            "pattern": {
             "shape": ""
            }
           },
           "name": "Petroleum",
           "offsetgroup": "Petroleum",
           "orientation": "v",
           "showlegend": true,
           "textposition": "auto",
           "type": "bar",
           "x": [
            "Petroleum"
           ],
           "xaxis": "x",
           "y": [
            46242610
           ],
           "yaxis": "y"
          },
          {
           "alignmentgroup": "True",
           "hovertemplate": "Energy Source=%{x}<br>Year=2008<br>Total Generated=%{y}<extra></extra>",
           "legendgroup": "Other Gases",
           "marker": {
            "color": "#19d3f3",
            "pattern": {
             "shape": ""
            }
           },
           "name": "Other Gases",
           "offsetgroup": "Other Gases",
           "orientation": "v",
           "showlegend": true,
           "textposition": "auto",
           "type": "bar",
           "x": [
            "Other Gases"
           ],
           "xaxis": "x",
           "y": [
            11706870
           ],
           "yaxis": "y"
          },
          {
           "alignmentgroup": "True",
           "hovertemplate": "Energy Source=%{x}<br>Year=2008<br>Total Generated=%{y}<extra></extra>",
           "legendgroup": "Other",
           "marker": {
            "color": "#FF6692",
            "pattern": {
             "shape": ""
            }
           },
           "name": "Other",
           "offsetgroup": "Other",
           "orientation": "v",
           "showlegend": true,
           "textposition": "auto",
           "type": "bar",
           "x": [
            "Other"
           ],
           "xaxis": "x",
           "y": [
            11803654
           ],
           "yaxis": "y"
          }
         ],
         "name": "2008"
        },
        {
         "data": [
          {
           "alignmentgroup": "True",
           "hovertemplate": "Energy Source=%{x}<br>Year=2009<br>Total Generated=%{y}<extra></extra>",
           "legendgroup": "Coal",
           "marker": {
            "color": "#636efa",
            "pattern": {
             "shape": ""
            }
           },
           "name": "Coal",
           "offsetgroup": "Coal",
           "orientation": "v",
           "showlegend": true,
           "textposition": "auto",
           "type": "bar",
           "x": [
            "Coal"
           ],
           "xaxis": "x",
           "y": [
            1755904259
           ],
           "yaxis": "y"
          },
          {
           "alignmentgroup": "True",
           "hovertemplate": "Energy Source=%{x}<br>Year=2009<br>Total Generated=%{y}<extra></extra>",
           "legendgroup": "Natural Gas",
           "marker": {
            "color": "#EF553B",
            "pattern": {
             "shape": ""
            }
           },
           "name": "Natural Gas",
           "offsetgroup": "Natural Gas",
           "orientation": "v",
           "showlegend": true,
           "textposition": "auto",
           "type": "bar",
           "x": [
            "Natural Gas"
           ],
           "xaxis": "x",
           "y": [
            920978685
           ],
           "yaxis": "y"
          },
          {
           "alignmentgroup": "True",
           "hovertemplate": "Energy Source=%{x}<br>Year=2009<br>Total Generated=%{y}<extra></extra>",
           "legendgroup": "Nuclear",
           "marker": {
            "color": "#00cc96",
            "pattern": {
             "shape": ""
            }
           },
           "name": "Nuclear",
           "offsetgroup": "Nuclear",
           "orientation": "v",
           "showlegend": true,
           "textposition": "auto",
           "type": "bar",
           "x": [
            "Nuclear"
           ],
           "xaxis": "x",
           "y": [
            798854585
           ],
           "yaxis": "y"
          },
          {
           "alignmentgroup": "True",
           "hovertemplate": "Energy Source=%{x}<br>Year=2009<br>Total Generated=%{y}<extra></extra>",
           "legendgroup": "Renewable energy",
           "marker": {
            "color": "#ab63fa",
            "pattern": {
             "shape": ""
            }
           },
           "name": "Renewable energy",
           "offsetgroup": "Renewable energy",
           "orientation": "v",
           "showlegend": true,
           "textposition": "auto",
           "type": "bar",
           "x": [
            "Renewable energy"
           ],
           "xaxis": "x",
           "y": [
            413096483
           ],
           "yaxis": "y"
          },
          {
           "alignmentgroup": "True",
           "hovertemplate": "Energy Source=%{x}<br>Year=2009<br>Total Generated=%{y}<extra></extra>",
           "legendgroup": "Petroleum",
           "marker": {
            "color": "#FFA15A",
            "pattern": {
             "shape": ""
            }
           },
           "name": "Petroleum",
           "offsetgroup": "Petroleum",
           "orientation": "v",
           "showlegend": true,
           "textposition": "auto",
           "type": "bar",
           "x": [
            "Petroleum"
           ],
           "xaxis": "x",
           "y": [
            38936507
           ],
           "yaxis": "y"
          },
          {
           "alignmentgroup": "True",
           "hovertemplate": "Energy Source=%{x}<br>Year=2009<br>Total Generated=%{y}<extra></extra>",
           "legendgroup": "Other Gases",
           "marker": {
            "color": "#19d3f3",
            "pattern": {
             "shape": ""
            }
           },
           "name": "Other Gases",
           "offsetgroup": "Other Gases",
           "orientation": "v",
           "showlegend": true,
           "textposition": "auto",
           "type": "bar",
           "x": [
            "Other Gases"
           ],
           "xaxis": "x",
           "y": [
            10632113
           ],
           "yaxis": "y"
          },
          {
           "alignmentgroup": "True",
           "hovertemplate": "Energy Source=%{x}<br>Year=2009<br>Total Generated=%{y}<extra></extra>",
           "legendgroup": "Other",
           "marker": {
            "color": "#FF6692",
            "pattern": {
             "shape": ""
            }
           },
           "name": "Other",
           "offsetgroup": "Other",
           "orientation": "v",
           "showlegend": true,
           "textposition": "auto",
           "type": "bar",
           "x": [
            "Other"
           ],
           "xaxis": "x",
           "y": [
            11928337
           ],
           "yaxis": "y"
          }
         ],
         "name": "2009"
        },
        {
         "data": [
          {
           "alignmentgroup": "True",
           "hovertemplate": "Energy Source=%{x}<br>Year=2010<br>Total Generated=%{y}<extra></extra>",
           "legendgroup": "Coal",
           "marker": {
            "color": "#636efa",
            "pattern": {
             "shape": ""
            }
           },
           "name": "Coal",
           "offsetgroup": "Coal",
           "orientation": "v",
           "showlegend": true,
           "textposition": "auto",
           "type": "bar",
           "x": [
            "Coal"
           ],
           "xaxis": "x",
           "y": [
            1847290262
           ],
           "yaxis": "y"
          },
          {
           "alignmentgroup": "True",
           "hovertemplate": "Energy Source=%{x}<br>Year=2010<br>Total Generated=%{y}<extra></extra>",
           "legendgroup": "Natural Gas",
           "marker": {
            "color": "#EF553B",
            "pattern": {
             "shape": ""
            }
           },
           "name": "Natural Gas",
           "offsetgroup": "Natural Gas",
           "orientation": "v",
           "showlegend": true,
           "textposition": "auto",
           "type": "bar",
           "x": [
            "Natural Gas"
           ],
           "xaxis": "x",
           "y": [
            987697270
           ],
           "yaxis": "y"
          },
          {
           "alignmentgroup": "True",
           "hovertemplate": "Energy Source=%{x}<br>Year=2010<br>Total Generated=%{y}<extra></extra>",
           "legendgroup": "Nuclear",
           "marker": {
            "color": "#00cc96",
            "pattern": {
             "shape": ""
            }
           },
           "name": "Nuclear",
           "offsetgroup": "Nuclear",
           "orientation": "v",
           "showlegend": true,
           "textposition": "auto",
           "type": "bar",
           "x": [
            "Nuclear"
           ],
           "xaxis": "x",
           "y": [
            806968301
           ],
           "yaxis": "y"
          },
          {
           "alignmentgroup": "True",
           "hovertemplate": "Energy Source=%{x}<br>Year=2010<br>Total Generated=%{y}<extra></extra>",
           "legendgroup": "Renewable energy",
           "marker": {
            "color": "#ab63fa",
            "pattern": {
             "shape": ""
            }
           },
           "name": "Renewable energy",
           "offsetgroup": "Renewable energy",
           "orientation": "v",
           "showlegend": true,
           "textposition": "auto",
           "type": "bar",
           "x": [
            "Renewable energy"
           ],
           "xaxis": "x",
           "y": [
            421874987
           ],
           "yaxis": "y"
          },
          {
           "alignmentgroup": "True",
           "hovertemplate": "Energy Source=%{x}<br>Year=2010<br>Total Generated=%{y}<extra></extra>",
           "legendgroup": "Petroleum",
           "marker": {
            "color": "#FFA15A",
            "pattern": {
             "shape": ""
            }
           },
           "name": "Petroleum",
           "offsetgroup": "Petroleum",
           "orientation": "v",
           "showlegend": true,
           "textposition": "auto",
           "type": "bar",
           "x": [
            "Petroleum"
           ],
           "xaxis": "x",
           "y": [
            37061009
           ],
           "yaxis": "y"
          },
          {
           "alignmentgroup": "True",
           "hovertemplate": "Energy Source=%{x}<br>Year=2010<br>Total Generated=%{y}<extra></extra>",
           "legendgroup": "Other Gases",
           "marker": {
            "color": "#19d3f3",
            "pattern": {
             "shape": ""
            }
           },
           "name": "Other Gases",
           "offsetgroup": "Other Gases",
           "orientation": "v",
           "showlegend": true,
           "textposition": "auto",
           "type": "bar",
           "x": [
            "Other Gases"
           ],
           "xaxis": "x",
           "y": [
            11312795
           ],
           "yaxis": "y"
          },
          {
           "alignmentgroup": "True",
           "hovertemplate": "Energy Source=%{x}<br>Year=2010<br>Total Generated=%{y}<extra></extra>",
           "legendgroup": "Other",
           "marker": {
            "color": "#FF6692",
            "pattern": {
             "shape": ""
            }
           },
           "name": "Other",
           "offsetgroup": "Other",
           "orientation": "v",
           "showlegend": true,
           "textposition": "auto",
           "type": "bar",
           "x": [
            "Other"
           ],
           "xaxis": "x",
           "y": [
            12855339
           ],
           "yaxis": "y"
          }
         ],
         "name": "2010"
        },
        {
         "data": [
          {
           "alignmentgroup": "True",
           "hovertemplate": "Energy Source=%{x}<br>Year=2011<br>Total Generated=%{y}<extra></extra>",
           "legendgroup": "Coal",
           "marker": {
            "color": "#636efa",
            "pattern": {
             "shape": ""
            }
           },
           "name": "Coal",
           "offsetgroup": "Coal",
           "orientation": "v",
           "showlegend": true,
           "textposition": "auto",
           "type": "bar",
           "x": [
            "Coal"
           ],
           "xaxis": "x",
           "y": [
            1733430006.1499982
           ],
           "yaxis": "y"
          },
          {
           "alignmentgroup": "True",
           "hovertemplate": "Energy Source=%{x}<br>Year=2011<br>Total Generated=%{y}<extra></extra>",
           "legendgroup": "Natural Gas",
           "marker": {
            "color": "#EF553B",
            "pattern": {
             "shape": ""
            }
           },
           "name": "Natural Gas",
           "offsetgroup": "Natural Gas",
           "orientation": "v",
           "showlegend": true,
           "textposition": "auto",
           "type": "bar",
           "x": [
            "Natural Gas"
           ],
           "xaxis": "x",
           "y": [
            1013688930.269999
           ],
           "yaxis": "y"
          },
          {
           "alignmentgroup": "True",
           "hovertemplate": "Energy Source=%{x}<br>Year=2011<br>Total Generated=%{y}<extra></extra>",
           "legendgroup": "Nuclear",
           "marker": {
            "color": "#00cc96",
            "pattern": {
             "shape": ""
            }
           },
           "name": "Nuclear",
           "offsetgroup": "Nuclear",
           "orientation": "v",
           "showlegend": true,
           "textposition": "auto",
           "type": "bar",
           "x": [
            "Nuclear"
           ],
           "xaxis": "x",
           "y": [
            790204367
           ],
           "yaxis": "y"
          },
          {
           "alignmentgroup": "True",
           "hovertemplate": "Energy Source=%{x}<br>Year=2011<br>Total Generated=%{y}<extra></extra>",
           "legendgroup": "Renewable energy",
           "marker": {
            "color": "#ab63fa",
            "pattern": {
             "shape": ""
            }
           },
           "name": "Renewable energy",
           "offsetgroup": "Renewable energy",
           "orientation": "v",
           "showlegend": true,
           "textposition": "auto",
           "type": "bar",
           "x": [
            "Renewable energy"
           ],
           "xaxis": "x",
           "y": [
            507478463.6000009
           ],
           "yaxis": "y"
          },
          {
           "alignmentgroup": "True",
           "hovertemplate": "Energy Source=%{x}<br>Year=2011<br>Total Generated=%{y}<extra></extra>",
           "legendgroup": "Petroleum",
           "marker": {
            "color": "#FFA15A",
            "pattern": {
             "shape": ""
            }
           },
           "name": "Petroleum",
           "offsetgroup": "Petroleum",
           "orientation": "v",
           "showlegend": true,
           "textposition": "auto",
           "type": "bar",
           "x": [
            "Petroleum"
           ],
           "xaxis": "x",
           "y": [
            30182246.750000022
           ],
           "yaxis": "y"
          },
          {
           "alignmentgroup": "True",
           "hovertemplate": "Energy Source=%{x}<br>Year=2011<br>Total Generated=%{y}<extra></extra>",
           "legendgroup": "Other Gases",
           "marker": {
            "color": "#19d3f3",
            "pattern": {
             "shape": ""
            }
           },
           "name": "Other Gases",
           "offsetgroup": "Other Gases",
           "orientation": "v",
           "showlegend": true,
           "textposition": "auto",
           "type": "bar",
           "x": [
            "Other Gases"
           ],
           "xaxis": "x",
           "y": [
            11566200.52
           ],
           "yaxis": "y"
          },
          {
           "alignmentgroup": "True",
           "hovertemplate": "Energy Source=%{x}<br>Year=2011<br>Total Generated=%{y}<extra></extra>",
           "legendgroup": "Other",
           "marker": {
            "color": "#FF6692",
            "pattern": {
             "shape": ""
            }
           },
           "name": "Other",
           "offsetgroup": "Other",
           "orientation": "v",
           "showlegend": true,
           "textposition": "auto",
           "type": "bar",
           "x": [
            "Other"
           ],
           "xaxis": "x",
           "y": [
            14105841.91999999
           ],
           "yaxis": "y"
          }
         ],
         "name": "2011"
        },
        {
         "data": [
          {
           "alignmentgroup": "True",
           "hovertemplate": "Energy Source=%{x}<br>Year=2012<br>Total Generated=%{y}<extra></extra>",
           "legendgroup": "Coal",
           "marker": {
            "color": "#636efa",
            "pattern": {
             "shape": ""
            }
           },
           "name": "Coal",
           "offsetgroup": "Coal",
           "orientation": "v",
           "showlegend": true,
           "textposition": "auto",
           "type": "bar",
           "x": [
            "Coal"
           ],
           "xaxis": "x",
           "y": [
            1514042945.3599985
           ],
           "yaxis": "y"
          },
          {
           "alignmentgroup": "True",
           "hovertemplate": "Energy Source=%{x}<br>Year=2012<br>Total Generated=%{y}<extra></extra>",
           "legendgroup": "Natural Gas",
           "marker": {
            "color": "#EF553B",
            "pattern": {
             "shape": ""
            }
           },
           "name": "Natural Gas",
           "offsetgroup": "Natural Gas",
           "orientation": "v",
           "showlegend": true,
           "textposition": "auto",
           "type": "bar",
           "x": [
            "Natural Gas"
           ],
           "xaxis": "x",
           "y": [
            1225894176.389999
           ],
           "yaxis": "y"
          },
          {
           "alignmentgroup": "True",
           "hovertemplate": "Energy Source=%{x}<br>Year=2012<br>Total Generated=%{y}<extra></extra>",
           "legendgroup": "Nuclear",
           "marker": {
            "color": "#00cc96",
            "pattern": {
             "shape": ""
            }
           },
           "name": "Nuclear",
           "offsetgroup": "Nuclear",
           "orientation": "v",
           "showlegend": true,
           "textposition": "auto",
           "type": "bar",
           "x": [
            "Nuclear"
           ],
           "xaxis": "x",
           "y": [
            769331249
           ],
           "yaxis": "y"
          },
          {
           "alignmentgroup": "True",
           "hovertemplate": "Energy Source=%{x}<br>Year=2012<br>Total Generated=%{y}<extra></extra>",
           "legendgroup": "Renewable energy",
           "marker": {
            "color": "#ab63fa",
            "pattern": {
             "shape": ""
            }
           },
           "name": "Renewable energy",
           "offsetgroup": "Renewable energy",
           "orientation": "v",
           "showlegend": true,
           "textposition": "auto",
           "type": "bar",
           "x": [
            "Renewable energy"
           ],
           "xaxis": "x",
           "y": [
            489622698.9400005
           ],
           "yaxis": "y"
          },
          {
           "alignmentgroup": "True",
           "hovertemplate": "Energy Source=%{x}<br>Year=2012<br>Total Generated=%{y}<extra></extra>",
           "legendgroup": "Petroleum",
           "marker": {
            "color": "#FFA15A",
            "pattern": {
             "shape": ""
            }
           },
           "name": "Petroleum",
           "offsetgroup": "Petroleum",
           "orientation": "v",
           "showlegend": true,
           "textposition": "auto",
           "type": "bar",
           "x": [
            "Petroleum"
           ],
           "xaxis": "x",
           "y": [
            23189542.32999998
           ],
           "yaxis": "y"
          },
          {
           "alignmentgroup": "True",
           "hovertemplate": "Energy Source=%{x}<br>Year=2012<br>Total Generated=%{y}<extra></extra>",
           "legendgroup": "Other Gases",
           "marker": {
            "color": "#19d3f3",
            "pattern": {
             "shape": ""
            }
           },
           "name": "Other Gases",
           "offsetgroup": "Other Gases",
           "orientation": "v",
           "showlegend": true,
           "textposition": "auto",
           "type": "bar",
           "x": [
            "Other Gases"
           ],
           "xaxis": "x",
           "y": [
            11897585.239999996
           ],
           "yaxis": "y"
          },
          {
           "alignmentgroup": "True",
           "hovertemplate": "Energy Source=%{x}<br>Year=2012<br>Total Generated=%{y}<extra></extra>",
           "legendgroup": "Other",
           "marker": {
            "color": "#FF6692",
            "pattern": {
             "shape": ""
            }
           },
           "name": "Other",
           "offsetgroup": "Other",
           "orientation": "v",
           "showlegend": true,
           "textposition": "auto",
           "type": "bar",
           "x": [
            "Other"
           ],
           "xaxis": "x",
           "y": [
            13787067.17
           ],
           "yaxis": "y"
          }
         ],
         "name": "2012"
        },
        {
         "data": [
          {
           "alignmentgroup": "True",
           "hovertemplate": "Energy Source=%{x}<br>Year=2013<br>Total Generated=%{y}<extra></extra>",
           "legendgroup": "Coal",
           "marker": {
            "color": "#636efa",
            "pattern": {
             "shape": ""
            }
           },
           "name": "Coal",
           "offsetgroup": "Coal",
           "orientation": "v",
           "showlegend": true,
           "textposition": "auto",
           "type": "bar",
           "x": [
            "Coal"
           ],
           "xaxis": "x",
           "y": [
            1581114716.500002
           ],
           "yaxis": "y"
          },
          {
           "alignmentgroup": "True",
           "hovertemplate": "Energy Source=%{x}<br>Year=2013<br>Total Generated=%{y}<extra></extra>",
           "legendgroup": "Natural Gas",
           "marker": {
            "color": "#EF553B",
            "pattern": {
             "shape": ""
            }
           },
           "name": "Natural Gas",
           "offsetgroup": "Natural Gas",
           "orientation": "v",
           "showlegend": true,
           "textposition": "auto",
           "type": "bar",
           "x": [
            "Natural Gas"
           ],
           "xaxis": "x",
           "y": [
            1124835560.8100038
           ],
           "yaxis": "y"
          },
          {
           "alignmentgroup": "True",
           "hovertemplate": "Energy Source=%{x}<br>Year=2013<br>Total Generated=%{y}<extra></extra>",
           "legendgroup": "Nuclear",
           "marker": {
            "color": "#00cc96",
            "pattern": {
             "shape": ""
            }
           },
           "name": "Nuclear",
           "offsetgroup": "Nuclear",
           "orientation": "v",
           "showlegend": true,
           "textposition": "auto",
           "type": "bar",
           "x": [
            "Nuclear"
           ],
           "xaxis": "x",
           "y": [
            789016473
           ],
           "yaxis": "y"
          },
          {
           "alignmentgroup": "True",
           "hovertemplate": "Energy Source=%{x}<br>Year=2013<br>Total Generated=%{y}<extra></extra>",
           "legendgroup": "Renewable energy",
           "marker": {
            "color": "#ab63fa",
            "pattern": {
             "shape": ""
            }
           },
           "name": "Renewable energy",
           "offsetgroup": "Renewable energy",
           "orientation": "v",
           "showlegend": true,
           "textposition": "auto",
           "type": "bar",
           "x": [
            "Renewable energy"
           ],
           "xaxis": "x",
           "y": [
            517392418.34999955
           ],
           "yaxis": "y"
          },
          {
           "alignmentgroup": "True",
           "hovertemplate": "Energy Source=%{x}<br>Year=2013<br>Total Generated=%{y}<extra></extra>",
           "legendgroup": "Petroleum",
           "marker": {
            "color": "#FFA15A",
            "pattern": {
             "shape": ""
            }
           },
           "name": "Petroleum",
           "offsetgroup": "Petroleum",
           "orientation": "v",
           "showlegend": true,
           "textposition": "auto",
           "type": "bar",
           "x": [
            "Petroleum"
           ],
           "xaxis": "x",
           "y": [
            27164444.79000006
           ],
           "yaxis": "y"
          },
          {
           "alignmentgroup": "True",
           "hovertemplate": "Energy Source=%{x}<br>Year=2013<br>Total Generated=%{y}<extra></extra>",
           "legendgroup": "Other Gases",
           "marker": {
            "color": "#19d3f3",
            "pattern": {
             "shape": ""
            }
           },
           "name": "Other Gases",
           "offsetgroup": "Other Gases",
           "orientation": "v",
           "showlegend": true,
           "textposition": "auto",
           "type": "bar",
           "x": [
            "Other Gases"
           ],
           "xaxis": "x",
           "y": [
            12852937.21999999
           ],
           "yaxis": "y"
          },
          {
           "alignmentgroup": "True",
           "hovertemplate": "Energy Source=%{x}<br>Year=2013<br>Total Generated=%{y}<extra></extra>",
           "legendgroup": "Other",
           "marker": {
            "color": "#FF6692",
            "pattern": {
             "shape": ""
            }
           },
           "name": "Other",
           "offsetgroup": "Other",
           "orientation": "v",
           "showlegend": true,
           "textposition": "auto",
           "type": "bar",
           "x": [
            "Other"
           ],
           "xaxis": "x",
           "y": [
            13587522.129999977
           ],
           "yaxis": "y"
          }
         ],
         "name": "2013"
        },
        {
         "data": [
          {
           "alignmentgroup": "True",
           "hovertemplate": "Energy Source=%{x}<br>Year=2014<br>Total Generated=%{y}<extra></extra>",
           "legendgroup": "Coal",
           "marker": {
            "color": "#636efa",
            "pattern": {
             "shape": ""
            }
           },
           "name": "Coal",
           "offsetgroup": "Coal",
           "orientation": "v",
           "showlegend": true,
           "textposition": "auto",
           "type": "bar",
           "x": [
            "Coal"
           ],
           "xaxis": "x",
           "y": [
            1585696613.9199986
           ],
           "yaxis": "y"
          },
          {
           "alignmentgroup": "True",
           "hovertemplate": "Energy Source=%{x}<br>Year=2014<br>Total Generated=%{y}<extra></extra>",
           "legendgroup": "Natural Gas",
           "marker": {
            "color": "#EF553B",
            "pattern": {
             "shape": ""
            }
           },
           "name": "Natural Gas",
           "offsetgroup": "Natural Gas",
           "orientation": "v",
           "showlegend": true,
           "textposition": "auto",
           "type": "bar",
           "x": [
            "Natural Gas"
           ],
           "xaxis": "x",
           "y": [
            1121927524.1200018
           ],
           "yaxis": "y"
          },
          {
           "alignmentgroup": "True",
           "hovertemplate": "Energy Source=%{x}<br>Year=2014<br>Total Generated=%{y}<extra></extra>",
           "legendgroup": "Nuclear",
           "marker": {
            "color": "#00cc96",
            "pattern": {
             "shape": ""
            }
           },
           "name": "Nuclear",
           "offsetgroup": "Nuclear",
           "orientation": "v",
           "showlegend": true,
           "textposition": "auto",
           "type": "bar",
           "x": [
            "Nuclear"
           ],
           "xaxis": "x",
           "y": [
            797067458
           ],
           "yaxis": "y"
          },
          {
           "alignmentgroup": "True",
           "hovertemplate": "Energy Source=%{x}<br>Year=2014<br>Total Generated=%{y}<extra></extra>",
           "legendgroup": "Renewable energy",
           "marker": {
            "color": "#ab63fa",
            "pattern": {
             "shape": ""
            }
           },
           "name": "Renewable energy",
           "offsetgroup": "Renewable energy",
           "orientation": "v",
           "showlegend": true,
           "textposition": "auto",
           "type": "bar",
           "x": [
            "Renewable energy"
           ],
           "xaxis": "x",
           "y": [
            533600439.4199986
           ],
           "yaxis": "y"
          },
          {
           "alignmentgroup": "True",
           "hovertemplate": "Energy Source=%{x}<br>Year=2014<br>Total Generated=%{y}<extra></extra>",
           "legendgroup": "Petroleum",
           "marker": {
            "color": "#FFA15A",
            "pattern": {
             "shape": ""
            }
           },
           "name": "Petroleum",
           "offsetgroup": "Petroleum",
           "orientation": "v",
           "showlegend": true,
           "textposition": "auto",
           "type": "bar",
           "x": [
            "Petroleum"
           ],
           "xaxis": "x",
           "y": [
            30488869.000000037
           ],
           "yaxis": "y"
          },
          {
           "alignmentgroup": "True",
           "hovertemplate": "Energy Source=%{x}<br>Year=2014<br>Total Generated=%{y}<extra></extra>",
           "legendgroup": "Other Gases",
           "marker": {
            "color": "#19d3f3",
            "pattern": {
             "shape": ""
            }
           },
           "name": "Other Gases",
           "offsetgroup": "Other Gases",
           "orientation": "v",
           "showlegend": true,
           "textposition": "auto",
           "type": "bar",
           "x": [
            "Other Gases"
           ],
           "xaxis": "x",
           "y": [
            11577838.22
           ],
           "yaxis": "y"
          },
          {
           "alignmentgroup": "True",
           "hovertemplate": "Energy Source=%{x}<br>Year=2014<br>Total Generated=%{y}<extra></extra>",
           "legendgroup": "Other",
           "marker": {
            "color": "#FF6692",
            "pattern": {
             "shape": ""
            }
           },
           "name": "Other",
           "offsetgroup": "Other",
           "orientation": "v",
           "showlegend": true,
           "textposition": "auto",
           "type": "bar",
           "x": [
            "Other"
           ],
           "xaxis": "x",
           "y": [
            12575954.159999996
           ],
           "yaxis": "y"
          }
         ],
         "name": "2014"
        },
        {
         "data": [
          {
           "alignmentgroup": "True",
           "hovertemplate": "Energy Source=%{x}<br>Year=2015<br>Total Generated=%{y}<extra></extra>",
           "legendgroup": "Coal",
           "marker": {
            "color": "#636efa",
            "pattern": {
             "shape": ""
            }
           },
           "name": "Coal",
           "offsetgroup": "Coal",
           "orientation": "v",
           "showlegend": true,
           "textposition": "auto",
           "type": "bar",
           "x": [
            "Coal"
           ],
           "xaxis": "x",
           "y": [
            1352398200
           ],
           "yaxis": "y"
          },
          {
           "alignmentgroup": "True",
           "hovertemplate": "Energy Source=%{x}<br>Year=2015<br>Total Generated=%{y}<extra></extra>",
           "legendgroup": "Natural Gas",
           "marker": {
            "color": "#EF553B",
            "pattern": {
             "shape": ""
            }
           },
           "name": "Natural Gas",
           "offsetgroup": "Natural Gas",
           "orientation": "v",
           "showlegend": true,
           "textposition": "auto",
           "type": "bar",
           "x": [
            "Natural Gas"
           ],
           "xaxis": "x",
           "y": [
            1333482110
           ],
           "yaxis": "y"
          },
          {
           "alignmentgroup": "True",
           "hovertemplate": "Energy Source=%{x}<br>Year=2015<br>Total Generated=%{y}<extra></extra>",
           "legendgroup": "Nuclear",
           "marker": {
            "color": "#00cc96",
            "pattern": {
             "shape": ""
            }
           },
           "name": "Nuclear",
           "offsetgroup": "Nuclear",
           "orientation": "v",
           "showlegend": true,
           "textposition": "auto",
           "type": "bar",
           "x": [
            "Nuclear"
           ],
           "xaxis": "x",
           "y": [
            797177877
           ],
           "yaxis": "y"
          },
          {
           "alignmentgroup": "True",
           "hovertemplate": "Energy Source=%{x}<br>Year=2015<br>Total Generated=%{y}<extra></extra>",
           "legendgroup": "Renewable energy",
           "marker": {
            "color": "#ab63fa",
            "pattern": {
             "shape": ""
            }
           },
           "name": "Renewable energy",
           "offsetgroup": "Renewable energy",
           "orientation": "v",
           "showlegend": true,
           "textposition": "auto",
           "type": "bar",
           "x": [
            "Renewable energy"
           ],
           "xaxis": "x",
           "y": [
            539149485
           ],
           "yaxis": "y"
          },
          {
           "alignmentgroup": "True",
           "hovertemplate": "Energy Source=%{x}<br>Year=2015<br>Total Generated=%{y}<extra></extra>",
           "legendgroup": "Petroleum",
           "marker": {
            "color": "#FFA15A",
            "pattern": {
             "shape": ""
            }
           },
           "name": "Petroleum",
           "offsetgroup": "Petroleum",
           "orientation": "v",
           "showlegend": true,
           "textposition": "auto",
           "type": "bar",
           "x": [
            "Petroleum"
           ],
           "xaxis": "x",
           "y": [
            28248721
           ],
           "yaxis": "y"
          },
          {
           "alignmentgroup": "True",
           "hovertemplate": "Energy Source=%{x}<br>Year=2015<br>Total Generated=%{y}<extra></extra>",
           "legendgroup": "Other Gases",
           "marker": {
            "color": "#19d3f3",
            "pattern": {
             "shape": ""
            }
           },
           "name": "Other Gases",
           "offsetgroup": "Other Gases",
           "orientation": "v",
           "showlegend": true,
           "textposition": "auto",
           "type": "bar",
           "x": [
            "Other Gases"
           ],
           "xaxis": "x",
           "y": [
            13116699
           ],
           "yaxis": "y"
          },
          {
           "alignmentgroup": "True",
           "hovertemplate": "Energy Source=%{x}<br>Year=2015<br>Total Generated=%{y}<extra></extra>",
           "legendgroup": "Other",
           "marker": {
            "color": "#FF6692",
            "pattern": {
             "shape": ""
            }
           },
           "name": "Other",
           "offsetgroup": "Other",
           "orientation": "v",
           "showlegend": true,
           "textposition": "auto",
           "type": "bar",
           "x": [
            "Other"
           ],
           "xaxis": "x",
           "y": [
            14027809
           ],
           "yaxis": "y"
          }
         ],
         "name": "2015"
        },
        {
         "data": [
          {
           "alignmentgroup": "True",
           "hovertemplate": "Energy Source=%{x}<br>Year=2016<br>Total Generated=%{y}<extra></extra>",
           "legendgroup": "Coal",
           "marker": {
            "color": "#636efa",
            "pattern": {
             "shape": ""
            }
           },
           "name": "Coal",
           "offsetgroup": "Coal",
           "orientation": "v",
           "showlegend": true,
           "textposition": "auto",
           "type": "bar",
           "x": [
            "Coal"
           ],
           "xaxis": "x",
           "y": [
            1239148659
           ],
           "yaxis": "y"
          },
          {
           "alignmentgroup": "True",
           "hovertemplate": "Energy Source=%{x}<br>Year=2016<br>Total Generated=%{y}<extra></extra>",
           "legendgroup": "Natural Gas",
           "marker": {
            "color": "#EF553B",
            "pattern": {
             "shape": ""
            }
           },
           "name": "Natural Gas",
           "offsetgroup": "Natural Gas",
           "orientation": "v",
           "showlegend": true,
           "textposition": "auto",
           "type": "bar",
           "x": [
            "Natural Gas"
           ],
           "xaxis": "x",
           "y": [
            1378306947
           ],
           "yaxis": "y"
          },
          {
           "alignmentgroup": "True",
           "hovertemplate": "Energy Source=%{x}<br>Year=2016<br>Total Generated=%{y}<extra></extra>",
           "legendgroup": "Nuclear",
           "marker": {
            "color": "#00cc96",
            "pattern": {
             "shape": ""
            }
           },
           "name": "Nuclear",
           "offsetgroup": "Nuclear",
           "orientation": "v",
           "showlegend": true,
           "textposition": "auto",
           "type": "bar",
           "x": [
            "Nuclear"
           ],
           "xaxis": "x",
           "y": [
            805693948
           ],
           "yaxis": "y"
          },
          {
           "alignmentgroup": "True",
           "hovertemplate": "Energy Source=%{x}<br>Year=2016<br>Total Generated=%{y}<extra></extra>",
           "legendgroup": "Renewable energy",
           "marker": {
            "color": "#ab63fa",
            "pattern": {
             "shape": ""
            }
           },
           "name": "Renewable energy",
           "offsetgroup": "Renewable energy",
           "orientation": "v",
           "showlegend": true,
           "textposition": "auto",
           "type": "bar",
           "x": [
            "Renewable energy"
           ],
           "xaxis": "x",
           "y": [
            602758969
           ],
           "yaxis": "y"
          },
          {
           "alignmentgroup": "True",
           "hovertemplate": "Energy Source=%{x}<br>Year=2016<br>Total Generated=%{y}<extra></extra>",
           "legendgroup": "Petroleum",
           "marker": {
            "color": "#FFA15A",
            "pattern": {
             "shape": ""
            }
           },
           "name": "Petroleum",
           "offsetgroup": "Petroleum",
           "orientation": "v",
           "showlegend": true,
           "textposition": "auto",
           "type": "bar",
           "x": [
            "Petroleum"
           ],
           "xaxis": "x",
           "y": [
            24204817
           ],
           "yaxis": "y"
          },
          {
           "alignmentgroup": "True",
           "hovertemplate": "Energy Source=%{x}<br>Year=2016<br>Total Generated=%{y}<extra></extra>",
           "legendgroup": "Other Gases",
           "marker": {
            "color": "#19d3f3",
            "pattern": {
             "shape": ""
            }
           },
           "name": "Other Gases",
           "offsetgroup": "Other Gases",
           "orientation": "v",
           "showlegend": true,
           "textposition": "auto",
           "type": "bar",
           "x": [
            "Other Gases"
           ],
           "xaxis": "x",
           "y": [
            12807433
           ],
           "yaxis": "y"
          },
          {
           "alignmentgroup": "True",
           "hovertemplate": "Energy Source=%{x}<br>Year=2016<br>Total Generated=%{y}<extra></extra>",
           "legendgroup": "Other",
           "marker": {
            "color": "#FF6692",
            "pattern": {
             "shape": ""
            }
           },
           "name": "Other",
           "offsetgroup": "Other",
           "orientation": "v",
           "showlegend": true,
           "textposition": "auto",
           "type": "bar",
           "x": [
            "Other"
           ],
           "xaxis": "x",
           "y": [
            13754235
           ],
           "yaxis": "y"
          }
         ],
         "name": "2016"
        },
        {
         "data": [
          {
           "alignmentgroup": "True",
           "hovertemplate": "Energy Source=%{x}<br>Year=2017<br>Total Generated=%{y}<extra></extra>",
           "legendgroup": "Coal",
           "marker": {
            "color": "#636efa",
            "pattern": {
             "shape": ""
            }
           },
           "name": "Coal",
           "offsetgroup": "Coal",
           "orientation": "v",
           "showlegend": true,
           "textposition": "auto",
           "type": "bar",
           "x": [
            "Coal"
           ],
           "xaxis": "x",
           "y": [
            1205835277
           ],
           "yaxis": "y"
          },
          {
           "alignmentgroup": "True",
           "hovertemplate": "Energy Source=%{x}<br>Year=2017<br>Total Generated=%{y}<extra></extra>",
           "legendgroup": "Natural Gas",
           "marker": {
            "color": "#EF553B",
            "pattern": {
             "shape": ""
            }
           },
           "name": "Natural Gas",
           "offsetgroup": "Natural Gas",
           "orientation": "v",
           "showlegend": true,
           "textposition": "auto",
           "type": "bar",
           "x": [
            "Natural Gas"
           ],
           "xaxis": "x",
           "y": [
            1296442511
           ],
           "yaxis": "y"
          },
          {
           "alignmentgroup": "True",
           "hovertemplate": "Energy Source=%{x}<br>Year=2017<br>Total Generated=%{y}<extra></extra>",
           "legendgroup": "Nuclear",
           "marker": {
            "color": "#00cc96",
            "pattern": {
             "shape": ""
            }
           },
           "name": "Nuclear",
           "offsetgroup": "Nuclear",
           "orientation": "v",
           "showlegend": true,
           "textposition": "auto",
           "type": "bar",
           "x": [
            "Nuclear"
           ],
           "xaxis": "x",
           "y": [
            804949635
           ],
           "yaxis": "y"
          },
          {
           "alignmentgroup": "True",
           "hovertemplate": "Energy Source=%{x}<br>Year=2017<br>Total Generated=%{y}<extra></extra>",
           "legendgroup": "Renewable energy",
           "marker": {
            "color": "#ab63fa",
            "pattern": {
             "shape": ""
            }
           },
           "name": "Renewable energy",
           "offsetgroup": "Renewable energy",
           "orientation": "v",
           "showlegend": true,
           "textposition": "auto",
           "type": "bar",
           "x": [
            "Renewable energy"
           ],
           "xaxis": "x",
           "y": [
            680088153
           ],
           "yaxis": "y"
          },
          {
           "alignmentgroup": "True",
           "hovertemplate": "Energy Source=%{x}<br>Year=2017<br>Total Generated=%{y}<extra></extra>",
           "legendgroup": "Petroleum",
           "marker": {
            "color": "#FFA15A",
            "pattern": {
             "shape": ""
            }
           },
           "name": "Petroleum",
           "offsetgroup": "Petroleum",
           "orientation": "v",
           "showlegend": true,
           "textposition": "auto",
           "type": "bar",
           "x": [
            "Petroleum"
           ],
           "xaxis": "x",
           "y": [
            21389948
           ],
           "yaxis": "y"
          },
          {
           "alignmentgroup": "True",
           "hovertemplate": "Energy Source=%{x}<br>Year=2017<br>Total Generated=%{y}<extra></extra>",
           "legendgroup": "Other Gases",
           "marker": {
            "color": "#19d3f3",
            "pattern": {
             "shape": ""
            }
           },
           "name": "Other Gases",
           "offsetgroup": "Other Gases",
           "orientation": "v",
           "showlegend": true,
           "textposition": "auto",
           "type": "bar",
           "x": [
            "Other Gases"
           ],
           "xaxis": "x",
           "y": [
            12468968
           ],
           "yaxis": "y"
          },
          {
           "alignmentgroup": "True",
           "hovertemplate": "Energy Source=%{x}<br>Year=2017<br>Total Generated=%{y}<extra></extra>",
           "legendgroup": "Other",
           "marker": {
            "color": "#FF6692",
            "pattern": {
             "shape": ""
            }
           },
           "name": "Other",
           "offsetgroup": "Other",
           "orientation": "v",
           "showlegend": true,
           "textposition": "auto",
           "type": "bar",
           "x": [
            "Other"
           ],
           "xaxis": "x",
           "y": [
            13096119
           ],
           "yaxis": "y"
          }
         ],
         "name": "2017"
        },
        {
         "data": [
          {
           "alignmentgroup": "True",
           "hovertemplate": "Energy Source=%{x}<br>Year=2018<br>Total Generated=%{y}<extra></extra>",
           "legendgroup": "Coal",
           "marker": {
            "color": "#636efa",
            "pattern": {
             "shape": ""
            }
           },
           "name": "Coal",
           "offsetgroup": "Coal",
           "orientation": "v",
           "showlegend": true,
           "textposition": "auto",
           "type": "bar",
           "x": [
            "Coal"
           ],
           "xaxis": "x",
           "y": [
            1149487354
           ],
           "yaxis": "y"
          },
          {
           "alignmentgroup": "True",
           "hovertemplate": "Energy Source=%{x}<br>Year=2018<br>Total Generated=%{y}<extra></extra>",
           "legendgroup": "Natural Gas",
           "marker": {
            "color": "#EF553B",
            "pattern": {
             "shape": ""
            }
           },
           "name": "Natural Gas",
           "offsetgroup": "Natural Gas",
           "orientation": "v",
           "showlegend": true,
           "textposition": "auto",
           "type": "bar",
           "x": [
            "Natural Gas"
           ],
           "xaxis": "x",
           "y": [
            1469132687
           ],
           "yaxis": "y"
          },
          {
           "alignmentgroup": "True",
           "hovertemplate": "Energy Source=%{x}<br>Year=2018<br>Total Generated=%{y}<extra></extra>",
           "legendgroup": "Nuclear",
           "marker": {
            "color": "#00cc96",
            "pattern": {
             "shape": ""
            }
           },
           "name": "Nuclear",
           "offsetgroup": "Nuclear",
           "orientation": "v",
           "showlegend": true,
           "textposition": "auto",
           "type": "bar",
           "x": [
            "Nuclear"
           ],
           "xaxis": "x",
           "y": [
            807084477
           ],
           "yaxis": "y"
          },
          {
           "alignmentgroup": "True",
           "hovertemplate": "Energy Source=%{x}<br>Year=2018<br>Total Generated=%{y}<extra></extra>",
           "legendgroup": "Renewable energy",
           "marker": {
            "color": "#ab63fa",
            "pattern": {
             "shape": ""
            }
           },
           "name": "Renewable energy",
           "offsetgroup": "Renewable energy",
           "orientation": "v",
           "showlegend": true,
           "textposition": "auto",
           "type": "bar",
           "x": [
            "Renewable energy"
           ],
           "xaxis": "x",
           "y": [
            700911298
           ],
           "yaxis": "y"
          },
          {
           "alignmentgroup": "True",
           "hovertemplate": "Energy Source=%{x}<br>Year=2018<br>Total Generated=%{y}<extra></extra>",
           "legendgroup": "Petroleum",
           "marker": {
            "color": "#FFA15A",
            "pattern": {
             "shape": ""
            }
           },
           "name": "Petroleum",
           "offsetgroup": "Petroleum",
           "orientation": "v",
           "showlegend": true,
           "textposition": "auto",
           "type": "bar",
           "x": [
            "Petroleum"
           ],
           "xaxis": "x",
           "y": [
            25225630
           ],
           "yaxis": "y"
          },
          {
           "alignmentgroup": "True",
           "hovertemplate": "Energy Source=%{x}<br>Year=2018<br>Total Generated=%{y}<extra></extra>",
           "legendgroup": "Other Gases",
           "marker": {
            "color": "#19d3f3",
            "pattern": {
             "shape": ""
            }
           },
           "name": "Other Gases",
           "offsetgroup": "Other Gases",
           "orientation": "v",
           "showlegend": true,
           "textposition": "auto",
           "type": "bar",
           "x": [
            "Other Gases"
           ],
           "xaxis": "x",
           "y": [
            13462749
           ],
           "yaxis": "y"
          },
          {
           "alignmentgroup": "True",
           "hovertemplate": "Energy Source=%{x}<br>Year=2018<br>Total Generated=%{y}<extra></extra>",
           "legendgroup": "Other",
           "marker": {
            "color": "#FF6692",
            "pattern": {
             "shape": ""
            }
           },
           "name": "Other",
           "offsetgroup": "Other",
           "orientation": "v",
           "showlegend": true,
           "textposition": "auto",
           "type": "bar",
           "x": [
            "Other"
           ],
           "xaxis": "x",
           "y": [
            12973208
           ],
           "yaxis": "y"
          }
         ],
         "name": "2018"
        },
        {
         "data": [
          {
           "alignmentgroup": "True",
           "hovertemplate": "Energy Source=%{x}<br>Year=2019<br>Total Generated=%{y}<extra></extra>",
           "legendgroup": "Coal",
           "marker": {
            "color": "#636efa",
            "pattern": {
             "shape": ""
            }
           },
           "name": "Coal",
           "offsetgroup": "Coal",
           "orientation": "v",
           "showlegend": true,
           "textposition": "auto",
           "type": "bar",
           "x": [
            "Coal"
           ],
           "xaxis": "x",
           "y": [
            964956757
           ],
           "yaxis": "y"
          },
          {
           "alignmentgroup": "True",
           "hovertemplate": "Energy Source=%{x}<br>Year=2019<br>Total Generated=%{y}<extra></extra>",
           "legendgroup": "Natural Gas",
           "marker": {
            "color": "#EF553B",
            "pattern": {
             "shape": ""
            }
           },
           "name": "Natural Gas",
           "offsetgroup": "Natural Gas",
           "orientation": "v",
           "showlegend": true,
           "textposition": "auto",
           "type": "bar",
           "x": [
            "Natural Gas"
           ],
           "xaxis": "x",
           "y": [
            1585716776
           ],
           "yaxis": "y"
          },
          {
           "alignmentgroup": "True",
           "hovertemplate": "Energy Source=%{x}<br>Year=2019<br>Total Generated=%{y}<extra></extra>",
           "legendgroup": "Nuclear",
           "marker": {
            "color": "#00cc96",
            "pattern": {
             "shape": ""
            }
           },
           "name": "Nuclear",
           "offsetgroup": "Nuclear",
           "orientation": "v",
           "showlegend": true,
           "textposition": "auto",
           "type": "bar",
           "x": [
            "Nuclear"
           ],
           "xaxis": "x",
           "y": [
            809409262
           ],
           "yaxis": "y"
          },
          {
           "alignmentgroup": "True",
           "hovertemplate": "Energy Source=%{x}<br>Year=2019<br>Total Generated=%{y}<extra></extra>",
           "legendgroup": "Renewable energy",
           "marker": {
            "color": "#ab63fa",
            "pattern": {
             "shape": ""
            }
           },
           "name": "Renewable energy",
           "offsetgroup": "Renewable energy",
           "orientation": "v",
           "showlegend": true,
           "textposition": "auto",
           "type": "bar",
           "x": [
            "Renewable energy"
           ],
           "xaxis": "x",
           "y": [
            722435784
           ],
           "yaxis": "y"
          },
          {
           "alignmentgroup": "True",
           "hovertemplate": "Energy Source=%{x}<br>Year=2019<br>Total Generated=%{y}<extra></extra>",
           "legendgroup": "Petroleum",
           "marker": {
            "color": "#FFA15A",
            "pattern": {
             "shape": ""
            }
           },
           "name": "Petroleum",
           "offsetgroup": "Petroleum",
           "orientation": "v",
           "showlegend": true,
           "textposition": "auto",
           "type": "bar",
           "x": [
            "Petroleum"
           ],
           "xaxis": "x",
           "y": [
            18438197
           ],
           "yaxis": "y"
          },
          {
           "alignmentgroup": "True",
           "hovertemplate": "Energy Source=%{x}<br>Year=2019<br>Total Generated=%{y}<extra></extra>",
           "legendgroup": "Other Gases",
           "marker": {
            "color": "#19d3f3",
            "pattern": {
             "shape": ""
            }
           },
           "name": "Other Gases",
           "offsetgroup": "Other Gases",
           "orientation": "v",
           "showlegend": true,
           "textposition": "auto",
           "type": "bar",
           "x": [
            "Other Gases"
           ],
           "xaxis": "x",
           "y": [
            12591101
           ],
           "yaxis": "y"
          },
          {
           "alignmentgroup": "True",
           "hovertemplate": "Energy Source=%{x}<br>Year=2019<br>Total Generated=%{y}<extra></extra>",
           "legendgroup": "Other",
           "marker": {
            "color": "#FF6692",
            "pattern": {
             "shape": ""
            }
           },
           "name": "Other",
           "offsetgroup": "Other",
           "orientation": "v",
           "showlegend": true,
           "textposition": "auto",
           "type": "bar",
           "x": [
            "Other"
           ],
           "xaxis": "x",
           "y": [
            13334272
           ],
           "yaxis": "y"
          }
         ],
         "name": "2019"
        },
        {
         "data": [
          {
           "alignmentgroup": "True",
           "hovertemplate": "Energy Source=%{x}<br>Year=2020<br>Total Generated=%{y}<extra></extra>",
           "legendgroup": "Coal",
           "marker": {
            "color": "#636efa",
            "pattern": {
             "shape": ""
            }
           },
           "name": "Coal",
           "offsetgroup": "Coal",
           "orientation": "v",
           "showlegend": true,
           "textposition": "auto",
           "type": "bar",
           "x": [
            "Coal"
           ],
           "xaxis": "x",
           "y": [
            773392913
           ],
           "yaxis": "y"
          },
          {
           "alignmentgroup": "True",
           "hovertemplate": "Energy Source=%{x}<br>Year=2020<br>Total Generated=%{y}<extra></extra>",
           "legendgroup": "Natural Gas",
           "marker": {
            "color": "#EF553B",
            "pattern": {
             "shape": ""
            }
           },
           "name": "Natural Gas",
           "offsetgroup": "Natural Gas",
           "orientation": "v",
           "showlegend": true,
           "textposition": "auto",
           "type": "bar",
           "x": [
            "Natural Gas"
           ],
           "xaxis": "x",
           "y": [
            1624050006
           ],
           "yaxis": "y"
          },
          {
           "alignmentgroup": "True",
           "hovertemplate": "Energy Source=%{x}<br>Year=2020<br>Total Generated=%{y}<extra></extra>",
           "legendgroup": "Nuclear",
           "marker": {
            "color": "#00cc96",
            "pattern": {
             "shape": ""
            }
           },
           "name": "Nuclear",
           "offsetgroup": "Nuclear",
           "orientation": "v",
           "showlegend": true,
           "textposition": "auto",
           "type": "bar",
           "x": [
            "Nuclear"
           ],
           "xaxis": "x",
           "y": [
            789878863
           ],
           "yaxis": "y"
          },
          {
           "alignmentgroup": "True",
           "hovertemplate": "Energy Source=%{x}<br>Year=2020<br>Total Generated=%{y}<extra></extra>",
           "legendgroup": "Renewable energy",
           "marker": {
            "color": "#ab63fa",
            "pattern": {
             "shape": ""
            }
           },
           "name": "Renewable energy",
           "offsetgroup": "Renewable energy",
           "orientation": "v",
           "showlegend": true,
           "textposition": "auto",
           "type": "bar",
           "x": [
            "Renewable energy"
           ],
           "xaxis": "x",
           "y": [
            777682224
           ],
           "yaxis": "y"
          },
          {
           "alignmentgroup": "True",
           "hovertemplate": "Energy Source=%{x}<br>Year=2020<br>Total Generated=%{y}<extra></extra>",
           "legendgroup": "Petroleum",
           "marker": {
            "color": "#FFA15A",
            "pattern": {
             "shape": ""
            }
           },
           "name": "Petroleum",
           "offsetgroup": "Petroleum",
           "orientation": "v",
           "showlegend": true,
           "textposition": "auto",
           "type": "bar",
           "x": [
            "Petroleum"
           ],
           "xaxis": "x",
           "y": [
            17341026
           ],
           "yaxis": "y"
          },
          {
           "alignmentgroup": "True",
           "hovertemplate": "Energy Source=%{x}<br>Year=2020<br>Total Generated=%{y}<extra></extra>",
           "legendgroup": "Other Gases",
           "marker": {
            "color": "#19d3f3",
            "pattern": {
             "shape": ""
            }
           },
           "name": "Other Gases",
           "offsetgroup": "Other Gases",
           "orientation": "v",
           "showlegend": true,
           "textposition": "auto",
           "type": "bar",
           "x": [
            "Other Gases"
           ],
           "xaxis": "x",
           "y": [
            11818477
           ],
           "yaxis": "y"
          },
          {
           "alignmentgroup": "True",
           "hovertemplate": "Energy Source=%{x}<br>Year=2020<br>Total Generated=%{y}<extra></extra>",
           "legendgroup": "Other",
           "marker": {
            "color": "#FF6692",
            "pattern": {
             "shape": ""
            }
           },
           "name": "Other",
           "offsetgroup": "Other",
           "orientation": "v",
           "showlegend": true,
           "textposition": "auto",
           "type": "bar",
           "x": [
            "Other"
           ],
           "xaxis": "x",
           "y": [
            12855196
           ],
           "yaxis": "y"
          }
         ],
         "name": "2020"
        },
        {
         "data": [
          {
           "alignmentgroup": "True",
           "hovertemplate": "Energy Source=%{x}<br>Year=2021<br>Total Generated=%{y}<extra></extra>",
           "legendgroup": "Coal",
           "marker": {
            "color": "#636efa",
            "pattern": {
             "shape": ""
            }
           },
           "name": "Coal",
           "offsetgroup": "Coal",
           "orientation": "v",
           "showlegend": true,
           "textposition": "auto",
           "type": "bar",
           "x": [
            "Coal"
           ],
           "xaxis": "x",
           "y": [
            898678541
           ],
           "yaxis": "y"
          },
          {
           "alignmentgroup": "True",
           "hovertemplate": "Energy Source=%{x}<br>Year=2021<br>Total Generated=%{y}<extra></extra>",
           "legendgroup": "Natural Gas",
           "marker": {
            "color": "#EF553B",
            "pattern": {
             "shape": ""
            }
           },
           "name": "Natural Gas",
           "offsetgroup": "Natural Gas",
           "orientation": "v",
           "showlegend": true,
           "textposition": "auto",
           "type": "bar",
           "x": [
            "Natural Gas"
           ],
           "xaxis": "x",
           "y": [
            1575229843
           ],
           "yaxis": "y"
          },
          {
           "alignmentgroup": "True",
           "hovertemplate": "Energy Source=%{x}<br>Year=2021<br>Total Generated=%{y}<extra></extra>",
           "legendgroup": "Nuclear",
           "marker": {
            "color": "#00cc96",
            "pattern": {
             "shape": ""
            }
           },
           "name": "Nuclear",
           "offsetgroup": "Nuclear",
           "orientation": "v",
           "showlegend": true,
           "textposition": "auto",
           "type": "bar",
           "x": [
            "Nuclear"
           ],
           "xaxis": "x",
           "y": [
            778151500
           ],
           "yaxis": "y"
          },
          {
           "alignmentgroup": "True",
           "hovertemplate": "Energy Source=%{x}<br>Year=2021<br>Total Generated=%{y}<extra></extra>",
           "legendgroup": "Renewable energy",
           "marker": {
            "color": "#ab63fa",
            "pattern": {
             "shape": ""
            }
           },
           "name": "Renewable energy",
           "offsetgroup": "Renewable energy",
           "orientation": "v",
           "showlegend": true,
           "textposition": "auto",
           "type": "bar",
           "x": [
            "Renewable energy"
           ],
           "xaxis": "x",
           "y": [
            821275716
           ],
           "yaxis": "y"
          },
          {
           "alignmentgroup": "True",
           "hovertemplate": "Energy Source=%{x}<br>Year=2021<br>Total Generated=%{y}<extra></extra>",
           "legendgroup": "Petroleum",
           "marker": {
            "color": "#FFA15A",
            "pattern": {
             "shape": ""
            }
           },
           "name": "Petroleum",
           "offsetgroup": "Petroleum",
           "orientation": "v",
           "showlegend": true,
           "textposition": "auto",
           "type": "bar",
           "x": [
            "Petroleum"
           ],
           "xaxis": "x",
           "y": [
            18781782
           ],
           "yaxis": "y"
          },
          {
           "alignmentgroup": "True",
           "hovertemplate": "Energy Source=%{x}<br>Year=2021<br>Total Generated=%{y}<extra></extra>",
           "legendgroup": "Other Gases",
           "marker": {
            "color": "#19d3f3",
            "pattern": {
             "shape": ""
            }
           },
           "name": "Other Gases",
           "offsetgroup": "Other Gases",
           "orientation": "v",
           "showlegend": true,
           "textposition": "auto",
           "type": "bar",
           "x": [
            "Other Gases"
           ],
           "xaxis": "x",
           "y": [
            11283103
           ],
           "yaxis": "y"
          },
          {
           "alignmentgroup": "True",
           "hovertemplate": "Energy Source=%{x}<br>Year=2021<br>Total Generated=%{y}<extra></extra>",
           "legendgroup": "Other",
           "marker": {
            "color": "#FF6692",
            "pattern": {
             "shape": ""
            }
           },
           "name": "Other",
           "offsetgroup": "Other",
           "orientation": "v",
           "showlegend": true,
           "textposition": "auto",
           "type": "bar",
           "x": [
            "Other"
           ],
           "xaxis": "x",
           "y": [
            12139767
           ],
           "yaxis": "y"
          }
         ],
         "name": "2021"
        }
       ],
       "layout": {
        "barmode": "relative",
        "legend": {
         "title": {
          "text": "Energy Source"
         },
         "tracegroupgap": 0
        },
        "sliders": [
         {
          "active": 0,
          "currentvalue": {
           "prefix": "Year="
          },
          "len": 0.9,
          "pad": {
           "b": 10,
           "t": 60
          },
          "steps": [
           {
            "args": [
             [
              "2001"
             ],
             {
              "frame": {
               "duration": 0,
               "redraw": true
              },
              "fromcurrent": true,
              "mode": "immediate",
              "transition": {
               "duration": 0,
               "easing": "linear"
              }
             }
            ],
            "label": "2001",
            "method": "animate"
           },
           {
            "args": [
             [
              "2002"
             ],
             {
              "frame": {
               "duration": 0,
               "redraw": true
              },
              "fromcurrent": true,
              "mode": "immediate",
              "transition": {
               "duration": 0,
               "easing": "linear"
              }
             }
            ],
            "label": "2002",
            "method": "animate"
           },
           {
            "args": [
             [
              "2003"
             ],
             {
              "frame": {
               "duration": 0,
               "redraw": true
              },
              "fromcurrent": true,
              "mode": "immediate",
              "transition": {
               "duration": 0,
               "easing": "linear"
              }
             }
            ],
            "label": "2003",
            "method": "animate"
           },
           {
            "args": [
             [
              "2004"
             ],
             {
              "frame": {
               "duration": 0,
               "redraw": true
              },
              "fromcurrent": true,
              "mode": "immediate",
              "transition": {
               "duration": 0,
               "easing": "linear"
              }
             }
            ],
            "label": "2004",
            "method": "animate"
           },
           {
            "args": [
             [
              "2005"
             ],
             {
              "frame": {
               "duration": 0,
               "redraw": true
              },
              "fromcurrent": true,
              "mode": "immediate",
              "transition": {
               "duration": 0,
               "easing": "linear"
              }
             }
            ],
            "label": "2005",
            "method": "animate"
           },
           {
            "args": [
             [
              "2006"
             ],
             {
              "frame": {
               "duration": 0,
               "redraw": true
              },
              "fromcurrent": true,
              "mode": "immediate",
              "transition": {
               "duration": 0,
               "easing": "linear"
              }
             }
            ],
            "label": "2006",
            "method": "animate"
           },
           {
            "args": [
             [
              "2007"
             ],
             {
              "frame": {
               "duration": 0,
               "redraw": true
              },
              "fromcurrent": true,
              "mode": "immediate",
              "transition": {
               "duration": 0,
               "easing": "linear"
              }
             }
            ],
            "label": "2007",
            "method": "animate"
           },
           {
            "args": [
             [
              "2008"
             ],
             {
              "frame": {
               "duration": 0,
               "redraw": true
              },
              "fromcurrent": true,
              "mode": "immediate",
              "transition": {
               "duration": 0,
               "easing": "linear"
              }
             }
            ],
            "label": "2008",
            "method": "animate"
           },
           {
            "args": [
             [
              "2009"
             ],
             {
              "frame": {
               "duration": 0,
               "redraw": true
              },
              "fromcurrent": true,
              "mode": "immediate",
              "transition": {
               "duration": 0,
               "easing": "linear"
              }
             }
            ],
            "label": "2009",
            "method": "animate"
           },
           {
            "args": [
             [
              "2010"
             ],
             {
              "frame": {
               "duration": 0,
               "redraw": true
              },
              "fromcurrent": true,
              "mode": "immediate",
              "transition": {
               "duration": 0,
               "easing": "linear"
              }
             }
            ],
            "label": "2010",
            "method": "animate"
           },
           {
            "args": [
             [
              "2011"
             ],
             {
              "frame": {
               "duration": 0,
               "redraw": true
              },
              "fromcurrent": true,
              "mode": "immediate",
              "transition": {
               "duration": 0,
               "easing": "linear"
              }
             }
            ],
            "label": "2011",
            "method": "animate"
           },
           {
            "args": [
             [
              "2012"
             ],
             {
              "frame": {
               "duration": 0,
               "redraw": true
              },
              "fromcurrent": true,
              "mode": "immediate",
              "transition": {
               "duration": 0,
               "easing": "linear"
              }
             }
            ],
            "label": "2012",
            "method": "animate"
           },
           {
            "args": [
             [
              "2013"
             ],
             {
              "frame": {
               "duration": 0,
               "redraw": true
              },
              "fromcurrent": true,
              "mode": "immediate",
              "transition": {
               "duration": 0,
               "easing": "linear"
              }
             }
            ],
            "label": "2013",
            "method": "animate"
           },
           {
            "args": [
             [
              "2014"
             ],
             {
              "frame": {
               "duration": 0,
               "redraw": true
              },
              "fromcurrent": true,
              "mode": "immediate",
              "transition": {
               "duration": 0,
               "easing": "linear"
              }
             }
            ],
            "label": "2014",
            "method": "animate"
           },
           {
            "args": [
             [
              "2015"
             ],
             {
              "frame": {
               "duration": 0,
               "redraw": true
              },
              "fromcurrent": true,
              "mode": "immediate",
              "transition": {
               "duration": 0,
               "easing": "linear"
              }
             }
            ],
            "label": "2015",
            "method": "animate"
           },
           {
            "args": [
             [
              "2016"
             ],
             {
              "frame": {
               "duration": 0,
               "redraw": true
              },
              "fromcurrent": true,
              "mode": "immediate",
              "transition": {
               "duration": 0,
               "easing": "linear"
              }
             }
            ],
            "label": "2016",
            "method": "animate"
           },
           {
            "args": [
             [
              "2017"
             ],
             {
              "frame": {
               "duration": 0,
               "redraw": true
              },
              "fromcurrent": true,
              "mode": "immediate",
              "transition": {
               "duration": 0,
               "easing": "linear"
              }
             }
            ],
            "label": "2017",
            "method": "animate"
           },
           {
            "args": [
             [
              "2018"
             ],
             {
              "frame": {
               "duration": 0,
               "redraw": true
              },
              "fromcurrent": true,
              "mode": "immediate",
              "transition": {
               "duration": 0,
               "easing": "linear"
              }
             }
            ],
            "label": "2018",
            "method": "animate"
           },
           {
            "args": [
             [
              "2019"
             ],
             {
              "frame": {
               "duration": 0,
               "redraw": true
              },
              "fromcurrent": true,
              "mode": "immediate",
              "transition": {
               "duration": 0,
               "easing": "linear"
              }
             }
            ],
            "label": "2019",
            "method": "animate"
           },
           {
            "args": [
             [
              "2020"
             ],
             {
              "frame": {
               "duration": 0,
               "redraw": true
              },
              "fromcurrent": true,
              "mode": "immediate",
              "transition": {
               "duration": 0,
               "easing": "linear"
              }
             }
            ],
            "label": "2020",
            "method": "animate"
           },
           {
            "args": [
             [
              "2021"
             ],
             {
              "frame": {
               "duration": 0,
               "redraw": true
              },
              "fromcurrent": true,
              "mode": "immediate",
              "transition": {
               "duration": 0,
               "easing": "linear"
              }
             }
            ],
            "label": "2021",
            "method": "animate"
           }
          ],
          "x": 0.1,
          "xanchor": "left",
          "y": 0,
          "yanchor": "top"
         }
        ],
        "template": {
         "data": {
          "bar": [
           {
            "error_x": {
             "color": "#2a3f5f"
            },
            "error_y": {
             "color": "#2a3f5f"
            },
            "marker": {
             "line": {
              "color": "#E5ECF6",
              "width": 0.5
             },
             "pattern": {
              "fillmode": "overlay",
              "size": 10,
              "solidity": 0.2
             }
            },
            "type": "bar"
           }
          ],
          "barpolar": [
           {
            "marker": {
             "line": {
              "color": "#E5ECF6",
              "width": 0.5
             },
             "pattern": {
              "fillmode": "overlay",
              "size": 10,
              "solidity": 0.2
             }
            },
            "type": "barpolar"
           }
          ],
          "carpet": [
           {
            "aaxis": {
             "endlinecolor": "#2a3f5f",
             "gridcolor": "white",
             "linecolor": "white",
             "minorgridcolor": "white",
             "startlinecolor": "#2a3f5f"
            },
            "baxis": {
             "endlinecolor": "#2a3f5f",
             "gridcolor": "white",
             "linecolor": "white",
             "minorgridcolor": "white",
             "startlinecolor": "#2a3f5f"
            },
            "type": "carpet"
           }
          ],
          "choropleth": [
           {
            "colorbar": {
             "outlinewidth": 0,
             "ticks": ""
            },
            "type": "choropleth"
           }
          ],
          "contour": [
           {
            "colorbar": {
             "outlinewidth": 0,
             "ticks": ""
            },
            "colorscale": [
             [
              0,
              "#0d0887"
             ],
             [
              0.1111111111111111,
              "#46039f"
             ],
             [
              0.2222222222222222,
              "#7201a8"
             ],
             [
              0.3333333333333333,
              "#9c179e"
             ],
             [
              0.4444444444444444,
              "#bd3786"
             ],
             [
              0.5555555555555556,
              "#d8576b"
             ],
             [
              0.6666666666666666,
              "#ed7953"
             ],
             [
              0.7777777777777778,
              "#fb9f3a"
             ],
             [
              0.8888888888888888,
              "#fdca26"
             ],
             [
              1,
              "#f0f921"
             ]
            ],
            "type": "contour"
           }
          ],
          "contourcarpet": [
           {
            "colorbar": {
             "outlinewidth": 0,
             "ticks": ""
            },
            "type": "contourcarpet"
           }
          ],
          "heatmap": [
           {
            "colorbar": {
             "outlinewidth": 0,
             "ticks": ""
            },
            "colorscale": [
             [
              0,
              "#0d0887"
             ],
             [
              0.1111111111111111,
              "#46039f"
             ],
             [
              0.2222222222222222,
              "#7201a8"
             ],
             [
              0.3333333333333333,
              "#9c179e"
             ],
             [
              0.4444444444444444,
              "#bd3786"
             ],
             [
              0.5555555555555556,
              "#d8576b"
             ],
             [
              0.6666666666666666,
              "#ed7953"
             ],
             [
              0.7777777777777778,
              "#fb9f3a"
             ],
             [
              0.8888888888888888,
              "#fdca26"
             ],
             [
              1,
              "#f0f921"
             ]
            ],
            "type": "heatmap"
           }
          ],
          "heatmapgl": [
           {
            "colorbar": {
             "outlinewidth": 0,
             "ticks": ""
            },
            "colorscale": [
             [
              0,
              "#0d0887"
             ],
             [
              0.1111111111111111,
              "#46039f"
             ],
             [
              0.2222222222222222,
              "#7201a8"
             ],
             [
              0.3333333333333333,
              "#9c179e"
             ],
             [
              0.4444444444444444,
              "#bd3786"
             ],
             [
              0.5555555555555556,
              "#d8576b"
             ],
             [
              0.6666666666666666,
              "#ed7953"
             ],
             [
              0.7777777777777778,
              "#fb9f3a"
             ],
             [
              0.8888888888888888,
              "#fdca26"
             ],
             [
              1,
              "#f0f921"
             ]
            ],
            "type": "heatmapgl"
           }
          ],
          "histogram": [
           {
            "marker": {
             "pattern": {
              "fillmode": "overlay",
              "size": 10,
              "solidity": 0.2
             }
            },
            "type": "histogram"
           }
          ],
          "histogram2d": [
           {
            "colorbar": {
             "outlinewidth": 0,
             "ticks": ""
            },
            "colorscale": [
             [
              0,
              "#0d0887"
             ],
             [
              0.1111111111111111,
              "#46039f"
             ],
             [
              0.2222222222222222,
              "#7201a8"
             ],
             [
              0.3333333333333333,
              "#9c179e"
             ],
             [
              0.4444444444444444,
              "#bd3786"
             ],
             [
              0.5555555555555556,
              "#d8576b"
             ],
             [
              0.6666666666666666,
              "#ed7953"
             ],
             [
              0.7777777777777778,
              "#fb9f3a"
             ],
             [
              0.8888888888888888,
              "#fdca26"
             ],
             [
              1,
              "#f0f921"
             ]
            ],
            "type": "histogram2d"
           }
          ],
          "histogram2dcontour": [
           {
            "colorbar": {
             "outlinewidth": 0,
             "ticks": ""
            },
            "colorscale": [
             [
              0,
              "#0d0887"
             ],
             [
              0.1111111111111111,
              "#46039f"
             ],
             [
              0.2222222222222222,
              "#7201a8"
             ],
             [
              0.3333333333333333,
              "#9c179e"
             ],
             [
              0.4444444444444444,
              "#bd3786"
             ],
             [
              0.5555555555555556,
              "#d8576b"
             ],
             [
              0.6666666666666666,
              "#ed7953"
             ],
             [
              0.7777777777777778,
              "#fb9f3a"
             ],
             [
              0.8888888888888888,
              "#fdca26"
             ],
             [
              1,
              "#f0f921"
             ]
            ],
            "type": "histogram2dcontour"
           }
          ],
          "mesh3d": [
           {
            "colorbar": {
             "outlinewidth": 0,
             "ticks": ""
            },
            "type": "mesh3d"
           }
          ],
          "parcoords": [
           {
            "line": {
             "colorbar": {
              "outlinewidth": 0,
              "ticks": ""
             }
            },
            "type": "parcoords"
           }
          ],
          "pie": [
           {
            "automargin": true,
            "type": "pie"
           }
          ],
          "scatter": [
           {
            "marker": {
             "colorbar": {
              "outlinewidth": 0,
              "ticks": ""
             }
            },
            "type": "scatter"
           }
          ],
          "scatter3d": [
           {
            "line": {
             "colorbar": {
              "outlinewidth": 0,
              "ticks": ""
             }
            },
            "marker": {
             "colorbar": {
              "outlinewidth": 0,
              "ticks": ""
             }
            },
            "type": "scatter3d"
           }
          ],
          "scattercarpet": [
           {
            "marker": {
             "colorbar": {
              "outlinewidth": 0,
              "ticks": ""
             }
            },
            "type": "scattercarpet"
           }
          ],
          "scattergeo": [
           {
            "marker": {
             "colorbar": {
              "outlinewidth": 0,
              "ticks": ""
             }
            },
            "type": "scattergeo"
           }
          ],
          "scattergl": [
           {
            "marker": {
             "colorbar": {
              "outlinewidth": 0,
              "ticks": ""
             }
            },
            "type": "scattergl"
           }
          ],
          "scattermapbox": [
           {
            "marker": {
             "colorbar": {
              "outlinewidth": 0,
              "ticks": ""
             }
            },
            "type": "scattermapbox"
           }
          ],
          "scatterpolar": [
           {
            "marker": {
             "colorbar": {
              "outlinewidth": 0,
              "ticks": ""
             }
            },
            "type": "scatterpolar"
           }
          ],
          "scatterpolargl": [
           {
            "marker": {
             "colorbar": {
              "outlinewidth": 0,
              "ticks": ""
             }
            },
            "type": "scatterpolargl"
           }
          ],
          "scatterternary": [
           {
            "marker": {
             "colorbar": {
              "outlinewidth": 0,
              "ticks": ""
             }
            },
            "type": "scatterternary"
           }
          ],
          "surface": [
           {
            "colorbar": {
             "outlinewidth": 0,
             "ticks": ""
            },
            "colorscale": [
             [
              0,
              "#0d0887"
             ],
             [
              0.1111111111111111,
              "#46039f"
             ],
             [
              0.2222222222222222,
              "#7201a8"
             ],
             [
              0.3333333333333333,
              "#9c179e"
             ],
             [
              0.4444444444444444,
              "#bd3786"
             ],
             [
              0.5555555555555556,
              "#d8576b"
             ],
             [
              0.6666666666666666,
              "#ed7953"
             ],
             [
              0.7777777777777778,
              "#fb9f3a"
             ],
             [
              0.8888888888888888,
              "#fdca26"
             ],
             [
              1,
              "#f0f921"
             ]
            ],
            "type": "surface"
           }
          ],
          "table": [
           {
            "cells": {
             "fill": {
              "color": "#EBF0F8"
             },
             "line": {
              "color": "white"
             }
            },
            "header": {
             "fill": {
              "color": "#C8D4E3"
             },
             "line": {
              "color": "white"
             }
            },
            "type": "table"
           }
          ]
         },
         "layout": {
          "annotationdefaults": {
           "arrowcolor": "#2a3f5f",
           "arrowhead": 0,
           "arrowwidth": 1
          },
          "autotypenumbers": "strict",
          "coloraxis": {
           "colorbar": {
            "outlinewidth": 0,
            "ticks": ""
           }
          },
          "colorscale": {
           "diverging": [
            [
             0,
             "#8e0152"
            ],
            [
             0.1,
             "#c51b7d"
            ],
            [
             0.2,
             "#de77ae"
            ],
            [
             0.3,
             "#f1b6da"
            ],
            [
             0.4,
             "#fde0ef"
            ],
            [
             0.5,
             "#f7f7f7"
            ],
            [
             0.6,
             "#e6f5d0"
            ],
            [
             0.7,
             "#b8e186"
            ],
            [
             0.8,
             "#7fbc41"
            ],
            [
             0.9,
             "#4d9221"
            ],
            [
             1,
             "#276419"
            ]
           ],
           "sequential": [
            [
             0,
             "#0d0887"
            ],
            [
             0.1111111111111111,
             "#46039f"
            ],
            [
             0.2222222222222222,
             "#7201a8"
            ],
            [
             0.3333333333333333,
             "#9c179e"
            ],
            [
             0.4444444444444444,
             "#bd3786"
            ],
            [
             0.5555555555555556,
             "#d8576b"
            ],
            [
             0.6666666666666666,
             "#ed7953"
            ],
            [
             0.7777777777777778,
             "#fb9f3a"
            ],
            [
             0.8888888888888888,
             "#fdca26"
            ],
            [
             1,
             "#f0f921"
            ]
           ],
           "sequentialminus": [
            [
             0,
             "#0d0887"
            ],
            [
             0.1111111111111111,
             "#46039f"
            ],
            [
             0.2222222222222222,
             "#7201a8"
            ],
            [
             0.3333333333333333,
             "#9c179e"
            ],
            [
             0.4444444444444444,
             "#bd3786"
            ],
            [
             0.5555555555555556,
             "#d8576b"
            ],
            [
             0.6666666666666666,
             "#ed7953"
            ],
            [
             0.7777777777777778,
             "#fb9f3a"
            ],
            [
             0.8888888888888888,
             "#fdca26"
            ],
            [
             1,
             "#f0f921"
            ]
           ]
          },
          "colorway": [
           "#636efa",
           "#EF553B",
           "#00cc96",
           "#ab63fa",
           "#FFA15A",
           "#19d3f3",
           "#FF6692",
           "#B6E880",
           "#FF97FF",
           "#FECB52"
          ],
          "font": {
           "color": "#2a3f5f"
          },
          "geo": {
           "bgcolor": "white",
           "lakecolor": "white",
           "landcolor": "#E5ECF6",
           "showlakes": true,
           "showland": true,
           "subunitcolor": "white"
          },
          "hoverlabel": {
           "align": "left"
          },
          "hovermode": "closest",
          "mapbox": {
           "style": "light"
          },
          "paper_bgcolor": "white",
          "plot_bgcolor": "#E5ECF6",
          "polar": {
           "angularaxis": {
            "gridcolor": "white",
            "linecolor": "white",
            "ticks": ""
           },
           "bgcolor": "#E5ECF6",
           "radialaxis": {
            "gridcolor": "white",
            "linecolor": "white",
            "ticks": ""
           }
          },
          "scene": {
           "xaxis": {
            "backgroundcolor": "#E5ECF6",
            "gridcolor": "white",
            "gridwidth": 2,
            "linecolor": "white",
            "showbackground": true,
            "ticks": "",
            "zerolinecolor": "white"
           },
           "yaxis": {
            "backgroundcolor": "#E5ECF6",
            "gridcolor": "white",
            "gridwidth": 2,
            "linecolor": "white",
            "showbackground": true,
            "ticks": "",
            "zerolinecolor": "white"
           },
           "zaxis": {
            "backgroundcolor": "#E5ECF6",
            "gridcolor": "white",
            "gridwidth": 2,
            "linecolor": "white",
            "showbackground": true,
            "ticks": "",
            "zerolinecolor": "white"
           }
          },
          "shapedefaults": {
           "line": {
            "color": "#2a3f5f"
           }
          },
          "ternary": {
           "aaxis": {
            "gridcolor": "white",
            "linecolor": "white",
            "ticks": ""
           },
           "baxis": {
            "gridcolor": "white",
            "linecolor": "white",
            "ticks": ""
           },
           "bgcolor": "#E5ECF6",
           "caxis": {
            "gridcolor": "white",
            "linecolor": "white",
            "ticks": ""
           }
          },
          "title": {
           "x": 0.05
          },
          "xaxis": {
           "automargin": true,
           "gridcolor": "white",
           "linecolor": "white",
           "ticks": "",
           "title": {
            "standoff": 15
           },
           "zerolinecolor": "white",
           "zerolinewidth": 2
          },
          "yaxis": {
           "automargin": true,
           "gridcolor": "white",
           "linecolor": "white",
           "ticks": "",
           "title": {
            "standoff": 15
           },
           "zerolinecolor": "white",
           "zerolinewidth": 2
          }
         }
        },
        "title": {
         "text": "Energy Source from 2001-2021"
        },
        "updatemenus": [
         {
          "buttons": [
           {
            "args": [
             null,
             {
              "frame": {
               "duration": 500,
               "redraw": true
              },
              "fromcurrent": true,
              "mode": "immediate",
              "transition": {
               "duration": 500,
               "easing": "linear"
              }
             }
            ],
            "label": "&#9654;",
            "method": "animate"
           },
           {
            "args": [
             [
              null
             ],
             {
              "frame": {
               "duration": 0,
               "redraw": true
              },
              "fromcurrent": true,
              "mode": "immediate",
              "transition": {
               "duration": 0,
               "easing": "linear"
              }
             }
            ],
            "label": "&#9724;",
            "method": "animate"
           }
          ],
          "direction": "left",
          "pad": {
           "r": 10,
           "t": 70
          },
          "showactive": false,
          "type": "buttons",
          "x": 0.1,
          "xanchor": "right",
          "y": 0,
          "yanchor": "top"
         }
        ],
        "xaxis": {
         "anchor": "y",
         "categoryarray": [
          "Coal",
          "Natural Gas",
          "Nuclear",
          "Renewable energy",
          "Petroleum",
          "Other Gases",
          "Other"
         ],
         "categoryorder": "array",
         "domain": [
          0,
          1
         ],
         "title": {
          "text": "Energy Source"
         }
        },
        "yaxis": {
         "anchor": "x",
         "domain": [
          0,
          1
         ],
         "range": [
          0,
          2500000000
         ],
         "title": {
          "text": "Total Generated"
         }
        }
       }
      },
      "text/html": [
       "<div>                            <div id=\"a5c47fc2-3efb-4aca-8fe0-a3861ce6925e\" class=\"plotly-graph-div\" style=\"height:525px; width:100%;\"></div>            <script type=\"text/javascript\">                require([\"plotly\"], function(Plotly) {                    window.PLOTLYENV=window.PLOTLYENV || {};                                    if (document.getElementById(\"a5c47fc2-3efb-4aca-8fe0-a3861ce6925e\")) {                    Plotly.newPlot(                        \"a5c47fc2-3efb-4aca-8fe0-a3861ce6925e\",                        [{\"alignmentgroup\":\"True\",\"hovertemplate\":\"Energy Source=%{x}<br>Year=2001<br>Total Generated=%{y}<extra></extra>\",\"legendgroup\":\"Coal\",\"marker\":{\"color\":\"#636efa\",\"pattern\":{\"shape\":\"\"}},\"name\":\"Coal\",\"offsetgroup\":\"Coal\",\"orientation\":\"v\",\"showlegend\":true,\"textposition\":\"auto\",\"x\":[\"Coal\"],\"xaxis\":\"x\",\"y\":[1903955939.0],\"yaxis\":\"y\",\"type\":\"bar\"},{\"alignmentgroup\":\"True\",\"hovertemplate\":\"Energy Source=%{x}<br>Year=2001<br>Total Generated=%{y}<extra></extra>\",\"legendgroup\":\"Natural Gas\",\"marker\":{\"color\":\"#EF553B\",\"pattern\":{\"shape\":\"\"}},\"name\":\"Natural Gas\",\"offsetgroup\":\"Natural Gas\",\"orientation\":\"v\",\"showlegend\":true,\"textposition\":\"auto\",\"x\":[\"Natural Gas\"],\"xaxis\":\"x\",\"y\":[639129114.0],\"yaxis\":\"y\",\"type\":\"bar\"},{\"alignmentgroup\":\"True\",\"hovertemplate\":\"Energy Source=%{x}<br>Year=2001<br>Total Generated=%{y}<extra></extra>\",\"legendgroup\":\"Nuclear\",\"marker\":{\"color\":\"#00cc96\",\"pattern\":{\"shape\":\"\"}},\"name\":\"Nuclear\",\"offsetgroup\":\"Nuclear\",\"orientation\":\"v\",\"showlegend\":true,\"textposition\":\"auto\",\"x\":[\"Nuclear\"],\"xaxis\":\"x\",\"y\":[768826308.0],\"yaxis\":\"y\",\"type\":\"bar\"},{\"alignmentgroup\":\"True\",\"hovertemplate\":\"Energy Source=%{x}<br>Year=2001<br>Total Generated=%{y}<extra></extra>\",\"legendgroup\":\"Renewable energy\",\"marker\":{\"color\":\"#ab63fa\",\"pattern\":{\"shape\":\"\"}},\"name\":\"Renewable energy\",\"offsetgroup\":\"Renewable energy\",\"orientation\":\"v\",\"showlegend\":true,\"textposition\":\"auto\",\"x\":[\"Renewable energy\"],\"xaxis\":\"x\",\"y\":[278906244.0],\"yaxis\":\"y\",\"type\":\"bar\"},{\"alignmentgroup\":\"True\",\"hovertemplate\":\"Energy Source=%{x}<br>Year=2001<br>Total Generated=%{y}<extra></extra>\",\"legendgroup\":\"Petroleum\",\"marker\":{\"color\":\"#FFA15A\",\"pattern\":{\"shape\":\"\"}},\"name\":\"Petroleum\",\"offsetgroup\":\"Petroleum\",\"orientation\":\"v\",\"showlegend\":true,\"textposition\":\"auto\",\"x\":[\"Petroleum\"],\"xaxis\":\"x\",\"y\":[124880223.0],\"yaxis\":\"y\",\"type\":\"bar\"},{\"alignmentgroup\":\"True\",\"hovertemplate\":\"Energy Source=%{x}<br>Year=2001<br>Total Generated=%{y}<extra></extra>\",\"legendgroup\":\"Other Gases\",\"marker\":{\"color\":\"#19d3f3\",\"pattern\":{\"shape\":\"\"}},\"name\":\"Other Gases\",\"offsetgroup\":\"Other Gases\",\"orientation\":\"v\",\"showlegend\":true,\"textposition\":\"auto\",\"x\":[\"Other Gases\"],\"xaxis\":\"x\",\"y\":[9039473.0],\"yaxis\":\"y\",\"type\":\"bar\"},{\"alignmentgroup\":\"True\",\"hovertemplate\":\"Energy Source=%{x}<br>Year=2001<br>Total Generated=%{y}<extra></extra>\",\"legendgroup\":\"Other\",\"marker\":{\"color\":\"#FF6692\",\"pattern\":{\"shape\":\"\"}},\"name\":\"Other\",\"offsetgroup\":\"Other\",\"orientation\":\"v\",\"showlegend\":true,\"textposition\":\"auto\",\"x\":[\"Other\"],\"xaxis\":\"x\",\"y\":[11906353.0],\"yaxis\":\"y\",\"type\":\"bar\"}],                        {\"template\":{\"data\":{\"bar\":[{\"error_x\":{\"color\":\"#2a3f5f\"},\"error_y\":{\"color\":\"#2a3f5f\"},\"marker\":{\"line\":{\"color\":\"#E5ECF6\",\"width\":0.5},\"pattern\":{\"fillmode\":\"overlay\",\"size\":10,\"solidity\":0.2}},\"type\":\"bar\"}],\"barpolar\":[{\"marker\":{\"line\":{\"color\":\"#E5ECF6\",\"width\":0.5},\"pattern\":{\"fillmode\":\"overlay\",\"size\":10,\"solidity\":0.2}},\"type\":\"barpolar\"}],\"carpet\":[{\"aaxis\":{\"endlinecolor\":\"#2a3f5f\",\"gridcolor\":\"white\",\"linecolor\":\"white\",\"minorgridcolor\":\"white\",\"startlinecolor\":\"#2a3f5f\"},\"baxis\":{\"endlinecolor\":\"#2a3f5f\",\"gridcolor\":\"white\",\"linecolor\":\"white\",\"minorgridcolor\":\"white\",\"startlinecolor\":\"#2a3f5f\"},\"type\":\"carpet\"}],\"choropleth\":[{\"colorbar\":{\"outlinewidth\":0,\"ticks\":\"\"},\"type\":\"choropleth\"}],\"contour\":[{\"colorbar\":{\"outlinewidth\":0,\"ticks\":\"\"},\"colorscale\":[[0.0,\"#0d0887\"],[0.1111111111111111,\"#46039f\"],[0.2222222222222222,\"#7201a8\"],[0.3333333333333333,\"#9c179e\"],[0.4444444444444444,\"#bd3786\"],[0.5555555555555556,\"#d8576b\"],[0.6666666666666666,\"#ed7953\"],[0.7777777777777778,\"#fb9f3a\"],[0.8888888888888888,\"#fdca26\"],[1.0,\"#f0f921\"]],\"type\":\"contour\"}],\"contourcarpet\":[{\"colorbar\":{\"outlinewidth\":0,\"ticks\":\"\"},\"type\":\"contourcarpet\"}],\"heatmap\":[{\"colorbar\":{\"outlinewidth\":0,\"ticks\":\"\"},\"colorscale\":[[0.0,\"#0d0887\"],[0.1111111111111111,\"#46039f\"],[0.2222222222222222,\"#7201a8\"],[0.3333333333333333,\"#9c179e\"],[0.4444444444444444,\"#bd3786\"],[0.5555555555555556,\"#d8576b\"],[0.6666666666666666,\"#ed7953\"],[0.7777777777777778,\"#fb9f3a\"],[0.8888888888888888,\"#fdca26\"],[1.0,\"#f0f921\"]],\"type\":\"heatmap\"}],\"heatmapgl\":[{\"colorbar\":{\"outlinewidth\":0,\"ticks\":\"\"},\"colorscale\":[[0.0,\"#0d0887\"],[0.1111111111111111,\"#46039f\"],[0.2222222222222222,\"#7201a8\"],[0.3333333333333333,\"#9c179e\"],[0.4444444444444444,\"#bd3786\"],[0.5555555555555556,\"#d8576b\"],[0.6666666666666666,\"#ed7953\"],[0.7777777777777778,\"#fb9f3a\"],[0.8888888888888888,\"#fdca26\"],[1.0,\"#f0f921\"]],\"type\":\"heatmapgl\"}],\"histogram\":[{\"marker\":{\"pattern\":{\"fillmode\":\"overlay\",\"size\":10,\"solidity\":0.2}},\"type\":\"histogram\"}],\"histogram2d\":[{\"colorbar\":{\"outlinewidth\":0,\"ticks\":\"\"},\"colorscale\":[[0.0,\"#0d0887\"],[0.1111111111111111,\"#46039f\"],[0.2222222222222222,\"#7201a8\"],[0.3333333333333333,\"#9c179e\"],[0.4444444444444444,\"#bd3786\"],[0.5555555555555556,\"#d8576b\"],[0.6666666666666666,\"#ed7953\"],[0.7777777777777778,\"#fb9f3a\"],[0.8888888888888888,\"#fdca26\"],[1.0,\"#f0f921\"]],\"type\":\"histogram2d\"}],\"histogram2dcontour\":[{\"colorbar\":{\"outlinewidth\":0,\"ticks\":\"\"},\"colorscale\":[[0.0,\"#0d0887\"],[0.1111111111111111,\"#46039f\"],[0.2222222222222222,\"#7201a8\"],[0.3333333333333333,\"#9c179e\"],[0.4444444444444444,\"#bd3786\"],[0.5555555555555556,\"#d8576b\"],[0.6666666666666666,\"#ed7953\"],[0.7777777777777778,\"#fb9f3a\"],[0.8888888888888888,\"#fdca26\"],[1.0,\"#f0f921\"]],\"type\":\"histogram2dcontour\"}],\"mesh3d\":[{\"colorbar\":{\"outlinewidth\":0,\"ticks\":\"\"},\"type\":\"mesh3d\"}],\"parcoords\":[{\"line\":{\"colorbar\":{\"outlinewidth\":0,\"ticks\":\"\"}},\"type\":\"parcoords\"}],\"pie\":[{\"automargin\":true,\"type\":\"pie\"}],\"scatter\":[{\"marker\":{\"colorbar\":{\"outlinewidth\":0,\"ticks\":\"\"}},\"type\":\"scatter\"}],\"scatter3d\":[{\"line\":{\"colorbar\":{\"outlinewidth\":0,\"ticks\":\"\"}},\"marker\":{\"colorbar\":{\"outlinewidth\":0,\"ticks\":\"\"}},\"type\":\"scatter3d\"}],\"scattercarpet\":[{\"marker\":{\"colorbar\":{\"outlinewidth\":0,\"ticks\":\"\"}},\"type\":\"scattercarpet\"}],\"scattergeo\":[{\"marker\":{\"colorbar\":{\"outlinewidth\":0,\"ticks\":\"\"}},\"type\":\"scattergeo\"}],\"scattergl\":[{\"marker\":{\"colorbar\":{\"outlinewidth\":0,\"ticks\":\"\"}},\"type\":\"scattergl\"}],\"scattermapbox\":[{\"marker\":{\"colorbar\":{\"outlinewidth\":0,\"ticks\":\"\"}},\"type\":\"scattermapbox\"}],\"scatterpolar\":[{\"marker\":{\"colorbar\":{\"outlinewidth\":0,\"ticks\":\"\"}},\"type\":\"scatterpolar\"}],\"scatterpolargl\":[{\"marker\":{\"colorbar\":{\"outlinewidth\":0,\"ticks\":\"\"}},\"type\":\"scatterpolargl\"}],\"scatterternary\":[{\"marker\":{\"colorbar\":{\"outlinewidth\":0,\"ticks\":\"\"}},\"type\":\"scatterternary\"}],\"surface\":[{\"colorbar\":{\"outlinewidth\":0,\"ticks\":\"\"},\"colorscale\":[[0.0,\"#0d0887\"],[0.1111111111111111,\"#46039f\"],[0.2222222222222222,\"#7201a8\"],[0.3333333333333333,\"#9c179e\"],[0.4444444444444444,\"#bd3786\"],[0.5555555555555556,\"#d8576b\"],[0.6666666666666666,\"#ed7953\"],[0.7777777777777778,\"#fb9f3a\"],[0.8888888888888888,\"#fdca26\"],[1.0,\"#f0f921\"]],\"type\":\"surface\"}],\"table\":[{\"cells\":{\"fill\":{\"color\":\"#EBF0F8\"},\"line\":{\"color\":\"white\"}},\"header\":{\"fill\":{\"color\":\"#C8D4E3\"},\"line\":{\"color\":\"white\"}},\"type\":\"table\"}]},\"layout\":{\"annotationdefaults\":{\"arrowcolor\":\"#2a3f5f\",\"arrowhead\":0,\"arrowwidth\":1},\"autotypenumbers\":\"strict\",\"coloraxis\":{\"colorbar\":{\"outlinewidth\":0,\"ticks\":\"\"}},\"colorscale\":{\"diverging\":[[0,\"#8e0152\"],[0.1,\"#c51b7d\"],[0.2,\"#de77ae\"],[0.3,\"#f1b6da\"],[0.4,\"#fde0ef\"],[0.5,\"#f7f7f7\"],[0.6,\"#e6f5d0\"],[0.7,\"#b8e186\"],[0.8,\"#7fbc41\"],[0.9,\"#4d9221\"],[1,\"#276419\"]],\"sequential\":[[0.0,\"#0d0887\"],[0.1111111111111111,\"#46039f\"],[0.2222222222222222,\"#7201a8\"],[0.3333333333333333,\"#9c179e\"],[0.4444444444444444,\"#bd3786\"],[0.5555555555555556,\"#d8576b\"],[0.6666666666666666,\"#ed7953\"],[0.7777777777777778,\"#fb9f3a\"],[0.8888888888888888,\"#fdca26\"],[1.0,\"#f0f921\"]],\"sequentialminus\":[[0.0,\"#0d0887\"],[0.1111111111111111,\"#46039f\"],[0.2222222222222222,\"#7201a8\"],[0.3333333333333333,\"#9c179e\"],[0.4444444444444444,\"#bd3786\"],[0.5555555555555556,\"#d8576b\"],[0.6666666666666666,\"#ed7953\"],[0.7777777777777778,\"#fb9f3a\"],[0.8888888888888888,\"#fdca26\"],[1.0,\"#f0f921\"]]},\"colorway\":[\"#636efa\",\"#EF553B\",\"#00cc96\",\"#ab63fa\",\"#FFA15A\",\"#19d3f3\",\"#FF6692\",\"#B6E880\",\"#FF97FF\",\"#FECB52\"],\"font\":{\"color\":\"#2a3f5f\"},\"geo\":{\"bgcolor\":\"white\",\"lakecolor\":\"white\",\"landcolor\":\"#E5ECF6\",\"showlakes\":true,\"showland\":true,\"subunitcolor\":\"white\"},\"hoverlabel\":{\"align\":\"left\"},\"hovermode\":\"closest\",\"mapbox\":{\"style\":\"light\"},\"paper_bgcolor\":\"white\",\"plot_bgcolor\":\"#E5ECF6\",\"polar\":{\"angularaxis\":{\"gridcolor\":\"white\",\"linecolor\":\"white\",\"ticks\":\"\"},\"bgcolor\":\"#E5ECF6\",\"radialaxis\":{\"gridcolor\":\"white\",\"linecolor\":\"white\",\"ticks\":\"\"}},\"scene\":{\"xaxis\":{\"backgroundcolor\":\"#E5ECF6\",\"gridcolor\":\"white\",\"gridwidth\":2,\"linecolor\":\"white\",\"showbackground\":true,\"ticks\":\"\",\"zerolinecolor\":\"white\"},\"yaxis\":{\"backgroundcolor\":\"#E5ECF6\",\"gridcolor\":\"white\",\"gridwidth\":2,\"linecolor\":\"white\",\"showbackground\":true,\"ticks\":\"\",\"zerolinecolor\":\"white\"},\"zaxis\":{\"backgroundcolor\":\"#E5ECF6\",\"gridcolor\":\"white\",\"gridwidth\":2,\"linecolor\":\"white\",\"showbackground\":true,\"ticks\":\"\",\"zerolinecolor\":\"white\"}},\"shapedefaults\":{\"line\":{\"color\":\"#2a3f5f\"}},\"ternary\":{\"aaxis\":{\"gridcolor\":\"white\",\"linecolor\":\"white\",\"ticks\":\"\"},\"baxis\":{\"gridcolor\":\"white\",\"linecolor\":\"white\",\"ticks\":\"\"},\"bgcolor\":\"#E5ECF6\",\"caxis\":{\"gridcolor\":\"white\",\"linecolor\":\"white\",\"ticks\":\"\"}},\"title\":{\"x\":0.05},\"xaxis\":{\"automargin\":true,\"gridcolor\":\"white\",\"linecolor\":\"white\",\"ticks\":\"\",\"title\":{\"standoff\":15},\"zerolinecolor\":\"white\",\"zerolinewidth\":2},\"yaxis\":{\"automargin\":true,\"gridcolor\":\"white\",\"linecolor\":\"white\",\"ticks\":\"\",\"title\":{\"standoff\":15},\"zerolinecolor\":\"white\",\"zerolinewidth\":2}}},\"xaxis\":{\"anchor\":\"y\",\"domain\":[0.0,1.0],\"title\":{\"text\":\"Energy Source\"},\"categoryorder\":\"array\",\"categoryarray\":[\"Coal\",\"Natural Gas\",\"Nuclear\",\"Renewable energy\",\"Petroleum\",\"Other Gases\",\"Other\"]},\"yaxis\":{\"anchor\":\"x\",\"domain\":[0.0,1.0],\"title\":{\"text\":\"Total Generated\"},\"range\":[0,2500000000]},\"legend\":{\"title\":{\"text\":\"Energy Source\"},\"tracegroupgap\":0},\"title\":{\"text\":\"Energy Source from 2001-2021\"},\"barmode\":\"relative\",\"updatemenus\":[{\"buttons\":[{\"args\":[null,{\"frame\":{\"duration\":500,\"redraw\":true},\"mode\":\"immediate\",\"fromcurrent\":true,\"transition\":{\"duration\":500,\"easing\":\"linear\"}}],\"label\":\"&#9654;\",\"method\":\"animate\"},{\"args\":[[null],{\"frame\":{\"duration\":0,\"redraw\":true},\"mode\":\"immediate\",\"fromcurrent\":true,\"transition\":{\"duration\":0,\"easing\":\"linear\"}}],\"label\":\"&#9724;\",\"method\":\"animate\"}],\"direction\":\"left\",\"pad\":{\"r\":10,\"t\":70},\"showactive\":false,\"type\":\"buttons\",\"x\":0.1,\"xanchor\":\"right\",\"y\":0,\"yanchor\":\"top\"}],\"sliders\":[{\"active\":0,\"currentvalue\":{\"prefix\":\"Year=\"},\"len\":0.9,\"pad\":{\"b\":10,\"t\":60},\"steps\":[{\"args\":[[\"2001\"],{\"frame\":{\"duration\":0,\"redraw\":true},\"mode\":\"immediate\",\"fromcurrent\":true,\"transition\":{\"duration\":0,\"easing\":\"linear\"}}],\"label\":\"2001\",\"method\":\"animate\"},{\"args\":[[\"2002\"],{\"frame\":{\"duration\":0,\"redraw\":true},\"mode\":\"immediate\",\"fromcurrent\":true,\"transition\":{\"duration\":0,\"easing\":\"linear\"}}],\"label\":\"2002\",\"method\":\"animate\"},{\"args\":[[\"2003\"],{\"frame\":{\"duration\":0,\"redraw\":true},\"mode\":\"immediate\",\"fromcurrent\":true,\"transition\":{\"duration\":0,\"easing\":\"linear\"}}],\"label\":\"2003\",\"method\":\"animate\"},{\"args\":[[\"2004\"],{\"frame\":{\"duration\":0,\"redraw\":true},\"mode\":\"immediate\",\"fromcurrent\":true,\"transition\":{\"duration\":0,\"easing\":\"linear\"}}],\"label\":\"2004\",\"method\":\"animate\"},{\"args\":[[\"2005\"],{\"frame\":{\"duration\":0,\"redraw\":true},\"mode\":\"immediate\",\"fromcurrent\":true,\"transition\":{\"duration\":0,\"easing\":\"linear\"}}],\"label\":\"2005\",\"method\":\"animate\"},{\"args\":[[\"2006\"],{\"frame\":{\"duration\":0,\"redraw\":true},\"mode\":\"immediate\",\"fromcurrent\":true,\"transition\":{\"duration\":0,\"easing\":\"linear\"}}],\"label\":\"2006\",\"method\":\"animate\"},{\"args\":[[\"2007\"],{\"frame\":{\"duration\":0,\"redraw\":true},\"mode\":\"immediate\",\"fromcurrent\":true,\"transition\":{\"duration\":0,\"easing\":\"linear\"}}],\"label\":\"2007\",\"method\":\"animate\"},{\"args\":[[\"2008\"],{\"frame\":{\"duration\":0,\"redraw\":true},\"mode\":\"immediate\",\"fromcurrent\":true,\"transition\":{\"duration\":0,\"easing\":\"linear\"}}],\"label\":\"2008\",\"method\":\"animate\"},{\"args\":[[\"2009\"],{\"frame\":{\"duration\":0,\"redraw\":true},\"mode\":\"immediate\",\"fromcurrent\":true,\"transition\":{\"duration\":0,\"easing\":\"linear\"}}],\"label\":\"2009\",\"method\":\"animate\"},{\"args\":[[\"2010\"],{\"frame\":{\"duration\":0,\"redraw\":true},\"mode\":\"immediate\",\"fromcurrent\":true,\"transition\":{\"duration\":0,\"easing\":\"linear\"}}],\"label\":\"2010\",\"method\":\"animate\"},{\"args\":[[\"2011\"],{\"frame\":{\"duration\":0,\"redraw\":true},\"mode\":\"immediate\",\"fromcurrent\":true,\"transition\":{\"duration\":0,\"easing\":\"linear\"}}],\"label\":\"2011\",\"method\":\"animate\"},{\"args\":[[\"2012\"],{\"frame\":{\"duration\":0,\"redraw\":true},\"mode\":\"immediate\",\"fromcurrent\":true,\"transition\":{\"duration\":0,\"easing\":\"linear\"}}],\"label\":\"2012\",\"method\":\"animate\"},{\"args\":[[\"2013\"],{\"frame\":{\"duration\":0,\"redraw\":true},\"mode\":\"immediate\",\"fromcurrent\":true,\"transition\":{\"duration\":0,\"easing\":\"linear\"}}],\"label\":\"2013\",\"method\":\"animate\"},{\"args\":[[\"2014\"],{\"frame\":{\"duration\":0,\"redraw\":true},\"mode\":\"immediate\",\"fromcurrent\":true,\"transition\":{\"duration\":0,\"easing\":\"linear\"}}],\"label\":\"2014\",\"method\":\"animate\"},{\"args\":[[\"2015\"],{\"frame\":{\"duration\":0,\"redraw\":true},\"mode\":\"immediate\",\"fromcurrent\":true,\"transition\":{\"duration\":0,\"easing\":\"linear\"}}],\"label\":\"2015\",\"method\":\"animate\"},{\"args\":[[\"2016\"],{\"frame\":{\"duration\":0,\"redraw\":true},\"mode\":\"immediate\",\"fromcurrent\":true,\"transition\":{\"duration\":0,\"easing\":\"linear\"}}],\"label\":\"2016\",\"method\":\"animate\"},{\"args\":[[\"2017\"],{\"frame\":{\"duration\":0,\"redraw\":true},\"mode\":\"immediate\",\"fromcurrent\":true,\"transition\":{\"duration\":0,\"easing\":\"linear\"}}],\"label\":\"2017\",\"method\":\"animate\"},{\"args\":[[\"2018\"],{\"frame\":{\"duration\":0,\"redraw\":true},\"mode\":\"immediate\",\"fromcurrent\":true,\"transition\":{\"duration\":0,\"easing\":\"linear\"}}],\"label\":\"2018\",\"method\":\"animate\"},{\"args\":[[\"2019\"],{\"frame\":{\"duration\":0,\"redraw\":true},\"mode\":\"immediate\",\"fromcurrent\":true,\"transition\":{\"duration\":0,\"easing\":\"linear\"}}],\"label\":\"2019\",\"method\":\"animate\"},{\"args\":[[\"2020\"],{\"frame\":{\"duration\":0,\"redraw\":true},\"mode\":\"immediate\",\"fromcurrent\":true,\"transition\":{\"duration\":0,\"easing\":\"linear\"}}],\"label\":\"2020\",\"method\":\"animate\"},{\"args\":[[\"2021\"],{\"frame\":{\"duration\":0,\"redraw\":true},\"mode\":\"immediate\",\"fromcurrent\":true,\"transition\":{\"duration\":0,\"easing\":\"linear\"}}],\"label\":\"2021\",\"method\":\"animate\"}],\"x\":0.1,\"xanchor\":\"left\",\"y\":0,\"yanchor\":\"top\"}]},                        {\"responsive\": true}                    ).then(function(){\n",
       "                            Plotly.addFrames('a5c47fc2-3efb-4aca-8fe0-a3861ce6925e', [{\"data\":[{\"alignmentgroup\":\"True\",\"hovertemplate\":\"Energy Source=%{x}<br>Year=2001<br>Total Generated=%{y}<extra></extra>\",\"legendgroup\":\"Coal\",\"marker\":{\"color\":\"#636efa\",\"pattern\":{\"shape\":\"\"}},\"name\":\"Coal\",\"offsetgroup\":\"Coal\",\"orientation\":\"v\",\"showlegend\":true,\"textposition\":\"auto\",\"x\":[\"Coal\"],\"xaxis\":\"x\",\"y\":[1903955939.0],\"yaxis\":\"y\",\"type\":\"bar\"},{\"alignmentgroup\":\"True\",\"hovertemplate\":\"Energy Source=%{x}<br>Year=2001<br>Total Generated=%{y}<extra></extra>\",\"legendgroup\":\"Natural Gas\",\"marker\":{\"color\":\"#EF553B\",\"pattern\":{\"shape\":\"\"}},\"name\":\"Natural Gas\",\"offsetgroup\":\"Natural Gas\",\"orientation\":\"v\",\"showlegend\":true,\"textposition\":\"auto\",\"x\":[\"Natural Gas\"],\"xaxis\":\"x\",\"y\":[639129114.0],\"yaxis\":\"y\",\"type\":\"bar\"},{\"alignmentgroup\":\"True\",\"hovertemplate\":\"Energy Source=%{x}<br>Year=2001<br>Total Generated=%{y}<extra></extra>\",\"legendgroup\":\"Nuclear\",\"marker\":{\"color\":\"#00cc96\",\"pattern\":{\"shape\":\"\"}},\"name\":\"Nuclear\",\"offsetgroup\":\"Nuclear\",\"orientation\":\"v\",\"showlegend\":true,\"textposition\":\"auto\",\"x\":[\"Nuclear\"],\"xaxis\":\"x\",\"y\":[768826308.0],\"yaxis\":\"y\",\"type\":\"bar\"},{\"alignmentgroup\":\"True\",\"hovertemplate\":\"Energy Source=%{x}<br>Year=2001<br>Total Generated=%{y}<extra></extra>\",\"legendgroup\":\"Renewable energy\",\"marker\":{\"color\":\"#ab63fa\",\"pattern\":{\"shape\":\"\"}},\"name\":\"Renewable energy\",\"offsetgroup\":\"Renewable energy\",\"orientation\":\"v\",\"showlegend\":true,\"textposition\":\"auto\",\"x\":[\"Renewable energy\"],\"xaxis\":\"x\",\"y\":[278906244.0],\"yaxis\":\"y\",\"type\":\"bar\"},{\"alignmentgroup\":\"True\",\"hovertemplate\":\"Energy Source=%{x}<br>Year=2001<br>Total Generated=%{y}<extra></extra>\",\"legendgroup\":\"Petroleum\",\"marker\":{\"color\":\"#FFA15A\",\"pattern\":{\"shape\":\"\"}},\"name\":\"Petroleum\",\"offsetgroup\":\"Petroleum\",\"orientation\":\"v\",\"showlegend\":true,\"textposition\":\"auto\",\"x\":[\"Petroleum\"],\"xaxis\":\"x\",\"y\":[124880223.0],\"yaxis\":\"y\",\"type\":\"bar\"},{\"alignmentgroup\":\"True\",\"hovertemplate\":\"Energy Source=%{x}<br>Year=2001<br>Total Generated=%{y}<extra></extra>\",\"legendgroup\":\"Other Gases\",\"marker\":{\"color\":\"#19d3f3\",\"pattern\":{\"shape\":\"\"}},\"name\":\"Other Gases\",\"offsetgroup\":\"Other Gases\",\"orientation\":\"v\",\"showlegend\":true,\"textposition\":\"auto\",\"x\":[\"Other Gases\"],\"xaxis\":\"x\",\"y\":[9039473.0],\"yaxis\":\"y\",\"type\":\"bar\"},{\"alignmentgroup\":\"True\",\"hovertemplate\":\"Energy Source=%{x}<br>Year=2001<br>Total Generated=%{y}<extra></extra>\",\"legendgroup\":\"Other\",\"marker\":{\"color\":\"#FF6692\",\"pattern\":{\"shape\":\"\"}},\"name\":\"Other\",\"offsetgroup\":\"Other\",\"orientation\":\"v\",\"showlegend\":true,\"textposition\":\"auto\",\"x\":[\"Other\"],\"xaxis\":\"x\",\"y\":[11906353.0],\"yaxis\":\"y\",\"type\":\"bar\"}],\"name\":\"2001\"},{\"data\":[{\"alignmentgroup\":\"True\",\"hovertemplate\":\"Energy Source=%{x}<br>Year=2002<br>Total Generated=%{y}<extra></extra>\",\"legendgroup\":\"Coal\",\"marker\":{\"color\":\"#636efa\",\"pattern\":{\"shape\":\"\"}},\"name\":\"Coal\",\"offsetgroup\":\"Coal\",\"orientation\":\"v\",\"showlegend\":true,\"textposition\":\"auto\",\"x\":[\"Coal\"],\"xaxis\":\"x\",\"y\":[1933130342.0],\"yaxis\":\"y\",\"type\":\"bar\"},{\"alignmentgroup\":\"True\",\"hovertemplate\":\"Energy Source=%{x}<br>Year=2002<br>Total Generated=%{y}<extra></extra>\",\"legendgroup\":\"Natural Gas\",\"marker\":{\"color\":\"#EF553B\",\"pattern\":{\"shape\":\"\"}},\"name\":\"Natural Gas\",\"offsetgroup\":\"Natural Gas\",\"orientation\":\"v\",\"showlegend\":true,\"textposition\":\"auto\",\"x\":[\"Natural Gas\"],\"xaxis\":\"x\",\"y\":[691005761.0],\"yaxis\":\"y\",\"type\":\"bar\"},{\"alignmentgroup\":\"True\",\"hovertemplate\":\"Energy Source=%{x}<br>Year=2002<br>Total Generated=%{y}<extra></extra>\",\"legendgroup\":\"Nuclear\",\"marker\":{\"color\":\"#00cc96\",\"pattern\":{\"shape\":\"\"}},\"name\":\"Nuclear\",\"offsetgroup\":\"Nuclear\",\"orientation\":\"v\",\"showlegend\":true,\"textposition\":\"auto\",\"x\":[\"Nuclear\"],\"xaxis\":\"x\",\"y\":[780064087.0],\"yaxis\":\"y\",\"type\":\"bar\"},{\"alignmentgroup\":\"True\",\"hovertemplate\":\"Energy Source=%{x}<br>Year=2002<br>Total Generated=%{y}<extra></extra>\",\"legendgroup\":\"Renewable energy\",\"marker\":{\"color\":\"#ab63fa\",\"pattern\":{\"shape\":\"\"}},\"name\":\"Renewable energy\",\"offsetgroup\":\"Renewable energy\",\"orientation\":\"v\",\"showlegend\":true,\"textposition\":\"auto\",\"x\":[\"Renewable energy\"],\"xaxis\":\"x\",\"y\":[334695061.0],\"yaxis\":\"y\",\"type\":\"bar\"},{\"alignmentgroup\":\"True\",\"hovertemplate\":\"Energy Source=%{x}<br>Year=2002<br>Total Generated=%{y}<extra></extra>\",\"legendgroup\":\"Petroleum\",\"marker\":{\"color\":\"#FFA15A\",\"pattern\":{\"shape\":\"\"}},\"name\":\"Petroleum\",\"offsetgroup\":\"Petroleum\",\"orientation\":\"v\",\"showlegend\":true,\"textposition\":\"auto\",\"x\":[\"Petroleum\"],\"xaxis\":\"x\",\"y\":[94567379.0],\"yaxis\":\"y\",\"type\":\"bar\"},{\"alignmentgroup\":\"True\",\"hovertemplate\":\"Energy Source=%{x}<br>Year=2002<br>Total Generated=%{y}<extra></extra>\",\"legendgroup\":\"Other Gases\",\"marker\":{\"color\":\"#19d3f3\",\"pattern\":{\"shape\":\"\"}},\"name\":\"Other Gases\",\"offsetgroup\":\"Other Gases\",\"orientation\":\"v\",\"showlegend\":true,\"textposition\":\"auto\",\"x\":[\"Other Gases\"],\"xaxis\":\"x\",\"y\":[11462685.0],\"yaxis\":\"y\",\"type\":\"bar\"},{\"alignmentgroup\":\"True\",\"hovertemplate\":\"Energy Source=%{x}<br>Year=2002<br>Total Generated=%{y}<extra></extra>\",\"legendgroup\":\"Other\",\"marker\":{\"color\":\"#FF6692\",\"pattern\":{\"shape\":\"\"}},\"name\":\"Other\",\"offsetgroup\":\"Other\",\"orientation\":\"v\",\"showlegend\":true,\"textposition\":\"auto\",\"x\":[\"Other\"],\"xaxis\":\"x\",\"y\":[13526916.0],\"yaxis\":\"y\",\"type\":\"bar\"}],\"name\":\"2002\"},{\"data\":[{\"alignmentgroup\":\"True\",\"hovertemplate\":\"Energy Source=%{x}<br>Year=2003<br>Total Generated=%{y}<extra></extra>\",\"legendgroup\":\"Coal\",\"marker\":{\"color\":\"#636efa\",\"pattern\":{\"shape\":\"\"}},\"name\":\"Coal\",\"offsetgroup\":\"Coal\",\"orientation\":\"v\",\"showlegend\":true,\"textposition\":\"auto\",\"x\":[\"Coal\"],\"xaxis\":\"x\",\"y\":[1973736746.0],\"yaxis\":\"y\",\"type\":\"bar\"},{\"alignmentgroup\":\"True\",\"hovertemplate\":\"Energy Source=%{x}<br>Year=2003<br>Total Generated=%{y}<extra></extra>\",\"legendgroup\":\"Natural Gas\",\"marker\":{\"color\":\"#EF553B\",\"pattern\":{\"shape\":\"\"}},\"name\":\"Natural Gas\",\"offsetgroup\":\"Natural Gas\",\"orientation\":\"v\",\"showlegend\":true,\"textposition\":\"auto\",\"x\":[\"Natural Gas\"],\"xaxis\":\"x\",\"y\":[649907551.0],\"yaxis\":\"y\",\"type\":\"bar\"},{\"alignmentgroup\":\"True\",\"hovertemplate\":\"Energy Source=%{x}<br>Year=2003<br>Total Generated=%{y}<extra></extra>\",\"legendgroup\":\"Nuclear\",\"marker\":{\"color\":\"#00cc96\",\"pattern\":{\"shape\":\"\"}},\"name\":\"Nuclear\",\"offsetgroup\":\"Nuclear\",\"orientation\":\"v\",\"showlegend\":true,\"textposition\":\"auto\",\"x\":[\"Nuclear\"],\"xaxis\":\"x\",\"y\":[763732695.0],\"yaxis\":\"y\",\"type\":\"bar\"},{\"alignmentgroup\":\"True\",\"hovertemplate\":\"Energy Source=%{x}<br>Year=2003<br>Total Generated=%{y}<extra></extra>\",\"legendgroup\":\"Renewable energy\",\"marker\":{\"color\":\"#ab63fa\",\"pattern\":{\"shape\":\"\"}},\"name\":\"Renewable energy\",\"offsetgroup\":\"Renewable energy\",\"orientation\":\"v\",\"showlegend\":true,\"textposition\":\"auto\",\"x\":[\"Renewable energy\"],\"xaxis\":\"x\",\"y\":[346758061.0],\"yaxis\":\"y\",\"type\":\"bar\"},{\"alignmentgroup\":\"True\",\"hovertemplate\":\"Energy Source=%{x}<br>Year=2003<br>Total Generated=%{y}<extra></extra>\",\"legendgroup\":\"Petroleum\",\"marker\":{\"color\":\"#FFA15A\",\"pattern\":{\"shape\":\"\"}},\"name\":\"Petroleum\",\"offsetgroup\":\"Petroleum\",\"orientation\":\"v\",\"showlegend\":true,\"textposition\":\"auto\",\"x\":[\"Petroleum\"],\"xaxis\":\"x\",\"y\":[119405639.0],\"yaxis\":\"y\",\"type\":\"bar\"},{\"alignmentgroup\":\"True\",\"hovertemplate\":\"Energy Source=%{x}<br>Year=2003<br>Total Generated=%{y}<extra></extra>\",\"legendgroup\":\"Other Gases\",\"marker\":{\"color\":\"#19d3f3\",\"pattern\":{\"shape\":\"\"}},\"name\":\"Other Gases\",\"offsetgroup\":\"Other Gases\",\"orientation\":\"v\",\"showlegend\":true,\"textposition\":\"auto\",\"x\":[\"Other Gases\"],\"xaxis\":\"x\",\"y\":[15600026.0],\"yaxis\":\"y\",\"type\":\"bar\"},{\"alignmentgroup\":\"True\",\"hovertemplate\":\"Energy Source=%{x}<br>Year=2003<br>Total Generated=%{y}<extra></extra>\",\"legendgroup\":\"Other\",\"marker\":{\"color\":\"#FF6692\",\"pattern\":{\"shape\":\"\"}},\"name\":\"Other\",\"offsetgroup\":\"Other\",\"orientation\":\"v\",\"showlegend\":true,\"textposition\":\"auto\",\"x\":[\"Other\"],\"xaxis\":\"x\",\"y\":[14044522.0],\"yaxis\":\"y\",\"type\":\"bar\"}],\"name\":\"2003\"},{\"data\":[{\"alignmentgroup\":\"True\",\"hovertemplate\":\"Energy Source=%{x}<br>Year=2004<br>Total Generated=%{y}<extra></extra>\",\"legendgroup\":\"Coal\",\"marker\":{\"color\":\"#636efa\",\"pattern\":{\"shape\":\"\"}},\"name\":\"Coal\",\"offsetgroup\":\"Coal\",\"orientation\":\"v\",\"showlegend\":true,\"textposition\":\"auto\",\"x\":[\"Coal\"],\"xaxis\":\"x\",\"y\":[1978300559.0],\"yaxis\":\"y\",\"type\":\"bar\"},{\"alignmentgroup\":\"True\",\"hovertemplate\":\"Energy Source=%{x}<br>Year=2004<br>Total Generated=%{y}<extra></extra>\",\"legendgroup\":\"Natural Gas\",\"marker\":{\"color\":\"#EF553B\",\"pattern\":{\"shape\":\"\"}},\"name\":\"Natural Gas\",\"offsetgroup\":\"Natural Gas\",\"orientation\":\"v\",\"showlegend\":true,\"textposition\":\"auto\",\"x\":[\"Natural Gas\"],\"xaxis\":\"x\",\"y\":[710100037.0],\"yaxis\":\"y\",\"type\":\"bar\"},{\"alignmentgroup\":\"True\",\"hovertemplate\":\"Energy Source=%{x}<br>Year=2004<br>Total Generated=%{y}<extra></extra>\",\"legendgroup\":\"Nuclear\",\"marker\":{\"color\":\"#00cc96\",\"pattern\":{\"shape\":\"\"}},\"name\":\"Nuclear\",\"offsetgroup\":\"Nuclear\",\"orientation\":\"v\",\"showlegend\":true,\"textposition\":\"auto\",\"x\":[\"Nuclear\"],\"xaxis\":\"x\",\"y\":[788528387.0],\"yaxis\":\"y\",\"type\":\"bar\"},{\"alignmentgroup\":\"True\",\"hovertemplate\":\"Energy Source=%{x}<br>Year=2004<br>Total Generated=%{y}<extra></extra>\",\"legendgroup\":\"Renewable energy\",\"marker\":{\"color\":\"#ab63fa\",\"pattern\":{\"shape\":\"\"}},\"name\":\"Renewable energy\",\"offsetgroup\":\"Renewable energy\",\"orientation\":\"v\",\"showlegend\":true,\"textposition\":\"auto\",\"x\":[\"Renewable energy\"],\"xaxis\":\"x\",\"y\":[342996480.0],\"yaxis\":\"y\",\"type\":\"bar\"},{\"alignmentgroup\":\"True\",\"hovertemplate\":\"Energy Source=%{x}<br>Year=2004<br>Total Generated=%{y}<extra></extra>\",\"legendgroup\":\"Petroleum\",\"marker\":{\"color\":\"#FFA15A\",\"pattern\":{\"shape\":\"\"}},\"name\":\"Petroleum\",\"offsetgroup\":\"Petroleum\",\"orientation\":\"v\",\"showlegend\":true,\"textposition\":\"auto\",\"x\":[\"Petroleum\"],\"xaxis\":\"x\",\"y\":[121145083.0],\"yaxis\":\"y\",\"type\":\"bar\"},{\"alignmentgroup\":\"True\",\"hovertemplate\":\"Energy Source=%{x}<br>Year=2004<br>Total Generated=%{y}<extra></extra>\",\"legendgroup\":\"Other Gases\",\"marker\":{\"color\":\"#19d3f3\",\"pattern\":{\"shape\":\"\"}},\"name\":\"Other Gases\",\"offsetgroup\":\"Other Gases\",\"orientation\":\"v\",\"showlegend\":true,\"textposition\":\"auto\",\"x\":[\"Other Gases\"],\"xaxis\":\"x\",\"y\":[15252421.0],\"yaxis\":\"y\",\"type\":\"bar\"},{\"alignmentgroup\":\"True\",\"hovertemplate\":\"Energy Source=%{x}<br>Year=2004<br>Total Generated=%{y}<extra></extra>\",\"legendgroup\":\"Other\",\"marker\":{\"color\":\"#FF6692\",\"pattern\":{\"shape\":\"\"}},\"name\":\"Other\",\"offsetgroup\":\"Other\",\"orientation\":\"v\",\"showlegend\":true,\"textposition\":\"auto\",\"x\":[\"Other\"],\"xaxis\":\"x\",\"y\":[14232431.0],\"yaxis\":\"y\",\"type\":\"bar\"}],\"name\":\"2004\"},{\"data\":[{\"alignmentgroup\":\"True\",\"hovertemplate\":\"Energy Source=%{x}<br>Year=2005<br>Total Generated=%{y}<extra></extra>\",\"legendgroup\":\"Coal\",\"marker\":{\"color\":\"#636efa\",\"pattern\":{\"shape\":\"\"}},\"name\":\"Coal\",\"offsetgroup\":\"Coal\",\"orientation\":\"v\",\"showlegend\":true,\"textposition\":\"auto\",\"x\":[\"Coal\"],\"xaxis\":\"x\",\"y\":[2012873053.0],\"yaxis\":\"y\",\"type\":\"bar\"},{\"alignmentgroup\":\"True\",\"hovertemplate\":\"Energy Source=%{x}<br>Year=2005<br>Total Generated=%{y}<extra></extra>\",\"legendgroup\":\"Natural Gas\",\"marker\":{\"color\":\"#EF553B\",\"pattern\":{\"shape\":\"\"}},\"name\":\"Natural Gas\",\"offsetgroup\":\"Natural Gas\",\"orientation\":\"v\",\"showlegend\":true,\"textposition\":\"auto\",\"x\":[\"Natural Gas\"],\"xaxis\":\"x\",\"y\":[760960257.0],\"yaxis\":\"y\",\"type\":\"bar\"},{\"alignmentgroup\":\"True\",\"hovertemplate\":\"Energy Source=%{x}<br>Year=2005<br>Total Generated=%{y}<extra></extra>\",\"legendgroup\":\"Nuclear\",\"marker\":{\"color\":\"#00cc96\",\"pattern\":{\"shape\":\"\"}},\"name\":\"Nuclear\",\"offsetgroup\":\"Nuclear\",\"orientation\":\"v\",\"showlegend\":true,\"textposition\":\"auto\",\"x\":[\"Nuclear\"],\"xaxis\":\"x\",\"y\":[781986365.0],\"yaxis\":\"y\",\"type\":\"bar\"},{\"alignmentgroup\":\"True\",\"hovertemplate\":\"Energy Source=%{x}<br>Year=2005<br>Total Generated=%{y}<extra></extra>\",\"legendgroup\":\"Renewable energy\",\"marker\":{\"color\":\"#ab63fa\",\"pattern\":{\"shape\":\"\"}},\"name\":\"Renewable energy\",\"offsetgroup\":\"Renewable energy\",\"orientation\":\"v\",\"showlegend\":true,\"textposition\":\"auto\",\"x\":[\"Renewable energy\"],\"xaxis\":\"x\",\"y\":[351092887.0],\"yaxis\":\"y\",\"type\":\"bar\"},{\"alignmentgroup\":\"True\",\"hovertemplate\":\"Energy Source=%{x}<br>Year=2005<br>Total Generated=%{y}<extra></extra>\",\"legendgroup\":\"Petroleum\",\"marker\":{\"color\":\"#FFA15A\",\"pattern\":{\"shape\":\"\"}},\"name\":\"Petroleum\",\"offsetgroup\":\"Petroleum\",\"orientation\":\"v\",\"showlegend\":true,\"textposition\":\"auto\",\"x\":[\"Petroleum\"],\"xaxis\":\"x\",\"y\":[122225034.0],\"yaxis\":\"y\",\"type\":\"bar\"},{\"alignmentgroup\":\"True\",\"hovertemplate\":\"Energy Source=%{x}<br>Year=2005<br>Total Generated=%{y}<extra></extra>\",\"legendgroup\":\"Other Gases\",\"marker\":{\"color\":\"#19d3f3\",\"pattern\":{\"shape\":\"\"}},\"name\":\"Other Gases\",\"offsetgroup\":\"Other Gases\",\"orientation\":\"v\",\"showlegend\":true,\"textposition\":\"auto\",\"x\":[\"Other Gases\"],\"xaxis\":\"x\",\"y\":[13464151.0],\"yaxis\":\"y\",\"type\":\"bar\"},{\"alignmentgroup\":\"True\",\"hovertemplate\":\"Energy Source=%{x}<br>Year=2005<br>Total Generated=%{y}<extra></extra>\",\"legendgroup\":\"Other\",\"marker\":{\"color\":\"#FF6692\",\"pattern\":{\"shape\":\"\"}},\"name\":\"Other\",\"offsetgroup\":\"Other\",\"orientation\":\"v\",\"showlegend\":true,\"textposition\":\"auto\",\"x\":[\"Other\"],\"xaxis\":\"x\",\"y\":[12821041.0],\"yaxis\":\"y\",\"type\":\"bar\"}],\"name\":\"2005\"},{\"data\":[{\"alignmentgroup\":\"True\",\"hovertemplate\":\"Energy Source=%{x}<br>Year=2006<br>Total Generated=%{y}<extra></extra>\",\"legendgroup\":\"Coal\",\"marker\":{\"color\":\"#636efa\",\"pattern\":{\"shape\":\"\"}},\"name\":\"Coal\",\"offsetgroup\":\"Coal\",\"orientation\":\"v\",\"showlegend\":true,\"textposition\":\"auto\",\"x\":[\"Coal\"],\"xaxis\":\"x\",\"y\":[1990511140.0],\"yaxis\":\"y\",\"type\":\"bar\"},{\"alignmentgroup\":\"True\",\"hovertemplate\":\"Energy Source=%{x}<br>Year=2006<br>Total Generated=%{y}<extra></extra>\",\"legendgroup\":\"Natural Gas\",\"marker\":{\"color\":\"#EF553B\",\"pattern\":{\"shape\":\"\"}},\"name\":\"Natural Gas\",\"offsetgroup\":\"Natural Gas\",\"orientation\":\"v\",\"showlegend\":true,\"textposition\":\"auto\",\"x\":[\"Natural Gas\"],\"xaxis\":\"x\",\"y\":[816440783.0],\"yaxis\":\"y\",\"type\":\"bar\"},{\"alignmentgroup\":\"True\",\"hovertemplate\":\"Energy Source=%{x}<br>Year=2006<br>Total Generated=%{y}<extra></extra>\",\"legendgroup\":\"Nuclear\",\"marker\":{\"color\":\"#00cc96\",\"pattern\":{\"shape\":\"\"}},\"name\":\"Nuclear\",\"offsetgroup\":\"Nuclear\",\"orientation\":\"v\",\"showlegend\":true,\"textposition\":\"auto\",\"x\":[\"Nuclear\"],\"xaxis\":\"x\",\"y\":[787218636.0],\"yaxis\":\"y\",\"type\":\"bar\"},{\"alignmentgroup\":\"True\",\"hovertemplate\":\"Energy Source=%{x}<br>Year=2006<br>Total Generated=%{y}<extra></extra>\",\"legendgroup\":\"Renewable energy\",\"marker\":{\"color\":\"#ab63fa\",\"pattern\":{\"shape\":\"\"}},\"name\":\"Renewable energy\",\"offsetgroup\":\"Renewable energy\",\"orientation\":\"v\",\"showlegend\":true,\"textposition\":\"auto\",\"x\":[\"Renewable energy\"],\"xaxis\":\"x\",\"y\":[379214086.0],\"yaxis\":\"y\",\"type\":\"bar\"},{\"alignmentgroup\":\"True\",\"hovertemplate\":\"Energy Source=%{x}<br>Year=2006<br>Total Generated=%{y}<extra></extra>\",\"legendgroup\":\"Petroleum\",\"marker\":{\"color\":\"#FFA15A\",\"pattern\":{\"shape\":\"\"}},\"name\":\"Petroleum\",\"offsetgroup\":\"Petroleum\",\"orientation\":\"v\",\"showlegend\":true,\"textposition\":\"auto\",\"x\":[\"Petroleum\"],\"xaxis\":\"x\",\"y\":[64166415.0],\"yaxis\":\"y\",\"type\":\"bar\"},{\"alignmentgroup\":\"True\",\"hovertemplate\":\"Energy Source=%{x}<br>Year=2006<br>Total Generated=%{y}<extra></extra>\",\"legendgroup\":\"Other Gases\",\"marker\":{\"color\":\"#19d3f3\",\"pattern\":{\"shape\":\"\"}},\"name\":\"Other Gases\",\"offsetgroup\":\"Other Gases\",\"orientation\":\"v\",\"showlegend\":true,\"textposition\":\"auto\",\"x\":[\"Other Gases\"],\"xaxis\":\"x\",\"y\":[14176800.0],\"yaxis\":\"y\",\"type\":\"bar\"},{\"alignmentgroup\":\"True\",\"hovertemplate\":\"Energy Source=%{x}<br>Year=2006<br>Total Generated=%{y}<extra></extra>\",\"legendgroup\":\"Other\",\"marker\":{\"color\":\"#FF6692\",\"pattern\":{\"shape\":\"\"}},\"name\":\"Other\",\"offsetgroup\":\"Other\",\"orientation\":\"v\",\"showlegend\":true,\"textposition\":\"auto\",\"x\":[\"Other\"],\"xaxis\":\"x\",\"y\":[12974403.0],\"yaxis\":\"y\",\"type\":\"bar\"}],\"name\":\"2006\"},{\"data\":[{\"alignmentgroup\":\"True\",\"hovertemplate\":\"Energy Source=%{x}<br>Year=2007<br>Total Generated=%{y}<extra></extra>\",\"legendgroup\":\"Coal\",\"marker\":{\"color\":\"#636efa\",\"pattern\":{\"shape\":\"\"}},\"name\":\"Coal\",\"offsetgroup\":\"Coal\",\"orientation\":\"v\",\"showlegend\":true,\"textposition\":\"auto\",\"x\":[\"Coal\"],\"xaxis\":\"x\",\"y\":[2016455587.0],\"yaxis\":\"y\",\"type\":\"bar\"},{\"alignmentgroup\":\"True\",\"hovertemplate\":\"Energy Source=%{x}<br>Year=2007<br>Total Generated=%{y}<extra></extra>\",\"legendgroup\":\"Natural Gas\",\"marker\":{\"color\":\"#EF553B\",\"pattern\":{\"shape\":\"\"}},\"name\":\"Natural Gas\",\"offsetgroup\":\"Natural Gas\",\"orientation\":\"v\",\"showlegend\":true,\"textposition\":\"auto\",\"x\":[\"Natural Gas\"],\"xaxis\":\"x\",\"y\":[896589798.0],\"yaxis\":\"y\",\"type\":\"bar\"},{\"alignmentgroup\":\"True\",\"hovertemplate\":\"Energy Source=%{x}<br>Year=2007<br>Total Generated=%{y}<extra></extra>\",\"legendgroup\":\"Nuclear\",\"marker\":{\"color\":\"#00cc96\",\"pattern\":{\"shape\":\"\"}},\"name\":\"Nuclear\",\"offsetgroup\":\"Nuclear\",\"orientation\":\"v\",\"showlegend\":true,\"textposition\":\"auto\",\"x\":[\"Nuclear\"],\"xaxis\":\"x\",\"y\":[806424753.0],\"yaxis\":\"y\",\"type\":\"bar\"},{\"alignmentgroup\":\"True\",\"hovertemplate\":\"Energy Source=%{x}<br>Year=2007<br>Total Generated=%{y}<extra></extra>\",\"legendgroup\":\"Renewable energy\",\"marker\":{\"color\":\"#ab63fa\",\"pattern\":{\"shape\":\"\"}},\"name\":\"Renewable energy\",\"offsetgroup\":\"Renewable energy\",\"orientation\":\"v\",\"showlegend\":true,\"textposition\":\"auto\",\"x\":[\"Renewable energy\"],\"xaxis\":\"x\",\"y\":[345851148.0],\"yaxis\":\"y\",\"type\":\"bar\"},{\"alignmentgroup\":\"True\",\"hovertemplate\":\"Energy Source=%{x}<br>Year=2007<br>Total Generated=%{y}<extra></extra>\",\"legendgroup\":\"Petroleum\",\"marker\":{\"color\":\"#FFA15A\",\"pattern\":{\"shape\":\"\"}},\"name\":\"Petroleum\",\"offsetgroup\":\"Petroleum\",\"orientation\":\"v\",\"showlegend\":true,\"textposition\":\"auto\",\"x\":[\"Petroleum\"],\"xaxis\":\"x\",\"y\":[65738967.0],\"yaxis\":\"y\",\"type\":\"bar\"},{\"alignmentgroup\":\"True\",\"hovertemplate\":\"Energy Source=%{x}<br>Year=2007<br>Total Generated=%{y}<extra></extra>\",\"legendgroup\":\"Other Gases\",\"marker\":{\"color\":\"#19d3f3\",\"pattern\":{\"shape\":\"\"}},\"name\":\"Other Gases\",\"offsetgroup\":\"Other Gases\",\"orientation\":\"v\",\"showlegend\":true,\"textposition\":\"auto\",\"x\":[\"Other Gases\"],\"xaxis\":\"x\",\"y\":[13453352.0],\"yaxis\":\"y\",\"type\":\"bar\"},{\"alignmentgroup\":\"True\",\"hovertemplate\":\"Energy Source=%{x}<br>Year=2007<br>Total Generated=%{y}<extra></extra>\",\"legendgroup\":\"Other\",\"marker\":{\"color\":\"#FF6692\",\"pattern\":{\"shape\":\"\"}},\"name\":\"Other\",\"offsetgroup\":\"Other\",\"orientation\":\"v\",\"showlegend\":true,\"textposition\":\"auto\",\"x\":[\"Other\"],\"xaxis\":\"x\",\"y\":[12231148.0],\"yaxis\":\"y\",\"type\":\"bar\"}],\"name\":\"2007\"},{\"data\":[{\"alignmentgroup\":\"True\",\"hovertemplate\":\"Energy Source=%{x}<br>Year=2008<br>Total Generated=%{y}<extra></extra>\",\"legendgroup\":\"Coal\",\"marker\":{\"color\":\"#636efa\",\"pattern\":{\"shape\":\"\"}},\"name\":\"Coal\",\"offsetgroup\":\"Coal\",\"orientation\":\"v\",\"showlegend\":true,\"textposition\":\"auto\",\"x\":[\"Coal\"],\"xaxis\":\"x\",\"y\":[1985801252.0],\"yaxis\":\"y\",\"type\":\"bar\"},{\"alignmentgroup\":\"True\",\"hovertemplate\":\"Energy Source=%{x}<br>Year=2008<br>Total Generated=%{y}<extra></extra>\",\"legendgroup\":\"Natural Gas\",\"marker\":{\"color\":\"#EF553B\",\"pattern\":{\"shape\":\"\"}},\"name\":\"Natural Gas\",\"offsetgroup\":\"Natural Gas\",\"orientation\":\"v\",\"showlegend\":true,\"textposition\":\"auto\",\"x\":[\"Natural Gas\"],\"xaxis\":\"x\",\"y\":[882980635.0],\"yaxis\":\"y\",\"type\":\"bar\"},{\"alignmentgroup\":\"True\",\"hovertemplate\":\"Energy Source=%{x}<br>Year=2008<br>Total Generated=%{y}<extra></extra>\",\"legendgroup\":\"Nuclear\",\"marker\":{\"color\":\"#00cc96\",\"pattern\":{\"shape\":\"\"}},\"name\":\"Nuclear\",\"offsetgroup\":\"Nuclear\",\"orientation\":\"v\",\"showlegend\":true,\"textposition\":\"auto\",\"x\":[\"Nuclear\"],\"xaxis\":\"x\",\"y\":[806208435.0],\"yaxis\":\"y\",\"type\":\"bar\"},{\"alignmentgroup\":\"True\",\"hovertemplate\":\"Energy Source=%{x}<br>Year=2008<br>Total Generated=%{y}<extra></extra>\",\"legendgroup\":\"Renewable energy\",\"marker\":{\"color\":\"#ab63fa\",\"pattern\":{\"shape\":\"\"}},\"name\":\"Renewable energy\",\"offsetgroup\":\"Renewable energy\",\"orientation\":\"v\",\"showlegend\":true,\"textposition\":\"auto\",\"x\":[\"Renewable energy\"],\"xaxis\":\"x\",\"y\":[374644348.0],\"yaxis\":\"y\",\"type\":\"bar\"},{\"alignmentgroup\":\"True\",\"hovertemplate\":\"Energy Source=%{x}<br>Year=2008<br>Total Generated=%{y}<extra></extra>\",\"legendgroup\":\"Petroleum\",\"marker\":{\"color\":\"#FFA15A\",\"pattern\":{\"shape\":\"\"}},\"name\":\"Petroleum\",\"offsetgroup\":\"Petroleum\",\"orientation\":\"v\",\"showlegend\":true,\"textposition\":\"auto\",\"x\":[\"Petroleum\"],\"xaxis\":\"x\",\"y\":[46242610.0],\"yaxis\":\"y\",\"type\":\"bar\"},{\"alignmentgroup\":\"True\",\"hovertemplate\":\"Energy Source=%{x}<br>Year=2008<br>Total Generated=%{y}<extra></extra>\",\"legendgroup\":\"Other Gases\",\"marker\":{\"color\":\"#19d3f3\",\"pattern\":{\"shape\":\"\"}},\"name\":\"Other Gases\",\"offsetgroup\":\"Other Gases\",\"orientation\":\"v\",\"showlegend\":true,\"textposition\":\"auto\",\"x\":[\"Other Gases\"],\"xaxis\":\"x\",\"y\":[11706870.0],\"yaxis\":\"y\",\"type\":\"bar\"},{\"alignmentgroup\":\"True\",\"hovertemplate\":\"Energy Source=%{x}<br>Year=2008<br>Total Generated=%{y}<extra></extra>\",\"legendgroup\":\"Other\",\"marker\":{\"color\":\"#FF6692\",\"pattern\":{\"shape\":\"\"}},\"name\":\"Other\",\"offsetgroup\":\"Other\",\"orientation\":\"v\",\"showlegend\":true,\"textposition\":\"auto\",\"x\":[\"Other\"],\"xaxis\":\"x\",\"y\":[11803654.0],\"yaxis\":\"y\",\"type\":\"bar\"}],\"name\":\"2008\"},{\"data\":[{\"alignmentgroup\":\"True\",\"hovertemplate\":\"Energy Source=%{x}<br>Year=2009<br>Total Generated=%{y}<extra></extra>\",\"legendgroup\":\"Coal\",\"marker\":{\"color\":\"#636efa\",\"pattern\":{\"shape\":\"\"}},\"name\":\"Coal\",\"offsetgroup\":\"Coal\",\"orientation\":\"v\",\"showlegend\":true,\"textposition\":\"auto\",\"x\":[\"Coal\"],\"xaxis\":\"x\",\"y\":[1755904259.0],\"yaxis\":\"y\",\"type\":\"bar\"},{\"alignmentgroup\":\"True\",\"hovertemplate\":\"Energy Source=%{x}<br>Year=2009<br>Total Generated=%{y}<extra></extra>\",\"legendgroup\":\"Natural Gas\",\"marker\":{\"color\":\"#EF553B\",\"pattern\":{\"shape\":\"\"}},\"name\":\"Natural Gas\",\"offsetgroup\":\"Natural Gas\",\"orientation\":\"v\",\"showlegend\":true,\"textposition\":\"auto\",\"x\":[\"Natural Gas\"],\"xaxis\":\"x\",\"y\":[920978685.0],\"yaxis\":\"y\",\"type\":\"bar\"},{\"alignmentgroup\":\"True\",\"hovertemplate\":\"Energy Source=%{x}<br>Year=2009<br>Total Generated=%{y}<extra></extra>\",\"legendgroup\":\"Nuclear\",\"marker\":{\"color\":\"#00cc96\",\"pattern\":{\"shape\":\"\"}},\"name\":\"Nuclear\",\"offsetgroup\":\"Nuclear\",\"orientation\":\"v\",\"showlegend\":true,\"textposition\":\"auto\",\"x\":[\"Nuclear\"],\"xaxis\":\"x\",\"y\":[798854585.0],\"yaxis\":\"y\",\"type\":\"bar\"},{\"alignmentgroup\":\"True\",\"hovertemplate\":\"Energy Source=%{x}<br>Year=2009<br>Total Generated=%{y}<extra></extra>\",\"legendgroup\":\"Renewable energy\",\"marker\":{\"color\":\"#ab63fa\",\"pattern\":{\"shape\":\"\"}},\"name\":\"Renewable energy\",\"offsetgroup\":\"Renewable energy\",\"orientation\":\"v\",\"showlegend\":true,\"textposition\":\"auto\",\"x\":[\"Renewable energy\"],\"xaxis\":\"x\",\"y\":[413096483.0],\"yaxis\":\"y\",\"type\":\"bar\"},{\"alignmentgroup\":\"True\",\"hovertemplate\":\"Energy Source=%{x}<br>Year=2009<br>Total Generated=%{y}<extra></extra>\",\"legendgroup\":\"Petroleum\",\"marker\":{\"color\":\"#FFA15A\",\"pattern\":{\"shape\":\"\"}},\"name\":\"Petroleum\",\"offsetgroup\":\"Petroleum\",\"orientation\":\"v\",\"showlegend\":true,\"textposition\":\"auto\",\"x\":[\"Petroleum\"],\"xaxis\":\"x\",\"y\":[38936507.0],\"yaxis\":\"y\",\"type\":\"bar\"},{\"alignmentgroup\":\"True\",\"hovertemplate\":\"Energy Source=%{x}<br>Year=2009<br>Total Generated=%{y}<extra></extra>\",\"legendgroup\":\"Other Gases\",\"marker\":{\"color\":\"#19d3f3\",\"pattern\":{\"shape\":\"\"}},\"name\":\"Other Gases\",\"offsetgroup\":\"Other Gases\",\"orientation\":\"v\",\"showlegend\":true,\"textposition\":\"auto\",\"x\":[\"Other Gases\"],\"xaxis\":\"x\",\"y\":[10632113.0],\"yaxis\":\"y\",\"type\":\"bar\"},{\"alignmentgroup\":\"True\",\"hovertemplate\":\"Energy Source=%{x}<br>Year=2009<br>Total Generated=%{y}<extra></extra>\",\"legendgroup\":\"Other\",\"marker\":{\"color\":\"#FF6692\",\"pattern\":{\"shape\":\"\"}},\"name\":\"Other\",\"offsetgroup\":\"Other\",\"orientation\":\"v\",\"showlegend\":true,\"textposition\":\"auto\",\"x\":[\"Other\"],\"xaxis\":\"x\",\"y\":[11928337.0],\"yaxis\":\"y\",\"type\":\"bar\"}],\"name\":\"2009\"},{\"data\":[{\"alignmentgroup\":\"True\",\"hovertemplate\":\"Energy Source=%{x}<br>Year=2010<br>Total Generated=%{y}<extra></extra>\",\"legendgroup\":\"Coal\",\"marker\":{\"color\":\"#636efa\",\"pattern\":{\"shape\":\"\"}},\"name\":\"Coal\",\"offsetgroup\":\"Coal\",\"orientation\":\"v\",\"showlegend\":true,\"textposition\":\"auto\",\"x\":[\"Coal\"],\"xaxis\":\"x\",\"y\":[1847290262.0],\"yaxis\":\"y\",\"type\":\"bar\"},{\"alignmentgroup\":\"True\",\"hovertemplate\":\"Energy Source=%{x}<br>Year=2010<br>Total Generated=%{y}<extra></extra>\",\"legendgroup\":\"Natural Gas\",\"marker\":{\"color\":\"#EF553B\",\"pattern\":{\"shape\":\"\"}},\"name\":\"Natural Gas\",\"offsetgroup\":\"Natural Gas\",\"orientation\":\"v\",\"showlegend\":true,\"textposition\":\"auto\",\"x\":[\"Natural Gas\"],\"xaxis\":\"x\",\"y\":[987697270.0],\"yaxis\":\"y\",\"type\":\"bar\"},{\"alignmentgroup\":\"True\",\"hovertemplate\":\"Energy Source=%{x}<br>Year=2010<br>Total Generated=%{y}<extra></extra>\",\"legendgroup\":\"Nuclear\",\"marker\":{\"color\":\"#00cc96\",\"pattern\":{\"shape\":\"\"}},\"name\":\"Nuclear\",\"offsetgroup\":\"Nuclear\",\"orientation\":\"v\",\"showlegend\":true,\"textposition\":\"auto\",\"x\":[\"Nuclear\"],\"xaxis\":\"x\",\"y\":[806968301.0],\"yaxis\":\"y\",\"type\":\"bar\"},{\"alignmentgroup\":\"True\",\"hovertemplate\":\"Energy Source=%{x}<br>Year=2010<br>Total Generated=%{y}<extra></extra>\",\"legendgroup\":\"Renewable energy\",\"marker\":{\"color\":\"#ab63fa\",\"pattern\":{\"shape\":\"\"}},\"name\":\"Renewable energy\",\"offsetgroup\":\"Renewable energy\",\"orientation\":\"v\",\"showlegend\":true,\"textposition\":\"auto\",\"x\":[\"Renewable energy\"],\"xaxis\":\"x\",\"y\":[421874987.0],\"yaxis\":\"y\",\"type\":\"bar\"},{\"alignmentgroup\":\"True\",\"hovertemplate\":\"Energy Source=%{x}<br>Year=2010<br>Total Generated=%{y}<extra></extra>\",\"legendgroup\":\"Petroleum\",\"marker\":{\"color\":\"#FFA15A\",\"pattern\":{\"shape\":\"\"}},\"name\":\"Petroleum\",\"offsetgroup\":\"Petroleum\",\"orientation\":\"v\",\"showlegend\":true,\"textposition\":\"auto\",\"x\":[\"Petroleum\"],\"xaxis\":\"x\",\"y\":[37061009.0],\"yaxis\":\"y\",\"type\":\"bar\"},{\"alignmentgroup\":\"True\",\"hovertemplate\":\"Energy Source=%{x}<br>Year=2010<br>Total Generated=%{y}<extra></extra>\",\"legendgroup\":\"Other Gases\",\"marker\":{\"color\":\"#19d3f3\",\"pattern\":{\"shape\":\"\"}},\"name\":\"Other Gases\",\"offsetgroup\":\"Other Gases\",\"orientation\":\"v\",\"showlegend\":true,\"textposition\":\"auto\",\"x\":[\"Other Gases\"],\"xaxis\":\"x\",\"y\":[11312795.0],\"yaxis\":\"y\",\"type\":\"bar\"},{\"alignmentgroup\":\"True\",\"hovertemplate\":\"Energy Source=%{x}<br>Year=2010<br>Total Generated=%{y}<extra></extra>\",\"legendgroup\":\"Other\",\"marker\":{\"color\":\"#FF6692\",\"pattern\":{\"shape\":\"\"}},\"name\":\"Other\",\"offsetgroup\":\"Other\",\"orientation\":\"v\",\"showlegend\":true,\"textposition\":\"auto\",\"x\":[\"Other\"],\"xaxis\":\"x\",\"y\":[12855339.0],\"yaxis\":\"y\",\"type\":\"bar\"}],\"name\":\"2010\"},{\"data\":[{\"alignmentgroup\":\"True\",\"hovertemplate\":\"Energy Source=%{x}<br>Year=2011<br>Total Generated=%{y}<extra></extra>\",\"legendgroup\":\"Coal\",\"marker\":{\"color\":\"#636efa\",\"pattern\":{\"shape\":\"\"}},\"name\":\"Coal\",\"offsetgroup\":\"Coal\",\"orientation\":\"v\",\"showlegend\":true,\"textposition\":\"auto\",\"x\":[\"Coal\"],\"xaxis\":\"x\",\"y\":[1733430006.1499982],\"yaxis\":\"y\",\"type\":\"bar\"},{\"alignmentgroup\":\"True\",\"hovertemplate\":\"Energy Source=%{x}<br>Year=2011<br>Total Generated=%{y}<extra></extra>\",\"legendgroup\":\"Natural Gas\",\"marker\":{\"color\":\"#EF553B\",\"pattern\":{\"shape\":\"\"}},\"name\":\"Natural Gas\",\"offsetgroup\":\"Natural Gas\",\"orientation\":\"v\",\"showlegend\":true,\"textposition\":\"auto\",\"x\":[\"Natural Gas\"],\"xaxis\":\"x\",\"y\":[1013688930.269999],\"yaxis\":\"y\",\"type\":\"bar\"},{\"alignmentgroup\":\"True\",\"hovertemplate\":\"Energy Source=%{x}<br>Year=2011<br>Total Generated=%{y}<extra></extra>\",\"legendgroup\":\"Nuclear\",\"marker\":{\"color\":\"#00cc96\",\"pattern\":{\"shape\":\"\"}},\"name\":\"Nuclear\",\"offsetgroup\":\"Nuclear\",\"orientation\":\"v\",\"showlegend\":true,\"textposition\":\"auto\",\"x\":[\"Nuclear\"],\"xaxis\":\"x\",\"y\":[790204367.0],\"yaxis\":\"y\",\"type\":\"bar\"},{\"alignmentgroup\":\"True\",\"hovertemplate\":\"Energy Source=%{x}<br>Year=2011<br>Total Generated=%{y}<extra></extra>\",\"legendgroup\":\"Renewable energy\",\"marker\":{\"color\":\"#ab63fa\",\"pattern\":{\"shape\":\"\"}},\"name\":\"Renewable energy\",\"offsetgroup\":\"Renewable energy\",\"orientation\":\"v\",\"showlegend\":true,\"textposition\":\"auto\",\"x\":[\"Renewable energy\"],\"xaxis\":\"x\",\"y\":[507478463.6000009],\"yaxis\":\"y\",\"type\":\"bar\"},{\"alignmentgroup\":\"True\",\"hovertemplate\":\"Energy Source=%{x}<br>Year=2011<br>Total Generated=%{y}<extra></extra>\",\"legendgroup\":\"Petroleum\",\"marker\":{\"color\":\"#FFA15A\",\"pattern\":{\"shape\":\"\"}},\"name\":\"Petroleum\",\"offsetgroup\":\"Petroleum\",\"orientation\":\"v\",\"showlegend\":true,\"textposition\":\"auto\",\"x\":[\"Petroleum\"],\"xaxis\":\"x\",\"y\":[30182246.750000022],\"yaxis\":\"y\",\"type\":\"bar\"},{\"alignmentgroup\":\"True\",\"hovertemplate\":\"Energy Source=%{x}<br>Year=2011<br>Total Generated=%{y}<extra></extra>\",\"legendgroup\":\"Other Gases\",\"marker\":{\"color\":\"#19d3f3\",\"pattern\":{\"shape\":\"\"}},\"name\":\"Other Gases\",\"offsetgroup\":\"Other Gases\",\"orientation\":\"v\",\"showlegend\":true,\"textposition\":\"auto\",\"x\":[\"Other Gases\"],\"xaxis\":\"x\",\"y\":[11566200.52],\"yaxis\":\"y\",\"type\":\"bar\"},{\"alignmentgroup\":\"True\",\"hovertemplate\":\"Energy Source=%{x}<br>Year=2011<br>Total Generated=%{y}<extra></extra>\",\"legendgroup\":\"Other\",\"marker\":{\"color\":\"#FF6692\",\"pattern\":{\"shape\":\"\"}},\"name\":\"Other\",\"offsetgroup\":\"Other\",\"orientation\":\"v\",\"showlegend\":true,\"textposition\":\"auto\",\"x\":[\"Other\"],\"xaxis\":\"x\",\"y\":[14105841.91999999],\"yaxis\":\"y\",\"type\":\"bar\"}],\"name\":\"2011\"},{\"data\":[{\"alignmentgroup\":\"True\",\"hovertemplate\":\"Energy Source=%{x}<br>Year=2012<br>Total Generated=%{y}<extra></extra>\",\"legendgroup\":\"Coal\",\"marker\":{\"color\":\"#636efa\",\"pattern\":{\"shape\":\"\"}},\"name\":\"Coal\",\"offsetgroup\":\"Coal\",\"orientation\":\"v\",\"showlegend\":true,\"textposition\":\"auto\",\"x\":[\"Coal\"],\"xaxis\":\"x\",\"y\":[1514042945.3599985],\"yaxis\":\"y\",\"type\":\"bar\"},{\"alignmentgroup\":\"True\",\"hovertemplate\":\"Energy Source=%{x}<br>Year=2012<br>Total Generated=%{y}<extra></extra>\",\"legendgroup\":\"Natural Gas\",\"marker\":{\"color\":\"#EF553B\",\"pattern\":{\"shape\":\"\"}},\"name\":\"Natural Gas\",\"offsetgroup\":\"Natural Gas\",\"orientation\":\"v\",\"showlegend\":true,\"textposition\":\"auto\",\"x\":[\"Natural Gas\"],\"xaxis\":\"x\",\"y\":[1225894176.389999],\"yaxis\":\"y\",\"type\":\"bar\"},{\"alignmentgroup\":\"True\",\"hovertemplate\":\"Energy Source=%{x}<br>Year=2012<br>Total Generated=%{y}<extra></extra>\",\"legendgroup\":\"Nuclear\",\"marker\":{\"color\":\"#00cc96\",\"pattern\":{\"shape\":\"\"}},\"name\":\"Nuclear\",\"offsetgroup\":\"Nuclear\",\"orientation\":\"v\",\"showlegend\":true,\"textposition\":\"auto\",\"x\":[\"Nuclear\"],\"xaxis\":\"x\",\"y\":[769331249.0],\"yaxis\":\"y\",\"type\":\"bar\"},{\"alignmentgroup\":\"True\",\"hovertemplate\":\"Energy Source=%{x}<br>Year=2012<br>Total Generated=%{y}<extra></extra>\",\"legendgroup\":\"Renewable energy\",\"marker\":{\"color\":\"#ab63fa\",\"pattern\":{\"shape\":\"\"}},\"name\":\"Renewable energy\",\"offsetgroup\":\"Renewable energy\",\"orientation\":\"v\",\"showlegend\":true,\"textposition\":\"auto\",\"x\":[\"Renewable energy\"],\"xaxis\":\"x\",\"y\":[489622698.9400005],\"yaxis\":\"y\",\"type\":\"bar\"},{\"alignmentgroup\":\"True\",\"hovertemplate\":\"Energy Source=%{x}<br>Year=2012<br>Total Generated=%{y}<extra></extra>\",\"legendgroup\":\"Petroleum\",\"marker\":{\"color\":\"#FFA15A\",\"pattern\":{\"shape\":\"\"}},\"name\":\"Petroleum\",\"offsetgroup\":\"Petroleum\",\"orientation\":\"v\",\"showlegend\":true,\"textposition\":\"auto\",\"x\":[\"Petroleum\"],\"xaxis\":\"x\",\"y\":[23189542.32999998],\"yaxis\":\"y\",\"type\":\"bar\"},{\"alignmentgroup\":\"True\",\"hovertemplate\":\"Energy Source=%{x}<br>Year=2012<br>Total Generated=%{y}<extra></extra>\",\"legendgroup\":\"Other Gases\",\"marker\":{\"color\":\"#19d3f3\",\"pattern\":{\"shape\":\"\"}},\"name\":\"Other Gases\",\"offsetgroup\":\"Other Gases\",\"orientation\":\"v\",\"showlegend\":true,\"textposition\":\"auto\",\"x\":[\"Other Gases\"],\"xaxis\":\"x\",\"y\":[11897585.239999996],\"yaxis\":\"y\",\"type\":\"bar\"},{\"alignmentgroup\":\"True\",\"hovertemplate\":\"Energy Source=%{x}<br>Year=2012<br>Total Generated=%{y}<extra></extra>\",\"legendgroup\":\"Other\",\"marker\":{\"color\":\"#FF6692\",\"pattern\":{\"shape\":\"\"}},\"name\":\"Other\",\"offsetgroup\":\"Other\",\"orientation\":\"v\",\"showlegend\":true,\"textposition\":\"auto\",\"x\":[\"Other\"],\"xaxis\":\"x\",\"y\":[13787067.17],\"yaxis\":\"y\",\"type\":\"bar\"}],\"name\":\"2012\"},{\"data\":[{\"alignmentgroup\":\"True\",\"hovertemplate\":\"Energy Source=%{x}<br>Year=2013<br>Total Generated=%{y}<extra></extra>\",\"legendgroup\":\"Coal\",\"marker\":{\"color\":\"#636efa\",\"pattern\":{\"shape\":\"\"}},\"name\":\"Coal\",\"offsetgroup\":\"Coal\",\"orientation\":\"v\",\"showlegend\":true,\"textposition\":\"auto\",\"x\":[\"Coal\"],\"xaxis\":\"x\",\"y\":[1581114716.500002],\"yaxis\":\"y\",\"type\":\"bar\"},{\"alignmentgroup\":\"True\",\"hovertemplate\":\"Energy Source=%{x}<br>Year=2013<br>Total Generated=%{y}<extra></extra>\",\"legendgroup\":\"Natural Gas\",\"marker\":{\"color\":\"#EF553B\",\"pattern\":{\"shape\":\"\"}},\"name\":\"Natural Gas\",\"offsetgroup\":\"Natural Gas\",\"orientation\":\"v\",\"showlegend\":true,\"textposition\":\"auto\",\"x\":[\"Natural Gas\"],\"xaxis\":\"x\",\"y\":[1124835560.8100038],\"yaxis\":\"y\",\"type\":\"bar\"},{\"alignmentgroup\":\"True\",\"hovertemplate\":\"Energy Source=%{x}<br>Year=2013<br>Total Generated=%{y}<extra></extra>\",\"legendgroup\":\"Nuclear\",\"marker\":{\"color\":\"#00cc96\",\"pattern\":{\"shape\":\"\"}},\"name\":\"Nuclear\",\"offsetgroup\":\"Nuclear\",\"orientation\":\"v\",\"showlegend\":true,\"textposition\":\"auto\",\"x\":[\"Nuclear\"],\"xaxis\":\"x\",\"y\":[789016473.0],\"yaxis\":\"y\",\"type\":\"bar\"},{\"alignmentgroup\":\"True\",\"hovertemplate\":\"Energy Source=%{x}<br>Year=2013<br>Total Generated=%{y}<extra></extra>\",\"legendgroup\":\"Renewable energy\",\"marker\":{\"color\":\"#ab63fa\",\"pattern\":{\"shape\":\"\"}},\"name\":\"Renewable energy\",\"offsetgroup\":\"Renewable energy\",\"orientation\":\"v\",\"showlegend\":true,\"textposition\":\"auto\",\"x\":[\"Renewable energy\"],\"xaxis\":\"x\",\"y\":[517392418.34999955],\"yaxis\":\"y\",\"type\":\"bar\"},{\"alignmentgroup\":\"True\",\"hovertemplate\":\"Energy Source=%{x}<br>Year=2013<br>Total Generated=%{y}<extra></extra>\",\"legendgroup\":\"Petroleum\",\"marker\":{\"color\":\"#FFA15A\",\"pattern\":{\"shape\":\"\"}},\"name\":\"Petroleum\",\"offsetgroup\":\"Petroleum\",\"orientation\":\"v\",\"showlegend\":true,\"textposition\":\"auto\",\"x\":[\"Petroleum\"],\"xaxis\":\"x\",\"y\":[27164444.79000006],\"yaxis\":\"y\",\"type\":\"bar\"},{\"alignmentgroup\":\"True\",\"hovertemplate\":\"Energy Source=%{x}<br>Year=2013<br>Total Generated=%{y}<extra></extra>\",\"legendgroup\":\"Other Gases\",\"marker\":{\"color\":\"#19d3f3\",\"pattern\":{\"shape\":\"\"}},\"name\":\"Other Gases\",\"offsetgroup\":\"Other Gases\",\"orientation\":\"v\",\"showlegend\":true,\"textposition\":\"auto\",\"x\":[\"Other Gases\"],\"xaxis\":\"x\",\"y\":[12852937.21999999],\"yaxis\":\"y\",\"type\":\"bar\"},{\"alignmentgroup\":\"True\",\"hovertemplate\":\"Energy Source=%{x}<br>Year=2013<br>Total Generated=%{y}<extra></extra>\",\"legendgroup\":\"Other\",\"marker\":{\"color\":\"#FF6692\",\"pattern\":{\"shape\":\"\"}},\"name\":\"Other\",\"offsetgroup\":\"Other\",\"orientation\":\"v\",\"showlegend\":true,\"textposition\":\"auto\",\"x\":[\"Other\"],\"xaxis\":\"x\",\"y\":[13587522.129999977],\"yaxis\":\"y\",\"type\":\"bar\"}],\"name\":\"2013\"},{\"data\":[{\"alignmentgroup\":\"True\",\"hovertemplate\":\"Energy Source=%{x}<br>Year=2014<br>Total Generated=%{y}<extra></extra>\",\"legendgroup\":\"Coal\",\"marker\":{\"color\":\"#636efa\",\"pattern\":{\"shape\":\"\"}},\"name\":\"Coal\",\"offsetgroup\":\"Coal\",\"orientation\":\"v\",\"showlegend\":true,\"textposition\":\"auto\",\"x\":[\"Coal\"],\"xaxis\":\"x\",\"y\":[1585696613.9199986],\"yaxis\":\"y\",\"type\":\"bar\"},{\"alignmentgroup\":\"True\",\"hovertemplate\":\"Energy Source=%{x}<br>Year=2014<br>Total Generated=%{y}<extra></extra>\",\"legendgroup\":\"Natural Gas\",\"marker\":{\"color\":\"#EF553B\",\"pattern\":{\"shape\":\"\"}},\"name\":\"Natural Gas\",\"offsetgroup\":\"Natural Gas\",\"orientation\":\"v\",\"showlegend\":true,\"textposition\":\"auto\",\"x\":[\"Natural Gas\"],\"xaxis\":\"x\",\"y\":[1121927524.1200018],\"yaxis\":\"y\",\"type\":\"bar\"},{\"alignmentgroup\":\"True\",\"hovertemplate\":\"Energy Source=%{x}<br>Year=2014<br>Total Generated=%{y}<extra></extra>\",\"legendgroup\":\"Nuclear\",\"marker\":{\"color\":\"#00cc96\",\"pattern\":{\"shape\":\"\"}},\"name\":\"Nuclear\",\"offsetgroup\":\"Nuclear\",\"orientation\":\"v\",\"showlegend\":true,\"textposition\":\"auto\",\"x\":[\"Nuclear\"],\"xaxis\":\"x\",\"y\":[797067458.0],\"yaxis\":\"y\",\"type\":\"bar\"},{\"alignmentgroup\":\"True\",\"hovertemplate\":\"Energy Source=%{x}<br>Year=2014<br>Total Generated=%{y}<extra></extra>\",\"legendgroup\":\"Renewable energy\",\"marker\":{\"color\":\"#ab63fa\",\"pattern\":{\"shape\":\"\"}},\"name\":\"Renewable energy\",\"offsetgroup\":\"Renewable energy\",\"orientation\":\"v\",\"showlegend\":true,\"textposition\":\"auto\",\"x\":[\"Renewable energy\"],\"xaxis\":\"x\",\"y\":[533600439.4199986],\"yaxis\":\"y\",\"type\":\"bar\"},{\"alignmentgroup\":\"True\",\"hovertemplate\":\"Energy Source=%{x}<br>Year=2014<br>Total Generated=%{y}<extra></extra>\",\"legendgroup\":\"Petroleum\",\"marker\":{\"color\":\"#FFA15A\",\"pattern\":{\"shape\":\"\"}},\"name\":\"Petroleum\",\"offsetgroup\":\"Petroleum\",\"orientation\":\"v\",\"showlegend\":true,\"textposition\":\"auto\",\"x\":[\"Petroleum\"],\"xaxis\":\"x\",\"y\":[30488869.000000037],\"yaxis\":\"y\",\"type\":\"bar\"},{\"alignmentgroup\":\"True\",\"hovertemplate\":\"Energy Source=%{x}<br>Year=2014<br>Total Generated=%{y}<extra></extra>\",\"legendgroup\":\"Other Gases\",\"marker\":{\"color\":\"#19d3f3\",\"pattern\":{\"shape\":\"\"}},\"name\":\"Other Gases\",\"offsetgroup\":\"Other Gases\",\"orientation\":\"v\",\"showlegend\":true,\"textposition\":\"auto\",\"x\":[\"Other Gases\"],\"xaxis\":\"x\",\"y\":[11577838.22],\"yaxis\":\"y\",\"type\":\"bar\"},{\"alignmentgroup\":\"True\",\"hovertemplate\":\"Energy Source=%{x}<br>Year=2014<br>Total Generated=%{y}<extra></extra>\",\"legendgroup\":\"Other\",\"marker\":{\"color\":\"#FF6692\",\"pattern\":{\"shape\":\"\"}},\"name\":\"Other\",\"offsetgroup\":\"Other\",\"orientation\":\"v\",\"showlegend\":true,\"textposition\":\"auto\",\"x\":[\"Other\"],\"xaxis\":\"x\",\"y\":[12575954.159999996],\"yaxis\":\"y\",\"type\":\"bar\"}],\"name\":\"2014\"},{\"data\":[{\"alignmentgroup\":\"True\",\"hovertemplate\":\"Energy Source=%{x}<br>Year=2015<br>Total Generated=%{y}<extra></extra>\",\"legendgroup\":\"Coal\",\"marker\":{\"color\":\"#636efa\",\"pattern\":{\"shape\":\"\"}},\"name\":\"Coal\",\"offsetgroup\":\"Coal\",\"orientation\":\"v\",\"showlegend\":true,\"textposition\":\"auto\",\"x\":[\"Coal\"],\"xaxis\":\"x\",\"y\":[1352398200.0],\"yaxis\":\"y\",\"type\":\"bar\"},{\"alignmentgroup\":\"True\",\"hovertemplate\":\"Energy Source=%{x}<br>Year=2015<br>Total Generated=%{y}<extra></extra>\",\"legendgroup\":\"Natural Gas\",\"marker\":{\"color\":\"#EF553B\",\"pattern\":{\"shape\":\"\"}},\"name\":\"Natural Gas\",\"offsetgroup\":\"Natural Gas\",\"orientation\":\"v\",\"showlegend\":true,\"textposition\":\"auto\",\"x\":[\"Natural Gas\"],\"xaxis\":\"x\",\"y\":[1333482110.0],\"yaxis\":\"y\",\"type\":\"bar\"},{\"alignmentgroup\":\"True\",\"hovertemplate\":\"Energy Source=%{x}<br>Year=2015<br>Total Generated=%{y}<extra></extra>\",\"legendgroup\":\"Nuclear\",\"marker\":{\"color\":\"#00cc96\",\"pattern\":{\"shape\":\"\"}},\"name\":\"Nuclear\",\"offsetgroup\":\"Nuclear\",\"orientation\":\"v\",\"showlegend\":true,\"textposition\":\"auto\",\"x\":[\"Nuclear\"],\"xaxis\":\"x\",\"y\":[797177877.0],\"yaxis\":\"y\",\"type\":\"bar\"},{\"alignmentgroup\":\"True\",\"hovertemplate\":\"Energy Source=%{x}<br>Year=2015<br>Total Generated=%{y}<extra></extra>\",\"legendgroup\":\"Renewable energy\",\"marker\":{\"color\":\"#ab63fa\",\"pattern\":{\"shape\":\"\"}},\"name\":\"Renewable energy\",\"offsetgroup\":\"Renewable energy\",\"orientation\":\"v\",\"showlegend\":true,\"textposition\":\"auto\",\"x\":[\"Renewable energy\"],\"xaxis\":\"x\",\"y\":[539149485.0],\"yaxis\":\"y\",\"type\":\"bar\"},{\"alignmentgroup\":\"True\",\"hovertemplate\":\"Energy Source=%{x}<br>Year=2015<br>Total Generated=%{y}<extra></extra>\",\"legendgroup\":\"Petroleum\",\"marker\":{\"color\":\"#FFA15A\",\"pattern\":{\"shape\":\"\"}},\"name\":\"Petroleum\",\"offsetgroup\":\"Petroleum\",\"orientation\":\"v\",\"showlegend\":true,\"textposition\":\"auto\",\"x\":[\"Petroleum\"],\"xaxis\":\"x\",\"y\":[28248721.0],\"yaxis\":\"y\",\"type\":\"bar\"},{\"alignmentgroup\":\"True\",\"hovertemplate\":\"Energy Source=%{x}<br>Year=2015<br>Total Generated=%{y}<extra></extra>\",\"legendgroup\":\"Other Gases\",\"marker\":{\"color\":\"#19d3f3\",\"pattern\":{\"shape\":\"\"}},\"name\":\"Other Gases\",\"offsetgroup\":\"Other Gases\",\"orientation\":\"v\",\"showlegend\":true,\"textposition\":\"auto\",\"x\":[\"Other Gases\"],\"xaxis\":\"x\",\"y\":[13116699.0],\"yaxis\":\"y\",\"type\":\"bar\"},{\"alignmentgroup\":\"True\",\"hovertemplate\":\"Energy Source=%{x}<br>Year=2015<br>Total Generated=%{y}<extra></extra>\",\"legendgroup\":\"Other\",\"marker\":{\"color\":\"#FF6692\",\"pattern\":{\"shape\":\"\"}},\"name\":\"Other\",\"offsetgroup\":\"Other\",\"orientation\":\"v\",\"showlegend\":true,\"textposition\":\"auto\",\"x\":[\"Other\"],\"xaxis\":\"x\",\"y\":[14027809.0],\"yaxis\":\"y\",\"type\":\"bar\"}],\"name\":\"2015\"},{\"data\":[{\"alignmentgroup\":\"True\",\"hovertemplate\":\"Energy Source=%{x}<br>Year=2016<br>Total Generated=%{y}<extra></extra>\",\"legendgroup\":\"Coal\",\"marker\":{\"color\":\"#636efa\",\"pattern\":{\"shape\":\"\"}},\"name\":\"Coal\",\"offsetgroup\":\"Coal\",\"orientation\":\"v\",\"showlegend\":true,\"textposition\":\"auto\",\"x\":[\"Coal\"],\"xaxis\":\"x\",\"y\":[1239148659.0],\"yaxis\":\"y\",\"type\":\"bar\"},{\"alignmentgroup\":\"True\",\"hovertemplate\":\"Energy Source=%{x}<br>Year=2016<br>Total Generated=%{y}<extra></extra>\",\"legendgroup\":\"Natural Gas\",\"marker\":{\"color\":\"#EF553B\",\"pattern\":{\"shape\":\"\"}},\"name\":\"Natural Gas\",\"offsetgroup\":\"Natural Gas\",\"orientation\":\"v\",\"showlegend\":true,\"textposition\":\"auto\",\"x\":[\"Natural Gas\"],\"xaxis\":\"x\",\"y\":[1378306947.0],\"yaxis\":\"y\",\"type\":\"bar\"},{\"alignmentgroup\":\"True\",\"hovertemplate\":\"Energy Source=%{x}<br>Year=2016<br>Total Generated=%{y}<extra></extra>\",\"legendgroup\":\"Nuclear\",\"marker\":{\"color\":\"#00cc96\",\"pattern\":{\"shape\":\"\"}},\"name\":\"Nuclear\",\"offsetgroup\":\"Nuclear\",\"orientation\":\"v\",\"showlegend\":true,\"textposition\":\"auto\",\"x\":[\"Nuclear\"],\"xaxis\":\"x\",\"y\":[805693948.0],\"yaxis\":\"y\",\"type\":\"bar\"},{\"alignmentgroup\":\"True\",\"hovertemplate\":\"Energy Source=%{x}<br>Year=2016<br>Total Generated=%{y}<extra></extra>\",\"legendgroup\":\"Renewable energy\",\"marker\":{\"color\":\"#ab63fa\",\"pattern\":{\"shape\":\"\"}},\"name\":\"Renewable energy\",\"offsetgroup\":\"Renewable energy\",\"orientation\":\"v\",\"showlegend\":true,\"textposition\":\"auto\",\"x\":[\"Renewable energy\"],\"xaxis\":\"x\",\"y\":[602758969.0],\"yaxis\":\"y\",\"type\":\"bar\"},{\"alignmentgroup\":\"True\",\"hovertemplate\":\"Energy Source=%{x}<br>Year=2016<br>Total Generated=%{y}<extra></extra>\",\"legendgroup\":\"Petroleum\",\"marker\":{\"color\":\"#FFA15A\",\"pattern\":{\"shape\":\"\"}},\"name\":\"Petroleum\",\"offsetgroup\":\"Petroleum\",\"orientation\":\"v\",\"showlegend\":true,\"textposition\":\"auto\",\"x\":[\"Petroleum\"],\"xaxis\":\"x\",\"y\":[24204817.0],\"yaxis\":\"y\",\"type\":\"bar\"},{\"alignmentgroup\":\"True\",\"hovertemplate\":\"Energy Source=%{x}<br>Year=2016<br>Total Generated=%{y}<extra></extra>\",\"legendgroup\":\"Other Gases\",\"marker\":{\"color\":\"#19d3f3\",\"pattern\":{\"shape\":\"\"}},\"name\":\"Other Gases\",\"offsetgroup\":\"Other Gases\",\"orientation\":\"v\",\"showlegend\":true,\"textposition\":\"auto\",\"x\":[\"Other Gases\"],\"xaxis\":\"x\",\"y\":[12807433.0],\"yaxis\":\"y\",\"type\":\"bar\"},{\"alignmentgroup\":\"True\",\"hovertemplate\":\"Energy Source=%{x}<br>Year=2016<br>Total Generated=%{y}<extra></extra>\",\"legendgroup\":\"Other\",\"marker\":{\"color\":\"#FF6692\",\"pattern\":{\"shape\":\"\"}},\"name\":\"Other\",\"offsetgroup\":\"Other\",\"orientation\":\"v\",\"showlegend\":true,\"textposition\":\"auto\",\"x\":[\"Other\"],\"xaxis\":\"x\",\"y\":[13754235.0],\"yaxis\":\"y\",\"type\":\"bar\"}],\"name\":\"2016\"},{\"data\":[{\"alignmentgroup\":\"True\",\"hovertemplate\":\"Energy Source=%{x}<br>Year=2017<br>Total Generated=%{y}<extra></extra>\",\"legendgroup\":\"Coal\",\"marker\":{\"color\":\"#636efa\",\"pattern\":{\"shape\":\"\"}},\"name\":\"Coal\",\"offsetgroup\":\"Coal\",\"orientation\":\"v\",\"showlegend\":true,\"textposition\":\"auto\",\"x\":[\"Coal\"],\"xaxis\":\"x\",\"y\":[1205835277.0],\"yaxis\":\"y\",\"type\":\"bar\"},{\"alignmentgroup\":\"True\",\"hovertemplate\":\"Energy Source=%{x}<br>Year=2017<br>Total Generated=%{y}<extra></extra>\",\"legendgroup\":\"Natural Gas\",\"marker\":{\"color\":\"#EF553B\",\"pattern\":{\"shape\":\"\"}},\"name\":\"Natural Gas\",\"offsetgroup\":\"Natural Gas\",\"orientation\":\"v\",\"showlegend\":true,\"textposition\":\"auto\",\"x\":[\"Natural Gas\"],\"xaxis\":\"x\",\"y\":[1296442511.0],\"yaxis\":\"y\",\"type\":\"bar\"},{\"alignmentgroup\":\"True\",\"hovertemplate\":\"Energy Source=%{x}<br>Year=2017<br>Total Generated=%{y}<extra></extra>\",\"legendgroup\":\"Nuclear\",\"marker\":{\"color\":\"#00cc96\",\"pattern\":{\"shape\":\"\"}},\"name\":\"Nuclear\",\"offsetgroup\":\"Nuclear\",\"orientation\":\"v\",\"showlegend\":true,\"textposition\":\"auto\",\"x\":[\"Nuclear\"],\"xaxis\":\"x\",\"y\":[804949635.0],\"yaxis\":\"y\",\"type\":\"bar\"},{\"alignmentgroup\":\"True\",\"hovertemplate\":\"Energy Source=%{x}<br>Year=2017<br>Total Generated=%{y}<extra></extra>\",\"legendgroup\":\"Renewable energy\",\"marker\":{\"color\":\"#ab63fa\",\"pattern\":{\"shape\":\"\"}},\"name\":\"Renewable energy\",\"offsetgroup\":\"Renewable energy\",\"orientation\":\"v\",\"showlegend\":true,\"textposition\":\"auto\",\"x\":[\"Renewable energy\"],\"xaxis\":\"x\",\"y\":[680088153.0],\"yaxis\":\"y\",\"type\":\"bar\"},{\"alignmentgroup\":\"True\",\"hovertemplate\":\"Energy Source=%{x}<br>Year=2017<br>Total Generated=%{y}<extra></extra>\",\"legendgroup\":\"Petroleum\",\"marker\":{\"color\":\"#FFA15A\",\"pattern\":{\"shape\":\"\"}},\"name\":\"Petroleum\",\"offsetgroup\":\"Petroleum\",\"orientation\":\"v\",\"showlegend\":true,\"textposition\":\"auto\",\"x\":[\"Petroleum\"],\"xaxis\":\"x\",\"y\":[21389948.0],\"yaxis\":\"y\",\"type\":\"bar\"},{\"alignmentgroup\":\"True\",\"hovertemplate\":\"Energy Source=%{x}<br>Year=2017<br>Total Generated=%{y}<extra></extra>\",\"legendgroup\":\"Other Gases\",\"marker\":{\"color\":\"#19d3f3\",\"pattern\":{\"shape\":\"\"}},\"name\":\"Other Gases\",\"offsetgroup\":\"Other Gases\",\"orientation\":\"v\",\"showlegend\":true,\"textposition\":\"auto\",\"x\":[\"Other Gases\"],\"xaxis\":\"x\",\"y\":[12468968.0],\"yaxis\":\"y\",\"type\":\"bar\"},{\"alignmentgroup\":\"True\",\"hovertemplate\":\"Energy Source=%{x}<br>Year=2017<br>Total Generated=%{y}<extra></extra>\",\"legendgroup\":\"Other\",\"marker\":{\"color\":\"#FF6692\",\"pattern\":{\"shape\":\"\"}},\"name\":\"Other\",\"offsetgroup\":\"Other\",\"orientation\":\"v\",\"showlegend\":true,\"textposition\":\"auto\",\"x\":[\"Other\"],\"xaxis\":\"x\",\"y\":[13096119.0],\"yaxis\":\"y\",\"type\":\"bar\"}],\"name\":\"2017\"},{\"data\":[{\"alignmentgroup\":\"True\",\"hovertemplate\":\"Energy Source=%{x}<br>Year=2018<br>Total Generated=%{y}<extra></extra>\",\"legendgroup\":\"Coal\",\"marker\":{\"color\":\"#636efa\",\"pattern\":{\"shape\":\"\"}},\"name\":\"Coal\",\"offsetgroup\":\"Coal\",\"orientation\":\"v\",\"showlegend\":true,\"textposition\":\"auto\",\"x\":[\"Coal\"],\"xaxis\":\"x\",\"y\":[1149487354.0],\"yaxis\":\"y\",\"type\":\"bar\"},{\"alignmentgroup\":\"True\",\"hovertemplate\":\"Energy Source=%{x}<br>Year=2018<br>Total Generated=%{y}<extra></extra>\",\"legendgroup\":\"Natural Gas\",\"marker\":{\"color\":\"#EF553B\",\"pattern\":{\"shape\":\"\"}},\"name\":\"Natural Gas\",\"offsetgroup\":\"Natural Gas\",\"orientation\":\"v\",\"showlegend\":true,\"textposition\":\"auto\",\"x\":[\"Natural Gas\"],\"xaxis\":\"x\",\"y\":[1469132687.0],\"yaxis\":\"y\",\"type\":\"bar\"},{\"alignmentgroup\":\"True\",\"hovertemplate\":\"Energy Source=%{x}<br>Year=2018<br>Total Generated=%{y}<extra></extra>\",\"legendgroup\":\"Nuclear\",\"marker\":{\"color\":\"#00cc96\",\"pattern\":{\"shape\":\"\"}},\"name\":\"Nuclear\",\"offsetgroup\":\"Nuclear\",\"orientation\":\"v\",\"showlegend\":true,\"textposition\":\"auto\",\"x\":[\"Nuclear\"],\"xaxis\":\"x\",\"y\":[807084477.0],\"yaxis\":\"y\",\"type\":\"bar\"},{\"alignmentgroup\":\"True\",\"hovertemplate\":\"Energy Source=%{x}<br>Year=2018<br>Total Generated=%{y}<extra></extra>\",\"legendgroup\":\"Renewable energy\",\"marker\":{\"color\":\"#ab63fa\",\"pattern\":{\"shape\":\"\"}},\"name\":\"Renewable energy\",\"offsetgroup\":\"Renewable energy\",\"orientation\":\"v\",\"showlegend\":true,\"textposition\":\"auto\",\"x\":[\"Renewable energy\"],\"xaxis\":\"x\",\"y\":[700911298.0],\"yaxis\":\"y\",\"type\":\"bar\"},{\"alignmentgroup\":\"True\",\"hovertemplate\":\"Energy Source=%{x}<br>Year=2018<br>Total Generated=%{y}<extra></extra>\",\"legendgroup\":\"Petroleum\",\"marker\":{\"color\":\"#FFA15A\",\"pattern\":{\"shape\":\"\"}},\"name\":\"Petroleum\",\"offsetgroup\":\"Petroleum\",\"orientation\":\"v\",\"showlegend\":true,\"textposition\":\"auto\",\"x\":[\"Petroleum\"],\"xaxis\":\"x\",\"y\":[25225630.0],\"yaxis\":\"y\",\"type\":\"bar\"},{\"alignmentgroup\":\"True\",\"hovertemplate\":\"Energy Source=%{x}<br>Year=2018<br>Total Generated=%{y}<extra></extra>\",\"legendgroup\":\"Other Gases\",\"marker\":{\"color\":\"#19d3f3\",\"pattern\":{\"shape\":\"\"}},\"name\":\"Other Gases\",\"offsetgroup\":\"Other Gases\",\"orientation\":\"v\",\"showlegend\":true,\"textposition\":\"auto\",\"x\":[\"Other Gases\"],\"xaxis\":\"x\",\"y\":[13462749.0],\"yaxis\":\"y\",\"type\":\"bar\"},{\"alignmentgroup\":\"True\",\"hovertemplate\":\"Energy Source=%{x}<br>Year=2018<br>Total Generated=%{y}<extra></extra>\",\"legendgroup\":\"Other\",\"marker\":{\"color\":\"#FF6692\",\"pattern\":{\"shape\":\"\"}},\"name\":\"Other\",\"offsetgroup\":\"Other\",\"orientation\":\"v\",\"showlegend\":true,\"textposition\":\"auto\",\"x\":[\"Other\"],\"xaxis\":\"x\",\"y\":[12973208.0],\"yaxis\":\"y\",\"type\":\"bar\"}],\"name\":\"2018\"},{\"data\":[{\"alignmentgroup\":\"True\",\"hovertemplate\":\"Energy Source=%{x}<br>Year=2019<br>Total Generated=%{y}<extra></extra>\",\"legendgroup\":\"Coal\",\"marker\":{\"color\":\"#636efa\",\"pattern\":{\"shape\":\"\"}},\"name\":\"Coal\",\"offsetgroup\":\"Coal\",\"orientation\":\"v\",\"showlegend\":true,\"textposition\":\"auto\",\"x\":[\"Coal\"],\"xaxis\":\"x\",\"y\":[964956757.0],\"yaxis\":\"y\",\"type\":\"bar\"},{\"alignmentgroup\":\"True\",\"hovertemplate\":\"Energy Source=%{x}<br>Year=2019<br>Total Generated=%{y}<extra></extra>\",\"legendgroup\":\"Natural Gas\",\"marker\":{\"color\":\"#EF553B\",\"pattern\":{\"shape\":\"\"}},\"name\":\"Natural Gas\",\"offsetgroup\":\"Natural Gas\",\"orientation\":\"v\",\"showlegend\":true,\"textposition\":\"auto\",\"x\":[\"Natural Gas\"],\"xaxis\":\"x\",\"y\":[1585716776.0],\"yaxis\":\"y\",\"type\":\"bar\"},{\"alignmentgroup\":\"True\",\"hovertemplate\":\"Energy Source=%{x}<br>Year=2019<br>Total Generated=%{y}<extra></extra>\",\"legendgroup\":\"Nuclear\",\"marker\":{\"color\":\"#00cc96\",\"pattern\":{\"shape\":\"\"}},\"name\":\"Nuclear\",\"offsetgroup\":\"Nuclear\",\"orientation\":\"v\",\"showlegend\":true,\"textposition\":\"auto\",\"x\":[\"Nuclear\"],\"xaxis\":\"x\",\"y\":[809409262.0],\"yaxis\":\"y\",\"type\":\"bar\"},{\"alignmentgroup\":\"True\",\"hovertemplate\":\"Energy Source=%{x}<br>Year=2019<br>Total Generated=%{y}<extra></extra>\",\"legendgroup\":\"Renewable energy\",\"marker\":{\"color\":\"#ab63fa\",\"pattern\":{\"shape\":\"\"}},\"name\":\"Renewable energy\",\"offsetgroup\":\"Renewable energy\",\"orientation\":\"v\",\"showlegend\":true,\"textposition\":\"auto\",\"x\":[\"Renewable energy\"],\"xaxis\":\"x\",\"y\":[722435784.0],\"yaxis\":\"y\",\"type\":\"bar\"},{\"alignmentgroup\":\"True\",\"hovertemplate\":\"Energy Source=%{x}<br>Year=2019<br>Total Generated=%{y}<extra></extra>\",\"legendgroup\":\"Petroleum\",\"marker\":{\"color\":\"#FFA15A\",\"pattern\":{\"shape\":\"\"}},\"name\":\"Petroleum\",\"offsetgroup\":\"Petroleum\",\"orientation\":\"v\",\"showlegend\":true,\"textposition\":\"auto\",\"x\":[\"Petroleum\"],\"xaxis\":\"x\",\"y\":[18438197.0],\"yaxis\":\"y\",\"type\":\"bar\"},{\"alignmentgroup\":\"True\",\"hovertemplate\":\"Energy Source=%{x}<br>Year=2019<br>Total Generated=%{y}<extra></extra>\",\"legendgroup\":\"Other Gases\",\"marker\":{\"color\":\"#19d3f3\",\"pattern\":{\"shape\":\"\"}},\"name\":\"Other Gases\",\"offsetgroup\":\"Other Gases\",\"orientation\":\"v\",\"showlegend\":true,\"textposition\":\"auto\",\"x\":[\"Other Gases\"],\"xaxis\":\"x\",\"y\":[12591101.0],\"yaxis\":\"y\",\"type\":\"bar\"},{\"alignmentgroup\":\"True\",\"hovertemplate\":\"Energy Source=%{x}<br>Year=2019<br>Total Generated=%{y}<extra></extra>\",\"legendgroup\":\"Other\",\"marker\":{\"color\":\"#FF6692\",\"pattern\":{\"shape\":\"\"}},\"name\":\"Other\",\"offsetgroup\":\"Other\",\"orientation\":\"v\",\"showlegend\":true,\"textposition\":\"auto\",\"x\":[\"Other\"],\"xaxis\":\"x\",\"y\":[13334272.0],\"yaxis\":\"y\",\"type\":\"bar\"}],\"name\":\"2019\"},{\"data\":[{\"alignmentgroup\":\"True\",\"hovertemplate\":\"Energy Source=%{x}<br>Year=2020<br>Total Generated=%{y}<extra></extra>\",\"legendgroup\":\"Coal\",\"marker\":{\"color\":\"#636efa\",\"pattern\":{\"shape\":\"\"}},\"name\":\"Coal\",\"offsetgroup\":\"Coal\",\"orientation\":\"v\",\"showlegend\":true,\"textposition\":\"auto\",\"x\":[\"Coal\"],\"xaxis\":\"x\",\"y\":[773392913.0],\"yaxis\":\"y\",\"type\":\"bar\"},{\"alignmentgroup\":\"True\",\"hovertemplate\":\"Energy Source=%{x}<br>Year=2020<br>Total Generated=%{y}<extra></extra>\",\"legendgroup\":\"Natural Gas\",\"marker\":{\"color\":\"#EF553B\",\"pattern\":{\"shape\":\"\"}},\"name\":\"Natural Gas\",\"offsetgroup\":\"Natural Gas\",\"orientation\":\"v\",\"showlegend\":true,\"textposition\":\"auto\",\"x\":[\"Natural Gas\"],\"xaxis\":\"x\",\"y\":[1624050006.0],\"yaxis\":\"y\",\"type\":\"bar\"},{\"alignmentgroup\":\"True\",\"hovertemplate\":\"Energy Source=%{x}<br>Year=2020<br>Total Generated=%{y}<extra></extra>\",\"legendgroup\":\"Nuclear\",\"marker\":{\"color\":\"#00cc96\",\"pattern\":{\"shape\":\"\"}},\"name\":\"Nuclear\",\"offsetgroup\":\"Nuclear\",\"orientation\":\"v\",\"showlegend\":true,\"textposition\":\"auto\",\"x\":[\"Nuclear\"],\"xaxis\":\"x\",\"y\":[789878863.0],\"yaxis\":\"y\",\"type\":\"bar\"},{\"alignmentgroup\":\"True\",\"hovertemplate\":\"Energy Source=%{x}<br>Year=2020<br>Total Generated=%{y}<extra></extra>\",\"legendgroup\":\"Renewable energy\",\"marker\":{\"color\":\"#ab63fa\",\"pattern\":{\"shape\":\"\"}},\"name\":\"Renewable energy\",\"offsetgroup\":\"Renewable energy\",\"orientation\":\"v\",\"showlegend\":true,\"textposition\":\"auto\",\"x\":[\"Renewable energy\"],\"xaxis\":\"x\",\"y\":[777682224.0],\"yaxis\":\"y\",\"type\":\"bar\"},{\"alignmentgroup\":\"True\",\"hovertemplate\":\"Energy Source=%{x}<br>Year=2020<br>Total Generated=%{y}<extra></extra>\",\"legendgroup\":\"Petroleum\",\"marker\":{\"color\":\"#FFA15A\",\"pattern\":{\"shape\":\"\"}},\"name\":\"Petroleum\",\"offsetgroup\":\"Petroleum\",\"orientation\":\"v\",\"showlegend\":true,\"textposition\":\"auto\",\"x\":[\"Petroleum\"],\"xaxis\":\"x\",\"y\":[17341026.0],\"yaxis\":\"y\",\"type\":\"bar\"},{\"alignmentgroup\":\"True\",\"hovertemplate\":\"Energy Source=%{x}<br>Year=2020<br>Total Generated=%{y}<extra></extra>\",\"legendgroup\":\"Other Gases\",\"marker\":{\"color\":\"#19d3f3\",\"pattern\":{\"shape\":\"\"}},\"name\":\"Other Gases\",\"offsetgroup\":\"Other Gases\",\"orientation\":\"v\",\"showlegend\":true,\"textposition\":\"auto\",\"x\":[\"Other Gases\"],\"xaxis\":\"x\",\"y\":[11818477.0],\"yaxis\":\"y\",\"type\":\"bar\"},{\"alignmentgroup\":\"True\",\"hovertemplate\":\"Energy Source=%{x}<br>Year=2020<br>Total Generated=%{y}<extra></extra>\",\"legendgroup\":\"Other\",\"marker\":{\"color\":\"#FF6692\",\"pattern\":{\"shape\":\"\"}},\"name\":\"Other\",\"offsetgroup\":\"Other\",\"orientation\":\"v\",\"showlegend\":true,\"textposition\":\"auto\",\"x\":[\"Other\"],\"xaxis\":\"x\",\"y\":[12855196.0],\"yaxis\":\"y\",\"type\":\"bar\"}],\"name\":\"2020\"},{\"data\":[{\"alignmentgroup\":\"True\",\"hovertemplate\":\"Energy Source=%{x}<br>Year=2021<br>Total Generated=%{y}<extra></extra>\",\"legendgroup\":\"Coal\",\"marker\":{\"color\":\"#636efa\",\"pattern\":{\"shape\":\"\"}},\"name\":\"Coal\",\"offsetgroup\":\"Coal\",\"orientation\":\"v\",\"showlegend\":true,\"textposition\":\"auto\",\"x\":[\"Coal\"],\"xaxis\":\"x\",\"y\":[898678541.0],\"yaxis\":\"y\",\"type\":\"bar\"},{\"alignmentgroup\":\"True\",\"hovertemplate\":\"Energy Source=%{x}<br>Year=2021<br>Total Generated=%{y}<extra></extra>\",\"legendgroup\":\"Natural Gas\",\"marker\":{\"color\":\"#EF553B\",\"pattern\":{\"shape\":\"\"}},\"name\":\"Natural Gas\",\"offsetgroup\":\"Natural Gas\",\"orientation\":\"v\",\"showlegend\":true,\"textposition\":\"auto\",\"x\":[\"Natural Gas\"],\"xaxis\":\"x\",\"y\":[1575229843.0],\"yaxis\":\"y\",\"type\":\"bar\"},{\"alignmentgroup\":\"True\",\"hovertemplate\":\"Energy Source=%{x}<br>Year=2021<br>Total Generated=%{y}<extra></extra>\",\"legendgroup\":\"Nuclear\",\"marker\":{\"color\":\"#00cc96\",\"pattern\":{\"shape\":\"\"}},\"name\":\"Nuclear\",\"offsetgroup\":\"Nuclear\",\"orientation\":\"v\",\"showlegend\":true,\"textposition\":\"auto\",\"x\":[\"Nuclear\"],\"xaxis\":\"x\",\"y\":[778151500.0],\"yaxis\":\"y\",\"type\":\"bar\"},{\"alignmentgroup\":\"True\",\"hovertemplate\":\"Energy Source=%{x}<br>Year=2021<br>Total Generated=%{y}<extra></extra>\",\"legendgroup\":\"Renewable energy\",\"marker\":{\"color\":\"#ab63fa\",\"pattern\":{\"shape\":\"\"}},\"name\":\"Renewable energy\",\"offsetgroup\":\"Renewable energy\",\"orientation\":\"v\",\"showlegend\":true,\"textposition\":\"auto\",\"x\":[\"Renewable energy\"],\"xaxis\":\"x\",\"y\":[821275716.0],\"yaxis\":\"y\",\"type\":\"bar\"},{\"alignmentgroup\":\"True\",\"hovertemplate\":\"Energy Source=%{x}<br>Year=2021<br>Total Generated=%{y}<extra></extra>\",\"legendgroup\":\"Petroleum\",\"marker\":{\"color\":\"#FFA15A\",\"pattern\":{\"shape\":\"\"}},\"name\":\"Petroleum\",\"offsetgroup\":\"Petroleum\",\"orientation\":\"v\",\"showlegend\":true,\"textposition\":\"auto\",\"x\":[\"Petroleum\"],\"xaxis\":\"x\",\"y\":[18781782.0],\"yaxis\":\"y\",\"type\":\"bar\"},{\"alignmentgroup\":\"True\",\"hovertemplate\":\"Energy Source=%{x}<br>Year=2021<br>Total Generated=%{y}<extra></extra>\",\"legendgroup\":\"Other Gases\",\"marker\":{\"color\":\"#19d3f3\",\"pattern\":{\"shape\":\"\"}},\"name\":\"Other Gases\",\"offsetgroup\":\"Other Gases\",\"orientation\":\"v\",\"showlegend\":true,\"textposition\":\"auto\",\"x\":[\"Other Gases\"],\"xaxis\":\"x\",\"y\":[11283103.0],\"yaxis\":\"y\",\"type\":\"bar\"},{\"alignmentgroup\":\"True\",\"hovertemplate\":\"Energy Source=%{x}<br>Year=2021<br>Total Generated=%{y}<extra></extra>\",\"legendgroup\":\"Other\",\"marker\":{\"color\":\"#FF6692\",\"pattern\":{\"shape\":\"\"}},\"name\":\"Other\",\"offsetgroup\":\"Other\",\"orientation\":\"v\",\"showlegend\":true,\"textposition\":\"auto\",\"x\":[\"Other\"],\"xaxis\":\"x\",\"y\":[12139767.0],\"yaxis\":\"y\",\"type\":\"bar\"}],\"name\":\"2021\"}]);\n",
       "                        }).then(function(){\n",
       "                            \n",
       "var gd = document.getElementById('a5c47fc2-3efb-4aca-8fe0-a3861ce6925e');\n",
       "var x = new MutationObserver(function (mutations, observer) {{\n",
       "        var display = window.getComputedStyle(gd).display;\n",
       "        if (!display || display === 'none') {{\n",
       "            console.log([gd, 'removed!']);\n",
       "            Plotly.purge(gd);\n",
       "            observer.disconnect();\n",
       "        }}\n",
       "}});\n",
       "\n",
       "// Listen for the removal of the full notebook cells\n",
       "var notebookContainer = gd.closest('#notebook-container');\n",
       "if (notebookContainer) {{\n",
       "    x.observe(notebookContainer, {childList: true});\n",
       "}}\n",
       "\n",
       "// Listen for the clearing of the current output cell\n",
       "var outputEl = gd.closest('.output');\n",
       "if (outputEl) {{\n",
       "    x.observe(outputEl, {childList: true});\n",
       "}}\n",
       "\n",
       "                        })                };                });            </script>        </div>"
      ]
     },
     "metadata": {},
     "output_type": "display_data"
    }
   ],
   "source": [
    "fig = px.bar(state_grouped, x=\"Energy Source\", y=\"Total Generated\", \n",
    "              title=\"Energy Source from 2001-2021\", animation_frame = \"Year\",\n",
    "              color = 'Energy Source', \n",
    "             category_orders= {\"Energy Source\": [\"Coal\", \"Natural Gas\", \"Nuclear\", \"Renewable energy\",\"Petroleum\",\"Other Gases\", \"Other\"]}) \n",
    "fig.update_yaxes(range = (0, 2500000000))\n",
    "fig.show()"
   ]
  },
  {
   "cell_type": "code",
   "execution_count": null,
   "id": "b65e7cf0",
   "metadata": {},
   "outputs": [],
   "source": []
  }
 ],
 "metadata": {
  "kernelspec": {
   "display_name": "Python 3 (ipykernel)",
   "language": "python",
   "name": "python3"
  },
  "language_info": {
   "codemirror_mode": {
    "name": "ipython",
    "version": 3
   },
   "file_extension": ".py",
   "mimetype": "text/x-python",
   "name": "python",
   "nbconvert_exporter": "python",
   "pygments_lexer": "ipython3",
   "version": "3.9.7"
  }
 },
 "nbformat": 4,
 "nbformat_minor": 5
}
