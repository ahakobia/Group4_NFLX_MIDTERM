{
 "cells": [
  {
   "cell_type": "code",
   "execution_count": 1,
   "id": "7b73fc8a",
   "metadata": {},
   "outputs": [
    {
     "name": "stdout",
     "output_type": "stream",
     "text": [
      "Overwriting total_energy.py\n"
     ]
    }
   ],
   "source": [
    "%%file total_energy.py\n",
    "\n",
    "import pandas as pd\n",
    "\n",
    "def import_data():\n",
    "    csv_file = \"../Resources/organised_Gen.csv\"\n",
    "    energy = pd.read_csv(csv_file)\n",
    "    return energy"
   ]
  },
  {
   "cell_type": "code",
   "execution_count": 2,
   "id": "462ca7a6",
   "metadata": {},
   "outputs": [
    {
     "data": {
      "text/html": [
       "<div>\n",
       "<style scoped>\n",
       "    .dataframe tbody tr th:only-of-type {\n",
       "        vertical-align: middle;\n",
       "    }\n",
       "\n",
       "    .dataframe tbody tr th {\n",
       "        vertical-align: top;\n",
       "    }\n",
       "\n",
       "    .dataframe thead th {\n",
       "        text-align: right;\n",
       "    }\n",
       "</style>\n",
       "<table border=\"1\" class=\"dataframe\">\n",
       "  <thead>\n",
       "    <tr style=\"text-align: right;\">\n",
       "      <th></th>\n",
       "      <th>Unnamed: 0</th>\n",
       "      <th>YEAR</th>\n",
       "      <th>MONTH</th>\n",
       "      <th>STATE</th>\n",
       "      <th>TYPE OF PRODUCER</th>\n",
       "      <th>ENERGY SOURCE</th>\n",
       "      <th>GENERATION (Megawatthours)</th>\n",
       "    </tr>\n",
       "  </thead>\n",
       "  <tbody>\n",
       "    <tr>\n",
       "      <th>0</th>\n",
       "      <td>0</td>\n",
       "      <td>2001</td>\n",
       "      <td>1</td>\n",
       "      <td>AK</td>\n",
       "      <td>Total Electric Power Industry</td>\n",
       "      <td>Coal</td>\n",
       "      <td>46903.0</td>\n",
       "    </tr>\n",
       "    <tr>\n",
       "      <th>1</th>\n",
       "      <td>1</td>\n",
       "      <td>2001</td>\n",
       "      <td>1</td>\n",
       "      <td>AK</td>\n",
       "      <td>Total Electric Power Industry</td>\n",
       "      <td>Petroleum</td>\n",
       "      <td>71085.0</td>\n",
       "    </tr>\n",
       "    <tr>\n",
       "      <th>2</th>\n",
       "      <td>2</td>\n",
       "      <td>2001</td>\n",
       "      <td>1</td>\n",
       "      <td>AK</td>\n",
       "      <td>Total Electric Power Industry</td>\n",
       "      <td>Natural Gas</td>\n",
       "      <td>367521.0</td>\n",
       "    </tr>\n",
       "    <tr>\n",
       "      <th>3</th>\n",
       "      <td>3</td>\n",
       "      <td>2001</td>\n",
       "      <td>1</td>\n",
       "      <td>AK</td>\n",
       "      <td>Total Electric Power Industry</td>\n",
       "      <td>Hydroelectric Conventional</td>\n",
       "      <td>104549.0</td>\n",
       "    </tr>\n",
       "    <tr>\n",
       "      <th>4</th>\n",
       "      <td>4</td>\n",
       "      <td>2001</td>\n",
       "      <td>1</td>\n",
       "      <td>AK</td>\n",
       "      <td>Total Electric Power Industry</td>\n",
       "      <td>Wind</td>\n",
       "      <td>87.0</td>\n",
       "    </tr>\n",
       "    <tr>\n",
       "      <th>...</th>\n",
       "      <td>...</td>\n",
       "      <td>...</td>\n",
       "      <td>...</td>\n",
       "      <td>...</td>\n",
       "      <td>...</td>\n",
       "      <td>...</td>\n",
       "      <td>...</td>\n",
       "    </tr>\n",
       "    <tr>\n",
       "      <th>496769</th>\n",
       "      <td>10581</td>\n",
       "      <td>2022</td>\n",
       "      <td>5</td>\n",
       "      <td>WY</td>\n",
       "      <td>Electric Generators, Electric Utilities</td>\n",
       "      <td>Coal</td>\n",
       "      <td>2071403.0</td>\n",
       "    </tr>\n",
       "    <tr>\n",
       "      <th>496770</th>\n",
       "      <td>10582</td>\n",
       "      <td>2022</td>\n",
       "      <td>5</td>\n",
       "      <td>WY</td>\n",
       "      <td>Electric Generators, Electric Utilities</td>\n",
       "      <td>Hydroelectric Conventional</td>\n",
       "      <td>96790.0</td>\n",
       "    </tr>\n",
       "    <tr>\n",
       "      <th>496771</th>\n",
       "      <td>10583</td>\n",
       "      <td>2022</td>\n",
       "      <td>5</td>\n",
       "      <td>WY</td>\n",
       "      <td>Electric Generators, Electric Utilities</td>\n",
       "      <td>Natural Gas</td>\n",
       "      <td>91570.0</td>\n",
       "    </tr>\n",
       "    <tr>\n",
       "      <th>496772</th>\n",
       "      <td>10584</td>\n",
       "      <td>2022</td>\n",
       "      <td>5</td>\n",
       "      <td>WY</td>\n",
       "      <td>Electric Generators, Electric Utilities</td>\n",
       "      <td>Petroleum</td>\n",
       "      <td>1812.0</td>\n",
       "    </tr>\n",
       "    <tr>\n",
       "      <th>496773</th>\n",
       "      <td>10585</td>\n",
       "      <td>2022</td>\n",
       "      <td>5</td>\n",
       "      <td>WY</td>\n",
       "      <td>Electric Generators, Electric Utilities</td>\n",
       "      <td>Wind</td>\n",
       "      <td>452913.0</td>\n",
       "    </tr>\n",
       "  </tbody>\n",
       "</table>\n",
       "<p>496774 rows × 7 columns</p>\n",
       "</div>"
      ],
      "text/plain": [
       "        Unnamed: 0  YEAR  MONTH STATE  \\\n",
       "0                0  2001      1    AK   \n",
       "1                1  2001      1    AK   \n",
       "2                2  2001      1    AK   \n",
       "3                3  2001      1    AK   \n",
       "4                4  2001      1    AK   \n",
       "...            ...   ...    ...   ...   \n",
       "496769       10581  2022      5    WY   \n",
       "496770       10582  2022      5    WY   \n",
       "496771       10583  2022      5    WY   \n",
       "496772       10584  2022      5    WY   \n",
       "496773       10585  2022      5    WY   \n",
       "\n",
       "                               TYPE OF PRODUCER               ENERGY SOURCE  \\\n",
       "0                 Total Electric Power Industry                        Coal   \n",
       "1                 Total Electric Power Industry                   Petroleum   \n",
       "2                 Total Electric Power Industry                 Natural Gas   \n",
       "3                 Total Electric Power Industry  Hydroelectric Conventional   \n",
       "4                 Total Electric Power Industry                        Wind   \n",
       "...                                         ...                         ...   \n",
       "496769  Electric Generators, Electric Utilities                        Coal   \n",
       "496770  Electric Generators, Electric Utilities  Hydroelectric Conventional   \n",
       "496771  Electric Generators, Electric Utilities                 Natural Gas   \n",
       "496772  Electric Generators, Electric Utilities                   Petroleum   \n",
       "496773  Electric Generators, Electric Utilities                        Wind   \n",
       "\n",
       "        GENERATION (Megawatthours)  \n",
       "0                          46903.0  \n",
       "1                          71085.0  \n",
       "2                         367521.0  \n",
       "3                         104549.0  \n",
       "4                             87.0  \n",
       "...                            ...  \n",
       "496769                   2071403.0  \n",
       "496770                     96790.0  \n",
       "496771                     91570.0  \n",
       "496772                      1812.0  \n",
       "496773                    452913.0  \n",
       "\n",
       "[496774 rows x 7 columns]"
      ]
     },
     "execution_count": 2,
     "metadata": {},
     "output_type": "execute_result"
    }
   ],
   "source": [
    "from total_energy import import_data\n",
    "\n",
    "x = import_data()\n",
    "x"
   ]
  },
  {
   "cell_type": "code",
   "execution_count": 3,
   "id": "e7fb247d",
   "metadata": {},
   "outputs": [
    {
     "name": "stdout",
     "output_type": "stream",
     "text": [
      "Overwriting tran_total_energy.py\n"
     ]
    }
   ],
   "source": [
    "%%file tran_total_energy.py\n",
    "\n",
    "from total_energy import import_data\n",
    "\n",
    "import pandas as pd\n",
    "\n",
    "def transform_data():\n",
    "    \n",
    "    tf_energy_data = import_data().drop(columns=['Unnamed: 0'])\n",
    "\n",
    "    tf_energy_data = tf_energy_data.rename(columns={\n",
    "        \"YEAR\": \"year\", \n",
    "        \"MONTH\": \"month\",\n",
    "        \"STATE\": \"state\",\n",
    "        \"TYPE OF PRODUCER\": \"producer\",\n",
    "        \"ENERGY SOURCE\": \"source\",\n",
    "        \"GENERATION (Megawatthours)\": \"generated\"})\n",
    "\n",
    "\n",
    "    tf_energy_data['producer'] = tf_energy_data['producer'].apply(lambda x: x.replace(',','/'))\n",
    "    tf_energy_data = tf_energy_data[tf_energy_data.state != 'US-TOTAL']\n",
    "    tf_energy_data = tf_energy_data[tf_energy_data.producer != 'Total Electric Power Industry']\n",
    "    tf_energy_data = tf_energy_data[tf_energy_data.source != 'Total']\n",
    "\n",
    "\n",
    "    tf_energy_data = tf_energy_data.reset_index(drop = True)\n",
    "\n",
    "    tf_energy_data = tf_energy_data.replace(to_replace = ['Wind','Solar Thermal and Photovoltaic', \n",
    "                                                 'Hydroelectric Conventional', 'Geothermal', \n",
    "                                                 'Wood and Wood Derived Fuels', 'Other Biomass', \n",
    "                                                 'Pumped Storage'],value = 'Renewable energy')\n",
    "    tf_energy_data = tf_energy_data.groupby(['year','month','state','producer','source'],\n",
    "                                            as_index=False).agg({'generated': 'sum'})\n",
    "    \n",
    "    return tf_energy_data"
   ]
  },
  {
   "cell_type": "code",
   "execution_count": 4,
   "id": "713b02a3",
   "metadata": {},
   "outputs": [
    {
     "data": {
      "text/plain": [
       "array(['Coal', 'Petroleum', 'Natural Gas', 'Renewable energy', 'Other',\n",
       "       'Other Gases', 'Nuclear'], dtype=object)"
      ]
     },
     "execution_count": 4,
     "metadata": {},
     "output_type": "execute_result"
    }
   ],
   "source": [
    "from tran_total_energy import transform_data\n",
    "x = transform_data()\n",
    "x['source'].unique()"
   ]
  },
  {
   "cell_type": "code",
   "execution_count": 5,
   "id": "90111ebf",
   "metadata": {},
   "outputs": [
    {
     "name": "stdout",
     "output_type": "stream",
     "text": [
      "Query execution time: 2.0902282139999997s\n"
     ]
    },
    {
     "data": {
      "text/html": [
       "<div>\n",
       "<style scoped>\n",
       "    .dataframe tbody tr th:only-of-type {\n",
       "        vertical-align: middle;\n",
       "    }\n",
       "\n",
       "    .dataframe tbody tr th {\n",
       "        vertical-align: top;\n",
       "    }\n",
       "\n",
       "    .dataframe thead th {\n",
       "        text-align: right;\n",
       "    }\n",
       "</style>\n",
       "<table border=\"1\" class=\"dataframe\">\n",
       "  <thead>\n",
       "    <tr style=\"text-align: right;\">\n",
       "      <th></th>\n",
       "      <th>year</th>\n",
       "      <th>month</th>\n",
       "      <th>state</th>\n",
       "      <th>producer</th>\n",
       "      <th>source</th>\n",
       "      <th>generated</th>\n",
       "    </tr>\n",
       "  </thead>\n",
       "  <tbody>\n",
       "    <tr>\n",
       "      <th>0</th>\n",
       "      <td>2001</td>\n",
       "      <td>1</td>\n",
       "      <td>AK</td>\n",
       "      <td>Combined Heat and Power/ Commercial Power</td>\n",
       "      <td>Coal</td>\n",
       "      <td>8751.0</td>\n",
       "    </tr>\n",
       "    <tr>\n",
       "      <th>1</th>\n",
       "      <td>2001</td>\n",
       "      <td>1</td>\n",
       "      <td>AK</td>\n",
       "      <td>Combined Heat and Power/ Commercial Power</td>\n",
       "      <td>Petroleum</td>\n",
       "      <td>1073.0</td>\n",
       "    </tr>\n",
       "    <tr>\n",
       "      <th>2</th>\n",
       "      <td>2001</td>\n",
       "      <td>1</td>\n",
       "      <td>AK</td>\n",
       "      <td>Combined Heat and Power/ Electric Power</td>\n",
       "      <td>Coal</td>\n",
       "      <td>19742.0</td>\n",
       "    </tr>\n",
       "    <tr>\n",
       "      <th>3</th>\n",
       "      <td>2001</td>\n",
       "      <td>1</td>\n",
       "      <td>AK</td>\n",
       "      <td>Combined Heat and Power/ Electric Power</td>\n",
       "      <td>Petroleum</td>\n",
       "      <td>213.0</td>\n",
       "    </tr>\n",
       "    <tr>\n",
       "      <th>4</th>\n",
       "      <td>2001</td>\n",
       "      <td>1</td>\n",
       "      <td>AK</td>\n",
       "      <td>Combined Heat and Power/ Industrial Power</td>\n",
       "      <td>Natural Gas</td>\n",
       "      <td>62244.0</td>\n",
       "    </tr>\n",
       "    <tr>\n",
       "      <th>...</th>\n",
       "      <td>...</td>\n",
       "      <td>...</td>\n",
       "      <td>...</td>\n",
       "      <td>...</td>\n",
       "      <td>...</td>\n",
       "      <td>...</td>\n",
       "    </tr>\n",
       "    <tr>\n",
       "      <th>224657</th>\n",
       "      <td>2022</td>\n",
       "      <td>5</td>\n",
       "      <td>WY</td>\n",
       "      <td>Electric Generators/ Electric Utilities</td>\n",
       "      <td>Petroleum</td>\n",
       "      <td>1812.0</td>\n",
       "    </tr>\n",
       "    <tr>\n",
       "      <th>224658</th>\n",
       "      <td>2022</td>\n",
       "      <td>5</td>\n",
       "      <td>WY</td>\n",
       "      <td>Electric Generators/ Electric Utilities</td>\n",
       "      <td>Renewable energy</td>\n",
       "      <td>549703.0</td>\n",
       "    </tr>\n",
       "    <tr>\n",
       "      <th>224659</th>\n",
       "      <td>2022</td>\n",
       "      <td>5</td>\n",
       "      <td>WY</td>\n",
       "      <td>Electric Generators/ Independent Power Producers</td>\n",
       "      <td>Coal</td>\n",
       "      <td>55187.0</td>\n",
       "    </tr>\n",
       "    <tr>\n",
       "      <th>224660</th>\n",
       "      <td>2022</td>\n",
       "      <td>5</td>\n",
       "      <td>WY</td>\n",
       "      <td>Electric Generators/ Independent Power Producers</td>\n",
       "      <td>Natural Gas</td>\n",
       "      <td>0.0</td>\n",
       "    </tr>\n",
       "    <tr>\n",
       "      <th>224661</th>\n",
       "      <td>2022</td>\n",
       "      <td>5</td>\n",
       "      <td>WY</td>\n",
       "      <td>Electric Generators/ Independent Power Producers</td>\n",
       "      <td>Renewable energy</td>\n",
       "      <td>400255.0</td>\n",
       "    </tr>\n",
       "  </tbody>\n",
       "</table>\n",
       "<p>224662 rows × 6 columns</p>\n",
       "</div>"
      ],
      "text/plain": [
       "        year  month state                                          producer  \\\n",
       "0       2001      1    AK         Combined Heat and Power/ Commercial Power   \n",
       "1       2001      1    AK         Combined Heat and Power/ Commercial Power   \n",
       "2       2001      1    AK           Combined Heat and Power/ Electric Power   \n",
       "3       2001      1    AK           Combined Heat and Power/ Electric Power   \n",
       "4       2001      1    AK         Combined Heat and Power/ Industrial Power   \n",
       "...      ...    ...   ...                                               ...   \n",
       "224657  2022      5    WY           Electric Generators/ Electric Utilities   \n",
       "224658  2022      5    WY           Electric Generators/ Electric Utilities   \n",
       "224659  2022      5    WY  Electric Generators/ Independent Power Producers   \n",
       "224660  2022      5    WY  Electric Generators/ Independent Power Producers   \n",
       "224661  2022      5    WY  Electric Generators/ Independent Power Producers   \n",
       "\n",
       "                  source  generated  \n",
       "0                   Coal     8751.0  \n",
       "1              Petroleum     1073.0  \n",
       "2                   Coal    19742.0  \n",
       "3              Petroleum      213.0  \n",
       "4            Natural Gas    62244.0  \n",
       "...                  ...        ...  \n",
       "224657         Petroleum     1812.0  \n",
       "224658  Renewable energy   549703.0  \n",
       "224659              Coal    55187.0  \n",
       "224660       Natural Gas        0.0  \n",
       "224661  Renewable energy   400255.0  \n",
       "\n",
       "[224662 rows x 6 columns]"
      ]
     },
     "execution_count": 5,
     "metadata": {},
     "output_type": "execute_result"
    }
   ],
   "source": [
    "from tran_total_energy import transform_data\n",
    "import sys\n",
    "\n",
    "import psycopg2\n",
    "\n",
    "from psycopg2 import OperationalError, errorcodes, errors\n",
    "import psycopg2.extras as extras\n",
    "import pandas as pd\n",
    "from io import StringIO\n",
    "import numpy as np\n",
    "\n",
    "import plotly.express as px\n",
    "from timeit import default_timer as timer\n",
    "\n",
    "\n",
    "from tran_total_energy import transform_data\n",
    "start = timer()\n",
    "x = transform_data()\n",
    "end = timer()\n",
    "k = end - start \n",
    "print(\"Query execution time: {}s\".format(k))\n",
    "x"
   ]
  },
  {
   "cell_type": "code",
   "execution_count": 6,
   "id": "c3cc71c6",
   "metadata": {},
   "outputs": [
    {
     "name": "stdout",
     "output_type": "stream",
     "text": [
      "Overwriting query_total_energy.py\n"
     ]
    }
   ],
   "source": [
    "%%file query_total_energy.py \n",
    "\n",
    "from tran_total_energy import transform_data\n",
    "import sys\n",
    "\n",
    "import psycopg2\n",
    "\n",
    "from psycopg2 import OperationalError, errorcodes, errors\n",
    "import psycopg2.extras as extras\n",
    "import pandas as pd\n",
    "from io import StringIO\n",
    "import numpy as np\n",
    "\n",
    "import plotly.express as px\n",
    "from timeit import default_timer as timer\n",
    "\n",
    "edf = transform_data()\n",
    "\n",
    "params_dic = {\n",
    "    \"host\"      : \"localhost\",\n",
    "    \"user\"      : \"postgres\",\n",
    "    \"password\"  : \"postgres\",\n",
    "    \"port\"      : \"5432\"\n",
    "}\n",
    "\n",
    "def connect(params_dic):\n",
    "    \"\"\" Connect to the PostgreSQL database server \"\"\"\n",
    "    conn = None\n",
    "    try:\n",
    "        # connect to the PostgreSQL server\n",
    "        print('Connecting to the PostgreSQL database...')\n",
    "        conn = psycopg2.connect(**params_dic)\n",
    "    except (Exception, psycopg2.DatabaseError) as error:\n",
    "        print(error)\n",
    "        sys.exit(1) \n",
    "    print(\"Connection successful\")\n",
    "    return conn\n",
    "conn = connect(params_dic)\n",
    "\n",
    "#install psycopg2-binary for MacOs if you don't have it\n",
    "    #!pip install psycopg2-binary\n",
    "\n",
    "# Define a function that handles and parses psycopg2 exceptions\n",
    "def show_psycopg2_exception(err):\n",
    "    # get details about the exception\n",
    "    err_type, err_obj, traceback = sys.exc_info()    \n",
    "    # get the line number when exception occured\n",
    "    line_n = traceback.tb_lineno    \n",
    "    # print the connect() error\n",
    "    print (\"\\npsycopg2 ERROR:\", err, \"on line number:\", line_n)\n",
    "    print (\"psycopg2 traceback:\", traceback, \"-- type:\", err_type) \n",
    "    # psycopg2 extensions.Diagnostics object attribute\n",
    "    print (\"\\nextensions.Diagnostics:\", err.diag)    \n",
    "    # print the pgcode and pgerror exceptions\n",
    "    print (\"pgerror:\", err.pgerror)\n",
    "    print (\"pgcode:\", err.pgcode, \"\\n\")\n",
    "\n",
    "def create_table(cursor):\n",
    "    try:\n",
    "        # \n",
    "        cursor.execute(\"DROP TABLE IF EXISTS energy_type;\")\n",
    "        sql = '''CREATE TABLE energy_type(\n",
    "        year INT NOT NULL,\n",
    "        month INT NOT NULL,\n",
    "        state VARCHAR NOT NULL, \n",
    "        producer VARCHAR NOT NULL,\n",
    "        source VARCHAR NOT NULL, \n",
    "        generated FLOAT NOT NULL\n",
    "        )'''\n",
    "        # Creating a table\n",
    "        cursor.execute(sql);\n",
    "        print(\"energy table is created successfully...............\")  \n",
    "    except OperationalError as err:\n",
    "        # pass exception to function\n",
    "        show_psycopg2_exception(err)\n",
    "        # set the connection to 'None' in case of error\n",
    "        conn = None\n",
    "\n",
    "# Define function using copy_from() with StringIO to insert the dataframe\n",
    "def copy_from_dataFile_StringIO(conn, datafrm, table):\n",
    "    \n",
    "    #save dataframe to an in memory buffer\n",
    "    buffer = StringIO()\n",
    "    datafrm.to_csv(buffer, header=False, index = False)\n",
    "    buffer.seek(0)\n",
    "    \n",
    "    cursor = conn.cursor()\n",
    "    try:\n",
    "        cursor.copy_from(buffer, table, sep=\",\")\n",
    "        print(\"Data inserted using copy_from_datafile_StringIO() successfully....\")\n",
    "    except (Exception, psycopg2.DatabaseError) as err:\n",
    "        # pass exception to function\n",
    "        show_psycopg2_exception(err)\n",
    "        cursor.close()\n",
    "\n",
    "conn = connect(params_dic)\n",
    "\n",
    "# We set autocommit=True so every command we execute will produce results immediately.\n",
    "conn.autocommit = True\n",
    "cursor = conn.cursor()\n",
    "create_table(cursor)\n",
    "\n",
    "copy_from_dataFile_StringIO(conn, edf, 'energy_type')\n",
    "\n",
    "\n",
    "def query_data():\n",
    "    start = timer()\n",
    "\n",
    "    conn.autocommit = True\n",
    "    cursor = conn.cursor()\n",
    "  \n",
    "    sql = '''SELECT state, source, SUM(generated)\n",
    "            FROM energy_type \n",
    "            WHERE YEAR != 2022\n",
    "            Group By state, source\n",
    "            Order By state\n",
    "                ;''' \n",
    "  \n",
    "    cursor.execute(sql)\n",
    "    results = cursor.fetchall()\n",
    "    df = pd.DataFrame (results, columns = ['State', 'Energy Source','Total Generated'])\n",
    "    conn.commit()\n",
    "    end = timer()\n",
    "    k = end - start \n",
    "    #print(\"Query execution time: {}s\".format(k))\n",
    "    #fig.show()\n",
    "    return df"
   ]
  },
  {
   "cell_type": "code",
   "execution_count": 7,
   "id": "e20b8bc5",
   "metadata": {},
   "outputs": [
    {
     "name": "stdout",
     "output_type": "stream",
     "text": [
      "Connecting to the PostgreSQL database...\n",
      "Connection successful\n",
      "Connecting to the PostgreSQL database...\n",
      "Connection successful\n",
      "energy table is created successfully...............\n",
      "Data inserted using copy_from_datafile_StringIO() successfully....\n",
      "Query execution time: 1.8420055820000023s\n"
     ]
    }
   ],
   "source": [
    "from tran_total_energy import transform_data\n",
    "from query_total_energy import query_data\n",
    "\n",
    "start = timer()\n",
    "x = transform_data()\n",
    "y = query_data()\n",
    "end = timer()\n",
    "k = end - start \n",
    "print(\"Query execution time: {}s\".format(k))"
   ]
  },
  {
   "cell_type": "code",
   "execution_count": 8,
   "id": "4d49ffab",
   "metadata": {},
   "outputs": [
    {
     "data": {
      "text/html": [
       "<div>\n",
       "<style scoped>\n",
       "    .dataframe tbody tr th:only-of-type {\n",
       "        vertical-align: middle;\n",
       "    }\n",
       "\n",
       "    .dataframe tbody tr th {\n",
       "        vertical-align: top;\n",
       "    }\n",
       "\n",
       "    .dataframe thead th {\n",
       "        text-align: right;\n",
       "    }\n",
       "</style>\n",
       "<table border=\"1\" class=\"dataframe\">\n",
       "  <thead>\n",
       "    <tr style=\"text-align: right;\">\n",
       "      <th></th>\n",
       "      <th>State</th>\n",
       "      <th>Energy Source</th>\n",
       "      <th>Total Generated</th>\n",
       "    </tr>\n",
       "  </thead>\n",
       "  <tbody>\n",
       "    <tr>\n",
       "      <th>0</th>\n",
       "      <td>AK</td>\n",
       "      <td>Coal</td>\n",
       "      <td>1.328460e+07</td>\n",
       "    </tr>\n",
       "    <tr>\n",
       "      <th>1</th>\n",
       "      <td>AK</td>\n",
       "      <td>Natural Gas</td>\n",
       "      <td>7.167660e+07</td>\n",
       "    </tr>\n",
       "    <tr>\n",
       "      <th>2</th>\n",
       "      <td>AK</td>\n",
       "      <td>Other</td>\n",
       "      <td>5.767160e+03</td>\n",
       "    </tr>\n",
       "    <tr>\n",
       "      <th>3</th>\n",
       "      <td>AK</td>\n",
       "      <td>Petroleum</td>\n",
       "      <td>1.873001e+07</td>\n",
       "    </tr>\n",
       "    <tr>\n",
       "      <th>4</th>\n",
       "      <td>AK</td>\n",
       "      <td>Other Gases</td>\n",
       "      <td>5.396770e+03</td>\n",
       "    </tr>\n",
       "    <tr>\n",
       "      <th>...</th>\n",
       "      <td>...</td>\n",
       "      <td>...</td>\n",
       "      <td>...</td>\n",
       "    </tr>\n",
       "    <tr>\n",
       "      <th>318</th>\n",
       "      <td>WY</td>\n",
       "      <td>Other</td>\n",
       "      <td>1.379856e+06</td>\n",
       "    </tr>\n",
       "    <tr>\n",
       "      <th>319</th>\n",
       "      <td>WY</td>\n",
       "      <td>Renewable energy</td>\n",
       "      <td>8.200103e+07</td>\n",
       "    </tr>\n",
       "    <tr>\n",
       "      <th>320</th>\n",
       "      <td>WY</td>\n",
       "      <td>Natural Gas</td>\n",
       "      <td>1.364332e+07</td>\n",
       "    </tr>\n",
       "    <tr>\n",
       "      <th>321</th>\n",
       "      <td>WY</td>\n",
       "      <td>Coal</td>\n",
       "      <td>8.662618e+08</td>\n",
       "    </tr>\n",
       "    <tr>\n",
       "      <th>322</th>\n",
       "      <td>WY</td>\n",
       "      <td>Other Gases</td>\n",
       "      <td>5.441226e+06</td>\n",
       "    </tr>\n",
       "  </tbody>\n",
       "</table>\n",
       "<p>323 rows × 3 columns</p>\n",
       "</div>"
      ],
      "text/plain": [
       "    State     Energy Source  Total Generated\n",
       "0      AK              Coal     1.328460e+07\n",
       "1      AK       Natural Gas     7.167660e+07\n",
       "2      AK             Other     5.767160e+03\n",
       "3      AK         Petroleum     1.873001e+07\n",
       "4      AK       Other Gases     5.396770e+03\n",
       "..    ...               ...              ...\n",
       "318    WY             Other     1.379856e+06\n",
       "319    WY  Renewable energy     8.200103e+07\n",
       "320    WY       Natural Gas     1.364332e+07\n",
       "321    WY              Coal     8.662618e+08\n",
       "322    WY       Other Gases     5.441226e+06\n",
       "\n",
       "[323 rows x 3 columns]"
      ]
     },
     "execution_count": 8,
     "metadata": {},
     "output_type": "execute_result"
    }
   ],
   "source": [
    "query_data()"
   ]
  },
  {
   "cell_type": "code",
   "execution_count": 9,
   "id": "e59203ab",
   "metadata": {},
   "outputs": [
    {
     "name": "stdout",
     "output_type": "stream",
     "text": [
      "Overwriting test_total_energy.py\n"
     ]
    }
   ],
   "source": [
    "%%file test_total_energy.py\n",
    "\n",
    "from total_energy import import_data\n",
    "from tran_total_energy import transform_data\n",
    "from query_total_energy import query_data\n",
    "\n",
    "def test_data_columns_count():\n",
    "    df = import_data()\n",
    "    assert len(df.columns) == 7\n",
    "\n",
    "def test_data_row_count():\n",
    "    df = import_data()\n",
    "    assert len(df.index) == 496774\n",
    "    \n",
    "def test_transform_data_columns_count():\n",
    "    df = transform_data()\n",
    "    assert len(df.columns) == 6\n",
    "\n",
    "def test_transform_data_row_count():\n",
    "    df = transform_data()\n",
    "    assert len(df.index) == 224662\n",
    "    \n",
    "def test_query_data_column_count():\n",
    "    df = query_data()\n",
    "    assert len(df.columns) == 3\n",
    "\n",
    "def test_query_data_row_count():\n",
    "    df = query_data()\n",
    "    assert len(df.index) == 323"
   ]
  },
  {
   "cell_type": "code",
   "execution_count": 10,
   "id": "429df940",
   "metadata": {},
   "outputs": [
    {
     "name": "stdout",
     "output_type": "stream",
     "text": [
      "\u001b[1m============================= test session starts ==============================\u001b[0m\n",
      "platform darwin -- Python 3.9.7, pytest-6.2.4, py-1.10.0, pluggy-0.13.1\n",
      "rootdir: /Users/slimykid/Group4_NFLX_MIDTERM/Lisa\n",
      "plugins: anyio-2.2.0\n",
      "collected 6 items                                                              \u001b[0m\u001b[1m\n",
      "\n",
      "test_total_energy.py \u001b[32m.\u001b[0m\u001b[32m.\u001b[0m\u001b[32m.\u001b[0m\u001b[32m.\u001b[0m\u001b[32m.\u001b[0m\u001b[32m.\u001b[0m\u001b[32m                                              [100%]\u001b[0m\n",
      "\n",
      "\u001b[32m============================== \u001b[32m\u001b[1m6 passed\u001b[0m\u001b[32m in 12.68s\u001b[0m\u001b[32m ==============================\u001b[0m\n"
     ]
    }
   ],
   "source": [
    "# Run the test_import_data.py file with pytest. \n",
    "!python -m pytest test_total_energy.py"
   ]
  },
  {
   "cell_type": "code",
   "execution_count": 18,
   "id": "466c1277",
   "metadata": {},
   "outputs": [
    {
     "data": {
      "application/vnd.plotly.v1+json": {
       "config": {
        "plotlyServerURL": "https://plotly.com"
       },
       "data": [
        {
         "alignmentgroup": "True",
         "hovertemplate": "Energy Source=Coal<br>State=%{x}<br>Total Generated=%{y}<extra></extra>",
         "legendgroup": "Coal",
         "marker": {
          "color": "#636efa",
          "pattern": {
           "shape": ""
          }
         },
         "name": "Coal",
         "offsetgroup": "Coal",
         "orientation": "v",
         "showlegend": true,
         "textposition": "auto",
         "type": "bar",
         "x": [
          "AK",
          "AL",
          "AR",
          "AZ",
          "CA",
          "CO",
          "CT",
          "DE",
          "FL",
          "GA",
          "HI",
          "IA",
          "ID",
          "IL",
          "IN",
          "KS",
          "KY",
          "LA",
          "MA",
          "MD",
          "ME",
          "MI",
          "MN",
          "MO",
          "MS",
          "MT",
          "NC",
          "ND",
          "NE",
          "NH",
          "NJ",
          "NM",
          "NV",
          "NY",
          "OH",
          "OK",
          "OR",
          "PA",
          "RI",
          "SC",
          "SD",
          "TN",
          "TX",
          "UT",
          "VA",
          "WA",
          "WI",
          "WV",
          "WY"
         ],
         "xaxis": "x",
         "y": [
          13284598.649999999,
          1134211481.2400002,
          533961121.73999983,
          755195340.6299999,
          29215091.540000014,
          672340460.0599997,
          41147551.089999996,
          49205392.16,
          1042274470.56,
          1188545431.3,
          30796142.929999992,
          675236563.2900001,
          1434862.01,
          1628432290.7499995,
          2034805515.39,
          598985574.2600001,
          1624011320.9900002,
          388755214.93000007,
          125467591.68999997,
          411326488.7599999,
          4132458.7999999993,
          1184125761.6499999,
          567613055.3799999,
          1454343131.5299993,
          236582330.33000004,
          323026834.64,
          1168256960.17,
          584577111.1900002,
          462439774.15999985,
          46045455.489999995,
          111373209.49000002,
          489813848.6000001,
          162476547.83999997,
          231020250.52999997,
          2066429947.51,
          573693280.7,
          62240432.52000001,
          1816566997.9899995,
          0,
          624125811.1499999,
          58004448.20999999,
          860784149.1099999,
          2793403401.2600007,
          674163764.8300002,
          476667236.36,
          147883427.22000003,
          774146847.0599998,
          1597310313.38,
          866261830.8599999
         ],
         "yaxis": "y"
        },
        {
         "alignmentgroup": "True",
         "hovertemplate": "Energy Source=Natural Gas<br>State=%{x}<br>Total Generated=%{y}<extra></extra>",
         "legendgroup": "Natural Gas",
         "marker": {
          "color": "#EF553B",
          "pattern": {
           "shape": ""
          }
         },
         "name": "Natural Gas",
         "offsetgroup": "Natural Gas",
         "orientation": "v",
         "showlegend": true,
         "textposition": "auto",
         "type": "bar",
         "x": [
          "AK",
          "AL",
          "AR",
          "AZ",
          "CA",
          "CO",
          "CT",
          "DC",
          "DE",
          "FL",
          "GA",
          "HI",
          "IA",
          "ID",
          "IL",
          "IN",
          "KS",
          "KY",
          "LA",
          "MA",
          "MD",
          "ME",
          "MI",
          "MN",
          "MO",
          "MS",
          "MT",
          "NC",
          "ND",
          "NE",
          "NH",
          "NJ",
          "NM",
          "NV",
          "NY",
          "OH",
          "OK",
          "OR",
          "PA",
          "RI",
          "SC",
          "SD",
          "TN",
          "TX",
          "UT",
          "VA",
          "VT",
          "WA",
          "WI",
          "WV",
          "WY"
         ],
         "xaxis": "x",
         "y": [
          71676601.18,
          793187588.0699998,
          257722409.31,
          671057823.28,
          2161111639.3799996,
          262223425.28999996,
          287859959.42999995,
          732398.2899999999,
          79909202.68999998,
          2647370187.87,
          652432280.5699999,
          0,
          58691088.84,
          49612935.56999999,
          212459856.65000004,
          252011223.16999996,
          44310695.64,
          103486108.13,
          1129515190.12,
          424887976.9699999,
          105521089.83999999,
          127958936.40999992,
          390324386.22,
          114126205.62999998,
          102759383.25,
          657309915.5300001,
          5791220.510000001,
          412276113.36,
          8090228.54,
          14257293.620000001,
          97479608.77000001,
          551571892.0899999,
          165697537.96000004,
          474241524.92999995,
          974824409.8500005,
          397374177.5,
          673506654.35,
          303016510.06,
          970207493.85,
          144352052.47,
          248560737.65,
          10606063.09,
          120962717.05000001,
          4392535911.03,
          124997298.05000001,
          515009413.22,
          60697.81999999999,
          208647378.06,
          201425665.61000004,
          17102531.15,
          13643324.670000002
         ],
         "yaxis": "y"
        },
        {
         "alignmentgroup": "True",
         "hovertemplate": "Energy Source=Other<br>State=%{x}<br>Total Generated=%{y}<extra></extra>",
         "legendgroup": "Other",
         "marker": {
          "color": "#00cc96",
          "pattern": {
           "shape": ""
          }
         },
         "name": "Other",
         "offsetgroup": "Other",
         "orientation": "v",
         "showlegend": true,
         "textposition": "auto",
         "type": "bar",
         "x": [
          "AK",
          "AL",
          "AR",
          "AZ",
          "CA",
          "CO",
          "CT",
          "DE",
          "FL",
          "GA",
          "HI",
          "IA",
          "ID",
          "IL",
          "IN",
          "KS",
          "KY",
          "LA",
          "MA",
          "MD",
          "ME",
          "MI",
          "MN",
          "MO",
          "MS",
          "MT",
          "NC",
          "ND",
          "NE",
          "NH",
          "NJ",
          "NM",
          "NV",
          "NY",
          "OH",
          "OK",
          "OR",
          "PA",
          "RI",
          "SC",
          "SD",
          "TN",
          "TX",
          "UT",
          "VA",
          "VT",
          "WA",
          "WI",
          "WV",
          "WY"
         ],
         "xaxis": "x",
         "y": [
          5767.160000000002,
          1594962.92,
          587650.54,
          2834470.9800000004,
          13349910.399999999,
          806118.75,
          14256113.26,
          16818,
          65072330.12999999,
          1346660.25,
          5844666.48,
          83918,
          1374778,
          3865281.1899999995,
          7706570.399999999,
          24687,
          595717.09,
          12754671.38,
          17465866.310000002,
          6290182.959999999,
          7887924.860000001,
          6563090.670000004,
          7061943.710000002,
          744501.7199999999,
          87998.69,
          3841477,
          8343525.050000001,
          592042.5,
          58,
          1207055.62,
          11773141.369999997,
          2691.2500000000005,
          256622.76,
          19222205.3,
          327448.6200000001,
          250610.81,
          858951.1299999999,
          17147790.07,
          587380,
          1273057.0100000002,
          61962,
          166193.18000000002,
          13789111.52,
          2335238.06,
          9590301.71,
          -1307,
          1672209.4500000002,
          1659106.7699999993,
          1806.7500000000146,
          1379855.6
         ],
         "yaxis": "y"
        },
        {
         "alignmentgroup": "True",
         "hovertemplate": "Energy Source=Other Gases<br>State=%{x}<br>Total Generated=%{y}<extra></extra>",
         "legendgroup": "Other Gases",
         "marker": {
          "color": "#ab63fa",
          "pattern": {
           "shape": ""
          }
         },
         "name": "Other Gases",
         "offsetgroup": "Other Gases",
         "orientation": "v",
         "showlegend": true,
         "textposition": "auto",
         "type": "bar",
         "x": [
          "AK",
          "AL",
          "CA",
          "CO",
          "CT",
          "DE",
          "FL",
          "HI",
          "IL",
          "IN",
          "KY",
          "LA",
          "MA",
          "MD",
          "ME",
          "MI",
          "MN",
          "MO",
          "MS",
          "MT",
          "NC",
          "ND",
          "NE",
          "NH",
          "NJ",
          "NV",
          "NY",
          "OH",
          "OK",
          "OR",
          "PA",
          "SC",
          "TN",
          "TX",
          "UT",
          "VA",
          "WA",
          "WI",
          "WV",
          "WY"
         ],
         "xaxis": "x",
         "y": [
          5396.77,
          2706141.9499999993,
          33421699.18,
          58215,
          29678,
          5959123.91,
          152986.32999999996,
          754774.3099999999,
          4736846.620000001,
          50750823.08,
          26084,
          37601864.59,
          0,
          3822572.7400000007,
          173,
          15003895.71,
          76475,
          31032,
          283493,
          201527.18,
          1871,
          929019.01,
          455,
          0,
          3651040.67,
          141431.67,
          116217,
          10946464.25,
          251586,
          0,
          11323587.21,
          6266,
          266074.31,
          64720065.89999999,
          254140.94,
          2959,
          6589565.55,
          19,
          1278986.6600000001,
          5441225.659999999
         ],
         "yaxis": "y"
        },
        {
         "alignmentgroup": "True",
         "hovertemplate": "Energy Source=Petroleum<br>State=%{x}<br>Total Generated=%{y}<extra></extra>",
         "legendgroup": "Petroleum",
         "marker": {
          "color": "#FFA15A",
          "pattern": {
           "shape": ""
          }
         },
         "name": "Petroleum",
         "offsetgroup": "Petroleum",
         "orientation": "v",
         "showlegend": true,
         "textposition": "auto",
         "type": "bar",
         "x": [
          "AK",
          "AL",
          "AR",
          "AZ",
          "CA",
          "CO",
          "CT",
          "DC",
          "DE",
          "FL",
          "GA",
          "HI",
          "IA",
          "ID",
          "IL",
          "IN",
          "KS",
          "KY",
          "LA",
          "MA",
          "MD",
          "ME",
          "MI",
          "MN",
          "MO",
          "MS",
          "MT",
          "NC",
          "ND",
          "NE",
          "NH",
          "NJ",
          "NM",
          "NV",
          "NY",
          "OH",
          "OK",
          "OR",
          "PA",
          "RI",
          "SC",
          "SD",
          "TN",
          "TX",
          "UT",
          "VA",
          "VT",
          "WA",
          "WI",
          "WV",
          "WY"
         ],
         "xaxis": "x",
         "y": [
          18730013.229999997,
          3380408.5799999977,
          3016039.0699999994,
          1356989.69,
          23139507.74,
          289705.01,
          20549914.040000007,
          1326510,
          8337639.539999999,
          281371030.4799999,
          12734466.629999999,
          162859719.12000003,
          3035151.3399999985,
          5563.199999999999,
          5230233.459999999,
          10780491.390000002,
          5163532.549999999,
          35661910.93000001,
          73660903.13999999,
          49921532.16999995,
          20627456.009999998,
          12733962.169999992,
          16196809.049999999,
          5351695.87,
          3105298.01,
          12183788.110000003,
          9486252.51,
          8123582.6899999995,
          797901.7499999998,
          500624.7899999999,
          8850037.739999998,
          9702380.850000003,
          1074578.8199999998,
          1280481.3699999999,
          127339516.89999998,
          24090107.99,
          987452.4800000002,
          412192.6399999998,
          29778992.159999993,
          888347.03,
          5492284.77,
          316879.06999999995,
          4021859.4000000004,
          21414252.879999988,
          834370.66,
          37163459.2,
          169774.31,
          1072297.2499999998,
          9730818.499999998,
          3775349.2699999996,
          970024.3099999999
         ],
         "yaxis": "y"
        },
        {
         "alignmentgroup": "True",
         "hovertemplate": "Energy Source=Renewable energy<br>State=%{x}<br>Total Generated=%{y}<extra></extra>",
         "legendgroup": "Renewable energy",
         "marker": {
          "color": "#19d3f3",
          "pattern": {
           "shape": ""
          }
         },
         "name": "Renewable energy",
         "offsetgroup": "Renewable energy",
         "orientation": "v",
         "showlegend": true,
         "textposition": "auto",
         "type": "bar",
         "x": [
          "AK",
          "AL",
          "AR",
          "AZ",
          "CA",
          "CO",
          "CT",
          "DC",
          "DE",
          "FL",
          "GA",
          "HI",
          "IA",
          "ID",
          "IL",
          "IN",
          "KS",
          "KY",
          "LA",
          "MA",
          "MD",
          "ME",
          "MI",
          "MN",
          "MO",
          "MS",
          "MT",
          "NC",
          "ND",
          "NE",
          "NH",
          "NJ",
          "NM",
          "NV",
          "NY",
          "OH",
          "OK",
          "OR",
          "PA",
          "RI",
          "SC",
          "SD",
          "TN",
          "TX",
          "UT",
          "VA",
          "VT",
          "WA",
          "WI",
          "WV",
          "WY"
         ],
         "xaxis": "x",
         "y": [
          33101754.750000004,
          275212796.00000006,
          102997361.00000003,
          196434886.59,
          1393648971.3999999,
          154355531.09999996,
          25631150.790000003,
          400706,
          1868844.9499999997,
          121608737.65,
          157929595.92000002,
          21418842.1,
          286863305.96,
          243151117.4500001,
          155742155.82999998,
          75702045.63000001,
          175588715.32999998,
          81019940.25999999,
          77059829.43,
          45335592.78999999,
          59292363.25,
          164541572.38000005,
          114681579.45000002,
          187025183.1,
          58763809.96,
          31524855.330000006,
          236671152.35,
          197304870.73999998,
          151120504.45000002,
          76708798.65,
          57595152.87,
          24200963.92,
          73901987.47,
          129731115.41,
          643741188.9900002,
          39930919.78,
          282086999.8,
          826333150.2399999,
          131537903.71999997,
          4804812.649999999,
          75778165.34,
          143575196.82999998,
          202802361.47,
          836936823.85,
          45359023.370000005,
          68332782.81,
          38428702.67000001,
          1728270983.1699996,
          93308644.05000001,
          50160953.42,
          82001031.89
         ],
         "yaxis": "y"
        },
        {
         "alignmentgroup": "True",
         "hovertemplate": "Energy Source=Nuclear<br>State=%{x}<br>Total Generated=%{y}<extra></extra>",
         "legendgroup": "Nuclear",
         "marker": {
          "color": "#FF6692",
          "pattern": {
           "shape": ""
          }
         },
         "name": "Nuclear",
         "offsetgroup": "Nuclear",
         "orientation": "v",
         "showlegend": true,
         "textposition": "auto",
         "type": "bar",
         "x": [
          "AL",
          "AR",
          "AZ",
          "CA",
          "CT",
          "FL",
          "GA",
          "IA",
          "IL",
          "KS",
          "LA",
          "MA",
          "MD",
          "MI",
          "MN",
          "MO",
          "MS",
          "NC",
          "NE",
          "NH",
          "NJ",
          "NY",
          "OH",
          "PA",
          "SC",
          "TN",
          "TX",
          "VA",
          "VT",
          "WA",
          "WI"
         ],
         "xaxis": "x",
         "y": [
          799576060,
          299225801,
          634400907,
          546284042,
          343299782,
          598909869,
          693244869,
          93138763,
          2014331832,
          190200467,
          347863867,
          98555949,
          301334706,
          635129843,
          274800033,
          188232315,
          200832509,
          857569863,
          177843984,
          204708869,
          655672587,
          873974762,
          333984234,
          1638937060,
          1109237002,
          610284849,
          831506903,
          591357332,
          65159442,
          179245360,
          237933800
         ],
         "yaxis": "y"
        }
       ],
       "layout": {
        "barmode": "relative",
        "legend": {
         "title": {
          "text": "Energy Source"
         },
         "tracegroupgap": 0
        },
        "template": {
         "data": {
          "bar": [
           {
            "error_x": {
             "color": "#2a3f5f"
            },
            "error_y": {
             "color": "#2a3f5f"
            },
            "marker": {
             "line": {
              "color": "#E5ECF6",
              "width": 0.5
             },
             "pattern": {
              "fillmode": "overlay",
              "size": 10,
              "solidity": 0.2
             }
            },
            "type": "bar"
           }
          ],
          "barpolar": [
           {
            "marker": {
             "line": {
              "color": "#E5ECF6",
              "width": 0.5
             },
             "pattern": {
              "fillmode": "overlay",
              "size": 10,
              "solidity": 0.2
             }
            },
            "type": "barpolar"
           }
          ],
          "carpet": [
           {
            "aaxis": {
             "endlinecolor": "#2a3f5f",
             "gridcolor": "white",
             "linecolor": "white",
             "minorgridcolor": "white",
             "startlinecolor": "#2a3f5f"
            },
            "baxis": {
             "endlinecolor": "#2a3f5f",
             "gridcolor": "white",
             "linecolor": "white",
             "minorgridcolor": "white",
             "startlinecolor": "#2a3f5f"
            },
            "type": "carpet"
           }
          ],
          "choropleth": [
           {
            "colorbar": {
             "outlinewidth": 0,
             "ticks": ""
            },
            "type": "choropleth"
           }
          ],
          "contour": [
           {
            "colorbar": {
             "outlinewidth": 0,
             "ticks": ""
            },
            "colorscale": [
             [
              0,
              "#0d0887"
             ],
             [
              0.1111111111111111,
              "#46039f"
             ],
             [
              0.2222222222222222,
              "#7201a8"
             ],
             [
              0.3333333333333333,
              "#9c179e"
             ],
             [
              0.4444444444444444,
              "#bd3786"
             ],
             [
              0.5555555555555556,
              "#d8576b"
             ],
             [
              0.6666666666666666,
              "#ed7953"
             ],
             [
              0.7777777777777778,
              "#fb9f3a"
             ],
             [
              0.8888888888888888,
              "#fdca26"
             ],
             [
              1,
              "#f0f921"
             ]
            ],
            "type": "contour"
           }
          ],
          "contourcarpet": [
           {
            "colorbar": {
             "outlinewidth": 0,
             "ticks": ""
            },
            "type": "contourcarpet"
           }
          ],
          "heatmap": [
           {
            "colorbar": {
             "outlinewidth": 0,
             "ticks": ""
            },
            "colorscale": [
             [
              0,
              "#0d0887"
             ],
             [
              0.1111111111111111,
              "#46039f"
             ],
             [
              0.2222222222222222,
              "#7201a8"
             ],
             [
              0.3333333333333333,
              "#9c179e"
             ],
             [
              0.4444444444444444,
              "#bd3786"
             ],
             [
              0.5555555555555556,
              "#d8576b"
             ],
             [
              0.6666666666666666,
              "#ed7953"
             ],
             [
              0.7777777777777778,
              "#fb9f3a"
             ],
             [
              0.8888888888888888,
              "#fdca26"
             ],
             [
              1,
              "#f0f921"
             ]
            ],
            "type": "heatmap"
           }
          ],
          "heatmapgl": [
           {
            "colorbar": {
             "outlinewidth": 0,
             "ticks": ""
            },
            "colorscale": [
             [
              0,
              "#0d0887"
             ],
             [
              0.1111111111111111,
              "#46039f"
             ],
             [
              0.2222222222222222,
              "#7201a8"
             ],
             [
              0.3333333333333333,
              "#9c179e"
             ],
             [
              0.4444444444444444,
              "#bd3786"
             ],
             [
              0.5555555555555556,
              "#d8576b"
             ],
             [
              0.6666666666666666,
              "#ed7953"
             ],
             [
              0.7777777777777778,
              "#fb9f3a"
             ],
             [
              0.8888888888888888,
              "#fdca26"
             ],
             [
              1,
              "#f0f921"
             ]
            ],
            "type": "heatmapgl"
           }
          ],
          "histogram": [
           {
            "marker": {
             "pattern": {
              "fillmode": "overlay",
              "size": 10,
              "solidity": 0.2
             }
            },
            "type": "histogram"
           }
          ],
          "histogram2d": [
           {
            "colorbar": {
             "outlinewidth": 0,
             "ticks": ""
            },
            "colorscale": [
             [
              0,
              "#0d0887"
             ],
             [
              0.1111111111111111,
              "#46039f"
             ],
             [
              0.2222222222222222,
              "#7201a8"
             ],
             [
              0.3333333333333333,
              "#9c179e"
             ],
             [
              0.4444444444444444,
              "#bd3786"
             ],
             [
              0.5555555555555556,
              "#d8576b"
             ],
             [
              0.6666666666666666,
              "#ed7953"
             ],
             [
              0.7777777777777778,
              "#fb9f3a"
             ],
             [
              0.8888888888888888,
              "#fdca26"
             ],
             [
              1,
              "#f0f921"
             ]
            ],
            "type": "histogram2d"
           }
          ],
          "histogram2dcontour": [
           {
            "colorbar": {
             "outlinewidth": 0,
             "ticks": ""
            },
            "colorscale": [
             [
              0,
              "#0d0887"
             ],
             [
              0.1111111111111111,
              "#46039f"
             ],
             [
              0.2222222222222222,
              "#7201a8"
             ],
             [
              0.3333333333333333,
              "#9c179e"
             ],
             [
              0.4444444444444444,
              "#bd3786"
             ],
             [
              0.5555555555555556,
              "#d8576b"
             ],
             [
              0.6666666666666666,
              "#ed7953"
             ],
             [
              0.7777777777777778,
              "#fb9f3a"
             ],
             [
              0.8888888888888888,
              "#fdca26"
             ],
             [
              1,
              "#f0f921"
             ]
            ],
            "type": "histogram2dcontour"
           }
          ],
          "mesh3d": [
           {
            "colorbar": {
             "outlinewidth": 0,
             "ticks": ""
            },
            "type": "mesh3d"
           }
          ],
          "parcoords": [
           {
            "line": {
             "colorbar": {
              "outlinewidth": 0,
              "ticks": ""
             }
            },
            "type": "parcoords"
           }
          ],
          "pie": [
           {
            "automargin": true,
            "type": "pie"
           }
          ],
          "scatter": [
           {
            "marker": {
             "colorbar": {
              "outlinewidth": 0,
              "ticks": ""
             }
            },
            "type": "scatter"
           }
          ],
          "scatter3d": [
           {
            "line": {
             "colorbar": {
              "outlinewidth": 0,
              "ticks": ""
             }
            },
            "marker": {
             "colorbar": {
              "outlinewidth": 0,
              "ticks": ""
             }
            },
            "type": "scatter3d"
           }
          ],
          "scattercarpet": [
           {
            "marker": {
             "colorbar": {
              "outlinewidth": 0,
              "ticks": ""
             }
            },
            "type": "scattercarpet"
           }
          ],
          "scattergeo": [
           {
            "marker": {
             "colorbar": {
              "outlinewidth": 0,
              "ticks": ""
             }
            },
            "type": "scattergeo"
           }
          ],
          "scattergl": [
           {
            "marker": {
             "colorbar": {
              "outlinewidth": 0,
              "ticks": ""
             }
            },
            "type": "scattergl"
           }
          ],
          "scattermapbox": [
           {
            "marker": {
             "colorbar": {
              "outlinewidth": 0,
              "ticks": ""
             }
            },
            "type": "scattermapbox"
           }
          ],
          "scatterpolar": [
           {
            "marker": {
             "colorbar": {
              "outlinewidth": 0,
              "ticks": ""
             }
            },
            "type": "scatterpolar"
           }
          ],
          "scatterpolargl": [
           {
            "marker": {
             "colorbar": {
              "outlinewidth": 0,
              "ticks": ""
             }
            },
            "type": "scatterpolargl"
           }
          ],
          "scatterternary": [
           {
            "marker": {
             "colorbar": {
              "outlinewidth": 0,
              "ticks": ""
             }
            },
            "type": "scatterternary"
           }
          ],
          "surface": [
           {
            "colorbar": {
             "outlinewidth": 0,
             "ticks": ""
            },
            "colorscale": [
             [
              0,
              "#0d0887"
             ],
             [
              0.1111111111111111,
              "#46039f"
             ],
             [
              0.2222222222222222,
              "#7201a8"
             ],
             [
              0.3333333333333333,
              "#9c179e"
             ],
             [
              0.4444444444444444,
              "#bd3786"
             ],
             [
              0.5555555555555556,
              "#d8576b"
             ],
             [
              0.6666666666666666,
              "#ed7953"
             ],
             [
              0.7777777777777778,
              "#fb9f3a"
             ],
             [
              0.8888888888888888,
              "#fdca26"
             ],
             [
              1,
              "#f0f921"
             ]
            ],
            "type": "surface"
           }
          ],
          "table": [
           {
            "cells": {
             "fill": {
              "color": "#EBF0F8"
             },
             "line": {
              "color": "white"
             }
            },
            "header": {
             "fill": {
              "color": "#C8D4E3"
             },
             "line": {
              "color": "white"
             }
            },
            "type": "table"
           }
          ]
         },
         "layout": {
          "annotationdefaults": {
           "arrowcolor": "#2a3f5f",
           "arrowhead": 0,
           "arrowwidth": 1
          },
          "autotypenumbers": "strict",
          "coloraxis": {
           "colorbar": {
            "outlinewidth": 0,
            "ticks": ""
           }
          },
          "colorscale": {
           "diverging": [
            [
             0,
             "#8e0152"
            ],
            [
             0.1,
             "#c51b7d"
            ],
            [
             0.2,
             "#de77ae"
            ],
            [
             0.3,
             "#f1b6da"
            ],
            [
             0.4,
             "#fde0ef"
            ],
            [
             0.5,
             "#f7f7f7"
            ],
            [
             0.6,
             "#e6f5d0"
            ],
            [
             0.7,
             "#b8e186"
            ],
            [
             0.8,
             "#7fbc41"
            ],
            [
             0.9,
             "#4d9221"
            ],
            [
             1,
             "#276419"
            ]
           ],
           "sequential": [
            [
             0,
             "#0d0887"
            ],
            [
             0.1111111111111111,
             "#46039f"
            ],
            [
             0.2222222222222222,
             "#7201a8"
            ],
            [
             0.3333333333333333,
             "#9c179e"
            ],
            [
             0.4444444444444444,
             "#bd3786"
            ],
            [
             0.5555555555555556,
             "#d8576b"
            ],
            [
             0.6666666666666666,
             "#ed7953"
            ],
            [
             0.7777777777777778,
             "#fb9f3a"
            ],
            [
             0.8888888888888888,
             "#fdca26"
            ],
            [
             1,
             "#f0f921"
            ]
           ],
           "sequentialminus": [
            [
             0,
             "#0d0887"
            ],
            [
             0.1111111111111111,
             "#46039f"
            ],
            [
             0.2222222222222222,
             "#7201a8"
            ],
            [
             0.3333333333333333,
             "#9c179e"
            ],
            [
             0.4444444444444444,
             "#bd3786"
            ],
            [
             0.5555555555555556,
             "#d8576b"
            ],
            [
             0.6666666666666666,
             "#ed7953"
            ],
            [
             0.7777777777777778,
             "#fb9f3a"
            ],
            [
             0.8888888888888888,
             "#fdca26"
            ],
            [
             1,
             "#f0f921"
            ]
           ]
          },
          "colorway": [
           "#636efa",
           "#EF553B",
           "#00cc96",
           "#ab63fa",
           "#FFA15A",
           "#19d3f3",
           "#FF6692",
           "#B6E880",
           "#FF97FF",
           "#FECB52"
          ],
          "font": {
           "color": "#2a3f5f"
          },
          "geo": {
           "bgcolor": "white",
           "lakecolor": "white",
           "landcolor": "#E5ECF6",
           "showlakes": true,
           "showland": true,
           "subunitcolor": "white"
          },
          "hoverlabel": {
           "align": "left"
          },
          "hovermode": "closest",
          "mapbox": {
           "style": "light"
          },
          "paper_bgcolor": "white",
          "plot_bgcolor": "#E5ECF6",
          "polar": {
           "angularaxis": {
            "gridcolor": "white",
            "linecolor": "white",
            "ticks": ""
           },
           "bgcolor": "#E5ECF6",
           "radialaxis": {
            "gridcolor": "white",
            "linecolor": "white",
            "ticks": ""
           }
          },
          "scene": {
           "xaxis": {
            "backgroundcolor": "#E5ECF6",
            "gridcolor": "white",
            "gridwidth": 2,
            "linecolor": "white",
            "showbackground": true,
            "ticks": "",
            "zerolinecolor": "white"
           },
           "yaxis": {
            "backgroundcolor": "#E5ECF6",
            "gridcolor": "white",
            "gridwidth": 2,
            "linecolor": "white",
            "showbackground": true,
            "ticks": "",
            "zerolinecolor": "white"
           },
           "zaxis": {
            "backgroundcolor": "#E5ECF6",
            "gridcolor": "white",
            "gridwidth": 2,
            "linecolor": "white",
            "showbackground": true,
            "ticks": "",
            "zerolinecolor": "white"
           }
          },
          "shapedefaults": {
           "line": {
            "color": "#2a3f5f"
           }
          },
          "ternary": {
           "aaxis": {
            "gridcolor": "white",
            "linecolor": "white",
            "ticks": ""
           },
           "baxis": {
            "gridcolor": "white",
            "linecolor": "white",
            "ticks": ""
           },
           "bgcolor": "#E5ECF6",
           "caxis": {
            "gridcolor": "white",
            "linecolor": "white",
            "ticks": ""
           }
          },
          "title": {
           "x": 0.05
          },
          "xaxis": {
           "automargin": true,
           "gridcolor": "white",
           "linecolor": "white",
           "ticks": "",
           "title": {
            "standoff": 15
           },
           "zerolinecolor": "white",
           "zerolinewidth": 2
          },
          "yaxis": {
           "automargin": true,
           "gridcolor": "white",
           "linecolor": "white",
           "ticks": "",
           "title": {
            "standoff": 15
           },
           "zerolinecolor": "white",
           "zerolinewidth": 2
          }
         }
        },
        "title": {
         "text": "Energy Generated by Each State"
        },
        "xaxis": {
         "anchor": "y",
         "domain": [
          0,
          1
         ],
         "dtick": 1,
         "title": {
          "text": "State"
         }
        },
        "yaxis": {
         "anchor": "x",
         "domain": [
          0,
          1
         ],
         "title": {
          "text": "Total Generated"
         }
        }
       }
      },
      "text/html": [
       "<div>                            <div id=\"88b88840-844a-4ca8-9006-b26ad054b75d\" class=\"plotly-graph-div\" style=\"height:525px; width:100%;\"></div>            <script type=\"text/javascript\">                require([\"plotly\"], function(Plotly) {                    window.PLOTLYENV=window.PLOTLYENV || {};                                    if (document.getElementById(\"88b88840-844a-4ca8-9006-b26ad054b75d\")) {                    Plotly.newPlot(                        \"88b88840-844a-4ca8-9006-b26ad054b75d\",                        [{\"alignmentgroup\":\"True\",\"hovertemplate\":\"Energy Source=Coal<br>State=%{x}<br>Total Generated=%{y}<extra></extra>\",\"legendgroup\":\"Coal\",\"marker\":{\"color\":\"#636efa\",\"pattern\":{\"shape\":\"\"}},\"name\":\"Coal\",\"offsetgroup\":\"Coal\",\"orientation\":\"v\",\"showlegend\":true,\"textposition\":\"auto\",\"x\":[\"AK\",\"AL\",\"AR\",\"AZ\",\"CA\",\"CO\",\"CT\",\"DE\",\"FL\",\"GA\",\"HI\",\"IA\",\"ID\",\"IL\",\"IN\",\"KS\",\"KY\",\"LA\",\"MA\",\"MD\",\"ME\",\"MI\",\"MN\",\"MO\",\"MS\",\"MT\",\"NC\",\"ND\",\"NE\",\"NH\",\"NJ\",\"NM\",\"NV\",\"NY\",\"OH\",\"OK\",\"OR\",\"PA\",\"RI\",\"SC\",\"SD\",\"TN\",\"TX\",\"UT\",\"VA\",\"WA\",\"WI\",\"WV\",\"WY\"],\"xaxis\":\"x\",\"y\":[13284598.649999999,1134211481.2400002,533961121.73999983,755195340.6299999,29215091.540000014,672340460.0599997,41147551.089999996,49205392.16,1042274470.56,1188545431.3,30796142.929999992,675236563.2900001,1434862.01,1628432290.7499995,2034805515.39,598985574.2600001,1624011320.9900002,388755214.93000007,125467591.68999997,411326488.7599999,4132458.7999999993,1184125761.6499999,567613055.3799999,1454343131.5299993,236582330.33000004,323026834.64,1168256960.17,584577111.1900002,462439774.15999985,46045455.489999995,111373209.49000002,489813848.6000001,162476547.83999997,231020250.52999997,2066429947.51,573693280.7,62240432.52000001,1816566997.9899995,0.0,624125811.1499999,58004448.20999999,860784149.1099999,2793403401.2600007,674163764.8300002,476667236.36,147883427.22000003,774146847.0599998,1597310313.38,866261830.8599999],\"yaxis\":\"y\",\"type\":\"bar\"},{\"alignmentgroup\":\"True\",\"hovertemplate\":\"Energy Source=Natural Gas<br>State=%{x}<br>Total Generated=%{y}<extra></extra>\",\"legendgroup\":\"Natural Gas\",\"marker\":{\"color\":\"#EF553B\",\"pattern\":{\"shape\":\"\"}},\"name\":\"Natural Gas\",\"offsetgroup\":\"Natural Gas\",\"orientation\":\"v\",\"showlegend\":true,\"textposition\":\"auto\",\"x\":[\"AK\",\"AL\",\"AR\",\"AZ\",\"CA\",\"CO\",\"CT\",\"DC\",\"DE\",\"FL\",\"GA\",\"HI\",\"IA\",\"ID\",\"IL\",\"IN\",\"KS\",\"KY\",\"LA\",\"MA\",\"MD\",\"ME\",\"MI\",\"MN\",\"MO\",\"MS\",\"MT\",\"NC\",\"ND\",\"NE\",\"NH\",\"NJ\",\"NM\",\"NV\",\"NY\",\"OH\",\"OK\",\"OR\",\"PA\",\"RI\",\"SC\",\"SD\",\"TN\",\"TX\",\"UT\",\"VA\",\"VT\",\"WA\",\"WI\",\"WV\",\"WY\"],\"xaxis\":\"x\",\"y\":[71676601.18,793187588.0699998,257722409.31,671057823.28,2161111639.3799996,262223425.28999996,287859959.42999995,732398.2899999999,79909202.68999998,2647370187.87,652432280.5699999,0.0,58691088.84,49612935.56999999,212459856.65000004,252011223.16999996,44310695.64,103486108.13,1129515190.12,424887976.9699999,105521089.83999999,127958936.40999992,390324386.22,114126205.62999998,102759383.25,657309915.5300001,5791220.510000001,412276113.36,8090228.54,14257293.620000001,97479608.77000001,551571892.0899999,165697537.96000004,474241524.92999995,974824409.8500005,397374177.5,673506654.35,303016510.06,970207493.85,144352052.47,248560737.65,10606063.09,120962717.05000001,4392535911.03,124997298.05000001,515009413.22,60697.81999999999,208647378.06,201425665.61000004,17102531.15,13643324.670000002],\"yaxis\":\"y\",\"type\":\"bar\"},{\"alignmentgroup\":\"True\",\"hovertemplate\":\"Energy Source=Other<br>State=%{x}<br>Total Generated=%{y}<extra></extra>\",\"legendgroup\":\"Other\",\"marker\":{\"color\":\"#00cc96\",\"pattern\":{\"shape\":\"\"}},\"name\":\"Other\",\"offsetgroup\":\"Other\",\"orientation\":\"v\",\"showlegend\":true,\"textposition\":\"auto\",\"x\":[\"AK\",\"AL\",\"AR\",\"AZ\",\"CA\",\"CO\",\"CT\",\"DE\",\"FL\",\"GA\",\"HI\",\"IA\",\"ID\",\"IL\",\"IN\",\"KS\",\"KY\",\"LA\",\"MA\",\"MD\",\"ME\",\"MI\",\"MN\",\"MO\",\"MS\",\"MT\",\"NC\",\"ND\",\"NE\",\"NH\",\"NJ\",\"NM\",\"NV\",\"NY\",\"OH\",\"OK\",\"OR\",\"PA\",\"RI\",\"SC\",\"SD\",\"TN\",\"TX\",\"UT\",\"VA\",\"VT\",\"WA\",\"WI\",\"WV\",\"WY\"],\"xaxis\":\"x\",\"y\":[5767.160000000002,1594962.92,587650.54,2834470.9800000004,13349910.399999999,806118.75,14256113.26,16818.0,65072330.12999999,1346660.25,5844666.48,83918.0,1374778.0,3865281.1899999995,7706570.399999999,24687.0,595717.09,12754671.38,17465866.310000002,6290182.959999999,7887924.860000001,6563090.670000004,7061943.710000002,744501.7199999999,87998.69,3841477.0,8343525.050000001,592042.5,58.0,1207055.62,11773141.369999997,2691.2500000000005,256622.76,19222205.3,327448.6200000001,250610.81,858951.1299999999,17147790.07,587380.0,1273057.0100000002,61962.0,166193.18000000002,13789111.52,2335238.06,9590301.71,-1307.0,1672209.4500000002,1659106.7699999993,1806.7500000000146,1379855.6],\"yaxis\":\"y\",\"type\":\"bar\"},{\"alignmentgroup\":\"True\",\"hovertemplate\":\"Energy Source=Other Gases<br>State=%{x}<br>Total Generated=%{y}<extra></extra>\",\"legendgroup\":\"Other Gases\",\"marker\":{\"color\":\"#ab63fa\",\"pattern\":{\"shape\":\"\"}},\"name\":\"Other Gases\",\"offsetgroup\":\"Other Gases\",\"orientation\":\"v\",\"showlegend\":true,\"textposition\":\"auto\",\"x\":[\"AK\",\"AL\",\"CA\",\"CO\",\"CT\",\"DE\",\"FL\",\"HI\",\"IL\",\"IN\",\"KY\",\"LA\",\"MA\",\"MD\",\"ME\",\"MI\",\"MN\",\"MO\",\"MS\",\"MT\",\"NC\",\"ND\",\"NE\",\"NH\",\"NJ\",\"NV\",\"NY\",\"OH\",\"OK\",\"OR\",\"PA\",\"SC\",\"TN\",\"TX\",\"UT\",\"VA\",\"WA\",\"WI\",\"WV\",\"WY\"],\"xaxis\":\"x\",\"y\":[5396.77,2706141.9499999993,33421699.18,58215.0,29678.0,5959123.91,152986.32999999996,754774.3099999999,4736846.620000001,50750823.08,26084.0,37601864.59,0.0,3822572.7400000007,173.0,15003895.71,76475.0,31032.0,283493.0,201527.18,1871.0,929019.01,455.0,0.0,3651040.67,141431.67,116217.0,10946464.25,251586.0,0.0,11323587.21,6266.0,266074.31,64720065.89999999,254140.94,2959.0,6589565.55,19.0,1278986.6600000001,5441225.659999999],\"yaxis\":\"y\",\"type\":\"bar\"},{\"alignmentgroup\":\"True\",\"hovertemplate\":\"Energy Source=Petroleum<br>State=%{x}<br>Total Generated=%{y}<extra></extra>\",\"legendgroup\":\"Petroleum\",\"marker\":{\"color\":\"#FFA15A\",\"pattern\":{\"shape\":\"\"}},\"name\":\"Petroleum\",\"offsetgroup\":\"Petroleum\",\"orientation\":\"v\",\"showlegend\":true,\"textposition\":\"auto\",\"x\":[\"AK\",\"AL\",\"AR\",\"AZ\",\"CA\",\"CO\",\"CT\",\"DC\",\"DE\",\"FL\",\"GA\",\"HI\",\"IA\",\"ID\",\"IL\",\"IN\",\"KS\",\"KY\",\"LA\",\"MA\",\"MD\",\"ME\",\"MI\",\"MN\",\"MO\",\"MS\",\"MT\",\"NC\",\"ND\",\"NE\",\"NH\",\"NJ\",\"NM\",\"NV\",\"NY\",\"OH\",\"OK\",\"OR\",\"PA\",\"RI\",\"SC\",\"SD\",\"TN\",\"TX\",\"UT\",\"VA\",\"VT\",\"WA\",\"WI\",\"WV\",\"WY\"],\"xaxis\":\"x\",\"y\":[18730013.229999997,3380408.5799999977,3016039.0699999994,1356989.69,23139507.74,289705.01,20549914.040000007,1326510.0,8337639.539999999,281371030.4799999,12734466.629999999,162859719.12000003,3035151.3399999985,5563.199999999999,5230233.459999999,10780491.390000002,5163532.549999999,35661910.93000001,73660903.13999999,49921532.16999995,20627456.009999998,12733962.169999992,16196809.049999999,5351695.87,3105298.01,12183788.110000003,9486252.51,8123582.6899999995,797901.7499999998,500624.7899999999,8850037.739999998,9702380.850000003,1074578.8199999998,1280481.3699999999,127339516.89999998,24090107.99,987452.4800000002,412192.6399999998,29778992.159999993,888347.03,5492284.77,316879.06999999995,4021859.4000000004,21414252.879999988,834370.66,37163459.2,169774.31,1072297.2499999998,9730818.499999998,3775349.2699999996,970024.3099999999],\"yaxis\":\"y\",\"type\":\"bar\"},{\"alignmentgroup\":\"True\",\"hovertemplate\":\"Energy Source=Renewable energy<br>State=%{x}<br>Total Generated=%{y}<extra></extra>\",\"legendgroup\":\"Renewable energy\",\"marker\":{\"color\":\"#19d3f3\",\"pattern\":{\"shape\":\"\"}},\"name\":\"Renewable energy\",\"offsetgroup\":\"Renewable energy\",\"orientation\":\"v\",\"showlegend\":true,\"textposition\":\"auto\",\"x\":[\"AK\",\"AL\",\"AR\",\"AZ\",\"CA\",\"CO\",\"CT\",\"DC\",\"DE\",\"FL\",\"GA\",\"HI\",\"IA\",\"ID\",\"IL\",\"IN\",\"KS\",\"KY\",\"LA\",\"MA\",\"MD\",\"ME\",\"MI\",\"MN\",\"MO\",\"MS\",\"MT\",\"NC\",\"ND\",\"NE\",\"NH\",\"NJ\",\"NM\",\"NV\",\"NY\",\"OH\",\"OK\",\"OR\",\"PA\",\"RI\",\"SC\",\"SD\",\"TN\",\"TX\",\"UT\",\"VA\",\"VT\",\"WA\",\"WI\",\"WV\",\"WY\"],\"xaxis\":\"x\",\"y\":[33101754.750000004,275212796.00000006,102997361.00000003,196434886.59,1393648971.3999999,154355531.09999996,25631150.790000003,400706.0,1868844.9499999997,121608737.65,157929595.92000002,21418842.1,286863305.96,243151117.4500001,155742155.82999998,75702045.63000001,175588715.32999998,81019940.25999999,77059829.43,45335592.78999999,59292363.25,164541572.38000005,114681579.45000002,187025183.1,58763809.96,31524855.330000006,236671152.35,197304870.73999998,151120504.45000002,76708798.65,57595152.87,24200963.92,73901987.47,129731115.41,643741188.9900002,39930919.78,282086999.8,826333150.2399999,131537903.71999997,4804812.649999999,75778165.34,143575196.82999998,202802361.47,836936823.85,45359023.370000005,68332782.81,38428702.67000001,1728270983.1699996,93308644.05000001,50160953.42,82001031.89],\"yaxis\":\"y\",\"type\":\"bar\"},{\"alignmentgroup\":\"True\",\"hovertemplate\":\"Energy Source=Nuclear<br>State=%{x}<br>Total Generated=%{y}<extra></extra>\",\"legendgroup\":\"Nuclear\",\"marker\":{\"color\":\"#FF6692\",\"pattern\":{\"shape\":\"\"}},\"name\":\"Nuclear\",\"offsetgroup\":\"Nuclear\",\"orientation\":\"v\",\"showlegend\":true,\"textposition\":\"auto\",\"x\":[\"AL\",\"AR\",\"AZ\",\"CA\",\"CT\",\"FL\",\"GA\",\"IA\",\"IL\",\"KS\",\"LA\",\"MA\",\"MD\",\"MI\",\"MN\",\"MO\",\"MS\",\"NC\",\"NE\",\"NH\",\"NJ\",\"NY\",\"OH\",\"PA\",\"SC\",\"TN\",\"TX\",\"VA\",\"VT\",\"WA\",\"WI\"],\"xaxis\":\"x\",\"y\":[799576060.0,299225801.0,634400907.0,546284042.0,343299782.0,598909869.0,693244869.0,93138763.0,2014331832.0,190200467.0,347863867.0,98555949.0,301334706.0,635129843.0,274800033.0,188232315.0,200832509.0,857569863.0,177843984.0,204708869.0,655672587.0,873974762.0,333984234.0,1638937060.0,1109237002.0,610284849.0,831506903.0,591357332.0,65159442.0,179245360.0,237933800.0],\"yaxis\":\"y\",\"type\":\"bar\"}],                        {\"template\":{\"data\":{\"bar\":[{\"error_x\":{\"color\":\"#2a3f5f\"},\"error_y\":{\"color\":\"#2a3f5f\"},\"marker\":{\"line\":{\"color\":\"#E5ECF6\",\"width\":0.5},\"pattern\":{\"fillmode\":\"overlay\",\"size\":10,\"solidity\":0.2}},\"type\":\"bar\"}],\"barpolar\":[{\"marker\":{\"line\":{\"color\":\"#E5ECF6\",\"width\":0.5},\"pattern\":{\"fillmode\":\"overlay\",\"size\":10,\"solidity\":0.2}},\"type\":\"barpolar\"}],\"carpet\":[{\"aaxis\":{\"endlinecolor\":\"#2a3f5f\",\"gridcolor\":\"white\",\"linecolor\":\"white\",\"minorgridcolor\":\"white\",\"startlinecolor\":\"#2a3f5f\"},\"baxis\":{\"endlinecolor\":\"#2a3f5f\",\"gridcolor\":\"white\",\"linecolor\":\"white\",\"minorgridcolor\":\"white\",\"startlinecolor\":\"#2a3f5f\"},\"type\":\"carpet\"}],\"choropleth\":[{\"colorbar\":{\"outlinewidth\":0,\"ticks\":\"\"},\"type\":\"choropleth\"}],\"contour\":[{\"colorbar\":{\"outlinewidth\":0,\"ticks\":\"\"},\"colorscale\":[[0.0,\"#0d0887\"],[0.1111111111111111,\"#46039f\"],[0.2222222222222222,\"#7201a8\"],[0.3333333333333333,\"#9c179e\"],[0.4444444444444444,\"#bd3786\"],[0.5555555555555556,\"#d8576b\"],[0.6666666666666666,\"#ed7953\"],[0.7777777777777778,\"#fb9f3a\"],[0.8888888888888888,\"#fdca26\"],[1.0,\"#f0f921\"]],\"type\":\"contour\"}],\"contourcarpet\":[{\"colorbar\":{\"outlinewidth\":0,\"ticks\":\"\"},\"type\":\"contourcarpet\"}],\"heatmap\":[{\"colorbar\":{\"outlinewidth\":0,\"ticks\":\"\"},\"colorscale\":[[0.0,\"#0d0887\"],[0.1111111111111111,\"#46039f\"],[0.2222222222222222,\"#7201a8\"],[0.3333333333333333,\"#9c179e\"],[0.4444444444444444,\"#bd3786\"],[0.5555555555555556,\"#d8576b\"],[0.6666666666666666,\"#ed7953\"],[0.7777777777777778,\"#fb9f3a\"],[0.8888888888888888,\"#fdca26\"],[1.0,\"#f0f921\"]],\"type\":\"heatmap\"}],\"heatmapgl\":[{\"colorbar\":{\"outlinewidth\":0,\"ticks\":\"\"},\"colorscale\":[[0.0,\"#0d0887\"],[0.1111111111111111,\"#46039f\"],[0.2222222222222222,\"#7201a8\"],[0.3333333333333333,\"#9c179e\"],[0.4444444444444444,\"#bd3786\"],[0.5555555555555556,\"#d8576b\"],[0.6666666666666666,\"#ed7953\"],[0.7777777777777778,\"#fb9f3a\"],[0.8888888888888888,\"#fdca26\"],[1.0,\"#f0f921\"]],\"type\":\"heatmapgl\"}],\"histogram\":[{\"marker\":{\"pattern\":{\"fillmode\":\"overlay\",\"size\":10,\"solidity\":0.2}},\"type\":\"histogram\"}],\"histogram2d\":[{\"colorbar\":{\"outlinewidth\":0,\"ticks\":\"\"},\"colorscale\":[[0.0,\"#0d0887\"],[0.1111111111111111,\"#46039f\"],[0.2222222222222222,\"#7201a8\"],[0.3333333333333333,\"#9c179e\"],[0.4444444444444444,\"#bd3786\"],[0.5555555555555556,\"#d8576b\"],[0.6666666666666666,\"#ed7953\"],[0.7777777777777778,\"#fb9f3a\"],[0.8888888888888888,\"#fdca26\"],[1.0,\"#f0f921\"]],\"type\":\"histogram2d\"}],\"histogram2dcontour\":[{\"colorbar\":{\"outlinewidth\":0,\"ticks\":\"\"},\"colorscale\":[[0.0,\"#0d0887\"],[0.1111111111111111,\"#46039f\"],[0.2222222222222222,\"#7201a8\"],[0.3333333333333333,\"#9c179e\"],[0.4444444444444444,\"#bd3786\"],[0.5555555555555556,\"#d8576b\"],[0.6666666666666666,\"#ed7953\"],[0.7777777777777778,\"#fb9f3a\"],[0.8888888888888888,\"#fdca26\"],[1.0,\"#f0f921\"]],\"type\":\"histogram2dcontour\"}],\"mesh3d\":[{\"colorbar\":{\"outlinewidth\":0,\"ticks\":\"\"},\"type\":\"mesh3d\"}],\"parcoords\":[{\"line\":{\"colorbar\":{\"outlinewidth\":0,\"ticks\":\"\"}},\"type\":\"parcoords\"}],\"pie\":[{\"automargin\":true,\"type\":\"pie\"}],\"scatter\":[{\"marker\":{\"colorbar\":{\"outlinewidth\":0,\"ticks\":\"\"}},\"type\":\"scatter\"}],\"scatter3d\":[{\"line\":{\"colorbar\":{\"outlinewidth\":0,\"ticks\":\"\"}},\"marker\":{\"colorbar\":{\"outlinewidth\":0,\"ticks\":\"\"}},\"type\":\"scatter3d\"}],\"scattercarpet\":[{\"marker\":{\"colorbar\":{\"outlinewidth\":0,\"ticks\":\"\"}},\"type\":\"scattercarpet\"}],\"scattergeo\":[{\"marker\":{\"colorbar\":{\"outlinewidth\":0,\"ticks\":\"\"}},\"type\":\"scattergeo\"}],\"scattergl\":[{\"marker\":{\"colorbar\":{\"outlinewidth\":0,\"ticks\":\"\"}},\"type\":\"scattergl\"}],\"scattermapbox\":[{\"marker\":{\"colorbar\":{\"outlinewidth\":0,\"ticks\":\"\"}},\"type\":\"scattermapbox\"}],\"scatterpolar\":[{\"marker\":{\"colorbar\":{\"outlinewidth\":0,\"ticks\":\"\"}},\"type\":\"scatterpolar\"}],\"scatterpolargl\":[{\"marker\":{\"colorbar\":{\"outlinewidth\":0,\"ticks\":\"\"}},\"type\":\"scatterpolargl\"}],\"scatterternary\":[{\"marker\":{\"colorbar\":{\"outlinewidth\":0,\"ticks\":\"\"}},\"type\":\"scatterternary\"}],\"surface\":[{\"colorbar\":{\"outlinewidth\":0,\"ticks\":\"\"},\"colorscale\":[[0.0,\"#0d0887\"],[0.1111111111111111,\"#46039f\"],[0.2222222222222222,\"#7201a8\"],[0.3333333333333333,\"#9c179e\"],[0.4444444444444444,\"#bd3786\"],[0.5555555555555556,\"#d8576b\"],[0.6666666666666666,\"#ed7953\"],[0.7777777777777778,\"#fb9f3a\"],[0.8888888888888888,\"#fdca26\"],[1.0,\"#f0f921\"]],\"type\":\"surface\"}],\"table\":[{\"cells\":{\"fill\":{\"color\":\"#EBF0F8\"},\"line\":{\"color\":\"white\"}},\"header\":{\"fill\":{\"color\":\"#C8D4E3\"},\"line\":{\"color\":\"white\"}},\"type\":\"table\"}]},\"layout\":{\"annotationdefaults\":{\"arrowcolor\":\"#2a3f5f\",\"arrowhead\":0,\"arrowwidth\":1},\"autotypenumbers\":\"strict\",\"coloraxis\":{\"colorbar\":{\"outlinewidth\":0,\"ticks\":\"\"}},\"colorscale\":{\"diverging\":[[0,\"#8e0152\"],[0.1,\"#c51b7d\"],[0.2,\"#de77ae\"],[0.3,\"#f1b6da\"],[0.4,\"#fde0ef\"],[0.5,\"#f7f7f7\"],[0.6,\"#e6f5d0\"],[0.7,\"#b8e186\"],[0.8,\"#7fbc41\"],[0.9,\"#4d9221\"],[1,\"#276419\"]],\"sequential\":[[0.0,\"#0d0887\"],[0.1111111111111111,\"#46039f\"],[0.2222222222222222,\"#7201a8\"],[0.3333333333333333,\"#9c179e\"],[0.4444444444444444,\"#bd3786\"],[0.5555555555555556,\"#d8576b\"],[0.6666666666666666,\"#ed7953\"],[0.7777777777777778,\"#fb9f3a\"],[0.8888888888888888,\"#fdca26\"],[1.0,\"#f0f921\"]],\"sequentialminus\":[[0.0,\"#0d0887\"],[0.1111111111111111,\"#46039f\"],[0.2222222222222222,\"#7201a8\"],[0.3333333333333333,\"#9c179e\"],[0.4444444444444444,\"#bd3786\"],[0.5555555555555556,\"#d8576b\"],[0.6666666666666666,\"#ed7953\"],[0.7777777777777778,\"#fb9f3a\"],[0.8888888888888888,\"#fdca26\"],[1.0,\"#f0f921\"]]},\"colorway\":[\"#636efa\",\"#EF553B\",\"#00cc96\",\"#ab63fa\",\"#FFA15A\",\"#19d3f3\",\"#FF6692\",\"#B6E880\",\"#FF97FF\",\"#FECB52\"],\"font\":{\"color\":\"#2a3f5f\"},\"geo\":{\"bgcolor\":\"white\",\"lakecolor\":\"white\",\"landcolor\":\"#E5ECF6\",\"showlakes\":true,\"showland\":true,\"subunitcolor\":\"white\"},\"hoverlabel\":{\"align\":\"left\"},\"hovermode\":\"closest\",\"mapbox\":{\"style\":\"light\"},\"paper_bgcolor\":\"white\",\"plot_bgcolor\":\"#E5ECF6\",\"polar\":{\"angularaxis\":{\"gridcolor\":\"white\",\"linecolor\":\"white\",\"ticks\":\"\"},\"bgcolor\":\"#E5ECF6\",\"radialaxis\":{\"gridcolor\":\"white\",\"linecolor\":\"white\",\"ticks\":\"\"}},\"scene\":{\"xaxis\":{\"backgroundcolor\":\"#E5ECF6\",\"gridcolor\":\"white\",\"gridwidth\":2,\"linecolor\":\"white\",\"showbackground\":true,\"ticks\":\"\",\"zerolinecolor\":\"white\"},\"yaxis\":{\"backgroundcolor\":\"#E5ECF6\",\"gridcolor\":\"white\",\"gridwidth\":2,\"linecolor\":\"white\",\"showbackground\":true,\"ticks\":\"\",\"zerolinecolor\":\"white\"},\"zaxis\":{\"backgroundcolor\":\"#E5ECF6\",\"gridcolor\":\"white\",\"gridwidth\":2,\"linecolor\":\"white\",\"showbackground\":true,\"ticks\":\"\",\"zerolinecolor\":\"white\"}},\"shapedefaults\":{\"line\":{\"color\":\"#2a3f5f\"}},\"ternary\":{\"aaxis\":{\"gridcolor\":\"white\",\"linecolor\":\"white\",\"ticks\":\"\"},\"baxis\":{\"gridcolor\":\"white\",\"linecolor\":\"white\",\"ticks\":\"\"},\"bgcolor\":\"#E5ECF6\",\"caxis\":{\"gridcolor\":\"white\",\"linecolor\":\"white\",\"ticks\":\"\"}},\"title\":{\"x\":0.05},\"xaxis\":{\"automargin\":true,\"gridcolor\":\"white\",\"linecolor\":\"white\",\"ticks\":\"\",\"title\":{\"standoff\":15},\"zerolinecolor\":\"white\",\"zerolinewidth\":2},\"yaxis\":{\"automargin\":true,\"gridcolor\":\"white\",\"linecolor\":\"white\",\"ticks\":\"\",\"title\":{\"standoff\":15},\"zerolinecolor\":\"white\",\"zerolinewidth\":2}}},\"xaxis\":{\"anchor\":\"y\",\"domain\":[0.0,1.0],\"title\":{\"text\":\"State\"},\"dtick\":1},\"yaxis\":{\"anchor\":\"x\",\"domain\":[0.0,1.0],\"title\":{\"text\":\"Total Generated\"}},\"legend\":{\"title\":{\"text\":\"Energy Source\"},\"tracegroupgap\":0},\"title\":{\"text\":\"Energy Generated by Each State\"},\"barmode\":\"relative\"},                        {\"responsive\": true}                    ).then(function(){\n",
       "                            \n",
       "var gd = document.getElementById('88b88840-844a-4ca8-9006-b26ad054b75d');\n",
       "var x = new MutationObserver(function (mutations, observer) {{\n",
       "        var display = window.getComputedStyle(gd).display;\n",
       "        if (!display || display === 'none') {{\n",
       "            console.log([gd, 'removed!']);\n",
       "            Plotly.purge(gd);\n",
       "            observer.disconnect();\n",
       "        }}\n",
       "}});\n",
       "\n",
       "// Listen for the removal of the full notebook cells\n",
       "var notebookContainer = gd.closest('#notebook-container');\n",
       "if (notebookContainer) {{\n",
       "    x.observe(notebookContainer, {childList: true});\n",
       "}}\n",
       "\n",
       "// Listen for the clearing of the current output cell\n",
       "var outputEl = gd.closest('.output');\n",
       "if (outputEl) {{\n",
       "    x.observe(outputEl, {childList: true});\n",
       "}}\n",
       "\n",
       "                        })                };                });            </script>        </div>"
      ]
     },
     "metadata": {},
     "output_type": "display_data"
    }
   ],
   "source": [
    "k =query_data()\n",
    "fig = px.bar(k, x=\"State\", y=\"Total Generated\", \n",
    "             color='Energy Source', title =\"Energy Generated by Each State\")\n",
    "fig.update_xaxes(dtick=1)\n",
    "fig.show()"
   ]
  },
  {
   "cell_type": "code",
   "execution_count": null,
   "id": "9bec2068",
   "metadata": {},
   "outputs": [],
   "source": []
  }
 ],
 "metadata": {
  "kernelspec": {
   "display_name": "Python 3 (ipykernel)",
   "language": "python",
   "name": "python3"
  },
  "language_info": {
   "codemirror_mode": {
    "name": "ipython",
    "version": 3
   },
   "file_extension": ".py",
   "mimetype": "text/x-python",
   "name": "python",
   "nbconvert_exporter": "python",
   "pygments_lexer": "ipython3",
   "version": "3.9.7"
  }
 },
 "nbformat": 4,
 "nbformat_minor": 5
}
