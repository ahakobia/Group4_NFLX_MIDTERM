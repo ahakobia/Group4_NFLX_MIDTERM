{
  "cells": [
    {
      "cell_type": "markdown",
      "metadata": {
        "id": "view-in-github",
        "colab_type": "text"
      },
      "source": [
        "<a href=\"https://colab.research.google.com/github/ahakobia/Group4_NFLX_MIDTERM/blob/main/Adehs_Pyspark_US_State_Energy.ipynb\" target=\"_parent\"><img src=\"https://colab.research.google.com/assets/colab-badge.svg\" alt=\"Open In Colab\"/></a>"
      ]
    },
    {
      "cell_type": "code",
      "execution_count": 1,
      "id": "6f50fcdd",
      "metadata": {
        "id": "6f50fcdd",
        "colab": {
          "base_uri": "https://localhost:8080/"
        },
        "outputId": "f384a379-7abb-4446-989c-d10100a67cb3"
      },
      "outputs": [
        {
          "output_type": "stream",
          "name": "stdout",
          "text": [
            "\r0% [Working]\r            \rGet:1 http://security.ubuntu.com/ubuntu bionic-security InRelease [88.7 kB]\n",
            "\r0% [Connecting to archive.ubuntu.com] [1 InRelease 14.2 kB/88.7 kB 16%] [Connec\r                                                                               \rHit:2 https://cloud.r-project.org/bin/linux/ubuntu bionic-cran40/ InRelease\n",
            "\r0% [Connecting to archive.ubuntu.com (91.189.91.38)] [1 InRelease 40.2 kB/88.7 \r0% [2 InRelease gpgv 3,626 B] [Connecting to archive.ubuntu.com (91.189.91.38)]\r                                                                               \rIgn:3 https://developer.download.nvidia.com/compute/machine-learning/repos/ubuntu1804/x86_64  InRelease\n",
            "\r0% [2 InRelease gpgv 3,626 B] [Waiting for headers] [1 InRelease 57.6 kB/88.7 k\r                                                                               \rHit:4 https://developer.download.nvidia.com/compute/cuda/repos/ubuntu1804/x86_64  InRelease\n",
            "\r0% [2 InRelease gpgv 3,626 B] [Waiting for headers] [1 InRelease 72.1 kB/88.7 k\r0% [2 InRelease gpgv 3,626 B] [Waiting for headers] [Waiting for headers] [Wait\r                                                                               \rHit:5 http://archive.ubuntu.com/ubuntu bionic InRelease\n",
            "Hit:6 https://developer.download.nvidia.com/compute/machine-learning/repos/ubuntu1804/x86_64  Release\n",
            "Hit:7 http://ppa.launchpad.net/c2d4u.team/c2d4u4.0+/ubuntu bionic InRelease\n",
            "Get:8 http://archive.ubuntu.com/ubuntu bionic-updates InRelease [88.7 kB]\n",
            "Get:9 http://archive.ubuntu.com/ubuntu bionic-backports InRelease [83.3 kB]\n",
            "Hit:10 http://ppa.launchpad.net/cran/libgit2/ubuntu bionic InRelease\n",
            "Hit:11 http://ppa.launchpad.net/deadsnakes/ppa/ubuntu bionic InRelease\n",
            "Hit:12 http://ppa.launchpad.net/graphics-drivers/ppa/ubuntu bionic InRelease\n",
            "Fetched 261 kB in 3s (76.9 kB/s)\n",
            "Reading package lists... Done\n"
          ]
        }
      ],
      "source": [
        "# Activate Spark in our Colab notebook.\n",
        "import os\n",
        "# Find the latest version of spark 3.0  from http://www.apache.org/dist/spark/ and enter as the spark version\n",
        "# For example: 'spark-3.2.2'\n",
        "spark_version = 'spark-3.2.2'\n",
        "# spark_version = 'spark-3.<enter version>'\n",
        "os.environ['SPARK_VERSION']=spark_version\n",
        "\n",
        "# Install Spark and Java\n",
        "!apt-get update\n",
        "!apt-get install openjdk-11-jdk-headless -qq > /dev/null\n",
        "!wget -q http://www.apache.org/dist/spark/$SPARK_VERSION/$SPARK_VERSION-bin-hadoop3.2.tgz\n",
        "!tar xf $SPARK_VERSION-bin-hadoop3.2.tgz\n",
        "!pip install -q findspark\n",
        "\n",
        "# Set Environment Variables\n",
        "os.environ[\"JAVA_HOME\"] = \"/usr/lib/jvm/java-11-openjdk-amd64\"\n",
        "os.environ[\"SPARK_HOME\"] = f\"/content/{spark_version}-bin-hadoop3.2\""
      ]
    },
    {
      "cell_type": "code",
      "source": [
        "# Install pytest and pytest-sugar to make our output look nice.\n",
        "!pip install -q pytest pytest-sugar"
      ],
      "metadata": {
        "id": "9dqv3W_wwtZh"
      },
      "id": "9dqv3W_wwtZh",
      "execution_count": 2,
      "outputs": []
    },
    {
      "cell_type": "code",
      "source": [
        "# Create and navigate to the tdd directory.\n",
        "from pathlib import Path\n",
        "if Path.cwd().name != 'tests':\n",
        "    %mkdir tests\n",
        "    %cd tests\n",
        "# Show the current working directory.  \n",
        "%pwd"
      ],
      "metadata": {
        "colab": {
          "base_uri": "https://localhost:8080/",
          "height": 71
        },
        "id": "lFHbSdrwwvih",
        "outputId": "0ea2a5b9-c3d5-4331-98b8-6ac8c4723b05"
      },
      "id": "lFHbSdrwwvih",
      "execution_count": 3,
      "outputs": [
        {
          "output_type": "stream",
          "name": "stdout",
          "text": [
            "mkdir: cannot create directory ‘tests’: File exists\n",
            "/content/tests\n"
          ]
        },
        {
          "output_type": "execute_result",
          "data": {
            "text/plain": [
              "'/content/tests'"
            ],
            "application/vnd.google.colaboratory.intrinsic+json": {
              "type": "string"
            }
          },
          "metadata": {},
          "execution_count": 3
        }
      ]
    },
    {
      "cell_type": "code",
      "source": [
        "# Initialize the __init__.py file. \n",
        "# This file will be stored in our pwd (/content/tests)\n",
        "%%file __init__.py\n",
        "pass"
      ],
      "metadata": {
        "colab": {
          "base_uri": "https://localhost:8080/"
        },
        "id": "zqP8DmQvxBPy",
        "outputId": "d43ff912-2f5c-42cd-c57d-14f83cc257f3"
      },
      "id": "zqP8DmQvxBPy",
      "execution_count": 4,
      "outputs": [
        {
          "output_type": "stream",
          "name": "stdout",
          "text": [
            "Overwriting __init__.py\n"
          ]
        }
      ]
    },
    {
      "cell_type": "code",
      "source": [
        "import findspark\n",
        "findspark.init()\n",
        "\n",
        "# Import other dependencies. \n",
        "from pyspark import SparkFiles\n",
        "from pyspark.sql import SparkSession\n",
        "\n",
        "import time\n",
        "spark = SparkSession.builder.appName(\"sparkEnergyData\").getOrCreate()\n",
        "\n",
        "# url = \"https://raw.githubusercontent.com/ahakobia/Group4_NFLX_MIDTERM/main/Resources/organised_Gen.csv?token=GHSAT0AAAAAABXH6XNLVR2KDPQKXAWUGPNQYZX5EYQ\"\n",
        "# spark.sparkContext.addFile(url)\n",
        "# energy = spark.read.csv(SparkFiles.get(\"organised_Gen.csv\"), header=True)\n",
        "\n",
        "spark = SparkSession \\\n",
        "    .builder \\\n",
        "    .appName(\"energy file read in\") \\\n",
        "    .getOrCreate()\n",
        "energy = spark.read.csv('organised_Gen.csv', header = True)\n",
        "energy = energy.withColumnRenamed('TYPE OF PRODUCER', 'producer')\n",
        "energy = energy.withColumnRenamed('ENERGY SOURCE', 'source')\n",
        "energy = energy.withColumnRenamed('GENERATION (Megawatthours)', 'generated')\n",
        "energy.write.parquet('parquet_energy',mode='overwrite')\n",
        "p_energy = spark.read.parquet('parquet_energy')\n",
        "p_energy.createOrReplaceTempView('p_energy_data')\n",
        "\n",
        "start_time = time.time()\n",
        "transformed_df = spark.sql(\"\"\"\n",
        "    SELECT\n",
        "        YEAR as year,\n",
        "        MONTH as month,\n",
        "        STATE as state, producer, source, generated\n",
        "        FROM p_energy_data\n",
        "        WHERE state != 'US-TOTAL' AND producer == 'Total Electric Power Industry'\n",
        "        AND source == 'Total'\n",
        "        \"\"\")\n",
        "transformed_df\n",
        "\n",
        "  \n",
        "q_df = spark.sql(\"\"\"SELECT year, state, (SUM(generated)/1000000) as sums\n",
        "            FROM p_energy_data \n",
        "            WHERE producer = 'Total Electric Power Industry' \n",
        "                AND source = 'Total' \n",
        "                AND state != 'US-TOTAL'\n",
        "                AND YEAR != 2022\n",
        "            Group By YEAR, State\n",
        "            Order By YEAR DESC, sums DESC\n",
        "                \"\"\")\n",
        "q_df\n",
        "\n",
        "\n",
        "print(\"--- %s seconds ---\" % (time.time() - start_time))\n"
      ],
      "metadata": {
        "colab": {
          "base_uri": "https://localhost:8080/"
        },
        "id": "AIt3SGUa8r_Y",
        "outputId": "d65206b9-744e-405e-e157-6e3b750ae791"
      },
      "id": "AIt3SGUa8r_Y",
      "execution_count": 5,
      "outputs": [
        {
          "output_type": "stream",
          "name": "stdout",
          "text": [
            "--- 0.43701958656311035 seconds ---\n"
          ]
        }
      ]
    },
    {
      "cell_type": "code",
      "source": [
        "q_df.show()"
      ],
      "metadata": {
        "colab": {
          "base_uri": "https://localhost:8080/"
        },
        "id": "FESc_ua7tJAi",
        "outputId": "b4b71f3d-e218-4b56-878f-91c1ed562b34"
      },
      "id": "FESc_ua7tJAi",
      "execution_count": 6,
      "outputs": [
        {
          "output_type": "stream",
          "name": "stdout",
          "text": [
            "+----+-----+----------+\n",
            "|year|state|      sums|\n",
            "+----+-----+----------+\n",
            "|2021|   TX|483.561772|\n",
            "|2021|   FL|244.401034|\n",
            "|2021|   PA| 241.64836|\n",
            "|2021|   CA|196.727105|\n",
            "|2021|   IL|181.859368|\n",
            "|2021|   AL|142.955138|\n",
            "|2021|   NC|131.262683|\n",
            "|2021|   GA|126.530744|\n",
            "|2021|   NY|125.226023|\n",
            "|2021|   OH|123.335607|\n",
            "|2021|   MI|116.045383|\n",
            "|2021|   WA|109.122717|\n",
            "|2021|   AZ|108.608533|\n",
            "|2021|   SC| 99.924403|\n",
            "|2021|   LA| 98.061963|\n",
            "|2021|   IN| 94.565164|\n",
            "|2021|   VA| 94.309018|\n",
            "|2021|   TN| 81.478885|\n",
            "|2021|   OK| 80.564126|\n",
            "|2021|   MO| 77.815979|\n",
            "+----+-----+----------+\n",
            "only showing top 20 rows\n",
            "\n"
          ]
        }
      ]
    },
    {
      "cell_type": "code",
      "source": [
        "# Create a bank_data.py file and write the function to it. \n",
        "# This file will be stored in our pwd (/content/tests).\n",
        "%%file total_energy.py\n",
        "\n",
        "# Import findspark() and initialize. \n",
        "import findspark\n",
        "findspark.init()\n",
        "\n",
        "# Import other dependencies. \n",
        "from pyspark import SparkFiles\n",
        "from pyspark.sql import SparkSession\n",
        "spark = SparkSession.builder.appName(\"sparkEnergyData\").getOrCreate()\n",
        "\n",
        "# Create the import_data function. \n",
        "def import_data():\n",
        "    spark = SparkSession \\\n",
        "    .builder \\\n",
        "    .appName(\"energy file read in\") \\\n",
        "    .getOrCreate()\n",
        "    energy = spark.read.csv('organised_Gen.csv', header = True)\n",
        "    energy = energy.withColumnRenamed('TYPE OF PRODUCER', 'producer')\n",
        "    energy = energy.withColumnRenamed('ENERGY SOURCE', 'source')\n",
        "    energy = energy.withColumnRenamed('GENERATION (Megawatthours)', 'generated')\n",
        "    energy.write.parquet('parquet_energy',mode='overwrite')\n",
        "    p_energy = spark.read.parquet('parquet_energy')\n",
        "    p_energy.createOrReplaceTempView('p_energy_data')\n",
        "    return p_energy\n",
        "\n",
        "def transform_data():\n",
        "    transformed_df = spark.sql(\"\"\"\n",
        "    SELECT\n",
        "        YEAR as year,\n",
        "        MONTH as month,\n",
        "        STATE as state, producer, source, generated\n",
        "        FROM p_energy_data\n",
        "        WHERE state == 'US-TOTAL' AND producer == 'Total Electric Power Industry'\n",
        "        AND source == 'Total'\n",
        "        \"\"\")\n",
        "    return transformed_df\n",
        "\n",
        "def query_data():\n",
        "  \n",
        "    q_df = spark.sql(\"\"\"SELECT YEAR, (SUM(generated)/1000000)\n",
        "            FROM p_energy_data \n",
        "            WHERE producer = 'Total Electric Power Industry' \n",
        "                AND source = 'Total' \n",
        "                AND state = 'US-TOTAL'\n",
        "                AND YEAR != 2022\n",
        "            Group By YEAR, State\n",
        "            Order By YEAR DESC\n",
        "                \"\"\")\n",
        "    return q_df\n"
      ],
      "metadata": {
        "colab": {
          "base_uri": "https://localhost:8080/"
        },
        "id": "6-cuCOSFxDyM",
        "outputId": "30c3d464-3e85-4d33-ed95-ba61b66b9441"
      },
      "id": "6-cuCOSFxDyM",
      "execution_count": 16,
      "outputs": [
        {
          "output_type": "stream",
          "name": "stdout",
          "text": [
            "Overwriting total_energy.py\n"
          ]
        }
      ]
    },
    {
      "cell_type": "code",
      "source": [
        "# Create a test_bank_data.py file and write the test functions to it. \n",
        "# This file will be stored in our pwd (/content/tests).\n",
        "%%file test_total_states_energy.py\n",
        "\n",
        "# From the bank_data.py file and import the import_data function. \n",
        "from total_states_energy import (import_data, transform_data, query_data)\n",
        "\n",
        "# Write the tests. \n",
        "def test_row_count_before_transform():\n",
        "  df = import_data()\n",
        "  assert df.count() == 496774\n",
        "\n",
        "def test_column_count_before_transform():\n",
        "  df = import_data()\n",
        "  assert len(df.columns) == 7\n",
        "\n",
        "def test_row_count_after_transform():\n",
        "    df = transform_data()\n",
        "    assert df.count() != 496774\n",
        "\n",
        "def test_column_count_after_transform():\n",
        "    df = transform_data()\n",
        "    assert len(df.columns) != 7\n",
        "\n",
        "def test_row_count_query():\n",
        "    df = query_data()\n",
        "    assert df.count() == 21\n",
        "\n",
        "def test_column_count_query():\n",
        "    df = query_data()\n",
        "    assert len(df.columns) == 2\n"
      ],
      "metadata": {
        "colab": {
          "base_uri": "https://localhost:8080/"
        },
        "id": "RpK75RP5xMQV",
        "outputId": "30fcc7e8-5455-48f9-cea5-2f1bf3493f86"
      },
      "id": "RpK75RP5xMQV",
      "execution_count": 17,
      "outputs": [
        {
          "output_type": "stream",
          "name": "stdout",
          "text": [
            "Overwriting test_total_states_energy.py\n"
          ]
        }
      ]
    },
    {
      "cell_type": "code",
      "source": [
        "# Run the test_import_data.py file with pytest. \n",
        "!python -m pytest test_total_energy.py"
      ],
      "metadata": {
        "colab": {
          "base_uri": "https://localhost:8080/"
        },
        "id": "SX7Z2IM9xNAN",
        "outputId": "430df533-822c-4862-de94-da3c4ee681a1"
      },
      "id": "SX7Z2IM9xNAN",
      "execution_count": 18,
      "outputs": [
        {
          "output_type": "stream",
          "name": "stdout",
          "text": [
            "\u001b[1mTest session starts (platform: linux, Python 3.7.14, pytest 3.6.4, pytest-sugar 0.9.5)\u001b[0m\n",
            "rootdir: /content/tests, inifile:\n",
            "plugins: typeguard-2.7.1, sugar-0.9.5\n",
            "\n",
            " \u001b[36m\u001b[0mtest_total_energy.py\u001b[0m \u001b[32m✓\u001b[0m\u001b[32m✓\u001b[0m\u001b[32m✓\u001b[0m\u001b[32m✓\u001b[0m\u001b[32m✓\u001b[0m\u001b[32m✓\u001b[0m                                     \u001b[32m100% \u001b[0m\u001b[40m\u001b[32m█\u001b[0m\u001b[40m\u001b[32m█\u001b[0m\u001b[40m\u001b[32m█\u001b[0m\u001b[40m\u001b[32m█\u001b[0m\u001b[40m\u001b[32m█\u001b[0m\u001b[40m\u001b[32m█\u001b[0m\u001b[40m\u001b[32m█\u001b[0m\u001b[40m\u001b[32m█\u001b[0m\u001b[40m\u001b[32m█\u001b[0m\u001b[40m\u001b[32m█\u001b[0m\n",
            "\n",
            "Results (30.29s):\n",
            "\u001b[32m       6 passed\u001b[0m\n"
          ]
        }
      ]
    },
    {
      "cell_type": "code",
      "source": [],
      "metadata": {
        "id": "V11Ep4Yd2v6t"
      },
      "id": "V11Ep4Yd2v6t",
      "execution_count": 9,
      "outputs": []
    }
  ],
  "metadata": {
    "colab": {
      "provenance": [],
      "collapsed_sections": [],
      "include_colab_link": true
    },
    "kernelspec": {
      "display_name": "Python 3 (ipykernel)",
      "language": "python",
      "name": "python3"
    },
    "language_info": {
      "codemirror_mode": {
        "name": "ipython",
        "version": 3
      },
      "file_extension": ".py",
      "mimetype": "text/x-python",
      "name": "python",
      "nbconvert_exporter": "python",
      "pygments_lexer": "ipython3",
      "version": "3.9.7"
    }
  },
  "nbformat": 4,
  "nbformat_minor": 5
}