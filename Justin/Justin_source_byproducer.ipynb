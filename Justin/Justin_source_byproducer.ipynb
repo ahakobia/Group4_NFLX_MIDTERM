{
 "cells": [
  {
   "cell_type": "code",
   "execution_count": 1,
   "id": "6d6f5da6",
   "metadata": {},
   "outputs": [
    {
     "name": "stdout",
     "output_type": "stream",
     "text": [
      "Overwriting total_energy.py\n"
     ]
    }
   ],
   "source": [
    "%%file total_energy.py\n",
    "\n",
    "import pandas as pd\n",
    "\n",
    "def import_data():\n",
    "    csv_file = \"../Resources/organised_Gen.csv\"\n",
    "    energy = pd.read_csv(csv_file)\n",
    "    return energy"
   ]
  },
  {
   "cell_type": "code",
   "execution_count": 2,
   "id": "25f06c2c",
   "metadata": {},
   "outputs": [
    {
     "data": {
      "text/plain": [
       "array(['Total Electric Power Industry',\n",
       "       'Electric Generators, Electric Utilities',\n",
       "       'Combined Heat and Power, Electric Power',\n",
       "       'Combined Heat and Power, Commercial Power',\n",
       "       'Combined Heat and Power, Industrial Power',\n",
       "       'Electric Generators, Independent Power Producers'], dtype=object)"
      ]
     },
     "execution_count": 2,
     "metadata": {},
     "output_type": "execute_result"
    }
   ],
   "source": [
    "from total_energy import import_data\n",
    "\n",
    "x = import_data()\n",
    "x['TYPE OF PRODUCER'].unique()"
   ]
  },
  {
   "cell_type": "code",
   "execution_count": 3,
   "id": "fe82ac70",
   "metadata": {},
   "outputs": [
    {
     "name": "stdout",
     "output_type": "stream",
     "text": [
      "Overwriting transformed_total_energy.py\n"
     ]
    }
   ],
   "source": [
    "%%file transformed_total_energy.py\n",
    "\n",
    "from total_energy import import_data\n",
    "\n",
    "import pandas as pd\n",
    "\n",
    "def transform_data():\n",
    "    \n",
    "    tf_energy_data = import_data().drop(columns=['Unnamed: 0'])\n",
    "    \n",
    "    tf_energy_data = tf_energy_data.rename(columns={\n",
    "        \"YEAR\": \"year\", \n",
    "        \"MONTH\": \"month\",\n",
    "        \"STATE\": \"state\",\n",
    "        \"TYPE OF PRODUCER\": \"producer\",\n",
    "        \"ENERGY SOURCE\": \"source\",\n",
    "        \"GENERATION (Megawatthours)\": \"generated\"})\n",
    "\n",
    "\n",
    "    tf_energy_data['producer'] = tf_energy_data['producer'].apply(lambda x: x.replace(',','/'))\n",
    "    tf_energy_data = tf_energy_data[tf_energy_data.state != 'US-TOTAL']\n",
    "    tf_energy_data = tf_energy_data[tf_energy_data.producer != 'Total Electric Power Industry']\n",
    "    tf_energy_data = tf_energy_data[tf_energy_data.source != 'Total']\n",
    "\n",
    "    \n",
    "    return tf_energy_data.reset_index(drop = True)"
   ]
  },
  {
   "cell_type": "code",
   "execution_count": 4,
   "id": "40f714e6",
   "metadata": {},
   "outputs": [
    {
     "name": "stdout",
     "output_type": "stream",
     "text": [
      "Transform execution time: 0.8191364799999992s\n"
     ]
    },
    {
     "data": {
      "text/html": [
       "<div>\n",
       "<style scoped>\n",
       "    .dataframe tbody tr th:only-of-type {\n",
       "        vertical-align: middle;\n",
       "    }\n",
       "\n",
       "    .dataframe tbody tr th {\n",
       "        vertical-align: top;\n",
       "    }\n",
       "\n",
       "    .dataframe thead th {\n",
       "        text-align: right;\n",
       "    }\n",
       "</style>\n",
       "<table border=\"1\" class=\"dataframe\">\n",
       "  <thead>\n",
       "    <tr style=\"text-align: right;\">\n",
       "      <th></th>\n",
       "      <th>year</th>\n",
       "      <th>month</th>\n",
       "      <th>state</th>\n",
       "      <th>producer</th>\n",
       "      <th>source</th>\n",
       "      <th>generated</th>\n",
       "    </tr>\n",
       "  </thead>\n",
       "  <tbody>\n",
       "    <tr>\n",
       "      <th>0</th>\n",
       "      <td>2001</td>\n",
       "      <td>1</td>\n",
       "      <td>AK</td>\n",
       "      <td>Electric Generators/ Electric Utilities</td>\n",
       "      <td>Coal</td>\n",
       "      <td>18410.0</td>\n",
       "    </tr>\n",
       "    <tr>\n",
       "      <th>1</th>\n",
       "      <td>2001</td>\n",
       "      <td>1</td>\n",
       "      <td>AK</td>\n",
       "      <td>Electric Generators/ Electric Utilities</td>\n",
       "      <td>Petroleum</td>\n",
       "      <td>64883.0</td>\n",
       "    </tr>\n",
       "    <tr>\n",
       "      <th>2</th>\n",
       "      <td>2001</td>\n",
       "      <td>1</td>\n",
       "      <td>AK</td>\n",
       "      <td>Electric Generators/ Electric Utilities</td>\n",
       "      <td>Natural Gas</td>\n",
       "      <td>305277.0</td>\n",
       "    </tr>\n",
       "    <tr>\n",
       "      <th>3</th>\n",
       "      <td>2001</td>\n",
       "      <td>1</td>\n",
       "      <td>AK</td>\n",
       "      <td>Electric Generators/ Electric Utilities</td>\n",
       "      <td>Hydroelectric Conventional</td>\n",
       "      <td>104549.0</td>\n",
       "    </tr>\n",
       "    <tr>\n",
       "      <th>4</th>\n",
       "      <td>2001</td>\n",
       "      <td>1</td>\n",
       "      <td>AK</td>\n",
       "      <td>Electric Generators/ Electric Utilities</td>\n",
       "      <td>Wind</td>\n",
       "      <td>87.0</td>\n",
       "    </tr>\n",
       "    <tr>\n",
       "      <th>...</th>\n",
       "      <td>...</td>\n",
       "      <td>...</td>\n",
       "      <td>...</td>\n",
       "      <td>...</td>\n",
       "      <td>...</td>\n",
       "      <td>...</td>\n",
       "    </tr>\n",
       "    <tr>\n",
       "      <th>288886</th>\n",
       "      <td>2022</td>\n",
       "      <td>5</td>\n",
       "      <td>WY</td>\n",
       "      <td>Electric Generators/ Electric Utilities</td>\n",
       "      <td>Coal</td>\n",
       "      <td>2071403.0</td>\n",
       "    </tr>\n",
       "    <tr>\n",
       "      <th>288887</th>\n",
       "      <td>2022</td>\n",
       "      <td>5</td>\n",
       "      <td>WY</td>\n",
       "      <td>Electric Generators/ Electric Utilities</td>\n",
       "      <td>Hydroelectric Conventional</td>\n",
       "      <td>96790.0</td>\n",
       "    </tr>\n",
       "    <tr>\n",
       "      <th>288888</th>\n",
       "      <td>2022</td>\n",
       "      <td>5</td>\n",
       "      <td>WY</td>\n",
       "      <td>Electric Generators/ Electric Utilities</td>\n",
       "      <td>Natural Gas</td>\n",
       "      <td>91570.0</td>\n",
       "    </tr>\n",
       "    <tr>\n",
       "      <th>288889</th>\n",
       "      <td>2022</td>\n",
       "      <td>5</td>\n",
       "      <td>WY</td>\n",
       "      <td>Electric Generators/ Electric Utilities</td>\n",
       "      <td>Petroleum</td>\n",
       "      <td>1812.0</td>\n",
       "    </tr>\n",
       "    <tr>\n",
       "      <th>288890</th>\n",
       "      <td>2022</td>\n",
       "      <td>5</td>\n",
       "      <td>WY</td>\n",
       "      <td>Electric Generators/ Electric Utilities</td>\n",
       "      <td>Wind</td>\n",
       "      <td>452913.0</td>\n",
       "    </tr>\n",
       "  </tbody>\n",
       "</table>\n",
       "<p>288891 rows × 6 columns</p>\n",
       "</div>"
      ],
      "text/plain": [
       "        year  month state                                 producer  \\\n",
       "0       2001      1    AK  Electric Generators/ Electric Utilities   \n",
       "1       2001      1    AK  Electric Generators/ Electric Utilities   \n",
       "2       2001      1    AK  Electric Generators/ Electric Utilities   \n",
       "3       2001      1    AK  Electric Generators/ Electric Utilities   \n",
       "4       2001      1    AK  Electric Generators/ Electric Utilities   \n",
       "...      ...    ...   ...                                      ...   \n",
       "288886  2022      5    WY  Electric Generators/ Electric Utilities   \n",
       "288887  2022      5    WY  Electric Generators/ Electric Utilities   \n",
       "288888  2022      5    WY  Electric Generators/ Electric Utilities   \n",
       "288889  2022      5    WY  Electric Generators/ Electric Utilities   \n",
       "288890  2022      5    WY  Electric Generators/ Electric Utilities   \n",
       "\n",
       "                            source  generated  \n",
       "0                             Coal    18410.0  \n",
       "1                        Petroleum    64883.0  \n",
       "2                      Natural Gas   305277.0  \n",
       "3       Hydroelectric Conventional   104549.0  \n",
       "4                             Wind       87.0  \n",
       "...                            ...        ...  \n",
       "288886                        Coal  2071403.0  \n",
       "288887  Hydroelectric Conventional    96790.0  \n",
       "288888                 Natural Gas    91570.0  \n",
       "288889                   Petroleum     1812.0  \n",
       "288890                        Wind   452913.0  \n",
       "\n",
       "[288891 rows x 6 columns]"
      ]
     },
     "execution_count": 4,
     "metadata": {},
     "output_type": "execute_result"
    }
   ],
   "source": [
    "from transformed_total_energy import transform_data\n",
    "import sys\n",
    "\n",
    "import psycopg2\n",
    "\n",
    "from psycopg2 import OperationalError, errorcodes, errors\n",
    "import psycopg2.extras as extras\n",
    "import pandas as pd\n",
    "from io import StringIO\n",
    "import numpy as np\n",
    "\n",
    "import plotly.express as px\n",
    "from timeit import default_timer as timer\n",
    "\n",
    "start = timer()\n",
    "x = transform_data()\n",
    "end = timer()\n",
    "k = end - start \n",
    "print(\"Transform execution time: {}s\".format(k))\n",
    "x"
   ]
  },
  {
   "cell_type": "code",
   "execution_count": 5,
   "id": "1faff7f1",
   "metadata": {
    "colab_type": "text",
    "id": "view-in-github"
   },
   "outputs": [
    {
     "name": "stdout",
     "output_type": "stream",
     "text": [
      "Overwriting query_total_energy.py\n"
     ]
    }
   ],
   "source": [
    "%%file query_total_energy.py \n",
    "\n",
    "from transformed_total_energy import transform_data\n",
    "import sys\n",
    "\n",
    "import psycopg2\n",
    "\n",
    "from psycopg2 import OperationalError, errorcodes, errors\n",
    "import psycopg2.extras as extras\n",
    "import pandas as pd\n",
    "from io import StringIO\n",
    "import numpy as np\n",
    "\n",
    "import plotly.express as px\n",
    "from timeit import default_timer as timer\n",
    "\n",
    "edf = transform_data()\n",
    "\n",
    "params_dic = {\n",
    "    \"host\"      : \"localhost\",\n",
    "    \"user\"      : \"postgres\",\n",
    "    \"password\"  : \"postgres\",\n",
    "    \"port\"      : \"5432\"\n",
    "}\n",
    "\n",
    "def connect(params_dic):\n",
    "    \"\"\" Connect to the PostgreSQL database server \"\"\"\n",
    "    conn = None\n",
    "    try:\n",
    "        # connect to the PostgreSQL server\n",
    "        print('Connecting to the PostgreSQL database...')\n",
    "        conn = psycopg2.connect(**params_dic)\n",
    "    except (Exception, psycopg2.DatabaseError) as error:\n",
    "        print(error)\n",
    "        sys.exit(1) \n",
    "    print(\"Connection successful\")\n",
    "    return conn\n",
    "conn = connect(params_dic)\n",
    "\n",
    "#install psycopg2-binary for MacOs if you don't have it\n",
    "    #!pip install psycopg2-binary\n",
    "\n",
    "# Define a function that handles and parses psycopg2 exceptions\n",
    "def show_psycopg2_exception(err):\n",
    "    # get details about the exception\n",
    "    err_type, err_obj, traceback = sys.exc_info()    \n",
    "    # get the line number when exception occured\n",
    "    line_n = traceback.tb_lineno    \n",
    "    # print the connect() error\n",
    "    print (\"\\npsycopg2 ERROR:\", err, \"on line number:\", line_n)\n",
    "    print (\"psycopg2 traceback:\", traceback, \"-- type:\", err_type) \n",
    "    # psycopg2 extensions.Diagnostics object attribute\n",
    "    print (\"\\nextensions.Diagnostics:\", err.diag)    \n",
    "    # print the pgcode and pgerror exceptions\n",
    "    print (\"pgerror:\", err.pgerror)\n",
    "    print (\"pgcode:\", err.pgcode, \"\\n\")\n",
    "\n",
    "def create_table(cursor):\n",
    "    try:\n",
    "        # \n",
    "        cursor.execute(\"DROP TABLE IF EXISTS energy;\")\n",
    "        sql = '''CREATE TABLE energy(\n",
    "        year INT NOT NULL, \n",
    "        month INT NOT NULL, \n",
    "        state VARCHAR(8) NOT NULL,\n",
    "        producer VARCHAR(50) NOT NULL,\n",
    "        source VARCHAR(50) NOT NULL,\n",
    "        energy FLOAT NOT NULL    \n",
    "        )'''\n",
    "        # Creating a table\n",
    "        cursor.execute(sql);\n",
    "        print(\"energy table is created successfully...............\")  \n",
    "    except OperationalError as err:\n",
    "        # pass exception to function\n",
    "        show_psycopg2_exception(err)\n",
    "        # set the connection to 'None' in case of error\n",
    "        conn = None\n",
    "\n",
    "# Define function using copy_from() with StringIO to insert the dataframe\n",
    "def copy_from_dataFile_StringIO(conn, datafrm, table):\n",
    "    \n",
    "    #save dataframe to an in memory buffer\n",
    "    buffer = StringIO()\n",
    "    datafrm.to_csv(buffer, header=False, index = False)\n",
    "    buffer.seek(0)\n",
    "    \n",
    "    cursor = conn.cursor()\n",
    "    try:\n",
    "        cursor.copy_from(buffer, table, sep=\",\")\n",
    "        print(\"Data inserted using copy_from_datafile_StringIO() successfully....\")\n",
    "    except (Exception, psycopg2.DatabaseError) as err:\n",
    "        # pass exception to function\n",
    "        show_psycopg2_exception(err)\n",
    "        cursor.close()\n",
    "\n",
    "conn = connect(params_dic)\n",
    "\n",
    "# We set autocommit=True so every command we execute will produce results immediately.\n",
    "conn.autocommit = True\n",
    "cursor = conn.cursor()\n",
    "create_table(cursor)\n",
    "\n",
    "copy_from_dataFile_StringIO(conn, edf, 'energy')\n",
    "\n",
    "\n",
    "def query_data():\n",
    "    start = timer()\n",
    "\n",
    "    conn.autocommit = True\n",
    "    cursor = conn.cursor()\n",
    "  \n",
    "    sql = '''SELECT year, producer, SUM(energy) AS total_generated \n",
    "                FROM energy\n",
    "                WHERE year >= 2001 AND year < 2022 \n",
    "                    AND (source='Wind' OR source='Solar Thermal and Photovoltaic' \n",
    "                        OR source='Hydroelectric Conventional' OR source='Geothermal' \n",
    "                        OR source='Wood and Wood Derived Fuels' OR source='Other Biomass' \n",
    "                        OR source='Pumped Storage')\n",
    "                    AND (state != 'US-TOTAL' \n",
    "                        AND producer != 'Total Electric Power Industry' \n",
    "                        AND source != 'Total')\n",
    "                GROUP BY year, producer\n",
    "                ORDER BY year DESC, producer DESC;\n",
    "                ;''' \n",
    "  \n",
    "    cursor.execute(sql)\n",
    "    results = cursor.fetchall()\n",
    "    df = pd.DataFrame (results, columns = ['Year', 'Producer', 'Total Generated(MWh)'])\n",
    "    #fig = px.line(df, x=\"Year\", y=\"Total Generated(in millions)\", title=\"TOTAL Energy Generated Each Year\")\n",
    "    conn.commit()\n",
    "    end = timer()\n",
    "    k = end - start \n",
    "    #print(\"Query execution time: {}s\".format(k))\n",
    "    #fig.show()\n",
    "    return df"
   ]
  },
  {
   "cell_type": "code",
   "execution_count": 6,
   "id": "771ed1c9",
   "metadata": {},
   "outputs": [
    {
     "name": "stdout",
     "output_type": "stream",
     "text": [
      "Connecting to the PostgreSQL database...\n",
      "Connection successful\n",
      "Connecting to the PostgreSQL database...\n",
      "Connection successful\n",
      "energy table is created successfully...............\n",
      "Data inserted using copy_from_datafile_StringIO() successfully....\n",
      "Import, Transform and Query execution time: 1.7564214600000003s\n"
     ]
    },
    {
     "data": {
      "text/html": [
       "<div>\n",
       "<style scoped>\n",
       "    .dataframe tbody tr th:only-of-type {\n",
       "        vertical-align: middle;\n",
       "    }\n",
       "\n",
       "    .dataframe tbody tr th {\n",
       "        vertical-align: top;\n",
       "    }\n",
       "\n",
       "    .dataframe thead th {\n",
       "        text-align: right;\n",
       "    }\n",
       "</style>\n",
       "<table border=\"1\" class=\"dataframe\">\n",
       "  <thead>\n",
       "    <tr style=\"text-align: right;\">\n",
       "      <th></th>\n",
       "      <th>Year</th>\n",
       "      <th>Producer</th>\n",
       "      <th>Total Generated(MWh)</th>\n",
       "    </tr>\n",
       "  </thead>\n",
       "  <tbody>\n",
       "    <tr>\n",
       "      <th>0</th>\n",
       "      <td>2021</td>\n",
       "      <td>Electric Generators/ Independent Power Producers</td>\n",
       "      <td>463220603.0</td>\n",
       "    </tr>\n",
       "    <tr>\n",
       "      <th>1</th>\n",
       "      <td>2021</td>\n",
       "      <td>Electric Generators/ Electric Utilities</td>\n",
       "      <td>323768754.0</td>\n",
       "    </tr>\n",
       "    <tr>\n",
       "      <th>2</th>\n",
       "      <td>2021</td>\n",
       "      <td>Combined Heat and Power/ Industrial Power</td>\n",
       "      <td>27537256.0</td>\n",
       "    </tr>\n",
       "    <tr>\n",
       "      <th>3</th>\n",
       "      <td>2021</td>\n",
       "      <td>Combined Heat and Power/ Electric Power</td>\n",
       "      <td>3054152.0</td>\n",
       "    </tr>\n",
       "    <tr>\n",
       "      <th>4</th>\n",
       "      <td>2021</td>\n",
       "      <td>Combined Heat and Power/ Commercial Power</td>\n",
       "      <td>3694951.0</td>\n",
       "    </tr>\n",
       "    <tr>\n",
       "      <th>...</th>\n",
       "      <td>...</td>\n",
       "      <td>...</td>\n",
       "      <td>...</td>\n",
       "    </tr>\n",
       "    <tr>\n",
       "      <th>100</th>\n",
       "      <td>2001</td>\n",
       "      <td>Electric Generators/ Independent Power Producers</td>\n",
       "      <td>52026743.0</td>\n",
       "    </tr>\n",
       "    <tr>\n",
       "      <th>101</th>\n",
       "      <td>2001</td>\n",
       "      <td>Electric Generators/ Electric Utilities</td>\n",
       "      <td>191765253.0</td>\n",
       "    </tr>\n",
       "    <tr>\n",
       "      <th>102</th>\n",
       "      <td>2001</td>\n",
       "      <td>Combined Heat and Power/ Industrial Power</td>\n",
       "      <td>30630146.0</td>\n",
       "    </tr>\n",
       "    <tr>\n",
       "      <th>103</th>\n",
       "      <td>2001</td>\n",
       "      <td>Combined Heat and Power/ Electric Power</td>\n",
       "      <td>3392669.0</td>\n",
       "    </tr>\n",
       "    <tr>\n",
       "      <th>104</th>\n",
       "      <td>2001</td>\n",
       "      <td>Combined Heat and Power/ Commercial Power</td>\n",
       "      <td>1091433.0</td>\n",
       "    </tr>\n",
       "  </tbody>\n",
       "</table>\n",
       "<p>105 rows × 3 columns</p>\n",
       "</div>"
      ],
      "text/plain": [
       "     Year                                          Producer  \\\n",
       "0    2021  Electric Generators/ Independent Power Producers   \n",
       "1    2021           Electric Generators/ Electric Utilities   \n",
       "2    2021         Combined Heat and Power/ Industrial Power   \n",
       "3    2021           Combined Heat and Power/ Electric Power   \n",
       "4    2021         Combined Heat and Power/ Commercial Power   \n",
       "..    ...                                               ...   \n",
       "100  2001  Electric Generators/ Independent Power Producers   \n",
       "101  2001           Electric Generators/ Electric Utilities   \n",
       "102  2001         Combined Heat and Power/ Industrial Power   \n",
       "103  2001           Combined Heat and Power/ Electric Power   \n",
       "104  2001         Combined Heat and Power/ Commercial Power   \n",
       "\n",
       "     Total Generated(MWh)  \n",
       "0             463220603.0  \n",
       "1             323768754.0  \n",
       "2              27537256.0  \n",
       "3               3054152.0  \n",
       "4               3694951.0  \n",
       "..                    ...  \n",
       "100            52026743.0  \n",
       "101           191765253.0  \n",
       "102            30630146.0  \n",
       "103             3392669.0  \n",
       "104             1091433.0  \n",
       "\n",
       "[105 rows x 3 columns]"
      ]
     },
     "execution_count": 6,
     "metadata": {},
     "output_type": "execute_result"
    }
   ],
   "source": [
    "from transformed_total_energy import transform_data\n",
    "from query_total_energy import query_data\n",
    "\n",
    "start = timer()\n",
    "a = import_data()\n",
    "x = transform_data()\n",
    "y = query_data()\n",
    "end = timer()\n",
    "k = end - start \n",
    "print(\"Import, Transform and Query execution time: {}s\".format(k))\n",
    "y"
   ]
  },
  {
   "cell_type": "code",
   "execution_count": 7,
   "id": "61768c42",
   "metadata": {},
   "outputs": [
    {
     "data": {
      "text/plain": [
       "99824051.75533333"
      ]
     },
     "execution_count": 7,
     "metadata": {},
     "output_type": "execute_result"
    }
   ],
   "source": [
    "y['Total Generated(MWh)'].mean()"
   ]
  },
  {
   "cell_type": "code",
   "execution_count": 13,
   "id": "72c07000",
   "metadata": {},
   "outputs": [
    {
     "data": {
      "application/vnd.plotly.v1+json": {
       "config": {
        "plotlyServerURL": "https://plotly.com"
       },
       "data": [
        {
         "hovertemplate": "Producer=Electric Generators/ Independent Power Producers<br>Year=%{x}<br>Total Generated(MWh)=%{y}<extra></extra>",
         "legendgroup": "Electric Generators/ Independent Power Producers",
         "line": {
          "color": "#636efa",
          "dash": "solid"
         },
         "marker": {
          "symbol": "circle"
         },
         "mode": "markers+lines",
         "name": "Electric Generators/ Independent Power Producers",
         "orientation": "v",
         "showlegend": true,
         "type": "scatter",
         "x": [
          2021,
          2020,
          2019,
          2018,
          2017,
          2016,
          2015,
          2014,
          2013,
          2012,
          2011,
          2010,
          2009,
          2008,
          2007,
          2006,
          2005,
          2004,
          2003,
          2002,
          2001
         ],
         "xaxis": "x",
         "y": [
          463220603,
          413285675,
          374696610,
          353018620,
          326992613,
          281171219,
          239427552,
          230184881.74999988,
          206496989.78,
          176493909.8999999,
          164006822.16000003,
          138516721,
          120973800,
          104657418,
          79835731,
          78995046,
          68595959,
          64298708,
          62944658,
          57609605,
          52026743
         ],
         "yaxis": "y"
        },
        {
         "hovertemplate": "Producer=Electric Generators/ Electric Utilities<br>Year=%{x}<br>Total Generated(MWh)=%{y}<extra></extra>",
         "legendgroup": "Electric Generators/ Electric Utilities",
         "line": {
          "color": "#EF553B",
          "dash": "solid"
         },
         "marker": {
          "symbol": "circle"
         },
         "mode": "markers+lines",
         "name": "Electric Generators/ Electric Utilities",
         "orientation": "v",
         "showlegend": true,
         "type": "scatter",
         "x": [
          2021,
          2020,
          2019,
          2018,
          2017,
          2016,
          2015,
          2014,
          2013,
          2012,
          2011,
          2010,
          2009,
          2008,
          2007,
          2006,
          2005,
          2004,
          2003,
          2002,
          2001
         ],
         "xaxis": "x",
         "y": [
          323768754,
          330066528,
          312315445,
          311650743,
          316339902,
          284818611,
          263020436,
          263967884.77000013,
          271683487.96000004,
          276751063.18999994,
          308047660.4999999,
          249565730,
          258446466,
          235810198,
          230359483,
          263171207,
          245115358,
          241711607,
          245511441,
          237956925,
          191765253
         ],
         "yaxis": "y"
        },
        {
         "hovertemplate": "Producer=Combined Heat and Power/ Industrial Power<br>Year=%{x}<br>Total Generated(MWh)=%{y}<extra></extra>",
         "legendgroup": "Combined Heat and Power/ Industrial Power",
         "line": {
          "color": "#00cc96",
          "dash": "solid"
         },
         "marker": {
          "symbol": "circle"
         },
         "mode": "markers+lines",
         "name": "Combined Heat and Power/ Industrial Power",
         "orientation": "v",
         "showlegend": true,
         "type": "scatter",
         "x": [
          2021,
          2020,
          2019,
          2018,
          2017,
          2016,
          2015,
          2014,
          2013,
          2012,
          2011,
          2010,
          2009,
          2008,
          2007,
          2006,
          2005,
          2004,
          2003,
          2002,
          2001
         ],
         "xaxis": "x",
         "y": [
          27537256,
          27441437,
          28394560,
          29636386,
          29932250,
          29959608,
          30044909,
          32190125.529999997,
          32554132.659999985,
          30060174.400000025,
          29417698.11,
          28243808,
          27900972,
          29138174,
          30508809,
          31871520,
          32198544,
          32412566,
          32926242,
          34313832,
          30630146
         ],
         "yaxis": "y"
        },
        {
         "hovertemplate": "Producer=Combined Heat and Power/ Electric Power<br>Year=%{x}<br>Total Generated(MWh)=%{y}<extra></extra>",
         "legendgroup": "Combined Heat and Power/ Electric Power",
         "line": {
          "color": "#ab63fa",
          "dash": "solid"
         },
         "marker": {
          "symbol": "circle"
         },
         "mode": "markers+lines",
         "name": "Combined Heat and Power/ Electric Power",
         "orientation": "v",
         "showlegend": true,
         "type": "scatter",
         "x": [
          2021,
          2020,
          2019,
          2018,
          2017,
          2016,
          2015,
          2014,
          2013,
          2012,
          2011,
          2010,
          2009,
          2008,
          2007,
          2006,
          2005,
          2004,
          2003,
          2002,
          2001
         ],
         "xaxis": "x",
         "y": [
          3054152,
          3327757,
          3414513,
          3164689,
          3333198,
          3366458,
          3401869,
          3997229.3200000003,
          3658281.4200000004,
          3744925.4799999995,
          3504749.31,
          3754440,
          3935781,
          3423572,
          3455689,
          3463619,
          3424241,
          2893441,
          4001516,
          3736701,
          3392669
         ],
         "yaxis": "y"
        },
        {
         "hovertemplate": "Producer=Combined Heat and Power/ Commercial Power<br>Year=%{x}<br>Total Generated(MWh)=%{y}<extra></extra>",
         "legendgroup": "Combined Heat and Power/ Commercial Power",
         "line": {
          "color": "#FFA15A",
          "dash": "solid"
         },
         "marker": {
          "symbol": "circle"
         },
         "mode": "markers+lines",
         "name": "Combined Heat and Power/ Commercial Power",
         "orientation": "v",
         "showlegend": true,
         "type": "scatter",
         "x": [
          2021,
          2020,
          2019,
          2018,
          2017,
          2016,
          2015,
          2014,
          2013,
          2012,
          2011,
          2010,
          2009,
          2008,
          2007,
          2006,
          2005,
          2004,
          2003,
          2002,
          2001
         ],
         "xaxis": "x",
         "y": [
          3694951,
          3560827,
          3614656,
          3440860,
          3490190,
          3443073,
          3254719,
          3260318.05,
          2999526.5300000003,
          2572625.9699999997,
          2501533.5200000005,
          1794288,
          1839464,
          1614986,
          1691436,
          1712694,
          1758785,
          1680158,
          1374204,
          1077998,
          1091433
         ],
         "yaxis": "y"
        }
       ],
       "layout": {
        "legend": {
         "title": {
          "text": "Producer"
         },
         "tracegroupgap": 0
        },
        "shapes": [
         {
          "line": {
           "color": "#d62728",
           "dash": "dot",
           "width": 3
          },
          "opacity": 1,
          "type": "line",
          "x0": 0,
          "x1": 1,
          "xref": "paper",
          "y0": 99824051.75533333,
          "y1": 99824051.75533333,
          "yref": "y"
         }
        ],
        "template": {
         "data": {
          "bar": [
           {
            "error_x": {
             "color": "#2a3f5f"
            },
            "error_y": {
             "color": "#2a3f5f"
            },
            "marker": {
             "line": {
              "color": "#E5ECF6",
              "width": 0.5
             },
             "pattern": {
              "fillmode": "overlay",
              "size": 10,
              "solidity": 0.2
             }
            },
            "type": "bar"
           }
          ],
          "barpolar": [
           {
            "marker": {
             "line": {
              "color": "#E5ECF6",
              "width": 0.5
             },
             "pattern": {
              "fillmode": "overlay",
              "size": 10,
              "solidity": 0.2
             }
            },
            "type": "barpolar"
           }
          ],
          "carpet": [
           {
            "aaxis": {
             "endlinecolor": "#2a3f5f",
             "gridcolor": "white",
             "linecolor": "white",
             "minorgridcolor": "white",
             "startlinecolor": "#2a3f5f"
            },
            "baxis": {
             "endlinecolor": "#2a3f5f",
             "gridcolor": "white",
             "linecolor": "white",
             "minorgridcolor": "white",
             "startlinecolor": "#2a3f5f"
            },
            "type": "carpet"
           }
          ],
          "choropleth": [
           {
            "colorbar": {
             "outlinewidth": 0,
             "ticks": ""
            },
            "type": "choropleth"
           }
          ],
          "contour": [
           {
            "colorbar": {
             "outlinewidth": 0,
             "ticks": ""
            },
            "colorscale": [
             [
              0,
              "#0d0887"
             ],
             [
              0.1111111111111111,
              "#46039f"
             ],
             [
              0.2222222222222222,
              "#7201a8"
             ],
             [
              0.3333333333333333,
              "#9c179e"
             ],
             [
              0.4444444444444444,
              "#bd3786"
             ],
             [
              0.5555555555555556,
              "#d8576b"
             ],
             [
              0.6666666666666666,
              "#ed7953"
             ],
             [
              0.7777777777777778,
              "#fb9f3a"
             ],
             [
              0.8888888888888888,
              "#fdca26"
             ],
             [
              1,
              "#f0f921"
             ]
            ],
            "type": "contour"
           }
          ],
          "contourcarpet": [
           {
            "colorbar": {
             "outlinewidth": 0,
             "ticks": ""
            },
            "type": "contourcarpet"
           }
          ],
          "heatmap": [
           {
            "colorbar": {
             "outlinewidth": 0,
             "ticks": ""
            },
            "colorscale": [
             [
              0,
              "#0d0887"
             ],
             [
              0.1111111111111111,
              "#46039f"
             ],
             [
              0.2222222222222222,
              "#7201a8"
             ],
             [
              0.3333333333333333,
              "#9c179e"
             ],
             [
              0.4444444444444444,
              "#bd3786"
             ],
             [
              0.5555555555555556,
              "#d8576b"
             ],
             [
              0.6666666666666666,
              "#ed7953"
             ],
             [
              0.7777777777777778,
              "#fb9f3a"
             ],
             [
              0.8888888888888888,
              "#fdca26"
             ],
             [
              1,
              "#f0f921"
             ]
            ],
            "type": "heatmap"
           }
          ],
          "heatmapgl": [
           {
            "colorbar": {
             "outlinewidth": 0,
             "ticks": ""
            },
            "colorscale": [
             [
              0,
              "#0d0887"
             ],
             [
              0.1111111111111111,
              "#46039f"
             ],
             [
              0.2222222222222222,
              "#7201a8"
             ],
             [
              0.3333333333333333,
              "#9c179e"
             ],
             [
              0.4444444444444444,
              "#bd3786"
             ],
             [
              0.5555555555555556,
              "#d8576b"
             ],
             [
              0.6666666666666666,
              "#ed7953"
             ],
             [
              0.7777777777777778,
              "#fb9f3a"
             ],
             [
              0.8888888888888888,
              "#fdca26"
             ],
             [
              1,
              "#f0f921"
             ]
            ],
            "type": "heatmapgl"
           }
          ],
          "histogram": [
           {
            "marker": {
             "pattern": {
              "fillmode": "overlay",
              "size": 10,
              "solidity": 0.2
             }
            },
            "type": "histogram"
           }
          ],
          "histogram2d": [
           {
            "colorbar": {
             "outlinewidth": 0,
             "ticks": ""
            },
            "colorscale": [
             [
              0,
              "#0d0887"
             ],
             [
              0.1111111111111111,
              "#46039f"
             ],
             [
              0.2222222222222222,
              "#7201a8"
             ],
             [
              0.3333333333333333,
              "#9c179e"
             ],
             [
              0.4444444444444444,
              "#bd3786"
             ],
             [
              0.5555555555555556,
              "#d8576b"
             ],
             [
              0.6666666666666666,
              "#ed7953"
             ],
             [
              0.7777777777777778,
              "#fb9f3a"
             ],
             [
              0.8888888888888888,
              "#fdca26"
             ],
             [
              1,
              "#f0f921"
             ]
            ],
            "type": "histogram2d"
           }
          ],
          "histogram2dcontour": [
           {
            "colorbar": {
             "outlinewidth": 0,
             "ticks": ""
            },
            "colorscale": [
             [
              0,
              "#0d0887"
             ],
             [
              0.1111111111111111,
              "#46039f"
             ],
             [
              0.2222222222222222,
              "#7201a8"
             ],
             [
              0.3333333333333333,
              "#9c179e"
             ],
             [
              0.4444444444444444,
              "#bd3786"
             ],
             [
              0.5555555555555556,
              "#d8576b"
             ],
             [
              0.6666666666666666,
              "#ed7953"
             ],
             [
              0.7777777777777778,
              "#fb9f3a"
             ],
             [
              0.8888888888888888,
              "#fdca26"
             ],
             [
              1,
              "#f0f921"
             ]
            ],
            "type": "histogram2dcontour"
           }
          ],
          "mesh3d": [
           {
            "colorbar": {
             "outlinewidth": 0,
             "ticks": ""
            },
            "type": "mesh3d"
           }
          ],
          "parcoords": [
           {
            "line": {
             "colorbar": {
              "outlinewidth": 0,
              "ticks": ""
             }
            },
            "type": "parcoords"
           }
          ],
          "pie": [
           {
            "automargin": true,
            "type": "pie"
           }
          ],
          "scatter": [
           {
            "marker": {
             "colorbar": {
              "outlinewidth": 0,
              "ticks": ""
             }
            },
            "type": "scatter"
           }
          ],
          "scatter3d": [
           {
            "line": {
             "colorbar": {
              "outlinewidth": 0,
              "ticks": ""
             }
            },
            "marker": {
             "colorbar": {
              "outlinewidth": 0,
              "ticks": ""
             }
            },
            "type": "scatter3d"
           }
          ],
          "scattercarpet": [
           {
            "marker": {
             "colorbar": {
              "outlinewidth": 0,
              "ticks": ""
             }
            },
            "type": "scattercarpet"
           }
          ],
          "scattergeo": [
           {
            "marker": {
             "colorbar": {
              "outlinewidth": 0,
              "ticks": ""
             }
            },
            "type": "scattergeo"
           }
          ],
          "scattergl": [
           {
            "marker": {
             "colorbar": {
              "outlinewidth": 0,
              "ticks": ""
             }
            },
            "type": "scattergl"
           }
          ],
          "scattermapbox": [
           {
            "marker": {
             "colorbar": {
              "outlinewidth": 0,
              "ticks": ""
             }
            },
            "type": "scattermapbox"
           }
          ],
          "scatterpolar": [
           {
            "marker": {
             "colorbar": {
              "outlinewidth": 0,
              "ticks": ""
             }
            },
            "type": "scatterpolar"
           }
          ],
          "scatterpolargl": [
           {
            "marker": {
             "colorbar": {
              "outlinewidth": 0,
              "ticks": ""
             }
            },
            "type": "scatterpolargl"
           }
          ],
          "scatterternary": [
           {
            "marker": {
             "colorbar": {
              "outlinewidth": 0,
              "ticks": ""
             }
            },
            "type": "scatterternary"
           }
          ],
          "surface": [
           {
            "colorbar": {
             "outlinewidth": 0,
             "ticks": ""
            },
            "colorscale": [
             [
              0,
              "#0d0887"
             ],
             [
              0.1111111111111111,
              "#46039f"
             ],
             [
              0.2222222222222222,
              "#7201a8"
             ],
             [
              0.3333333333333333,
              "#9c179e"
             ],
             [
              0.4444444444444444,
              "#bd3786"
             ],
             [
              0.5555555555555556,
              "#d8576b"
             ],
             [
              0.6666666666666666,
              "#ed7953"
             ],
             [
              0.7777777777777778,
              "#fb9f3a"
             ],
             [
              0.8888888888888888,
              "#fdca26"
             ],
             [
              1,
              "#f0f921"
             ]
            ],
            "type": "surface"
           }
          ],
          "table": [
           {
            "cells": {
             "fill": {
              "color": "#EBF0F8"
             },
             "line": {
              "color": "white"
             }
            },
            "header": {
             "fill": {
              "color": "#C8D4E3"
             },
             "line": {
              "color": "white"
             }
            },
            "type": "table"
           }
          ]
         },
         "layout": {
          "annotationdefaults": {
           "arrowcolor": "#2a3f5f",
           "arrowhead": 0,
           "arrowwidth": 1
          },
          "autotypenumbers": "strict",
          "coloraxis": {
           "colorbar": {
            "outlinewidth": 0,
            "ticks": ""
           }
          },
          "colorscale": {
           "diverging": [
            [
             0,
             "#8e0152"
            ],
            [
             0.1,
             "#c51b7d"
            ],
            [
             0.2,
             "#de77ae"
            ],
            [
             0.3,
             "#f1b6da"
            ],
            [
             0.4,
             "#fde0ef"
            ],
            [
             0.5,
             "#f7f7f7"
            ],
            [
             0.6,
             "#e6f5d0"
            ],
            [
             0.7,
             "#b8e186"
            ],
            [
             0.8,
             "#7fbc41"
            ],
            [
             0.9,
             "#4d9221"
            ],
            [
             1,
             "#276419"
            ]
           ],
           "sequential": [
            [
             0,
             "#0d0887"
            ],
            [
             0.1111111111111111,
             "#46039f"
            ],
            [
             0.2222222222222222,
             "#7201a8"
            ],
            [
             0.3333333333333333,
             "#9c179e"
            ],
            [
             0.4444444444444444,
             "#bd3786"
            ],
            [
             0.5555555555555556,
             "#d8576b"
            ],
            [
             0.6666666666666666,
             "#ed7953"
            ],
            [
             0.7777777777777778,
             "#fb9f3a"
            ],
            [
             0.8888888888888888,
             "#fdca26"
            ],
            [
             1,
             "#f0f921"
            ]
           ],
           "sequentialminus": [
            [
             0,
             "#0d0887"
            ],
            [
             0.1111111111111111,
             "#46039f"
            ],
            [
             0.2222222222222222,
             "#7201a8"
            ],
            [
             0.3333333333333333,
             "#9c179e"
            ],
            [
             0.4444444444444444,
             "#bd3786"
            ],
            [
             0.5555555555555556,
             "#d8576b"
            ],
            [
             0.6666666666666666,
             "#ed7953"
            ],
            [
             0.7777777777777778,
             "#fb9f3a"
            ],
            [
             0.8888888888888888,
             "#fdca26"
            ],
            [
             1,
             "#f0f921"
            ]
           ]
          },
          "colorway": [
           "#636efa",
           "#EF553B",
           "#00cc96",
           "#ab63fa",
           "#FFA15A",
           "#19d3f3",
           "#FF6692",
           "#B6E880",
           "#FF97FF",
           "#FECB52"
          ],
          "font": {
           "color": "#2a3f5f"
          },
          "geo": {
           "bgcolor": "white",
           "lakecolor": "white",
           "landcolor": "#E5ECF6",
           "showlakes": true,
           "showland": true,
           "subunitcolor": "white"
          },
          "hoverlabel": {
           "align": "left"
          },
          "hovermode": "closest",
          "mapbox": {
           "style": "light"
          },
          "paper_bgcolor": "white",
          "plot_bgcolor": "#E5ECF6",
          "polar": {
           "angularaxis": {
            "gridcolor": "white",
            "linecolor": "white",
            "ticks": ""
           },
           "bgcolor": "#E5ECF6",
           "radialaxis": {
            "gridcolor": "white",
            "linecolor": "white",
            "ticks": ""
           }
          },
          "scene": {
           "xaxis": {
            "backgroundcolor": "#E5ECF6",
            "gridcolor": "white",
            "gridwidth": 2,
            "linecolor": "white",
            "showbackground": true,
            "ticks": "",
            "zerolinecolor": "white"
           },
           "yaxis": {
            "backgroundcolor": "#E5ECF6",
            "gridcolor": "white",
            "gridwidth": 2,
            "linecolor": "white",
            "showbackground": true,
            "ticks": "",
            "zerolinecolor": "white"
           },
           "zaxis": {
            "backgroundcolor": "#E5ECF6",
            "gridcolor": "white",
            "gridwidth": 2,
            "linecolor": "white",
            "showbackground": true,
            "ticks": "",
            "zerolinecolor": "white"
           }
          },
          "shapedefaults": {
           "line": {
            "color": "#2a3f5f"
           }
          },
          "ternary": {
           "aaxis": {
            "gridcolor": "white",
            "linecolor": "white",
            "ticks": ""
           },
           "baxis": {
            "gridcolor": "white",
            "linecolor": "white",
            "ticks": ""
           },
           "bgcolor": "#E5ECF6",
           "caxis": {
            "gridcolor": "white",
            "linecolor": "white",
            "ticks": ""
           }
          },
          "title": {
           "x": 0.05
          },
          "xaxis": {
           "automargin": true,
           "gridcolor": "white",
           "linecolor": "white",
           "ticks": "",
           "title": {
            "standoff": 15
           },
           "zerolinecolor": "white",
           "zerolinewidth": 2
          },
          "yaxis": {
           "automargin": true,
           "gridcolor": "white",
           "linecolor": "white",
           "ticks": "",
           "title": {
            "standoff": 15
           },
           "zerolinecolor": "white",
           "zerolinewidth": 2
          }
         }
        },
        "title": {
         "text": "Total Renewable Energy Production Over time"
        },
        "xaxis": {
         "anchor": "y",
         "domain": [
          0,
          1
         ],
         "title": {
          "text": "Year"
         }
        },
        "yaxis": {
         "anchor": "x",
         "domain": [
          0,
          1
         ],
         "title": {
          "text": "Total Generated(MWh)"
         }
        }
       }
      },
      "text/html": [
       "<div>                            <div id=\"e2b41fb9-62fd-4007-8f90-aaae8562e6ca\" class=\"plotly-graph-div\" style=\"height:525px; width:100%;\"></div>            <script type=\"text/javascript\">                require([\"plotly\"], function(Plotly) {                    window.PLOTLYENV=window.PLOTLYENV || {};                                    if (document.getElementById(\"e2b41fb9-62fd-4007-8f90-aaae8562e6ca\")) {                    Plotly.newPlot(                        \"e2b41fb9-62fd-4007-8f90-aaae8562e6ca\",                        [{\"hovertemplate\":\"Producer=Electric Generators/ Independent Power Producers<br>Year=%{x}<br>Total Generated(MWh)=%{y}<extra></extra>\",\"legendgroup\":\"Electric Generators/ Independent Power Producers\",\"line\":{\"color\":\"#636efa\",\"dash\":\"solid\"},\"marker\":{\"symbol\":\"circle\"},\"mode\":\"markers+lines\",\"name\":\"Electric Generators/ Independent Power Producers\",\"orientation\":\"v\",\"showlegend\":true,\"x\":[2021,2020,2019,2018,2017,2016,2015,2014,2013,2012,2011,2010,2009,2008,2007,2006,2005,2004,2003,2002,2001],\"xaxis\":\"x\",\"y\":[463220603.0,413285675.0,374696610.0,353018620.0,326992613.0,281171219.0,239427552.0,230184881.74999988,206496989.78,176493909.8999999,164006822.16000003,138516721.0,120973800.0,104657418.0,79835731.0,78995046.0,68595959.0,64298708.0,62944658.0,57609605.0,52026743.0],\"yaxis\":\"y\",\"type\":\"scatter\"},{\"hovertemplate\":\"Producer=Electric Generators/ Electric Utilities<br>Year=%{x}<br>Total Generated(MWh)=%{y}<extra></extra>\",\"legendgroup\":\"Electric Generators/ Electric Utilities\",\"line\":{\"color\":\"#EF553B\",\"dash\":\"solid\"},\"marker\":{\"symbol\":\"circle\"},\"mode\":\"markers+lines\",\"name\":\"Electric Generators/ Electric Utilities\",\"orientation\":\"v\",\"showlegend\":true,\"x\":[2021,2020,2019,2018,2017,2016,2015,2014,2013,2012,2011,2010,2009,2008,2007,2006,2005,2004,2003,2002,2001],\"xaxis\":\"x\",\"y\":[323768754.0,330066528.0,312315445.0,311650743.0,316339902.0,284818611.0,263020436.0,263967884.77000013,271683487.96000004,276751063.18999994,308047660.4999999,249565730.0,258446466.0,235810198.0,230359483.0,263171207.0,245115358.0,241711607.0,245511441.0,237956925.0,191765253.0],\"yaxis\":\"y\",\"type\":\"scatter\"},{\"hovertemplate\":\"Producer=Combined Heat and Power/ Industrial Power<br>Year=%{x}<br>Total Generated(MWh)=%{y}<extra></extra>\",\"legendgroup\":\"Combined Heat and Power/ Industrial Power\",\"line\":{\"color\":\"#00cc96\",\"dash\":\"solid\"},\"marker\":{\"symbol\":\"circle\"},\"mode\":\"markers+lines\",\"name\":\"Combined Heat and Power/ Industrial Power\",\"orientation\":\"v\",\"showlegend\":true,\"x\":[2021,2020,2019,2018,2017,2016,2015,2014,2013,2012,2011,2010,2009,2008,2007,2006,2005,2004,2003,2002,2001],\"xaxis\":\"x\",\"y\":[27537256.0,27441437.0,28394560.0,29636386.0,29932250.0,29959608.0,30044909.0,32190125.529999997,32554132.659999985,30060174.400000025,29417698.11,28243808.0,27900972.0,29138174.0,30508809.0,31871520.0,32198544.0,32412566.0,32926242.0,34313832.0,30630146.0],\"yaxis\":\"y\",\"type\":\"scatter\"},{\"hovertemplate\":\"Producer=Combined Heat and Power/ Electric Power<br>Year=%{x}<br>Total Generated(MWh)=%{y}<extra></extra>\",\"legendgroup\":\"Combined Heat and Power/ Electric Power\",\"line\":{\"color\":\"#ab63fa\",\"dash\":\"solid\"},\"marker\":{\"symbol\":\"circle\"},\"mode\":\"markers+lines\",\"name\":\"Combined Heat and Power/ Electric Power\",\"orientation\":\"v\",\"showlegend\":true,\"x\":[2021,2020,2019,2018,2017,2016,2015,2014,2013,2012,2011,2010,2009,2008,2007,2006,2005,2004,2003,2002,2001],\"xaxis\":\"x\",\"y\":[3054152.0,3327757.0,3414513.0,3164689.0,3333198.0,3366458.0,3401869.0,3997229.3200000003,3658281.4200000004,3744925.4799999995,3504749.31,3754440.0,3935781.0,3423572.0,3455689.0,3463619.0,3424241.0,2893441.0,4001516.0,3736701.0,3392669.0],\"yaxis\":\"y\",\"type\":\"scatter\"},{\"hovertemplate\":\"Producer=Combined Heat and Power/ Commercial Power<br>Year=%{x}<br>Total Generated(MWh)=%{y}<extra></extra>\",\"legendgroup\":\"Combined Heat and Power/ Commercial Power\",\"line\":{\"color\":\"#FFA15A\",\"dash\":\"solid\"},\"marker\":{\"symbol\":\"circle\"},\"mode\":\"markers+lines\",\"name\":\"Combined Heat and Power/ Commercial Power\",\"orientation\":\"v\",\"showlegend\":true,\"x\":[2021,2020,2019,2018,2017,2016,2015,2014,2013,2012,2011,2010,2009,2008,2007,2006,2005,2004,2003,2002,2001],\"xaxis\":\"x\",\"y\":[3694951.0,3560827.0,3614656.0,3440860.0,3490190.0,3443073.0,3254719.0,3260318.05,2999526.5300000003,2572625.9699999997,2501533.5200000005,1794288.0,1839464.0,1614986.0,1691436.0,1712694.0,1758785.0,1680158.0,1374204.0,1077998.0,1091433.0],\"yaxis\":\"y\",\"type\":\"scatter\"}],                        {\"template\":{\"data\":{\"bar\":[{\"error_x\":{\"color\":\"#2a3f5f\"},\"error_y\":{\"color\":\"#2a3f5f\"},\"marker\":{\"line\":{\"color\":\"#E5ECF6\",\"width\":0.5},\"pattern\":{\"fillmode\":\"overlay\",\"size\":10,\"solidity\":0.2}},\"type\":\"bar\"}],\"barpolar\":[{\"marker\":{\"line\":{\"color\":\"#E5ECF6\",\"width\":0.5},\"pattern\":{\"fillmode\":\"overlay\",\"size\":10,\"solidity\":0.2}},\"type\":\"barpolar\"}],\"carpet\":[{\"aaxis\":{\"endlinecolor\":\"#2a3f5f\",\"gridcolor\":\"white\",\"linecolor\":\"white\",\"minorgridcolor\":\"white\",\"startlinecolor\":\"#2a3f5f\"},\"baxis\":{\"endlinecolor\":\"#2a3f5f\",\"gridcolor\":\"white\",\"linecolor\":\"white\",\"minorgridcolor\":\"white\",\"startlinecolor\":\"#2a3f5f\"},\"type\":\"carpet\"}],\"choropleth\":[{\"colorbar\":{\"outlinewidth\":0,\"ticks\":\"\"},\"type\":\"choropleth\"}],\"contour\":[{\"colorbar\":{\"outlinewidth\":0,\"ticks\":\"\"},\"colorscale\":[[0.0,\"#0d0887\"],[0.1111111111111111,\"#46039f\"],[0.2222222222222222,\"#7201a8\"],[0.3333333333333333,\"#9c179e\"],[0.4444444444444444,\"#bd3786\"],[0.5555555555555556,\"#d8576b\"],[0.6666666666666666,\"#ed7953\"],[0.7777777777777778,\"#fb9f3a\"],[0.8888888888888888,\"#fdca26\"],[1.0,\"#f0f921\"]],\"type\":\"contour\"}],\"contourcarpet\":[{\"colorbar\":{\"outlinewidth\":0,\"ticks\":\"\"},\"type\":\"contourcarpet\"}],\"heatmap\":[{\"colorbar\":{\"outlinewidth\":0,\"ticks\":\"\"},\"colorscale\":[[0.0,\"#0d0887\"],[0.1111111111111111,\"#46039f\"],[0.2222222222222222,\"#7201a8\"],[0.3333333333333333,\"#9c179e\"],[0.4444444444444444,\"#bd3786\"],[0.5555555555555556,\"#d8576b\"],[0.6666666666666666,\"#ed7953\"],[0.7777777777777778,\"#fb9f3a\"],[0.8888888888888888,\"#fdca26\"],[1.0,\"#f0f921\"]],\"type\":\"heatmap\"}],\"heatmapgl\":[{\"colorbar\":{\"outlinewidth\":0,\"ticks\":\"\"},\"colorscale\":[[0.0,\"#0d0887\"],[0.1111111111111111,\"#46039f\"],[0.2222222222222222,\"#7201a8\"],[0.3333333333333333,\"#9c179e\"],[0.4444444444444444,\"#bd3786\"],[0.5555555555555556,\"#d8576b\"],[0.6666666666666666,\"#ed7953\"],[0.7777777777777778,\"#fb9f3a\"],[0.8888888888888888,\"#fdca26\"],[1.0,\"#f0f921\"]],\"type\":\"heatmapgl\"}],\"histogram\":[{\"marker\":{\"pattern\":{\"fillmode\":\"overlay\",\"size\":10,\"solidity\":0.2}},\"type\":\"histogram\"}],\"histogram2d\":[{\"colorbar\":{\"outlinewidth\":0,\"ticks\":\"\"},\"colorscale\":[[0.0,\"#0d0887\"],[0.1111111111111111,\"#46039f\"],[0.2222222222222222,\"#7201a8\"],[0.3333333333333333,\"#9c179e\"],[0.4444444444444444,\"#bd3786\"],[0.5555555555555556,\"#d8576b\"],[0.6666666666666666,\"#ed7953\"],[0.7777777777777778,\"#fb9f3a\"],[0.8888888888888888,\"#fdca26\"],[1.0,\"#f0f921\"]],\"type\":\"histogram2d\"}],\"histogram2dcontour\":[{\"colorbar\":{\"outlinewidth\":0,\"ticks\":\"\"},\"colorscale\":[[0.0,\"#0d0887\"],[0.1111111111111111,\"#46039f\"],[0.2222222222222222,\"#7201a8\"],[0.3333333333333333,\"#9c179e\"],[0.4444444444444444,\"#bd3786\"],[0.5555555555555556,\"#d8576b\"],[0.6666666666666666,\"#ed7953\"],[0.7777777777777778,\"#fb9f3a\"],[0.8888888888888888,\"#fdca26\"],[1.0,\"#f0f921\"]],\"type\":\"histogram2dcontour\"}],\"mesh3d\":[{\"colorbar\":{\"outlinewidth\":0,\"ticks\":\"\"},\"type\":\"mesh3d\"}],\"parcoords\":[{\"line\":{\"colorbar\":{\"outlinewidth\":0,\"ticks\":\"\"}},\"type\":\"parcoords\"}],\"pie\":[{\"automargin\":true,\"type\":\"pie\"}],\"scatter\":[{\"marker\":{\"colorbar\":{\"outlinewidth\":0,\"ticks\":\"\"}},\"type\":\"scatter\"}],\"scatter3d\":[{\"line\":{\"colorbar\":{\"outlinewidth\":0,\"ticks\":\"\"}},\"marker\":{\"colorbar\":{\"outlinewidth\":0,\"ticks\":\"\"}},\"type\":\"scatter3d\"}],\"scattercarpet\":[{\"marker\":{\"colorbar\":{\"outlinewidth\":0,\"ticks\":\"\"}},\"type\":\"scattercarpet\"}],\"scattergeo\":[{\"marker\":{\"colorbar\":{\"outlinewidth\":0,\"ticks\":\"\"}},\"type\":\"scattergeo\"}],\"scattergl\":[{\"marker\":{\"colorbar\":{\"outlinewidth\":0,\"ticks\":\"\"}},\"type\":\"scattergl\"}],\"scattermapbox\":[{\"marker\":{\"colorbar\":{\"outlinewidth\":0,\"ticks\":\"\"}},\"type\":\"scattermapbox\"}],\"scatterpolar\":[{\"marker\":{\"colorbar\":{\"outlinewidth\":0,\"ticks\":\"\"}},\"type\":\"scatterpolar\"}],\"scatterpolargl\":[{\"marker\":{\"colorbar\":{\"outlinewidth\":0,\"ticks\":\"\"}},\"type\":\"scatterpolargl\"}],\"scatterternary\":[{\"marker\":{\"colorbar\":{\"outlinewidth\":0,\"ticks\":\"\"}},\"type\":\"scatterternary\"}],\"surface\":[{\"colorbar\":{\"outlinewidth\":0,\"ticks\":\"\"},\"colorscale\":[[0.0,\"#0d0887\"],[0.1111111111111111,\"#46039f\"],[0.2222222222222222,\"#7201a8\"],[0.3333333333333333,\"#9c179e\"],[0.4444444444444444,\"#bd3786\"],[0.5555555555555556,\"#d8576b\"],[0.6666666666666666,\"#ed7953\"],[0.7777777777777778,\"#fb9f3a\"],[0.8888888888888888,\"#fdca26\"],[1.0,\"#f0f921\"]],\"type\":\"surface\"}],\"table\":[{\"cells\":{\"fill\":{\"color\":\"#EBF0F8\"},\"line\":{\"color\":\"white\"}},\"header\":{\"fill\":{\"color\":\"#C8D4E3\"},\"line\":{\"color\":\"white\"}},\"type\":\"table\"}]},\"layout\":{\"annotationdefaults\":{\"arrowcolor\":\"#2a3f5f\",\"arrowhead\":0,\"arrowwidth\":1},\"autotypenumbers\":\"strict\",\"coloraxis\":{\"colorbar\":{\"outlinewidth\":0,\"ticks\":\"\"}},\"colorscale\":{\"diverging\":[[0,\"#8e0152\"],[0.1,\"#c51b7d\"],[0.2,\"#de77ae\"],[0.3,\"#f1b6da\"],[0.4,\"#fde0ef\"],[0.5,\"#f7f7f7\"],[0.6,\"#e6f5d0\"],[0.7,\"#b8e186\"],[0.8,\"#7fbc41\"],[0.9,\"#4d9221\"],[1,\"#276419\"]],\"sequential\":[[0.0,\"#0d0887\"],[0.1111111111111111,\"#46039f\"],[0.2222222222222222,\"#7201a8\"],[0.3333333333333333,\"#9c179e\"],[0.4444444444444444,\"#bd3786\"],[0.5555555555555556,\"#d8576b\"],[0.6666666666666666,\"#ed7953\"],[0.7777777777777778,\"#fb9f3a\"],[0.8888888888888888,\"#fdca26\"],[1.0,\"#f0f921\"]],\"sequentialminus\":[[0.0,\"#0d0887\"],[0.1111111111111111,\"#46039f\"],[0.2222222222222222,\"#7201a8\"],[0.3333333333333333,\"#9c179e\"],[0.4444444444444444,\"#bd3786\"],[0.5555555555555556,\"#d8576b\"],[0.6666666666666666,\"#ed7953\"],[0.7777777777777778,\"#fb9f3a\"],[0.8888888888888888,\"#fdca26\"],[1.0,\"#f0f921\"]]},\"colorway\":[\"#636efa\",\"#EF553B\",\"#00cc96\",\"#ab63fa\",\"#FFA15A\",\"#19d3f3\",\"#FF6692\",\"#B6E880\",\"#FF97FF\",\"#FECB52\"],\"font\":{\"color\":\"#2a3f5f\"},\"geo\":{\"bgcolor\":\"white\",\"lakecolor\":\"white\",\"landcolor\":\"#E5ECF6\",\"showlakes\":true,\"showland\":true,\"subunitcolor\":\"white\"},\"hoverlabel\":{\"align\":\"left\"},\"hovermode\":\"closest\",\"mapbox\":{\"style\":\"light\"},\"paper_bgcolor\":\"white\",\"plot_bgcolor\":\"#E5ECF6\",\"polar\":{\"angularaxis\":{\"gridcolor\":\"white\",\"linecolor\":\"white\",\"ticks\":\"\"},\"bgcolor\":\"#E5ECF6\",\"radialaxis\":{\"gridcolor\":\"white\",\"linecolor\":\"white\",\"ticks\":\"\"}},\"scene\":{\"xaxis\":{\"backgroundcolor\":\"#E5ECF6\",\"gridcolor\":\"white\",\"gridwidth\":2,\"linecolor\":\"white\",\"showbackground\":true,\"ticks\":\"\",\"zerolinecolor\":\"white\"},\"yaxis\":{\"backgroundcolor\":\"#E5ECF6\",\"gridcolor\":\"white\",\"gridwidth\":2,\"linecolor\":\"white\",\"showbackground\":true,\"ticks\":\"\",\"zerolinecolor\":\"white\"},\"zaxis\":{\"backgroundcolor\":\"#E5ECF6\",\"gridcolor\":\"white\",\"gridwidth\":2,\"linecolor\":\"white\",\"showbackground\":true,\"ticks\":\"\",\"zerolinecolor\":\"white\"}},\"shapedefaults\":{\"line\":{\"color\":\"#2a3f5f\"}},\"ternary\":{\"aaxis\":{\"gridcolor\":\"white\",\"linecolor\":\"white\",\"ticks\":\"\"},\"baxis\":{\"gridcolor\":\"white\",\"linecolor\":\"white\",\"ticks\":\"\"},\"bgcolor\":\"#E5ECF6\",\"caxis\":{\"gridcolor\":\"white\",\"linecolor\":\"white\",\"ticks\":\"\"}},\"title\":{\"x\":0.05},\"xaxis\":{\"automargin\":true,\"gridcolor\":\"white\",\"linecolor\":\"white\",\"ticks\":\"\",\"title\":{\"standoff\":15},\"zerolinecolor\":\"white\",\"zerolinewidth\":2},\"yaxis\":{\"automargin\":true,\"gridcolor\":\"white\",\"linecolor\":\"white\",\"ticks\":\"\",\"title\":{\"standoff\":15},\"zerolinecolor\":\"white\",\"zerolinewidth\":2}}},\"xaxis\":{\"anchor\":\"y\",\"domain\":[0.0,1.0],\"title\":{\"text\":\"Year\"}},\"yaxis\":{\"anchor\":\"x\",\"domain\":[0.0,1.0],\"title\":{\"text\":\"Total Generated(MWh)\"}},\"legend\":{\"title\":{\"text\":\"Producer\"},\"tracegroupgap\":0},\"title\":{\"text\":\"Total Renewable Energy Production Over time\"},\"shapes\":[{\"line\":{\"color\":\"#d62728\",\"dash\":\"dot\",\"width\":3},\"opacity\":1,\"type\":\"line\",\"x0\":0,\"x1\":1,\"xref\":\"paper\",\"y0\":99824051.75533333,\"y1\":99824051.75533333,\"yref\":\"y\"}]},                        {\"responsive\": true}                    ).then(function(){\n",
       "                            \n",
       "var gd = document.getElementById('e2b41fb9-62fd-4007-8f90-aaae8562e6ca');\n",
       "var x = new MutationObserver(function (mutations, observer) {{\n",
       "        var display = window.getComputedStyle(gd).display;\n",
       "        if (!display || display === 'none') {{\n",
       "            console.log([gd, 'removed!']);\n",
       "            Plotly.purge(gd);\n",
       "            observer.disconnect();\n",
       "        }}\n",
       "}});\n",
       "\n",
       "// Listen for the removal of the full notebook cells\n",
       "var notebookContainer = gd.closest('#notebook-container');\n",
       "if (notebookContainer) {{\n",
       "    x.observe(notebookContainer, {childList: true});\n",
       "}}\n",
       "\n",
       "// Listen for the clearing of the current output cell\n",
       "var outputEl = gd.closest('.output');\n",
       "if (outputEl) {{\n",
       "    x.observe(outputEl, {childList: true});\n",
       "}}\n",
       "\n",
       "                        })                };                });            </script>        </div>"
      ]
     },
     "metadata": {},
     "output_type": "display_data"
    }
   ],
   "source": [
    "from query_total_energy import query_data\n",
    "\n",
    "df = query_data()\n",
    "fig = px.line(df, x=\"Year\", y=\"Total Generated(MWh)\", color = 'Producer',  \n",
    "              title=\"Total Renewable Energy Production Over time\", markers=True)\n",
    "\n",
    "\n",
    "# adding a horizontal \"target\" line\n",
    "fig.add_shape(\n",
    "    type = \"line\", line_color = \"#d62728\", line_width = 3, opacity = 1, line_dash = \"dot\",\n",
    "    x0=0, x1=1, xref = \"paper\", y0 = 99824051.75533333, y1 = 99824051.75533333, yref = \"y\")\n",
    "\n",
    "#  # add a text for avg gen\n",
    "# fig.add_annotation(\n",
    "#     text = \"Average Generated\", x = 2002, y = 4.055194e+09, showarrow=False)\n",
    "\n",
    "# fig.add_annotation(\n",
    "#     text = \"Financial Crisis (2009)\", x = 2008.9, y = 3.945e+09, \n",
    "#     arrowhead = 1, ax = -50, ay = 50,\n",
    "#     showarrow = True, arrowcolor = '#ff7f0e')\n",
    "\n",
    "# fig.add_annotation(\n",
    "#     text = \"COVID-19 Pandemic (2020))\", x = 2019.9, y = 4.000e+09, \n",
    "#     arrowhead = 1, ax = -50, ay = 50,\n",
    "#     showarrow = True, arrowcolor = '#ff7f0e')\n",
    "\n",
    "fig.show()"
   ]
  },
  {
   "cell_type": "code",
   "execution_count": 11,
   "id": "f0a8987c",
   "metadata": {},
   "outputs": [
    {
     "name": "stdout",
     "output_type": "stream",
     "text": [
      "Overwriting test_total_energy.py\n"
     ]
    }
   ],
   "source": [
    "%%file test_total_energy.py\n",
    "\n",
    "from total_energy import import_data\n",
    "from transformed_total_energy import transform_data\n",
    "from query_total_energy import query_data\n",
    "\n",
    "def test_data_columns_count():\n",
    "    df = import_data()\n",
    "    assert len(df.columns) == 7\n",
    "\n",
    "def test_data_row_count():\n",
    "    df = import_data()\n",
    "    assert len(df.index) == 496774\n",
    "    \n",
    "def test_transform_data_columns_count():\n",
    "    df = transform_data()\n",
    "    assert len(df.columns) != 7\n",
    "\n",
    "def test_transform_data_row_count():\n",
    "    df = transform_data()\n",
    "    assert len(df.index) != 496774\n",
    "    \n",
    "def test_query_data_column_count():\n",
    "    df = query_data()\n",
    "    assert len(df.columns) == 3\n",
    "\n",
    "def test_query_data_row_count():\n",
    "    df = query_data()\n",
    "    assert len(df.index) == 105"
   ]
  },
  {
   "cell_type": "code",
   "execution_count": 12,
   "id": "e2694e78",
   "metadata": {},
   "outputs": [
    {
     "name": "stdout",
     "output_type": "stream",
     "text": [
      "\u001b[1m============================= test session starts ==============================\u001b[0m\n",
      "platform darwin -- Python 3.9.7, pytest-6.2.4, py-1.10.0, pluggy-0.13.1\n",
      "rootdir: /Users/slimykid/Group4_NFLX_MIDTERM/Adeh\n",
      "plugins: anyio-2.2.0\n",
      "collected 6 items                                                              \u001b[0m\u001b[1m\n",
      "\n",
      "test_total_energy.py \u001b[32m.\u001b[0m\u001b[32m.\u001b[0m\u001b[32m.\u001b[0m\u001b[32m.\u001b[0m\u001b[32m.\u001b[0m\u001b[32m.\u001b[0m\u001b[32m                                              [100%]\u001b[0m\n",
      "\n",
      "\u001b[32m============================== \u001b[32m\u001b[1m6 passed\u001b[0m\u001b[32m in 7.28s\u001b[0m\u001b[32m ===============================\u001b[0m\n"
     ]
    }
   ],
   "source": [
    "# Run the test_import_data.py file with pytest. \n",
    "!python -m pytest test_total_energy.py"
   ]
  },
  {
   "cell_type": "code",
   "execution_count": null,
   "id": "6f50fcdd",
   "metadata": {},
   "outputs": [],
   "source": []
  }
 ],
 "metadata": {
  "colab": {
   "include_colab_link": true,
   "provenance": []
  },
  "kernelspec": {
   "display_name": "Python 3 (ipykernel)",
   "language": "python",
   "name": "python3"
  },
  "language_info": {
   "codemirror_mode": {
    "name": "ipython",
    "version": 3
   },
   "file_extension": ".py",
   "mimetype": "text/x-python",
   "name": "python",
   "nbconvert_exporter": "python",
   "pygments_lexer": "ipython3",
   "version": "3.9.7"
  }
 },
 "nbformat": 4,
 "nbformat_minor": 5
}
