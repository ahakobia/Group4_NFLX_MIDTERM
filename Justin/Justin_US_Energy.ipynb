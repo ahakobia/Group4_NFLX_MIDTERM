{
 "cells": [
  {
   "cell_type": "code",
   "execution_count": 5,
   "id": "1e746bcd",
   "metadata": {},
   "outputs": [
    {
     "name": "stdout",
     "output_type": "stream",
     "text": [
      "Overwriting total_energy.py\n"
     ]
    }
   ],
   "source": [
    "%%file total_energy.py\n",
    "\n",
    "import pandas as pd\n",
    "\n",
    "def import_data():\n",
    "    csv_file = \"/Users/justinbaytosh/Desktop/coding/netflix/advanced/midterm-project/Justin/renewable_energy.csv\"\n",
    "    energy = pd.read_csv(csv_file)\n",
    "    return energy"
   ]
  },
  {
   "cell_type": "code",
   "execution_count": 9,
   "id": "f02eaa0f",
   "metadata": {},
   "outputs": [
    {
     "data": {
      "text/html": [
       "<div>\n",
       "<style scoped>\n",
       "    .dataframe tbody tr th:only-of-type {\n",
       "        vertical-align: middle;\n",
       "    }\n",
       "\n",
       "    .dataframe tbody tr th {\n",
       "        vertical-align: top;\n",
       "    }\n",
       "\n",
       "    .dataframe thead th {\n",
       "        text-align: right;\n",
       "    }\n",
       "</style>\n",
       "<table border=\"1\" class=\"dataframe\">\n",
       "  <thead>\n",
       "    <tr style=\"text-align: right;\">\n",
       "      <th></th>\n",
       "      <th>year</th>\n",
       "      <th>producer</th>\n",
       "      <th>total_generated</th>\n",
       "    </tr>\n",
       "  </thead>\n",
       "  <tbody>\n",
       "    <tr>\n",
       "      <th>0</th>\n",
       "      <td>2021</td>\n",
       "      <td>Total Electric Power Industry</td>\n",
       "      <td>1.642551e+09</td>\n",
       "    </tr>\n",
       "    <tr>\n",
       "      <th>1</th>\n",
       "      <td>2021</td>\n",
       "      <td>Electric Generators, Independent Power Producers</td>\n",
       "      <td>9.264412e+08</td>\n",
       "    </tr>\n",
       "    <tr>\n",
       "      <th>2</th>\n",
       "      <td>2021</td>\n",
       "      <td>Electric Generators, Electric Utilities</td>\n",
       "      <td>6.475375e+08</td>\n",
       "    </tr>\n",
       "    <tr>\n",
       "      <th>3</th>\n",
       "      <td>2021</td>\n",
       "      <td>Combined Heat and Power, Industrial Power</td>\n",
       "      <td>5.507450e+07</td>\n",
       "    </tr>\n",
       "    <tr>\n",
       "      <th>4</th>\n",
       "      <td>2021</td>\n",
       "      <td>Combined Heat and Power, Electric Power</td>\n",
       "      <td>6.108302e+06</td>\n",
       "    </tr>\n",
       "    <tr>\n",
       "      <th>...</th>\n",
       "      <td>...</td>\n",
       "      <td>...</td>\n",
       "      <td>...</td>\n",
       "    </tr>\n",
       "    <tr>\n",
       "      <th>61</th>\n",
       "      <td>2011</td>\n",
       "      <td>Electric Generators, Independent Power Producers</td>\n",
       "      <td>3.280136e+08</td>\n",
       "    </tr>\n",
       "    <tr>\n",
       "      <th>62</th>\n",
       "      <td>2011</td>\n",
       "      <td>Electric Generators, Electric Utilities</td>\n",
       "      <td>6.160953e+08</td>\n",
       "    </tr>\n",
       "    <tr>\n",
       "      <th>63</th>\n",
       "      <td>2011</td>\n",
       "      <td>Combined Heat and Power, Industrial Power</td>\n",
       "      <td>5.883540e+07</td>\n",
       "    </tr>\n",
       "    <tr>\n",
       "      <th>64</th>\n",
       "      <td>2011</td>\n",
       "      <td>Combined Heat and Power, Electric Power</td>\n",
       "      <td>7.009498e+06</td>\n",
       "    </tr>\n",
       "    <tr>\n",
       "      <th>65</th>\n",
       "      <td>2011</td>\n",
       "      <td>Combined Heat and Power, Commercial Power</td>\n",
       "      <td>5.003067e+06</td>\n",
       "    </tr>\n",
       "  </tbody>\n",
       "</table>\n",
       "<p>66 rows × 3 columns</p>\n",
       "</div>"
      ],
      "text/plain": [
       "    year                                          producer  total_generated\n",
       "0   2021                     Total Electric Power Industry     1.642551e+09\n",
       "1   2021  Electric Generators, Independent Power Producers     9.264412e+08\n",
       "2   2021           Electric Generators, Electric Utilities     6.475375e+08\n",
       "3   2021         Combined Heat and Power, Industrial Power     5.507450e+07\n",
       "4   2021           Combined Heat and Power, Electric Power     6.108302e+06\n",
       "..   ...                                               ...              ...\n",
       "61  2011  Electric Generators, Independent Power Producers     3.280136e+08\n",
       "62  2011           Electric Generators, Electric Utilities     6.160953e+08\n",
       "63  2011         Combined Heat and Power, Industrial Power     5.883540e+07\n",
       "64  2011           Combined Heat and Power, Electric Power     7.009498e+06\n",
       "65  2011         Combined Heat and Power, Commercial Power     5.003067e+06\n",
       "\n",
       "[66 rows x 3 columns]"
      ]
     },
     "execution_count": 9,
     "metadata": {},
     "output_type": "execute_result"
    }
   ],
   "source": [
    "from total_energy import import_data\n",
    "\n",
    "renewable_energy = import_data()\n",
    "renewable_energy"
   ]
  },
  {
   "cell_type": "code",
   "execution_count": 17,
   "id": "c0e53ffb",
   "metadata": {},
   "outputs": [
    {
     "name": "stdout",
     "output_type": "stream",
     "text": [
      "Total Electric Power Industry\n",
      "Electric Generators, Independent Power Producers\n",
      "Electric Generators, Electric Utilities\n",
      "Combined Heat and Power, Industrial Power\n",
      "Combined Heat and Power, Electric Power\n",
      "Combined Heat and Power, Commercial Power\n"
     ]
    }
   ],
   "source": [
    "# prints all energy producers (6 total)\n",
    "for producer in list(renewable_energy['producer'].unique()):\n",
    "    print(producer)"
   ]
  },
  {
   "cell_type": "code",
   "execution_count": 19,
   "id": "e1af3826",
   "metadata": {},
   "outputs": [
    {
     "data": {
      "text/plain": [
       "2011"
      ]
     },
     "execution_count": 19,
     "metadata": {},
     "output_type": "execute_result"
    }
   ],
   "source": [
    "# prints min year\n",
    "renewable_energy['year'].min()"
   ]
  },
  {
   "cell_type": "code",
   "execution_count": 21,
   "id": "8eb31d73",
   "metadata": {},
   "outputs": [
    {
     "data": {
      "text/plain": [
       "2021"
      ]
     },
     "execution_count": 21,
     "metadata": {},
     "output_type": "execute_result"
    }
   ],
   "source": [
    "# prints max year\n",
    "renewable_energy['year'].max()"
   ]
  }
 ],
 "metadata": {
  "kernelspec": {
   "display_name": "Python 3 (ipykernel)",
   "language": "python",
   "name": "python3"
  },
  "language_info": {
   "codemirror_mode": {
    "name": "ipython",
    "version": 3
   },
   "file_extension": ".py",
   "mimetype": "text/x-python",
   "name": "python",
   "nbconvert_exporter": "python",
   "pygments_lexer": "ipython3",
   "version": "3.9.10"
  }
 },
 "nbformat": 4,
 "nbformat_minor": 5
}
