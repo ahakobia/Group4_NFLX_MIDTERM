{
  "cells": [
    {
      "cell_type": "markdown",
      "metadata": {
        "id": "view-in-github",
        "colab_type": "text"
      },
      "source": [
        "<a href=\"https://colab.research.google.com/github/ahakobia/Group4_NFLX_MIDTERM/blob/main/Adehs_Pyspark_US_Energy.ipynb\" target=\"_parent\"><img src=\"https://colab.research.google.com/assets/colab-badge.svg\" alt=\"Open In Colab\"/></a>"
      ]
    },
    {
      "cell_type": "code",
      "execution_count": 1,
      "metadata": {
        "colab": {
          "base_uri": "https://localhost:8080/"
        },
        "id": "6f50fcdd",
        "outputId": "ee7b2022-4a94-4222-cf64-8d139eec1cb5"
      },
      "outputs": [
        {
          "output_type": "stream",
          "name": "stdout",
          "text": [
            "\r0% [Working]\r            \rHit:1 http://archive.ubuntu.com/ubuntu bionic InRelease\n",
            "\r0% [Waiting for headers] [Connecting to security.ubuntu.com (185.125.190.39)] [\r0% [1 InRelease gpgv 242 kB] [Waiting for headers] [Waiting for headers] [Conne\r                                                                               \rGet:2 http://archive.ubuntu.com/ubuntu bionic-updates InRelease [88.7 kB]\n",
            "\r0% [1 InRelease gpgv 242 kB] [2 InRelease 14.2 kB/88.7 kB 16%] [Waiting for hea\r                                                                               \rGet:3 https://cloud.r-project.org/bin/linux/ubuntu bionic-cran40/ InRelease [3,626 B]\n",
            "\r0% [1 InRelease gpgv 242 kB] [2 InRelease 15.6 kB/88.7 kB 18%] [Waiting for hea\r0% [1 InRelease gpgv 242 kB] [2 InRelease 15.6 kB/88.7 kB 18%] [Waiting for hea\r                                                                               \rGet:4 http://security.ubuntu.com/ubuntu bionic-security InRelease [88.7 kB]\n",
            "\r0% [1 InRelease gpgv 242 kB] [2 InRelease 60.5 kB/88.7 kB 68%] [4 InRelease 14.\r0% [1 InRelease gpgv 242 kB] [Waiting for headers] [4 InRelease 14.2 kB/88.7 kB\r                                                                               \rGet:5 http://ppa.launchpad.net/c2d4u.team/c2d4u4.0+/ubuntu bionic InRelease [15.9 kB]\n",
            "Get:6 http://archive.ubuntu.com/ubuntu bionic-backports InRelease [83.3 kB]\n",
            "Ign:7 https://developer.download.nvidia.com/compute/machine-learning/repos/ubuntu1804/x86_64  InRelease\n",
            "Get:8 https://developer.download.nvidia.com/compute/cuda/repos/ubuntu1804/x86_64  InRelease [1,581 B]\n",
            "Hit:9 https://developer.download.nvidia.com/compute/machine-learning/repos/ubuntu1804/x86_64  Release\n",
            "Hit:10 http://ppa.launchpad.net/cran/libgit2/ubuntu bionic InRelease\n",
            "Hit:11 http://ppa.launchpad.net/deadsnakes/ppa/ubuntu bionic InRelease\n",
            "Get:12 http://ppa.launchpad.net/graphics-drivers/ppa/ubuntu bionic InRelease [21.3 kB]\n",
            "Get:13 http://archive.ubuntu.com/ubuntu bionic-updates/universe amd64 Packages [2,323 kB]\n",
            "Get:14 http://archive.ubuntu.com/ubuntu bionic-updates/main amd64 Packages [3,422 kB]\n",
            "Get:15 https://developer.download.nvidia.com/compute/cuda/repos/ubuntu1804/x86_64  Packages [947 kB]\n",
            "Get:16 http://ppa.launchpad.net/c2d4u.team/c2d4u4.0+/ubuntu bionic/main Sources [2,162 kB]\n",
            "Get:18 http://security.ubuntu.com/ubuntu bionic-security/universe amd64 Packages [1,546 kB]\n",
            "Get:19 http://ppa.launchpad.net/c2d4u.team/c2d4u4.0+/ubuntu bionic/main amd64 Packages [1,108 kB]\n",
            "Get:20 http://security.ubuntu.com/ubuntu bionic-security/main amd64 Packages [2,990 kB]\n",
            "Get:21 http://ppa.launchpad.net/graphics-drivers/ppa/ubuntu bionic/main amd64 Packages [48.3 kB]\n",
            "Fetched 14.8 MB in 4s (3,933 kB/s)\n",
            "Reading package lists... Done\n"
          ]
        }
      ],
      "source": [
        "# Activate Spark in our Colab notebook.\n",
        "import os\n",
        "# Find the latest version of spark 3.0  from http://www.apache.org/dist/spark/ and enter as the spark version\n",
        "# For example: 'spark-3.2.2'\n",
        "spark_version = 'spark-3.2.2'\n",
        "# spark_version = 'spark-3.<enter version>'\n",
        "os.environ['SPARK_VERSION']=spark_version\n",
        "\n",
        "# Install Spark and Java\n",
        "!apt-get update\n",
        "!apt-get install openjdk-11-jdk-headless -qq > /dev/null\n",
        "!wget -q http://www.apache.org/dist/spark/$SPARK_VERSION/$SPARK_VERSION-bin-hadoop3.2.tgz\n",
        "!tar xf $SPARK_VERSION-bin-hadoop3.2.tgz\n",
        "!pip install -q findspark\n",
        "\n",
        "# Set Environment Variables\n",
        "os.environ[\"JAVA_HOME\"] = \"/usr/lib/jvm/java-11-openjdk-amd64\"\n",
        "os.environ[\"SPARK_HOME\"] = f\"/content/{spark_version}-bin-hadoop3.2\""
      ],
      "id": "6f50fcdd"
    },
    {
      "cell_type": "code",
      "execution_count": 4,
      "metadata": {
        "id": "9dqv3W_wwtZh"
      },
      "outputs": [],
      "source": [
        "# Install pytest and pytest-sugar to make our output look nice.\n",
        "!pip install -q pytest pytest-sugar"
      ],
      "id": "9dqv3W_wwtZh"
    },
    {
      "cell_type": "code",
      "execution_count": 3,
      "metadata": {
        "colab": {
          "base_uri": "https://localhost:8080/",
          "height": 54
        },
        "id": "lFHbSdrwwvih",
        "outputId": "525f59fd-ce4f-46b6-c5b9-b9db0799741d"
      },
      "outputs": [
        {
          "output_type": "stream",
          "name": "stdout",
          "text": [
            "/content/tests\n"
          ]
        },
        {
          "output_type": "execute_result",
          "data": {
            "text/plain": [
              "'/content/tests'"
            ],
            "application/vnd.google.colaboratory.intrinsic+json": {
              "type": "string"
            }
          },
          "metadata": {},
          "execution_count": 3
        }
      ],
      "source": [
        "# Create and navigate to the tdd directory.\n",
        "from pathlib import Path\n",
        "if Path.cwd().name != 'tests':\n",
        "    %mkdir tests\n",
        "    %cd tests\n",
        "# Show the current working directory.  \n",
        "%pwd"
      ],
      "id": "lFHbSdrwwvih"
    },
    {
      "cell_type": "code",
      "execution_count": 5,
      "metadata": {
        "colab": {
          "base_uri": "https://localhost:8080/"
        },
        "id": "zqP8DmQvxBPy",
        "outputId": "724c5fbc-3642-410a-83d1-8b45125ad806"
      },
      "outputs": [
        {
          "output_type": "stream",
          "name": "stdout",
          "text": [
            "Writing __init__.py\n"
          ]
        }
      ],
      "source": [
        "# Initialize the __init__.py file. \n",
        "# This file will be stored in our pwd (/content/tests)\n",
        "%%file __init__.py\n",
        "pass"
      ],
      "id": "zqP8DmQvxBPy"
    },
    {
      "cell_type": "code",
      "source": [
        "from google.colab import drive\n",
        "drive.mount('/content/drive')"
      ],
      "metadata": {
        "colab": {
          "base_uri": "https://localhost:8080/"
        },
        "id": "CpAkBbTcxsSw",
        "outputId": "45e78c1c-9d03-4922-9dc4-8f7e426d408d"
      },
      "id": "CpAkBbTcxsSw",
      "execution_count": 7,
      "outputs": [
        {
          "output_type": "stream",
          "name": "stdout",
          "text": [
            "Mounted at /content/drive\n"
          ]
        }
      ]
    },
    {
      "cell_type": "code",
      "execution_count": 10,
      "metadata": {
        "id": "AIt3SGUa8r_Y",
        "colab": {
          "base_uri": "https://localhost:8080/"
        },
        "outputId": "64463d3e-13db-4a72-9318-d8b95c8678dc"
      },
      "outputs": [
        {
          "output_type": "stream",
          "name": "stdout",
          "text": [
            "--- 0.27674174308776855 seconds ---\n"
          ]
        }
      ],
      "source": [
        "import findspark\n",
        "findspark.init()\n",
        "\n",
        "# Import other dependencies. \n",
        "from pyspark import SparkFiles\n",
        "from pyspark.sql import SparkSession\n",
        "\n",
        "import time\n",
        "\n",
        "spark = SparkSession \\\n",
        "    .builder \\\n",
        "    .appName(\"energy file read in\") \\\n",
        "    .getOrCreate()\n",
        "energy = spark.read.csv('../drive/MyDrive/organised_Gen.csv', header = True, inferSchema = True)\n",
        "energy = energy.withColumnRenamed('TYPE OF PRODUCER', 'producer')\n",
        "energy = energy.withColumnRenamed('ENERGY SOURCE', 'source')\n",
        "energy = energy.withColumnRenamed('GENERATION (Megawatthours)', 'generated')\n",
        "energy.createOrReplaceTempView('energy_data')\n",
        "energy.write.parquet('parquet_energy',mode='overwrite')\n",
        "p_energy = spark.read.parquet('parquet_energy')\n",
        "p_energy.createOrReplaceTempView('p_energy_data')\n",
        "\n",
        "start_time = time.time()\n",
        "transformed_df = spark.sql(\"\"\"\n",
        "    SELECT\n",
        "        YEAR as year,\n",
        "        MONTH as month,\n",
        "        STATE as state, producer, source, generated\n",
        "        FROM p_energy_data\n",
        "        WHERE producer == 'Total Electric Power Industry' AND source == 'Total' AND state == 'US-TOTAL'\n",
        "        \"\"\")\n",
        "transformed_df\n",
        "\n",
        "q_df = spark.sql(\"\"\"SELECT year, (SUM(generated)/1000000) as Total_gen_millions\n",
        "            FROM p_energy_data \n",
        "            WHERE producer = 'Total Electric Power Industry' \n",
        "                AND source = 'Total' \n",
        "                AND state = 'US-TOTAL'\n",
        "                AND YEAR != 2022\n",
        "            Group By YEAR, State\n",
        "            Order By YEAR DESC\n",
        "                \"\"\")\n",
        "q_df\n",
        "\n",
        "print(\"--- %s seconds ---\" % (time.time() - start_time))\n",
        "\n"
      ],
      "id": "AIt3SGUa8r_Y"
    },
    {
      "cell_type": "code",
      "source": [
        "energy.count()"
      ],
      "metadata": {
        "colab": {
          "base_uri": "https://localhost:8080/"
        },
        "id": "TVqOVwgHvjVQ",
        "outputId": "3c9e60dd-3110-45ef-e088-7bf37fc91728"
      },
      "id": "TVqOVwgHvjVQ",
      "execution_count": 11,
      "outputs": [
        {
          "output_type": "execute_result",
          "data": {
            "text/plain": [
              "496774"
            ]
          },
          "metadata": {},
          "execution_count": 11
        }
      ]
    },
    {
      "cell_type": "code",
      "execution_count": 13,
      "metadata": {
        "colab": {
          "base_uri": "https://localhost:8080/"
        },
        "id": "6-cuCOSFxDyM",
        "outputId": "8cb53945-eba6-4a40-f409-173cb6f98b93"
      },
      "outputs": [
        {
          "output_type": "stream",
          "name": "stdout",
          "text": [
            "Overwriting total_energy.py\n"
          ]
        }
      ],
      "source": [
        "# Create a bank_data.py file and write the function to it. \n",
        "# This file will be stored in our pwd (/content/tests).\n",
        "%%file total_energy.py\n",
        "\n",
        "# Import findspark() and initialize. \n",
        "import findspark\n",
        "findspark.init()\n",
        "\n",
        "# Import other dependencies. \n",
        "from pyspark import SparkFiles\n",
        "from pyspark.sql import SparkSession\n",
        "spark = SparkSession.builder.appName(\"sparkEnergyData\").getOrCreate()\n",
        "\n",
        "# Create the import_data function. \n",
        "def import_data():\n",
        "    spark = SparkSession \\\n",
        "    .builder \\\n",
        "    .appName(\"energy file read in\") \\\n",
        "    .getOrCreate()\n",
        "    energy = spark.read.csv('../drive/MyDrive/organised_Gen.csv', header = True, inferSchema = True)\n",
        "    energy = energy.withColumnRenamed('TYPE OF PRODUCER', 'producer')\n",
        "    energy = energy.withColumnRenamed('ENERGY SOURCE', 'source')\n",
        "    energy = energy.withColumnRenamed('GENERATION (Megawatthours)', 'generated')\n",
        "    energy.createOrReplaceTempView('energy_data')\n",
        "    energy.write.parquet('parquet_energy',mode='overwrite')\n",
        "    p_energy = spark.read.parquet('parquet_energy')\n",
        "    p_energy.createOrReplaceTempView('p_energy_data')\n",
        "    return p_energy\n",
        "\n",
        "def transform_data():\n",
        "    transformed_df = spark.sql(\"\"\"\n",
        "          SELECT\n",
        "              YEAR as year,\n",
        "              MONTH as month,\n",
        "              STATE as state, producer, source, generated\n",
        "              FROM p_energy_data\n",
        "              WHERE producer == 'Total Electric Power Industry' \n",
        "              AND source == 'Total' AND state == 'US-TOTAL'\n",
        "              \"\"\")\n",
        "    return transformed_df\n",
        "\n",
        "def query_data():\n",
        "  \n",
        "    q_df = spark.sql(\"\"\"SELECT YEAR, (SUM(generated)/1000000)\n",
        "            FROM energy_data \n",
        "            WHERE producer = 'Total Electric Power Industry' \n",
        "                AND source = 'Total' \n",
        "                AND state = 'US-TOTAL'\n",
        "                AND YEAR != 2022\n",
        "            Group By YEAR, State\n",
        "            Order By YEAR DESC\n",
        "                \"\"\")\n",
        "    return q_df\n"
      ],
      "id": "6-cuCOSFxDyM"
    },
    {
      "cell_type": "code",
      "execution_count": 14,
      "metadata": {
        "colab": {
          "base_uri": "https://localhost:8080/"
        },
        "id": "RpK75RP5xMQV",
        "outputId": "c6ec60b5-f808-404b-c6ad-b082f9fd6fda"
      },
      "outputs": [
        {
          "output_type": "stream",
          "name": "stdout",
          "text": [
            "Writing test_total_energy.py\n"
          ]
        }
      ],
      "source": [
        "# Create a test_bank_data.py file and write the test functions to it. \n",
        "# This file will be stored in our pwd (/content/tests).\n",
        "%%file test_total_energy.py\n",
        "\n",
        "from total_energy import (import_data, transform_data, query_data)\n",
        "\n",
        "# Write the tests. \n",
        "def test_row_count_before_transform():\n",
        "  df = import_data()\n",
        "  assert df.count() == 496774\n",
        "\n",
        "def test_column_count_before_transform():\n",
        "  df = import_data()\n",
        "  assert len(df.columns) == 7\n",
        "\n",
        "def test_row_count_after_transform():\n",
        "    df = transform_data()\n",
        "    assert df.count() != 496774\n",
        "\n",
        "def test_column_count_after_transform():\n",
        "    df = transform_data()\n",
        "    assert len(df.columns) != 7\n",
        "\n",
        "def test_row_count_query():\n",
        "    df = query_data()\n",
        "    assert df.count() == 21\n",
        "\n",
        "def test_column_count_query():\n",
        "    df = query_data()\n",
        "    assert len(df.columns) == 2\n"
      ],
      "id": "RpK75RP5xMQV"
    },
    {
      "cell_type": "code",
      "execution_count": 15,
      "metadata": {
        "colab": {
          "base_uri": "https://localhost:8080/"
        },
        "id": "SX7Z2IM9xNAN",
        "outputId": "3f82ac26-b021-461d-c292-1bfc264b10e4"
      },
      "outputs": [
        {
          "output_type": "stream",
          "name": "stdout",
          "text": [
            "\u001b[1mTest session starts (platform: linux, Python 3.7.14, pytest 3.6.4, pytest-sugar 0.9.5)\u001b[0m\n",
            "rootdir: /content/tests, inifile:\n",
            "plugins: typeguard-2.7.1, sugar-0.9.5\n",
            "\n",
            " \u001b[36m\u001b[0mtest_total_energy.py\u001b[0m \u001b[32m✓\u001b[0m\u001b[32m✓\u001b[0m\u001b[32m✓\u001b[0m\u001b[32m✓\u001b[0m\u001b[32m✓\u001b[0m\u001b[32m✓\u001b[0m                                     \u001b[32m100% \u001b[0m\u001b[40m\u001b[32m█\u001b[0m\u001b[40m\u001b[32m█\u001b[0m\u001b[40m\u001b[32m█\u001b[0m\u001b[40m\u001b[32m█\u001b[0m\u001b[40m\u001b[32m█\u001b[0m\u001b[40m\u001b[32m█\u001b[0m\u001b[40m\u001b[32m█\u001b[0m\u001b[40m\u001b[32m█\u001b[0m\u001b[40m\u001b[32m█\u001b[0m\u001b[40m\u001b[32m█\u001b[0m\n",
            "\n",
            "Results (33.94s):\n",
            "\u001b[32m       6 passed\u001b[0m\n"
          ]
        }
      ],
      "source": [
        "# Run the test_import_data.py file with pytest. \n",
        "!python -m pytest test_total_energy.py"
      ],
      "id": "SX7Z2IM9xNAN"
    },
    {
      "cell_type": "code",
      "execution_count": null,
      "metadata": {
        "id": "V11Ep4Yd2v6t"
      },
      "outputs": [],
      "source": [],
      "id": "V11Ep4Yd2v6t"
    }
  ],
  "metadata": {
    "colab": {
      "collapsed_sections": [],
      "provenance": [],
      "include_colab_link": true
    },
    "kernelspec": {
      "display_name": "Python 3 (ipykernel)",
      "language": "python",
      "name": "python3"
    },
    "language_info": {
      "codemirror_mode": {
        "name": "ipython",
        "version": 3
      },
      "file_extension": ".py",
      "mimetype": "text/x-python",
      "name": "python",
      "nbconvert_exporter": "python",
      "pygments_lexer": "ipython3",
      "version": "3.9.7"
    }
  },
  "nbformat": 4,
  "nbformat_minor": 5
}