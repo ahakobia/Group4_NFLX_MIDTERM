{
 "cells": [
  {
   "cell_type": "markdown",
   "id": "6f7abfa2",
   "metadata": {},
   "source": [
    "# Importing"
   ]
  },
  {
   "cell_type": "code",
   "execution_count": 1,
   "id": "6d6f5da6",
   "metadata": {},
   "outputs": [
    {
     "name": "stdout",
     "output_type": "stream",
     "text": [
      "Overwriting total_states_energy.py\n"
     ]
    }
   ],
   "source": [
    "%%file total_states_energy.py\n",
    "\n",
    "import pandas as pd\n",
    "\n",
    "def import_data():\n",
    "    csv_file = \"../Resources/organised_Gen.csv\"\n",
    "    energy = pd.read_csv(csv_file)\n",
    "    return energy"
   ]
  },
  {
   "cell_type": "code",
   "execution_count": 2,
   "id": "25f06c2c",
   "metadata": {},
   "outputs": [
    {
     "data": {
      "text/html": [
       "<div>\n",
       "<style scoped>\n",
       "    .dataframe tbody tr th:only-of-type {\n",
       "        vertical-align: middle;\n",
       "    }\n",
       "\n",
       "    .dataframe tbody tr th {\n",
       "        vertical-align: top;\n",
       "    }\n",
       "\n",
       "    .dataframe thead th {\n",
       "        text-align: right;\n",
       "    }\n",
       "</style>\n",
       "<table border=\"1\" class=\"dataframe\">\n",
       "  <thead>\n",
       "    <tr style=\"text-align: right;\">\n",
       "      <th></th>\n",
       "      <th>Unnamed: 0</th>\n",
       "      <th>YEAR</th>\n",
       "      <th>MONTH</th>\n",
       "      <th>STATE</th>\n",
       "      <th>TYPE OF PRODUCER</th>\n",
       "      <th>ENERGY SOURCE</th>\n",
       "      <th>GENERATION (Megawatthours)</th>\n",
       "    </tr>\n",
       "  </thead>\n",
       "  <tbody>\n",
       "    <tr>\n",
       "      <th>0</th>\n",
       "      <td>0</td>\n",
       "      <td>2001</td>\n",
       "      <td>1</td>\n",
       "      <td>AK</td>\n",
       "      <td>Total Electric Power Industry</td>\n",
       "      <td>Coal</td>\n",
       "      <td>46903.0</td>\n",
       "    </tr>\n",
       "    <tr>\n",
       "      <th>1</th>\n",
       "      <td>1</td>\n",
       "      <td>2001</td>\n",
       "      <td>1</td>\n",
       "      <td>AK</td>\n",
       "      <td>Total Electric Power Industry</td>\n",
       "      <td>Petroleum</td>\n",
       "      <td>71085.0</td>\n",
       "    </tr>\n",
       "    <tr>\n",
       "      <th>2</th>\n",
       "      <td>2</td>\n",
       "      <td>2001</td>\n",
       "      <td>1</td>\n",
       "      <td>AK</td>\n",
       "      <td>Total Electric Power Industry</td>\n",
       "      <td>Natural Gas</td>\n",
       "      <td>367521.0</td>\n",
       "    </tr>\n",
       "    <tr>\n",
       "      <th>3</th>\n",
       "      <td>3</td>\n",
       "      <td>2001</td>\n",
       "      <td>1</td>\n",
       "      <td>AK</td>\n",
       "      <td>Total Electric Power Industry</td>\n",
       "      <td>Hydroelectric Conventional</td>\n",
       "      <td>104549.0</td>\n",
       "    </tr>\n",
       "    <tr>\n",
       "      <th>4</th>\n",
       "      <td>4</td>\n",
       "      <td>2001</td>\n",
       "      <td>1</td>\n",
       "      <td>AK</td>\n",
       "      <td>Total Electric Power Industry</td>\n",
       "      <td>Wind</td>\n",
       "      <td>87.0</td>\n",
       "    </tr>\n",
       "    <tr>\n",
       "      <th>...</th>\n",
       "      <td>...</td>\n",
       "      <td>...</td>\n",
       "      <td>...</td>\n",
       "      <td>...</td>\n",
       "      <td>...</td>\n",
       "      <td>...</td>\n",
       "      <td>...</td>\n",
       "    </tr>\n",
       "    <tr>\n",
       "      <th>496769</th>\n",
       "      <td>10581</td>\n",
       "      <td>2022</td>\n",
       "      <td>5</td>\n",
       "      <td>WY</td>\n",
       "      <td>Electric Generators, Electric Utilities</td>\n",
       "      <td>Coal</td>\n",
       "      <td>2071403.0</td>\n",
       "    </tr>\n",
       "    <tr>\n",
       "      <th>496770</th>\n",
       "      <td>10582</td>\n",
       "      <td>2022</td>\n",
       "      <td>5</td>\n",
       "      <td>WY</td>\n",
       "      <td>Electric Generators, Electric Utilities</td>\n",
       "      <td>Hydroelectric Conventional</td>\n",
       "      <td>96790.0</td>\n",
       "    </tr>\n",
       "    <tr>\n",
       "      <th>496771</th>\n",
       "      <td>10583</td>\n",
       "      <td>2022</td>\n",
       "      <td>5</td>\n",
       "      <td>WY</td>\n",
       "      <td>Electric Generators, Electric Utilities</td>\n",
       "      <td>Natural Gas</td>\n",
       "      <td>91570.0</td>\n",
       "    </tr>\n",
       "    <tr>\n",
       "      <th>496772</th>\n",
       "      <td>10584</td>\n",
       "      <td>2022</td>\n",
       "      <td>5</td>\n",
       "      <td>WY</td>\n",
       "      <td>Electric Generators, Electric Utilities</td>\n",
       "      <td>Petroleum</td>\n",
       "      <td>1812.0</td>\n",
       "    </tr>\n",
       "    <tr>\n",
       "      <th>496773</th>\n",
       "      <td>10585</td>\n",
       "      <td>2022</td>\n",
       "      <td>5</td>\n",
       "      <td>WY</td>\n",
       "      <td>Electric Generators, Electric Utilities</td>\n",
       "      <td>Wind</td>\n",
       "      <td>452913.0</td>\n",
       "    </tr>\n",
       "  </tbody>\n",
       "</table>\n",
       "<p>496774 rows × 7 columns</p>\n",
       "</div>"
      ],
      "text/plain": [
       "        Unnamed: 0  YEAR  MONTH STATE  \\\n",
       "0                0  2001      1    AK   \n",
       "1                1  2001      1    AK   \n",
       "2                2  2001      1    AK   \n",
       "3                3  2001      1    AK   \n",
       "4                4  2001      1    AK   \n",
       "...            ...   ...    ...   ...   \n",
       "496769       10581  2022      5    WY   \n",
       "496770       10582  2022      5    WY   \n",
       "496771       10583  2022      5    WY   \n",
       "496772       10584  2022      5    WY   \n",
       "496773       10585  2022      5    WY   \n",
       "\n",
       "                               TYPE OF PRODUCER               ENERGY SOURCE  \\\n",
       "0                 Total Electric Power Industry                        Coal   \n",
       "1                 Total Electric Power Industry                   Petroleum   \n",
       "2                 Total Electric Power Industry                 Natural Gas   \n",
       "3                 Total Electric Power Industry  Hydroelectric Conventional   \n",
       "4                 Total Electric Power Industry                        Wind   \n",
       "...                                         ...                         ...   \n",
       "496769  Electric Generators, Electric Utilities                        Coal   \n",
       "496770  Electric Generators, Electric Utilities  Hydroelectric Conventional   \n",
       "496771  Electric Generators, Electric Utilities                 Natural Gas   \n",
       "496772  Electric Generators, Electric Utilities                   Petroleum   \n",
       "496773  Electric Generators, Electric Utilities                        Wind   \n",
       "\n",
       "        GENERATION (Megawatthours)  \n",
       "0                          46903.0  \n",
       "1                          71085.0  \n",
       "2                         367521.0  \n",
       "3                         104549.0  \n",
       "4                             87.0  \n",
       "...                            ...  \n",
       "496769                   2071403.0  \n",
       "496770                     96790.0  \n",
       "496771                     91570.0  \n",
       "496772                      1812.0  \n",
       "496773                    452913.0  \n",
       "\n",
       "[496774 rows x 7 columns]"
      ]
     },
     "execution_count": 2,
     "metadata": {},
     "output_type": "execute_result"
    }
   ],
   "source": [
    "from total_states_energy import import_data\n",
    "\n",
    "x = import_data()\n",
    "x"
   ]
  },
  {
   "cell_type": "markdown",
   "id": "7314e29e",
   "metadata": {},
   "source": [
    "# Transforming"
   ]
  },
  {
   "cell_type": "code",
   "execution_count": 3,
   "id": "fe82ac70",
   "metadata": {},
   "outputs": [
    {
     "name": "stdout",
     "output_type": "stream",
     "text": [
      "Overwriting tran_total_states_energy.py\n"
     ]
    }
   ],
   "source": [
    "%%file tran_total_states_energy.py\n",
    "\n",
    "from total_states_energy import import_data\n",
    "\n",
    "import pandas as pd\n",
    "\n",
    "def transform_data():\n",
    "    tf_energy_data = import_data().drop(columns=['Unnamed: 0'])\n",
    "    \n",
    "    tf_energy_data = tf_energy_data.rename(columns={\n",
    "    \"YEAR\": \"year\", \n",
    "    \"MONTH\": \"month\",\n",
    "    \"STATE\": \"state\",\n",
    "    \"TYPE OF PRODUCER\": \"producer\",\n",
    "    \"ENERGY SOURCE\": \"source\",\n",
    "    \"GENERATION (Megawatthours)\": \"generated\"})\n",
    "\n",
    "\n",
    "    tf_energy_data['producer'] = tf_energy_data['producer'].apply(lambda x: x.replace(',','/'))\n",
    "    tf_energy_data = tf_energy_data[tf_energy_data.state != 'US-TOTAL']\n",
    "    tf_energy_data = tf_energy_data[tf_energy_data.producer != 'Total Electric Power Industry']\n",
    "    tf_energy_data = tf_energy_data[tf_energy_data.source != 'Total']\n",
    "    \n",
    "    tf_energy_data = tf_energy_data.reset_index(drop = True)\n",
    "\n",
    "    first_column = range(0, len(tf_energy_data) )\n",
    "    tf_energy_data.insert(0, 'IDs', first_column)\n",
    "    return tf_energy_data\n"
   ]
  },
  {
   "cell_type": "code",
   "execution_count": 4,
   "id": "73164100",
   "metadata": {},
   "outputs": [
    {
     "data": {
      "text/html": [
       "<div>\n",
       "<style scoped>\n",
       "    .dataframe tbody tr th:only-of-type {\n",
       "        vertical-align: middle;\n",
       "    }\n",
       "\n",
       "    .dataframe tbody tr th {\n",
       "        vertical-align: top;\n",
       "    }\n",
       "\n",
       "    .dataframe thead th {\n",
       "        text-align: right;\n",
       "    }\n",
       "</style>\n",
       "<table border=\"1\" class=\"dataframe\">\n",
       "  <thead>\n",
       "    <tr style=\"text-align: right;\">\n",
       "      <th></th>\n",
       "      <th>IDs</th>\n",
       "      <th>year</th>\n",
       "      <th>month</th>\n",
       "      <th>state</th>\n",
       "      <th>producer</th>\n",
       "      <th>source</th>\n",
       "      <th>generated</th>\n",
       "    </tr>\n",
       "  </thead>\n",
       "  <tbody>\n",
       "    <tr>\n",
       "      <th>0</th>\n",
       "      <td>0</td>\n",
       "      <td>2001</td>\n",
       "      <td>1</td>\n",
       "      <td>AK</td>\n",
       "      <td>Electric Generators/ Electric Utilities</td>\n",
       "      <td>Coal</td>\n",
       "      <td>18410.0</td>\n",
       "    </tr>\n",
       "    <tr>\n",
       "      <th>1</th>\n",
       "      <td>1</td>\n",
       "      <td>2001</td>\n",
       "      <td>1</td>\n",
       "      <td>AK</td>\n",
       "      <td>Electric Generators/ Electric Utilities</td>\n",
       "      <td>Petroleum</td>\n",
       "      <td>64883.0</td>\n",
       "    </tr>\n",
       "    <tr>\n",
       "      <th>2</th>\n",
       "      <td>2</td>\n",
       "      <td>2001</td>\n",
       "      <td>1</td>\n",
       "      <td>AK</td>\n",
       "      <td>Electric Generators/ Electric Utilities</td>\n",
       "      <td>Natural Gas</td>\n",
       "      <td>305277.0</td>\n",
       "    </tr>\n",
       "    <tr>\n",
       "      <th>3</th>\n",
       "      <td>3</td>\n",
       "      <td>2001</td>\n",
       "      <td>1</td>\n",
       "      <td>AK</td>\n",
       "      <td>Electric Generators/ Electric Utilities</td>\n",
       "      <td>Hydroelectric Conventional</td>\n",
       "      <td>104549.0</td>\n",
       "    </tr>\n",
       "    <tr>\n",
       "      <th>4</th>\n",
       "      <td>4</td>\n",
       "      <td>2001</td>\n",
       "      <td>1</td>\n",
       "      <td>AK</td>\n",
       "      <td>Electric Generators/ Electric Utilities</td>\n",
       "      <td>Wind</td>\n",
       "      <td>87.0</td>\n",
       "    </tr>\n",
       "    <tr>\n",
       "      <th>...</th>\n",
       "      <td>...</td>\n",
       "      <td>...</td>\n",
       "      <td>...</td>\n",
       "      <td>...</td>\n",
       "      <td>...</td>\n",
       "      <td>...</td>\n",
       "      <td>...</td>\n",
       "    </tr>\n",
       "    <tr>\n",
       "      <th>288886</th>\n",
       "      <td>288886</td>\n",
       "      <td>2022</td>\n",
       "      <td>5</td>\n",
       "      <td>WY</td>\n",
       "      <td>Electric Generators/ Electric Utilities</td>\n",
       "      <td>Coal</td>\n",
       "      <td>2071403.0</td>\n",
       "    </tr>\n",
       "    <tr>\n",
       "      <th>288887</th>\n",
       "      <td>288887</td>\n",
       "      <td>2022</td>\n",
       "      <td>5</td>\n",
       "      <td>WY</td>\n",
       "      <td>Electric Generators/ Electric Utilities</td>\n",
       "      <td>Hydroelectric Conventional</td>\n",
       "      <td>96790.0</td>\n",
       "    </tr>\n",
       "    <tr>\n",
       "      <th>288888</th>\n",
       "      <td>288888</td>\n",
       "      <td>2022</td>\n",
       "      <td>5</td>\n",
       "      <td>WY</td>\n",
       "      <td>Electric Generators/ Electric Utilities</td>\n",
       "      <td>Natural Gas</td>\n",
       "      <td>91570.0</td>\n",
       "    </tr>\n",
       "    <tr>\n",
       "      <th>288889</th>\n",
       "      <td>288889</td>\n",
       "      <td>2022</td>\n",
       "      <td>5</td>\n",
       "      <td>WY</td>\n",
       "      <td>Electric Generators/ Electric Utilities</td>\n",
       "      <td>Petroleum</td>\n",
       "      <td>1812.0</td>\n",
       "    </tr>\n",
       "    <tr>\n",
       "      <th>288890</th>\n",
       "      <td>288890</td>\n",
       "      <td>2022</td>\n",
       "      <td>5</td>\n",
       "      <td>WY</td>\n",
       "      <td>Electric Generators/ Electric Utilities</td>\n",
       "      <td>Wind</td>\n",
       "      <td>452913.0</td>\n",
       "    </tr>\n",
       "  </tbody>\n",
       "</table>\n",
       "<p>288891 rows × 7 columns</p>\n",
       "</div>"
      ],
      "text/plain": [
       "           IDs  year  month state                                 producer  \\\n",
       "0            0  2001      1    AK  Electric Generators/ Electric Utilities   \n",
       "1            1  2001      1    AK  Electric Generators/ Electric Utilities   \n",
       "2            2  2001      1    AK  Electric Generators/ Electric Utilities   \n",
       "3            3  2001      1    AK  Electric Generators/ Electric Utilities   \n",
       "4            4  2001      1    AK  Electric Generators/ Electric Utilities   \n",
       "...        ...   ...    ...   ...                                      ...   \n",
       "288886  288886  2022      5    WY  Electric Generators/ Electric Utilities   \n",
       "288887  288887  2022      5    WY  Electric Generators/ Electric Utilities   \n",
       "288888  288888  2022      5    WY  Electric Generators/ Electric Utilities   \n",
       "288889  288889  2022      5    WY  Electric Generators/ Electric Utilities   \n",
       "288890  288890  2022      5    WY  Electric Generators/ Electric Utilities   \n",
       "\n",
       "                            source  generated  \n",
       "0                             Coal    18410.0  \n",
       "1                        Petroleum    64883.0  \n",
       "2                      Natural Gas   305277.0  \n",
       "3       Hydroelectric Conventional   104549.0  \n",
       "4                             Wind       87.0  \n",
       "...                            ...        ...  \n",
       "288886                        Coal  2071403.0  \n",
       "288887  Hydroelectric Conventional    96790.0  \n",
       "288888                 Natural Gas    91570.0  \n",
       "288889                   Petroleum     1812.0  \n",
       "288890                        Wind   452913.0  \n",
       "\n",
       "[288891 rows x 7 columns]"
      ]
     },
     "execution_count": 4,
     "metadata": {},
     "output_type": "execute_result"
    }
   ],
   "source": [
    "from tran_total_states_energy import transform_data\n",
    "transform_data()"
   ]
  },
  {
   "cell_type": "code",
   "execution_count": 5,
   "id": "40f714e6",
   "metadata": {},
   "outputs": [
    {
     "name": "stdout",
     "output_type": "stream",
     "text": [
      "Query execution time: 0.7661655079999994s\n"
     ]
    },
    {
     "data": {
      "text/html": [
       "<div>\n",
       "<style scoped>\n",
       "    .dataframe tbody tr th:only-of-type {\n",
       "        vertical-align: middle;\n",
       "    }\n",
       "\n",
       "    .dataframe tbody tr th {\n",
       "        vertical-align: top;\n",
       "    }\n",
       "\n",
       "    .dataframe thead th {\n",
       "        text-align: right;\n",
       "    }\n",
       "</style>\n",
       "<table border=\"1\" class=\"dataframe\">\n",
       "  <thead>\n",
       "    <tr style=\"text-align: right;\">\n",
       "      <th></th>\n",
       "      <th>IDs</th>\n",
       "      <th>year</th>\n",
       "      <th>month</th>\n",
       "      <th>state</th>\n",
       "      <th>producer</th>\n",
       "      <th>source</th>\n",
       "      <th>generated</th>\n",
       "    </tr>\n",
       "  </thead>\n",
       "  <tbody>\n",
       "    <tr>\n",
       "      <th>0</th>\n",
       "      <td>0</td>\n",
       "      <td>2001</td>\n",
       "      <td>1</td>\n",
       "      <td>AK</td>\n",
       "      <td>Electric Generators/ Electric Utilities</td>\n",
       "      <td>Coal</td>\n",
       "      <td>18410.0</td>\n",
       "    </tr>\n",
       "    <tr>\n",
       "      <th>1</th>\n",
       "      <td>1</td>\n",
       "      <td>2001</td>\n",
       "      <td>1</td>\n",
       "      <td>AK</td>\n",
       "      <td>Electric Generators/ Electric Utilities</td>\n",
       "      <td>Petroleum</td>\n",
       "      <td>64883.0</td>\n",
       "    </tr>\n",
       "    <tr>\n",
       "      <th>2</th>\n",
       "      <td>2</td>\n",
       "      <td>2001</td>\n",
       "      <td>1</td>\n",
       "      <td>AK</td>\n",
       "      <td>Electric Generators/ Electric Utilities</td>\n",
       "      <td>Natural Gas</td>\n",
       "      <td>305277.0</td>\n",
       "    </tr>\n",
       "    <tr>\n",
       "      <th>3</th>\n",
       "      <td>3</td>\n",
       "      <td>2001</td>\n",
       "      <td>1</td>\n",
       "      <td>AK</td>\n",
       "      <td>Electric Generators/ Electric Utilities</td>\n",
       "      <td>Hydroelectric Conventional</td>\n",
       "      <td>104549.0</td>\n",
       "    </tr>\n",
       "    <tr>\n",
       "      <th>4</th>\n",
       "      <td>4</td>\n",
       "      <td>2001</td>\n",
       "      <td>1</td>\n",
       "      <td>AK</td>\n",
       "      <td>Electric Generators/ Electric Utilities</td>\n",
       "      <td>Wind</td>\n",
       "      <td>87.0</td>\n",
       "    </tr>\n",
       "    <tr>\n",
       "      <th>...</th>\n",
       "      <td>...</td>\n",
       "      <td>...</td>\n",
       "      <td>...</td>\n",
       "      <td>...</td>\n",
       "      <td>...</td>\n",
       "      <td>...</td>\n",
       "      <td>...</td>\n",
       "    </tr>\n",
       "    <tr>\n",
       "      <th>288886</th>\n",
       "      <td>288886</td>\n",
       "      <td>2022</td>\n",
       "      <td>5</td>\n",
       "      <td>WY</td>\n",
       "      <td>Electric Generators/ Electric Utilities</td>\n",
       "      <td>Coal</td>\n",
       "      <td>2071403.0</td>\n",
       "    </tr>\n",
       "    <tr>\n",
       "      <th>288887</th>\n",
       "      <td>288887</td>\n",
       "      <td>2022</td>\n",
       "      <td>5</td>\n",
       "      <td>WY</td>\n",
       "      <td>Electric Generators/ Electric Utilities</td>\n",
       "      <td>Hydroelectric Conventional</td>\n",
       "      <td>96790.0</td>\n",
       "    </tr>\n",
       "    <tr>\n",
       "      <th>288888</th>\n",
       "      <td>288888</td>\n",
       "      <td>2022</td>\n",
       "      <td>5</td>\n",
       "      <td>WY</td>\n",
       "      <td>Electric Generators/ Electric Utilities</td>\n",
       "      <td>Natural Gas</td>\n",
       "      <td>91570.0</td>\n",
       "    </tr>\n",
       "    <tr>\n",
       "      <th>288889</th>\n",
       "      <td>288889</td>\n",
       "      <td>2022</td>\n",
       "      <td>5</td>\n",
       "      <td>WY</td>\n",
       "      <td>Electric Generators/ Electric Utilities</td>\n",
       "      <td>Petroleum</td>\n",
       "      <td>1812.0</td>\n",
       "    </tr>\n",
       "    <tr>\n",
       "      <th>288890</th>\n",
       "      <td>288890</td>\n",
       "      <td>2022</td>\n",
       "      <td>5</td>\n",
       "      <td>WY</td>\n",
       "      <td>Electric Generators/ Electric Utilities</td>\n",
       "      <td>Wind</td>\n",
       "      <td>452913.0</td>\n",
       "    </tr>\n",
       "  </tbody>\n",
       "</table>\n",
       "<p>288891 rows × 7 columns</p>\n",
       "</div>"
      ],
      "text/plain": [
       "           IDs  year  month state                                 producer  \\\n",
       "0            0  2001      1    AK  Electric Generators/ Electric Utilities   \n",
       "1            1  2001      1    AK  Electric Generators/ Electric Utilities   \n",
       "2            2  2001      1    AK  Electric Generators/ Electric Utilities   \n",
       "3            3  2001      1    AK  Electric Generators/ Electric Utilities   \n",
       "4            4  2001      1    AK  Electric Generators/ Electric Utilities   \n",
       "...        ...   ...    ...   ...                                      ...   \n",
       "288886  288886  2022      5    WY  Electric Generators/ Electric Utilities   \n",
       "288887  288887  2022      5    WY  Electric Generators/ Electric Utilities   \n",
       "288888  288888  2022      5    WY  Electric Generators/ Electric Utilities   \n",
       "288889  288889  2022      5    WY  Electric Generators/ Electric Utilities   \n",
       "288890  288890  2022      5    WY  Electric Generators/ Electric Utilities   \n",
       "\n",
       "                            source  generated  \n",
       "0                             Coal    18410.0  \n",
       "1                        Petroleum    64883.0  \n",
       "2                      Natural Gas   305277.0  \n",
       "3       Hydroelectric Conventional   104549.0  \n",
       "4                             Wind       87.0  \n",
       "...                            ...        ...  \n",
       "288886                        Coal  2071403.0  \n",
       "288887  Hydroelectric Conventional    96790.0  \n",
       "288888                 Natural Gas    91570.0  \n",
       "288889                   Petroleum     1812.0  \n",
       "288890                        Wind   452913.0  \n",
       "\n",
       "[288891 rows x 7 columns]"
      ]
     },
     "execution_count": 5,
     "metadata": {},
     "output_type": "execute_result"
    }
   ],
   "source": [
    "from tran_total_states_energy import transform_data\n",
    "import sys\n",
    "\n",
    "import psycopg2\n",
    "\n",
    "from psycopg2 import OperationalError, errorcodes, errors\n",
    "import psycopg2.extras as extras\n",
    "import pandas as pd\n",
    "from io import StringIO\n",
    "import numpy as np\n",
    "\n",
    "import plotly.express as px\n",
    "from timeit import default_timer as timer\n",
    "\n",
    "start = timer()\n",
    "x = transform_data()\n",
    "end = timer()\n",
    "k = end - start \n",
    "print(\"Query execution time: {}s\".format(k))\n",
    "x"
   ]
  },
  {
   "cell_type": "markdown",
   "id": "7071e032",
   "metadata": {},
   "source": [
    "# Connecting to psycopg2, Making tables and copying them over + Queries"
   ]
  },
  {
   "cell_type": "code",
   "execution_count": 6,
   "id": "1faff7f1",
   "metadata": {
    "colab_type": "text",
    "id": "view-in-github"
   },
   "outputs": [
    {
     "name": "stdout",
     "output_type": "stream",
     "text": [
      "Overwriting query_total_states_energy.py\n"
     ]
    }
   ],
   "source": [
    "%%file query_total_states_energy.py \n",
    "\n",
    "from tran_total_states_energy import transform_data\n",
    "import sys\n",
    "\n",
    "import psycopg2\n",
    "\n",
    "from psycopg2 import OperationalError, errorcodes, errors\n",
    "import psycopg2.extras as extras\n",
    "import pandas as pd\n",
    "from io import StringIO\n",
    "import numpy as np\n",
    "\n",
    "from timeit import default_timer as timer\n",
    "\n",
    "edf = transform_data()\n",
    "\n",
    "params_dic = {\n",
    "    \"host\"      : \"localhost\",\n",
    "    \"user\"      : \"postgres\",\n",
    "    \"password\"  : \"postgres\",\n",
    "    \"port\"      : \"5432\"\n",
    "}\n",
    "\n",
    "def connect(params_dic):\n",
    "    \"\"\" Connect to the PostgreSQL database server \"\"\"\n",
    "    conn = None\n",
    "    try:\n",
    "        # connect to the PostgreSQL server\n",
    "        print('Connecting to the PostgreSQL database...')\n",
    "        conn = psycopg2.connect(**params_dic)\n",
    "    except (Exception, psycopg2.DatabaseError) as error:\n",
    "        print(error)\n",
    "        sys.exit(1) \n",
    "    print(\"Connection successful\")\n",
    "    return conn\n",
    "conn = connect(params_dic)\n",
    "\n",
    "#install psycopg2-binary for MacOs if you don't have it\n",
    "    #!pip install psycopg2-binary\n",
    "\n",
    "# Define a function that handles and parses psycopg2 exceptions\n",
    "def show_psycopg2_exception(err):\n",
    "    # get details about the exception\n",
    "    err_type, err_obj, traceback = sys.exc_info()    \n",
    "    # get the line number when exception occured\n",
    "    line_n = traceback.tb_lineno    \n",
    "    # print the connect() error\n",
    "    print (\"\\npsycopg2 ERROR:\", err, \"on line number:\", line_n)\n",
    "    print (\"psycopg2 traceback:\", traceback, \"-- type:\", err_type) \n",
    "    # psycopg2 extensions.Diagnostics object attribute\n",
    "    print (\"\\nextensions.Diagnostics:\", err.diag)    \n",
    "    # print the pgcode and pgerror exceptions\n",
    "    print (\"pgerror:\", err.pgerror)\n",
    "    print (\"pgcode:\", err.pgcode, \"\\n\")\n",
    "\n",
    "def create_table(cursor):\n",
    "    try:\n",
    "        # \n",
    "        cursor.execute(\"DROP TABLE IF EXISTS energy;\")\n",
    "        sql = '''CREATE TABLE energy(\n",
    "        IDs INT NOT NULL,\n",
    "        year INT NOT NULL,\n",
    "        month INT NOT NULL,\n",
    "        state VARCHAR NOT NULL, \n",
    "        producer VARCHAR NOT NULL,\n",
    "        source VARCHAR NOT NULL, \n",
    "        generated FLOAT NOT NULL,\n",
    "        CONSTRAINT pk_energy PRIMARY KEY (\n",
    "        IDs)\n",
    "        )'''\n",
    "        # Creating a table\n",
    "        cursor.execute(sql);\n",
    "        print(\"energy table is created successfully...............\")  \n",
    "    except OperationalError as err:\n",
    "        # pass exception to function\n",
    "        show_psycopg2_exception(err)\n",
    "        # set the connection to 'None' in case of error\n",
    "        conn = None\n",
    "\n",
    "# Define function using copy_from() with StringIO to insert the dataframe\n",
    "def copy_from_dataFile_StringIO(conn, datafrm, table):\n",
    "    \n",
    "    #save dataframe to an in memory buffer\n",
    "    buffer = StringIO()\n",
    "    datafrm.to_csv(buffer, header=False, index = False)\n",
    "    buffer.seek(0)\n",
    "    \n",
    "    cursor = conn.cursor()\n",
    "    try:\n",
    "        cursor.copy_from(buffer, table, sep=\",\")\n",
    "        print(\"Data inserted using copy_from_datafile_StringIO() successfully....\")\n",
    "    except (Exception, psycopg2.DatabaseError) as err:\n",
    "        # pass exception to function\n",
    "        show_psycopg2_exception(err)\n",
    "        cursor.close()\n",
    "\n",
    "conn = connect(params_dic)\n",
    "\n",
    "# We set autocommit=True so every command we execute will produce results immediately.\n",
    "conn.autocommit = True\n",
    "cursor = conn.cursor()\n",
    "create_table(cursor)\n",
    "\n",
    "copy_from_dataFile_StringIO(conn, edf, 'energy')\n",
    "\n",
    "\n",
    "def query_data():\n",
    "\n",
    "    conn.autocommit = True\n",
    "    cursor = conn.cursor()\n",
    "  \n",
    "    sql = '''SELECT year, state, (SUM(generated)) as sums\n",
    "            FROM energy \n",
    "            WHERE YEAR != 2022\n",
    "            Group By YEAR, state\n",
    "            Order By YEAR ASC, sums DESC\n",
    "                ;''' \n",
    "  \n",
    "    cursor.execute(sql)\n",
    "    results = cursor.fetchall()\n",
    "    df = pd.DataFrame (results, columns = ['Year', 'State','Total Generated(MWh)'])\n",
    "    conn.commit()\n",
    "    return df"
   ]
  },
  {
   "cell_type": "code",
   "execution_count": 7,
   "id": "771ed1c9",
   "metadata": {},
   "outputs": [
    {
     "name": "stdout",
     "output_type": "stream",
     "text": [
      "Connecting to the PostgreSQL database...\n",
      "Connection successful\n",
      "Connecting to the PostgreSQL database...\n",
      "Connection successful\n",
      "energy table is created successfully...............\n",
      "Data inserted using copy_from_datafile_StringIO() successfully....\n",
      "Query execution time: 0.22436092999999957s\n"
     ]
    }
   ],
   "source": [
    "from tran_total_states_energy import transform_data\n",
    "from query_total_states_energy import query_data\n",
    "\n",
    "start = timer()\n",
    "y = query_data()\n",
    "end = timer()\n",
    "k = end - start \n",
    "print(\"Query execution time: {}s\".format(k))"
   ]
  },
  {
   "cell_type": "markdown",
   "id": "6e5f3208",
   "metadata": {},
   "source": [
    "# Testing Data Quality"
   ]
  },
  {
   "cell_type": "code",
   "execution_count": 13,
   "id": "f0a8987c",
   "metadata": {},
   "outputs": [
    {
     "name": "stdout",
     "output_type": "stream",
     "text": [
      "Overwriting test_total_states_energy.py\n"
     ]
    }
   ],
   "source": [
    "%%file test_total_states_energy.py\n",
    "\n",
    "from total_states_energy import import_data\n",
    "from tran_total_states_energy import transform_data\n",
    "from query_total_states_energy import query_data\n",
    "\n",
    "def test_data_columns_count():\n",
    "    df = import_data()\n",
    "    assert len(df.columns) == 7\n",
    "\n",
    "def test_data_row_count():\n",
    "    df = import_data()\n",
    "    assert len(df.index) == 496774\n",
    "    \n",
    "def test_transform_data_columns_count():\n",
    "    df = transform_data()\n",
    "    assert len(df.columns) == 7\n",
    "\n",
    "def test_transform_data_row_count():\n",
    "    df = transform_data()\n",
    "    assert len(df.index) == 288891\n",
    "    \n",
    "def test_query_data_column_count():\n",
    "    df = query_data()\n",
    "    assert len(df.columns) != 4\n",
    "\n",
    "def test_query_data_row_count():\n",
    "    df = query_data()\n",
    "    assert len(df.index) != 13107"
   ]
  },
  {
   "cell_type": "code",
   "execution_count": 14,
   "id": "e2694e78",
   "metadata": {},
   "outputs": [
    {
     "name": "stdout",
     "output_type": "stream",
     "text": [
      "\u001b[1m============================= test session starts ==============================\u001b[0m\n",
      "platform darwin -- Python 3.9.7, pytest-6.2.4, py-1.10.0, pluggy-0.13.1\n",
      "rootdir: /Users/slimykid/Group4_NFLX_MIDTERM/Adeh\n",
      "plugins: anyio-2.2.0\n",
      "collected 6 items                                                              \u001b[0m\u001b[1m\n",
      "\n",
      "test_total_states_energy.py \u001b[32m.\u001b[0m\u001b[32m.\u001b[0m\u001b[32m.\u001b[0m\u001b[32m.\u001b[0m\u001b[32m.\u001b[0m\u001b[32m.\u001b[0m\u001b[32m                                       [100%]\u001b[0m\n",
      "\n",
      "\u001b[32m============================== \u001b[32m\u001b[1m6 passed\u001b[0m\u001b[32m in 8.30s\u001b[0m\u001b[32m ===============================\u001b[0m\n"
     ]
    }
   ],
   "source": [
    "# Run the test_import_data.py file with pytest. \n",
    "!python -m pytest test_total_states_energy.py"
   ]
  },
  {
   "cell_type": "markdown",
   "id": "a2e037dc",
   "metadata": {},
   "source": [
    "# Graphs"
   ]
  },
  {
   "cell_type": "code",
   "execution_count": 15,
   "id": "cc107ca3",
   "metadata": {},
   "outputs": [
    {
     "data": {
      "application/vnd.plotly.v1+json": {
       "config": {
        "plotlyServerURL": "https://plotly.com"
       },
       "data": [
        {
         "alignmentgroup": "True",
         "hovertemplate": "State=TX<br>Year=%{x}<br>Total Generated(MWh)=%{y}<extra></extra>",
         "legendgroup": "TX",
         "marker": {
          "color": "#636efa",
          "pattern": {
           "shape": ""
          }
         },
         "name": "TX",
         "offsetgroup": "TX",
         "orientation": "v",
         "showlegend": true,
         "textposition": "auto",
         "type": "bar",
         "x": [
          2001,
          2002,
          2003,
          2004,
          2005,
          2006,
          2007,
          2008,
          2009,
          2010,
          2011,
          2012,
          2013,
          2014,
          2015,
          2016,
          2017,
          2018,
          2019,
          2020,
          2021
         ],
         "xaxis": "x",
         "y": [
          372580005,
          385628540,
          379199685,
          390299148,
          396668727,
          400582880,
          405492289,
          404787783,
          397167903,
          411695049,
          435476923.8399998,
          429812509.9700002,
          433380165.86000025,
          437236406.77,
          449826340,
          454047593,
          452794380,
          477352431,
          483201027,
          473514914,
          483561769
         ],
         "yaxis": "y"
        },
        {
         "alignmentgroup": "True",
         "hovertemplate": "State=CA<br>Year=%{x}<br>Total Generated(MWh)=%{y}<extra></extra>",
         "legendgroup": "CA",
         "marker": {
          "color": "#EF553B",
          "pattern": {
           "shape": ""
          }
         },
         "name": "CA",
         "offsetgroup": "CA",
         "orientation": "v",
         "showlegend": true,
         "textposition": "auto",
         "type": "bar",
         "x": [
          2001,
          2002,
          2003,
          2004,
          2005,
          2006,
          2007,
          2008,
          2009,
          2010,
          2011,
          2012,
          2013,
          2014,
          2015,
          2016,
          2017,
          2018,
          2019,
          2020,
          2021
         ],
         "xaxis": "x",
         "y": [
          198596072,
          184210032,
          192788542,
          194780362,
          200292813,
          216798689,
          210847585,
          207984265,
          204776141,
          204125606,
          200804842.7699999,
          199518566.81000018,
          200077114.8299998,
          197704742.23,
          196703848,
          196963225,
          206146518,
          195465640,
          201784202,
          193074939,
          196727116
         ],
         "yaxis": "y"
        },
        {
         "alignmentgroup": "True",
         "hovertemplate": "State=PA<br>Year=%{x}<br>Total Generated(MWh)=%{y}<extra></extra>",
         "legendgroup": "PA",
         "marker": {
          "color": "#00cc96",
          "pattern": {
           "shape": ""
          }
         },
         "name": "PA",
         "offsetgroup": "PA",
         "orientation": "v",
         "showlegend": true,
         "textposition": "auto",
         "type": "bar",
         "x": [
          2001,
          2002,
          2003,
          2004,
          2005,
          2006,
          2007,
          2008,
          2009,
          2010,
          2011,
          2012,
          2013,
          2014,
          2015,
          2016,
          2017,
          2018,
          2019,
          2020,
          2021
         ],
         "xaxis": "x",
         "y": [
          196576590,
          204322879,
          206349515,
          214658499,
          218091134,
          218811600,
          226088345,
          222350938,
          219496145,
          229752315,
          227636139.64000005,
          223419715.67000005,
          226785630.50999993,
          221709452.18000013,
          214572305,
          215066511,
          213639299,
          215385830,
          228995336,
          230143281,
          241648365
         ],
         "yaxis": "y"
        },
        {
         "alignmentgroup": "True",
         "hovertemplate": "State=FL<br>Year=%{x}<br>Total Generated(MWh)=%{y}<extra></extra>",
         "legendgroup": "FL",
         "marker": {
          "color": "#ab63fa",
          "pattern": {
           "shape": ""
          }
         },
         "name": "FL",
         "offsetgroup": "FL",
         "orientation": "v",
         "showlegend": true,
         "textposition": "auto",
         "type": "bar",
         "x": [
          2001,
          2002,
          2003,
          2004,
          2005,
          2006,
          2007,
          2008,
          2009,
          2010,
          2011,
          2012,
          2013,
          2014,
          2015,
          2016,
          2017,
          2018,
          2019,
          2020,
          2021
         ],
         "xaxis": "x",
         "y": [
          190945343,
          203352773,
          212610013,
          218117924,
          220256414,
          223751621,
          225416070,
          219636829,
          217952315,
          229095941,
          221894574.25999993,
          221096136.13000003,
          222398924.2,
          231062160.43000013,
          237412630,
          238262141,
          238413436,
          244252041,
          245603489,
          250827799,
          244401038
         ],
         "yaxis": "y"
        },
        {
         "alignmentgroup": "True",
         "hovertemplate": "State=IL<br>Year=%{x}<br>Total Generated(MWh)=%{y}<extra></extra>",
         "legendgroup": "IL",
         "marker": {
          "color": "#FFA15A",
          "pattern": {
           "shape": ""
          }
         },
         "name": "IL",
         "offsetgroup": "IL",
         "orientation": "v",
         "showlegend": true,
         "textposition": "auto",
         "type": "bar",
         "x": [
          2001,
          2002,
          2003,
          2004,
          2005,
          2006,
          2007,
          2008,
          2009,
          2010,
          2011,
          2012,
          2013,
          2014,
          2015,
          2016,
          2017,
          2018,
          2019,
          2020,
          2021
         ],
         "xaxis": "x",
         "y": [
          179249282,
          188054455,
          189055262,
          191957779,
          194120144,
          192426964,
          200260686,
          199475174,
          193864366,
          201351874,
          199499728.24000004,
          197565362.83000007,
          203004919.67000008,
          202352425.76000002,
          193952044,
          187289136,
          183591568,
          188003357,
          184470055,
          173394537,
          181859377
         ],
         "yaxis": "y"
        },
        {
         "alignmentgroup": "True",
         "hovertemplate": "State=NY<br>Year=%{x}<br>Total Generated(MWh)=%{y}<extra></extra>",
         "legendgroup": "NY",
         "marker": {
          "color": "#19d3f3",
          "pattern": {
           "shape": ""
          }
         },
         "name": "NY",
         "offsetgroup": "NY",
         "orientation": "v",
         "showlegend": true,
         "textposition": "auto",
         "type": "bar",
         "x": [
          2001,
          2002,
          2003,
          2004,
          2005,
          2006,
          2007,
          2008,
          2009,
          2010,
          2011,
          2012,
          2013,
          2014,
          2015,
          2016,
          2017,
          2018,
          2019,
          2020,
          2021
         ],
         "xaxis": "x",
         "y": [
          143914556,
          139591688,
          137643315,
          137964803,
          146887426,
          142265439,
          145878689,
          140322095,
          133150559,
          136961659,
          137607868.14,
          135768251.25000006,
          136116830.09999993,
          136275373.08000016,
          138627721,
          134417111,
          128065081,
          132520504,
          131603283,
          129430273,
          125226026
         ],
         "yaxis": "y"
        },
        {
         "alignmentgroup": "True",
         "hovertemplate": "State=OH<br>Year=%{x}<br>Total Generated(MWh)=%{y}<extra></extra>",
         "legendgroup": "OH",
         "marker": {
          "color": "#FF6692",
          "pattern": {
           "shape": ""
          }
         },
         "name": "OH",
         "offsetgroup": "OH",
         "orientation": "v",
         "showlegend": true,
         "textposition": "auto",
         "type": "bar",
         "x": [
          2001,
          2002,
          2003,
          2004,
          2005,
          2006,
          2007,
          2008,
          2009,
          2010,
          2011,
          2012,
          2013,
          2014,
          2015,
          2016,
          2017,
          2018,
          2019,
          2020,
          2021
         ],
         "xaxis": "x",
         "y": [
          142261809,
          147068847,
          146638134,
          148345902,
          156976328,
          155434073,
          155155549,
          153412250,
          136090221,
          143598338,
          135585804.63000005,
          129745730.71000002,
          137284188.83000004,
          134602213.48000005,
          121893401,
          118922063,
          119554368,
          126184608,
          120001123,
          120992735,
          123335613
         ],
         "yaxis": "y"
        },
        {
         "alignmentgroup": "True",
         "hovertemplate": "State=AL<br>Year=%{x}<br>Total Generated(MWh)=%{y}<extra></extra>",
         "legendgroup": "AL",
         "marker": {
          "color": "#B6E880",
          "pattern": {
           "shape": ""
          }
         },
         "name": "AL",
         "offsetgroup": "AL",
         "orientation": "v",
         "showlegend": true,
         "textposition": "auto",
         "type": "bar",
         "x": [
          2001,
          2002,
          2003,
          2004,
          2005,
          2006,
          2007,
          2008,
          2009,
          2010,
          2011,
          2012,
          2013,
          2014,
          2015,
          2016,
          2017,
          2018,
          2019,
          2020,
          2021
         ],
         "xaxis": "x",
         "y": [
          125345113,
          132920673,
          137487221,
          137354767,
          137948574,
          140895443,
          143826269,
          145869896,
          143255560,
          152150510,
          156339209.94999996,
          152878687.79999992,
          150572923.93999997,
          149962563.07000005,
          152477427,
          142385096,
          139964248,
          145057996,
          142679432,
          137542696,
          142955133
         ],
         "yaxis": "y"
        },
        {
         "alignmentgroup": "True",
         "hovertemplate": "State=IN<br>Year=%{x}<br>Total Generated(MWh)=%{y}<extra></extra>",
         "legendgroup": "IN",
         "marker": {
          "color": "#FF97FF",
          "pattern": {
           "shape": ""
          }
         },
         "name": "IN",
         "offsetgroup": "IN",
         "orientation": "v",
         "showlegend": true,
         "textposition": "auto",
         "type": "bar",
         "x": [
          2001,
          2002,
          2003,
          2004,
          2005,
          2006,
          2007,
          2008,
          2009,
          2010,
          2011,
          2012,
          2013,
          2014,
          2015,
          2016,
          2017,
          2018,
          2019,
          2020,
          2021
         ],
         "xaxis": "x",
         "y": [
          122569671,
          125608143,
          124888223,
          127770404,
          130371568,
          130489790,
          130638000,
          129510293,
          116670281,
          125180735,
          122131414.11000003,
          114695729.41000006,
          110403477.20999998,
          115633622.32999997,
          104019268,
          101759065,
          98929813,
          113459711,
          102505382,
          89956918,
          94565161
         ],
         "yaxis": "y"
        },
        {
         "alignmentgroup": "True",
         "hovertemplate": "State=GA<br>Year=%{x}<br>Total Generated(MWh)=%{y}<extra></extra>",
         "legendgroup": "GA",
         "marker": {
          "color": "#FECB52",
          "pattern": {
           "shape": ""
          }
         },
         "name": "GA",
         "offsetgroup": "GA",
         "orientation": "v",
         "showlegend": true,
         "textposition": "auto",
         "type": "bar",
         "x": [
          2001,
          2002,
          2003,
          2004,
          2005,
          2006,
          2007,
          2008,
          2009,
          2010,
          2011,
          2012,
          2013,
          2014,
          2015,
          2016,
          2017,
          2018,
          2019,
          2020,
          2021
         ],
         "xaxis": "x",
         "y": [
          118316789,
          126512214,
          124076832,
          126812719,
          136667894,
          138010206,
          145155152,
          136173402,
          128698377,
          137576939,
          124774237.31000003,
          122306363.94999999,
          120953734.39999996,
          125957134.00999999,
          128817889,
          133380413,
          127455319,
          129239379,
          128691566,
          120125999,
          126530745
         ],
         "yaxis": "y"
        },
        {
         "alignmentgroup": "True",
         "hovertemplate": "State=NC<br>Year=%{x}<br>Total Generated(MWh)=%{y}<extra></extra>",
         "legendgroup": "NC",
         "marker": {
          "color": "#636efa",
          "pattern": {
           "shape": ""
          }
         },
         "name": "NC",
         "offsetgroup": "NC",
         "orientation": "v",
         "showlegend": true,
         "textposition": "auto",
         "type": "bar",
         "x": [
          2001,
          2002,
          2003,
          2004,
          2005,
          2006,
          2007,
          2008,
          2009,
          2010,
          2011,
          2012,
          2013,
          2014,
          2015,
          2016,
          2017,
          2018,
          2019,
          2020,
          2021
         ],
         "xaxis": "x",
         "y": [
          117495851,
          124468026,
          127582321,
          126329962,
          129748582,
          125214786,
          130115295,
          125239062,
          118407401,
          128678483,
          118389855.03999999,
          116681763.24000007,
          125936293.47999994,
          128903904.24999993,
          128388445,
          130779155,
          128468116,
          134249499,
          131173856,
          124363444,
          131262686
         ],
         "yaxis": "y"
        },
        {
         "alignmentgroup": "True",
         "hovertemplate": "State=MI<br>Year=%{x}<br>Total Generated(MWh)=%{y}<extra></extra>",
         "legendgroup": "MI",
         "marker": {
          "color": "#EF553B",
          "pattern": {
           "shape": ""
          }
         },
         "name": "MI",
         "offsetgroup": "MI",
         "orientation": "v",
         "showlegend": true,
         "textposition": "auto",
         "type": "bar",
         "x": [
          2001,
          2002,
          2003,
          2004,
          2005,
          2006,
          2007,
          2008,
          2009,
          2010,
          2011,
          2012,
          2013,
          2014,
          2015,
          2016,
          2017,
          2018,
          2019,
          2020,
          2021
         ],
         "xaxis": "x",
         "y": [
          111845610,
          117889086,
          111347061,
          118487270,
          121619776,
          112556731,
          119309942,
          114989800,
          101202612,
          111551380,
          109169507.16000016,
          108166077.85000001,
          105417800.69999999,
          105820820.03999998,
          113008049,
          112121797,
          112313502,
          115837098,
          116701342,
          106624721,
          116045383
         ],
         "yaxis": "y"
        },
        {
         "alignmentgroup": "True",
         "hovertemplate": "State=TN<br>Year=%{x}<br>Total Generated(MWh)=%{y}<extra></extra>",
         "legendgroup": "TN",
         "marker": {
          "color": "#00cc96",
          "pattern": {
           "shape": ""
          }
         },
         "name": "TN",
         "offsetgroup": "TN",
         "orientation": "v",
         "showlegend": true,
         "textposition": "auto",
         "type": "bar",
         "x": [
          2001,
          2002,
          2003,
          2004,
          2005,
          2006,
          2007,
          2008,
          2009,
          2010,
          2011,
          2012,
          2013,
          2014,
          2015,
          2016,
          2017,
          2018,
          2019,
          2020,
          2021
         ],
         "xaxis": "x",
         "y": [
          96221976,
          96114266,
          92221799,
          97594551,
          97117165,
          93911104,
          95113410,
          90663312,
          79716892,
          82348621,
          81103862.31000002,
          77724263.89000002,
          79651619.58000009,
          80256937.74000001,
          75214641,
          79340638,
          79046219,
          81554914,
          82327116,
          80566009,
          81478887
         ],
         "yaxis": "y"
        },
        {
         "alignmentgroup": "True",
         "hovertemplate": "State=KY<br>Year=%{x}<br>Total Generated(MWh)=%{y}<extra></extra>",
         "legendgroup": "KY",
         "marker": {
          "color": "#ab63fa",
          "pattern": {
           "shape": ""
          }
         },
         "name": "KY",
         "offsetgroup": "KY",
         "orientation": "v",
         "showlegend": true,
         "textposition": "auto",
         "type": "bar",
         "x": [
          2001,
          2002,
          2003,
          2004,
          2005,
          2006,
          2007,
          2008,
          2009,
          2010,
          2011,
          2012,
          2013,
          2014,
          2015,
          2016,
          2017,
          2018,
          2019,
          2020,
          2021
         ],
         "xaxis": "x",
         "y": [
          95417625,
          92106668,
          91718817,
          94529945,
          97822424,
          98792014,
          97225318,
          97863340,
          90630423,
          98217655,
          98350982.24000001,
          89949688.84000005,
          89741021.24999999,
          90736783.07,
          83543664,
          80273504,
          73179188,
          78804503,
          71804253,
          63539006,
          70554259
         ],
         "yaxis": "y"
        },
        {
         "alignmentgroup": "True",
         "hovertemplate": "State=AZ<br>Year=%{x}<br>Total Generated(MWh)=%{y}<extra></extra>",
         "legendgroup": "AZ",
         "marker": {
          "color": "#FFA15A",
          "pattern": {
           "shape": ""
          }
         },
         "name": "AZ",
         "offsetgroup": "AZ",
         "orientation": "v",
         "showlegend": true,
         "textposition": "auto",
         "type": "bar",
         "x": [
          2001,
          2002,
          2003,
          2004,
          2005,
          2006,
          2007,
          2008,
          2009,
          2010,
          2011,
          2012,
          2013,
          2014,
          2015,
          2016,
          2017,
          2018,
          2019,
          2020,
          2021
         ],
         "xaxis": "x",
         "y": [
          89911272,
          94131661,
          94396218,
          104564139,
          101478648,
          104392526,
          113340970,
          119459172,
          111971249,
          111750959,
          108125357.05999997,
          110904993.74000005,
          113325986.18999998,
          112379276.18000005,
          113142051,
          108763448,
          105851768,
          111925139,
          113551989,
          109305061,
          108608535
         ],
         "yaxis": "y"
        },
        {
         "alignmentgroup": "True",
         "hovertemplate": "State=SC<br>Year=%{x}<br>Total Generated(MWh)=%{y}<extra></extra>",
         "legendgroup": "SC",
         "marker": {
          "color": "#19d3f3",
          "pattern": {
           "shape": ""
          }
         },
         "name": "SC",
         "offsetgroup": "SC",
         "orientation": "v",
         "showlegend": true,
         "textposition": "auto",
         "type": "bar",
         "x": [
          2001,
          2002,
          2003,
          2004,
          2005,
          2006,
          2007,
          2008,
          2009,
          2010,
          2011,
          2012,
          2013,
          2014,
          2015,
          2016,
          2017,
          2018,
          2019,
          2020,
          2021
         ],
         "xaxis": "x",
         "y": [
          89158990,
          96563496,
          93772679,
          97939931,
          102514657,
          99267606,
          103402136,
          100978011,
          100125486,
          104153132,
          102972567.32999997,
          96755682.00999999,
          95249894.10000004,
          97095321.47999999,
          96532213,
          96985768,
          93080943,
          99364084,
          100107510,
          98528808,
          99924409
         ],
         "yaxis": "y"
        },
        {
         "alignmentgroup": "True",
         "hovertemplate": "State=LA<br>Year=%{x}<br>Total Generated(MWh)=%{y}<extra></extra>",
         "legendgroup": "LA",
         "marker": {
          "color": "#FF6692",
          "pattern": {
           "shape": ""
          }
         },
         "name": "LA",
         "offsetgroup": "LA",
         "orientation": "v",
         "showlegend": true,
         "textposition": "auto",
         "type": "bar",
         "x": [
          2001,
          2002,
          2003,
          2004,
          2005,
          2006,
          2007,
          2008,
          2009,
          2010,
          2011,
          2012,
          2013,
          2014,
          2015,
          2016,
          2017,
          2018,
          2019,
          2020,
          2021
         ],
         "xaxis": "x",
         "y": [
          87894379,
          94970964,
          94885041,
          98172296,
          92616878,
          90921830,
          92578327,
          92453137,
          90993681,
          102884943,
          105490737.03,
          103407705.85000004,
          102010177.02,
          103992084.69000003,
          107812355,
          107268801,
          97719216,
          102128483,
          100174762,
          100773776,
          98061967
         ],
         "yaxis": "y"
        },
        {
         "alignmentgroup": "True",
         "hovertemplate": "State=WA<br>Year=%{x}<br>Total Generated(MWh)=%{y}<extra></extra>",
         "legendgroup": "WA",
         "marker": {
          "color": "#B6E880",
          "pattern": {
           "shape": ""
          }
         },
         "name": "WA",
         "offsetgroup": "WA",
         "orientation": "v",
         "showlegend": true,
         "textposition": "auto",
         "type": "bar",
         "x": [
          2001,
          2002,
          2003,
          2004,
          2005,
          2006,
          2007,
          2008,
          2009,
          2010,
          2011,
          2012,
          2013,
          2014,
          2015,
          2016,
          2017,
          2018,
          2019,
          2020,
          2021
         ],
         "xaxis": "x",
         "y": [
          83048670,
          102765050,
          100094687,
          102165055,
          101965854,
          108203152,
          106990209,
          110828460,
          104470128,
          103472724,
          115262600.95000009,
          116835473.66999993,
          114172916.34000008,
          115362583.74,
          109287463,
          114086577,
          115912082,
          116756733,
          106463607,
          116114469,
          109122726
         ],
         "yaxis": "y"
        },
        {
         "alignmentgroup": "True",
         "hovertemplate": "State=WV<br>Year=%{x}<br>Total Generated(MWh)=%{y}<extra></extra>",
         "legendgroup": "WV",
         "marker": {
          "color": "#FF97FF",
          "pattern": {
           "shape": ""
          }
         },
         "name": "WV",
         "offsetgroup": "WV",
         "orientation": "v",
         "showlegend": true,
         "textposition": "auto",
         "type": "bar",
         "x": [
          2001,
          2002,
          2003,
          2004,
          2005,
          2006,
          2007,
          2008,
          2009,
          2010,
          2011,
          2012,
          2013,
          2014,
          2015,
          2016,
          2017,
          2018,
          2019,
          2020,
          2021
         ],
         "xaxis": "x",
         "y": [
          81836725,
          94761753,
          94711550,
          89749564,
          93626282,
          93815804,
          93933111,
          91123096,
          70782514,
          80788945,
          78999623.69,
          73413404.78000003,
          75863066.78000005,
          81162422.38000005,
          72295267,
          75942961,
          73357081,
          67249025,
          63925644,
          56661537,
          65630564
         ],
         "yaxis": "y"
        },
        {
         "alignmentgroup": "True",
         "hovertemplate": "State=MO<br>Year=%{x}<br>Total Generated(MWh)=%{y}<extra></extra>",
         "legendgroup": "MO",
         "marker": {
          "color": "#FECB52",
          "pattern": {
           "shape": ""
          }
         },
         "name": "MO",
         "offsetgroup": "MO",
         "orientation": "v",
         "showlegend": true,
         "textposition": "auto",
         "type": "bar",
         "x": [
          2001,
          2002,
          2003,
          2004,
          2005,
          2006,
          2007,
          2008,
          2009,
          2010,
          2011,
          2012,
          2013,
          2014,
          2015,
          2016,
          2017,
          2018,
          2019,
          2020,
          2021
         ],
         "xaxis": "x",
         "y": [
          79544872,
          81162196,
          87225088,
          87632907,
          90828231,
          91686350,
          91153082,
          91028792,
          88354274,
          92312991,
          94929440.75000003,
          91804320.70999993,
          91626593.05000003,
          88074036.95999995,
          83640062,
          78611513,
          84606734,
          85095387,
          78278748,
          72567870,
          77815983
         ],
         "yaxis": "y"
        },
        {
         "alignmentgroup": "True",
         "hovertemplate": "State=VA<br>Year=%{x}<br>Total Generated(MWh)=%{y}<extra></extra>",
         "legendgroup": "VA",
         "marker": {
          "color": "#636efa",
          "pattern": {
           "shape": ""
          }
         },
         "name": "VA",
         "offsetgroup": "VA",
         "orientation": "v",
         "showlegend": true,
         "textposition": "auto",
         "type": "bar",
         "x": [
          2001,
          2002,
          2003,
          2004,
          2005,
          2006,
          2007,
          2008,
          2009,
          2010,
          2011,
          2012,
          2013,
          2014,
          2015,
          2016,
          2017,
          2018,
          2019,
          2020,
          2021
         ],
         "xaxis": "x",
         "y": [
          74104748,
          75005656,
          75309422,
          78900045,
          78943043,
          73069539,
          78360516,
          72678536,
          70082062,
          72966459,
          66659105.210000016,
          70739235.04999998,
          76896565.15,
          77322962.88999999,
          84411589,
          92554880,
          90417153,
          95509121,
          96827640,
          103056188,
          94309019
         ],
         "yaxis": "y"
        },
        {
         "alignmentgroup": "True",
         "hovertemplate": "State=NJ<br>Year=%{x}<br>Total Generated(MWh)=%{y}<extra></extra>",
         "legendgroup": "NJ",
         "marker": {
          "color": "#EF553B",
          "pattern": {
           "shape": ""
          }
         },
         "name": "NJ",
         "offsetgroup": "NJ",
         "orientation": "v",
         "showlegend": true,
         "textposition": "auto",
         "type": "bar",
         "x": [
          2001,
          2002,
          2003,
          2004,
          2005,
          2006,
          2007,
          2008,
          2009,
          2010,
          2011,
          2012,
          2013,
          2014,
          2015,
          2016,
          2017,
          2018,
          2019,
          2020,
          2021
         ],
         "xaxis": "x",
         "y": [
          59421262,
          61569385,
          57399354,
          55882361,
          60549582,
          60700136,
          62671247,
          63674794,
          61811249,
          65682498,
          64694096.02999995,
          65263408.13999999,
          64750941.860000014,
          67464757.36000003,
          74608860,
          77611405,
          75644515,
          75033596,
          71018779,
          61106462,
          61386527
         ],
         "yaxis": "y"
        },
        {
         "alignmentgroup": "True",
         "hovertemplate": "State=WI<br>Year=%{x}<br>Total Generated(MWh)=%{y}<extra></extra>",
         "legendgroup": "WI",
         "marker": {
          "color": "#00cc96",
          "pattern": {
           "shape": ""
          }
         },
         "name": "WI",
         "offsetgroup": "WI",
         "orientation": "v",
         "showlegend": true,
         "textposition": "auto",
         "type": "bar",
         "x": [
          2001,
          2002,
          2003,
          2004,
          2005,
          2006,
          2007,
          2008,
          2009,
          2010,
          2011,
          2012,
          2013,
          2014,
          2015,
          2016,
          2017,
          2018,
          2019,
          2020,
          2021
         ],
         "xaxis": "x",
         "y": [
          58763434,
          58431436,
          60122427,
          60444944,
          61824659,
          61639846,
          63390625,
          63479547,
          59959055,
          64314068,
          63289343.89000001,
          63742909.98,
          65962791.96000002,
          60767365.16000003,
          66360181,
          64966609,
          65107333,
          65936801,
          62774297,
          61448549,
          65478679
         ],
         "yaxis": "y"
        },
        {
         "alignmentgroup": "True",
         "hovertemplate": "State=OK<br>Year=%{x}<br>Total Generated(MWh)=%{y}<extra></extra>",
         "legendgroup": "OK",
         "marker": {
          "color": "#ab63fa",
          "pattern": {
           "shape": ""
          }
         },
         "name": "OK",
         "offsetgroup": "OK",
         "orientation": "v",
         "showlegend": true,
         "textposition": "auto",
         "type": "bar",
         "x": [
          2001,
          2002,
          2003,
          2004,
          2005,
          2006,
          2007,
          2008,
          2009,
          2010,
          2011,
          2012,
          2013,
          2014,
          2015,
          2016,
          2017,
          2018,
          2019,
          2020,
          2021
         ],
         "xaxis": "x",
         "y": [
          55249453,
          59183418,
          60626862,
          60729562,
          68607829,
          70614878,
          72819091,
          76328906,
          75066814,
          72250731,
          74605713.66,
          77896588.18000002,
          73673680.26000006,
          70298615.03999999,
          76135599,
          78655011,
          73731653,
          86223721,
          85216502,
          82297835,
          80564122
         ],
         "yaxis": "y"
        },
        {
         "alignmentgroup": "True",
         "hovertemplate": "State=MS<br>Year=%{x}<br>Total Generated(MWh)=%{y}<extra></extra>",
         "legendgroup": "MS",
         "marker": {
          "color": "#FFA15A",
          "pattern": {
           "shape": ""
          }
         },
         "name": "MS",
         "offsetgroup": "MS",
         "orientation": "v",
         "showlegend": true,
         "textposition": "auto",
         "type": "bar",
         "x": [
          2001,
          2002,
          2003,
          2004,
          2005,
          2006,
          2007,
          2008,
          2009,
          2010,
          2011,
          2012,
          2013,
          2014,
          2015,
          2016,
          2017,
          2018,
          2019,
          2020,
          2021
         ],
         "xaxis": "x",
         "y": [
          53446448,
          42888814,
          40148276,
          43662613,
          45067453,
          46228847,
          50043691,
          48205710,
          48701483,
          54487269,
          51570942.749999985,
          54584295.07000001,
          52810263.989999965,
          54864346.18000001,
          64757867,
          62881298,
          59727634,
          63473769,
          65958757,
          66581789,
          68713324
         ],
         "yaxis": "y"
        },
        {
         "alignmentgroup": "True",
         "hovertemplate": "State=MD<br>Year=%{x}<br>Total Generated(MWh)=%{y}<extra></extra>",
         "legendgroup": "MD",
         "marker": {
          "color": "#19d3f3",
          "pattern": {
           "shape": ""
          }
         },
         "name": "MD",
         "offsetgroup": "MD",
         "orientation": "v",
         "showlegend": true,
         "textposition": "auto",
         "type": "bar",
         "x": [
          2001,
          2002,
          2003,
          2004,
          2005,
          2006,
          2007,
          2008,
          2009,
          2010,
          2011,
          2012,
          2013,
          2014,
          2015,
          2016,
          2017,
          2018,
          2019,
          2020,
          2021
         ],
         "xaxis": "x",
         "y": [
          49062341,
          48279085,
          52244244,
          52052781,
          52661606,
          48956890,
          50197928,
          47360962,
          43774832,
          43607257,
          41818068.39000002,
          37809743.71999998,
          35850812.440000005,
          38015159.01000001,
          36365540,
          37166684,
          34104077,
          43809646,
          39328700,
          36029207,
          39719296
         ],
         "yaxis": "y"
        },
        {
         "alignmentgroup": "True",
         "hovertemplate": "State=MN<br>Year=%{x}<br>Total Generated(MWh)=%{y}<extra></extra>",
         "legendgroup": "MN",
         "marker": {
          "color": "#FF6692",
          "pattern": {
           "shape": ""
          }
         },
         "name": "MN",
         "offsetgroup": "MN",
         "orientation": "v",
         "showlegend": true,
         "textposition": "auto",
         "type": "bar",
         "x": [
          2001,
          2002,
          2003,
          2004,
          2005,
          2006,
          2007,
          2008,
          2009,
          2010,
          2011,
          2012,
          2013,
          2014,
          2015,
          2016,
          2017,
          2018,
          2019,
          2020,
          2021
         ],
         "xaxis": "x",
         "y": [
          48523223,
          52777958,
          55050985,
          52364129,
          53018994,
          53237796,
          54477651,
          54763364,
          52491840,
          53670220,
          53120061.680000015,
          52193624.31000005,
          51296987.74000004,
          56825384.95999996,
          56979768,
          59478759,
          58748839,
          61517452,
          59379390,
          56510140,
          59628025
         ],
         "yaxis": "y"
        },
        {
         "alignmentgroup": "True",
         "hovertemplate": "State=AR<br>Year=%{x}<br>Total Generated(MWh)=%{y}<extra></extra>",
         "legendgroup": "AR",
         "marker": {
          "color": "#B6E880",
          "pattern": {
           "shape": ""
          }
         },
         "name": "AR",
         "offsetgroup": "AR",
         "orientation": "v",
         "showlegend": true,
         "textposition": "auto",
         "type": "bar",
         "x": [
          2001,
          2002,
          2003,
          2004,
          2005,
          2006,
          2007,
          2008,
          2009,
          2010,
          2011,
          2012,
          2013,
          2014,
          2015,
          2016,
          2017,
          2018,
          2019,
          2020,
          2021
         ],
         "xaxis": "x",
         "y": [
          47192036,
          47611641,
          50401105,
          51927641,
          47794508,
          52168698,
          54596236,
          55050528,
          57457747,
          61000191,
          61307535.94000003,
          65005678.020000026,
          60322492.19000001,
          61580991.510000005,
          55559424,
          60445056,
          60775219,
          67999360,
          64442895,
          54641263,
          60230137
         ],
         "yaxis": "y"
        },
        {
         "alignmentgroup": "True",
         "hovertemplate": "State=CO<br>Year=%{x}<br>Total Generated(MWh)=%{y}<extra></extra>",
         "legendgroup": "CO",
         "marker": {
          "color": "#FF97FF",
          "pattern": {
           "shape": ""
          }
         },
         "name": "CO",
         "offsetgroup": "CO",
         "orientation": "v",
         "showlegend": true,
         "textposition": "auto",
         "type": "bar",
         "x": [
          2001,
          2002,
          2003,
          2004,
          2005,
          2006,
          2007,
          2008,
          2009,
          2010,
          2011,
          2012,
          2013,
          2014,
          2015,
          2016,
          2017,
          2018,
          2019,
          2020,
          2021
         ],
         "xaxis": "x",
         "y": [
          46876003,
          45600391,
          46616787,
          47869505,
          49616696,
          50698353,
          53907490,
          53441593,
          50565953,
          50720788,
          51432554.429999985,
          52556701.179999985,
          52937436.00000001,
          54000898.600000024,
          52393074,
          54418473,
          53843996,
          55386281,
          56337735,
          54115020,
          56737727
         ],
         "yaxis": "y"
        },
        {
         "alignmentgroup": "True",
         "hovertemplate": "State=OR<br>Year=%{x}<br>Total Generated(MWh)=%{y}<extra></extra>",
         "legendgroup": "OR",
         "marker": {
          "color": "#FECB52",
          "pattern": {
           "shape": ""
          }
         },
         "name": "OR",
         "offsetgroup": "OR",
         "orientation": "v",
         "showlegend": true,
         "textposition": "auto",
         "type": "bar",
         "x": [
          2001,
          2002,
          2003,
          2004,
          2005,
          2006,
          2007,
          2008,
          2009,
          2010,
          2011,
          2012,
          2013,
          2014,
          2015,
          2016,
          2017,
          2018,
          2019,
          2020,
          2021
         ],
         "xaxis": "x",
         "y": [
          45051906,
          47099368,
          48966140,
          51381280,
          49325008,
          53340699,
          55077795,
          58718436,
          56690852,
          55126998,
          59695164.24999999,
          60932714.57000002,
          59895514.74000004,
          59718512.029999994,
          57866529,
          60182010,
          62713748,
          64113560,
          62258380,
          63624785,
          61081837
         ],
         "yaxis": "y"
        },
        {
         "alignmentgroup": "True",
         "hovertemplate": "State=WY<br>Year=%{x}<br>Total Generated(MWh)=%{y}<extra></extra>",
         "legendgroup": "WY",
         "marker": {
          "color": "#636efa",
          "pattern": {
           "shape": ""
          }
         },
         "name": "WY",
         "offsetgroup": "WY",
         "orientation": "v",
         "showlegend": true,
         "textposition": "auto",
         "type": "bar",
         "x": [
          2001,
          2002,
          2003,
          2004,
          2005,
          2006,
          2007,
          2008,
          2009,
          2010,
          2011,
          2012,
          2013,
          2014,
          2015,
          2016,
          2017,
          2018,
          2019,
          2020,
          2021
         ],
         "xaxis": "x",
         "y": [
          44776938,
          43783839,
          43626603,
          44807600,
          45567309,
          45400364,
          45633489,
          46500446,
          46029218,
          48119254,
          47638470.92000001,
          49588606.32000002,
          52483065.5,
          49457628.25000002,
          48966523,
          46656633,
          46741846,
          46112140,
          42145656,
          42010988,
          43650676
         ],
         "yaxis": "y"
        },
        {
         "alignmentgroup": "True",
         "hovertemplate": "State=KS<br>Year=%{x}<br>Total Generated(MWh)=%{y}<extra></extra>",
         "legendgroup": "KS",
         "marker": {
          "color": "#EF553B",
          "pattern": {
           "shape": ""
          }
         },
         "name": "KS",
         "offsetgroup": "KS",
         "orientation": "v",
         "showlegend": true,
         "textposition": "auto",
         "type": "bar",
         "x": [
          2001,
          2002,
          2003,
          2004,
          2005,
          2006,
          2007,
          2008,
          2009,
          2010,
          2011,
          2012,
          2013,
          2014,
          2015,
          2016,
          2017,
          2018,
          2019,
          2020,
          2021
         ],
         "xaxis": "x",
         "y": [
          44748522,
          47188445,
          46567566,
          46782657,
          45862700,
          45523739,
          50122198,
          46630319,
          46677305,
          47923767,
          45359840.160000004,
          44424690.81,
          48472581.36999999,
          50042935.44000002,
          45527123,
          47599990,
          50933297,
          51710217,
          50887992,
          54541831,
          56745956
         ],
         "yaxis": "y"
        },
        {
         "alignmentgroup": "True",
         "hovertemplate": "State=IA<br>Year=%{x}<br>Total Generated(MWh)=%{y}<extra></extra>",
         "legendgroup": "IA",
         "marker": {
          "color": "#00cc96",
          "pattern": {
           "shape": ""
          }
         },
         "name": "IA",
         "offsetgroup": "IA",
         "orientation": "v",
         "showlegend": true,
         "textposition": "auto",
         "type": "bar",
         "x": [
          2001,
          2002,
          2003,
          2004,
          2005,
          2006,
          2007,
          2008,
          2009,
          2010,
          2011,
          2012,
          2013,
          2014,
          2015,
          2016,
          2017,
          2018,
          2019,
          2020,
          2021
         ],
         "xaxis": "x",
         "y": [
          40658513,
          42528383,
          42116192,
          43248189,
          44156157,
          45483466,
          49789213,
          53086787,
          51860059,
          57508721,
          56371912.73999997,
          56675404.009999976,
          56670757.00000004,
          57122984.68000001,
          56658912,
          54392512,
          57909567,
          63380567,
          61673546,
          59636682,
          66120266
         ],
         "yaxis": "y"
        },
        {
         "alignmentgroup": "True",
         "hovertemplate": "State=MA<br>Year=%{x}<br>Total Generated(MWh)=%{y}<extra></extra>",
         "legendgroup": "MA",
         "marker": {
          "color": "#ab63fa",
          "pattern": {
           "shape": ""
          }
         },
         "name": "MA",
         "offsetgroup": "MA",
         "orientation": "v",
         "showlegend": true,
         "textposition": "auto",
         "type": "bar",
         "x": [
          2001,
          2002,
          2003,
          2004,
          2005,
          2006,
          2007,
          2008,
          2009,
          2010,
          2011,
          2012,
          2013,
          2014,
          2015,
          2016,
          2017,
          2018,
          2019,
          2020,
          2021
         ],
         "xaxis": "x",
         "y": [
          38478433,
          42027825,
          48385024,
          47500481,
          47515445,
          45597777,
          47075976,
          42505480,
          38966655,
          42804835,
          38054820.62999996,
          36198121.62999998,
          32885020.859999996,
          31123860.81,
          32085959,
          31955032,
          32204114,
          27172881,
          21515630,
          18214145,
          19366993
         ],
         "yaxis": "y"
        },
        {
         "alignmentgroup": "True",
         "hovertemplate": "State=UT<br>Year=%{x}<br>Total Generated(MWh)=%{y}<extra></extra>",
         "legendgroup": "UT",
         "marker": {
          "color": "#FFA15A",
          "pattern": {
           "shape": ""
          }
         },
         "name": "UT",
         "offsetgroup": "UT",
         "orientation": "v",
         "showlegend": true,
         "textposition": "auto",
         "type": "bar",
         "x": [
          2001,
          2002,
          2003,
          2004,
          2005,
          2006,
          2007,
          2008,
          2009,
          2010,
          2011,
          2012,
          2013,
          2014,
          2015,
          2016,
          2017,
          2018,
          2019,
          2020,
          2021
         ],
         "xaxis": "x",
         "y": [
          35853750,
          36608007,
          38023667,
          38211977,
          38165128,
          41263325,
          45372573,
          46578766,
          43542945,
          42249352,
          40836150.05999998,
          39402960.849999994,
          42516750.88000002,
          43587027.12000002,
          41949116,
          38133925,
          37411878,
          39375427,
          39117030,
          37087306,
          42656775
         ],
         "yaxis": "y"
        },
        {
         "alignmentgroup": "True",
         "hovertemplate": "State=NV<br>Year=%{x}<br>Total Generated(MWh)=%{y}<extra></extra>",
         "legendgroup": "NV",
         "marker": {
          "color": "#19d3f3",
          "pattern": {
           "shape": ""
          }
         },
         "name": "NV",
         "offsetgroup": "NV",
         "orientation": "v",
         "showlegend": true,
         "textposition": "auto",
         "type": "bar",
         "x": [
          2001,
          2002,
          2003,
          2004,
          2005,
          2006,
          2007,
          2008,
          2009,
          2010,
          2011,
          2012,
          2013,
          2014,
          2015,
          2016,
          2017,
          2018,
          2019,
          2020,
          2021
         ],
         "xaxis": "x",
         "y": [
          33875966,
          32088938,
          33194888,
          37667442,
          40213748,
          31860023,
          32669737,
          35089976,
          37705134,
          35146250,
          31935918.00000002,
          35173263.3,
          36443873.73,
          36192638.94999999,
          39046784,
          39787009,
          38201296,
          39640242,
          39889663,
          40424743,
          41880191
         ],
         "yaxis": "y"
        },
        {
         "alignmentgroup": "True",
         "hovertemplate": "State=NM<br>Year=%{x}<br>Total Generated(MWh)=%{y}<extra></extra>",
         "legendgroup": "NM",
         "marker": {
          "color": "#FF6692",
          "pattern": {
           "shape": ""
          }
         },
         "name": "NM",
         "offsetgroup": "NM",
         "orientation": "v",
         "showlegend": true,
         "textposition": "auto",
         "type": "bar",
         "x": [
          2001,
          2002,
          2003,
          2004,
          2005,
          2006,
          2007,
          2008,
          2009,
          2010,
          2011,
          2012,
          2013,
          2014,
          2015,
          2016,
          2017,
          2018,
          2019,
          2020,
          2021
         ],
         "xaxis": "x",
         "y": [
          33611643,
          30661709,
          32735655,
          32940362,
          35135644,
          37265628,
          35985336,
          37009846,
          39674336,
          36251545,
          38181139.38,
          36635909.56,
          35870965.27,
          32124996.890000015,
          32701395,
          32912036,
          33597415,
          32673685,
          35174512,
          34075590,
          35271296
         ],
         "yaxis": "y"
        },
        {
         "alignmentgroup": "True",
         "hovertemplate": "State=CT<br>Year=%{x}<br>Total Generated(MWh)=%{y}<extra></extra>",
         "legendgroup": "CT",
         "marker": {
          "color": "#B6E880",
          "pattern": {
           "shape": ""
          }
         },
         "name": "CT",
         "offsetgroup": "CT",
         "orientation": "v",
         "showlegend": true,
         "textposition": "auto",
         "type": "bar",
         "x": [
          2001,
          2002,
          2003,
          2004,
          2005,
          2006,
          2007,
          2008,
          2009,
          2010,
          2011,
          2012,
          2013,
          2014,
          2015,
          2016,
          2017,
          2018,
          2019,
          2020,
          2021
         ],
         "xaxis": "x",
         "y": [
          30490645,
          31311212,
          29545049,
          32633407,
          33549741,
          34681732,
          33171201,
          30409475,
          31206229,
          33349622,
          33745220.79,
          36117543.98999999,
          35610789.42000001,
          33604720.40999999,
          37470614,
          36496560,
          34562659,
          39453551,
          40050031,
          41190571,
          44123575
         ],
         "yaxis": "y"
        },
        {
         "alignmentgroup": "True",
         "hovertemplate": "State=NE<br>Year=%{x}<br>Total Generated(MWh)=%{y}<extra></extra>",
         "legendgroup": "NE",
         "marker": {
          "color": "#FF97FF",
          "pattern": {
           "shape": ""
          }
         },
         "name": "NE",
         "offsetgroup": "NE",
         "orientation": "v",
         "showlegend": true,
         "textposition": "auto",
         "type": "bar",
         "x": [
          2001,
          2002,
          2003,
          2004,
          2005,
          2006,
          2007,
          2008,
          2009,
          2010,
          2011,
          2012,
          2013,
          2014,
          2015,
          2016,
          2017,
          2018,
          2019,
          2020,
          2021
         ],
         "xaxis": "x",
         "y": [
          30485213,
          31618488,
          30455984,
          32008709,
          31464739,
          31669968,
          32442703,
          32373521,
          34001898,
          36630016,
          36095051.07000001,
          34217292.589999996,
          37104627.77000002,
          39610374.79,
          39883394,
          36524870,
          35406984,
          36966213,
          37297613,
          36848686,
          38644643
         ],
         "yaxis": "y"
        },
        {
         "alignmentgroup": "True",
         "hovertemplate": "State=ND<br>Year=%{x}<br>Total Generated(MWh)=%{y}<extra></extra>",
         "legendgroup": "ND",
         "marker": {
          "color": "#FECB52",
          "pattern": {
           "shape": ""
          }
         },
         "name": "ND",
         "offsetgroup": "ND",
         "orientation": "v",
         "showlegend": true,
         "textposition": "auto",
         "type": "bar",
         "x": [
          2001,
          2002,
          2003,
          2004,
          2005,
          2006,
          2007,
          2008,
          2009,
          2010,
          2011,
          2012,
          2013,
          2014,
          2015,
          2016,
          2017,
          2018,
          2019,
          2020,
          2021
         ],
         "xaxis": "x",
         "y": [
          30332072,
          31306306,
          31322124,
          29936111,
          31932619,
          30881138,
          31224103,
          32734574,
          34196465,
          34739539,
          35079900.129999995,
          36125158.93999999,
          35021672.79,
          36112578.57999999,
          37156613,
          37856454,
          41505077,
          42615320,
          41147321,
          42176429,
          42705232
         ],
         "yaxis": "y"
        },
        {
         "alignmentgroup": "True",
         "hovertemplate": "State=MT<br>Year=%{x}<br>Total Generated(MWh)=%{y}<extra></extra>",
         "legendgroup": "MT",
         "marker": {
          "color": "#636efa",
          "pattern": {
           "shape": ""
          }
         },
         "name": "MT",
         "offsetgroup": "MT",
         "orientation": "v",
         "showlegend": true,
         "textposition": "auto",
         "type": "bar",
         "x": [
          2001,
          2002,
          2003,
          2004,
          2005,
          2006,
          2007,
          2008,
          2009,
          2010,
          2011,
          2012,
          2013,
          2014,
          2015,
          2016,
          2017,
          2018,
          2019,
          2020,
          2021
         ],
         "xaxis": "x",
         "y": [
          24232487,
          25473706,
          26268728,
          26788772,
          27938777,
          28243535,
          28931503,
          29637143,
          26712731,
          29791179,
          30128542.660000008,
          27804783.7,
          27687326.36999999,
          30242531.460000012,
          29302406,
          27783530,
          28220944,
          28212833,
          27797079,
          23353290,
          24466637
         ],
         "yaxis": "y"
        },
        {
         "alignmentgroup": "True",
         "hovertemplate": "State=ME<br>Year=%{x}<br>Total Generated(MWh)=%{y}<extra></extra>",
         "legendgroup": "ME",
         "marker": {
          "color": "#EF553B",
          "pattern": {
           "shape": ""
          }
         },
         "name": "ME",
         "offsetgroup": "ME",
         "orientation": "v",
         "showlegend": true,
         "textposition": "auto",
         "type": "bar",
         "x": [
          2001,
          2002,
          2003,
          2004,
          2005,
          2006,
          2007,
          2008,
          2009,
          2010,
          2011,
          2012,
          2013,
          2014,
          2015,
          2016,
          2017,
          2018,
          2019,
          2020,
          2021
         ],
         "xaxis": "x",
         "y": [
          19564821,
          22535036,
          18971639,
          19098894,
          18843978,
          16816175,
          16128568,
          17094916,
          16349845,
          17018657,
          15973688.22999999,
          14428596.12999999,
          14030037.800000008,
          13154288.460000005,
          11741270,
          11514427,
          11264281,
          11280697,
          10490559,
          10001879,
          10952775
         ],
         "yaxis": "y"
        },
        {
         "alignmentgroup": "True",
         "hovertemplate": "State=NH<br>Year=%{x}<br>Total Generated(MWh)=%{y}<extra></extra>",
         "legendgroup": "NH",
         "marker": {
          "color": "#00cc96",
          "pattern": {
           "shape": ""
          }
         },
         "name": "NH",
         "offsetgroup": "NH",
         "orientation": "v",
         "showlegend": true,
         "textposition": "auto",
         "type": "bar",
         "x": [
          2001,
          2002,
          2003,
          2004,
          2005,
          2006,
          2007,
          2008,
          2009,
          2010,
          2011,
          2012,
          2013,
          2014,
          2015,
          2016,
          2017,
          2018,
          2019,
          2020,
          2021
         ],
         "xaxis": "x",
         "y": [
          15074624,
          15953078,
          21597107,
          23875791,
          24470010,
          22063691,
          23277170,
          22876990,
          20164122,
          22195920,
          20065941.110000003,
          19264435.04,
          19778520.580000002,
          19584207.76000001,
          20015899,
          19282498,
          17446841,
          17087156,
          18026597,
          16350582,
          17434999
         ],
         "yaxis": "y"
        },
        {
         "alignmentgroup": "True",
         "hovertemplate": "State=HI<br>Year=%{x}<br>Total Generated(MWh)=%{y}<extra></extra>",
         "legendgroup": "HI",
         "marker": {
          "color": "#ab63fa",
          "pattern": {
           "shape": ""
          }
         },
         "name": "HI",
         "offsetgroup": "HI",
         "orientation": "v",
         "showlegend": true,
         "textposition": "auto",
         "type": "bar",
         "x": [
          2001,
          2002,
          2003,
          2004,
          2005,
          2006,
          2007,
          2008,
          2009,
          2010,
          2011,
          2012,
          2013,
          2014,
          2015,
          2016,
          2017,
          2018,
          2019,
          2020,
          2021
         ],
         "xaxis": "x",
         "y": [
          10633092,
          11663072,
          10976371,
          11410405,
          11522807,
          11559175,
          11533349,
          11376381,
          11010537,
          10836038,
          10723332.999999998,
          10469268.740000004,
          10267052.469999997,
          9998065.729999997,
          10119497,
          9948848,
          9812966,
          9796779,
          9750007,
          9079012,
          9188089
         ],
         "yaxis": "y"
        },
        {
         "alignmentgroup": "True",
         "hovertemplate": "State=ID<br>Year=%{x}<br>Total Generated(MWh)=%{y}<extra></extra>",
         "legendgroup": "ID",
         "marker": {
          "color": "#FFA15A",
          "pattern": {
           "shape": ""
          }
         },
         "name": "ID",
         "offsetgroup": "ID",
         "orientation": "v",
         "showlegend": true,
         "textposition": "auto",
         "type": "bar",
         "x": [
          2001,
          2002,
          2003,
          2004,
          2005,
          2006,
          2007,
          2008,
          2009,
          2010,
          2011,
          2012,
          2013,
          2014,
          2015,
          2016,
          2017,
          2018,
          2019,
          2020,
          2021
         ],
         "xaxis": "x",
         "y": [
          9346942,
          9786932,
          10422936,
          10863035,
          10824983,
          13386085,
          11484094,
          11970554,
          13100153,
          12024565,
          16568786.019999994,
          15499089.350000005,
          15186128.319999987,
          15176262.539999997,
          15667090,
          15660937,
          17396032,
          18172120,
          18407814,
          17686137,
          16948581
         ],
         "yaxis": "y"
        },
        {
         "alignmentgroup": "True",
         "hovertemplate": "State=RI<br>Year=%{x}<br>Total Generated(MWh)=%{y}<extra></extra>",
         "legendgroup": "RI",
         "marker": {
          "color": "#19d3f3",
          "pattern": {
           "shape": ""
          }
         },
         "name": "RI",
         "offsetgroup": "RI",
         "orientation": "v",
         "showlegend": true,
         "textposition": "auto",
         "type": "bar",
         "x": [
          2001,
          2002,
          2003,
          2004,
          2005,
          2006,
          2007,
          2008,
          2009,
          2010,
          2011,
          2012,
          2013,
          2014,
          2015,
          2016,
          2017,
          2018,
          2019,
          2020,
          2021
         ],
         "xaxis": "x",
         "y": [
          7501892,
          7056759,
          5621141,
          4939425,
          6053297,
          5967725,
          7049846,
          7387265,
          7696823,
          7738722,
          8722272.590000002,
          8309035.840000001,
          6246806.780000001,
          6293116.9399999995,
          6939020,
          6564887,
          7614943,
          8375257,
          7624402,
          8894939,
          8035017
         ],
         "yaxis": "y"
        },
        {
         "alignmentgroup": "True",
         "hovertemplate": "State=SD<br>Year=%{x}<br>Total Generated(MWh)=%{y}<extra></extra>",
         "legendgroup": "SD",
         "marker": {
          "color": "#FF6692",
          "pattern": {
           "shape": ""
          }
         },
         "name": "SD",
         "offsetgroup": "SD",
         "orientation": "v",
         "showlegend": true,
         "textposition": "auto",
         "type": "bar",
         "x": [
          2001,
          2002,
          2003,
          2004,
          2005,
          2006,
          2007,
          2008,
          2009,
          2010,
          2011,
          2012,
          2013,
          2014,
          2015,
          2016,
          2017,
          2018,
          2019,
          2020,
          2021
         ],
         "xaxis": "x",
         "y": [
          7400743,
          7721958,
          7943837,
          7510216,
          6520771,
          7132242,
          6136605,
          7082669,
          8196534,
          10049634,
          11998885.540000003,
          12034206.09,
          10108886.530000001,
          11530227.04,
          9633036,
          11524181,
          10935715,
          12616392,
          14506644,
          14146536,
          17834631
         ],
         "yaxis": "y"
        },
        {
         "alignmentgroup": "True",
         "hovertemplate": "State=DE<br>Year=%{x}<br>Total Generated(MWh)=%{y}<extra></extra>",
         "legendgroup": "DE",
         "marker": {
          "color": "#B6E880",
          "pattern": {
           "shape": ""
          }
         },
         "name": "DE",
         "offsetgroup": "DE",
         "orientation": "v",
         "showlegend": true,
         "textposition": "auto",
         "type": "bar",
         "x": [
          2001,
          2002,
          2003,
          2004,
          2005,
          2006,
          2007,
          2008,
          2009,
          2010,
          2011,
          2012,
          2013,
          2014,
          2015,
          2016,
          2017,
          2018,
          2019,
          2020,
          2021
         ],
         "xaxis": "x",
         "y": [
          6807685,
          6002484,
          7392284,
          7855547,
          8136578,
          7182178,
          8534164,
          7523840,
          4841558,
          5627647,
          6590194.840000001,
          8633694.14,
          7760861.080000004,
          7626521.1899999995,
          7810004,
          8731272,
          7495983,
          6240644,
          5258537,
          5205369,
          4039976
         ],
         "yaxis": "y"
        },
        {
         "alignmentgroup": "True",
         "hovertemplate": "State=AK<br>Year=%{x}<br>Total Generated(MWh)=%{y}<extra></extra>",
         "legendgroup": "AK",
         "marker": {
          "color": "#FF97FF",
          "pattern": {
           "shape": ""
          }
         },
         "name": "AK",
         "offsetgroup": "AK",
         "orientation": "v",
         "showlegend": true,
         "textposition": "auto",
         "type": "bar",
         "x": [
          2001,
          2002,
          2003,
          2004,
          2005,
          2006,
          2007,
          2008,
          2009,
          2010,
          2011,
          2012,
          2013,
          2014,
          2015,
          2016,
          2017,
          2018,
          2019,
          2020,
          2021
         ],
         "xaxis": "x",
         "y": [
          6743766,
          6767323,
          6338733,
          6526722,
          6576658,
          6674195,
          6821389,
          6774837,
          6702158,
          6759575,
          6871032.9,
          6946419.169999998,
          6496821.7399999965,
          6148889.930000001,
          6284933,
          6335031,
          6497469,
          6247364,
          6070842,
          6276443,
          5943530
         ],
         "yaxis": "y"
        },
        {
         "alignmentgroup": "True",
         "hovertemplate": "State=VT<br>Year=%{x}<br>Total Generated(MWh)=%{y}<extra></extra>",
         "legendgroup": "VT",
         "marker": {
          "color": "#FECB52",
          "pattern": {
           "shape": ""
          }
         },
         "name": "VT",
         "offsetgroup": "VT",
         "orientation": "v",
         "showlegend": true,
         "textposition": "auto",
         "type": "bar",
         "x": [
          2001,
          2002,
          2003,
          2004,
          2005,
          2006,
          2007,
          2008,
          2009,
          2010,
          2011,
          2012,
          2013,
          2014,
          2015,
          2016,
          2017,
          2018,
          2019,
          2020,
          2021
         ],
         "xaxis": "x",
         "y": [
          5480614,
          5456189,
          6027963,
          5470381,
          5716760,
          7084345,
          5823581,
          6820220,
          7282350,
          6619989,
          6776218.800000001,
          6569670.119999996,
          6884910.080000001,
          6996610.800000003,
          1982051,
          1911206,
          2141387,
          2178918,
          2289797,
          2156411,
          2147738
         ],
         "yaxis": "y"
        },
        {
         "alignmentgroup": "True",
         "hovertemplate": "State=DC<br>Year=%{x}<br>Total Generated(MWh)=%{y}<extra></extra>",
         "legendgroup": "DC",
         "marker": {
          "color": "#636efa",
          "pattern": {
           "shape": ""
          }
         },
         "name": "DC",
         "offsetgroup": "DC",
         "orientation": "v",
         "showlegend": true,
         "textposition": "auto",
         "type": "bar",
         "x": [
          2001,
          2002,
          2003,
          2004,
          2005,
          2006,
          2007,
          2008,
          2009,
          2010,
          2011,
          2012,
          2013,
          2014,
          2015,
          2016,
          2017,
          2018,
          2019,
          2020,
          2021
         ],
         "xaxis": "x",
         "y": [
          123239,
          261980,
          74144,
          36487,
          226042,
          81467,
          75251,
          72316,
          35499,
          199858,
          200873.96000000002,
          71786.78,
          65852.09,
          64972.45999999999,
          53748,
          76469,
          66871,
          79331,
          174080,
          201106,
          218241
         ],
         "yaxis": "y"
        }
       ],
       "layout": {
        "barmode": "relative",
        "legend": {
         "title": {
          "text": "State"
         },
         "tracegroupgap": 0
        },
        "template": {
         "data": {
          "bar": [
           {
            "error_x": {
             "color": "#2a3f5f"
            },
            "error_y": {
             "color": "#2a3f5f"
            },
            "marker": {
             "line": {
              "color": "#E5ECF6",
              "width": 0.5
             },
             "pattern": {
              "fillmode": "overlay",
              "size": 10,
              "solidity": 0.2
             }
            },
            "type": "bar"
           }
          ],
          "barpolar": [
           {
            "marker": {
             "line": {
              "color": "#E5ECF6",
              "width": 0.5
             },
             "pattern": {
              "fillmode": "overlay",
              "size": 10,
              "solidity": 0.2
             }
            },
            "type": "barpolar"
           }
          ],
          "carpet": [
           {
            "aaxis": {
             "endlinecolor": "#2a3f5f",
             "gridcolor": "white",
             "linecolor": "white",
             "minorgridcolor": "white",
             "startlinecolor": "#2a3f5f"
            },
            "baxis": {
             "endlinecolor": "#2a3f5f",
             "gridcolor": "white",
             "linecolor": "white",
             "minorgridcolor": "white",
             "startlinecolor": "#2a3f5f"
            },
            "type": "carpet"
           }
          ],
          "choropleth": [
           {
            "colorbar": {
             "outlinewidth": 0,
             "ticks": ""
            },
            "type": "choropleth"
           }
          ],
          "contour": [
           {
            "colorbar": {
             "outlinewidth": 0,
             "ticks": ""
            },
            "colorscale": [
             [
              0,
              "#0d0887"
             ],
             [
              0.1111111111111111,
              "#46039f"
             ],
             [
              0.2222222222222222,
              "#7201a8"
             ],
             [
              0.3333333333333333,
              "#9c179e"
             ],
             [
              0.4444444444444444,
              "#bd3786"
             ],
             [
              0.5555555555555556,
              "#d8576b"
             ],
             [
              0.6666666666666666,
              "#ed7953"
             ],
             [
              0.7777777777777778,
              "#fb9f3a"
             ],
             [
              0.8888888888888888,
              "#fdca26"
             ],
             [
              1,
              "#f0f921"
             ]
            ],
            "type": "contour"
           }
          ],
          "contourcarpet": [
           {
            "colorbar": {
             "outlinewidth": 0,
             "ticks": ""
            },
            "type": "contourcarpet"
           }
          ],
          "heatmap": [
           {
            "colorbar": {
             "outlinewidth": 0,
             "ticks": ""
            },
            "colorscale": [
             [
              0,
              "#0d0887"
             ],
             [
              0.1111111111111111,
              "#46039f"
             ],
             [
              0.2222222222222222,
              "#7201a8"
             ],
             [
              0.3333333333333333,
              "#9c179e"
             ],
             [
              0.4444444444444444,
              "#bd3786"
             ],
             [
              0.5555555555555556,
              "#d8576b"
             ],
             [
              0.6666666666666666,
              "#ed7953"
             ],
             [
              0.7777777777777778,
              "#fb9f3a"
             ],
             [
              0.8888888888888888,
              "#fdca26"
             ],
             [
              1,
              "#f0f921"
             ]
            ],
            "type": "heatmap"
           }
          ],
          "heatmapgl": [
           {
            "colorbar": {
             "outlinewidth": 0,
             "ticks": ""
            },
            "colorscale": [
             [
              0,
              "#0d0887"
             ],
             [
              0.1111111111111111,
              "#46039f"
             ],
             [
              0.2222222222222222,
              "#7201a8"
             ],
             [
              0.3333333333333333,
              "#9c179e"
             ],
             [
              0.4444444444444444,
              "#bd3786"
             ],
             [
              0.5555555555555556,
              "#d8576b"
             ],
             [
              0.6666666666666666,
              "#ed7953"
             ],
             [
              0.7777777777777778,
              "#fb9f3a"
             ],
             [
              0.8888888888888888,
              "#fdca26"
             ],
             [
              1,
              "#f0f921"
             ]
            ],
            "type": "heatmapgl"
           }
          ],
          "histogram": [
           {
            "marker": {
             "pattern": {
              "fillmode": "overlay",
              "size": 10,
              "solidity": 0.2
             }
            },
            "type": "histogram"
           }
          ],
          "histogram2d": [
           {
            "colorbar": {
             "outlinewidth": 0,
             "ticks": ""
            },
            "colorscale": [
             [
              0,
              "#0d0887"
             ],
             [
              0.1111111111111111,
              "#46039f"
             ],
             [
              0.2222222222222222,
              "#7201a8"
             ],
             [
              0.3333333333333333,
              "#9c179e"
             ],
             [
              0.4444444444444444,
              "#bd3786"
             ],
             [
              0.5555555555555556,
              "#d8576b"
             ],
             [
              0.6666666666666666,
              "#ed7953"
             ],
             [
              0.7777777777777778,
              "#fb9f3a"
             ],
             [
              0.8888888888888888,
              "#fdca26"
             ],
             [
              1,
              "#f0f921"
             ]
            ],
            "type": "histogram2d"
           }
          ],
          "histogram2dcontour": [
           {
            "colorbar": {
             "outlinewidth": 0,
             "ticks": ""
            },
            "colorscale": [
             [
              0,
              "#0d0887"
             ],
             [
              0.1111111111111111,
              "#46039f"
             ],
             [
              0.2222222222222222,
              "#7201a8"
             ],
             [
              0.3333333333333333,
              "#9c179e"
             ],
             [
              0.4444444444444444,
              "#bd3786"
             ],
             [
              0.5555555555555556,
              "#d8576b"
             ],
             [
              0.6666666666666666,
              "#ed7953"
             ],
             [
              0.7777777777777778,
              "#fb9f3a"
             ],
             [
              0.8888888888888888,
              "#fdca26"
             ],
             [
              1,
              "#f0f921"
             ]
            ],
            "type": "histogram2dcontour"
           }
          ],
          "mesh3d": [
           {
            "colorbar": {
             "outlinewidth": 0,
             "ticks": ""
            },
            "type": "mesh3d"
           }
          ],
          "parcoords": [
           {
            "line": {
             "colorbar": {
              "outlinewidth": 0,
              "ticks": ""
             }
            },
            "type": "parcoords"
           }
          ],
          "pie": [
           {
            "automargin": true,
            "type": "pie"
           }
          ],
          "scatter": [
           {
            "marker": {
             "colorbar": {
              "outlinewidth": 0,
              "ticks": ""
             }
            },
            "type": "scatter"
           }
          ],
          "scatter3d": [
           {
            "line": {
             "colorbar": {
              "outlinewidth": 0,
              "ticks": ""
             }
            },
            "marker": {
             "colorbar": {
              "outlinewidth": 0,
              "ticks": ""
             }
            },
            "type": "scatter3d"
           }
          ],
          "scattercarpet": [
           {
            "marker": {
             "colorbar": {
              "outlinewidth": 0,
              "ticks": ""
             }
            },
            "type": "scattercarpet"
           }
          ],
          "scattergeo": [
           {
            "marker": {
             "colorbar": {
              "outlinewidth": 0,
              "ticks": ""
             }
            },
            "type": "scattergeo"
           }
          ],
          "scattergl": [
           {
            "marker": {
             "colorbar": {
              "outlinewidth": 0,
              "ticks": ""
             }
            },
            "type": "scattergl"
           }
          ],
          "scattermapbox": [
           {
            "marker": {
             "colorbar": {
              "outlinewidth": 0,
              "ticks": ""
             }
            },
            "type": "scattermapbox"
           }
          ],
          "scatterpolar": [
           {
            "marker": {
             "colorbar": {
              "outlinewidth": 0,
              "ticks": ""
             }
            },
            "type": "scatterpolar"
           }
          ],
          "scatterpolargl": [
           {
            "marker": {
             "colorbar": {
              "outlinewidth": 0,
              "ticks": ""
             }
            },
            "type": "scatterpolargl"
           }
          ],
          "scatterternary": [
           {
            "marker": {
             "colorbar": {
              "outlinewidth": 0,
              "ticks": ""
             }
            },
            "type": "scatterternary"
           }
          ],
          "surface": [
           {
            "colorbar": {
             "outlinewidth": 0,
             "ticks": ""
            },
            "colorscale": [
             [
              0,
              "#0d0887"
             ],
             [
              0.1111111111111111,
              "#46039f"
             ],
             [
              0.2222222222222222,
              "#7201a8"
             ],
             [
              0.3333333333333333,
              "#9c179e"
             ],
             [
              0.4444444444444444,
              "#bd3786"
             ],
             [
              0.5555555555555556,
              "#d8576b"
             ],
             [
              0.6666666666666666,
              "#ed7953"
             ],
             [
              0.7777777777777778,
              "#fb9f3a"
             ],
             [
              0.8888888888888888,
              "#fdca26"
             ],
             [
              1,
              "#f0f921"
             ]
            ],
            "type": "surface"
           }
          ],
          "table": [
           {
            "cells": {
             "fill": {
              "color": "#EBF0F8"
             },
             "line": {
              "color": "white"
             }
            },
            "header": {
             "fill": {
              "color": "#C8D4E3"
             },
             "line": {
              "color": "white"
             }
            },
            "type": "table"
           }
          ]
         },
         "layout": {
          "annotationdefaults": {
           "arrowcolor": "#2a3f5f",
           "arrowhead": 0,
           "arrowwidth": 1
          },
          "autotypenumbers": "strict",
          "coloraxis": {
           "colorbar": {
            "outlinewidth": 0,
            "ticks": ""
           }
          },
          "colorscale": {
           "diverging": [
            [
             0,
             "#8e0152"
            ],
            [
             0.1,
             "#c51b7d"
            ],
            [
             0.2,
             "#de77ae"
            ],
            [
             0.3,
             "#f1b6da"
            ],
            [
             0.4,
             "#fde0ef"
            ],
            [
             0.5,
             "#f7f7f7"
            ],
            [
             0.6,
             "#e6f5d0"
            ],
            [
             0.7,
             "#b8e186"
            ],
            [
             0.8,
             "#7fbc41"
            ],
            [
             0.9,
             "#4d9221"
            ],
            [
             1,
             "#276419"
            ]
           ],
           "sequential": [
            [
             0,
             "#0d0887"
            ],
            [
             0.1111111111111111,
             "#46039f"
            ],
            [
             0.2222222222222222,
             "#7201a8"
            ],
            [
             0.3333333333333333,
             "#9c179e"
            ],
            [
             0.4444444444444444,
             "#bd3786"
            ],
            [
             0.5555555555555556,
             "#d8576b"
            ],
            [
             0.6666666666666666,
             "#ed7953"
            ],
            [
             0.7777777777777778,
             "#fb9f3a"
            ],
            [
             0.8888888888888888,
             "#fdca26"
            ],
            [
             1,
             "#f0f921"
            ]
           ],
           "sequentialminus": [
            [
             0,
             "#0d0887"
            ],
            [
             0.1111111111111111,
             "#46039f"
            ],
            [
             0.2222222222222222,
             "#7201a8"
            ],
            [
             0.3333333333333333,
             "#9c179e"
            ],
            [
             0.4444444444444444,
             "#bd3786"
            ],
            [
             0.5555555555555556,
             "#d8576b"
            ],
            [
             0.6666666666666666,
             "#ed7953"
            ],
            [
             0.7777777777777778,
             "#fb9f3a"
            ],
            [
             0.8888888888888888,
             "#fdca26"
            ],
            [
             1,
             "#f0f921"
            ]
           ]
          },
          "colorway": [
           "#636efa",
           "#EF553B",
           "#00cc96",
           "#ab63fa",
           "#FFA15A",
           "#19d3f3",
           "#FF6692",
           "#B6E880",
           "#FF97FF",
           "#FECB52"
          ],
          "font": {
           "color": "#2a3f5f"
          },
          "geo": {
           "bgcolor": "white",
           "lakecolor": "white",
           "landcolor": "#E5ECF6",
           "showlakes": true,
           "showland": true,
           "subunitcolor": "white"
          },
          "hoverlabel": {
           "align": "left"
          },
          "hovermode": "closest",
          "mapbox": {
           "style": "light"
          },
          "paper_bgcolor": "white",
          "plot_bgcolor": "#E5ECF6",
          "polar": {
           "angularaxis": {
            "gridcolor": "white",
            "linecolor": "white",
            "ticks": ""
           },
           "bgcolor": "#E5ECF6",
           "radialaxis": {
            "gridcolor": "white",
            "linecolor": "white",
            "ticks": ""
           }
          },
          "scene": {
           "xaxis": {
            "backgroundcolor": "#E5ECF6",
            "gridcolor": "white",
            "gridwidth": 2,
            "linecolor": "white",
            "showbackground": true,
            "ticks": "",
            "zerolinecolor": "white"
           },
           "yaxis": {
            "backgroundcolor": "#E5ECF6",
            "gridcolor": "white",
            "gridwidth": 2,
            "linecolor": "white",
            "showbackground": true,
            "ticks": "",
            "zerolinecolor": "white"
           },
           "zaxis": {
            "backgroundcolor": "#E5ECF6",
            "gridcolor": "white",
            "gridwidth": 2,
            "linecolor": "white",
            "showbackground": true,
            "ticks": "",
            "zerolinecolor": "white"
           }
          },
          "shapedefaults": {
           "line": {
            "color": "#2a3f5f"
           }
          },
          "ternary": {
           "aaxis": {
            "gridcolor": "white",
            "linecolor": "white",
            "ticks": ""
           },
           "baxis": {
            "gridcolor": "white",
            "linecolor": "white",
            "ticks": ""
           },
           "bgcolor": "#E5ECF6",
           "caxis": {
            "gridcolor": "white",
            "linecolor": "white",
            "ticks": ""
           }
          },
          "title": {
           "x": 0.05
          },
          "xaxis": {
           "automargin": true,
           "gridcolor": "white",
           "linecolor": "white",
           "ticks": "",
           "title": {
            "standoff": 15
           },
           "zerolinecolor": "white",
           "zerolinewidth": 2
          },
          "yaxis": {
           "automargin": true,
           "gridcolor": "white",
           "linecolor": "white",
           "ticks": "",
           "title": {
            "standoff": 15
           },
           "zerolinecolor": "white",
           "zerolinewidth": 2
          }
         }
        },
        "title": {
         "text": "TOTAL Energy Generated Each Year"
        },
        "xaxis": {
         "anchor": "y",
         "domain": [
          0,
          1
         ],
         "title": {
          "text": "Year"
         }
        },
        "yaxis": {
         "anchor": "x",
         "domain": [
          0,
          1
         ],
         "title": {
          "text": "Total Generated(MWh)"
         }
        }
       }
      },
      "text/html": [
       "<div>                            <div id=\"02c653a4-7f93-4f0d-82d2-5ee1c8cc27f3\" class=\"plotly-graph-div\" style=\"height:525px; width:100%;\"></div>            <script type=\"text/javascript\">                require([\"plotly\"], function(Plotly) {                    window.PLOTLYENV=window.PLOTLYENV || {};                                    if (document.getElementById(\"02c653a4-7f93-4f0d-82d2-5ee1c8cc27f3\")) {                    Plotly.newPlot(                        \"02c653a4-7f93-4f0d-82d2-5ee1c8cc27f3\",                        [{\"alignmentgroup\":\"True\",\"hovertemplate\":\"State=TX<br>Year=%{x}<br>Total Generated(MWh)=%{y}<extra></extra>\",\"legendgroup\":\"TX\",\"marker\":{\"color\":\"#636efa\",\"pattern\":{\"shape\":\"\"}},\"name\":\"TX\",\"offsetgroup\":\"TX\",\"orientation\":\"v\",\"showlegend\":true,\"textposition\":\"auto\",\"x\":[2001,2002,2003,2004,2005,2006,2007,2008,2009,2010,2011,2012,2013,2014,2015,2016,2017,2018,2019,2020,2021],\"xaxis\":\"x\",\"y\":[372580005.0,385628540.0,379199685.0,390299148.0,396668727.0,400582880.0,405492289.0,404787783.0,397167903.0,411695049.0,435476923.8399998,429812509.9700002,433380165.86000025,437236406.77,449826340.0,454047593.0,452794380.0,477352431.0,483201027.0,473514914.0,483561769.0],\"yaxis\":\"y\",\"type\":\"bar\"},{\"alignmentgroup\":\"True\",\"hovertemplate\":\"State=CA<br>Year=%{x}<br>Total Generated(MWh)=%{y}<extra></extra>\",\"legendgroup\":\"CA\",\"marker\":{\"color\":\"#EF553B\",\"pattern\":{\"shape\":\"\"}},\"name\":\"CA\",\"offsetgroup\":\"CA\",\"orientation\":\"v\",\"showlegend\":true,\"textposition\":\"auto\",\"x\":[2001,2002,2003,2004,2005,2006,2007,2008,2009,2010,2011,2012,2013,2014,2015,2016,2017,2018,2019,2020,2021],\"xaxis\":\"x\",\"y\":[198596072.0,184210032.0,192788542.0,194780362.0,200292813.0,216798689.0,210847585.0,207984265.0,204776141.0,204125606.0,200804842.7699999,199518566.81000018,200077114.8299998,197704742.23,196703848.0,196963225.0,206146518.0,195465640.0,201784202.0,193074939.0,196727116.0],\"yaxis\":\"y\",\"type\":\"bar\"},{\"alignmentgroup\":\"True\",\"hovertemplate\":\"State=PA<br>Year=%{x}<br>Total Generated(MWh)=%{y}<extra></extra>\",\"legendgroup\":\"PA\",\"marker\":{\"color\":\"#00cc96\",\"pattern\":{\"shape\":\"\"}},\"name\":\"PA\",\"offsetgroup\":\"PA\",\"orientation\":\"v\",\"showlegend\":true,\"textposition\":\"auto\",\"x\":[2001,2002,2003,2004,2005,2006,2007,2008,2009,2010,2011,2012,2013,2014,2015,2016,2017,2018,2019,2020,2021],\"xaxis\":\"x\",\"y\":[196576590.0,204322879.0,206349515.0,214658499.0,218091134.0,218811600.0,226088345.0,222350938.0,219496145.0,229752315.0,227636139.64000005,223419715.67000005,226785630.50999993,221709452.18000013,214572305.0,215066511.0,213639299.0,215385830.0,228995336.0,230143281.0,241648365.0],\"yaxis\":\"y\",\"type\":\"bar\"},{\"alignmentgroup\":\"True\",\"hovertemplate\":\"State=FL<br>Year=%{x}<br>Total Generated(MWh)=%{y}<extra></extra>\",\"legendgroup\":\"FL\",\"marker\":{\"color\":\"#ab63fa\",\"pattern\":{\"shape\":\"\"}},\"name\":\"FL\",\"offsetgroup\":\"FL\",\"orientation\":\"v\",\"showlegend\":true,\"textposition\":\"auto\",\"x\":[2001,2002,2003,2004,2005,2006,2007,2008,2009,2010,2011,2012,2013,2014,2015,2016,2017,2018,2019,2020,2021],\"xaxis\":\"x\",\"y\":[190945343.0,203352773.0,212610013.0,218117924.0,220256414.0,223751621.0,225416070.0,219636829.0,217952315.0,229095941.0,221894574.25999993,221096136.13000003,222398924.2,231062160.43000013,237412630.0,238262141.0,238413436.0,244252041.0,245603489.0,250827799.0,244401038.0],\"yaxis\":\"y\",\"type\":\"bar\"},{\"alignmentgroup\":\"True\",\"hovertemplate\":\"State=IL<br>Year=%{x}<br>Total Generated(MWh)=%{y}<extra></extra>\",\"legendgroup\":\"IL\",\"marker\":{\"color\":\"#FFA15A\",\"pattern\":{\"shape\":\"\"}},\"name\":\"IL\",\"offsetgroup\":\"IL\",\"orientation\":\"v\",\"showlegend\":true,\"textposition\":\"auto\",\"x\":[2001,2002,2003,2004,2005,2006,2007,2008,2009,2010,2011,2012,2013,2014,2015,2016,2017,2018,2019,2020,2021],\"xaxis\":\"x\",\"y\":[179249282.0,188054455.0,189055262.0,191957779.0,194120144.0,192426964.0,200260686.0,199475174.0,193864366.0,201351874.0,199499728.24000004,197565362.83000007,203004919.67000008,202352425.76000002,193952044.0,187289136.0,183591568.0,188003357.0,184470055.0,173394537.0,181859377.0],\"yaxis\":\"y\",\"type\":\"bar\"},{\"alignmentgroup\":\"True\",\"hovertemplate\":\"State=NY<br>Year=%{x}<br>Total Generated(MWh)=%{y}<extra></extra>\",\"legendgroup\":\"NY\",\"marker\":{\"color\":\"#19d3f3\",\"pattern\":{\"shape\":\"\"}},\"name\":\"NY\",\"offsetgroup\":\"NY\",\"orientation\":\"v\",\"showlegend\":true,\"textposition\":\"auto\",\"x\":[2001,2002,2003,2004,2005,2006,2007,2008,2009,2010,2011,2012,2013,2014,2015,2016,2017,2018,2019,2020,2021],\"xaxis\":\"x\",\"y\":[143914556.0,139591688.0,137643315.0,137964803.0,146887426.0,142265439.0,145878689.0,140322095.0,133150559.0,136961659.0,137607868.14,135768251.25000006,136116830.09999993,136275373.08000016,138627721.0,134417111.0,128065081.0,132520504.0,131603283.0,129430273.0,125226026.0],\"yaxis\":\"y\",\"type\":\"bar\"},{\"alignmentgroup\":\"True\",\"hovertemplate\":\"State=OH<br>Year=%{x}<br>Total Generated(MWh)=%{y}<extra></extra>\",\"legendgroup\":\"OH\",\"marker\":{\"color\":\"#FF6692\",\"pattern\":{\"shape\":\"\"}},\"name\":\"OH\",\"offsetgroup\":\"OH\",\"orientation\":\"v\",\"showlegend\":true,\"textposition\":\"auto\",\"x\":[2001,2002,2003,2004,2005,2006,2007,2008,2009,2010,2011,2012,2013,2014,2015,2016,2017,2018,2019,2020,2021],\"xaxis\":\"x\",\"y\":[142261809.0,147068847.0,146638134.0,148345902.0,156976328.0,155434073.0,155155549.0,153412250.0,136090221.0,143598338.0,135585804.63000005,129745730.71000002,137284188.83000004,134602213.48000005,121893401.0,118922063.0,119554368.0,126184608.0,120001123.0,120992735.0,123335613.0],\"yaxis\":\"y\",\"type\":\"bar\"},{\"alignmentgroup\":\"True\",\"hovertemplate\":\"State=AL<br>Year=%{x}<br>Total Generated(MWh)=%{y}<extra></extra>\",\"legendgroup\":\"AL\",\"marker\":{\"color\":\"#B6E880\",\"pattern\":{\"shape\":\"\"}},\"name\":\"AL\",\"offsetgroup\":\"AL\",\"orientation\":\"v\",\"showlegend\":true,\"textposition\":\"auto\",\"x\":[2001,2002,2003,2004,2005,2006,2007,2008,2009,2010,2011,2012,2013,2014,2015,2016,2017,2018,2019,2020,2021],\"xaxis\":\"x\",\"y\":[125345113.0,132920673.0,137487221.0,137354767.0,137948574.0,140895443.0,143826269.0,145869896.0,143255560.0,152150510.0,156339209.94999996,152878687.79999992,150572923.93999997,149962563.07000005,152477427.0,142385096.0,139964248.0,145057996.0,142679432.0,137542696.0,142955133.0],\"yaxis\":\"y\",\"type\":\"bar\"},{\"alignmentgroup\":\"True\",\"hovertemplate\":\"State=IN<br>Year=%{x}<br>Total Generated(MWh)=%{y}<extra></extra>\",\"legendgroup\":\"IN\",\"marker\":{\"color\":\"#FF97FF\",\"pattern\":{\"shape\":\"\"}},\"name\":\"IN\",\"offsetgroup\":\"IN\",\"orientation\":\"v\",\"showlegend\":true,\"textposition\":\"auto\",\"x\":[2001,2002,2003,2004,2005,2006,2007,2008,2009,2010,2011,2012,2013,2014,2015,2016,2017,2018,2019,2020,2021],\"xaxis\":\"x\",\"y\":[122569671.0,125608143.0,124888223.0,127770404.0,130371568.0,130489790.0,130638000.0,129510293.0,116670281.0,125180735.0,122131414.11000003,114695729.41000006,110403477.20999998,115633622.32999997,104019268.0,101759065.0,98929813.0,113459711.0,102505382.0,89956918.0,94565161.0],\"yaxis\":\"y\",\"type\":\"bar\"},{\"alignmentgroup\":\"True\",\"hovertemplate\":\"State=GA<br>Year=%{x}<br>Total Generated(MWh)=%{y}<extra></extra>\",\"legendgroup\":\"GA\",\"marker\":{\"color\":\"#FECB52\",\"pattern\":{\"shape\":\"\"}},\"name\":\"GA\",\"offsetgroup\":\"GA\",\"orientation\":\"v\",\"showlegend\":true,\"textposition\":\"auto\",\"x\":[2001,2002,2003,2004,2005,2006,2007,2008,2009,2010,2011,2012,2013,2014,2015,2016,2017,2018,2019,2020,2021],\"xaxis\":\"x\",\"y\":[118316789.0,126512214.0,124076832.0,126812719.0,136667894.0,138010206.0,145155152.0,136173402.0,128698377.0,137576939.0,124774237.31000003,122306363.94999999,120953734.39999996,125957134.00999999,128817889.0,133380413.0,127455319.0,129239379.0,128691566.0,120125999.0,126530745.0],\"yaxis\":\"y\",\"type\":\"bar\"},{\"alignmentgroup\":\"True\",\"hovertemplate\":\"State=NC<br>Year=%{x}<br>Total Generated(MWh)=%{y}<extra></extra>\",\"legendgroup\":\"NC\",\"marker\":{\"color\":\"#636efa\",\"pattern\":{\"shape\":\"\"}},\"name\":\"NC\",\"offsetgroup\":\"NC\",\"orientation\":\"v\",\"showlegend\":true,\"textposition\":\"auto\",\"x\":[2001,2002,2003,2004,2005,2006,2007,2008,2009,2010,2011,2012,2013,2014,2015,2016,2017,2018,2019,2020,2021],\"xaxis\":\"x\",\"y\":[117495851.0,124468026.0,127582321.0,126329962.0,129748582.0,125214786.0,130115295.0,125239062.0,118407401.0,128678483.0,118389855.03999999,116681763.24000007,125936293.47999994,128903904.24999993,128388445.0,130779155.0,128468116.0,134249499.0,131173856.0,124363444.0,131262686.0],\"yaxis\":\"y\",\"type\":\"bar\"},{\"alignmentgroup\":\"True\",\"hovertemplate\":\"State=MI<br>Year=%{x}<br>Total Generated(MWh)=%{y}<extra></extra>\",\"legendgroup\":\"MI\",\"marker\":{\"color\":\"#EF553B\",\"pattern\":{\"shape\":\"\"}},\"name\":\"MI\",\"offsetgroup\":\"MI\",\"orientation\":\"v\",\"showlegend\":true,\"textposition\":\"auto\",\"x\":[2001,2002,2003,2004,2005,2006,2007,2008,2009,2010,2011,2012,2013,2014,2015,2016,2017,2018,2019,2020,2021],\"xaxis\":\"x\",\"y\":[111845610.0,117889086.0,111347061.0,118487270.0,121619776.0,112556731.0,119309942.0,114989800.0,101202612.0,111551380.0,109169507.16000016,108166077.85000001,105417800.69999999,105820820.03999998,113008049.0,112121797.0,112313502.0,115837098.0,116701342.0,106624721.0,116045383.0],\"yaxis\":\"y\",\"type\":\"bar\"},{\"alignmentgroup\":\"True\",\"hovertemplate\":\"State=TN<br>Year=%{x}<br>Total Generated(MWh)=%{y}<extra></extra>\",\"legendgroup\":\"TN\",\"marker\":{\"color\":\"#00cc96\",\"pattern\":{\"shape\":\"\"}},\"name\":\"TN\",\"offsetgroup\":\"TN\",\"orientation\":\"v\",\"showlegend\":true,\"textposition\":\"auto\",\"x\":[2001,2002,2003,2004,2005,2006,2007,2008,2009,2010,2011,2012,2013,2014,2015,2016,2017,2018,2019,2020,2021],\"xaxis\":\"x\",\"y\":[96221976.0,96114266.0,92221799.0,97594551.0,97117165.0,93911104.0,95113410.0,90663312.0,79716892.0,82348621.0,81103862.31000002,77724263.89000002,79651619.58000009,80256937.74000001,75214641.0,79340638.0,79046219.0,81554914.0,82327116.0,80566009.0,81478887.0],\"yaxis\":\"y\",\"type\":\"bar\"},{\"alignmentgroup\":\"True\",\"hovertemplate\":\"State=KY<br>Year=%{x}<br>Total Generated(MWh)=%{y}<extra></extra>\",\"legendgroup\":\"KY\",\"marker\":{\"color\":\"#ab63fa\",\"pattern\":{\"shape\":\"\"}},\"name\":\"KY\",\"offsetgroup\":\"KY\",\"orientation\":\"v\",\"showlegend\":true,\"textposition\":\"auto\",\"x\":[2001,2002,2003,2004,2005,2006,2007,2008,2009,2010,2011,2012,2013,2014,2015,2016,2017,2018,2019,2020,2021],\"xaxis\":\"x\",\"y\":[95417625.0,92106668.0,91718817.0,94529945.0,97822424.0,98792014.0,97225318.0,97863340.0,90630423.0,98217655.0,98350982.24000001,89949688.84000005,89741021.24999999,90736783.07,83543664.0,80273504.0,73179188.0,78804503.0,71804253.0,63539006.0,70554259.0],\"yaxis\":\"y\",\"type\":\"bar\"},{\"alignmentgroup\":\"True\",\"hovertemplate\":\"State=AZ<br>Year=%{x}<br>Total Generated(MWh)=%{y}<extra></extra>\",\"legendgroup\":\"AZ\",\"marker\":{\"color\":\"#FFA15A\",\"pattern\":{\"shape\":\"\"}},\"name\":\"AZ\",\"offsetgroup\":\"AZ\",\"orientation\":\"v\",\"showlegend\":true,\"textposition\":\"auto\",\"x\":[2001,2002,2003,2004,2005,2006,2007,2008,2009,2010,2011,2012,2013,2014,2015,2016,2017,2018,2019,2020,2021],\"xaxis\":\"x\",\"y\":[89911272.0,94131661.0,94396218.0,104564139.0,101478648.0,104392526.0,113340970.0,119459172.0,111971249.0,111750959.0,108125357.05999997,110904993.74000005,113325986.18999998,112379276.18000005,113142051.0,108763448.0,105851768.0,111925139.0,113551989.0,109305061.0,108608535.0],\"yaxis\":\"y\",\"type\":\"bar\"},{\"alignmentgroup\":\"True\",\"hovertemplate\":\"State=SC<br>Year=%{x}<br>Total Generated(MWh)=%{y}<extra></extra>\",\"legendgroup\":\"SC\",\"marker\":{\"color\":\"#19d3f3\",\"pattern\":{\"shape\":\"\"}},\"name\":\"SC\",\"offsetgroup\":\"SC\",\"orientation\":\"v\",\"showlegend\":true,\"textposition\":\"auto\",\"x\":[2001,2002,2003,2004,2005,2006,2007,2008,2009,2010,2011,2012,2013,2014,2015,2016,2017,2018,2019,2020,2021],\"xaxis\":\"x\",\"y\":[89158990.0,96563496.0,93772679.0,97939931.0,102514657.0,99267606.0,103402136.0,100978011.0,100125486.0,104153132.0,102972567.32999997,96755682.00999999,95249894.10000004,97095321.47999999,96532213.0,96985768.0,93080943.0,99364084.0,100107510.0,98528808.0,99924409.0],\"yaxis\":\"y\",\"type\":\"bar\"},{\"alignmentgroup\":\"True\",\"hovertemplate\":\"State=LA<br>Year=%{x}<br>Total Generated(MWh)=%{y}<extra></extra>\",\"legendgroup\":\"LA\",\"marker\":{\"color\":\"#FF6692\",\"pattern\":{\"shape\":\"\"}},\"name\":\"LA\",\"offsetgroup\":\"LA\",\"orientation\":\"v\",\"showlegend\":true,\"textposition\":\"auto\",\"x\":[2001,2002,2003,2004,2005,2006,2007,2008,2009,2010,2011,2012,2013,2014,2015,2016,2017,2018,2019,2020,2021],\"xaxis\":\"x\",\"y\":[87894379.0,94970964.0,94885041.0,98172296.0,92616878.0,90921830.0,92578327.0,92453137.0,90993681.0,102884943.0,105490737.03,103407705.85000004,102010177.02,103992084.69000003,107812355.0,107268801.0,97719216.0,102128483.0,100174762.0,100773776.0,98061967.0],\"yaxis\":\"y\",\"type\":\"bar\"},{\"alignmentgroup\":\"True\",\"hovertemplate\":\"State=WA<br>Year=%{x}<br>Total Generated(MWh)=%{y}<extra></extra>\",\"legendgroup\":\"WA\",\"marker\":{\"color\":\"#B6E880\",\"pattern\":{\"shape\":\"\"}},\"name\":\"WA\",\"offsetgroup\":\"WA\",\"orientation\":\"v\",\"showlegend\":true,\"textposition\":\"auto\",\"x\":[2001,2002,2003,2004,2005,2006,2007,2008,2009,2010,2011,2012,2013,2014,2015,2016,2017,2018,2019,2020,2021],\"xaxis\":\"x\",\"y\":[83048670.0,102765050.0,100094687.0,102165055.0,101965854.0,108203152.0,106990209.0,110828460.0,104470128.0,103472724.0,115262600.95000009,116835473.66999993,114172916.34000008,115362583.74,109287463.0,114086577.0,115912082.0,116756733.0,106463607.0,116114469.0,109122726.0],\"yaxis\":\"y\",\"type\":\"bar\"},{\"alignmentgroup\":\"True\",\"hovertemplate\":\"State=WV<br>Year=%{x}<br>Total Generated(MWh)=%{y}<extra></extra>\",\"legendgroup\":\"WV\",\"marker\":{\"color\":\"#FF97FF\",\"pattern\":{\"shape\":\"\"}},\"name\":\"WV\",\"offsetgroup\":\"WV\",\"orientation\":\"v\",\"showlegend\":true,\"textposition\":\"auto\",\"x\":[2001,2002,2003,2004,2005,2006,2007,2008,2009,2010,2011,2012,2013,2014,2015,2016,2017,2018,2019,2020,2021],\"xaxis\":\"x\",\"y\":[81836725.0,94761753.0,94711550.0,89749564.0,93626282.0,93815804.0,93933111.0,91123096.0,70782514.0,80788945.0,78999623.69,73413404.78000003,75863066.78000005,81162422.38000005,72295267.0,75942961.0,73357081.0,67249025.0,63925644.0,56661537.0,65630564.0],\"yaxis\":\"y\",\"type\":\"bar\"},{\"alignmentgroup\":\"True\",\"hovertemplate\":\"State=MO<br>Year=%{x}<br>Total Generated(MWh)=%{y}<extra></extra>\",\"legendgroup\":\"MO\",\"marker\":{\"color\":\"#FECB52\",\"pattern\":{\"shape\":\"\"}},\"name\":\"MO\",\"offsetgroup\":\"MO\",\"orientation\":\"v\",\"showlegend\":true,\"textposition\":\"auto\",\"x\":[2001,2002,2003,2004,2005,2006,2007,2008,2009,2010,2011,2012,2013,2014,2015,2016,2017,2018,2019,2020,2021],\"xaxis\":\"x\",\"y\":[79544872.0,81162196.0,87225088.0,87632907.0,90828231.0,91686350.0,91153082.0,91028792.0,88354274.0,92312991.0,94929440.75000003,91804320.70999993,91626593.05000003,88074036.95999995,83640062.0,78611513.0,84606734.0,85095387.0,78278748.0,72567870.0,77815983.0],\"yaxis\":\"y\",\"type\":\"bar\"},{\"alignmentgroup\":\"True\",\"hovertemplate\":\"State=VA<br>Year=%{x}<br>Total Generated(MWh)=%{y}<extra></extra>\",\"legendgroup\":\"VA\",\"marker\":{\"color\":\"#636efa\",\"pattern\":{\"shape\":\"\"}},\"name\":\"VA\",\"offsetgroup\":\"VA\",\"orientation\":\"v\",\"showlegend\":true,\"textposition\":\"auto\",\"x\":[2001,2002,2003,2004,2005,2006,2007,2008,2009,2010,2011,2012,2013,2014,2015,2016,2017,2018,2019,2020,2021],\"xaxis\":\"x\",\"y\":[74104748.0,75005656.0,75309422.0,78900045.0,78943043.0,73069539.0,78360516.0,72678536.0,70082062.0,72966459.0,66659105.210000016,70739235.04999998,76896565.15,77322962.88999999,84411589.0,92554880.0,90417153.0,95509121.0,96827640.0,103056188.0,94309019.0],\"yaxis\":\"y\",\"type\":\"bar\"},{\"alignmentgroup\":\"True\",\"hovertemplate\":\"State=NJ<br>Year=%{x}<br>Total Generated(MWh)=%{y}<extra></extra>\",\"legendgroup\":\"NJ\",\"marker\":{\"color\":\"#EF553B\",\"pattern\":{\"shape\":\"\"}},\"name\":\"NJ\",\"offsetgroup\":\"NJ\",\"orientation\":\"v\",\"showlegend\":true,\"textposition\":\"auto\",\"x\":[2001,2002,2003,2004,2005,2006,2007,2008,2009,2010,2011,2012,2013,2014,2015,2016,2017,2018,2019,2020,2021],\"xaxis\":\"x\",\"y\":[59421262.0,61569385.0,57399354.0,55882361.0,60549582.0,60700136.0,62671247.0,63674794.0,61811249.0,65682498.0,64694096.02999995,65263408.13999999,64750941.860000014,67464757.36000003,74608860.0,77611405.0,75644515.0,75033596.0,71018779.0,61106462.0,61386527.0],\"yaxis\":\"y\",\"type\":\"bar\"},{\"alignmentgroup\":\"True\",\"hovertemplate\":\"State=WI<br>Year=%{x}<br>Total Generated(MWh)=%{y}<extra></extra>\",\"legendgroup\":\"WI\",\"marker\":{\"color\":\"#00cc96\",\"pattern\":{\"shape\":\"\"}},\"name\":\"WI\",\"offsetgroup\":\"WI\",\"orientation\":\"v\",\"showlegend\":true,\"textposition\":\"auto\",\"x\":[2001,2002,2003,2004,2005,2006,2007,2008,2009,2010,2011,2012,2013,2014,2015,2016,2017,2018,2019,2020,2021],\"xaxis\":\"x\",\"y\":[58763434.0,58431436.0,60122427.0,60444944.0,61824659.0,61639846.0,63390625.0,63479547.0,59959055.0,64314068.0,63289343.89000001,63742909.98,65962791.96000002,60767365.16000003,66360181.0,64966609.0,65107333.0,65936801.0,62774297.0,61448549.0,65478679.0],\"yaxis\":\"y\",\"type\":\"bar\"},{\"alignmentgroup\":\"True\",\"hovertemplate\":\"State=OK<br>Year=%{x}<br>Total Generated(MWh)=%{y}<extra></extra>\",\"legendgroup\":\"OK\",\"marker\":{\"color\":\"#ab63fa\",\"pattern\":{\"shape\":\"\"}},\"name\":\"OK\",\"offsetgroup\":\"OK\",\"orientation\":\"v\",\"showlegend\":true,\"textposition\":\"auto\",\"x\":[2001,2002,2003,2004,2005,2006,2007,2008,2009,2010,2011,2012,2013,2014,2015,2016,2017,2018,2019,2020,2021],\"xaxis\":\"x\",\"y\":[55249453.0,59183418.0,60626862.0,60729562.0,68607829.0,70614878.0,72819091.0,76328906.0,75066814.0,72250731.0,74605713.66,77896588.18000002,73673680.26000006,70298615.03999999,76135599.0,78655011.0,73731653.0,86223721.0,85216502.0,82297835.0,80564122.0],\"yaxis\":\"y\",\"type\":\"bar\"},{\"alignmentgroup\":\"True\",\"hovertemplate\":\"State=MS<br>Year=%{x}<br>Total Generated(MWh)=%{y}<extra></extra>\",\"legendgroup\":\"MS\",\"marker\":{\"color\":\"#FFA15A\",\"pattern\":{\"shape\":\"\"}},\"name\":\"MS\",\"offsetgroup\":\"MS\",\"orientation\":\"v\",\"showlegend\":true,\"textposition\":\"auto\",\"x\":[2001,2002,2003,2004,2005,2006,2007,2008,2009,2010,2011,2012,2013,2014,2015,2016,2017,2018,2019,2020,2021],\"xaxis\":\"x\",\"y\":[53446448.0,42888814.0,40148276.0,43662613.0,45067453.0,46228847.0,50043691.0,48205710.0,48701483.0,54487269.0,51570942.749999985,54584295.07000001,52810263.989999965,54864346.18000001,64757867.0,62881298.0,59727634.0,63473769.0,65958757.0,66581789.0,68713324.0],\"yaxis\":\"y\",\"type\":\"bar\"},{\"alignmentgroup\":\"True\",\"hovertemplate\":\"State=MD<br>Year=%{x}<br>Total Generated(MWh)=%{y}<extra></extra>\",\"legendgroup\":\"MD\",\"marker\":{\"color\":\"#19d3f3\",\"pattern\":{\"shape\":\"\"}},\"name\":\"MD\",\"offsetgroup\":\"MD\",\"orientation\":\"v\",\"showlegend\":true,\"textposition\":\"auto\",\"x\":[2001,2002,2003,2004,2005,2006,2007,2008,2009,2010,2011,2012,2013,2014,2015,2016,2017,2018,2019,2020,2021],\"xaxis\":\"x\",\"y\":[49062341.0,48279085.0,52244244.0,52052781.0,52661606.0,48956890.0,50197928.0,47360962.0,43774832.0,43607257.0,41818068.39000002,37809743.71999998,35850812.440000005,38015159.01000001,36365540.0,37166684.0,34104077.0,43809646.0,39328700.0,36029207.0,39719296.0],\"yaxis\":\"y\",\"type\":\"bar\"},{\"alignmentgroup\":\"True\",\"hovertemplate\":\"State=MN<br>Year=%{x}<br>Total Generated(MWh)=%{y}<extra></extra>\",\"legendgroup\":\"MN\",\"marker\":{\"color\":\"#FF6692\",\"pattern\":{\"shape\":\"\"}},\"name\":\"MN\",\"offsetgroup\":\"MN\",\"orientation\":\"v\",\"showlegend\":true,\"textposition\":\"auto\",\"x\":[2001,2002,2003,2004,2005,2006,2007,2008,2009,2010,2011,2012,2013,2014,2015,2016,2017,2018,2019,2020,2021],\"xaxis\":\"x\",\"y\":[48523223.0,52777958.0,55050985.0,52364129.0,53018994.0,53237796.0,54477651.0,54763364.0,52491840.0,53670220.0,53120061.680000015,52193624.31000005,51296987.74000004,56825384.95999996,56979768.0,59478759.0,58748839.0,61517452.0,59379390.0,56510140.0,59628025.0],\"yaxis\":\"y\",\"type\":\"bar\"},{\"alignmentgroup\":\"True\",\"hovertemplate\":\"State=AR<br>Year=%{x}<br>Total Generated(MWh)=%{y}<extra></extra>\",\"legendgroup\":\"AR\",\"marker\":{\"color\":\"#B6E880\",\"pattern\":{\"shape\":\"\"}},\"name\":\"AR\",\"offsetgroup\":\"AR\",\"orientation\":\"v\",\"showlegend\":true,\"textposition\":\"auto\",\"x\":[2001,2002,2003,2004,2005,2006,2007,2008,2009,2010,2011,2012,2013,2014,2015,2016,2017,2018,2019,2020,2021],\"xaxis\":\"x\",\"y\":[47192036.0,47611641.0,50401105.0,51927641.0,47794508.0,52168698.0,54596236.0,55050528.0,57457747.0,61000191.0,61307535.94000003,65005678.020000026,60322492.19000001,61580991.510000005,55559424.0,60445056.0,60775219.0,67999360.0,64442895.0,54641263.0,60230137.0],\"yaxis\":\"y\",\"type\":\"bar\"},{\"alignmentgroup\":\"True\",\"hovertemplate\":\"State=CO<br>Year=%{x}<br>Total Generated(MWh)=%{y}<extra></extra>\",\"legendgroup\":\"CO\",\"marker\":{\"color\":\"#FF97FF\",\"pattern\":{\"shape\":\"\"}},\"name\":\"CO\",\"offsetgroup\":\"CO\",\"orientation\":\"v\",\"showlegend\":true,\"textposition\":\"auto\",\"x\":[2001,2002,2003,2004,2005,2006,2007,2008,2009,2010,2011,2012,2013,2014,2015,2016,2017,2018,2019,2020,2021],\"xaxis\":\"x\",\"y\":[46876003.0,45600391.0,46616787.0,47869505.0,49616696.0,50698353.0,53907490.0,53441593.0,50565953.0,50720788.0,51432554.429999985,52556701.179999985,52937436.00000001,54000898.600000024,52393074.0,54418473.0,53843996.0,55386281.0,56337735.0,54115020.0,56737727.0],\"yaxis\":\"y\",\"type\":\"bar\"},{\"alignmentgroup\":\"True\",\"hovertemplate\":\"State=OR<br>Year=%{x}<br>Total Generated(MWh)=%{y}<extra></extra>\",\"legendgroup\":\"OR\",\"marker\":{\"color\":\"#FECB52\",\"pattern\":{\"shape\":\"\"}},\"name\":\"OR\",\"offsetgroup\":\"OR\",\"orientation\":\"v\",\"showlegend\":true,\"textposition\":\"auto\",\"x\":[2001,2002,2003,2004,2005,2006,2007,2008,2009,2010,2011,2012,2013,2014,2015,2016,2017,2018,2019,2020,2021],\"xaxis\":\"x\",\"y\":[45051906.0,47099368.0,48966140.0,51381280.0,49325008.0,53340699.0,55077795.0,58718436.0,56690852.0,55126998.0,59695164.24999999,60932714.57000002,59895514.74000004,59718512.029999994,57866529.0,60182010.0,62713748.0,64113560.0,62258380.0,63624785.0,61081837.0],\"yaxis\":\"y\",\"type\":\"bar\"},{\"alignmentgroup\":\"True\",\"hovertemplate\":\"State=WY<br>Year=%{x}<br>Total Generated(MWh)=%{y}<extra></extra>\",\"legendgroup\":\"WY\",\"marker\":{\"color\":\"#636efa\",\"pattern\":{\"shape\":\"\"}},\"name\":\"WY\",\"offsetgroup\":\"WY\",\"orientation\":\"v\",\"showlegend\":true,\"textposition\":\"auto\",\"x\":[2001,2002,2003,2004,2005,2006,2007,2008,2009,2010,2011,2012,2013,2014,2015,2016,2017,2018,2019,2020,2021],\"xaxis\":\"x\",\"y\":[44776938.0,43783839.0,43626603.0,44807600.0,45567309.0,45400364.0,45633489.0,46500446.0,46029218.0,48119254.0,47638470.92000001,49588606.32000002,52483065.5,49457628.25000002,48966523.0,46656633.0,46741846.0,46112140.0,42145656.0,42010988.0,43650676.0],\"yaxis\":\"y\",\"type\":\"bar\"},{\"alignmentgroup\":\"True\",\"hovertemplate\":\"State=KS<br>Year=%{x}<br>Total Generated(MWh)=%{y}<extra></extra>\",\"legendgroup\":\"KS\",\"marker\":{\"color\":\"#EF553B\",\"pattern\":{\"shape\":\"\"}},\"name\":\"KS\",\"offsetgroup\":\"KS\",\"orientation\":\"v\",\"showlegend\":true,\"textposition\":\"auto\",\"x\":[2001,2002,2003,2004,2005,2006,2007,2008,2009,2010,2011,2012,2013,2014,2015,2016,2017,2018,2019,2020,2021],\"xaxis\":\"x\",\"y\":[44748522.0,47188445.0,46567566.0,46782657.0,45862700.0,45523739.0,50122198.0,46630319.0,46677305.0,47923767.0,45359840.160000004,44424690.81,48472581.36999999,50042935.44000002,45527123.0,47599990.0,50933297.0,51710217.0,50887992.0,54541831.0,56745956.0],\"yaxis\":\"y\",\"type\":\"bar\"},{\"alignmentgroup\":\"True\",\"hovertemplate\":\"State=IA<br>Year=%{x}<br>Total Generated(MWh)=%{y}<extra></extra>\",\"legendgroup\":\"IA\",\"marker\":{\"color\":\"#00cc96\",\"pattern\":{\"shape\":\"\"}},\"name\":\"IA\",\"offsetgroup\":\"IA\",\"orientation\":\"v\",\"showlegend\":true,\"textposition\":\"auto\",\"x\":[2001,2002,2003,2004,2005,2006,2007,2008,2009,2010,2011,2012,2013,2014,2015,2016,2017,2018,2019,2020,2021],\"xaxis\":\"x\",\"y\":[40658513.0,42528383.0,42116192.0,43248189.0,44156157.0,45483466.0,49789213.0,53086787.0,51860059.0,57508721.0,56371912.73999997,56675404.009999976,56670757.00000004,57122984.68000001,56658912.0,54392512.0,57909567.0,63380567.0,61673546.0,59636682.0,66120266.0],\"yaxis\":\"y\",\"type\":\"bar\"},{\"alignmentgroup\":\"True\",\"hovertemplate\":\"State=MA<br>Year=%{x}<br>Total Generated(MWh)=%{y}<extra></extra>\",\"legendgroup\":\"MA\",\"marker\":{\"color\":\"#ab63fa\",\"pattern\":{\"shape\":\"\"}},\"name\":\"MA\",\"offsetgroup\":\"MA\",\"orientation\":\"v\",\"showlegend\":true,\"textposition\":\"auto\",\"x\":[2001,2002,2003,2004,2005,2006,2007,2008,2009,2010,2011,2012,2013,2014,2015,2016,2017,2018,2019,2020,2021],\"xaxis\":\"x\",\"y\":[38478433.0,42027825.0,48385024.0,47500481.0,47515445.0,45597777.0,47075976.0,42505480.0,38966655.0,42804835.0,38054820.62999996,36198121.62999998,32885020.859999996,31123860.81,32085959.0,31955032.0,32204114.0,27172881.0,21515630.0,18214145.0,19366993.0],\"yaxis\":\"y\",\"type\":\"bar\"},{\"alignmentgroup\":\"True\",\"hovertemplate\":\"State=UT<br>Year=%{x}<br>Total Generated(MWh)=%{y}<extra></extra>\",\"legendgroup\":\"UT\",\"marker\":{\"color\":\"#FFA15A\",\"pattern\":{\"shape\":\"\"}},\"name\":\"UT\",\"offsetgroup\":\"UT\",\"orientation\":\"v\",\"showlegend\":true,\"textposition\":\"auto\",\"x\":[2001,2002,2003,2004,2005,2006,2007,2008,2009,2010,2011,2012,2013,2014,2015,2016,2017,2018,2019,2020,2021],\"xaxis\":\"x\",\"y\":[35853750.0,36608007.0,38023667.0,38211977.0,38165128.0,41263325.0,45372573.0,46578766.0,43542945.0,42249352.0,40836150.05999998,39402960.849999994,42516750.88000002,43587027.12000002,41949116.0,38133925.0,37411878.0,39375427.0,39117030.0,37087306.0,42656775.0],\"yaxis\":\"y\",\"type\":\"bar\"},{\"alignmentgroup\":\"True\",\"hovertemplate\":\"State=NV<br>Year=%{x}<br>Total Generated(MWh)=%{y}<extra></extra>\",\"legendgroup\":\"NV\",\"marker\":{\"color\":\"#19d3f3\",\"pattern\":{\"shape\":\"\"}},\"name\":\"NV\",\"offsetgroup\":\"NV\",\"orientation\":\"v\",\"showlegend\":true,\"textposition\":\"auto\",\"x\":[2001,2002,2003,2004,2005,2006,2007,2008,2009,2010,2011,2012,2013,2014,2015,2016,2017,2018,2019,2020,2021],\"xaxis\":\"x\",\"y\":[33875966.0,32088938.0,33194888.0,37667442.0,40213748.0,31860023.0,32669737.0,35089976.0,37705134.0,35146250.0,31935918.00000002,35173263.3,36443873.73,36192638.94999999,39046784.0,39787009.0,38201296.0,39640242.0,39889663.0,40424743.0,41880191.0],\"yaxis\":\"y\",\"type\":\"bar\"},{\"alignmentgroup\":\"True\",\"hovertemplate\":\"State=NM<br>Year=%{x}<br>Total Generated(MWh)=%{y}<extra></extra>\",\"legendgroup\":\"NM\",\"marker\":{\"color\":\"#FF6692\",\"pattern\":{\"shape\":\"\"}},\"name\":\"NM\",\"offsetgroup\":\"NM\",\"orientation\":\"v\",\"showlegend\":true,\"textposition\":\"auto\",\"x\":[2001,2002,2003,2004,2005,2006,2007,2008,2009,2010,2011,2012,2013,2014,2015,2016,2017,2018,2019,2020,2021],\"xaxis\":\"x\",\"y\":[33611643.0,30661709.0,32735655.0,32940362.0,35135644.0,37265628.0,35985336.0,37009846.0,39674336.0,36251545.0,38181139.38,36635909.56,35870965.27,32124996.890000015,32701395.0,32912036.0,33597415.0,32673685.0,35174512.0,34075590.0,35271296.0],\"yaxis\":\"y\",\"type\":\"bar\"},{\"alignmentgroup\":\"True\",\"hovertemplate\":\"State=CT<br>Year=%{x}<br>Total Generated(MWh)=%{y}<extra></extra>\",\"legendgroup\":\"CT\",\"marker\":{\"color\":\"#B6E880\",\"pattern\":{\"shape\":\"\"}},\"name\":\"CT\",\"offsetgroup\":\"CT\",\"orientation\":\"v\",\"showlegend\":true,\"textposition\":\"auto\",\"x\":[2001,2002,2003,2004,2005,2006,2007,2008,2009,2010,2011,2012,2013,2014,2015,2016,2017,2018,2019,2020,2021],\"xaxis\":\"x\",\"y\":[30490645.0,31311212.0,29545049.0,32633407.0,33549741.0,34681732.0,33171201.0,30409475.0,31206229.0,33349622.0,33745220.79,36117543.98999999,35610789.42000001,33604720.40999999,37470614.0,36496560.0,34562659.0,39453551.0,40050031.0,41190571.0,44123575.0],\"yaxis\":\"y\",\"type\":\"bar\"},{\"alignmentgroup\":\"True\",\"hovertemplate\":\"State=NE<br>Year=%{x}<br>Total Generated(MWh)=%{y}<extra></extra>\",\"legendgroup\":\"NE\",\"marker\":{\"color\":\"#FF97FF\",\"pattern\":{\"shape\":\"\"}},\"name\":\"NE\",\"offsetgroup\":\"NE\",\"orientation\":\"v\",\"showlegend\":true,\"textposition\":\"auto\",\"x\":[2001,2002,2003,2004,2005,2006,2007,2008,2009,2010,2011,2012,2013,2014,2015,2016,2017,2018,2019,2020,2021],\"xaxis\":\"x\",\"y\":[30485213.0,31618488.0,30455984.0,32008709.0,31464739.0,31669968.0,32442703.0,32373521.0,34001898.0,36630016.0,36095051.07000001,34217292.589999996,37104627.77000002,39610374.79,39883394.0,36524870.0,35406984.0,36966213.0,37297613.0,36848686.0,38644643.0],\"yaxis\":\"y\",\"type\":\"bar\"},{\"alignmentgroup\":\"True\",\"hovertemplate\":\"State=ND<br>Year=%{x}<br>Total Generated(MWh)=%{y}<extra></extra>\",\"legendgroup\":\"ND\",\"marker\":{\"color\":\"#FECB52\",\"pattern\":{\"shape\":\"\"}},\"name\":\"ND\",\"offsetgroup\":\"ND\",\"orientation\":\"v\",\"showlegend\":true,\"textposition\":\"auto\",\"x\":[2001,2002,2003,2004,2005,2006,2007,2008,2009,2010,2011,2012,2013,2014,2015,2016,2017,2018,2019,2020,2021],\"xaxis\":\"x\",\"y\":[30332072.0,31306306.0,31322124.0,29936111.0,31932619.0,30881138.0,31224103.0,32734574.0,34196465.0,34739539.0,35079900.129999995,36125158.93999999,35021672.79,36112578.57999999,37156613.0,37856454.0,41505077.0,42615320.0,41147321.0,42176429.0,42705232.0],\"yaxis\":\"y\",\"type\":\"bar\"},{\"alignmentgroup\":\"True\",\"hovertemplate\":\"State=MT<br>Year=%{x}<br>Total Generated(MWh)=%{y}<extra></extra>\",\"legendgroup\":\"MT\",\"marker\":{\"color\":\"#636efa\",\"pattern\":{\"shape\":\"\"}},\"name\":\"MT\",\"offsetgroup\":\"MT\",\"orientation\":\"v\",\"showlegend\":true,\"textposition\":\"auto\",\"x\":[2001,2002,2003,2004,2005,2006,2007,2008,2009,2010,2011,2012,2013,2014,2015,2016,2017,2018,2019,2020,2021],\"xaxis\":\"x\",\"y\":[24232487.0,25473706.0,26268728.0,26788772.0,27938777.0,28243535.0,28931503.0,29637143.0,26712731.0,29791179.0,30128542.660000008,27804783.7,27687326.36999999,30242531.460000012,29302406.0,27783530.0,28220944.0,28212833.0,27797079.0,23353290.0,24466637.0],\"yaxis\":\"y\",\"type\":\"bar\"},{\"alignmentgroup\":\"True\",\"hovertemplate\":\"State=ME<br>Year=%{x}<br>Total Generated(MWh)=%{y}<extra></extra>\",\"legendgroup\":\"ME\",\"marker\":{\"color\":\"#EF553B\",\"pattern\":{\"shape\":\"\"}},\"name\":\"ME\",\"offsetgroup\":\"ME\",\"orientation\":\"v\",\"showlegend\":true,\"textposition\":\"auto\",\"x\":[2001,2002,2003,2004,2005,2006,2007,2008,2009,2010,2011,2012,2013,2014,2015,2016,2017,2018,2019,2020,2021],\"xaxis\":\"x\",\"y\":[19564821.0,22535036.0,18971639.0,19098894.0,18843978.0,16816175.0,16128568.0,17094916.0,16349845.0,17018657.0,15973688.22999999,14428596.12999999,14030037.800000008,13154288.460000005,11741270.0,11514427.0,11264281.0,11280697.0,10490559.0,10001879.0,10952775.0],\"yaxis\":\"y\",\"type\":\"bar\"},{\"alignmentgroup\":\"True\",\"hovertemplate\":\"State=NH<br>Year=%{x}<br>Total Generated(MWh)=%{y}<extra></extra>\",\"legendgroup\":\"NH\",\"marker\":{\"color\":\"#00cc96\",\"pattern\":{\"shape\":\"\"}},\"name\":\"NH\",\"offsetgroup\":\"NH\",\"orientation\":\"v\",\"showlegend\":true,\"textposition\":\"auto\",\"x\":[2001,2002,2003,2004,2005,2006,2007,2008,2009,2010,2011,2012,2013,2014,2015,2016,2017,2018,2019,2020,2021],\"xaxis\":\"x\",\"y\":[15074624.0,15953078.0,21597107.0,23875791.0,24470010.0,22063691.0,23277170.0,22876990.0,20164122.0,22195920.0,20065941.110000003,19264435.04,19778520.580000002,19584207.76000001,20015899.0,19282498.0,17446841.0,17087156.0,18026597.0,16350582.0,17434999.0],\"yaxis\":\"y\",\"type\":\"bar\"},{\"alignmentgroup\":\"True\",\"hovertemplate\":\"State=HI<br>Year=%{x}<br>Total Generated(MWh)=%{y}<extra></extra>\",\"legendgroup\":\"HI\",\"marker\":{\"color\":\"#ab63fa\",\"pattern\":{\"shape\":\"\"}},\"name\":\"HI\",\"offsetgroup\":\"HI\",\"orientation\":\"v\",\"showlegend\":true,\"textposition\":\"auto\",\"x\":[2001,2002,2003,2004,2005,2006,2007,2008,2009,2010,2011,2012,2013,2014,2015,2016,2017,2018,2019,2020,2021],\"xaxis\":\"x\",\"y\":[10633092.0,11663072.0,10976371.0,11410405.0,11522807.0,11559175.0,11533349.0,11376381.0,11010537.0,10836038.0,10723332.999999998,10469268.740000004,10267052.469999997,9998065.729999997,10119497.0,9948848.0,9812966.0,9796779.0,9750007.0,9079012.0,9188089.0],\"yaxis\":\"y\",\"type\":\"bar\"},{\"alignmentgroup\":\"True\",\"hovertemplate\":\"State=ID<br>Year=%{x}<br>Total Generated(MWh)=%{y}<extra></extra>\",\"legendgroup\":\"ID\",\"marker\":{\"color\":\"#FFA15A\",\"pattern\":{\"shape\":\"\"}},\"name\":\"ID\",\"offsetgroup\":\"ID\",\"orientation\":\"v\",\"showlegend\":true,\"textposition\":\"auto\",\"x\":[2001,2002,2003,2004,2005,2006,2007,2008,2009,2010,2011,2012,2013,2014,2015,2016,2017,2018,2019,2020,2021],\"xaxis\":\"x\",\"y\":[9346942.0,9786932.0,10422936.0,10863035.0,10824983.0,13386085.0,11484094.0,11970554.0,13100153.0,12024565.0,16568786.019999994,15499089.350000005,15186128.319999987,15176262.539999997,15667090.0,15660937.0,17396032.0,18172120.0,18407814.0,17686137.0,16948581.0],\"yaxis\":\"y\",\"type\":\"bar\"},{\"alignmentgroup\":\"True\",\"hovertemplate\":\"State=RI<br>Year=%{x}<br>Total Generated(MWh)=%{y}<extra></extra>\",\"legendgroup\":\"RI\",\"marker\":{\"color\":\"#19d3f3\",\"pattern\":{\"shape\":\"\"}},\"name\":\"RI\",\"offsetgroup\":\"RI\",\"orientation\":\"v\",\"showlegend\":true,\"textposition\":\"auto\",\"x\":[2001,2002,2003,2004,2005,2006,2007,2008,2009,2010,2011,2012,2013,2014,2015,2016,2017,2018,2019,2020,2021],\"xaxis\":\"x\",\"y\":[7501892.0,7056759.0,5621141.0,4939425.0,6053297.0,5967725.0,7049846.0,7387265.0,7696823.0,7738722.0,8722272.590000002,8309035.840000001,6246806.780000001,6293116.9399999995,6939020.0,6564887.0,7614943.0,8375257.0,7624402.0,8894939.0,8035017.0],\"yaxis\":\"y\",\"type\":\"bar\"},{\"alignmentgroup\":\"True\",\"hovertemplate\":\"State=SD<br>Year=%{x}<br>Total Generated(MWh)=%{y}<extra></extra>\",\"legendgroup\":\"SD\",\"marker\":{\"color\":\"#FF6692\",\"pattern\":{\"shape\":\"\"}},\"name\":\"SD\",\"offsetgroup\":\"SD\",\"orientation\":\"v\",\"showlegend\":true,\"textposition\":\"auto\",\"x\":[2001,2002,2003,2004,2005,2006,2007,2008,2009,2010,2011,2012,2013,2014,2015,2016,2017,2018,2019,2020,2021],\"xaxis\":\"x\",\"y\":[7400743.0,7721958.0,7943837.0,7510216.0,6520771.0,7132242.0,6136605.0,7082669.0,8196534.0,10049634.0,11998885.540000003,12034206.09,10108886.530000001,11530227.04,9633036.0,11524181.0,10935715.0,12616392.0,14506644.0,14146536.0,17834631.0],\"yaxis\":\"y\",\"type\":\"bar\"},{\"alignmentgroup\":\"True\",\"hovertemplate\":\"State=DE<br>Year=%{x}<br>Total Generated(MWh)=%{y}<extra></extra>\",\"legendgroup\":\"DE\",\"marker\":{\"color\":\"#B6E880\",\"pattern\":{\"shape\":\"\"}},\"name\":\"DE\",\"offsetgroup\":\"DE\",\"orientation\":\"v\",\"showlegend\":true,\"textposition\":\"auto\",\"x\":[2001,2002,2003,2004,2005,2006,2007,2008,2009,2010,2011,2012,2013,2014,2015,2016,2017,2018,2019,2020,2021],\"xaxis\":\"x\",\"y\":[6807685.0,6002484.0,7392284.0,7855547.0,8136578.0,7182178.0,8534164.0,7523840.0,4841558.0,5627647.0,6590194.840000001,8633694.14,7760861.080000004,7626521.1899999995,7810004.0,8731272.0,7495983.0,6240644.0,5258537.0,5205369.0,4039976.0],\"yaxis\":\"y\",\"type\":\"bar\"},{\"alignmentgroup\":\"True\",\"hovertemplate\":\"State=AK<br>Year=%{x}<br>Total Generated(MWh)=%{y}<extra></extra>\",\"legendgroup\":\"AK\",\"marker\":{\"color\":\"#FF97FF\",\"pattern\":{\"shape\":\"\"}},\"name\":\"AK\",\"offsetgroup\":\"AK\",\"orientation\":\"v\",\"showlegend\":true,\"textposition\":\"auto\",\"x\":[2001,2002,2003,2004,2005,2006,2007,2008,2009,2010,2011,2012,2013,2014,2015,2016,2017,2018,2019,2020,2021],\"xaxis\":\"x\",\"y\":[6743766.0,6767323.0,6338733.0,6526722.0,6576658.0,6674195.0,6821389.0,6774837.0,6702158.0,6759575.0,6871032.9,6946419.169999998,6496821.7399999965,6148889.930000001,6284933.0,6335031.0,6497469.0,6247364.0,6070842.0,6276443.0,5943530.0],\"yaxis\":\"y\",\"type\":\"bar\"},{\"alignmentgroup\":\"True\",\"hovertemplate\":\"State=VT<br>Year=%{x}<br>Total Generated(MWh)=%{y}<extra></extra>\",\"legendgroup\":\"VT\",\"marker\":{\"color\":\"#FECB52\",\"pattern\":{\"shape\":\"\"}},\"name\":\"VT\",\"offsetgroup\":\"VT\",\"orientation\":\"v\",\"showlegend\":true,\"textposition\":\"auto\",\"x\":[2001,2002,2003,2004,2005,2006,2007,2008,2009,2010,2011,2012,2013,2014,2015,2016,2017,2018,2019,2020,2021],\"xaxis\":\"x\",\"y\":[5480614.0,5456189.0,6027963.0,5470381.0,5716760.0,7084345.0,5823581.0,6820220.0,7282350.0,6619989.0,6776218.800000001,6569670.119999996,6884910.080000001,6996610.800000003,1982051.0,1911206.0,2141387.0,2178918.0,2289797.0,2156411.0,2147738.0],\"yaxis\":\"y\",\"type\":\"bar\"},{\"alignmentgroup\":\"True\",\"hovertemplate\":\"State=DC<br>Year=%{x}<br>Total Generated(MWh)=%{y}<extra></extra>\",\"legendgroup\":\"DC\",\"marker\":{\"color\":\"#636efa\",\"pattern\":{\"shape\":\"\"}},\"name\":\"DC\",\"offsetgroup\":\"DC\",\"orientation\":\"v\",\"showlegend\":true,\"textposition\":\"auto\",\"x\":[2001,2002,2003,2004,2005,2006,2007,2008,2009,2010,2011,2012,2013,2014,2015,2016,2017,2018,2019,2020,2021],\"xaxis\":\"x\",\"y\":[123239.0,261980.0,74144.0,36487.0,226042.0,81467.0,75251.0,72316.0,35499.0,199858.0,200873.96000000002,71786.78,65852.09,64972.45999999999,53748.0,76469.0,66871.0,79331.0,174080.0,201106.0,218241.0],\"yaxis\":\"y\",\"type\":\"bar\"}],                        {\"template\":{\"data\":{\"bar\":[{\"error_x\":{\"color\":\"#2a3f5f\"},\"error_y\":{\"color\":\"#2a3f5f\"},\"marker\":{\"line\":{\"color\":\"#E5ECF6\",\"width\":0.5},\"pattern\":{\"fillmode\":\"overlay\",\"size\":10,\"solidity\":0.2}},\"type\":\"bar\"}],\"barpolar\":[{\"marker\":{\"line\":{\"color\":\"#E5ECF6\",\"width\":0.5},\"pattern\":{\"fillmode\":\"overlay\",\"size\":10,\"solidity\":0.2}},\"type\":\"barpolar\"}],\"carpet\":[{\"aaxis\":{\"endlinecolor\":\"#2a3f5f\",\"gridcolor\":\"white\",\"linecolor\":\"white\",\"minorgridcolor\":\"white\",\"startlinecolor\":\"#2a3f5f\"},\"baxis\":{\"endlinecolor\":\"#2a3f5f\",\"gridcolor\":\"white\",\"linecolor\":\"white\",\"minorgridcolor\":\"white\",\"startlinecolor\":\"#2a3f5f\"},\"type\":\"carpet\"}],\"choropleth\":[{\"colorbar\":{\"outlinewidth\":0,\"ticks\":\"\"},\"type\":\"choropleth\"}],\"contour\":[{\"colorbar\":{\"outlinewidth\":0,\"ticks\":\"\"},\"colorscale\":[[0.0,\"#0d0887\"],[0.1111111111111111,\"#46039f\"],[0.2222222222222222,\"#7201a8\"],[0.3333333333333333,\"#9c179e\"],[0.4444444444444444,\"#bd3786\"],[0.5555555555555556,\"#d8576b\"],[0.6666666666666666,\"#ed7953\"],[0.7777777777777778,\"#fb9f3a\"],[0.8888888888888888,\"#fdca26\"],[1.0,\"#f0f921\"]],\"type\":\"contour\"}],\"contourcarpet\":[{\"colorbar\":{\"outlinewidth\":0,\"ticks\":\"\"},\"type\":\"contourcarpet\"}],\"heatmap\":[{\"colorbar\":{\"outlinewidth\":0,\"ticks\":\"\"},\"colorscale\":[[0.0,\"#0d0887\"],[0.1111111111111111,\"#46039f\"],[0.2222222222222222,\"#7201a8\"],[0.3333333333333333,\"#9c179e\"],[0.4444444444444444,\"#bd3786\"],[0.5555555555555556,\"#d8576b\"],[0.6666666666666666,\"#ed7953\"],[0.7777777777777778,\"#fb9f3a\"],[0.8888888888888888,\"#fdca26\"],[1.0,\"#f0f921\"]],\"type\":\"heatmap\"}],\"heatmapgl\":[{\"colorbar\":{\"outlinewidth\":0,\"ticks\":\"\"},\"colorscale\":[[0.0,\"#0d0887\"],[0.1111111111111111,\"#46039f\"],[0.2222222222222222,\"#7201a8\"],[0.3333333333333333,\"#9c179e\"],[0.4444444444444444,\"#bd3786\"],[0.5555555555555556,\"#d8576b\"],[0.6666666666666666,\"#ed7953\"],[0.7777777777777778,\"#fb9f3a\"],[0.8888888888888888,\"#fdca26\"],[1.0,\"#f0f921\"]],\"type\":\"heatmapgl\"}],\"histogram\":[{\"marker\":{\"pattern\":{\"fillmode\":\"overlay\",\"size\":10,\"solidity\":0.2}},\"type\":\"histogram\"}],\"histogram2d\":[{\"colorbar\":{\"outlinewidth\":0,\"ticks\":\"\"},\"colorscale\":[[0.0,\"#0d0887\"],[0.1111111111111111,\"#46039f\"],[0.2222222222222222,\"#7201a8\"],[0.3333333333333333,\"#9c179e\"],[0.4444444444444444,\"#bd3786\"],[0.5555555555555556,\"#d8576b\"],[0.6666666666666666,\"#ed7953\"],[0.7777777777777778,\"#fb9f3a\"],[0.8888888888888888,\"#fdca26\"],[1.0,\"#f0f921\"]],\"type\":\"histogram2d\"}],\"histogram2dcontour\":[{\"colorbar\":{\"outlinewidth\":0,\"ticks\":\"\"},\"colorscale\":[[0.0,\"#0d0887\"],[0.1111111111111111,\"#46039f\"],[0.2222222222222222,\"#7201a8\"],[0.3333333333333333,\"#9c179e\"],[0.4444444444444444,\"#bd3786\"],[0.5555555555555556,\"#d8576b\"],[0.6666666666666666,\"#ed7953\"],[0.7777777777777778,\"#fb9f3a\"],[0.8888888888888888,\"#fdca26\"],[1.0,\"#f0f921\"]],\"type\":\"histogram2dcontour\"}],\"mesh3d\":[{\"colorbar\":{\"outlinewidth\":0,\"ticks\":\"\"},\"type\":\"mesh3d\"}],\"parcoords\":[{\"line\":{\"colorbar\":{\"outlinewidth\":0,\"ticks\":\"\"}},\"type\":\"parcoords\"}],\"pie\":[{\"automargin\":true,\"type\":\"pie\"}],\"scatter\":[{\"marker\":{\"colorbar\":{\"outlinewidth\":0,\"ticks\":\"\"}},\"type\":\"scatter\"}],\"scatter3d\":[{\"line\":{\"colorbar\":{\"outlinewidth\":0,\"ticks\":\"\"}},\"marker\":{\"colorbar\":{\"outlinewidth\":0,\"ticks\":\"\"}},\"type\":\"scatter3d\"}],\"scattercarpet\":[{\"marker\":{\"colorbar\":{\"outlinewidth\":0,\"ticks\":\"\"}},\"type\":\"scattercarpet\"}],\"scattergeo\":[{\"marker\":{\"colorbar\":{\"outlinewidth\":0,\"ticks\":\"\"}},\"type\":\"scattergeo\"}],\"scattergl\":[{\"marker\":{\"colorbar\":{\"outlinewidth\":0,\"ticks\":\"\"}},\"type\":\"scattergl\"}],\"scattermapbox\":[{\"marker\":{\"colorbar\":{\"outlinewidth\":0,\"ticks\":\"\"}},\"type\":\"scattermapbox\"}],\"scatterpolar\":[{\"marker\":{\"colorbar\":{\"outlinewidth\":0,\"ticks\":\"\"}},\"type\":\"scatterpolar\"}],\"scatterpolargl\":[{\"marker\":{\"colorbar\":{\"outlinewidth\":0,\"ticks\":\"\"}},\"type\":\"scatterpolargl\"}],\"scatterternary\":[{\"marker\":{\"colorbar\":{\"outlinewidth\":0,\"ticks\":\"\"}},\"type\":\"scatterternary\"}],\"surface\":[{\"colorbar\":{\"outlinewidth\":0,\"ticks\":\"\"},\"colorscale\":[[0.0,\"#0d0887\"],[0.1111111111111111,\"#46039f\"],[0.2222222222222222,\"#7201a8\"],[0.3333333333333333,\"#9c179e\"],[0.4444444444444444,\"#bd3786\"],[0.5555555555555556,\"#d8576b\"],[0.6666666666666666,\"#ed7953\"],[0.7777777777777778,\"#fb9f3a\"],[0.8888888888888888,\"#fdca26\"],[1.0,\"#f0f921\"]],\"type\":\"surface\"}],\"table\":[{\"cells\":{\"fill\":{\"color\":\"#EBF0F8\"},\"line\":{\"color\":\"white\"}},\"header\":{\"fill\":{\"color\":\"#C8D4E3\"},\"line\":{\"color\":\"white\"}},\"type\":\"table\"}]},\"layout\":{\"annotationdefaults\":{\"arrowcolor\":\"#2a3f5f\",\"arrowhead\":0,\"arrowwidth\":1},\"autotypenumbers\":\"strict\",\"coloraxis\":{\"colorbar\":{\"outlinewidth\":0,\"ticks\":\"\"}},\"colorscale\":{\"diverging\":[[0,\"#8e0152\"],[0.1,\"#c51b7d\"],[0.2,\"#de77ae\"],[0.3,\"#f1b6da\"],[0.4,\"#fde0ef\"],[0.5,\"#f7f7f7\"],[0.6,\"#e6f5d0\"],[0.7,\"#b8e186\"],[0.8,\"#7fbc41\"],[0.9,\"#4d9221\"],[1,\"#276419\"]],\"sequential\":[[0.0,\"#0d0887\"],[0.1111111111111111,\"#46039f\"],[0.2222222222222222,\"#7201a8\"],[0.3333333333333333,\"#9c179e\"],[0.4444444444444444,\"#bd3786\"],[0.5555555555555556,\"#d8576b\"],[0.6666666666666666,\"#ed7953\"],[0.7777777777777778,\"#fb9f3a\"],[0.8888888888888888,\"#fdca26\"],[1.0,\"#f0f921\"]],\"sequentialminus\":[[0.0,\"#0d0887\"],[0.1111111111111111,\"#46039f\"],[0.2222222222222222,\"#7201a8\"],[0.3333333333333333,\"#9c179e\"],[0.4444444444444444,\"#bd3786\"],[0.5555555555555556,\"#d8576b\"],[0.6666666666666666,\"#ed7953\"],[0.7777777777777778,\"#fb9f3a\"],[0.8888888888888888,\"#fdca26\"],[1.0,\"#f0f921\"]]},\"colorway\":[\"#636efa\",\"#EF553B\",\"#00cc96\",\"#ab63fa\",\"#FFA15A\",\"#19d3f3\",\"#FF6692\",\"#B6E880\",\"#FF97FF\",\"#FECB52\"],\"font\":{\"color\":\"#2a3f5f\"},\"geo\":{\"bgcolor\":\"white\",\"lakecolor\":\"white\",\"landcolor\":\"#E5ECF6\",\"showlakes\":true,\"showland\":true,\"subunitcolor\":\"white\"},\"hoverlabel\":{\"align\":\"left\"},\"hovermode\":\"closest\",\"mapbox\":{\"style\":\"light\"},\"paper_bgcolor\":\"white\",\"plot_bgcolor\":\"#E5ECF6\",\"polar\":{\"angularaxis\":{\"gridcolor\":\"white\",\"linecolor\":\"white\",\"ticks\":\"\"},\"bgcolor\":\"#E5ECF6\",\"radialaxis\":{\"gridcolor\":\"white\",\"linecolor\":\"white\",\"ticks\":\"\"}},\"scene\":{\"xaxis\":{\"backgroundcolor\":\"#E5ECF6\",\"gridcolor\":\"white\",\"gridwidth\":2,\"linecolor\":\"white\",\"showbackground\":true,\"ticks\":\"\",\"zerolinecolor\":\"white\"},\"yaxis\":{\"backgroundcolor\":\"#E5ECF6\",\"gridcolor\":\"white\",\"gridwidth\":2,\"linecolor\":\"white\",\"showbackground\":true,\"ticks\":\"\",\"zerolinecolor\":\"white\"},\"zaxis\":{\"backgroundcolor\":\"#E5ECF6\",\"gridcolor\":\"white\",\"gridwidth\":2,\"linecolor\":\"white\",\"showbackground\":true,\"ticks\":\"\",\"zerolinecolor\":\"white\"}},\"shapedefaults\":{\"line\":{\"color\":\"#2a3f5f\"}},\"ternary\":{\"aaxis\":{\"gridcolor\":\"white\",\"linecolor\":\"white\",\"ticks\":\"\"},\"baxis\":{\"gridcolor\":\"white\",\"linecolor\":\"white\",\"ticks\":\"\"},\"bgcolor\":\"#E5ECF6\",\"caxis\":{\"gridcolor\":\"white\",\"linecolor\":\"white\",\"ticks\":\"\"}},\"title\":{\"x\":0.05},\"xaxis\":{\"automargin\":true,\"gridcolor\":\"white\",\"linecolor\":\"white\",\"ticks\":\"\",\"title\":{\"standoff\":15},\"zerolinecolor\":\"white\",\"zerolinewidth\":2},\"yaxis\":{\"automargin\":true,\"gridcolor\":\"white\",\"linecolor\":\"white\",\"ticks\":\"\",\"title\":{\"standoff\":15},\"zerolinecolor\":\"white\",\"zerolinewidth\":2}}},\"xaxis\":{\"anchor\":\"y\",\"domain\":[0.0,1.0],\"title\":{\"text\":\"Year\"}},\"yaxis\":{\"anchor\":\"x\",\"domain\":[0.0,1.0],\"title\":{\"text\":\"Total Generated(MWh)\"}},\"legend\":{\"title\":{\"text\":\"State\"},\"tracegroupgap\":0},\"title\":{\"text\":\"TOTAL Energy Generated Each Year\"},\"barmode\":\"relative\"},                        {\"responsive\": true}                    ).then(function(){\n",
       "                            \n",
       "var gd = document.getElementById('02c653a4-7f93-4f0d-82d2-5ee1c8cc27f3');\n",
       "var x = new MutationObserver(function (mutations, observer) {{\n",
       "        var display = window.getComputedStyle(gd).display;\n",
       "        if (!display || display === 'none') {{\n",
       "            console.log([gd, 'removed!']);\n",
       "            Plotly.purge(gd);\n",
       "            observer.disconnect();\n",
       "        }}\n",
       "}});\n",
       "\n",
       "// Listen for the removal of the full notebook cells\n",
       "var notebookContainer = gd.closest('#notebook-container');\n",
       "if (notebookContainer) {{\n",
       "    x.observe(notebookContainer, {childList: true});\n",
       "}}\n",
       "\n",
       "// Listen for the clearing of the current output cell\n",
       "var outputEl = gd.closest('.output');\n",
       "if (outputEl) {{\n",
       "    x.observe(outputEl, {childList: true});\n",
       "}}\n",
       "\n",
       "                        })                };                });            </script>        </div>"
      ]
     },
     "metadata": {},
     "output_type": "display_data"
    }
   ],
   "source": [
    "#heres a terrible example of a graph, decided to do the map instead\n",
    "\n",
    "df = query_data()\n",
    "\n",
    "fig = px.bar(df, x=\"Year\", y=\"Total Generated(MWh)\", \n",
    "             color = \"State\", title=\"TOTAL Energy Generated Each Year\")\n",
    "fig.show()"
   ]
  },
  {
   "cell_type": "code",
   "execution_count": 16,
   "id": "81097328",
   "metadata": {},
   "outputs": [
    {
     "name": "stdout",
     "output_type": "stream",
     "text": [
      "35499.0 483561769.0\n"
     ]
    }
   ],
   "source": [
    "print(df['Total Generated(MWh)'].min(),\n",
    "      df['Total Generated(MWh)'].max()) \n",
    "#checking for max to set the color range of the map below"
   ]
  },
  {
   "cell_type": "code",
   "execution_count": 17,
   "id": "fd185318",
   "metadata": {},
   "outputs": [
    {
     "data": {
      "application/vnd.plotly.v1+json": {
       "config": {
        "plotlyServerURL": "https://plotly.com"
       },
       "data": [
        {
         "coloraxis": "coloraxis",
         "geo": "geo",
         "hovertemplate": "Year=2001<br>State=%{location}<br>Total Generated(MWh)=%{z}<extra></extra>",
         "locationmode": "USA-states",
         "locations": [
          "TX",
          "CA",
          "PA",
          "FL",
          "IL",
          "NY",
          "OH",
          "AL",
          "IN",
          "GA",
          "NC",
          "MI",
          "TN",
          "KY",
          "AZ",
          "SC",
          "LA",
          "WA",
          "WV",
          "MO",
          "VA",
          "NJ",
          "WI",
          "OK",
          "MS",
          "MD",
          "MN",
          "AR",
          "CO",
          "OR",
          "WY",
          "KS",
          "IA",
          "MA",
          "UT",
          "NV",
          "NM",
          "CT",
          "NE",
          "ND",
          "MT",
          "ME",
          "NH",
          "HI",
          "ID",
          "RI",
          "SD",
          "DE",
          "AK",
          "VT",
          "DC"
         ],
         "name": "",
         "type": "choropleth",
         "z": [
          372580005,
          198596072,
          196576590,
          190945343,
          179249282,
          143914556,
          142261809,
          125345113,
          122569671,
          118316789,
          117495851,
          111845610,
          96221976,
          95417625,
          89911272,
          89158990,
          87894379,
          83048670,
          81836725,
          79544872,
          74104748,
          59421262,
          58763434,
          55249453,
          53446448,
          49062341,
          48523223,
          47192036,
          46876003,
          45051906,
          44776938,
          44748522,
          40658513,
          38478433,
          35853750,
          33875966,
          33611643,
          30490645,
          30485213,
          30332072,
          24232487,
          19564821,
          15074624,
          10633092,
          9346942,
          7501892,
          7400743,
          6807685,
          6743766,
          5480614,
          123239
         ]
        }
       ],
       "frames": [
        {
         "data": [
          {
           "coloraxis": "coloraxis",
           "geo": "geo",
           "hovertemplate": "Year=2001<br>State=%{location}<br>Total Generated(MWh)=%{z}<extra></extra>",
           "locationmode": "USA-states",
           "locations": [
            "TX",
            "CA",
            "PA",
            "FL",
            "IL",
            "NY",
            "OH",
            "AL",
            "IN",
            "GA",
            "NC",
            "MI",
            "TN",
            "KY",
            "AZ",
            "SC",
            "LA",
            "WA",
            "WV",
            "MO",
            "VA",
            "NJ",
            "WI",
            "OK",
            "MS",
            "MD",
            "MN",
            "AR",
            "CO",
            "OR",
            "WY",
            "KS",
            "IA",
            "MA",
            "UT",
            "NV",
            "NM",
            "CT",
            "NE",
            "ND",
            "MT",
            "ME",
            "NH",
            "HI",
            "ID",
            "RI",
            "SD",
            "DE",
            "AK",
            "VT",
            "DC"
           ],
           "name": "",
           "type": "choropleth",
           "z": [
            372580005,
            198596072,
            196576590,
            190945343,
            179249282,
            143914556,
            142261809,
            125345113,
            122569671,
            118316789,
            117495851,
            111845610,
            96221976,
            95417625,
            89911272,
            89158990,
            87894379,
            83048670,
            81836725,
            79544872,
            74104748,
            59421262,
            58763434,
            55249453,
            53446448,
            49062341,
            48523223,
            47192036,
            46876003,
            45051906,
            44776938,
            44748522,
            40658513,
            38478433,
            35853750,
            33875966,
            33611643,
            30490645,
            30485213,
            30332072,
            24232487,
            19564821,
            15074624,
            10633092,
            9346942,
            7501892,
            7400743,
            6807685,
            6743766,
            5480614,
            123239
           ]
          }
         ],
         "name": "2001"
        },
        {
         "data": [
          {
           "coloraxis": "coloraxis",
           "geo": "geo",
           "hovertemplate": "Year=2002<br>State=%{location}<br>Total Generated(MWh)=%{z}<extra></extra>",
           "locationmode": "USA-states",
           "locations": [
            "TX",
            "PA",
            "FL",
            "IL",
            "CA",
            "OH",
            "NY",
            "AL",
            "GA",
            "IN",
            "NC",
            "MI",
            "WA",
            "SC",
            "TN",
            "LA",
            "WV",
            "AZ",
            "KY",
            "MO",
            "VA",
            "NJ",
            "OK",
            "WI",
            "MN",
            "MD",
            "AR",
            "KS",
            "OR",
            "CO",
            "WY",
            "MS",
            "IA",
            "MA",
            "UT",
            "NV",
            "NE",
            "CT",
            "ND",
            "NM",
            "MT",
            "ME",
            "NH",
            "HI",
            "ID",
            "SD",
            "RI",
            "AK",
            "DE",
            "VT",
            "DC"
           ],
           "name": "",
           "type": "choropleth",
           "z": [
            385628540,
            204322879,
            203352773,
            188054455,
            184210032,
            147068847,
            139591688,
            132920673,
            126512214,
            125608143,
            124468026,
            117889086,
            102765050,
            96563496,
            96114266,
            94970964,
            94761753,
            94131661,
            92106668,
            81162196,
            75005656,
            61569385,
            59183418,
            58431436,
            52777958,
            48279085,
            47611641,
            47188445,
            47099368,
            45600391,
            43783839,
            42888814,
            42528383,
            42027825,
            36608007,
            32088938,
            31618488,
            31311212,
            31306306,
            30661709,
            25473706,
            22535036,
            15953078,
            11663072,
            9786932,
            7721958,
            7056759,
            6767323,
            6002484,
            5456189,
            261980
           ]
          }
         ],
         "name": "2002"
        },
        {
         "data": [
          {
           "coloraxis": "coloraxis",
           "geo": "geo",
           "hovertemplate": "Year=2003<br>State=%{location}<br>Total Generated(MWh)=%{z}<extra></extra>",
           "locationmode": "USA-states",
           "locations": [
            "TX",
            "FL",
            "PA",
            "CA",
            "IL",
            "OH",
            "NY",
            "AL",
            "NC",
            "IN",
            "GA",
            "MI",
            "WA",
            "LA",
            "WV",
            "AZ",
            "SC",
            "TN",
            "KY",
            "MO",
            "VA",
            "OK",
            "WI",
            "NJ",
            "MN",
            "MD",
            "AR",
            "OR",
            "MA",
            "CO",
            "KS",
            "WY",
            "IA",
            "MS",
            "UT",
            "NV",
            "NM",
            "ND",
            "NE",
            "CT",
            "MT",
            "NH",
            "ME",
            "HI",
            "ID",
            "SD",
            "DE",
            "AK",
            "VT",
            "RI",
            "DC"
           ],
           "name": "",
           "type": "choropleth",
           "z": [
            379199685,
            212610013,
            206349515,
            192788542,
            189055262,
            146638134,
            137643315,
            137487221,
            127582321,
            124888223,
            124076832,
            111347061,
            100094687,
            94885041,
            94711550,
            94396218,
            93772679,
            92221799,
            91718817,
            87225088,
            75309422,
            60626862,
            60122427,
            57399354,
            55050985,
            52244244,
            50401105,
            48966140,
            48385024,
            46616787,
            46567566,
            43626603,
            42116192,
            40148276,
            38023667,
            33194888,
            32735655,
            31322124,
            30455984,
            29545049,
            26268728,
            21597107,
            18971639,
            10976371,
            10422936,
            7943837,
            7392284,
            6338733,
            6027963,
            5621141,
            74144
           ]
          }
         ],
         "name": "2003"
        },
        {
         "data": [
          {
           "coloraxis": "coloraxis",
           "geo": "geo",
           "hovertemplate": "Year=2004<br>State=%{location}<br>Total Generated(MWh)=%{z}<extra></extra>",
           "locationmode": "USA-states",
           "locations": [
            "TX",
            "FL",
            "PA",
            "CA",
            "IL",
            "OH",
            "NY",
            "AL",
            "IN",
            "GA",
            "NC",
            "MI",
            "AZ",
            "WA",
            "LA",
            "SC",
            "TN",
            "KY",
            "WV",
            "MO",
            "VA",
            "OK",
            "WI",
            "NJ",
            "MN",
            "MD",
            "AR",
            "OR",
            "CO",
            "MA",
            "KS",
            "WY",
            "MS",
            "IA",
            "UT",
            "NV",
            "NM",
            "CT",
            "NE",
            "ND",
            "MT",
            "NH",
            "ME",
            "HI",
            "ID",
            "DE",
            "SD",
            "AK",
            "VT",
            "RI",
            "DC"
           ],
           "name": "",
           "type": "choropleth",
           "z": [
            390299148,
            218117924,
            214658499,
            194780362,
            191957779,
            148345902,
            137964803,
            137354767,
            127770404,
            126812719,
            126329962,
            118487270,
            104564139,
            102165055,
            98172296,
            97939931,
            97594551,
            94529945,
            89749564,
            87632907,
            78900045,
            60729562,
            60444944,
            55882361,
            52364129,
            52052781,
            51927641,
            51381280,
            47869505,
            47500481,
            46782657,
            44807600,
            43662613,
            43248189,
            38211977,
            37667442,
            32940362,
            32633407,
            32008709,
            29936111,
            26788772,
            23875791,
            19098894,
            11410405,
            10863035,
            7855547,
            7510216,
            6526722,
            5470381,
            4939425,
            36487
           ]
          }
         ],
         "name": "2004"
        },
        {
         "data": [
          {
           "coloraxis": "coloraxis",
           "geo": "geo",
           "hovertemplate": "Year=2005<br>State=%{location}<br>Total Generated(MWh)=%{z}<extra></extra>",
           "locationmode": "USA-states",
           "locations": [
            "TX",
            "FL",
            "PA",
            "CA",
            "IL",
            "OH",
            "NY",
            "AL",
            "GA",
            "IN",
            "NC",
            "MI",
            "SC",
            "WA",
            "AZ",
            "KY",
            "TN",
            "WV",
            "LA",
            "MO",
            "VA",
            "OK",
            "WI",
            "NJ",
            "MN",
            "MD",
            "CO",
            "OR",
            "AR",
            "MA",
            "KS",
            "WY",
            "MS",
            "IA",
            "NV",
            "UT",
            "NM",
            "CT",
            "ND",
            "NE",
            "MT",
            "NH",
            "ME",
            "HI",
            "ID",
            "DE",
            "AK",
            "SD",
            "RI",
            "VT",
            "DC"
           ],
           "name": "",
           "type": "choropleth",
           "z": [
            396668727,
            220256414,
            218091134,
            200292813,
            194120144,
            156976328,
            146887426,
            137948574,
            136667894,
            130371568,
            129748582,
            121619776,
            102514657,
            101965854,
            101478648,
            97822424,
            97117165,
            93626282,
            92616878,
            90828231,
            78943043,
            68607829,
            61824659,
            60549582,
            53018994,
            52661606,
            49616696,
            49325008,
            47794508,
            47515445,
            45862700,
            45567309,
            45067453,
            44156157,
            40213748,
            38165128,
            35135644,
            33549741,
            31932619,
            31464739,
            27938777,
            24470010,
            18843978,
            11522807,
            10824983,
            8136578,
            6576658,
            6520771,
            6053297,
            5716760,
            226042
           ]
          }
         ],
         "name": "2005"
        },
        {
         "data": [
          {
           "coloraxis": "coloraxis",
           "geo": "geo",
           "hovertemplate": "Year=2006<br>State=%{location}<br>Total Generated(MWh)=%{z}<extra></extra>",
           "locationmode": "USA-states",
           "locations": [
            "TX",
            "FL",
            "PA",
            "CA",
            "IL",
            "OH",
            "NY",
            "AL",
            "GA",
            "IN",
            "NC",
            "MI",
            "WA",
            "AZ",
            "SC",
            "KY",
            "TN",
            "WV",
            "MO",
            "LA",
            "VA",
            "OK",
            "WI",
            "NJ",
            "OR",
            "MN",
            "AR",
            "CO",
            "MD",
            "MS",
            "MA",
            "KS",
            "IA",
            "WY",
            "UT",
            "NM",
            "CT",
            "NV",
            "NE",
            "ND",
            "MT",
            "NH",
            "ME",
            "ID",
            "HI",
            "DE",
            "SD",
            "VT",
            "AK",
            "RI",
            "DC"
           ],
           "name": "",
           "type": "choropleth",
           "z": [
            400582880,
            223751621,
            218811600,
            216798689,
            192426964,
            155434073,
            142265439,
            140895443,
            138010206,
            130489790,
            125214786,
            112556731,
            108203152,
            104392526,
            99267606,
            98792014,
            93911104,
            93815804,
            91686350,
            90921830,
            73069539,
            70614878,
            61639846,
            60700136,
            53340699,
            53237796,
            52168698,
            50698353,
            48956890,
            46228847,
            45597777,
            45523739,
            45483466,
            45400364,
            41263325,
            37265628,
            34681732,
            31860023,
            31669968,
            30881138,
            28243535,
            22063691,
            16816175,
            13386085,
            11559175,
            7182178,
            7132242,
            7084345,
            6674195,
            5967725,
            81467
           ]
          }
         ],
         "name": "2006"
        },
        {
         "data": [
          {
           "coloraxis": "coloraxis",
           "geo": "geo",
           "hovertemplate": "Year=2007<br>State=%{location}<br>Total Generated(MWh)=%{z}<extra></extra>",
           "locationmode": "USA-states",
           "locations": [
            "TX",
            "PA",
            "FL",
            "CA",
            "IL",
            "OH",
            "NY",
            "GA",
            "AL",
            "IN",
            "NC",
            "MI",
            "AZ",
            "WA",
            "SC",
            "KY",
            "TN",
            "WV",
            "LA",
            "MO",
            "VA",
            "OK",
            "WI",
            "NJ",
            "OR",
            "AR",
            "MN",
            "CO",
            "MD",
            "KS",
            "MS",
            "IA",
            "MA",
            "WY",
            "UT",
            "NM",
            "CT",
            "NV",
            "NE",
            "ND",
            "MT",
            "NH",
            "ME",
            "HI",
            "ID",
            "DE",
            "RI",
            "AK",
            "SD",
            "VT",
            "DC"
           ],
           "name": "",
           "type": "choropleth",
           "z": [
            405492289,
            226088345,
            225416070,
            210847585,
            200260686,
            155155549,
            145878689,
            145155152,
            143826269,
            130638000,
            130115295,
            119309942,
            113340970,
            106990209,
            103402136,
            97225318,
            95113410,
            93933111,
            92578327,
            91153082,
            78360516,
            72819091,
            63390625,
            62671247,
            55077795,
            54596236,
            54477651,
            53907490,
            50197928,
            50122198,
            50043691,
            49789213,
            47075976,
            45633489,
            45372573,
            35985336,
            33171201,
            32669737,
            32442703,
            31224103,
            28931503,
            23277170,
            16128568,
            11533349,
            11484094,
            8534164,
            7049846,
            6821389,
            6136605,
            5823581,
            75251
           ]
          }
         ],
         "name": "2007"
        },
        {
         "data": [
          {
           "coloraxis": "coloraxis",
           "geo": "geo",
           "hovertemplate": "Year=2008<br>State=%{location}<br>Total Generated(MWh)=%{z}<extra></extra>",
           "locationmode": "USA-states",
           "locations": [
            "TX",
            "PA",
            "FL",
            "CA",
            "IL",
            "OH",
            "AL",
            "NY",
            "GA",
            "IN",
            "NC",
            "AZ",
            "MI",
            "WA",
            "SC",
            "KY",
            "LA",
            "WV",
            "MO",
            "TN",
            "OK",
            "VA",
            "NJ",
            "WI",
            "OR",
            "AR",
            "MN",
            "CO",
            "IA",
            "MS",
            "MD",
            "KS",
            "UT",
            "WY",
            "MA",
            "NM",
            "NV",
            "ND",
            "NE",
            "CT",
            "MT",
            "NH",
            "ME",
            "ID",
            "HI",
            "DE",
            "RI",
            "SD",
            "VT",
            "AK",
            "DC"
           ],
           "name": "",
           "type": "choropleth",
           "z": [
            404787783,
            222350938,
            219636829,
            207984265,
            199475174,
            153412250,
            145869896,
            140322095,
            136173402,
            129510293,
            125239062,
            119459172,
            114989800,
            110828460,
            100978011,
            97863340,
            92453137,
            91123096,
            91028792,
            90663312,
            76328906,
            72678536,
            63674794,
            63479547,
            58718436,
            55050528,
            54763364,
            53441593,
            53086787,
            48205710,
            47360962,
            46630319,
            46578766,
            46500446,
            42505480,
            37009846,
            35089976,
            32734574,
            32373521,
            30409475,
            29637143,
            22876990,
            17094916,
            11970554,
            11376381,
            7523840,
            7387265,
            7082669,
            6820220,
            6774837,
            72316
           ]
          }
         ],
         "name": "2008"
        },
        {
         "data": [
          {
           "coloraxis": "coloraxis",
           "geo": "geo",
           "hovertemplate": "Year=2009<br>State=%{location}<br>Total Generated(MWh)=%{z}<extra></extra>",
           "locationmode": "USA-states",
           "locations": [
            "TX",
            "PA",
            "FL",
            "CA",
            "IL",
            "AL",
            "OH",
            "NY",
            "GA",
            "NC",
            "IN",
            "AZ",
            "WA",
            "MI",
            "SC",
            "LA",
            "KY",
            "MO",
            "TN",
            "OK",
            "WV",
            "VA",
            "NJ",
            "WI",
            "AR",
            "OR",
            "MN",
            "IA",
            "CO",
            "MS",
            "KS",
            "WY",
            "MD",
            "UT",
            "NM",
            "MA",
            "NV",
            "ND",
            "NE",
            "CT",
            "MT",
            "NH",
            "ME",
            "ID",
            "HI",
            "SD",
            "RI",
            "VT",
            "AK",
            "DE",
            "DC"
           ],
           "name": "",
           "type": "choropleth",
           "z": [
            397167903,
            219496145,
            217952315,
            204776141,
            193864366,
            143255560,
            136090221,
            133150559,
            128698377,
            118407401,
            116670281,
            111971249,
            104470128,
            101202612,
            100125486,
            90993681,
            90630423,
            88354274,
            79716892,
            75066814,
            70782514,
            70082062,
            61811249,
            59959055,
            57457747,
            56690852,
            52491840,
            51860059,
            50565953,
            48701483,
            46677305,
            46029218,
            43774832,
            43542945,
            39674336,
            38966655,
            37705134,
            34196465,
            34001898,
            31206229,
            26712731,
            20164122,
            16349845,
            13100153,
            11010537,
            8196534,
            7696823,
            7282350,
            6702158,
            4841558,
            35499
           ]
          }
         ],
         "name": "2009"
        },
        {
         "data": [
          {
           "coloraxis": "coloraxis",
           "geo": "geo",
           "hovertemplate": "Year=2010<br>State=%{location}<br>Total Generated(MWh)=%{z}<extra></extra>",
           "locationmode": "USA-states",
           "locations": [
            "TX",
            "PA",
            "FL",
            "CA",
            "IL",
            "AL",
            "OH",
            "GA",
            "NY",
            "NC",
            "IN",
            "AZ",
            "MI",
            "SC",
            "WA",
            "LA",
            "KY",
            "MO",
            "TN",
            "WV",
            "VA",
            "OK",
            "NJ",
            "WI",
            "AR",
            "IA",
            "OR",
            "MS",
            "MN",
            "CO",
            "WY",
            "KS",
            "MD",
            "MA",
            "UT",
            "NE",
            "NM",
            "NV",
            "ND",
            "CT",
            "MT",
            "NH",
            "ME",
            "ID",
            "HI",
            "SD",
            "RI",
            "AK",
            "VT",
            "DE",
            "DC"
           ],
           "name": "",
           "type": "choropleth",
           "z": [
            411695049,
            229752315,
            229095941,
            204125606,
            201351874,
            152150510,
            143598338,
            137576939,
            136961659,
            128678483,
            125180735,
            111750959,
            111551380,
            104153132,
            103472724,
            102884943,
            98217655,
            92312991,
            82348621,
            80788945,
            72966459,
            72250731,
            65682498,
            64314068,
            61000191,
            57508721,
            55126998,
            54487269,
            53670220,
            50720788,
            48119254,
            47923767,
            43607257,
            42804835,
            42249352,
            36630016,
            36251545,
            35146250,
            34739539,
            33349622,
            29791179,
            22195920,
            17018657,
            12024565,
            10836038,
            10049634,
            7738722,
            6759575,
            6619989,
            5627647,
            199858
           ]
          }
         ],
         "name": "2010"
        },
        {
         "data": [
          {
           "coloraxis": "coloraxis",
           "geo": "geo",
           "hovertemplate": "Year=2011<br>State=%{location}<br>Total Generated(MWh)=%{z}<extra></extra>",
           "locationmode": "USA-states",
           "locations": [
            "TX",
            "PA",
            "FL",
            "CA",
            "IL",
            "AL",
            "NY",
            "OH",
            "GA",
            "IN",
            "NC",
            "WA",
            "MI",
            "AZ",
            "LA",
            "SC",
            "KY",
            "MO",
            "TN",
            "WV",
            "OK",
            "VA",
            "NJ",
            "WI",
            "AR",
            "OR",
            "IA",
            "MN",
            "MS",
            "CO",
            "WY",
            "KS",
            "MD",
            "UT",
            "NM",
            "MA",
            "NE",
            "ND",
            "CT",
            "NV",
            "MT",
            "NH",
            "ID",
            "ME",
            "SD",
            "HI",
            "RI",
            "AK",
            "VT",
            "DE",
            "DC"
           ],
           "name": "",
           "type": "choropleth",
           "z": [
            435476923.8399998,
            227636139.64000005,
            221894574.25999993,
            200804842.7699999,
            199499728.24000004,
            156339209.94999996,
            137607868.14,
            135585804.63000005,
            124774237.31000003,
            122131414.11000003,
            118389855.03999999,
            115262600.95000009,
            109169507.16000016,
            108125357.05999997,
            105490737.03,
            102972567.32999997,
            98350982.24000001,
            94929440.75000003,
            81103862.31000002,
            78999623.69,
            74605713.66,
            66659105.210000016,
            64694096.02999995,
            63289343.89000001,
            61307535.94000003,
            59695164.24999999,
            56371912.73999997,
            53120061.680000015,
            51570942.749999985,
            51432554.429999985,
            47638470.92000001,
            45359840.160000004,
            41818068.39000002,
            40836150.05999998,
            38181139.38,
            38054820.62999996,
            36095051.07000001,
            35079900.129999995,
            33745220.79,
            31935918.00000002,
            30128542.660000008,
            20065941.110000003,
            16568786.019999994,
            15973688.22999999,
            11998885.540000003,
            10723332.999999998,
            8722272.590000002,
            6871032.9,
            6776218.800000001,
            6590194.840000001,
            200873.96000000002
           ]
          }
         ],
         "name": "2011"
        },
        {
         "data": [
          {
           "coloraxis": "coloraxis",
           "geo": "geo",
           "hovertemplate": "Year=2012<br>State=%{location}<br>Total Generated(MWh)=%{z}<extra></extra>",
           "locationmode": "USA-states",
           "locations": [
            "TX",
            "PA",
            "FL",
            "CA",
            "IL",
            "AL",
            "NY",
            "OH",
            "GA",
            "WA",
            "NC",
            "IN",
            "AZ",
            "MI",
            "LA",
            "SC",
            "MO",
            "KY",
            "OK",
            "TN",
            "WV",
            "VA",
            "NJ",
            "AR",
            "WI",
            "OR",
            "IA",
            "MS",
            "CO",
            "MN",
            "WY",
            "KS",
            "UT",
            "MD",
            "NM",
            "MA",
            "ND",
            "CT",
            "NV",
            "NE",
            "MT",
            "NH",
            "ID",
            "ME",
            "SD",
            "HI",
            "DE",
            "RI",
            "AK",
            "VT",
            "DC"
           ],
           "name": "",
           "type": "choropleth",
           "z": [
            429812509.9700002,
            223419715.67000005,
            221096136.13000003,
            199518566.81000018,
            197565362.83000007,
            152878687.79999992,
            135768251.25000006,
            129745730.71000002,
            122306363.94999999,
            116835473.66999993,
            116681763.24000007,
            114695729.41000006,
            110904993.74000005,
            108166077.85000001,
            103407705.85000004,
            96755682.00999999,
            91804320.70999993,
            89949688.84000005,
            77896588.18000002,
            77724263.89000002,
            73413404.78000003,
            70739235.04999998,
            65263408.13999999,
            65005678.020000026,
            63742909.98,
            60932714.57000002,
            56675404.009999976,
            54584295.07000001,
            52556701.179999985,
            52193624.31000005,
            49588606.32000002,
            44424690.81,
            39402960.849999994,
            37809743.71999998,
            36635909.56,
            36198121.62999998,
            36125158.93999999,
            36117543.98999999,
            35173263.3,
            34217292.589999996,
            27804783.7,
            19264435.04,
            15499089.350000005,
            14428596.12999999,
            12034206.09,
            10469268.740000004,
            8633694.14,
            8309035.840000001,
            6946419.169999998,
            6569670.119999996,
            71786.78
           ]
          }
         ],
         "name": "2012"
        },
        {
         "data": [
          {
           "coloraxis": "coloraxis",
           "geo": "geo",
           "hovertemplate": "Year=2013<br>State=%{location}<br>Total Generated(MWh)=%{z}<extra></extra>",
           "locationmode": "USA-states",
           "locations": [
            "TX",
            "PA",
            "FL",
            "IL",
            "CA",
            "AL",
            "OH",
            "NY",
            "NC",
            "GA",
            "WA",
            "AZ",
            "IN",
            "MI",
            "LA",
            "SC",
            "MO",
            "KY",
            "TN",
            "VA",
            "WV",
            "OK",
            "WI",
            "NJ",
            "AR",
            "OR",
            "IA",
            "CO",
            "MS",
            "WY",
            "MN",
            "KS",
            "UT",
            "NE",
            "NV",
            "NM",
            "MD",
            "CT",
            "ND",
            "MA",
            "MT",
            "NH",
            "ID",
            "ME",
            "HI",
            "SD",
            "DE",
            "VT",
            "AK",
            "RI",
            "DC"
           ],
           "name": "",
           "type": "choropleth",
           "z": [
            433380165.86000025,
            226785630.50999993,
            222398924.2,
            203004919.67000008,
            200077114.8299998,
            150572923.93999997,
            137284188.83000004,
            136116830.09999993,
            125936293.47999994,
            120953734.39999996,
            114172916.34000008,
            113325986.18999998,
            110403477.20999998,
            105417800.69999999,
            102010177.02,
            95249894.10000004,
            91626593.05000003,
            89741021.24999999,
            79651619.58000009,
            76896565.15,
            75863066.78000005,
            73673680.26000006,
            65962791.96000002,
            64750941.860000014,
            60322492.19000001,
            59895514.74000004,
            56670757.00000004,
            52937436.00000001,
            52810263.989999965,
            52483065.5,
            51296987.74000004,
            48472581.36999999,
            42516750.88000002,
            37104627.77000002,
            36443873.73,
            35870965.27,
            35850812.440000005,
            35610789.42000001,
            35021672.79,
            32885020.859999996,
            27687326.36999999,
            19778520.580000002,
            15186128.319999987,
            14030037.800000008,
            10267052.469999997,
            10108886.530000001,
            7760861.080000004,
            6884910.080000001,
            6496821.7399999965,
            6246806.780000001,
            65852.09
           ]
          }
         ],
         "name": "2013"
        },
        {
         "data": [
          {
           "coloraxis": "coloraxis",
           "geo": "geo",
           "hovertemplate": "Year=2014<br>State=%{location}<br>Total Generated(MWh)=%{z}<extra></extra>",
           "locationmode": "USA-states",
           "locations": [
            "TX",
            "FL",
            "PA",
            "IL",
            "CA",
            "AL",
            "NY",
            "OH",
            "NC",
            "GA",
            "IN",
            "WA",
            "AZ",
            "MI",
            "LA",
            "SC",
            "KY",
            "MO",
            "WV",
            "TN",
            "VA",
            "OK",
            "NJ",
            "AR",
            "WI",
            "OR",
            "IA",
            "MN",
            "MS",
            "CO",
            "KS",
            "WY",
            "UT",
            "NE",
            "MD",
            "NV",
            "ND",
            "CT",
            "NM",
            "MA",
            "MT",
            "NH",
            "ID",
            "ME",
            "SD",
            "HI",
            "DE",
            "VT",
            "RI",
            "AK",
            "DC"
           ],
           "name": "",
           "type": "choropleth",
           "z": [
            437236406.77,
            231062160.43000013,
            221709452.18000013,
            202352425.76000002,
            197704742.23,
            149962563.07000005,
            136275373.08000016,
            134602213.48000005,
            128903904.24999993,
            125957134.00999999,
            115633622.32999997,
            115362583.74,
            112379276.18000005,
            105820820.03999998,
            103992084.69000003,
            97095321.47999999,
            90736783.07,
            88074036.95999995,
            81162422.38000005,
            80256937.74000001,
            77322962.88999999,
            70298615.03999999,
            67464757.36000003,
            61580991.510000005,
            60767365.16000003,
            59718512.029999994,
            57122984.68000001,
            56825384.95999996,
            54864346.18000001,
            54000898.600000024,
            50042935.44000002,
            49457628.25000002,
            43587027.12000002,
            39610374.79,
            38015159.01000001,
            36192638.94999999,
            36112578.57999999,
            33604720.40999999,
            32124996.890000015,
            31123860.81,
            30242531.460000012,
            19584207.76000001,
            15176262.539999997,
            13154288.460000005,
            11530227.04,
            9998065.729999997,
            7626521.1899999995,
            6996610.800000003,
            6293116.9399999995,
            6148889.930000001,
            64972.45999999999
           ]
          }
         ],
         "name": "2014"
        },
        {
         "data": [
          {
           "coloraxis": "coloraxis",
           "geo": "geo",
           "hovertemplate": "Year=2015<br>State=%{location}<br>Total Generated(MWh)=%{z}<extra></extra>",
           "locationmode": "USA-states",
           "locations": [
            "TX",
            "FL",
            "PA",
            "CA",
            "IL",
            "AL",
            "NY",
            "GA",
            "NC",
            "OH",
            "AZ",
            "MI",
            "WA",
            "LA",
            "IN",
            "SC",
            "VA",
            "MO",
            "KY",
            "OK",
            "TN",
            "NJ",
            "WV",
            "WI",
            "MS",
            "OR",
            "MN",
            "IA",
            "AR",
            "CO",
            "WY",
            "KS",
            "UT",
            "NE",
            "NV",
            "CT",
            "ND",
            "MD",
            "NM",
            "MA",
            "MT",
            "NH",
            "ID",
            "ME",
            "HI",
            "SD",
            "DE",
            "RI",
            "AK",
            "VT",
            "DC"
           ],
           "name": "",
           "type": "choropleth",
           "z": [
            449826340,
            237412630,
            214572305,
            196703848,
            193952044,
            152477427,
            138627721,
            128817889,
            128388445,
            121893401,
            113142051,
            113008049,
            109287463,
            107812355,
            104019268,
            96532213,
            84411589,
            83640062,
            83543664,
            76135599,
            75214641,
            74608860,
            72295267,
            66360181,
            64757867,
            57866529,
            56979768,
            56658912,
            55559424,
            52393074,
            48966523,
            45527123,
            41949116,
            39883394,
            39046784,
            37470614,
            37156613,
            36365540,
            32701395,
            32085959,
            29302406,
            20015899,
            15667090,
            11741270,
            10119497,
            9633036,
            7810004,
            6939020,
            6284933,
            1982051,
            53748
           ]
          }
         ],
         "name": "2015"
        },
        {
         "data": [
          {
           "coloraxis": "coloraxis",
           "geo": "geo",
           "hovertemplate": "Year=2016<br>State=%{location}<br>Total Generated(MWh)=%{z}<extra></extra>",
           "locationmode": "USA-states",
           "locations": [
            "TX",
            "FL",
            "PA",
            "CA",
            "IL",
            "AL",
            "NY",
            "GA",
            "NC",
            "OH",
            "WA",
            "MI",
            "AZ",
            "LA",
            "IN",
            "SC",
            "VA",
            "KY",
            "TN",
            "OK",
            "MO",
            "NJ",
            "WV",
            "WI",
            "MS",
            "AR",
            "OR",
            "MN",
            "CO",
            "IA",
            "KS",
            "WY",
            "NV",
            "UT",
            "ND",
            "MD",
            "NE",
            "CT",
            "NM",
            "MA",
            "MT",
            "NH",
            "ID",
            "SD",
            "ME",
            "HI",
            "DE",
            "RI",
            "AK",
            "VT",
            "DC"
           ],
           "name": "",
           "type": "choropleth",
           "z": [
            454047593,
            238262141,
            215066511,
            196963225,
            187289136,
            142385096,
            134417111,
            133380413,
            130779155,
            118922063,
            114086577,
            112121797,
            108763448,
            107268801,
            101759065,
            96985768,
            92554880,
            80273504,
            79340638,
            78655011,
            78611513,
            77611405,
            75942961,
            64966609,
            62881298,
            60445056,
            60182010,
            59478759,
            54418473,
            54392512,
            47599990,
            46656633,
            39787009,
            38133925,
            37856454,
            37166684,
            36524870,
            36496560,
            32912036,
            31955032,
            27783530,
            19282498,
            15660937,
            11524181,
            11514427,
            9948848,
            8731272,
            6564887,
            6335031,
            1911206,
            76469
           ]
          }
         ],
         "name": "2016"
        },
        {
         "data": [
          {
           "coloraxis": "coloraxis",
           "geo": "geo",
           "hovertemplate": "Year=2017<br>State=%{location}<br>Total Generated(MWh)=%{z}<extra></extra>",
           "locationmode": "USA-states",
           "locations": [
            "TX",
            "FL",
            "PA",
            "CA",
            "IL",
            "AL",
            "NC",
            "NY",
            "GA",
            "OH",
            "WA",
            "MI",
            "AZ",
            "IN",
            "LA",
            "SC",
            "VA",
            "MO",
            "TN",
            "NJ",
            "OK",
            "WV",
            "KY",
            "WI",
            "OR",
            "AR",
            "MS",
            "MN",
            "IA",
            "CO",
            "KS",
            "WY",
            "ND",
            "NV",
            "UT",
            "NE",
            "CT",
            "MD",
            "NM",
            "MA",
            "MT",
            "NH",
            "ID",
            "ME",
            "SD",
            "HI",
            "RI",
            "DE",
            "AK",
            "VT",
            "DC"
           ],
           "name": "",
           "type": "choropleth",
           "z": [
            452794380,
            238413436,
            213639299,
            206146518,
            183591568,
            139964248,
            128468116,
            128065081,
            127455319,
            119554368,
            115912082,
            112313502,
            105851768,
            98929813,
            97719216,
            93080943,
            90417153,
            84606734,
            79046219,
            75644515,
            73731653,
            73357081,
            73179188,
            65107333,
            62713748,
            60775219,
            59727634,
            58748839,
            57909567,
            53843996,
            50933297,
            46741846,
            41505077,
            38201296,
            37411878,
            35406984,
            34562659,
            34104077,
            33597415,
            32204114,
            28220944,
            17446841,
            17396032,
            11264281,
            10935715,
            9812966,
            7614943,
            7495983,
            6497469,
            2141387,
            66871
           ]
          }
         ],
         "name": "2017"
        },
        {
         "data": [
          {
           "coloraxis": "coloraxis",
           "geo": "geo",
           "hovertemplate": "Year=2018<br>State=%{location}<br>Total Generated(MWh)=%{z}<extra></extra>",
           "locationmode": "USA-states",
           "locations": [
            "TX",
            "FL",
            "PA",
            "CA",
            "IL",
            "AL",
            "NC",
            "NY",
            "GA",
            "OH",
            "WA",
            "MI",
            "IN",
            "AZ",
            "LA",
            "SC",
            "VA",
            "OK",
            "MO",
            "TN",
            "KY",
            "NJ",
            "AR",
            "WV",
            "WI",
            "OR",
            "MS",
            "IA",
            "MN",
            "CO",
            "KS",
            "WY",
            "MD",
            "ND",
            "NV",
            "CT",
            "UT",
            "NE",
            "NM",
            "MT",
            "MA",
            "ID",
            "NH",
            "SD",
            "ME",
            "HI",
            "RI",
            "AK",
            "DE",
            "VT",
            "DC"
           ],
           "name": "",
           "type": "choropleth",
           "z": [
            477352431,
            244252041,
            215385830,
            195465640,
            188003357,
            145057996,
            134249499,
            132520504,
            129239379,
            126184608,
            116756733,
            115837098,
            113459711,
            111925139,
            102128483,
            99364084,
            95509121,
            86223721,
            85095387,
            81554914,
            78804503,
            75033596,
            67999360,
            67249025,
            65936801,
            64113560,
            63473769,
            63380567,
            61517452,
            55386281,
            51710217,
            46112140,
            43809646,
            42615320,
            39640242,
            39453551,
            39375427,
            36966213,
            32673685,
            28212833,
            27172881,
            18172120,
            17087156,
            12616392,
            11280697,
            9796779,
            8375257,
            6247364,
            6240644,
            2178918,
            79331
           ]
          }
         ],
         "name": "2018"
        },
        {
         "data": [
          {
           "coloraxis": "coloraxis",
           "geo": "geo",
           "hovertemplate": "Year=2019<br>State=%{location}<br>Total Generated(MWh)=%{z}<extra></extra>",
           "locationmode": "USA-states",
           "locations": [
            "TX",
            "FL",
            "PA",
            "CA",
            "IL",
            "AL",
            "NY",
            "NC",
            "GA",
            "OH",
            "MI",
            "AZ",
            "WA",
            "IN",
            "LA",
            "SC",
            "VA",
            "OK",
            "TN",
            "MO",
            "KY",
            "NJ",
            "MS",
            "AR",
            "WV",
            "WI",
            "OR",
            "IA",
            "MN",
            "CO",
            "KS",
            "WY",
            "ND",
            "CT",
            "NV",
            "MD",
            "UT",
            "NE",
            "NM",
            "MT",
            "MA",
            "ID",
            "NH",
            "SD",
            "ME",
            "HI",
            "RI",
            "AK",
            "DE",
            "VT",
            "DC"
           ],
           "name": "",
           "type": "choropleth",
           "z": [
            483201027,
            245603489,
            228995336,
            201784202,
            184470055,
            142679432,
            131603283,
            131173856,
            128691566,
            120001123,
            116701342,
            113551989,
            106463607,
            102505382,
            100174762,
            100107510,
            96827640,
            85216502,
            82327116,
            78278748,
            71804253,
            71018779,
            65958757,
            64442895,
            63925644,
            62774297,
            62258380,
            61673546,
            59379390,
            56337735,
            50887992,
            42145656,
            41147321,
            40050031,
            39889663,
            39328700,
            39117030,
            37297613,
            35174512,
            27797079,
            21515630,
            18407814,
            18026597,
            14506644,
            10490559,
            9750007,
            7624402,
            6070842,
            5258537,
            2289797,
            174080
           ]
          }
         ],
         "name": "2019"
        },
        {
         "data": [
          {
           "coloraxis": "coloraxis",
           "geo": "geo",
           "hovertemplate": "Year=2020<br>State=%{location}<br>Total Generated(MWh)=%{z}<extra></extra>",
           "locationmode": "USA-states",
           "locations": [
            "TX",
            "FL",
            "PA",
            "CA",
            "IL",
            "AL",
            "NY",
            "NC",
            "OH",
            "GA",
            "WA",
            "AZ",
            "MI",
            "VA",
            "LA",
            "SC",
            "IN",
            "OK",
            "TN",
            "MO",
            "MS",
            "OR",
            "KY",
            "WI",
            "NJ",
            "IA",
            "WV",
            "MN",
            "AR",
            "KS",
            "CO",
            "ND",
            "WY",
            "CT",
            "NV",
            "UT",
            "NE",
            "MD",
            "NM",
            "MT",
            "MA",
            "ID",
            "NH",
            "SD",
            "ME",
            "HI",
            "RI",
            "AK",
            "DE",
            "VT",
            "DC"
           ],
           "name": "",
           "type": "choropleth",
           "z": [
            473514914,
            250827799,
            230143281,
            193074939,
            173394537,
            137542696,
            129430273,
            124363444,
            120992735,
            120125999,
            116114469,
            109305061,
            106624721,
            103056188,
            100773776,
            98528808,
            89956918,
            82297835,
            80566009,
            72567870,
            66581789,
            63624785,
            63539006,
            61448549,
            61106462,
            59636682,
            56661537,
            56510140,
            54641263,
            54541831,
            54115020,
            42176429,
            42010988,
            41190571,
            40424743,
            37087306,
            36848686,
            36029207,
            34075590,
            23353290,
            18214145,
            17686137,
            16350582,
            14146536,
            10001879,
            9079012,
            8894939,
            6276443,
            5205369,
            2156411,
            201106
           ]
          }
         ],
         "name": "2020"
        },
        {
         "data": [
          {
           "coloraxis": "coloraxis",
           "geo": "geo",
           "hovertemplate": "Year=2021<br>State=%{location}<br>Total Generated(MWh)=%{z}<extra></extra>",
           "locationmode": "USA-states",
           "locations": [
            "TX",
            "FL",
            "PA",
            "CA",
            "IL",
            "AL",
            "NC",
            "GA",
            "NY",
            "OH",
            "MI",
            "WA",
            "AZ",
            "SC",
            "LA",
            "IN",
            "VA",
            "TN",
            "OK",
            "MO",
            "KY",
            "MS",
            "IA",
            "WV",
            "WI",
            "NJ",
            "OR",
            "AR",
            "MN",
            "KS",
            "CO",
            "CT",
            "WY",
            "ND",
            "UT",
            "NV",
            "MD",
            "NE",
            "NM",
            "MT",
            "MA",
            "SD",
            "NH",
            "ID",
            "ME",
            "HI",
            "RI",
            "AK",
            "DE",
            "VT",
            "DC"
           ],
           "name": "",
           "type": "choropleth",
           "z": [
            483561769,
            244401038,
            241648365,
            196727116,
            181859377,
            142955133,
            131262686,
            126530745,
            125226026,
            123335613,
            116045383,
            109122726,
            108608535,
            99924409,
            98061967,
            94565161,
            94309019,
            81478887,
            80564122,
            77815983,
            70554259,
            68713324,
            66120266,
            65630564,
            65478679,
            61386527,
            61081837,
            60230137,
            59628025,
            56745956,
            56737727,
            44123575,
            43650676,
            42705232,
            42656775,
            41880191,
            39719296,
            38644643,
            35271296,
            24466637,
            19366993,
            17834631,
            17434999,
            16948581,
            10952775,
            9188089,
            8035017,
            5943530,
            4039976,
            2147738,
            218241
           ]
          }
         ],
         "name": "2021"
        }
       ],
       "layout": {
        "coloraxis": {
         "cmax": 483561773,
         "cmin": 35499,
         "colorbar": {
          "title": {
           "text": "Total Generated(MWh)"
          }
         },
         "colorscale": [
          [
           0,
           "rgb(128,0,0)"
          ],
          [
           0.2,
           "rgb(250,0,0)"
          ],
          [
           0.4,
           "rgb(255,255,0)"
          ],
          [
           0.6,
           "rgb(5,255,255)"
          ],
          [
           0.8,
           "rgb(0,60,170)"
          ],
          [
           1,
           "rgb(0,0,131)"
          ]
         ]
        },
        "geo": {
         "center": {},
         "domain": {
          "x": [
           0,
           1
          ],
          "y": [
           0,
           1
          ]
         },
         "scope": "usa"
        },
        "height": 600,
        "legend": {
         "tracegroupgap": 0
        },
        "sliders": [
         {
          "active": 0,
          "currentvalue": {
           "prefix": "Year="
          },
          "len": 0.9,
          "pad": {
           "b": 10,
           "t": 60
          },
          "steps": [
           {
            "args": [
             [
              "2001"
             ],
             {
              "frame": {
               "duration": 0,
               "redraw": true
              },
              "fromcurrent": true,
              "mode": "immediate",
              "transition": {
               "duration": 0,
               "easing": "linear"
              }
             }
            ],
            "label": "2001",
            "method": "animate"
           },
           {
            "args": [
             [
              "2002"
             ],
             {
              "frame": {
               "duration": 0,
               "redraw": true
              },
              "fromcurrent": true,
              "mode": "immediate",
              "transition": {
               "duration": 0,
               "easing": "linear"
              }
             }
            ],
            "label": "2002",
            "method": "animate"
           },
           {
            "args": [
             [
              "2003"
             ],
             {
              "frame": {
               "duration": 0,
               "redraw": true
              },
              "fromcurrent": true,
              "mode": "immediate",
              "transition": {
               "duration": 0,
               "easing": "linear"
              }
             }
            ],
            "label": "2003",
            "method": "animate"
           },
           {
            "args": [
             [
              "2004"
             ],
             {
              "frame": {
               "duration": 0,
               "redraw": true
              },
              "fromcurrent": true,
              "mode": "immediate",
              "transition": {
               "duration": 0,
               "easing": "linear"
              }
             }
            ],
            "label": "2004",
            "method": "animate"
           },
           {
            "args": [
             [
              "2005"
             ],
             {
              "frame": {
               "duration": 0,
               "redraw": true
              },
              "fromcurrent": true,
              "mode": "immediate",
              "transition": {
               "duration": 0,
               "easing": "linear"
              }
             }
            ],
            "label": "2005",
            "method": "animate"
           },
           {
            "args": [
             [
              "2006"
             ],
             {
              "frame": {
               "duration": 0,
               "redraw": true
              },
              "fromcurrent": true,
              "mode": "immediate",
              "transition": {
               "duration": 0,
               "easing": "linear"
              }
             }
            ],
            "label": "2006",
            "method": "animate"
           },
           {
            "args": [
             [
              "2007"
             ],
             {
              "frame": {
               "duration": 0,
               "redraw": true
              },
              "fromcurrent": true,
              "mode": "immediate",
              "transition": {
               "duration": 0,
               "easing": "linear"
              }
             }
            ],
            "label": "2007",
            "method": "animate"
           },
           {
            "args": [
             [
              "2008"
             ],
             {
              "frame": {
               "duration": 0,
               "redraw": true
              },
              "fromcurrent": true,
              "mode": "immediate",
              "transition": {
               "duration": 0,
               "easing": "linear"
              }
             }
            ],
            "label": "2008",
            "method": "animate"
           },
           {
            "args": [
             [
              "2009"
             ],
             {
              "frame": {
               "duration": 0,
               "redraw": true
              },
              "fromcurrent": true,
              "mode": "immediate",
              "transition": {
               "duration": 0,
               "easing": "linear"
              }
             }
            ],
            "label": "2009",
            "method": "animate"
           },
           {
            "args": [
             [
              "2010"
             ],
             {
              "frame": {
               "duration": 0,
               "redraw": true
              },
              "fromcurrent": true,
              "mode": "immediate",
              "transition": {
               "duration": 0,
               "easing": "linear"
              }
             }
            ],
            "label": "2010",
            "method": "animate"
           },
           {
            "args": [
             [
              "2011"
             ],
             {
              "frame": {
               "duration": 0,
               "redraw": true
              },
              "fromcurrent": true,
              "mode": "immediate",
              "transition": {
               "duration": 0,
               "easing": "linear"
              }
             }
            ],
            "label": "2011",
            "method": "animate"
           },
           {
            "args": [
             [
              "2012"
             ],
             {
              "frame": {
               "duration": 0,
               "redraw": true
              },
              "fromcurrent": true,
              "mode": "immediate",
              "transition": {
               "duration": 0,
               "easing": "linear"
              }
             }
            ],
            "label": "2012",
            "method": "animate"
           },
           {
            "args": [
             [
              "2013"
             ],
             {
              "frame": {
               "duration": 0,
               "redraw": true
              },
              "fromcurrent": true,
              "mode": "immediate",
              "transition": {
               "duration": 0,
               "easing": "linear"
              }
             }
            ],
            "label": "2013",
            "method": "animate"
           },
           {
            "args": [
             [
              "2014"
             ],
             {
              "frame": {
               "duration": 0,
               "redraw": true
              },
              "fromcurrent": true,
              "mode": "immediate",
              "transition": {
               "duration": 0,
               "easing": "linear"
              }
             }
            ],
            "label": "2014",
            "method": "animate"
           },
           {
            "args": [
             [
              "2015"
             ],
             {
              "frame": {
               "duration": 0,
               "redraw": true
              },
              "fromcurrent": true,
              "mode": "immediate",
              "transition": {
               "duration": 0,
               "easing": "linear"
              }
             }
            ],
            "label": "2015",
            "method": "animate"
           },
           {
            "args": [
             [
              "2016"
             ],
             {
              "frame": {
               "duration": 0,
               "redraw": true
              },
              "fromcurrent": true,
              "mode": "immediate",
              "transition": {
               "duration": 0,
               "easing": "linear"
              }
             }
            ],
            "label": "2016",
            "method": "animate"
           },
           {
            "args": [
             [
              "2017"
             ],
             {
              "frame": {
               "duration": 0,
               "redraw": true
              },
              "fromcurrent": true,
              "mode": "immediate",
              "transition": {
               "duration": 0,
               "easing": "linear"
              }
             }
            ],
            "label": "2017",
            "method": "animate"
           },
           {
            "args": [
             [
              "2018"
             ],
             {
              "frame": {
               "duration": 0,
               "redraw": true
              },
              "fromcurrent": true,
              "mode": "immediate",
              "transition": {
               "duration": 0,
               "easing": "linear"
              }
             }
            ],
            "label": "2018",
            "method": "animate"
           },
           {
            "args": [
             [
              "2019"
             ],
             {
              "frame": {
               "duration": 0,
               "redraw": true
              },
              "fromcurrent": true,
              "mode": "immediate",
              "transition": {
               "duration": 0,
               "easing": "linear"
              }
             }
            ],
            "label": "2019",
            "method": "animate"
           },
           {
            "args": [
             [
              "2020"
             ],
             {
              "frame": {
               "duration": 0,
               "redraw": true
              },
              "fromcurrent": true,
              "mode": "immediate",
              "transition": {
               "duration": 0,
               "easing": "linear"
              }
             }
            ],
            "label": "2020",
            "method": "animate"
           },
           {
            "args": [
             [
              "2021"
             ],
             {
              "frame": {
               "duration": 0,
               "redraw": true
              },
              "fromcurrent": true,
              "mode": "immediate",
              "transition": {
               "duration": 0,
               "easing": "linear"
              }
             }
            ],
            "label": "2021",
            "method": "animate"
           }
          ],
          "x": 0.1,
          "xanchor": "left",
          "y": 0,
          "yanchor": "top"
         }
        ],
        "template": {
         "data": {
          "bar": [
           {
            "error_x": {
             "color": "#2a3f5f"
            },
            "error_y": {
             "color": "#2a3f5f"
            },
            "marker": {
             "line": {
              "color": "#E5ECF6",
              "width": 0.5
             },
             "pattern": {
              "fillmode": "overlay",
              "size": 10,
              "solidity": 0.2
             }
            },
            "type": "bar"
           }
          ],
          "barpolar": [
           {
            "marker": {
             "line": {
              "color": "#E5ECF6",
              "width": 0.5
             },
             "pattern": {
              "fillmode": "overlay",
              "size": 10,
              "solidity": 0.2
             }
            },
            "type": "barpolar"
           }
          ],
          "carpet": [
           {
            "aaxis": {
             "endlinecolor": "#2a3f5f",
             "gridcolor": "white",
             "linecolor": "white",
             "minorgridcolor": "white",
             "startlinecolor": "#2a3f5f"
            },
            "baxis": {
             "endlinecolor": "#2a3f5f",
             "gridcolor": "white",
             "linecolor": "white",
             "minorgridcolor": "white",
             "startlinecolor": "#2a3f5f"
            },
            "type": "carpet"
           }
          ],
          "choropleth": [
           {
            "colorbar": {
             "outlinewidth": 0,
             "ticks": ""
            },
            "type": "choropleth"
           }
          ],
          "contour": [
           {
            "colorbar": {
             "outlinewidth": 0,
             "ticks": ""
            },
            "colorscale": [
             [
              0,
              "#0d0887"
             ],
             [
              0.1111111111111111,
              "#46039f"
             ],
             [
              0.2222222222222222,
              "#7201a8"
             ],
             [
              0.3333333333333333,
              "#9c179e"
             ],
             [
              0.4444444444444444,
              "#bd3786"
             ],
             [
              0.5555555555555556,
              "#d8576b"
             ],
             [
              0.6666666666666666,
              "#ed7953"
             ],
             [
              0.7777777777777778,
              "#fb9f3a"
             ],
             [
              0.8888888888888888,
              "#fdca26"
             ],
             [
              1,
              "#f0f921"
             ]
            ],
            "type": "contour"
           }
          ],
          "contourcarpet": [
           {
            "colorbar": {
             "outlinewidth": 0,
             "ticks": ""
            },
            "type": "contourcarpet"
           }
          ],
          "heatmap": [
           {
            "colorbar": {
             "outlinewidth": 0,
             "ticks": ""
            },
            "colorscale": [
             [
              0,
              "#0d0887"
             ],
             [
              0.1111111111111111,
              "#46039f"
             ],
             [
              0.2222222222222222,
              "#7201a8"
             ],
             [
              0.3333333333333333,
              "#9c179e"
             ],
             [
              0.4444444444444444,
              "#bd3786"
             ],
             [
              0.5555555555555556,
              "#d8576b"
             ],
             [
              0.6666666666666666,
              "#ed7953"
             ],
             [
              0.7777777777777778,
              "#fb9f3a"
             ],
             [
              0.8888888888888888,
              "#fdca26"
             ],
             [
              1,
              "#f0f921"
             ]
            ],
            "type": "heatmap"
           }
          ],
          "heatmapgl": [
           {
            "colorbar": {
             "outlinewidth": 0,
             "ticks": ""
            },
            "colorscale": [
             [
              0,
              "#0d0887"
             ],
             [
              0.1111111111111111,
              "#46039f"
             ],
             [
              0.2222222222222222,
              "#7201a8"
             ],
             [
              0.3333333333333333,
              "#9c179e"
             ],
             [
              0.4444444444444444,
              "#bd3786"
             ],
             [
              0.5555555555555556,
              "#d8576b"
             ],
             [
              0.6666666666666666,
              "#ed7953"
             ],
             [
              0.7777777777777778,
              "#fb9f3a"
             ],
             [
              0.8888888888888888,
              "#fdca26"
             ],
             [
              1,
              "#f0f921"
             ]
            ],
            "type": "heatmapgl"
           }
          ],
          "histogram": [
           {
            "marker": {
             "pattern": {
              "fillmode": "overlay",
              "size": 10,
              "solidity": 0.2
             }
            },
            "type": "histogram"
           }
          ],
          "histogram2d": [
           {
            "colorbar": {
             "outlinewidth": 0,
             "ticks": ""
            },
            "colorscale": [
             [
              0,
              "#0d0887"
             ],
             [
              0.1111111111111111,
              "#46039f"
             ],
             [
              0.2222222222222222,
              "#7201a8"
             ],
             [
              0.3333333333333333,
              "#9c179e"
             ],
             [
              0.4444444444444444,
              "#bd3786"
             ],
             [
              0.5555555555555556,
              "#d8576b"
             ],
             [
              0.6666666666666666,
              "#ed7953"
             ],
             [
              0.7777777777777778,
              "#fb9f3a"
             ],
             [
              0.8888888888888888,
              "#fdca26"
             ],
             [
              1,
              "#f0f921"
             ]
            ],
            "type": "histogram2d"
           }
          ],
          "histogram2dcontour": [
           {
            "colorbar": {
             "outlinewidth": 0,
             "ticks": ""
            },
            "colorscale": [
             [
              0,
              "#0d0887"
             ],
             [
              0.1111111111111111,
              "#46039f"
             ],
             [
              0.2222222222222222,
              "#7201a8"
             ],
             [
              0.3333333333333333,
              "#9c179e"
             ],
             [
              0.4444444444444444,
              "#bd3786"
             ],
             [
              0.5555555555555556,
              "#d8576b"
             ],
             [
              0.6666666666666666,
              "#ed7953"
             ],
             [
              0.7777777777777778,
              "#fb9f3a"
             ],
             [
              0.8888888888888888,
              "#fdca26"
             ],
             [
              1,
              "#f0f921"
             ]
            ],
            "type": "histogram2dcontour"
           }
          ],
          "mesh3d": [
           {
            "colorbar": {
             "outlinewidth": 0,
             "ticks": ""
            },
            "type": "mesh3d"
           }
          ],
          "parcoords": [
           {
            "line": {
             "colorbar": {
              "outlinewidth": 0,
              "ticks": ""
             }
            },
            "type": "parcoords"
           }
          ],
          "pie": [
           {
            "automargin": true,
            "type": "pie"
           }
          ],
          "scatter": [
           {
            "marker": {
             "colorbar": {
              "outlinewidth": 0,
              "ticks": ""
             }
            },
            "type": "scatter"
           }
          ],
          "scatter3d": [
           {
            "line": {
             "colorbar": {
              "outlinewidth": 0,
              "ticks": ""
             }
            },
            "marker": {
             "colorbar": {
              "outlinewidth": 0,
              "ticks": ""
             }
            },
            "type": "scatter3d"
           }
          ],
          "scattercarpet": [
           {
            "marker": {
             "colorbar": {
              "outlinewidth": 0,
              "ticks": ""
             }
            },
            "type": "scattercarpet"
           }
          ],
          "scattergeo": [
           {
            "marker": {
             "colorbar": {
              "outlinewidth": 0,
              "ticks": ""
             }
            },
            "type": "scattergeo"
           }
          ],
          "scattergl": [
           {
            "marker": {
             "colorbar": {
              "outlinewidth": 0,
              "ticks": ""
             }
            },
            "type": "scattergl"
           }
          ],
          "scattermapbox": [
           {
            "marker": {
             "colorbar": {
              "outlinewidth": 0,
              "ticks": ""
             }
            },
            "type": "scattermapbox"
           }
          ],
          "scatterpolar": [
           {
            "marker": {
             "colorbar": {
              "outlinewidth": 0,
              "ticks": ""
             }
            },
            "type": "scatterpolar"
           }
          ],
          "scatterpolargl": [
           {
            "marker": {
             "colorbar": {
              "outlinewidth": 0,
              "ticks": ""
             }
            },
            "type": "scatterpolargl"
           }
          ],
          "scatterternary": [
           {
            "marker": {
             "colorbar": {
              "outlinewidth": 0,
              "ticks": ""
             }
            },
            "type": "scatterternary"
           }
          ],
          "surface": [
           {
            "colorbar": {
             "outlinewidth": 0,
             "ticks": ""
            },
            "colorscale": [
             [
              0,
              "#0d0887"
             ],
             [
              0.1111111111111111,
              "#46039f"
             ],
             [
              0.2222222222222222,
              "#7201a8"
             ],
             [
              0.3333333333333333,
              "#9c179e"
             ],
             [
              0.4444444444444444,
              "#bd3786"
             ],
             [
              0.5555555555555556,
              "#d8576b"
             ],
             [
              0.6666666666666666,
              "#ed7953"
             ],
             [
              0.7777777777777778,
              "#fb9f3a"
             ],
             [
              0.8888888888888888,
              "#fdca26"
             ],
             [
              1,
              "#f0f921"
             ]
            ],
            "type": "surface"
           }
          ],
          "table": [
           {
            "cells": {
             "fill": {
              "color": "#EBF0F8"
             },
             "line": {
              "color": "white"
             }
            },
            "header": {
             "fill": {
              "color": "#C8D4E3"
             },
             "line": {
              "color": "white"
             }
            },
            "type": "table"
           }
          ]
         },
         "layout": {
          "annotationdefaults": {
           "arrowcolor": "#2a3f5f",
           "arrowhead": 0,
           "arrowwidth": 1
          },
          "autotypenumbers": "strict",
          "coloraxis": {
           "colorbar": {
            "outlinewidth": 0,
            "ticks": ""
           }
          },
          "colorscale": {
           "diverging": [
            [
             0,
             "#8e0152"
            ],
            [
             0.1,
             "#c51b7d"
            ],
            [
             0.2,
             "#de77ae"
            ],
            [
             0.3,
             "#f1b6da"
            ],
            [
             0.4,
             "#fde0ef"
            ],
            [
             0.5,
             "#f7f7f7"
            ],
            [
             0.6,
             "#e6f5d0"
            ],
            [
             0.7,
             "#b8e186"
            ],
            [
             0.8,
             "#7fbc41"
            ],
            [
             0.9,
             "#4d9221"
            ],
            [
             1,
             "#276419"
            ]
           ],
           "sequential": [
            [
             0,
             "#0d0887"
            ],
            [
             0.1111111111111111,
             "#46039f"
            ],
            [
             0.2222222222222222,
             "#7201a8"
            ],
            [
             0.3333333333333333,
             "#9c179e"
            ],
            [
             0.4444444444444444,
             "#bd3786"
            ],
            [
             0.5555555555555556,
             "#d8576b"
            ],
            [
             0.6666666666666666,
             "#ed7953"
            ],
            [
             0.7777777777777778,
             "#fb9f3a"
            ],
            [
             0.8888888888888888,
             "#fdca26"
            ],
            [
             1,
             "#f0f921"
            ]
           ],
           "sequentialminus": [
            [
             0,
             "#0d0887"
            ],
            [
             0.1111111111111111,
             "#46039f"
            ],
            [
             0.2222222222222222,
             "#7201a8"
            ],
            [
             0.3333333333333333,
             "#9c179e"
            ],
            [
             0.4444444444444444,
             "#bd3786"
            ],
            [
             0.5555555555555556,
             "#d8576b"
            ],
            [
             0.6666666666666666,
             "#ed7953"
            ],
            [
             0.7777777777777778,
             "#fb9f3a"
            ],
            [
             0.8888888888888888,
             "#fdca26"
            ],
            [
             1,
             "#f0f921"
            ]
           ]
          },
          "colorway": [
           "#636efa",
           "#EF553B",
           "#00cc96",
           "#ab63fa",
           "#FFA15A",
           "#19d3f3",
           "#FF6692",
           "#B6E880",
           "#FF97FF",
           "#FECB52"
          ],
          "font": {
           "color": "#2a3f5f"
          },
          "geo": {
           "bgcolor": "white",
           "lakecolor": "white",
           "landcolor": "#E5ECF6",
           "showlakes": true,
           "showland": true,
           "subunitcolor": "white"
          },
          "hoverlabel": {
           "align": "left"
          },
          "hovermode": "closest",
          "mapbox": {
           "style": "light"
          },
          "paper_bgcolor": "white",
          "plot_bgcolor": "#E5ECF6",
          "polar": {
           "angularaxis": {
            "gridcolor": "white",
            "linecolor": "white",
            "ticks": ""
           },
           "bgcolor": "#E5ECF6",
           "radialaxis": {
            "gridcolor": "white",
            "linecolor": "white",
            "ticks": ""
           }
          },
          "scene": {
           "xaxis": {
            "backgroundcolor": "#E5ECF6",
            "gridcolor": "white",
            "gridwidth": 2,
            "linecolor": "white",
            "showbackground": true,
            "ticks": "",
            "zerolinecolor": "white"
           },
           "yaxis": {
            "backgroundcolor": "#E5ECF6",
            "gridcolor": "white",
            "gridwidth": 2,
            "linecolor": "white",
            "showbackground": true,
            "ticks": "",
            "zerolinecolor": "white"
           },
           "zaxis": {
            "backgroundcolor": "#E5ECF6",
            "gridcolor": "white",
            "gridwidth": 2,
            "linecolor": "white",
            "showbackground": true,
            "ticks": "",
            "zerolinecolor": "white"
           }
          },
          "shapedefaults": {
           "line": {
            "color": "#2a3f5f"
           }
          },
          "ternary": {
           "aaxis": {
            "gridcolor": "white",
            "linecolor": "white",
            "ticks": ""
           },
           "baxis": {
            "gridcolor": "white",
            "linecolor": "white",
            "ticks": ""
           },
           "bgcolor": "#E5ECF6",
           "caxis": {
            "gridcolor": "white",
            "linecolor": "white",
            "ticks": ""
           }
          },
          "title": {
           "x": 0.05
          },
          "xaxis": {
           "automargin": true,
           "gridcolor": "white",
           "linecolor": "white",
           "ticks": "",
           "title": {
            "standoff": 15
           },
           "zerolinecolor": "white",
           "zerolinewidth": 2
          },
          "yaxis": {
           "automargin": true,
           "gridcolor": "white",
           "linecolor": "white",
           "ticks": "",
           "title": {
            "standoff": 15
           },
           "zerolinecolor": "white",
           "zerolinewidth": 2
          }
         }
        },
        "title": {
         "text": "Energy Generated by State Over Time"
        },
        "updatemenus": [
         {
          "buttons": [
           {
            "args": [
             null,
             {
              "frame": {
               "duration": 500,
               "redraw": true
              },
              "fromcurrent": true,
              "mode": "immediate",
              "transition": {
               "duration": 500,
               "easing": "linear"
              }
             }
            ],
            "label": "&#9654;",
            "method": "animate"
           },
           {
            "args": [
             [
              null
             ],
             {
              "frame": {
               "duration": 0,
               "redraw": true
              },
              "fromcurrent": true,
              "mode": "immediate",
              "transition": {
               "duration": 0,
               "easing": "linear"
              }
             }
            ],
            "label": "&#9724;",
            "method": "animate"
           }
          ],
          "direction": "left",
          "pad": {
           "r": 10,
           "t": 70
          },
          "showactive": false,
          "type": "buttons",
          "x": 0.1,
          "xanchor": "right",
          "y": 0,
          "yanchor": "top"
         }
        ]
       }
      },
      "text/html": [
       "<div>                            <div id=\"93562165-3b8b-407e-8ecb-ed41e9bf1e8f\" class=\"plotly-graph-div\" style=\"height:600px; width:100%;\"></div>            <script type=\"text/javascript\">                require([\"plotly\"], function(Plotly) {                    window.PLOTLYENV=window.PLOTLYENV || {};                                    if (document.getElementById(\"93562165-3b8b-407e-8ecb-ed41e9bf1e8f\")) {                    Plotly.newPlot(                        \"93562165-3b8b-407e-8ecb-ed41e9bf1e8f\",                        [{\"coloraxis\":\"coloraxis\",\"geo\":\"geo\",\"hovertemplate\":\"Year=2001<br>State=%{location}<br>Total Generated(MWh)=%{z}<extra></extra>\",\"locationmode\":\"USA-states\",\"locations\":[\"TX\",\"CA\",\"PA\",\"FL\",\"IL\",\"NY\",\"OH\",\"AL\",\"IN\",\"GA\",\"NC\",\"MI\",\"TN\",\"KY\",\"AZ\",\"SC\",\"LA\",\"WA\",\"WV\",\"MO\",\"VA\",\"NJ\",\"WI\",\"OK\",\"MS\",\"MD\",\"MN\",\"AR\",\"CO\",\"OR\",\"WY\",\"KS\",\"IA\",\"MA\",\"UT\",\"NV\",\"NM\",\"CT\",\"NE\",\"ND\",\"MT\",\"ME\",\"NH\",\"HI\",\"ID\",\"RI\",\"SD\",\"DE\",\"AK\",\"VT\",\"DC\"],\"name\":\"\",\"z\":[372580005.0,198596072.0,196576590.0,190945343.0,179249282.0,143914556.0,142261809.0,125345113.0,122569671.0,118316789.0,117495851.0,111845610.0,96221976.0,95417625.0,89911272.0,89158990.0,87894379.0,83048670.0,81836725.0,79544872.0,74104748.0,59421262.0,58763434.0,55249453.0,53446448.0,49062341.0,48523223.0,47192036.0,46876003.0,45051906.0,44776938.0,44748522.0,40658513.0,38478433.0,35853750.0,33875966.0,33611643.0,30490645.0,30485213.0,30332072.0,24232487.0,19564821.0,15074624.0,10633092.0,9346942.0,7501892.0,7400743.0,6807685.0,6743766.0,5480614.0,123239.0],\"type\":\"choropleth\"}],                        {\"template\":{\"data\":{\"bar\":[{\"error_x\":{\"color\":\"#2a3f5f\"},\"error_y\":{\"color\":\"#2a3f5f\"},\"marker\":{\"line\":{\"color\":\"#E5ECF6\",\"width\":0.5},\"pattern\":{\"fillmode\":\"overlay\",\"size\":10,\"solidity\":0.2}},\"type\":\"bar\"}],\"barpolar\":[{\"marker\":{\"line\":{\"color\":\"#E5ECF6\",\"width\":0.5},\"pattern\":{\"fillmode\":\"overlay\",\"size\":10,\"solidity\":0.2}},\"type\":\"barpolar\"}],\"carpet\":[{\"aaxis\":{\"endlinecolor\":\"#2a3f5f\",\"gridcolor\":\"white\",\"linecolor\":\"white\",\"minorgridcolor\":\"white\",\"startlinecolor\":\"#2a3f5f\"},\"baxis\":{\"endlinecolor\":\"#2a3f5f\",\"gridcolor\":\"white\",\"linecolor\":\"white\",\"minorgridcolor\":\"white\",\"startlinecolor\":\"#2a3f5f\"},\"type\":\"carpet\"}],\"choropleth\":[{\"colorbar\":{\"outlinewidth\":0,\"ticks\":\"\"},\"type\":\"choropleth\"}],\"contour\":[{\"colorbar\":{\"outlinewidth\":0,\"ticks\":\"\"},\"colorscale\":[[0.0,\"#0d0887\"],[0.1111111111111111,\"#46039f\"],[0.2222222222222222,\"#7201a8\"],[0.3333333333333333,\"#9c179e\"],[0.4444444444444444,\"#bd3786\"],[0.5555555555555556,\"#d8576b\"],[0.6666666666666666,\"#ed7953\"],[0.7777777777777778,\"#fb9f3a\"],[0.8888888888888888,\"#fdca26\"],[1.0,\"#f0f921\"]],\"type\":\"contour\"}],\"contourcarpet\":[{\"colorbar\":{\"outlinewidth\":0,\"ticks\":\"\"},\"type\":\"contourcarpet\"}],\"heatmap\":[{\"colorbar\":{\"outlinewidth\":0,\"ticks\":\"\"},\"colorscale\":[[0.0,\"#0d0887\"],[0.1111111111111111,\"#46039f\"],[0.2222222222222222,\"#7201a8\"],[0.3333333333333333,\"#9c179e\"],[0.4444444444444444,\"#bd3786\"],[0.5555555555555556,\"#d8576b\"],[0.6666666666666666,\"#ed7953\"],[0.7777777777777778,\"#fb9f3a\"],[0.8888888888888888,\"#fdca26\"],[1.0,\"#f0f921\"]],\"type\":\"heatmap\"}],\"heatmapgl\":[{\"colorbar\":{\"outlinewidth\":0,\"ticks\":\"\"},\"colorscale\":[[0.0,\"#0d0887\"],[0.1111111111111111,\"#46039f\"],[0.2222222222222222,\"#7201a8\"],[0.3333333333333333,\"#9c179e\"],[0.4444444444444444,\"#bd3786\"],[0.5555555555555556,\"#d8576b\"],[0.6666666666666666,\"#ed7953\"],[0.7777777777777778,\"#fb9f3a\"],[0.8888888888888888,\"#fdca26\"],[1.0,\"#f0f921\"]],\"type\":\"heatmapgl\"}],\"histogram\":[{\"marker\":{\"pattern\":{\"fillmode\":\"overlay\",\"size\":10,\"solidity\":0.2}},\"type\":\"histogram\"}],\"histogram2d\":[{\"colorbar\":{\"outlinewidth\":0,\"ticks\":\"\"},\"colorscale\":[[0.0,\"#0d0887\"],[0.1111111111111111,\"#46039f\"],[0.2222222222222222,\"#7201a8\"],[0.3333333333333333,\"#9c179e\"],[0.4444444444444444,\"#bd3786\"],[0.5555555555555556,\"#d8576b\"],[0.6666666666666666,\"#ed7953\"],[0.7777777777777778,\"#fb9f3a\"],[0.8888888888888888,\"#fdca26\"],[1.0,\"#f0f921\"]],\"type\":\"histogram2d\"}],\"histogram2dcontour\":[{\"colorbar\":{\"outlinewidth\":0,\"ticks\":\"\"},\"colorscale\":[[0.0,\"#0d0887\"],[0.1111111111111111,\"#46039f\"],[0.2222222222222222,\"#7201a8\"],[0.3333333333333333,\"#9c179e\"],[0.4444444444444444,\"#bd3786\"],[0.5555555555555556,\"#d8576b\"],[0.6666666666666666,\"#ed7953\"],[0.7777777777777778,\"#fb9f3a\"],[0.8888888888888888,\"#fdca26\"],[1.0,\"#f0f921\"]],\"type\":\"histogram2dcontour\"}],\"mesh3d\":[{\"colorbar\":{\"outlinewidth\":0,\"ticks\":\"\"},\"type\":\"mesh3d\"}],\"parcoords\":[{\"line\":{\"colorbar\":{\"outlinewidth\":0,\"ticks\":\"\"}},\"type\":\"parcoords\"}],\"pie\":[{\"automargin\":true,\"type\":\"pie\"}],\"scatter\":[{\"marker\":{\"colorbar\":{\"outlinewidth\":0,\"ticks\":\"\"}},\"type\":\"scatter\"}],\"scatter3d\":[{\"line\":{\"colorbar\":{\"outlinewidth\":0,\"ticks\":\"\"}},\"marker\":{\"colorbar\":{\"outlinewidth\":0,\"ticks\":\"\"}},\"type\":\"scatter3d\"}],\"scattercarpet\":[{\"marker\":{\"colorbar\":{\"outlinewidth\":0,\"ticks\":\"\"}},\"type\":\"scattercarpet\"}],\"scattergeo\":[{\"marker\":{\"colorbar\":{\"outlinewidth\":0,\"ticks\":\"\"}},\"type\":\"scattergeo\"}],\"scattergl\":[{\"marker\":{\"colorbar\":{\"outlinewidth\":0,\"ticks\":\"\"}},\"type\":\"scattergl\"}],\"scattermapbox\":[{\"marker\":{\"colorbar\":{\"outlinewidth\":0,\"ticks\":\"\"}},\"type\":\"scattermapbox\"}],\"scatterpolar\":[{\"marker\":{\"colorbar\":{\"outlinewidth\":0,\"ticks\":\"\"}},\"type\":\"scatterpolar\"}],\"scatterpolargl\":[{\"marker\":{\"colorbar\":{\"outlinewidth\":0,\"ticks\":\"\"}},\"type\":\"scatterpolargl\"}],\"scatterternary\":[{\"marker\":{\"colorbar\":{\"outlinewidth\":0,\"ticks\":\"\"}},\"type\":\"scatterternary\"}],\"surface\":[{\"colorbar\":{\"outlinewidth\":0,\"ticks\":\"\"},\"colorscale\":[[0.0,\"#0d0887\"],[0.1111111111111111,\"#46039f\"],[0.2222222222222222,\"#7201a8\"],[0.3333333333333333,\"#9c179e\"],[0.4444444444444444,\"#bd3786\"],[0.5555555555555556,\"#d8576b\"],[0.6666666666666666,\"#ed7953\"],[0.7777777777777778,\"#fb9f3a\"],[0.8888888888888888,\"#fdca26\"],[1.0,\"#f0f921\"]],\"type\":\"surface\"}],\"table\":[{\"cells\":{\"fill\":{\"color\":\"#EBF0F8\"},\"line\":{\"color\":\"white\"}},\"header\":{\"fill\":{\"color\":\"#C8D4E3\"},\"line\":{\"color\":\"white\"}},\"type\":\"table\"}]},\"layout\":{\"annotationdefaults\":{\"arrowcolor\":\"#2a3f5f\",\"arrowhead\":0,\"arrowwidth\":1},\"autotypenumbers\":\"strict\",\"coloraxis\":{\"colorbar\":{\"outlinewidth\":0,\"ticks\":\"\"}},\"colorscale\":{\"diverging\":[[0,\"#8e0152\"],[0.1,\"#c51b7d\"],[0.2,\"#de77ae\"],[0.3,\"#f1b6da\"],[0.4,\"#fde0ef\"],[0.5,\"#f7f7f7\"],[0.6,\"#e6f5d0\"],[0.7,\"#b8e186\"],[0.8,\"#7fbc41\"],[0.9,\"#4d9221\"],[1,\"#276419\"]],\"sequential\":[[0.0,\"#0d0887\"],[0.1111111111111111,\"#46039f\"],[0.2222222222222222,\"#7201a8\"],[0.3333333333333333,\"#9c179e\"],[0.4444444444444444,\"#bd3786\"],[0.5555555555555556,\"#d8576b\"],[0.6666666666666666,\"#ed7953\"],[0.7777777777777778,\"#fb9f3a\"],[0.8888888888888888,\"#fdca26\"],[1.0,\"#f0f921\"]],\"sequentialminus\":[[0.0,\"#0d0887\"],[0.1111111111111111,\"#46039f\"],[0.2222222222222222,\"#7201a8\"],[0.3333333333333333,\"#9c179e\"],[0.4444444444444444,\"#bd3786\"],[0.5555555555555556,\"#d8576b\"],[0.6666666666666666,\"#ed7953\"],[0.7777777777777778,\"#fb9f3a\"],[0.8888888888888888,\"#fdca26\"],[1.0,\"#f0f921\"]]},\"colorway\":[\"#636efa\",\"#EF553B\",\"#00cc96\",\"#ab63fa\",\"#FFA15A\",\"#19d3f3\",\"#FF6692\",\"#B6E880\",\"#FF97FF\",\"#FECB52\"],\"font\":{\"color\":\"#2a3f5f\"},\"geo\":{\"bgcolor\":\"white\",\"lakecolor\":\"white\",\"landcolor\":\"#E5ECF6\",\"showlakes\":true,\"showland\":true,\"subunitcolor\":\"white\"},\"hoverlabel\":{\"align\":\"left\"},\"hovermode\":\"closest\",\"mapbox\":{\"style\":\"light\"},\"paper_bgcolor\":\"white\",\"plot_bgcolor\":\"#E5ECF6\",\"polar\":{\"angularaxis\":{\"gridcolor\":\"white\",\"linecolor\":\"white\",\"ticks\":\"\"},\"bgcolor\":\"#E5ECF6\",\"radialaxis\":{\"gridcolor\":\"white\",\"linecolor\":\"white\",\"ticks\":\"\"}},\"scene\":{\"xaxis\":{\"backgroundcolor\":\"#E5ECF6\",\"gridcolor\":\"white\",\"gridwidth\":2,\"linecolor\":\"white\",\"showbackground\":true,\"ticks\":\"\",\"zerolinecolor\":\"white\"},\"yaxis\":{\"backgroundcolor\":\"#E5ECF6\",\"gridcolor\":\"white\",\"gridwidth\":2,\"linecolor\":\"white\",\"showbackground\":true,\"ticks\":\"\",\"zerolinecolor\":\"white\"},\"zaxis\":{\"backgroundcolor\":\"#E5ECF6\",\"gridcolor\":\"white\",\"gridwidth\":2,\"linecolor\":\"white\",\"showbackground\":true,\"ticks\":\"\",\"zerolinecolor\":\"white\"}},\"shapedefaults\":{\"line\":{\"color\":\"#2a3f5f\"}},\"ternary\":{\"aaxis\":{\"gridcolor\":\"white\",\"linecolor\":\"white\",\"ticks\":\"\"},\"baxis\":{\"gridcolor\":\"white\",\"linecolor\":\"white\",\"ticks\":\"\"},\"bgcolor\":\"#E5ECF6\",\"caxis\":{\"gridcolor\":\"white\",\"linecolor\":\"white\",\"ticks\":\"\"}},\"title\":{\"x\":0.05},\"xaxis\":{\"automargin\":true,\"gridcolor\":\"white\",\"linecolor\":\"white\",\"ticks\":\"\",\"title\":{\"standoff\":15},\"zerolinecolor\":\"white\",\"zerolinewidth\":2},\"yaxis\":{\"automargin\":true,\"gridcolor\":\"white\",\"linecolor\":\"white\",\"ticks\":\"\",\"title\":{\"standoff\":15},\"zerolinecolor\":\"white\",\"zerolinewidth\":2}}},\"geo\":{\"domain\":{\"x\":[0.0,1.0],\"y\":[0.0,1.0]},\"center\":{},\"scope\":\"usa\"},\"coloraxis\":{\"colorbar\":{\"title\":{\"text\":\"Total Generated(MWh)\"}},\"colorscale\":[[0.0,\"rgb(128,0,0)\"],[0.2,\"rgb(250,0,0)\"],[0.4,\"rgb(255,255,0)\"],[0.6,\"rgb(5,255,255)\"],[0.8,\"rgb(0,60,170)\"],[1.0,\"rgb(0,0,131)\"]],\"cmin\":35499.0,\"cmax\":483561773.0},\"legend\":{\"tracegroupgap\":0},\"title\":{\"text\":\"Energy Generated by State Over Time\"},\"height\":600,\"updatemenus\":[{\"buttons\":[{\"args\":[null,{\"frame\":{\"duration\":500,\"redraw\":true},\"mode\":\"immediate\",\"fromcurrent\":true,\"transition\":{\"duration\":500,\"easing\":\"linear\"}}],\"label\":\"&#9654;\",\"method\":\"animate\"},{\"args\":[[null],{\"frame\":{\"duration\":0,\"redraw\":true},\"mode\":\"immediate\",\"fromcurrent\":true,\"transition\":{\"duration\":0,\"easing\":\"linear\"}}],\"label\":\"&#9724;\",\"method\":\"animate\"}],\"direction\":\"left\",\"pad\":{\"r\":10,\"t\":70},\"showactive\":false,\"type\":\"buttons\",\"x\":0.1,\"xanchor\":\"right\",\"y\":0,\"yanchor\":\"top\"}],\"sliders\":[{\"active\":0,\"currentvalue\":{\"prefix\":\"Year=\"},\"len\":0.9,\"pad\":{\"b\":10,\"t\":60},\"steps\":[{\"args\":[[\"2001\"],{\"frame\":{\"duration\":0,\"redraw\":true},\"mode\":\"immediate\",\"fromcurrent\":true,\"transition\":{\"duration\":0,\"easing\":\"linear\"}}],\"label\":\"2001\",\"method\":\"animate\"},{\"args\":[[\"2002\"],{\"frame\":{\"duration\":0,\"redraw\":true},\"mode\":\"immediate\",\"fromcurrent\":true,\"transition\":{\"duration\":0,\"easing\":\"linear\"}}],\"label\":\"2002\",\"method\":\"animate\"},{\"args\":[[\"2003\"],{\"frame\":{\"duration\":0,\"redraw\":true},\"mode\":\"immediate\",\"fromcurrent\":true,\"transition\":{\"duration\":0,\"easing\":\"linear\"}}],\"label\":\"2003\",\"method\":\"animate\"},{\"args\":[[\"2004\"],{\"frame\":{\"duration\":0,\"redraw\":true},\"mode\":\"immediate\",\"fromcurrent\":true,\"transition\":{\"duration\":0,\"easing\":\"linear\"}}],\"label\":\"2004\",\"method\":\"animate\"},{\"args\":[[\"2005\"],{\"frame\":{\"duration\":0,\"redraw\":true},\"mode\":\"immediate\",\"fromcurrent\":true,\"transition\":{\"duration\":0,\"easing\":\"linear\"}}],\"label\":\"2005\",\"method\":\"animate\"},{\"args\":[[\"2006\"],{\"frame\":{\"duration\":0,\"redraw\":true},\"mode\":\"immediate\",\"fromcurrent\":true,\"transition\":{\"duration\":0,\"easing\":\"linear\"}}],\"label\":\"2006\",\"method\":\"animate\"},{\"args\":[[\"2007\"],{\"frame\":{\"duration\":0,\"redraw\":true},\"mode\":\"immediate\",\"fromcurrent\":true,\"transition\":{\"duration\":0,\"easing\":\"linear\"}}],\"label\":\"2007\",\"method\":\"animate\"},{\"args\":[[\"2008\"],{\"frame\":{\"duration\":0,\"redraw\":true},\"mode\":\"immediate\",\"fromcurrent\":true,\"transition\":{\"duration\":0,\"easing\":\"linear\"}}],\"label\":\"2008\",\"method\":\"animate\"},{\"args\":[[\"2009\"],{\"frame\":{\"duration\":0,\"redraw\":true},\"mode\":\"immediate\",\"fromcurrent\":true,\"transition\":{\"duration\":0,\"easing\":\"linear\"}}],\"label\":\"2009\",\"method\":\"animate\"},{\"args\":[[\"2010\"],{\"frame\":{\"duration\":0,\"redraw\":true},\"mode\":\"immediate\",\"fromcurrent\":true,\"transition\":{\"duration\":0,\"easing\":\"linear\"}}],\"label\":\"2010\",\"method\":\"animate\"},{\"args\":[[\"2011\"],{\"frame\":{\"duration\":0,\"redraw\":true},\"mode\":\"immediate\",\"fromcurrent\":true,\"transition\":{\"duration\":0,\"easing\":\"linear\"}}],\"label\":\"2011\",\"method\":\"animate\"},{\"args\":[[\"2012\"],{\"frame\":{\"duration\":0,\"redraw\":true},\"mode\":\"immediate\",\"fromcurrent\":true,\"transition\":{\"duration\":0,\"easing\":\"linear\"}}],\"label\":\"2012\",\"method\":\"animate\"},{\"args\":[[\"2013\"],{\"frame\":{\"duration\":0,\"redraw\":true},\"mode\":\"immediate\",\"fromcurrent\":true,\"transition\":{\"duration\":0,\"easing\":\"linear\"}}],\"label\":\"2013\",\"method\":\"animate\"},{\"args\":[[\"2014\"],{\"frame\":{\"duration\":0,\"redraw\":true},\"mode\":\"immediate\",\"fromcurrent\":true,\"transition\":{\"duration\":0,\"easing\":\"linear\"}}],\"label\":\"2014\",\"method\":\"animate\"},{\"args\":[[\"2015\"],{\"frame\":{\"duration\":0,\"redraw\":true},\"mode\":\"immediate\",\"fromcurrent\":true,\"transition\":{\"duration\":0,\"easing\":\"linear\"}}],\"label\":\"2015\",\"method\":\"animate\"},{\"args\":[[\"2016\"],{\"frame\":{\"duration\":0,\"redraw\":true},\"mode\":\"immediate\",\"fromcurrent\":true,\"transition\":{\"duration\":0,\"easing\":\"linear\"}}],\"label\":\"2016\",\"method\":\"animate\"},{\"args\":[[\"2017\"],{\"frame\":{\"duration\":0,\"redraw\":true},\"mode\":\"immediate\",\"fromcurrent\":true,\"transition\":{\"duration\":0,\"easing\":\"linear\"}}],\"label\":\"2017\",\"method\":\"animate\"},{\"args\":[[\"2018\"],{\"frame\":{\"duration\":0,\"redraw\":true},\"mode\":\"immediate\",\"fromcurrent\":true,\"transition\":{\"duration\":0,\"easing\":\"linear\"}}],\"label\":\"2018\",\"method\":\"animate\"},{\"args\":[[\"2019\"],{\"frame\":{\"duration\":0,\"redraw\":true},\"mode\":\"immediate\",\"fromcurrent\":true,\"transition\":{\"duration\":0,\"easing\":\"linear\"}}],\"label\":\"2019\",\"method\":\"animate\"},{\"args\":[[\"2020\"],{\"frame\":{\"duration\":0,\"redraw\":true},\"mode\":\"immediate\",\"fromcurrent\":true,\"transition\":{\"duration\":0,\"easing\":\"linear\"}}],\"label\":\"2020\",\"method\":\"animate\"},{\"args\":[[\"2021\"],{\"frame\":{\"duration\":0,\"redraw\":true},\"mode\":\"immediate\",\"fromcurrent\":true,\"transition\":{\"duration\":0,\"easing\":\"linear\"}}],\"label\":\"2021\",\"method\":\"animate\"}],\"x\":0.1,\"xanchor\":\"left\",\"y\":0,\"yanchor\":\"top\"}]},                        {\"responsive\": true}                    ).then(function(){\n",
       "                            Plotly.addFrames('93562165-3b8b-407e-8ecb-ed41e9bf1e8f', [{\"data\":[{\"coloraxis\":\"coloraxis\",\"geo\":\"geo\",\"hovertemplate\":\"Year=2001<br>State=%{location}<br>Total Generated(MWh)=%{z}<extra></extra>\",\"locationmode\":\"USA-states\",\"locations\":[\"TX\",\"CA\",\"PA\",\"FL\",\"IL\",\"NY\",\"OH\",\"AL\",\"IN\",\"GA\",\"NC\",\"MI\",\"TN\",\"KY\",\"AZ\",\"SC\",\"LA\",\"WA\",\"WV\",\"MO\",\"VA\",\"NJ\",\"WI\",\"OK\",\"MS\",\"MD\",\"MN\",\"AR\",\"CO\",\"OR\",\"WY\",\"KS\",\"IA\",\"MA\",\"UT\",\"NV\",\"NM\",\"CT\",\"NE\",\"ND\",\"MT\",\"ME\",\"NH\",\"HI\",\"ID\",\"RI\",\"SD\",\"DE\",\"AK\",\"VT\",\"DC\"],\"name\":\"\",\"z\":[372580005.0,198596072.0,196576590.0,190945343.0,179249282.0,143914556.0,142261809.0,125345113.0,122569671.0,118316789.0,117495851.0,111845610.0,96221976.0,95417625.0,89911272.0,89158990.0,87894379.0,83048670.0,81836725.0,79544872.0,74104748.0,59421262.0,58763434.0,55249453.0,53446448.0,49062341.0,48523223.0,47192036.0,46876003.0,45051906.0,44776938.0,44748522.0,40658513.0,38478433.0,35853750.0,33875966.0,33611643.0,30490645.0,30485213.0,30332072.0,24232487.0,19564821.0,15074624.0,10633092.0,9346942.0,7501892.0,7400743.0,6807685.0,6743766.0,5480614.0,123239.0],\"type\":\"choropleth\"}],\"name\":\"2001\"},{\"data\":[{\"coloraxis\":\"coloraxis\",\"geo\":\"geo\",\"hovertemplate\":\"Year=2002<br>State=%{location}<br>Total Generated(MWh)=%{z}<extra></extra>\",\"locationmode\":\"USA-states\",\"locations\":[\"TX\",\"PA\",\"FL\",\"IL\",\"CA\",\"OH\",\"NY\",\"AL\",\"GA\",\"IN\",\"NC\",\"MI\",\"WA\",\"SC\",\"TN\",\"LA\",\"WV\",\"AZ\",\"KY\",\"MO\",\"VA\",\"NJ\",\"OK\",\"WI\",\"MN\",\"MD\",\"AR\",\"KS\",\"OR\",\"CO\",\"WY\",\"MS\",\"IA\",\"MA\",\"UT\",\"NV\",\"NE\",\"CT\",\"ND\",\"NM\",\"MT\",\"ME\",\"NH\",\"HI\",\"ID\",\"SD\",\"RI\",\"AK\",\"DE\",\"VT\",\"DC\"],\"name\":\"\",\"z\":[385628540.0,204322879.0,203352773.0,188054455.0,184210032.0,147068847.0,139591688.0,132920673.0,126512214.0,125608143.0,124468026.0,117889086.0,102765050.0,96563496.0,96114266.0,94970964.0,94761753.0,94131661.0,92106668.0,81162196.0,75005656.0,61569385.0,59183418.0,58431436.0,52777958.0,48279085.0,47611641.0,47188445.0,47099368.0,45600391.0,43783839.0,42888814.0,42528383.0,42027825.0,36608007.0,32088938.0,31618488.0,31311212.0,31306306.0,30661709.0,25473706.0,22535036.0,15953078.0,11663072.0,9786932.0,7721958.0,7056759.0,6767323.0,6002484.0,5456189.0,261980.0],\"type\":\"choropleth\"}],\"name\":\"2002\"},{\"data\":[{\"coloraxis\":\"coloraxis\",\"geo\":\"geo\",\"hovertemplate\":\"Year=2003<br>State=%{location}<br>Total Generated(MWh)=%{z}<extra></extra>\",\"locationmode\":\"USA-states\",\"locations\":[\"TX\",\"FL\",\"PA\",\"CA\",\"IL\",\"OH\",\"NY\",\"AL\",\"NC\",\"IN\",\"GA\",\"MI\",\"WA\",\"LA\",\"WV\",\"AZ\",\"SC\",\"TN\",\"KY\",\"MO\",\"VA\",\"OK\",\"WI\",\"NJ\",\"MN\",\"MD\",\"AR\",\"OR\",\"MA\",\"CO\",\"KS\",\"WY\",\"IA\",\"MS\",\"UT\",\"NV\",\"NM\",\"ND\",\"NE\",\"CT\",\"MT\",\"NH\",\"ME\",\"HI\",\"ID\",\"SD\",\"DE\",\"AK\",\"VT\",\"RI\",\"DC\"],\"name\":\"\",\"z\":[379199685.0,212610013.0,206349515.0,192788542.0,189055262.0,146638134.0,137643315.0,137487221.0,127582321.0,124888223.0,124076832.0,111347061.0,100094687.0,94885041.0,94711550.0,94396218.0,93772679.0,92221799.0,91718817.0,87225088.0,75309422.0,60626862.0,60122427.0,57399354.0,55050985.0,52244244.0,50401105.0,48966140.0,48385024.0,46616787.0,46567566.0,43626603.0,42116192.0,40148276.0,38023667.0,33194888.0,32735655.0,31322124.0,30455984.0,29545049.0,26268728.0,21597107.0,18971639.0,10976371.0,10422936.0,7943837.0,7392284.0,6338733.0,6027963.0,5621141.0,74144.0],\"type\":\"choropleth\"}],\"name\":\"2003\"},{\"data\":[{\"coloraxis\":\"coloraxis\",\"geo\":\"geo\",\"hovertemplate\":\"Year=2004<br>State=%{location}<br>Total Generated(MWh)=%{z}<extra></extra>\",\"locationmode\":\"USA-states\",\"locations\":[\"TX\",\"FL\",\"PA\",\"CA\",\"IL\",\"OH\",\"NY\",\"AL\",\"IN\",\"GA\",\"NC\",\"MI\",\"AZ\",\"WA\",\"LA\",\"SC\",\"TN\",\"KY\",\"WV\",\"MO\",\"VA\",\"OK\",\"WI\",\"NJ\",\"MN\",\"MD\",\"AR\",\"OR\",\"CO\",\"MA\",\"KS\",\"WY\",\"MS\",\"IA\",\"UT\",\"NV\",\"NM\",\"CT\",\"NE\",\"ND\",\"MT\",\"NH\",\"ME\",\"HI\",\"ID\",\"DE\",\"SD\",\"AK\",\"VT\",\"RI\",\"DC\"],\"name\":\"\",\"z\":[390299148.0,218117924.0,214658499.0,194780362.0,191957779.0,148345902.0,137964803.0,137354767.0,127770404.0,126812719.0,126329962.0,118487270.0,104564139.0,102165055.0,98172296.0,97939931.0,97594551.0,94529945.0,89749564.0,87632907.0,78900045.0,60729562.0,60444944.0,55882361.0,52364129.0,52052781.0,51927641.0,51381280.0,47869505.0,47500481.0,46782657.0,44807600.0,43662613.0,43248189.0,38211977.0,37667442.0,32940362.0,32633407.0,32008709.0,29936111.0,26788772.0,23875791.0,19098894.0,11410405.0,10863035.0,7855547.0,7510216.0,6526722.0,5470381.0,4939425.0,36487.0],\"type\":\"choropleth\"}],\"name\":\"2004\"},{\"data\":[{\"coloraxis\":\"coloraxis\",\"geo\":\"geo\",\"hovertemplate\":\"Year=2005<br>State=%{location}<br>Total Generated(MWh)=%{z}<extra></extra>\",\"locationmode\":\"USA-states\",\"locations\":[\"TX\",\"FL\",\"PA\",\"CA\",\"IL\",\"OH\",\"NY\",\"AL\",\"GA\",\"IN\",\"NC\",\"MI\",\"SC\",\"WA\",\"AZ\",\"KY\",\"TN\",\"WV\",\"LA\",\"MO\",\"VA\",\"OK\",\"WI\",\"NJ\",\"MN\",\"MD\",\"CO\",\"OR\",\"AR\",\"MA\",\"KS\",\"WY\",\"MS\",\"IA\",\"NV\",\"UT\",\"NM\",\"CT\",\"ND\",\"NE\",\"MT\",\"NH\",\"ME\",\"HI\",\"ID\",\"DE\",\"AK\",\"SD\",\"RI\",\"VT\",\"DC\"],\"name\":\"\",\"z\":[396668727.0,220256414.0,218091134.0,200292813.0,194120144.0,156976328.0,146887426.0,137948574.0,136667894.0,130371568.0,129748582.0,121619776.0,102514657.0,101965854.0,101478648.0,97822424.0,97117165.0,93626282.0,92616878.0,90828231.0,78943043.0,68607829.0,61824659.0,60549582.0,53018994.0,52661606.0,49616696.0,49325008.0,47794508.0,47515445.0,45862700.0,45567309.0,45067453.0,44156157.0,40213748.0,38165128.0,35135644.0,33549741.0,31932619.0,31464739.0,27938777.0,24470010.0,18843978.0,11522807.0,10824983.0,8136578.0,6576658.0,6520771.0,6053297.0,5716760.0,226042.0],\"type\":\"choropleth\"}],\"name\":\"2005\"},{\"data\":[{\"coloraxis\":\"coloraxis\",\"geo\":\"geo\",\"hovertemplate\":\"Year=2006<br>State=%{location}<br>Total Generated(MWh)=%{z}<extra></extra>\",\"locationmode\":\"USA-states\",\"locations\":[\"TX\",\"FL\",\"PA\",\"CA\",\"IL\",\"OH\",\"NY\",\"AL\",\"GA\",\"IN\",\"NC\",\"MI\",\"WA\",\"AZ\",\"SC\",\"KY\",\"TN\",\"WV\",\"MO\",\"LA\",\"VA\",\"OK\",\"WI\",\"NJ\",\"OR\",\"MN\",\"AR\",\"CO\",\"MD\",\"MS\",\"MA\",\"KS\",\"IA\",\"WY\",\"UT\",\"NM\",\"CT\",\"NV\",\"NE\",\"ND\",\"MT\",\"NH\",\"ME\",\"ID\",\"HI\",\"DE\",\"SD\",\"VT\",\"AK\",\"RI\",\"DC\"],\"name\":\"\",\"z\":[400582880.0,223751621.0,218811600.0,216798689.0,192426964.0,155434073.0,142265439.0,140895443.0,138010206.0,130489790.0,125214786.0,112556731.0,108203152.0,104392526.0,99267606.0,98792014.0,93911104.0,93815804.0,91686350.0,90921830.0,73069539.0,70614878.0,61639846.0,60700136.0,53340699.0,53237796.0,52168698.0,50698353.0,48956890.0,46228847.0,45597777.0,45523739.0,45483466.0,45400364.0,41263325.0,37265628.0,34681732.0,31860023.0,31669968.0,30881138.0,28243535.0,22063691.0,16816175.0,13386085.0,11559175.0,7182178.0,7132242.0,7084345.0,6674195.0,5967725.0,81467.0],\"type\":\"choropleth\"}],\"name\":\"2006\"},{\"data\":[{\"coloraxis\":\"coloraxis\",\"geo\":\"geo\",\"hovertemplate\":\"Year=2007<br>State=%{location}<br>Total Generated(MWh)=%{z}<extra></extra>\",\"locationmode\":\"USA-states\",\"locations\":[\"TX\",\"PA\",\"FL\",\"CA\",\"IL\",\"OH\",\"NY\",\"GA\",\"AL\",\"IN\",\"NC\",\"MI\",\"AZ\",\"WA\",\"SC\",\"KY\",\"TN\",\"WV\",\"LA\",\"MO\",\"VA\",\"OK\",\"WI\",\"NJ\",\"OR\",\"AR\",\"MN\",\"CO\",\"MD\",\"KS\",\"MS\",\"IA\",\"MA\",\"WY\",\"UT\",\"NM\",\"CT\",\"NV\",\"NE\",\"ND\",\"MT\",\"NH\",\"ME\",\"HI\",\"ID\",\"DE\",\"RI\",\"AK\",\"SD\",\"VT\",\"DC\"],\"name\":\"\",\"z\":[405492289.0,226088345.0,225416070.0,210847585.0,200260686.0,155155549.0,145878689.0,145155152.0,143826269.0,130638000.0,130115295.0,119309942.0,113340970.0,106990209.0,103402136.0,97225318.0,95113410.0,93933111.0,92578327.0,91153082.0,78360516.0,72819091.0,63390625.0,62671247.0,55077795.0,54596236.0,54477651.0,53907490.0,50197928.0,50122198.0,50043691.0,49789213.0,47075976.0,45633489.0,45372573.0,35985336.0,33171201.0,32669737.0,32442703.0,31224103.0,28931503.0,23277170.0,16128568.0,11533349.0,11484094.0,8534164.0,7049846.0,6821389.0,6136605.0,5823581.0,75251.0],\"type\":\"choropleth\"}],\"name\":\"2007\"},{\"data\":[{\"coloraxis\":\"coloraxis\",\"geo\":\"geo\",\"hovertemplate\":\"Year=2008<br>State=%{location}<br>Total Generated(MWh)=%{z}<extra></extra>\",\"locationmode\":\"USA-states\",\"locations\":[\"TX\",\"PA\",\"FL\",\"CA\",\"IL\",\"OH\",\"AL\",\"NY\",\"GA\",\"IN\",\"NC\",\"AZ\",\"MI\",\"WA\",\"SC\",\"KY\",\"LA\",\"WV\",\"MO\",\"TN\",\"OK\",\"VA\",\"NJ\",\"WI\",\"OR\",\"AR\",\"MN\",\"CO\",\"IA\",\"MS\",\"MD\",\"KS\",\"UT\",\"WY\",\"MA\",\"NM\",\"NV\",\"ND\",\"NE\",\"CT\",\"MT\",\"NH\",\"ME\",\"ID\",\"HI\",\"DE\",\"RI\",\"SD\",\"VT\",\"AK\",\"DC\"],\"name\":\"\",\"z\":[404787783.0,222350938.0,219636829.0,207984265.0,199475174.0,153412250.0,145869896.0,140322095.0,136173402.0,129510293.0,125239062.0,119459172.0,114989800.0,110828460.0,100978011.0,97863340.0,92453137.0,91123096.0,91028792.0,90663312.0,76328906.0,72678536.0,63674794.0,63479547.0,58718436.0,55050528.0,54763364.0,53441593.0,53086787.0,48205710.0,47360962.0,46630319.0,46578766.0,46500446.0,42505480.0,37009846.0,35089976.0,32734574.0,32373521.0,30409475.0,29637143.0,22876990.0,17094916.0,11970554.0,11376381.0,7523840.0,7387265.0,7082669.0,6820220.0,6774837.0,72316.0],\"type\":\"choropleth\"}],\"name\":\"2008\"},{\"data\":[{\"coloraxis\":\"coloraxis\",\"geo\":\"geo\",\"hovertemplate\":\"Year=2009<br>State=%{location}<br>Total Generated(MWh)=%{z}<extra></extra>\",\"locationmode\":\"USA-states\",\"locations\":[\"TX\",\"PA\",\"FL\",\"CA\",\"IL\",\"AL\",\"OH\",\"NY\",\"GA\",\"NC\",\"IN\",\"AZ\",\"WA\",\"MI\",\"SC\",\"LA\",\"KY\",\"MO\",\"TN\",\"OK\",\"WV\",\"VA\",\"NJ\",\"WI\",\"AR\",\"OR\",\"MN\",\"IA\",\"CO\",\"MS\",\"KS\",\"WY\",\"MD\",\"UT\",\"NM\",\"MA\",\"NV\",\"ND\",\"NE\",\"CT\",\"MT\",\"NH\",\"ME\",\"ID\",\"HI\",\"SD\",\"RI\",\"VT\",\"AK\",\"DE\",\"DC\"],\"name\":\"\",\"z\":[397167903.0,219496145.0,217952315.0,204776141.0,193864366.0,143255560.0,136090221.0,133150559.0,128698377.0,118407401.0,116670281.0,111971249.0,104470128.0,101202612.0,100125486.0,90993681.0,90630423.0,88354274.0,79716892.0,75066814.0,70782514.0,70082062.0,61811249.0,59959055.0,57457747.0,56690852.0,52491840.0,51860059.0,50565953.0,48701483.0,46677305.0,46029218.0,43774832.0,43542945.0,39674336.0,38966655.0,37705134.0,34196465.0,34001898.0,31206229.0,26712731.0,20164122.0,16349845.0,13100153.0,11010537.0,8196534.0,7696823.0,7282350.0,6702158.0,4841558.0,35499.0],\"type\":\"choropleth\"}],\"name\":\"2009\"},{\"data\":[{\"coloraxis\":\"coloraxis\",\"geo\":\"geo\",\"hovertemplate\":\"Year=2010<br>State=%{location}<br>Total Generated(MWh)=%{z}<extra></extra>\",\"locationmode\":\"USA-states\",\"locations\":[\"TX\",\"PA\",\"FL\",\"CA\",\"IL\",\"AL\",\"OH\",\"GA\",\"NY\",\"NC\",\"IN\",\"AZ\",\"MI\",\"SC\",\"WA\",\"LA\",\"KY\",\"MO\",\"TN\",\"WV\",\"VA\",\"OK\",\"NJ\",\"WI\",\"AR\",\"IA\",\"OR\",\"MS\",\"MN\",\"CO\",\"WY\",\"KS\",\"MD\",\"MA\",\"UT\",\"NE\",\"NM\",\"NV\",\"ND\",\"CT\",\"MT\",\"NH\",\"ME\",\"ID\",\"HI\",\"SD\",\"RI\",\"AK\",\"VT\",\"DE\",\"DC\"],\"name\":\"\",\"z\":[411695049.0,229752315.0,229095941.0,204125606.0,201351874.0,152150510.0,143598338.0,137576939.0,136961659.0,128678483.0,125180735.0,111750959.0,111551380.0,104153132.0,103472724.0,102884943.0,98217655.0,92312991.0,82348621.0,80788945.0,72966459.0,72250731.0,65682498.0,64314068.0,61000191.0,57508721.0,55126998.0,54487269.0,53670220.0,50720788.0,48119254.0,47923767.0,43607257.0,42804835.0,42249352.0,36630016.0,36251545.0,35146250.0,34739539.0,33349622.0,29791179.0,22195920.0,17018657.0,12024565.0,10836038.0,10049634.0,7738722.0,6759575.0,6619989.0,5627647.0,199858.0],\"type\":\"choropleth\"}],\"name\":\"2010\"},{\"data\":[{\"coloraxis\":\"coloraxis\",\"geo\":\"geo\",\"hovertemplate\":\"Year=2011<br>State=%{location}<br>Total Generated(MWh)=%{z}<extra></extra>\",\"locationmode\":\"USA-states\",\"locations\":[\"TX\",\"PA\",\"FL\",\"CA\",\"IL\",\"AL\",\"NY\",\"OH\",\"GA\",\"IN\",\"NC\",\"WA\",\"MI\",\"AZ\",\"LA\",\"SC\",\"KY\",\"MO\",\"TN\",\"WV\",\"OK\",\"VA\",\"NJ\",\"WI\",\"AR\",\"OR\",\"IA\",\"MN\",\"MS\",\"CO\",\"WY\",\"KS\",\"MD\",\"UT\",\"NM\",\"MA\",\"NE\",\"ND\",\"CT\",\"NV\",\"MT\",\"NH\",\"ID\",\"ME\",\"SD\",\"HI\",\"RI\",\"AK\",\"VT\",\"DE\",\"DC\"],\"name\":\"\",\"z\":[435476923.8399998,227636139.64000005,221894574.25999993,200804842.7699999,199499728.24000004,156339209.94999996,137607868.14,135585804.63000005,124774237.31000003,122131414.11000003,118389855.03999999,115262600.95000009,109169507.16000016,108125357.05999997,105490737.03,102972567.32999997,98350982.24000001,94929440.75000003,81103862.31000002,78999623.69,74605713.66,66659105.210000016,64694096.02999995,63289343.89000001,61307535.94000003,59695164.24999999,56371912.73999997,53120061.680000015,51570942.749999985,51432554.429999985,47638470.92000001,45359840.160000004,41818068.39000002,40836150.05999998,38181139.38,38054820.62999996,36095051.07000001,35079900.129999995,33745220.79,31935918.00000002,30128542.660000008,20065941.110000003,16568786.019999994,15973688.22999999,11998885.540000003,10723332.999999998,8722272.590000002,6871032.9,6776218.800000001,6590194.840000001,200873.96000000002],\"type\":\"choropleth\"}],\"name\":\"2011\"},{\"data\":[{\"coloraxis\":\"coloraxis\",\"geo\":\"geo\",\"hovertemplate\":\"Year=2012<br>State=%{location}<br>Total Generated(MWh)=%{z}<extra></extra>\",\"locationmode\":\"USA-states\",\"locations\":[\"TX\",\"PA\",\"FL\",\"CA\",\"IL\",\"AL\",\"NY\",\"OH\",\"GA\",\"WA\",\"NC\",\"IN\",\"AZ\",\"MI\",\"LA\",\"SC\",\"MO\",\"KY\",\"OK\",\"TN\",\"WV\",\"VA\",\"NJ\",\"AR\",\"WI\",\"OR\",\"IA\",\"MS\",\"CO\",\"MN\",\"WY\",\"KS\",\"UT\",\"MD\",\"NM\",\"MA\",\"ND\",\"CT\",\"NV\",\"NE\",\"MT\",\"NH\",\"ID\",\"ME\",\"SD\",\"HI\",\"DE\",\"RI\",\"AK\",\"VT\",\"DC\"],\"name\":\"\",\"z\":[429812509.9700002,223419715.67000005,221096136.13000003,199518566.81000018,197565362.83000007,152878687.79999992,135768251.25000006,129745730.71000002,122306363.94999999,116835473.66999993,116681763.24000007,114695729.41000006,110904993.74000005,108166077.85000001,103407705.85000004,96755682.00999999,91804320.70999993,89949688.84000005,77896588.18000002,77724263.89000002,73413404.78000003,70739235.04999998,65263408.13999999,65005678.020000026,63742909.98,60932714.57000002,56675404.009999976,54584295.07000001,52556701.179999985,52193624.31000005,49588606.32000002,44424690.81,39402960.849999994,37809743.71999998,36635909.56,36198121.62999998,36125158.93999999,36117543.98999999,35173263.3,34217292.589999996,27804783.7,19264435.04,15499089.350000005,14428596.12999999,12034206.09,10469268.740000004,8633694.14,8309035.840000001,6946419.169999998,6569670.119999996,71786.78],\"type\":\"choropleth\"}],\"name\":\"2012\"},{\"data\":[{\"coloraxis\":\"coloraxis\",\"geo\":\"geo\",\"hovertemplate\":\"Year=2013<br>State=%{location}<br>Total Generated(MWh)=%{z}<extra></extra>\",\"locationmode\":\"USA-states\",\"locations\":[\"TX\",\"PA\",\"FL\",\"IL\",\"CA\",\"AL\",\"OH\",\"NY\",\"NC\",\"GA\",\"WA\",\"AZ\",\"IN\",\"MI\",\"LA\",\"SC\",\"MO\",\"KY\",\"TN\",\"VA\",\"WV\",\"OK\",\"WI\",\"NJ\",\"AR\",\"OR\",\"IA\",\"CO\",\"MS\",\"WY\",\"MN\",\"KS\",\"UT\",\"NE\",\"NV\",\"NM\",\"MD\",\"CT\",\"ND\",\"MA\",\"MT\",\"NH\",\"ID\",\"ME\",\"HI\",\"SD\",\"DE\",\"VT\",\"AK\",\"RI\",\"DC\"],\"name\":\"\",\"z\":[433380165.86000025,226785630.50999993,222398924.2,203004919.67000008,200077114.8299998,150572923.93999997,137284188.83000004,136116830.09999993,125936293.47999994,120953734.39999996,114172916.34000008,113325986.18999998,110403477.20999998,105417800.69999999,102010177.02,95249894.10000004,91626593.05000003,89741021.24999999,79651619.58000009,76896565.15,75863066.78000005,73673680.26000006,65962791.96000002,64750941.860000014,60322492.19000001,59895514.74000004,56670757.00000004,52937436.00000001,52810263.989999965,52483065.5,51296987.74000004,48472581.36999999,42516750.88000002,37104627.77000002,36443873.73,35870965.27,35850812.440000005,35610789.42000001,35021672.79,32885020.859999996,27687326.36999999,19778520.580000002,15186128.319999987,14030037.800000008,10267052.469999997,10108886.530000001,7760861.080000004,6884910.080000001,6496821.7399999965,6246806.780000001,65852.09],\"type\":\"choropleth\"}],\"name\":\"2013\"},{\"data\":[{\"coloraxis\":\"coloraxis\",\"geo\":\"geo\",\"hovertemplate\":\"Year=2014<br>State=%{location}<br>Total Generated(MWh)=%{z}<extra></extra>\",\"locationmode\":\"USA-states\",\"locations\":[\"TX\",\"FL\",\"PA\",\"IL\",\"CA\",\"AL\",\"NY\",\"OH\",\"NC\",\"GA\",\"IN\",\"WA\",\"AZ\",\"MI\",\"LA\",\"SC\",\"KY\",\"MO\",\"WV\",\"TN\",\"VA\",\"OK\",\"NJ\",\"AR\",\"WI\",\"OR\",\"IA\",\"MN\",\"MS\",\"CO\",\"KS\",\"WY\",\"UT\",\"NE\",\"MD\",\"NV\",\"ND\",\"CT\",\"NM\",\"MA\",\"MT\",\"NH\",\"ID\",\"ME\",\"SD\",\"HI\",\"DE\",\"VT\",\"RI\",\"AK\",\"DC\"],\"name\":\"\",\"z\":[437236406.77,231062160.43000013,221709452.18000013,202352425.76000002,197704742.23,149962563.07000005,136275373.08000016,134602213.48000005,128903904.24999993,125957134.00999999,115633622.32999997,115362583.74,112379276.18000005,105820820.03999998,103992084.69000003,97095321.47999999,90736783.07,88074036.95999995,81162422.38000005,80256937.74000001,77322962.88999999,70298615.03999999,67464757.36000003,61580991.510000005,60767365.16000003,59718512.029999994,57122984.68000001,56825384.95999996,54864346.18000001,54000898.600000024,50042935.44000002,49457628.25000002,43587027.12000002,39610374.79,38015159.01000001,36192638.94999999,36112578.57999999,33604720.40999999,32124996.890000015,31123860.81,30242531.460000012,19584207.76000001,15176262.539999997,13154288.460000005,11530227.04,9998065.729999997,7626521.1899999995,6996610.800000003,6293116.9399999995,6148889.930000001,64972.45999999999],\"type\":\"choropleth\"}],\"name\":\"2014\"},{\"data\":[{\"coloraxis\":\"coloraxis\",\"geo\":\"geo\",\"hovertemplate\":\"Year=2015<br>State=%{location}<br>Total Generated(MWh)=%{z}<extra></extra>\",\"locationmode\":\"USA-states\",\"locations\":[\"TX\",\"FL\",\"PA\",\"CA\",\"IL\",\"AL\",\"NY\",\"GA\",\"NC\",\"OH\",\"AZ\",\"MI\",\"WA\",\"LA\",\"IN\",\"SC\",\"VA\",\"MO\",\"KY\",\"OK\",\"TN\",\"NJ\",\"WV\",\"WI\",\"MS\",\"OR\",\"MN\",\"IA\",\"AR\",\"CO\",\"WY\",\"KS\",\"UT\",\"NE\",\"NV\",\"CT\",\"ND\",\"MD\",\"NM\",\"MA\",\"MT\",\"NH\",\"ID\",\"ME\",\"HI\",\"SD\",\"DE\",\"RI\",\"AK\",\"VT\",\"DC\"],\"name\":\"\",\"z\":[449826340.0,237412630.0,214572305.0,196703848.0,193952044.0,152477427.0,138627721.0,128817889.0,128388445.0,121893401.0,113142051.0,113008049.0,109287463.0,107812355.0,104019268.0,96532213.0,84411589.0,83640062.0,83543664.0,76135599.0,75214641.0,74608860.0,72295267.0,66360181.0,64757867.0,57866529.0,56979768.0,56658912.0,55559424.0,52393074.0,48966523.0,45527123.0,41949116.0,39883394.0,39046784.0,37470614.0,37156613.0,36365540.0,32701395.0,32085959.0,29302406.0,20015899.0,15667090.0,11741270.0,10119497.0,9633036.0,7810004.0,6939020.0,6284933.0,1982051.0,53748.0],\"type\":\"choropleth\"}],\"name\":\"2015\"},{\"data\":[{\"coloraxis\":\"coloraxis\",\"geo\":\"geo\",\"hovertemplate\":\"Year=2016<br>State=%{location}<br>Total Generated(MWh)=%{z}<extra></extra>\",\"locationmode\":\"USA-states\",\"locations\":[\"TX\",\"FL\",\"PA\",\"CA\",\"IL\",\"AL\",\"NY\",\"GA\",\"NC\",\"OH\",\"WA\",\"MI\",\"AZ\",\"LA\",\"IN\",\"SC\",\"VA\",\"KY\",\"TN\",\"OK\",\"MO\",\"NJ\",\"WV\",\"WI\",\"MS\",\"AR\",\"OR\",\"MN\",\"CO\",\"IA\",\"KS\",\"WY\",\"NV\",\"UT\",\"ND\",\"MD\",\"NE\",\"CT\",\"NM\",\"MA\",\"MT\",\"NH\",\"ID\",\"SD\",\"ME\",\"HI\",\"DE\",\"RI\",\"AK\",\"VT\",\"DC\"],\"name\":\"\",\"z\":[454047593.0,238262141.0,215066511.0,196963225.0,187289136.0,142385096.0,134417111.0,133380413.0,130779155.0,118922063.0,114086577.0,112121797.0,108763448.0,107268801.0,101759065.0,96985768.0,92554880.0,80273504.0,79340638.0,78655011.0,78611513.0,77611405.0,75942961.0,64966609.0,62881298.0,60445056.0,60182010.0,59478759.0,54418473.0,54392512.0,47599990.0,46656633.0,39787009.0,38133925.0,37856454.0,37166684.0,36524870.0,36496560.0,32912036.0,31955032.0,27783530.0,19282498.0,15660937.0,11524181.0,11514427.0,9948848.0,8731272.0,6564887.0,6335031.0,1911206.0,76469.0],\"type\":\"choropleth\"}],\"name\":\"2016\"},{\"data\":[{\"coloraxis\":\"coloraxis\",\"geo\":\"geo\",\"hovertemplate\":\"Year=2017<br>State=%{location}<br>Total Generated(MWh)=%{z}<extra></extra>\",\"locationmode\":\"USA-states\",\"locations\":[\"TX\",\"FL\",\"PA\",\"CA\",\"IL\",\"AL\",\"NC\",\"NY\",\"GA\",\"OH\",\"WA\",\"MI\",\"AZ\",\"IN\",\"LA\",\"SC\",\"VA\",\"MO\",\"TN\",\"NJ\",\"OK\",\"WV\",\"KY\",\"WI\",\"OR\",\"AR\",\"MS\",\"MN\",\"IA\",\"CO\",\"KS\",\"WY\",\"ND\",\"NV\",\"UT\",\"NE\",\"CT\",\"MD\",\"NM\",\"MA\",\"MT\",\"NH\",\"ID\",\"ME\",\"SD\",\"HI\",\"RI\",\"DE\",\"AK\",\"VT\",\"DC\"],\"name\":\"\",\"z\":[452794380.0,238413436.0,213639299.0,206146518.0,183591568.0,139964248.0,128468116.0,128065081.0,127455319.0,119554368.0,115912082.0,112313502.0,105851768.0,98929813.0,97719216.0,93080943.0,90417153.0,84606734.0,79046219.0,75644515.0,73731653.0,73357081.0,73179188.0,65107333.0,62713748.0,60775219.0,59727634.0,58748839.0,57909567.0,53843996.0,50933297.0,46741846.0,41505077.0,38201296.0,37411878.0,35406984.0,34562659.0,34104077.0,33597415.0,32204114.0,28220944.0,17446841.0,17396032.0,11264281.0,10935715.0,9812966.0,7614943.0,7495983.0,6497469.0,2141387.0,66871.0],\"type\":\"choropleth\"}],\"name\":\"2017\"},{\"data\":[{\"coloraxis\":\"coloraxis\",\"geo\":\"geo\",\"hovertemplate\":\"Year=2018<br>State=%{location}<br>Total Generated(MWh)=%{z}<extra></extra>\",\"locationmode\":\"USA-states\",\"locations\":[\"TX\",\"FL\",\"PA\",\"CA\",\"IL\",\"AL\",\"NC\",\"NY\",\"GA\",\"OH\",\"WA\",\"MI\",\"IN\",\"AZ\",\"LA\",\"SC\",\"VA\",\"OK\",\"MO\",\"TN\",\"KY\",\"NJ\",\"AR\",\"WV\",\"WI\",\"OR\",\"MS\",\"IA\",\"MN\",\"CO\",\"KS\",\"WY\",\"MD\",\"ND\",\"NV\",\"CT\",\"UT\",\"NE\",\"NM\",\"MT\",\"MA\",\"ID\",\"NH\",\"SD\",\"ME\",\"HI\",\"RI\",\"AK\",\"DE\",\"VT\",\"DC\"],\"name\":\"\",\"z\":[477352431.0,244252041.0,215385830.0,195465640.0,188003357.0,145057996.0,134249499.0,132520504.0,129239379.0,126184608.0,116756733.0,115837098.0,113459711.0,111925139.0,102128483.0,99364084.0,95509121.0,86223721.0,85095387.0,81554914.0,78804503.0,75033596.0,67999360.0,67249025.0,65936801.0,64113560.0,63473769.0,63380567.0,61517452.0,55386281.0,51710217.0,46112140.0,43809646.0,42615320.0,39640242.0,39453551.0,39375427.0,36966213.0,32673685.0,28212833.0,27172881.0,18172120.0,17087156.0,12616392.0,11280697.0,9796779.0,8375257.0,6247364.0,6240644.0,2178918.0,79331.0],\"type\":\"choropleth\"}],\"name\":\"2018\"},{\"data\":[{\"coloraxis\":\"coloraxis\",\"geo\":\"geo\",\"hovertemplate\":\"Year=2019<br>State=%{location}<br>Total Generated(MWh)=%{z}<extra></extra>\",\"locationmode\":\"USA-states\",\"locations\":[\"TX\",\"FL\",\"PA\",\"CA\",\"IL\",\"AL\",\"NY\",\"NC\",\"GA\",\"OH\",\"MI\",\"AZ\",\"WA\",\"IN\",\"LA\",\"SC\",\"VA\",\"OK\",\"TN\",\"MO\",\"KY\",\"NJ\",\"MS\",\"AR\",\"WV\",\"WI\",\"OR\",\"IA\",\"MN\",\"CO\",\"KS\",\"WY\",\"ND\",\"CT\",\"NV\",\"MD\",\"UT\",\"NE\",\"NM\",\"MT\",\"MA\",\"ID\",\"NH\",\"SD\",\"ME\",\"HI\",\"RI\",\"AK\",\"DE\",\"VT\",\"DC\"],\"name\":\"\",\"z\":[483201027.0,245603489.0,228995336.0,201784202.0,184470055.0,142679432.0,131603283.0,131173856.0,128691566.0,120001123.0,116701342.0,113551989.0,106463607.0,102505382.0,100174762.0,100107510.0,96827640.0,85216502.0,82327116.0,78278748.0,71804253.0,71018779.0,65958757.0,64442895.0,63925644.0,62774297.0,62258380.0,61673546.0,59379390.0,56337735.0,50887992.0,42145656.0,41147321.0,40050031.0,39889663.0,39328700.0,39117030.0,37297613.0,35174512.0,27797079.0,21515630.0,18407814.0,18026597.0,14506644.0,10490559.0,9750007.0,7624402.0,6070842.0,5258537.0,2289797.0,174080.0],\"type\":\"choropleth\"}],\"name\":\"2019\"},{\"data\":[{\"coloraxis\":\"coloraxis\",\"geo\":\"geo\",\"hovertemplate\":\"Year=2020<br>State=%{location}<br>Total Generated(MWh)=%{z}<extra></extra>\",\"locationmode\":\"USA-states\",\"locations\":[\"TX\",\"FL\",\"PA\",\"CA\",\"IL\",\"AL\",\"NY\",\"NC\",\"OH\",\"GA\",\"WA\",\"AZ\",\"MI\",\"VA\",\"LA\",\"SC\",\"IN\",\"OK\",\"TN\",\"MO\",\"MS\",\"OR\",\"KY\",\"WI\",\"NJ\",\"IA\",\"WV\",\"MN\",\"AR\",\"KS\",\"CO\",\"ND\",\"WY\",\"CT\",\"NV\",\"UT\",\"NE\",\"MD\",\"NM\",\"MT\",\"MA\",\"ID\",\"NH\",\"SD\",\"ME\",\"HI\",\"RI\",\"AK\",\"DE\",\"VT\",\"DC\"],\"name\":\"\",\"z\":[473514914.0,250827799.0,230143281.0,193074939.0,173394537.0,137542696.0,129430273.0,124363444.0,120992735.0,120125999.0,116114469.0,109305061.0,106624721.0,103056188.0,100773776.0,98528808.0,89956918.0,82297835.0,80566009.0,72567870.0,66581789.0,63624785.0,63539006.0,61448549.0,61106462.0,59636682.0,56661537.0,56510140.0,54641263.0,54541831.0,54115020.0,42176429.0,42010988.0,41190571.0,40424743.0,37087306.0,36848686.0,36029207.0,34075590.0,23353290.0,18214145.0,17686137.0,16350582.0,14146536.0,10001879.0,9079012.0,8894939.0,6276443.0,5205369.0,2156411.0,201106.0],\"type\":\"choropleth\"}],\"name\":\"2020\"},{\"data\":[{\"coloraxis\":\"coloraxis\",\"geo\":\"geo\",\"hovertemplate\":\"Year=2021<br>State=%{location}<br>Total Generated(MWh)=%{z}<extra></extra>\",\"locationmode\":\"USA-states\",\"locations\":[\"TX\",\"FL\",\"PA\",\"CA\",\"IL\",\"AL\",\"NC\",\"GA\",\"NY\",\"OH\",\"MI\",\"WA\",\"AZ\",\"SC\",\"LA\",\"IN\",\"VA\",\"TN\",\"OK\",\"MO\",\"KY\",\"MS\",\"IA\",\"WV\",\"WI\",\"NJ\",\"OR\",\"AR\",\"MN\",\"KS\",\"CO\",\"CT\",\"WY\",\"ND\",\"UT\",\"NV\",\"MD\",\"NE\",\"NM\",\"MT\",\"MA\",\"SD\",\"NH\",\"ID\",\"ME\",\"HI\",\"RI\",\"AK\",\"DE\",\"VT\",\"DC\"],\"name\":\"\",\"z\":[483561769.0,244401038.0,241648365.0,196727116.0,181859377.0,142955133.0,131262686.0,126530745.0,125226026.0,123335613.0,116045383.0,109122726.0,108608535.0,99924409.0,98061967.0,94565161.0,94309019.0,81478887.0,80564122.0,77815983.0,70554259.0,68713324.0,66120266.0,65630564.0,65478679.0,61386527.0,61081837.0,60230137.0,59628025.0,56745956.0,56737727.0,44123575.0,43650676.0,42705232.0,42656775.0,41880191.0,39719296.0,38644643.0,35271296.0,24466637.0,19366993.0,17834631.0,17434999.0,16948581.0,10952775.0,9188089.0,8035017.0,5943530.0,4039976.0,2147738.0,218241.0],\"type\":\"choropleth\"}],\"name\":\"2021\"}]);\n",
       "                        }).then(function(){\n",
       "                            \n",
       "var gd = document.getElementById('93562165-3b8b-407e-8ecb-ed41e9bf1e8f');\n",
       "var x = new MutationObserver(function (mutations, observer) {{\n",
       "        var display = window.getComputedStyle(gd).display;\n",
       "        if (!display || display === 'none') {{\n",
       "            console.log([gd, 'removed!']);\n",
       "            Plotly.purge(gd);\n",
       "            observer.disconnect();\n",
       "        }}\n",
       "}});\n",
       "\n",
       "// Listen for the removal of the full notebook cells\n",
       "var notebookContainer = gd.closest('#notebook-container');\n",
       "if (notebookContainer) {{\n",
       "    x.observe(notebookContainer, {childList: true});\n",
       "}}\n",
       "\n",
       "// Listen for the clearing of the current output cell\n",
       "var outputEl = gd.closest('.output');\n",
       "if (outputEl) {{\n",
       "    x.observe(outputEl, {childList: true});\n",
       "}}\n",
       "\n",
       "                        })                };                });            </script>        </div>"
      ]
     },
     "metadata": {},
     "output_type": "display_data"
    }
   ],
   "source": [
    "from query_total_states_energy import query_data\n",
    "import plotly.express as px\n",
    "\n",
    "df = query_data()\n",
    "\n",
    "#the code below is for animating month to month\n",
    "#df['Time'] = df[['Year', 'Month']].apply(lambda row: '-'.join(row.values.astype(str)), axis=1)\n",
    "\n",
    "\n",
    "fig = px.choropleth(df, \n",
    "          locations = 'State',\n",
    "          color = 'Total Generated(MWh)', \n",
    "          animation_frame = \"Year\", #chooses years as the animation tick mark\n",
    "          color_continuous_scale = 'jet_r', #color of the scale\n",
    "          locationmode = 'USA-states',\n",
    "          scope = \"usa\",\n",
    "          range_color = (35499.0, 483561773.0),\n",
    "          title = 'Energy Generated by State Over Time',\n",
    "          height=600\n",
    "         )\n",
    "fig.show()\n"
   ]
  },
  {
   "cell_type": "code",
   "execution_count": null,
   "id": "eef7e204",
   "metadata": {},
   "outputs": [],
   "source": []
  }
 ],
 "metadata": {
  "colab": {
   "include_colab_link": true,
   "provenance": []
  },
  "kernelspec": {
   "display_name": "Python 3 (ipykernel)",
   "language": "python",
   "name": "python3"
  },
  "language_info": {
   "codemirror_mode": {
    "name": "ipython",
    "version": 3
   },
   "file_extension": ".py",
   "mimetype": "text/x-python",
   "name": "python",
   "nbconvert_exporter": "python",
   "pygments_lexer": "ipython3",
   "version": "3.9.7"
  }
 },
 "nbformat": 4,
 "nbformat_minor": 5
}
