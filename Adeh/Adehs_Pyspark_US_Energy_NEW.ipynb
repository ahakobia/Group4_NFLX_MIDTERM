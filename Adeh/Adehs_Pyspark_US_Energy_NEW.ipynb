{
  "cells": [
    {
      "cell_type": "markdown",
      "metadata": {
        "id": "view-in-github",
        "colab_type": "text"
      },
      "source": [
        "<a href=\"https://colab.research.google.com/github/ahakobia/Group4_NFLX_MIDTERM/blob/main/Adehs_Pyspark_US_Energy_NEW.ipynb\" target=\"_parent\"><img src=\"https://colab.research.google.com/assets/colab-badge.svg\" alt=\"Open In Colab\"/></a>"
      ]
    },
    {
      "cell_type": "code",
      "execution_count": 1,
      "metadata": {
        "colab": {
          "base_uri": "https://localhost:8080/"
        },
        "id": "6f50fcdd",
        "outputId": "b773a6e2-d288-4475-ec53-cd2d44351e47"
      },
      "outputs": [
        {
          "output_type": "stream",
          "name": "stdout",
          "text": [
            "\r0% [Working]\r            \rIgn:1 https://developer.download.nvidia.com/compute/machine-learning/repos/ubuntu1804/x86_64  InRelease\n",
            "\r0% [Connecting to archive.ubuntu.com (91.189.91.38)] [Waiting for headers] [Con\r                                                                               \rHit:2 https://developer.download.nvidia.com/compute/cuda/repos/ubuntu1804/x86_64  InRelease\n",
            "\r0% [Connecting to archive.ubuntu.com (91.189.91.38)] [Waiting for headers] [Con\r0% [2 InRelease gpgv 1,581 B] [Connecting to archive.ubuntu.com (91.189.91.38)]\r                                                                               \rGet:3 http://security.ubuntu.com/ubuntu bionic-security InRelease [88.7 kB]\n",
            "\r0% [2 InRelease gpgv 1,581 B] [Connecting to archive.ubuntu.com (91.189.91.38)]\r                                                                               \rHit:4 https://developer.download.nvidia.com/compute/machine-learning/repos/ubuntu1804/x86_64  Release\n",
            "\r0% [2 InRelease gpgv 1,581 B] [Waiting for headers] [3 InRelease 14.2 kB/88.7 k\r                                                                               \rHit:5 https://cloud.r-project.org/bin/linux/ubuntu bionic-cran40/ InRelease\n",
            "\r0% [2 InRelease gpgv 1,581 B] [Waiting for headers] [3 InRelease 14.2 kB/88.7 k\r0% [Waiting for headers] [3 InRelease 14.2 kB/88.7 kB 16%] [Waiting for headers\r0% [Release.gpg gpgv 564 B] [Waiting for headers] [3 InRelease 14.2 kB/88.7 kB \r                                                                               \rHit:6 http://archive.ubuntu.com/ubuntu bionic InRelease\n",
            "Get:7 http://archive.ubuntu.com/ubuntu bionic-updates InRelease [88.7 kB]\n",
            "Hit:8 http://ppa.launchpad.net/c2d4u.team/c2d4u4.0+/ubuntu bionic InRelease\n",
            "Get:10 http://archive.ubuntu.com/ubuntu bionic-backports InRelease [83.3 kB]\n",
            "Hit:11 http://ppa.launchpad.net/cran/libgit2/ubuntu bionic InRelease\n",
            "Hit:12 http://ppa.launchpad.net/deadsnakes/ppa/ubuntu bionic InRelease\n",
            "Hit:13 http://ppa.launchpad.net/graphics-drivers/ppa/ubuntu bionic InRelease\n",
            "Fetched 261 kB in 2s (161 kB/s)\n",
            "Reading package lists... Done\n"
          ]
        }
      ],
      "source": [
        "# Activate Spark in our Colab notebook.\n",
        "import os\n",
        "# Find the latest version of spark 3.0  from http://www.apache.org/dist/spark/ and enter as the spark version\n",
        "# For example: 'spark-3.2.2'\n",
        "spark_version = 'spark-3.2.2'\n",
        "# spark_version = 'spark-3.<enter version>'\n",
        "os.environ['SPARK_VERSION']=spark_version\n",
        "\n",
        "# Install Spark and Java\n",
        "!apt-get update\n",
        "!apt-get install openjdk-11-jdk-headless -qq > /dev/null\n",
        "!wget -q http://www.apache.org/dist/spark/$SPARK_VERSION/$SPARK_VERSION-bin-hadoop3.2.tgz\n",
        "!tar xf $SPARK_VERSION-bin-hadoop3.2.tgz\n",
        "!pip install -q findspark\n",
        "\n",
        "# Set Environment Variables\n",
        "os.environ[\"JAVA_HOME\"] = \"/usr/lib/jvm/java-11-openjdk-amd64\"\n",
        "os.environ[\"SPARK_HOME\"] = f\"/content/{spark_version}-bin-hadoop3.2\""
      ],
      "id": "6f50fcdd"
    },
    {
      "cell_type": "code",
      "execution_count": 2,
      "metadata": {
        "id": "9dqv3W_wwtZh"
      },
      "outputs": [],
      "source": [
        "# Install pytest and pytest-sugar to make our output look nice.\n",
        "!pip install -q pytest pytest-sugar"
      ],
      "id": "9dqv3W_wwtZh"
    },
    {
      "cell_type": "code",
      "execution_count": 3,
      "metadata": {
        "colab": {
          "base_uri": "https://localhost:8080/",
          "height": 71
        },
        "id": "lFHbSdrwwvih",
        "outputId": "c48a1606-145e-4fad-ec21-e7e7bc8ff3e7"
      },
      "outputs": [
        {
          "output_type": "stream",
          "name": "stdout",
          "text": [
            "mkdir: cannot create directory ‘tests’: File exists\n",
            "/content/tests\n"
          ]
        },
        {
          "output_type": "execute_result",
          "data": {
            "text/plain": [
              "'/content/tests'"
            ],
            "application/vnd.google.colaboratory.intrinsic+json": {
              "type": "string"
            }
          },
          "metadata": {},
          "execution_count": 3
        }
      ],
      "source": [
        "# Create and navigate to the tdd directory.\n",
        "from pathlib import Path\n",
        "if Path.cwd().name != 'tests':\n",
        "    %mkdir tests\n",
        "    %cd tests\n",
        "# Show the current working directory.  \n",
        "%pwd"
      ],
      "id": "lFHbSdrwwvih"
    },
    {
      "cell_type": "code",
      "execution_count": 4,
      "metadata": {
        "colab": {
          "base_uri": "https://localhost:8080/"
        },
        "id": "zqP8DmQvxBPy",
        "outputId": "e607fa7c-8762-43fd-91df-db87a1e353c0"
      },
      "outputs": [
        {
          "output_type": "stream",
          "name": "stdout",
          "text": [
            "Overwriting __init__.py\n"
          ]
        }
      ],
      "source": [
        "# Initialize the __init__.py file. \n",
        "# This file will be stored in our pwd (/content/tests)\n",
        "%%file __init__.py\n",
        "pass"
      ],
      "id": "zqP8DmQvxBPy"
    },
    {
      "cell_type": "code",
      "source": [
        "from google.colab import drive\n",
        "drive.mount('/content/drive')"
      ],
      "metadata": {
        "colab": {
          "base_uri": "https://localhost:8080/"
        },
        "id": "CpAkBbTcxsSw",
        "outputId": "277400f3-15f3-4a6e-fbad-72d734496aa0"
      },
      "id": "CpAkBbTcxsSw",
      "execution_count": 5,
      "outputs": [
        {
          "output_type": "stream",
          "name": "stdout",
          "text": [
            "Drive already mounted at /content/drive; to attempt to forcibly remount, call drive.mount(\"/content/drive\", force_remount=True).\n"
          ]
        }
      ]
    },
    {
      "cell_type": "code",
      "source": [
        "import findspark\n",
        "findspark.init()\n",
        "\n",
        "# Import other dependencies. \n",
        "from pyspark import SparkFiles\n",
        "from pyspark.sql import SparkSession\n",
        "\n",
        "import time\n",
        "\n",
        "spark = SparkSession \\\n",
        "    .builder \\\n",
        "    .appName(\"energy file read in\") \\\n",
        "    .getOrCreate()\n",
        "energy = spark.read.csv('../drive/MyDrive/organised_Gen.csv', header = True, inferSchema = True)\n",
        "\n",
        "energy = energy.withColumnRenamed('_c0', 'id')\n",
        "energy = energy.withColumnRenamed('YEAR', 'year')\n",
        "energy = energy.withColumnRenamed('MONTH', 'month')\n",
        "energy = energy.withColumnRenamed('TYPE OF PRODUCER', 'producer')\n",
        "energy = energy.withColumnRenamed('ENERGY SOURCE', 'source')\n",
        "energy = energy.withColumnRenamed('GENERATION (Megawatthours)', 'generated')\n",
        "energy.createOrReplaceTempView('energy_data')\n",
        "energy.write.parquet('parquet_energy',mode='overwrite')\n",
        "p_energy = spark.read.parquet('parquet_energy')\n",
        "p_energy = p_energy.where(\"producer == 'Total Electric Power Industry' AND source == 'Total' AND state == 'US-TOTAL'\")\n",
        "p_energy.createOrReplaceTempView('p_energy_data')\n",
        "\n",
        "start_time = time.time()\n",
        "\n",
        "q_df = spark.sql(\"\"\"SELECT year, (SUM(generated)) as Total_generated\n",
        "            FROM p_energy_data \n",
        "            WHERE YEAR != 2022\n",
        "            Group By YEAR\n",
        "            Order By YEAR DESC\n",
        "                \"\"\")\n",
        "\n",
        "print(\"--- %s seconds ---\" % (time.time() - start_time))\n",
        "\n",
        "q_df.show(21)"
      ],
      "metadata": {
        "colab": {
          "base_uri": "https://localhost:8080/"
        },
        "id": "L80_cUWAu1El",
        "outputId": "491f018c-654b-4452-c260-ba8e38dfecac"
      },
      "id": "L80_cUWAu1El",
      "execution_count": 72,
      "outputs": [
        {
          "output_type": "stream",
          "name": "stdout",
          "text": [
            "--- 0.005460500717163086 seconds ---\n",
            "+----+--------------------+\n",
            "|year|     Total_generated|\n",
            "+----+--------------------+\n",
            "|2021|       4.115540153E9|\n",
            "|2020|       4.007018594E9|\n",
            "|2019|       4.126882145E9|\n",
            "|2018|       4.178277345E9|\n",
            "|2017|       4.034270559E9|\n",
            "|2016|       4.076674986E9|\n",
            "|2015|       4.077600939E9|\n",
            "|2014|4.0929346911200004E9|\n",
            "|2013|4.0659640674500003E9|\n",
            "|2012|     4.04776525915E9|\n",
            "|2011|     4.10065605012E9|\n",
            "|2010|       4.125059899E9|\n",
            "|2009|       3.950330927E9|\n",
            "|2008|       4.119387759E9|\n",
            "|2007|       4.156744725E9|\n",
            "|2006|       4.064702227E9|\n",
            "|2005|        4.05542275E9|\n",
            "|2004|       3.970555264E9|\n",
            "|2003|       3.883185204E9|\n",
            "|2002|       3.858452251E9|\n",
            "|2001|       3.736643649E9|\n",
            "+----+--------------------+\n",
            "\n"
          ]
        }
      ]
    },
    {
      "cell_type": "code",
      "execution_count": 68,
      "metadata": {
        "colab": {
          "base_uri": "https://localhost:8080/"
        },
        "id": "6-cuCOSFxDyM",
        "outputId": "56b08b78-281c-46e1-ead9-a98ffaebb0ff"
      },
      "outputs": [
        {
          "output_type": "stream",
          "name": "stdout",
          "text": [
            "Overwriting total_energy.py\n"
          ]
        }
      ],
      "source": [
        "# Create a bank_data.py file and write the function to it. \n",
        "# This file will be stored in our pwd (/content/tests).\n",
        "%%file total_energy.py\n",
        "\n",
        "# Import findspark() and initialize. \n",
        "import findspark\n",
        "findspark.init()\n",
        "\n",
        "# Import other dependencies. \n",
        "from pyspark import SparkFiles\n",
        "from pyspark.sql import SparkSession\n",
        "spark = SparkSession.builder.appName(\"sparkEnergyData\").getOrCreate()\n",
        "\n",
        "# Create the import_data function. \n",
        "def import_data():\n",
        "    spark = SparkSession \\\n",
        "    .builder \\\n",
        "    .appName(\"energy file read in\") \\\n",
        "    .getOrCreate()\n",
        "    energy = spark.read.csv('../drive/MyDrive/organised_Gen.csv', header = True, inferSchema = True)\n",
        "    energy = energy.withColumnRenamed('TYPE OF PRODUCER', 'producer')\n",
        "    energy = energy.withColumnRenamed('ENERGY SOURCE', 'source')\n",
        "    energy = energy.withColumnRenamed('GENERATION (Megawatthours)', 'generated')\n",
        "    energy.createOrReplaceTempView('energy_data')\n",
        "    energy.write.parquet('parquet_energy',mode='overwrite')\n",
        "    return energy\n",
        "\n",
        "def transform_data():\n",
        "    p_energy = spark.read.parquet('parquet_energy')\n",
        "    p_energy = p_energy.where(\"producer == 'Total Electric Power Industry' AND source == 'Total' AND state == 'US-TOTAL'\")\n",
        "    p_energy.createOrReplaceTempView('p_energy_data')\n",
        "    return p_energy\n",
        "\n",
        "def query_data():\n",
        "    q_df = spark.sql(\"\"\"SELECT year, (SUM(generated)) as Total_generated\n",
        "            FROM p_energy_data \n",
        "            WHERE YEAR != 2022\n",
        "            Group By YEAR, State\n",
        "            Order By YEAR DESC\n",
        "                \"\"\")\n",
        "    return q_df\n"
      ],
      "id": "6-cuCOSFxDyM"
    },
    {
      "cell_type": "code",
      "execution_count": 69,
      "metadata": {
        "colab": {
          "base_uri": "https://localhost:8080/"
        },
        "id": "RpK75RP5xMQV",
        "outputId": "43754342-5a3a-4354-998f-3c12c817d32f"
      },
      "outputs": [
        {
          "output_type": "stream",
          "name": "stdout",
          "text": [
            "Overwriting test_total_energy.py\n"
          ]
        }
      ],
      "source": [
        "# Create a test_bank_data.py file and write the test functions to it. \n",
        "# This file will be stored in our pwd (/content/tests).\n",
        "%%file test_total_energy.py\n",
        "\n",
        "from total_energy import (import_data, transform_data, query_data)\n",
        "\n",
        "# Write the tests. \n",
        "def test_row_count_before_transform():\n",
        "  df = import_data()\n",
        "  assert df.count() == 496774\n",
        "\n",
        "def test_column_count_before_transform():\n",
        "  df = import_data()\n",
        "  assert len(df.columns) == 7\n",
        "\n",
        "def test_row_count_after_transform():\n",
        "    df = transform_data()\n",
        "    assert df.count() != 496774\n",
        "\n",
        "def test_column_count_after_transform():\n",
        "    df = transform_data()\n",
        "    assert len(df.columns) == 7\n",
        "\n",
        "def test_row_count_query():\n",
        "    df = query_data()\n",
        "    assert df.count() == 21\n",
        "\n",
        "def test_column_count_query():\n",
        "    df = query_data()\n",
        "    assert len(df.columns) == 2\n"
      ],
      "id": "RpK75RP5xMQV"
    },
    {
      "cell_type": "code",
      "execution_count": 70,
      "metadata": {
        "colab": {
          "base_uri": "https://localhost:8080/"
        },
        "id": "SX7Z2IM9xNAN",
        "outputId": "d79712f7-556d-44dc-891d-ad4b50ef72c8"
      },
      "outputs": [
        {
          "output_type": "stream",
          "name": "stdout",
          "text": [
            "\u001b[1mTest session starts (platform: linux, Python 3.7.14, pytest 3.6.4, pytest-sugar 0.9.5)\u001b[0m\n",
            "rootdir: /content/tests, inifile:\n",
            "plugins: typeguard-2.7.1, sugar-0.9.5\n",
            "\n",
            " \u001b[36m\u001b[0mtest_total_energy.py\u001b[0m \u001b[32m✓\u001b[0m\u001b[32m✓\u001b[0m\u001b[32m✓\u001b[0m\u001b[32m✓\u001b[0m\u001b[32m✓\u001b[0m\u001b[32m✓\u001b[0m                                     \u001b[32m100% \u001b[0m\u001b[40m\u001b[32m█\u001b[0m\u001b[40m\u001b[32m█\u001b[0m\u001b[40m\u001b[32m█\u001b[0m\u001b[40m\u001b[32m█\u001b[0m\u001b[40m\u001b[32m█\u001b[0m\u001b[40m\u001b[32m█\u001b[0m\u001b[40m\u001b[32m█\u001b[0m\u001b[40m\u001b[32m█\u001b[0m\u001b[40m\u001b[32m█\u001b[0m\u001b[40m\u001b[32m█\u001b[0m\n",
            "\n",
            "Results (23.57s):\n",
            "\u001b[32m       6 passed\u001b[0m\n"
          ]
        }
      ],
      "source": [
        "# Run the test_import_data.py file with pytest. \n",
        "!python -m pytest test_total_energy.py"
      ],
      "id": "SX7Z2IM9xNAN"
    },
    {
      "cell_type": "code",
      "execution_count": 10,
      "metadata": {
        "id": "V11Ep4Yd2v6t"
      },
      "outputs": [],
      "source": [],
      "id": "V11Ep4Yd2v6t"
    }
  ],
  "metadata": {
    "colab": {
      "collapsed_sections": [],
      "provenance": [],
      "include_colab_link": true
    },
    "kernelspec": {
      "display_name": "Python 3 (ipykernel)",
      "language": "python",
      "name": "python3"
    },
    "language_info": {
      "codemirror_mode": {
        "name": "ipython",
        "version": 3
      },
      "file_extension": ".py",
      "mimetype": "text/x-python",
      "name": "python",
      "nbconvert_exporter": "python",
      "pygments_lexer": "ipython3",
      "version": "3.9.7"
    }
  },
  "nbformat": 4,
  "nbformat_minor": 5
}