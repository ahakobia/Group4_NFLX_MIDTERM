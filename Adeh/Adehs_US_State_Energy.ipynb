{
 "cells": [
  {
   "cell_type": "code",
   "execution_count": 1,
   "id": "6d6f5da6",
   "metadata": {},
   "outputs": [
    {
     "name": "stdout",
     "output_type": "stream",
     "text": [
      "Overwriting total_states_energy.py\n"
     ]
    }
   ],
   "source": [
    "%%file total_states_energy.py\n",
    "\n",
    "import pandas as pd\n",
    "\n",
    "def import_data():\n",
    "    csv_file = \"../Resources/organised_Gen.csv\"\n",
    "    energy = pd.read_csv(csv_file)\n",
    "    return energy"
   ]
  },
  {
   "cell_type": "code",
   "execution_count": 2,
   "id": "25f06c2c",
   "metadata": {},
   "outputs": [
    {
     "data": {
      "text/html": [
       "<div>\n",
       "<style scoped>\n",
       "    .dataframe tbody tr th:only-of-type {\n",
       "        vertical-align: middle;\n",
       "    }\n",
       "\n",
       "    .dataframe tbody tr th {\n",
       "        vertical-align: top;\n",
       "    }\n",
       "\n",
       "    .dataframe thead th {\n",
       "        text-align: right;\n",
       "    }\n",
       "</style>\n",
       "<table border=\"1\" class=\"dataframe\">\n",
       "  <thead>\n",
       "    <tr style=\"text-align: right;\">\n",
       "      <th></th>\n",
       "      <th>Unnamed: 0</th>\n",
       "      <th>YEAR</th>\n",
       "      <th>MONTH</th>\n",
       "      <th>STATE</th>\n",
       "      <th>TYPE OF PRODUCER</th>\n",
       "      <th>ENERGY SOURCE</th>\n",
       "      <th>GENERATION (Megawatthours)</th>\n",
       "    </tr>\n",
       "  </thead>\n",
       "  <tbody>\n",
       "    <tr>\n",
       "      <th>0</th>\n",
       "      <td>0</td>\n",
       "      <td>2001</td>\n",
       "      <td>1</td>\n",
       "      <td>AK</td>\n",
       "      <td>Total Electric Power Industry</td>\n",
       "      <td>Coal</td>\n",
       "      <td>46903.0</td>\n",
       "    </tr>\n",
       "    <tr>\n",
       "      <th>1</th>\n",
       "      <td>1</td>\n",
       "      <td>2001</td>\n",
       "      <td>1</td>\n",
       "      <td>AK</td>\n",
       "      <td>Total Electric Power Industry</td>\n",
       "      <td>Petroleum</td>\n",
       "      <td>71085.0</td>\n",
       "    </tr>\n",
       "    <tr>\n",
       "      <th>2</th>\n",
       "      <td>2</td>\n",
       "      <td>2001</td>\n",
       "      <td>1</td>\n",
       "      <td>AK</td>\n",
       "      <td>Total Electric Power Industry</td>\n",
       "      <td>Natural Gas</td>\n",
       "      <td>367521.0</td>\n",
       "    </tr>\n",
       "    <tr>\n",
       "      <th>3</th>\n",
       "      <td>3</td>\n",
       "      <td>2001</td>\n",
       "      <td>1</td>\n",
       "      <td>AK</td>\n",
       "      <td>Total Electric Power Industry</td>\n",
       "      <td>Hydroelectric Conventional</td>\n",
       "      <td>104549.0</td>\n",
       "    </tr>\n",
       "    <tr>\n",
       "      <th>4</th>\n",
       "      <td>4</td>\n",
       "      <td>2001</td>\n",
       "      <td>1</td>\n",
       "      <td>AK</td>\n",
       "      <td>Total Electric Power Industry</td>\n",
       "      <td>Wind</td>\n",
       "      <td>87.0</td>\n",
       "    </tr>\n",
       "    <tr>\n",
       "      <th>...</th>\n",
       "      <td>...</td>\n",
       "      <td>...</td>\n",
       "      <td>...</td>\n",
       "      <td>...</td>\n",
       "      <td>...</td>\n",
       "      <td>...</td>\n",
       "      <td>...</td>\n",
       "    </tr>\n",
       "    <tr>\n",
       "      <th>496769</th>\n",
       "      <td>10581</td>\n",
       "      <td>2022</td>\n",
       "      <td>5</td>\n",
       "      <td>WY</td>\n",
       "      <td>Electric Generators, Electric Utilities</td>\n",
       "      <td>Coal</td>\n",
       "      <td>2071403.0</td>\n",
       "    </tr>\n",
       "    <tr>\n",
       "      <th>496770</th>\n",
       "      <td>10582</td>\n",
       "      <td>2022</td>\n",
       "      <td>5</td>\n",
       "      <td>WY</td>\n",
       "      <td>Electric Generators, Electric Utilities</td>\n",
       "      <td>Hydroelectric Conventional</td>\n",
       "      <td>96790.0</td>\n",
       "    </tr>\n",
       "    <tr>\n",
       "      <th>496771</th>\n",
       "      <td>10583</td>\n",
       "      <td>2022</td>\n",
       "      <td>5</td>\n",
       "      <td>WY</td>\n",
       "      <td>Electric Generators, Electric Utilities</td>\n",
       "      <td>Natural Gas</td>\n",
       "      <td>91570.0</td>\n",
       "    </tr>\n",
       "    <tr>\n",
       "      <th>496772</th>\n",
       "      <td>10584</td>\n",
       "      <td>2022</td>\n",
       "      <td>5</td>\n",
       "      <td>WY</td>\n",
       "      <td>Electric Generators, Electric Utilities</td>\n",
       "      <td>Petroleum</td>\n",
       "      <td>1812.0</td>\n",
       "    </tr>\n",
       "    <tr>\n",
       "      <th>496773</th>\n",
       "      <td>10585</td>\n",
       "      <td>2022</td>\n",
       "      <td>5</td>\n",
       "      <td>WY</td>\n",
       "      <td>Electric Generators, Electric Utilities</td>\n",
       "      <td>Wind</td>\n",
       "      <td>452913.0</td>\n",
       "    </tr>\n",
       "  </tbody>\n",
       "</table>\n",
       "<p>496774 rows × 7 columns</p>\n",
       "</div>"
      ],
      "text/plain": [
       "        Unnamed: 0  YEAR  MONTH STATE  \\\n",
       "0                0  2001      1    AK   \n",
       "1                1  2001      1    AK   \n",
       "2                2  2001      1    AK   \n",
       "3                3  2001      1    AK   \n",
       "4                4  2001      1    AK   \n",
       "...            ...   ...    ...   ...   \n",
       "496769       10581  2022      5    WY   \n",
       "496770       10582  2022      5    WY   \n",
       "496771       10583  2022      5    WY   \n",
       "496772       10584  2022      5    WY   \n",
       "496773       10585  2022      5    WY   \n",
       "\n",
       "                               TYPE OF PRODUCER               ENERGY SOURCE  \\\n",
       "0                 Total Electric Power Industry                        Coal   \n",
       "1                 Total Electric Power Industry                   Petroleum   \n",
       "2                 Total Electric Power Industry                 Natural Gas   \n",
       "3                 Total Electric Power Industry  Hydroelectric Conventional   \n",
       "4                 Total Electric Power Industry                        Wind   \n",
       "...                                         ...                         ...   \n",
       "496769  Electric Generators, Electric Utilities                        Coal   \n",
       "496770  Electric Generators, Electric Utilities  Hydroelectric Conventional   \n",
       "496771  Electric Generators, Electric Utilities                 Natural Gas   \n",
       "496772  Electric Generators, Electric Utilities                   Petroleum   \n",
       "496773  Electric Generators, Electric Utilities                        Wind   \n",
       "\n",
       "        GENERATION (Megawatthours)  \n",
       "0                          46903.0  \n",
       "1                          71085.0  \n",
       "2                         367521.0  \n",
       "3                         104549.0  \n",
       "4                             87.0  \n",
       "...                            ...  \n",
       "496769                   2071403.0  \n",
       "496770                     96790.0  \n",
       "496771                     91570.0  \n",
       "496772                      1812.0  \n",
       "496773                    452913.0  \n",
       "\n",
       "[496774 rows x 7 columns]"
      ]
     },
     "execution_count": 2,
     "metadata": {},
     "output_type": "execute_result"
    }
   ],
   "source": [
    "from total_states_energy import import_data\n",
    "\n",
    "x = import_data()\n",
    "x"
   ]
  },
  {
   "cell_type": "code",
   "execution_count": 3,
   "id": "fe82ac70",
   "metadata": {},
   "outputs": [
    {
     "name": "stdout",
     "output_type": "stream",
     "text": [
      "Overwriting tran_total_states_energy.py\n"
     ]
    }
   ],
   "source": [
    "%%file tran_total_states_energy.py\n",
    "\n",
    "from total_states_energy import import_data\n",
    "\n",
    "import pandas as pd\n",
    "\n",
    "def transform_data():\n",
    "    \n",
    "    tf_energy_data = import_data().drop(columns=['Unnamed: 0'])\n",
    "    \n",
    "    tf_energy_data = tf_energy_data.rename(columns={\n",
    "        \"YEAR\": \"year\", \n",
    "        \"MONTH\": \"month\",\n",
    "        \"STATE\": \"state\",\n",
    "        \"TYPE OF PRODUCER\": \"producer\",\n",
    "        \"ENERGY SOURCE\": \"source\",\n",
    "        \"GENERATION (Megawatthours)\": \"generated\"})\n",
    "\n",
    "\n",
    "    tf_energy_data['producer'] = tf_energy_data['producer'].apply(lambda x: x.replace(',','/'))\n",
    "    tf_energy_data = tf_energy_data[tf_energy_data.state != 'US-TOTAL']\n",
    "    tf_energy_data = tf_energy_data[tf_energy_data.producer == 'Total Electric Power Industry']\n",
    "    tf_energy_data = tf_energy_data[tf_energy_data.source == 'Total']\n",
    "    \n",
    "    tf_energy_data = tf_energy_data.drop(columns=['producer'])\n",
    "    tf_energy_data = tf_energy_data.drop(columns=['source'])\n",
    "    \n",
    "    return tf_energy_data.reset_index(drop = True)"
   ]
  },
  {
   "cell_type": "code",
   "execution_count": 4,
   "id": "40f714e6",
   "metadata": {},
   "outputs": [
    {
     "name": "stdout",
     "output_type": "stream",
     "text": [
      "Query execution time: 0.7194037840000003s\n"
     ]
    },
    {
     "data": {
      "text/html": [
       "<div>\n",
       "<style scoped>\n",
       "    .dataframe tbody tr th:only-of-type {\n",
       "        vertical-align: middle;\n",
       "    }\n",
       "\n",
       "    .dataframe tbody tr th {\n",
       "        vertical-align: top;\n",
       "    }\n",
       "\n",
       "    .dataframe thead th {\n",
       "        text-align: right;\n",
       "    }\n",
       "</style>\n",
       "<table border=\"1\" class=\"dataframe\">\n",
       "  <thead>\n",
       "    <tr style=\"text-align: right;\">\n",
       "      <th></th>\n",
       "      <th>year</th>\n",
       "      <th>month</th>\n",
       "      <th>state</th>\n",
       "      <th>generated</th>\n",
       "    </tr>\n",
       "  </thead>\n",
       "  <tbody>\n",
       "    <tr>\n",
       "      <th>0</th>\n",
       "      <td>2001</td>\n",
       "      <td>1</td>\n",
       "      <td>AK</td>\n",
       "      <td>590145.0</td>\n",
       "    </tr>\n",
       "    <tr>\n",
       "      <th>1</th>\n",
       "      <td>2001</td>\n",
       "      <td>1</td>\n",
       "      <td>AL</td>\n",
       "      <td>11326642.0</td>\n",
       "    </tr>\n",
       "    <tr>\n",
       "      <th>2</th>\n",
       "      <td>2001</td>\n",
       "      <td>1</td>\n",
       "      <td>AR</td>\n",
       "      <td>3903323.0</td>\n",
       "    </tr>\n",
       "    <tr>\n",
       "      <th>3</th>\n",
       "      <td>2001</td>\n",
       "      <td>1</td>\n",
       "      <td>AZ</td>\n",
       "      <td>7573925.0</td>\n",
       "    </tr>\n",
       "    <tr>\n",
       "      <th>4</th>\n",
       "      <td>2001</td>\n",
       "      <td>1</td>\n",
       "      <td>CA</td>\n",
       "      <td>16618887.0</td>\n",
       "    </tr>\n",
       "    <tr>\n",
       "      <th>...</th>\n",
       "      <td>...</td>\n",
       "      <td>...</td>\n",
       "      <td>...</td>\n",
       "      <td>...</td>\n",
       "    </tr>\n",
       "    <tr>\n",
       "      <th>13102</th>\n",
       "      <td>2022</td>\n",
       "      <td>5</td>\n",
       "      <td>VT</td>\n",
       "      <td>157506.0</td>\n",
       "    </tr>\n",
       "    <tr>\n",
       "      <th>13103</th>\n",
       "      <td>2022</td>\n",
       "      <td>5</td>\n",
       "      <td>WA</td>\n",
       "      <td>9550776.0</td>\n",
       "    </tr>\n",
       "    <tr>\n",
       "      <th>13104</th>\n",
       "      <td>2022</td>\n",
       "      <td>5</td>\n",
       "      <td>WI</td>\n",
       "      <td>4741646.0</td>\n",
       "    </tr>\n",
       "    <tr>\n",
       "      <th>13105</th>\n",
       "      <td>2022</td>\n",
       "      <td>5</td>\n",
       "      <td>WV</td>\n",
       "      <td>4276516.0</td>\n",
       "    </tr>\n",
       "    <tr>\n",
       "      <th>13106</th>\n",
       "      <td>2022</td>\n",
       "      <td>5</td>\n",
       "      <td>WY</td>\n",
       "      <td>3276247.0</td>\n",
       "    </tr>\n",
       "  </tbody>\n",
       "</table>\n",
       "<p>13107 rows × 4 columns</p>\n",
       "</div>"
      ],
      "text/plain": [
       "       year  month state   generated\n",
       "0      2001      1    AK    590145.0\n",
       "1      2001      1    AL  11326642.0\n",
       "2      2001      1    AR   3903323.0\n",
       "3      2001      1    AZ   7573925.0\n",
       "4      2001      1    CA  16618887.0\n",
       "...     ...    ...   ...         ...\n",
       "13102  2022      5    VT    157506.0\n",
       "13103  2022      5    WA   9550776.0\n",
       "13104  2022      5    WI   4741646.0\n",
       "13105  2022      5    WV   4276516.0\n",
       "13106  2022      5    WY   3276247.0\n",
       "\n",
       "[13107 rows x 4 columns]"
      ]
     },
     "execution_count": 4,
     "metadata": {},
     "output_type": "execute_result"
    }
   ],
   "source": [
    "from tran_total_states_energy import transform_data\n",
    "import sys\n",
    "\n",
    "import psycopg2\n",
    "\n",
    "from psycopg2 import OperationalError, errorcodes, errors\n",
    "import psycopg2.extras as extras\n",
    "import pandas as pd\n",
    "from io import StringIO\n",
    "import numpy as np\n",
    "\n",
    "import plotly.express as px\n",
    "from timeit import default_timer as timer\n",
    "\n",
    "start = timer()\n",
    "x = transform_data()\n",
    "end = timer()\n",
    "k = end - start \n",
    "print(\"Query execution time: {}s\".format(k))\n",
    "x"
   ]
  },
  {
   "cell_type": "code",
   "execution_count": 5,
   "id": "1faff7f1",
   "metadata": {
    "colab_type": "text",
    "id": "view-in-github"
   },
   "outputs": [
    {
     "name": "stdout",
     "output_type": "stream",
     "text": [
      "Overwriting query_total_states_energy.py\n"
     ]
    }
   ],
   "source": [
    "%%file query_total_states_energy.py \n",
    "\n",
    "from tran_total_states_energy import transform_data\n",
    "import sys\n",
    "\n",
    "import psycopg2\n",
    "\n",
    "from psycopg2 import OperationalError, errorcodes, errors\n",
    "import psycopg2.extras as extras\n",
    "import pandas as pd\n",
    "from io import StringIO\n",
    "import numpy as np\n",
    "\n",
    "from timeit import default_timer as timer\n",
    "\n",
    "edf = transform_data()\n",
    "\n",
    "params_dic = {\n",
    "    \"host\"      : \"localhost\",\n",
    "    \"user\"      : \"postgres\",\n",
    "    \"password\"  : \"postgres\",\n",
    "    \"port\"      : \"5432\"\n",
    "}\n",
    "\n",
    "def connect(params_dic):\n",
    "    \"\"\" Connect to the PostgreSQL database server \"\"\"\n",
    "    conn = None\n",
    "    try:\n",
    "        # connect to the PostgreSQL server\n",
    "        print('Connecting to the PostgreSQL database...')\n",
    "        conn = psycopg2.connect(**params_dic)\n",
    "    except (Exception, psycopg2.DatabaseError) as error:\n",
    "        print(error)\n",
    "        sys.exit(1) \n",
    "    print(\"Connection successful\")\n",
    "    return conn\n",
    "conn = connect(params_dic)\n",
    "\n",
    "#install psycopg2-binary for MacOs if you don't have it\n",
    "    #!pip install psycopg2-binary\n",
    "\n",
    "# Define a function that handles and parses psycopg2 exceptions\n",
    "def show_psycopg2_exception(err):\n",
    "    # get details about the exception\n",
    "    err_type, err_obj, traceback = sys.exc_info()    \n",
    "    # get the line number when exception occured\n",
    "    line_n = traceback.tb_lineno    \n",
    "    # print the connect() error\n",
    "    print (\"\\npsycopg2 ERROR:\", err, \"on line number:\", line_n)\n",
    "    print (\"psycopg2 traceback:\", traceback, \"-- type:\", err_type) \n",
    "    # psycopg2 extensions.Diagnostics object attribute\n",
    "    print (\"\\nextensions.Diagnostics:\", err.diag)    \n",
    "    # print the pgcode and pgerror exceptions\n",
    "    print (\"pgerror:\", err.pgerror)\n",
    "    print (\"pgcode:\", err.pgcode, \"\\n\")\n",
    "\n",
    "def create_table(cursor):\n",
    "    try:\n",
    "        # \n",
    "        cursor.execute(\"DROP TABLE IF EXISTS energy;\")\n",
    "        sql = '''CREATE TABLE energy(\n",
    "        year INT NOT NULL, \n",
    "        month INT NOT NULL, \n",
    "        state VARCHAR NOT NULL, \n",
    "        generated FLOAT NOT NULL\n",
    "        )'''\n",
    "        # Creating a table\n",
    "        cursor.execute(sql);\n",
    "        print(\"energy table is created successfully...............\")  \n",
    "    except OperationalError as err:\n",
    "        # pass exception to function\n",
    "        show_psycopg2_exception(err)\n",
    "        # set the connection to 'None' in case of error\n",
    "        conn = None\n",
    "\n",
    "# Define function using copy_from() with StringIO to insert the dataframe\n",
    "def copy_from_dataFile_StringIO(conn, datafrm, table):\n",
    "    \n",
    "    #save dataframe to an in memory buffer\n",
    "    buffer = StringIO()\n",
    "    datafrm.to_csv(buffer, header=False, index = False)\n",
    "    buffer.seek(0)\n",
    "    \n",
    "    cursor = conn.cursor()\n",
    "    try:\n",
    "        cursor.copy_from(buffer, table, sep=\",\")\n",
    "        print(\"Data inserted using copy_from_datafile_StringIO() successfully....\")\n",
    "    except (Exception, psycopg2.DatabaseError) as err:\n",
    "        # pass exception to function\n",
    "        show_psycopg2_exception(err)\n",
    "        cursor.close()\n",
    "\n",
    "conn = connect(params_dic)\n",
    "\n",
    "# We set autocommit=True so every command we execute will produce results immediately.\n",
    "conn.autocommit = True\n",
    "cursor = conn.cursor()\n",
    "create_table(cursor)\n",
    "\n",
    "copy_from_dataFile_StringIO(conn, edf, 'energy')\n",
    "\n",
    "\n",
    "def query_data():\n",
    "\n",
    "    conn.autocommit = True\n",
    "    cursor = conn.cursor()\n",
    "  \n",
    "    sql = '''SELECT year, state, (SUM(generated)) as sums\n",
    "            FROM energy \n",
    "            WHERE YEAR != 2022\n",
    "            Group By YEAR, state\n",
    "            Order By YEAR ASC, sums DESC\n",
    "                ;''' \n",
    "  \n",
    "    cursor.execute(sql)\n",
    "    results = cursor.fetchall()\n",
    "    df = pd.DataFrame (results, columns = ['Year', 'State','Total Generated(MWh)'])\n",
    "    conn.commit()\n",
    "    return df"
   ]
  },
  {
   "cell_type": "code",
   "execution_count": 6,
   "id": "771ed1c9",
   "metadata": {},
   "outputs": [
    {
     "name": "stdout",
     "output_type": "stream",
     "text": [
      "Connecting to the PostgreSQL database...\n",
      "Connection successful\n",
      "Connecting to the PostgreSQL database...\n",
      "Connection successful\n",
      "energy table is created successfully...............\n",
      "Data inserted using copy_from_datafile_StringIO() successfully....\n",
      "Query execution time: 0.008607667000000596s\n"
     ]
    }
   ],
   "source": [
    "from tran_total_states_energy import transform_data\n",
    "from query_total_states_energy import query_data\n",
    "\n",
    "start = timer()\n",
    "y = query_data()\n",
    "end = timer()\n",
    "k = end - start \n",
    "print(\"Query execution time: {}s\".format(k))"
   ]
  },
  {
   "cell_type": "code",
   "execution_count": 7,
   "id": "cc107ca3",
   "metadata": {},
   "outputs": [],
   "source": [
    "df = query_data()\n",
    "\n",
    "fig = px.bar(df, x=\"Year\", y=\"Total Generated(MWh)\", \n",
    "             color = \"State\", title=\"TOTAL Energy Generated Each Year\")\n",
    "#fig.show()"
   ]
  },
  {
   "cell_type": "code",
   "execution_count": 8,
   "id": "81097328",
   "metadata": {},
   "outputs": [
    {
     "name": "stdout",
     "output_type": "stream",
     "text": [
      "35499.0 483561772.0\n"
     ]
    }
   ],
   "source": [
    "print(df['Total Generated(MWh)'].min(),\n",
    "      df['Total Generated(MWh)'].max()) \n",
    "#checking for max to set the color range of the map below"
   ]
  },
  {
   "cell_type": "code",
   "execution_count": 12,
   "id": "fd185318",
   "metadata": {},
   "outputs": [
    {
     "data": {
      "application/vnd.plotly.v1+json": {
       "config": {
        "plotlyServerURL": "https://plotly.com"
       },
       "data": [
        {
         "coloraxis": "coloraxis",
         "geo": "geo",
         "hovertemplate": "Year=2001<br>State=%{location}<br>Total Generated(MWh)=%{z}<extra></extra>",
         "locationmode": "USA-states",
         "locations": [
          "TX",
          "CA",
          "PA",
          "FL",
          "IL",
          "NY",
          "OH",
          "AL",
          "IN",
          "GA",
          "NC",
          "MI",
          "TN",
          "KY",
          "AZ",
          "SC",
          "LA",
          "WA",
          "WV",
          "MO",
          "VA",
          "NJ",
          "WI",
          "OK",
          "MS",
          "MD",
          "MN",
          "AR",
          "CO",
          "OR",
          "WY",
          "KS",
          "IA",
          "MA",
          "UT",
          "NV",
          "NM",
          "CT",
          "NE",
          "ND",
          "MT",
          "ME",
          "NH",
          "HI",
          "ID",
          "RI",
          "SD",
          "DE",
          "AK",
          "VT",
          "DC"
         ],
         "name": "",
         "type": "choropleth",
         "z": [
          372580005,
          198596072,
          196576590,
          190945343,
          179249282,
          143914556,
          142261809,
          125345113,
          122569670,
          118316788,
          117495851,
          111845612,
          96221976,
          95417625,
          89911272,
          89158990,
          87894379,
          83048670,
          81836725,
          79544872,
          74104748,
          59421260,
          58763434,
          55249453,
          53446448,
          49062342,
          48523223,
          47192036,
          46876003,
          45051906,
          44776938,
          44748522,
          40658512,
          38478431,
          35853750,
          33875966,
          33611643,
          30490645,
          30485213,
          30332072,
          24232487,
          19564821,
          15074624,
          10633092,
          9346942,
          7501892,
          7400743,
          6807685,
          6743766,
          5480614,
          123239
         ]
        }
       ],
       "frames": [
        {
         "data": [
          {
           "coloraxis": "coloraxis",
           "geo": "geo",
           "hovertemplate": "Year=2001<br>State=%{location}<br>Total Generated(MWh)=%{z}<extra></extra>",
           "locationmode": "USA-states",
           "locations": [
            "TX",
            "CA",
            "PA",
            "FL",
            "IL",
            "NY",
            "OH",
            "AL",
            "IN",
            "GA",
            "NC",
            "MI",
            "TN",
            "KY",
            "AZ",
            "SC",
            "LA",
            "WA",
            "WV",
            "MO",
            "VA",
            "NJ",
            "WI",
            "OK",
            "MS",
            "MD",
            "MN",
            "AR",
            "CO",
            "OR",
            "WY",
            "KS",
            "IA",
            "MA",
            "UT",
            "NV",
            "NM",
            "CT",
            "NE",
            "ND",
            "MT",
            "ME",
            "NH",
            "HI",
            "ID",
            "RI",
            "SD",
            "DE",
            "AK",
            "VT",
            "DC"
           ],
           "name": "",
           "type": "choropleth",
           "z": [
            372580005,
            198596072,
            196576590,
            190945343,
            179249282,
            143914556,
            142261809,
            125345113,
            122569670,
            118316788,
            117495851,
            111845612,
            96221976,
            95417625,
            89911272,
            89158990,
            87894379,
            83048670,
            81836725,
            79544872,
            74104748,
            59421260,
            58763434,
            55249453,
            53446448,
            49062342,
            48523223,
            47192036,
            46876003,
            45051906,
            44776938,
            44748522,
            40658512,
            38478431,
            35853750,
            33875966,
            33611643,
            30490645,
            30485213,
            30332072,
            24232487,
            19564821,
            15074624,
            10633092,
            9346942,
            7501892,
            7400743,
            6807685,
            6743766,
            5480614,
            123239
           ]
          }
         ],
         "name": "2001"
        },
        {
         "data": [
          {
           "coloraxis": "coloraxis",
           "geo": "geo",
           "hovertemplate": "Year=2002<br>State=%{location}<br>Total Generated(MWh)=%{z}<extra></extra>",
           "locationmode": "USA-states",
           "locations": [
            "TX",
            "PA",
            "FL",
            "IL",
            "CA",
            "OH",
            "NY",
            "AL",
            "GA",
            "IN",
            "NC",
            "MI",
            "WA",
            "SC",
            "TN",
            "LA",
            "WV",
            "AZ",
            "KY",
            "MO",
            "VA",
            "NJ",
            "OK",
            "WI",
            "MN",
            "MD",
            "AR",
            "KS",
            "OR",
            "CO",
            "WY",
            "MS",
            "IA",
            "MA",
            "UT",
            "NV",
            "NE",
            "CT",
            "ND",
            "NM",
            "MT",
            "ME",
            "NH",
            "HI",
            "ID",
            "SD",
            "RI",
            "AK",
            "DE",
            "VT",
            "DC"
           ],
           "name": "",
           "type": "choropleth",
           "z": [
            385628540,
            204322877,
            203352778,
            188054454,
            184210036,
            147068847,
            139591686,
            132920675,
            126512215,
            125608144,
            124468027,
            117889088,
            102765048,
            96563499,
            96114264,
            94970963,
            94761752,
            94131663,
            92106668,
            81162196,
            75005652,
            61569386,
            59183420,
            58431437,
            52777964,
            48279085,
            47611641,
            47188445,
            47099368,
            45600388,
            43783839,
            42890862,
            42528386,
            42027824,
            36608004,
            32088938,
            31618489,
            31311219,
            31306306,
            30661706,
            25473706,
            22535036,
            15953075,
            11663073,
            9786932,
            7721958,
            7056764,
            6767322,
            6002490,
            5456191,
            261980
           ]
          }
         ],
         "name": "2002"
        },
        {
         "data": [
          {
           "coloraxis": "coloraxis",
           "geo": "geo",
           "hovertemplate": "Year=2003<br>State=%{location}<br>Total Generated(MWh)=%{z}<extra></extra>",
           "locationmode": "USA-states",
           "locations": [
            "TX",
            "FL",
            "PA",
            "CA",
            "IL",
            "OH",
            "NY",
            "AL",
            "NC",
            "IN",
            "GA",
            "MI",
            "WA",
            "LA",
            "WV",
            "AZ",
            "SC",
            "TN",
            "KY",
            "MO",
            "VA",
            "OK",
            "WI",
            "NJ",
            "MN",
            "MD",
            "AR",
            "OR",
            "MA",
            "CO",
            "KS",
            "WY",
            "IA",
            "MS",
            "UT",
            "NV",
            "NM",
            "ND",
            "NE",
            "CT",
            "MT",
            "NH",
            "ME",
            "HI",
            "ID",
            "SD",
            "DE",
            "AK",
            "VT",
            "RI",
            "DC"
           ],
           "name": "",
           "type": "choropleth",
           "z": [
            379199684,
            212610013,
            206349513,
            192788542,
            189055260,
            146638128,
            137643314,
            137487221,
            127582319,
            124888217,
            124076833,
            111347060,
            100094691,
            94885041,
            94711553,
            94396218,
            93772678,
            92221791,
            91718819,
            87225087,
            75309420,
            60626856,
            60122424,
            57399351,
            55050995,
            52244237,
            50401100,
            48966139,
            48385024,
            46616787,
            46567561,
            43626602,
            42116195,
            40148278,
            38023667,
            33194887,
            32735652,
            31322127,
            30455983,
            29545048,
            26268726,
            21597107,
            18971635,
            10976371,
            10422936,
            7943837,
            7392287,
            6338731,
            6027962,
            5621144,
            74144
           ]
          }
         ],
         "name": "2003"
        },
        {
         "data": [
          {
           "coloraxis": "coloraxis",
           "geo": "geo",
           "hovertemplate": "Year=2004<br>State=%{location}<br>Total Generated(MWh)=%{z}<extra></extra>",
           "locationmode": "USA-states",
           "locations": [
            "TX",
            "FL",
            "PA",
            "CA",
            "IL",
            "OH",
            "NY",
            "AL",
            "IN",
            "GA",
            "NC",
            "MI",
            "AZ",
            "WA",
            "LA",
            "SC",
            "TN",
            "KY",
            "WV",
            "MO",
            "VA",
            "OK",
            "WI",
            "NJ",
            "MN",
            "MD",
            "AR",
            "OR",
            "CO",
            "MA",
            "KS",
            "WY",
            "MS",
            "IA",
            "UT",
            "NV",
            "NM",
            "CT",
            "NE",
            "ND",
            "MT",
            "NH",
            "ME",
            "HI",
            "ID",
            "DE",
            "SD",
            "AK",
            "VT",
            "RI",
            "DC"
           ],
           "name": "",
           "type": "choropleth",
           "z": [
            390299131,
            218117927,
            214658502,
            194780356,
            191957777,
            148345907,
            137964793,
            137354770,
            127770396,
            126812715,
            126329956,
            118487272,
            104564142,
            102165052,
            98172308,
            97939928,
            97594543,
            94529948,
            89749564,
            87632910,
            78900041,
            60729560,
            60444935,
            55882341,
            52364127,
            52052768,
            51927632,
            51381279,
            47869492,
            47500481,
            46782658,
            44807605,
            43662613,
            43248191,
            38211976,
            37667435,
            32940360,
            32633408,
            32008708,
            29936105,
            26788768,
            23875786,
            19098885,
            11410403,
            10863038,
            7855551,
            7510214,
            6526717,
            5470379,
            4939420,
            36487
           ]
          }
         ],
         "name": "2004"
        },
        {
         "data": [
          {
           "coloraxis": "coloraxis",
           "geo": "geo",
           "hovertemplate": "Year=2005<br>State=%{location}<br>Total Generated(MWh)=%{z}<extra></extra>",
           "locationmode": "USA-states",
           "locations": [
            "TX",
            "FL",
            "PA",
            "CA",
            "IL",
            "OH",
            "NY",
            "AL",
            "GA",
            "IN",
            "NC",
            "MI",
            "SC",
            "WA",
            "AZ",
            "KY",
            "TN",
            "WV",
            "LA",
            "MO",
            "VA",
            "OK",
            "WI",
            "NJ",
            "MN",
            "MD",
            "CO",
            "OR",
            "AR",
            "MA",
            "KS",
            "WY",
            "MS",
            "IA",
            "NV",
            "UT",
            "NM",
            "CT",
            "ND",
            "NE",
            "MT",
            "NH",
            "ME",
            "HI",
            "ID",
            "DE",
            "AK",
            "SD",
            "RI",
            "VT",
            "DC"
           ],
           "name": "",
           "type": "choropleth",
           "z": [
            396668722,
            220256411,
            218091125,
            200292817,
            194120146,
            156976323,
            146887419,
            137948581,
            136667892,
            130371574,
            129748578,
            121619772,
            102514664,
            101965849,
            101478656,
            97822418,
            97117167,
            93626285,
            92616878,
            90828230,
            78943045,
            68607826,
            61824662,
            60549585,
            53018996,
            52661597,
            49616696,
            49325003,
            47794510,
            47515443,
            45862696,
            45567308,
            45067454,
            44156160,
            40213751,
            38165131,
            35135643,
            33549748,
            31932614,
            31464735,
            27938778,
            24470013,
            18843978,
            11522804,
            10824984,
            8136569,
            6576659,
            6520768,
            6053295,
            5716753,
            226042
           ]
          }
         ],
         "name": "2005"
        },
        {
         "data": [
          {
           "coloraxis": "coloraxis",
           "geo": "geo",
           "hovertemplate": "Year=2006<br>State=%{location}<br>Total Generated(MWh)=%{z}<extra></extra>",
           "locationmode": "USA-states",
           "locations": [
            "TX",
            "FL",
            "PA",
            "CA",
            "IL",
            "OH",
            "NY",
            "AL",
            "GA",
            "IN",
            "NC",
            "MI",
            "WA",
            "AZ",
            "SC",
            "KY",
            "TN",
            "WV",
            "MO",
            "LA",
            "VA",
            "OK",
            "WI",
            "NJ",
            "OR",
            "MN",
            "AR",
            "CO",
            "MD",
            "MS",
            "MA",
            "KS",
            "IA",
            "WY",
            "UT",
            "NM",
            "CT",
            "NV",
            "NE",
            "ND",
            "MT",
            "NH",
            "ME",
            "ID",
            "HI",
            "DE",
            "SD",
            "VT",
            "AK",
            "RI",
            "DC"
           ],
           "name": "",
           "type": "choropleth",
           "z": [
            400582878,
            223751621,
            218811594,
            216798687,
            192426958,
            155434074,
            142265432,
            140895442,
            138010207,
            130489786,
            125214785,
            112556738,
            108203154,
            104392530,
            99267606,
            98792015,
            93911101,
            93815805,
            91686343,
            90921829,
            73069536,
            70614880,
            61639845,
            60700138,
            53340697,
            53237789,
            52168702,
            50698354,
            48956879,
            46228847,
            45597776,
            45523736,
            45483463,
            45400371,
            41263325,
            37265624,
            34681737,
            31860023,
            31669967,
            30881137,
            28243536,
            22063696,
            16816173,
            13386085,
            11559173,
            7182180,
            7132243,
            7084344,
            6674196,
            5967724,
            81467
           ]
          }
         ],
         "name": "2006"
        },
        {
         "data": [
          {
           "coloraxis": "coloraxis",
           "geo": "geo",
           "hovertemplate": "Year=2007<br>State=%{location}<br>Total Generated(MWh)=%{z}<extra></extra>",
           "locationmode": "USA-states",
           "locations": [
            "TX",
            "PA",
            "FL",
            "CA",
            "IL",
            "OH",
            "NY",
            "GA",
            "AL",
            "IN",
            "NC",
            "MI",
            "AZ",
            "WA",
            "SC",
            "KY",
            "TN",
            "WV",
            "LA",
            "MO",
            "VA",
            "OK",
            "WI",
            "NJ",
            "OR",
            "AR",
            "MN",
            "CO",
            "MD",
            "KS",
            "MS",
            "IA",
            "MA",
            "WY",
            "UT",
            "NM",
            "CT",
            "NV",
            "NE",
            "ND",
            "MT",
            "NH",
            "ME",
            "HI",
            "ID",
            "DE",
            "RI",
            "AK",
            "SD",
            "VT",
            "DC"
           ],
           "name": "",
           "type": "choropleth",
           "z": [
            405492296,
            226088341,
            225416061,
            210847583,
            200260680,
            155155547,
            145878688,
            145155159,
            143826270,
            130637998,
            130115299,
            119309935,
            113340970,
            106990216,
            103402144,
            97225318,
            95113406,
            93933109,
            92578329,
            91153082,
            78360507,
            72819095,
            63390629,
            62671245,
            55077795,
            54596234,
            54477646,
            53907493,
            50197926,
            50122197,
            50043686,
            49789218,
            47075975,
            45633485,
            45372574,
            35985331,
            33171209,
            32669737,
            32442699,
            31224106,
            28931492,
            23277172,
            16128569,
            11533350,
            11484091,
            8534163,
            7049843,
            6821391,
            6136605,
            5823581,
            75251
           ]
          }
         ],
         "name": "2007"
        },
        {
         "data": [
          {
           "coloraxis": "coloraxis",
           "geo": "geo",
           "hovertemplate": "Year=2008<br>State=%{location}<br>Total Generated(MWh)=%{z}<extra></extra>",
           "locationmode": "USA-states",
           "locations": [
            "TX",
            "PA",
            "FL",
            "CA",
            "IL",
            "OH",
            "AL",
            "NY",
            "GA",
            "IN",
            "NC",
            "AZ",
            "MI",
            "WA",
            "SC",
            "KY",
            "LA",
            "WV",
            "MO",
            "TN",
            "OK",
            "VA",
            "NJ",
            "WI",
            "OR",
            "AR",
            "MN",
            "CO",
            "IA",
            "MS",
            "MD",
            "KS",
            "UT",
            "WY",
            "MA",
            "NM",
            "NV",
            "ND",
            "NE",
            "CT",
            "MT",
            "NH",
            "ME",
            "ID",
            "HI",
            "DE",
            "RI",
            "SD",
            "VT",
            "AK",
            "DC"
           ],
           "name": "",
           "type": "choropleth",
           "z": [
            404787783,
            222350925,
            219636819,
            207984261,
            199475177,
            153412252,
            145869896,
            140322101,
            136173396,
            129510293,
            125239064,
            119459173,
            114989807,
            110828452,
            100978006,
            97863340,
            92453142,
            91123098,
            91028797,
            90663313,
            76328907,
            72678531,
            63674789,
            63479554,
            58718437,
            55050527,
            54763359,
            53441594,
            53086785,
            48205711,
            47360953,
            46630321,
            46578764,
            46500449,
            42505479,
            37009838,
            35089975,
            32734580,
            32373522,
            30409472,
            29637137,
            22876990,
            17094918,
            11970553,
            11376385,
            7523839,
            7387265,
            7082673,
            6820216,
            6774834,
            72316
           ]
          }
         ],
         "name": "2008"
        },
        {
         "data": [
          {
           "coloraxis": "coloraxis",
           "geo": "geo",
           "hovertemplate": "Year=2009<br>State=%{location}<br>Total Generated(MWh)=%{z}<extra></extra>",
           "locationmode": "USA-states",
           "locations": [
            "TX",
            "PA",
            "FL",
            "CA",
            "IL",
            "AL",
            "OH",
            "NY",
            "GA",
            "NC",
            "IN",
            "AZ",
            "WA",
            "MI",
            "SC",
            "LA",
            "KY",
            "MO",
            "TN",
            "OK",
            "WV",
            "VA",
            "NJ",
            "WI",
            "AR",
            "OR",
            "MN",
            "IA",
            "CO",
            "MS",
            "KS",
            "WY",
            "MD",
            "UT",
            "NM",
            "MA",
            "NV",
            "ND",
            "NE",
            "CT",
            "MT",
            "NH",
            "ME",
            "ID",
            "HI",
            "SD",
            "RI",
            "VT",
            "AK",
            "DE",
            "DC"
           ],
           "name": "",
           "type": "choropleth",
           "z": [
            397167910,
            219496144,
            217952307,
            204776132,
            193864356,
            143255556,
            136090226,
            133150551,
            128698378,
            118407402,
            116670279,
            111971249,
            104470133,
            101202603,
            100125485,
            90993675,
            90630426,
            88354272,
            79716889,
            75066811,
            70782515,
            70082067,
            61811239,
            59959061,
            57457737,
            56690856,
            52491849,
            51860062,
            50565951,
            48701485,
            46677308,
            46029211,
            43774831,
            43542945,
            39674339,
            38966652,
            37705131,
            34196468,
            34001894,
            31206221,
            26712736,
            20164123,
            16349847,
            13100152,
            11010533,
            8196531,
            7696824,
            7282348,
            6702158,
            4841563,
            35499
           ]
          }
         ],
         "name": "2009"
        },
        {
         "data": [
          {
           "coloraxis": "coloraxis",
           "geo": "geo",
           "hovertemplate": "Year=2010<br>State=%{location}<br>Total Generated(MWh)=%{z}<extra></extra>",
           "locationmode": "USA-states",
           "locations": [
            "TX",
            "PA",
            "FL",
            "CA",
            "IL",
            "AL",
            "OH",
            "GA",
            "NY",
            "NC",
            "IN",
            "AZ",
            "MI",
            "SC",
            "WA",
            "LA",
            "KY",
            "MO",
            "TN",
            "WV",
            "VA",
            "OK",
            "NJ",
            "WI",
            "AR",
            "IA",
            "OR",
            "MS",
            "MN",
            "CO",
            "WY",
            "KS",
            "MD",
            "MA",
            "UT",
            "NE",
            "NM",
            "NV",
            "ND",
            "CT",
            "MT",
            "NH",
            "ME",
            "ID",
            "HI",
            "SD",
            "RI",
            "AK",
            "VT",
            "DE",
            "DC"
           ],
           "name": "",
           "type": "choropleth",
           "z": [
            411695045,
            229752306,
            229095934,
            204125595,
            201351871,
            152150512,
            143598338,
            137576940,
            136961655,
            128678483,
            125180739,
            111750959,
            111551373,
            104153132,
            103472730,
            102884940,
            98217657,
            92312990,
            82348625,
            80788947,
            72966456,
            72250734,
            65682493,
            64314068,
            61000184,
            57508721,
            55126999,
            54487260,
            53670227,
            50720792,
            48119252,
            47923761,
            43607266,
            42804824,
            42249355,
            36630007,
            36251542,
            35146247,
            34739543,
            33349623,
            29791181,
            22195913,
            17018659,
            12024564,
            10836036,
            10049637,
            7738719,
            6759576,
            6619990,
            5627647,
            199858
           ]
          }
         ],
         "name": "2010"
        },
        {
         "data": [
          {
           "coloraxis": "coloraxis",
           "geo": "geo",
           "hovertemplate": "Year=2011<br>State=%{location}<br>Total Generated(MWh)=%{z}<extra></extra>",
           "locationmode": "USA-states",
           "locations": [
            "TX",
            "PA",
            "FL",
            "CA",
            "IL",
            "AL",
            "NY",
            "OH",
            "GA",
            "IN",
            "NC",
            "WA",
            "MI",
            "AZ",
            "LA",
            "SC",
            "KY",
            "MO",
            "TN",
            "WV",
            "OK",
            "VA",
            "NJ",
            "WI",
            "AR",
            "OR",
            "IA",
            "MN",
            "MS",
            "CO",
            "WY",
            "KS",
            "MD",
            "UT",
            "NM",
            "MA",
            "NE",
            "ND",
            "CT",
            "NV",
            "MT",
            "NH",
            "ID",
            "ME",
            "SD",
            "HI",
            "RI",
            "AK",
            "VT",
            "DE",
            "DC"
           ],
           "name": "",
           "type": "choropleth",
           "z": [
            435476923.5799999,
            227636139.37000003,
            221894574.08999997,
            200804842.48,
            199499728.05,
            156339209.82000002,
            137607867.94000003,
            135585804.48,
            124774237.14999998,
            122131413.98,
            118389854.92,
            115262600.82,
            109169506.88000001,
            108125356.90000002,
            105490736.95000002,
            102972567.18,
            98350982.19,
            94929440.71,
            81103862.22,
            78999623.57,
            74605713.63,
            66659105.07,
            64694095.980000004,
            63289343.78,
            61307535.900000006,
            59695164.129999995,
            56371912.63999999,
            53120061.50000001,
            51570942.65999999,
            51432554.29,
            47638470.85000001,
            45359840.15,
            41818068.18,
            40836150.010000005,
            38181139.31999999,
            38054820.53,
            36095051,
            35079900.120000005,
            33745220.62,
            31935917.909999996,
            30128542.590000004,
            20065941.02,
            16568785.909999998,
            15973688.059999999,
            11998885.499999998,
            10723332.93,
            8722272.56,
            6871032.800000001,
            6776218.809999999,
            6590194.809999999,
            200873.96000000002
           ]
          }
         ],
         "name": "2011"
        },
        {
         "data": [
          {
           "coloraxis": "coloraxis",
           "geo": "geo",
           "hovertemplate": "Year=2012<br>State=%{location}<br>Total Generated(MWh)=%{z}<extra></extra>",
           "locationmode": "USA-states",
           "locations": [
            "TX",
            "PA",
            "FL",
            "CA",
            "IL",
            "AL",
            "NY",
            "OH",
            "GA",
            "WA",
            "NC",
            "IN",
            "AZ",
            "MI",
            "LA",
            "SC",
            "MO",
            "KY",
            "OK",
            "TN",
            "WV",
            "VA",
            "NJ",
            "AR",
            "WI",
            "OR",
            "IA",
            "MS",
            "CO",
            "MN",
            "WY",
            "KS",
            "UT",
            "MD",
            "NM",
            "MA",
            "ND",
            "CT",
            "NV",
            "NE",
            "MT",
            "NH",
            "ID",
            "ME",
            "SD",
            "HI",
            "DE",
            "RI",
            "AK",
            "VT",
            "DC"
           ],
           "name": "",
           "type": "choropleth",
           "z": [
            429812509.79,
            223419715.48000005,
            221096135.98000002,
            199518566.72000003,
            197565362.68,
            152878687.69,
            135768251.05999997,
            129745730.62,
            122306363.85999998,
            116835473.55999999,
            116681763.10999997,
            114695729.27999999,
            110904993.59,
            108166077.67000002,
            103407705.82000001,
            96755681.88,
            91804320.62,
            89949688.7,
            77896588.13,
            77724263.78999999,
            73413404.7,
            70739234.94,
            65263407.95,
            65005677.99,
            63742909.89,
            60932714.50000001,
            56675403.919999994,
            54584294.989999995,
            52556701.1,
            52193624.18000001,
            49588606.22,
            44424690.769999996,
            39402960.77,
            37809743.559999995,
            36635909.449999996,
            36198121.5,
            36125158.879999995,
            36117543.96,
            35173263.22,
            34217292.57,
            27804783.63,
            19264434.919999998,
            15499089.309999997,
            14428595.910000002,
            12034206.000000002,
            10469268.660000002,
            8633694.010000002,
            8309035.850000001,
            6946419.119999999,
            6569670.120000001,
            71786.78
           ]
          }
         ],
         "name": "2012"
        },
        {
         "data": [
          {
           "coloraxis": "coloraxis",
           "geo": "geo",
           "hovertemplate": "Year=2013<br>State=%{location}<br>Total Generated(MWh)=%{z}<extra></extra>",
           "locationmode": "USA-states",
           "locations": [
            "TX",
            "PA",
            "FL",
            "IL",
            "CA",
            "AL",
            "OH",
            "NY",
            "NC",
            "GA",
            "WA",
            "AZ",
            "IN",
            "MI",
            "LA",
            "SC",
            "MO",
            "KY",
            "TN",
            "VA",
            "WV",
            "OK",
            "WI",
            "NJ",
            "AR",
            "OR",
            "IA",
            "CO",
            "MS",
            "WY",
            "MN",
            "KS",
            "UT",
            "NE",
            "NV",
            "NM",
            "MD",
            "CT",
            "ND",
            "MA",
            "MT",
            "NH",
            "ID",
            "ME",
            "HI",
            "SD",
            "DE",
            "VT",
            "AK",
            "RI",
            "DC"
           ],
           "name": "",
           "type": "choropleth",
           "z": [
            433380165.70000005,
            226785630.47000003,
            222398923.99,
            203004919.48999998,
            200077114.62,
            150572923.86,
            137284188.67999998,
            136116829.97,
            125936293.36999999,
            120953734.31,
            114172916.24000001,
            113325986.12,
            110403477.11000001,
            105417800.56000002,
            102010177,
            95249893.97999999,
            91626592.93,
            89741021.23,
            79651619.44999999,
            76896565.06,
            75863066.63999999,
            73673680.28999999,
            65962791.8,
            64750941.71999999,
            60322492.14,
            59895514.68,
            56670756.940000005,
            52937435.92,
            52810263.9,
            52483065.4,
            51296987.61000001,
            48472581.300000004,
            42516750.82000001,
            37104627.76,
            36443873.599999994,
            35870965.19,
            35850812.33,
            35610789.309999995,
            35021672.75,
            32885020.68,
            27687326.3,
            19778520.45,
            15186128.209999999,
            14030037.61,
            10267052.279999997,
            10108886.489999998,
            7760861.010000001,
            6884910.010000001,
            6496821.65,
            6246806.72,
            65852.09
           ]
          }
         ],
         "name": "2013"
        },
        {
         "data": [
          {
           "coloraxis": "coloraxis",
           "geo": "geo",
           "hovertemplate": "Year=2014<br>State=%{location}<br>Total Generated(MWh)=%{z}<extra></extra>",
           "locationmode": "USA-states",
           "locations": [
            "TX",
            "FL",
            "PA",
            "IL",
            "CA",
            "AL",
            "NY",
            "OH",
            "NC",
            "GA",
            "IN",
            "WA",
            "AZ",
            "MI",
            "LA",
            "SC",
            "KY",
            "MO",
            "WV",
            "TN",
            "VA",
            "OK",
            "NJ",
            "AR",
            "WI",
            "OR",
            "IA",
            "MN",
            "MS",
            "CO",
            "KS",
            "WY",
            "UT",
            "NE",
            "MD",
            "NV",
            "ND",
            "CT",
            "NM",
            "MA",
            "MT",
            "NH",
            "ID",
            "ME",
            "SD",
            "HI",
            "DE",
            "VT",
            "RI",
            "AK",
            "DC"
           ],
           "name": "",
           "type": "choropleth",
           "z": [
            437236406.63,
            231062160.32000002,
            221709451.96000004,
            202352425.70000002,
            197704742.06,
            149962562.95999998,
            136275372.89,
            134602213.26999998,
            128903904.19,
            125957133.91,
            115633622.25,
            115362583.63,
            112379276.02000001,
            105820819.88,
            103992084.61,
            97095321.36,
            90736783.04,
            88074036.83000001,
            81162422.29999998,
            80256937.66,
            77322962.76,
            70298614.91,
            67464757.28,
            61580991.45999999,
            60767364.88,
            59718511.870000005,
            57122984.56,
            56825384.81999999,
            54864346.12,
            54000898.52,
            50042935.440000005,
            49457628.16,
            43587026.989999995,
            39610374.79000001,
            38015158.88,
            36192638.839999996,
            36112578.44,
            33604720.3,
            32124996.740000002,
            31123860.68,
            30242531.300000004,
            19584207.660000004,
            15176262.480000002,
            13154288.360000001,
            11530226.99,
            9998065.629999999,
            7626521.1,
            6996610.77,
            6293116.89,
            6148889.88,
            64972.45999999999
           ]
          }
         ],
         "name": "2014"
        },
        {
         "data": [
          {
           "coloraxis": "coloraxis",
           "geo": "geo",
           "hovertemplate": "Year=2015<br>State=%{location}<br>Total Generated(MWh)=%{z}<extra></extra>",
           "locationmode": "USA-states",
           "locations": [
            "TX",
            "FL",
            "PA",
            "CA",
            "IL",
            "AL",
            "NY",
            "GA",
            "NC",
            "OH",
            "AZ",
            "MI",
            "WA",
            "LA",
            "IN",
            "SC",
            "VA",
            "MO",
            "KY",
            "OK",
            "TN",
            "NJ",
            "WV",
            "WI",
            "MS",
            "OR",
            "MN",
            "IA",
            "AR",
            "CO",
            "WY",
            "KS",
            "UT",
            "NE",
            "NV",
            "CT",
            "ND",
            "MD",
            "NM",
            "MA",
            "MT",
            "NH",
            "ID",
            "ME",
            "HI",
            "SD",
            "DE",
            "RI",
            "AK",
            "VT",
            "DC"
           ],
           "name": "",
           "type": "choropleth",
           "z": [
            449826336,
            237412634,
            214572291,
            196703858,
            193952038,
            152477426,
            138627722,
            128817897,
            128388445,
            121893402,
            113142048,
            113008049,
            109287458,
            107812353,
            104019276,
            96532213,
            84411594,
            83640067,
            83543671,
            76135598,
            75214635,
            74608859,
            72295268,
            66360184,
            64757864,
            57866535,
            56979768,
            56658919,
            55559428,
            52393077,
            48966520,
            45527126,
            41949120,
            39883390,
            39046783,
            37470623,
            37156615,
            36365544,
            32701400,
            32085971,
            29302402,
            20015894,
            15667096,
            11741265,
            10119501,
            9633033,
            7810006,
            6939020,
            6284939,
            1982048,
            53751
           ]
          }
         ],
         "name": "2015"
        },
        {
         "data": [
          {
           "coloraxis": "coloraxis",
           "geo": "geo",
           "hovertemplate": "Year=2016<br>State=%{location}<br>Total Generated(MWh)=%{z}<extra></extra>",
           "locationmode": "USA-states",
           "locations": [
            "TX",
            "FL",
            "PA",
            "CA",
            "IL",
            "AL",
            "NY",
            "GA",
            "NC",
            "OH",
            "WA",
            "MI",
            "AZ",
            "LA",
            "IN",
            "SC",
            "VA",
            "KY",
            "TN",
            "OK",
            "MO",
            "NJ",
            "WV",
            "WI",
            "MS",
            "AR",
            "OR",
            "MN",
            "CO",
            "IA",
            "KS",
            "WY",
            "NV",
            "UT",
            "ND",
            "MD",
            "NE",
            "CT",
            "NM",
            "MA",
            "MT",
            "NH",
            "ID",
            "SD",
            "ME",
            "HI",
            "DE",
            "RI",
            "AK",
            "VT",
            "DC"
           ],
           "name": "",
           "type": "choropleth",
           "z": [
            454047591,
            238262150,
            215066511,
            196963217,
            187289131,
            142385099,
            134417107,
            133380415,
            130779159,
            118922078,
            114086582,
            112121790,
            108763451,
            107268802,
            101759058,
            96985762,
            92554876,
            80273500,
            79340634,
            78655007,
            78611511,
            77611402,
            75942967,
            64966611,
            62881295,
            60445059,
            60182014,
            59478752,
            54418479,
            54392506,
            47599989,
            46656630,
            39787004,
            38133928,
            37856451,
            37166689,
            36524868,
            36496560,
            32912046,
            31955023,
            27783530,
            19282492,
            15660939,
            11524182,
            11514428,
            9948845,
            8731260,
            6564886,
            6335035,
            1911207,
            76476
           ]
          }
         ],
         "name": "2016"
        },
        {
         "data": [
          {
           "coloraxis": "coloraxis",
           "geo": "geo",
           "hovertemplate": "Year=2017<br>State=%{location}<br>Total Generated(MWh)=%{z}<extra></extra>",
           "locationmode": "USA-states",
           "locations": [
            "TX",
            "FL",
            "PA",
            "CA",
            "IL",
            "AL",
            "NC",
            "NY",
            "GA",
            "OH",
            "WA",
            "MI",
            "AZ",
            "IN",
            "LA",
            "SC",
            "VA",
            "MO",
            "TN",
            "NJ",
            "OK",
            "WV",
            "KY",
            "WI",
            "OR",
            "AR",
            "MS",
            "MN",
            "IA",
            "CO",
            "KS",
            "WY",
            "ND",
            "NV",
            "UT",
            "NE",
            "CT",
            "MD",
            "NM",
            "MA",
            "MT",
            "NH",
            "ID",
            "ME",
            "SD",
            "HI",
            "RI",
            "DE",
            "AK",
            "VT",
            "DC"
           ],
           "name": "",
           "type": "choropleth",
           "z": [
            452794367,
            238413437,
            213639298,
            206146521,
            183591570,
            139964250,
            128468118,
            128065081,
            127455313,
            119554366,
            115912077,
            112313503,
            105851765,
            98929819,
            97719213,
            93080939,
            90417148,
            84606730,
            79046220,
            75644512,
            73731654,
            73357079,
            73179195,
            65107332,
            62713747,
            60775216,
            59727638,
            58748832,
            57909567,
            53844000,
            50933297,
            46741847,
            41505075,
            38201294,
            37411877,
            35406983,
            34562655,
            34104082,
            33597414,
            32204114,
            28220947,
            17446840,
            17396023,
            11264280,
            10935718,
            9812967,
            7614943,
            7495976,
            6497466,
            2141388,
            66871
           ]
          }
         ],
         "name": "2017"
        },
        {
         "data": [
          {
           "coloraxis": "coloraxis",
           "geo": "geo",
           "hovertemplate": "Year=2018<br>State=%{location}<br>Total Generated(MWh)=%{z}<extra></extra>",
           "locationmode": "USA-states",
           "locations": [
            "TX",
            "FL",
            "PA",
            "CA",
            "IL",
            "AL",
            "NC",
            "NY",
            "GA",
            "OH",
            "WA",
            "MI",
            "IN",
            "AZ",
            "LA",
            "SC",
            "VA",
            "OK",
            "MO",
            "TN",
            "KY",
            "NJ",
            "AR",
            "WV",
            "WI",
            "OR",
            "MS",
            "IA",
            "MN",
            "CO",
            "KS",
            "WY",
            "MD",
            "ND",
            "NV",
            "CT",
            "UT",
            "NE",
            "NM",
            "MT",
            "MA",
            "ID",
            "NH",
            "SD",
            "ME",
            "HI",
            "RI",
            "AK",
            "DE",
            "VT",
            "DC"
           ],
           "name": "",
           "type": "choropleth",
           "z": [
            477352423,
            244252037,
            215385830,
            195465640,
            188003356,
            145057993,
            134249495,
            132520502,
            129239370,
            126184610,
            116756728,
            115837094,
            113459711,
            111925143,
            102128485,
            99364089,
            95509122,
            86223720,
            85095382,
            81554916,
            78804498,
            75033600,
            67999351,
            67249025,
            65936804,
            64113561,
            63473772,
            63380570,
            61517441,
            55386279,
            51710214,
            46112136,
            43809648,
            42615322,
            39640242,
            39453552,
            39375425,
            36966218,
            32673682,
            28212831,
            27172882,
            18172120,
            17087155,
            12616396,
            11280700,
            9796773,
            8375258,
            6247360,
            6240643,
            2178916,
            79331
           ]
          }
         ],
         "name": "2018"
        },
        {
         "data": [
          {
           "coloraxis": "coloraxis",
           "geo": "geo",
           "hovertemplate": "Year=2019<br>State=%{location}<br>Total Generated(MWh)=%{z}<extra></extra>",
           "locationmode": "USA-states",
           "locations": [
            "TX",
            "FL",
            "PA",
            "CA",
            "IL",
            "AL",
            "NY",
            "NC",
            "GA",
            "OH",
            "MI",
            "AZ",
            "WA",
            "IN",
            "LA",
            "SC",
            "VA",
            "OK",
            "TN",
            "MO",
            "KY",
            "NJ",
            "MS",
            "AR",
            "WV",
            "WI",
            "OR",
            "IA",
            "MN",
            "CO",
            "KS",
            "WY",
            "ND",
            "CT",
            "NV",
            "MD",
            "UT",
            "NE",
            "NM",
            "MT",
            "MA",
            "ID",
            "NH",
            "SD",
            "ME",
            "HI",
            "RI",
            "AK",
            "DE",
            "VT",
            "DC"
           ],
           "name": "",
           "type": "choropleth",
           "z": [
            483201030,
            245603484,
            228995332,
            201784204,
            184470051,
            142679431,
            131603290,
            131173860,
            128691568,
            120001127,
            116701345,
            113551988,
            106463609,
            102505380,
            100174761,
            100107503,
            96827639,
            85216500,
            82327110,
            78278751,
            71804255,
            71018775,
            65958760,
            64442899,
            63925639,
            62774299,
            62258379,
            61673543,
            59379389,
            56337735,
            50887990,
            42145657,
            41147320,
            40050038,
            39889661,
            39328689,
            39117034,
            37297614,
            35174510,
            27797079,
            21515636,
            18407813,
            18026597,
            14506647,
            10490564,
            9749998,
            7624402,
            6070842,
            5258537,
            2289798,
            174078
           ]
          }
         ],
         "name": "2019"
        },
        {
         "data": [
          {
           "coloraxis": "coloraxis",
           "geo": "geo",
           "hovertemplate": "Year=2020<br>State=%{location}<br>Total Generated(MWh)=%{z}<extra></extra>",
           "locationmode": "USA-states",
           "locations": [
            "TX",
            "FL",
            "PA",
            "CA",
            "IL",
            "AL",
            "NY",
            "NC",
            "OH",
            "GA",
            "WA",
            "AZ",
            "MI",
            "VA",
            "LA",
            "SC",
            "IN",
            "OK",
            "TN",
            "MO",
            "MS",
            "OR",
            "KY",
            "WI",
            "NJ",
            "IA",
            "WV",
            "MN",
            "AR",
            "KS",
            "CO",
            "ND",
            "WY",
            "CT",
            "NV",
            "UT",
            "NE",
            "MD",
            "NM",
            "MT",
            "MA",
            "ID",
            "NH",
            "SD",
            "ME",
            "HI",
            "RI",
            "AK",
            "DE",
            "VT",
            "DC"
           ],
           "name": "",
           "type": "choropleth",
           "z": [
            473514913,
            250827800,
            230143281,
            193074930,
            173394524,
            137542700,
            129430272,
            124363443,
            120992732,
            120126002,
            116114470,
            109305057,
            106624719,
            103056183,
            100773772,
            98528796,
            89956916,
            82297832,
            80566009,
            72567870,
            66581789,
            63624781,
            63539006,
            61448545,
            61106460,
            59636672,
            56661533,
            56510143,
            54641261,
            54541831,
            54115011,
            42176423,
            42010988,
            41190571,
            40424745,
            37087310,
            36848680,
            36029204,
            34075585,
            23353291,
            18214141,
            17686135,
            16350578,
            14146539,
            10001869,
            9079020,
            8894940,
            6276441,
            5205373,
            2156407,
            201105
           ]
          }
         ],
         "name": "2020"
        },
        {
         "data": [
          {
           "coloraxis": "coloraxis",
           "geo": "geo",
           "hovertemplate": "Year=2021<br>State=%{location}<br>Total Generated(MWh)=%{z}<extra></extra>",
           "locationmode": "USA-states",
           "locations": [
            "TX",
            "FL",
            "PA",
            "CA",
            "IL",
            "AL",
            "NC",
            "GA",
            "NY",
            "OH",
            "MI",
            "WA",
            "AZ",
            "SC",
            "LA",
            "IN",
            "VA",
            "TN",
            "OK",
            "MO",
            "KY",
            "MS",
            "IA",
            "WV",
            "WI",
            "NJ",
            "OR",
            "AR",
            "MN",
            "KS",
            "CO",
            "CT",
            "WY",
            "ND",
            "UT",
            "NV",
            "MD",
            "NE",
            "NM",
            "MT",
            "MA",
            "SD",
            "NH",
            "ID",
            "ME",
            "HI",
            "RI",
            "AK",
            "DE",
            "VT",
            "DC"
           ],
           "name": "",
           "type": "choropleth",
           "z": [
            483561772,
            244401034,
            241648360,
            196727105,
            181859368,
            142955138,
            131262683,
            126530744,
            125226023,
            123335607,
            116045383,
            109122717,
            108608533,
            99924403,
            98061963,
            94565164,
            94309018,
            81478885,
            80564126,
            77815979,
            70554263,
            68713326,
            66120267,
            65630557,
            65478673,
            61386525,
            61081837,
            60230136,
            59628021,
            56745953,
            56737718,
            44123571,
            43650670,
            42705233,
            42656778,
            41880183,
            39719295,
            38644645,
            35271295,
            24466639,
            19366997,
            17834631,
            17434992,
            16948588,
            10952775,
            9188093,
            8035014,
            5943528,
            4039971,
            2147736,
            218238
           ]
          }
         ],
         "name": "2021"
        }
       ],
       "layout": {
        "coloraxis": {
         "cmax": 483561773,
         "cmin": 35499,
         "colorbar": {
          "title": {
           "text": "Total Generated(MWh)"
          }
         },
         "colorscale": [
          [
           0,
           "rgb(128,0,0)"
          ],
          [
           0.2,
           "rgb(250,0,0)"
          ],
          [
           0.4,
           "rgb(255,255,0)"
          ],
          [
           0.6,
           "rgb(5,255,255)"
          ],
          [
           0.8,
           "rgb(0,60,170)"
          ],
          [
           1,
           "rgb(0,0,131)"
          ]
         ]
        },
        "geo": {
         "center": {},
         "domain": {
          "x": [
           0,
           1
          ],
          "y": [
           0,
           1
          ]
         },
         "scope": "usa"
        },
        "height": 600,
        "legend": {
         "tracegroupgap": 0
        },
        "sliders": [
         {
          "active": 0,
          "currentvalue": {
           "prefix": "Year="
          },
          "len": 0.9,
          "pad": {
           "b": 10,
           "t": 60
          },
          "steps": [
           {
            "args": [
             [
              "2001"
             ],
             {
              "frame": {
               "duration": 0,
               "redraw": true
              },
              "fromcurrent": true,
              "mode": "immediate",
              "transition": {
               "duration": 0,
               "easing": "linear"
              }
             }
            ],
            "label": "2001",
            "method": "animate"
           },
           {
            "args": [
             [
              "2002"
             ],
             {
              "frame": {
               "duration": 0,
               "redraw": true
              },
              "fromcurrent": true,
              "mode": "immediate",
              "transition": {
               "duration": 0,
               "easing": "linear"
              }
             }
            ],
            "label": "2002",
            "method": "animate"
           },
           {
            "args": [
             [
              "2003"
             ],
             {
              "frame": {
               "duration": 0,
               "redraw": true
              },
              "fromcurrent": true,
              "mode": "immediate",
              "transition": {
               "duration": 0,
               "easing": "linear"
              }
             }
            ],
            "label": "2003",
            "method": "animate"
           },
           {
            "args": [
             [
              "2004"
             ],
             {
              "frame": {
               "duration": 0,
               "redraw": true
              },
              "fromcurrent": true,
              "mode": "immediate",
              "transition": {
               "duration": 0,
               "easing": "linear"
              }
             }
            ],
            "label": "2004",
            "method": "animate"
           },
           {
            "args": [
             [
              "2005"
             ],
             {
              "frame": {
               "duration": 0,
               "redraw": true
              },
              "fromcurrent": true,
              "mode": "immediate",
              "transition": {
               "duration": 0,
               "easing": "linear"
              }
             }
            ],
            "label": "2005",
            "method": "animate"
           },
           {
            "args": [
             [
              "2006"
             ],
             {
              "frame": {
               "duration": 0,
               "redraw": true
              },
              "fromcurrent": true,
              "mode": "immediate",
              "transition": {
               "duration": 0,
               "easing": "linear"
              }
             }
            ],
            "label": "2006",
            "method": "animate"
           },
           {
            "args": [
             [
              "2007"
             ],
             {
              "frame": {
               "duration": 0,
               "redraw": true
              },
              "fromcurrent": true,
              "mode": "immediate",
              "transition": {
               "duration": 0,
               "easing": "linear"
              }
             }
            ],
            "label": "2007",
            "method": "animate"
           },
           {
            "args": [
             [
              "2008"
             ],
             {
              "frame": {
               "duration": 0,
               "redraw": true
              },
              "fromcurrent": true,
              "mode": "immediate",
              "transition": {
               "duration": 0,
               "easing": "linear"
              }
             }
            ],
            "label": "2008",
            "method": "animate"
           },
           {
            "args": [
             [
              "2009"
             ],
             {
              "frame": {
               "duration": 0,
               "redraw": true
              },
              "fromcurrent": true,
              "mode": "immediate",
              "transition": {
               "duration": 0,
               "easing": "linear"
              }
             }
            ],
            "label": "2009",
            "method": "animate"
           },
           {
            "args": [
             [
              "2010"
             ],
             {
              "frame": {
               "duration": 0,
               "redraw": true
              },
              "fromcurrent": true,
              "mode": "immediate",
              "transition": {
               "duration": 0,
               "easing": "linear"
              }
             }
            ],
            "label": "2010",
            "method": "animate"
           },
           {
            "args": [
             [
              "2011"
             ],
             {
              "frame": {
               "duration": 0,
               "redraw": true
              },
              "fromcurrent": true,
              "mode": "immediate",
              "transition": {
               "duration": 0,
               "easing": "linear"
              }
             }
            ],
            "label": "2011",
            "method": "animate"
           },
           {
            "args": [
             [
              "2012"
             ],
             {
              "frame": {
               "duration": 0,
               "redraw": true
              },
              "fromcurrent": true,
              "mode": "immediate",
              "transition": {
               "duration": 0,
               "easing": "linear"
              }
             }
            ],
            "label": "2012",
            "method": "animate"
           },
           {
            "args": [
             [
              "2013"
             ],
             {
              "frame": {
               "duration": 0,
               "redraw": true
              },
              "fromcurrent": true,
              "mode": "immediate",
              "transition": {
               "duration": 0,
               "easing": "linear"
              }
             }
            ],
            "label": "2013",
            "method": "animate"
           },
           {
            "args": [
             [
              "2014"
             ],
             {
              "frame": {
               "duration": 0,
               "redraw": true
              },
              "fromcurrent": true,
              "mode": "immediate",
              "transition": {
               "duration": 0,
               "easing": "linear"
              }
             }
            ],
            "label": "2014",
            "method": "animate"
           },
           {
            "args": [
             [
              "2015"
             ],
             {
              "frame": {
               "duration": 0,
               "redraw": true
              },
              "fromcurrent": true,
              "mode": "immediate",
              "transition": {
               "duration": 0,
               "easing": "linear"
              }
             }
            ],
            "label": "2015",
            "method": "animate"
           },
           {
            "args": [
             [
              "2016"
             ],
             {
              "frame": {
               "duration": 0,
               "redraw": true
              },
              "fromcurrent": true,
              "mode": "immediate",
              "transition": {
               "duration": 0,
               "easing": "linear"
              }
             }
            ],
            "label": "2016",
            "method": "animate"
           },
           {
            "args": [
             [
              "2017"
             ],
             {
              "frame": {
               "duration": 0,
               "redraw": true
              },
              "fromcurrent": true,
              "mode": "immediate",
              "transition": {
               "duration": 0,
               "easing": "linear"
              }
             }
            ],
            "label": "2017",
            "method": "animate"
           },
           {
            "args": [
             [
              "2018"
             ],
             {
              "frame": {
               "duration": 0,
               "redraw": true
              },
              "fromcurrent": true,
              "mode": "immediate",
              "transition": {
               "duration": 0,
               "easing": "linear"
              }
             }
            ],
            "label": "2018",
            "method": "animate"
           },
           {
            "args": [
             [
              "2019"
             ],
             {
              "frame": {
               "duration": 0,
               "redraw": true
              },
              "fromcurrent": true,
              "mode": "immediate",
              "transition": {
               "duration": 0,
               "easing": "linear"
              }
             }
            ],
            "label": "2019",
            "method": "animate"
           },
           {
            "args": [
             [
              "2020"
             ],
             {
              "frame": {
               "duration": 0,
               "redraw": true
              },
              "fromcurrent": true,
              "mode": "immediate",
              "transition": {
               "duration": 0,
               "easing": "linear"
              }
             }
            ],
            "label": "2020",
            "method": "animate"
           },
           {
            "args": [
             [
              "2021"
             ],
             {
              "frame": {
               "duration": 0,
               "redraw": true
              },
              "fromcurrent": true,
              "mode": "immediate",
              "transition": {
               "duration": 0,
               "easing": "linear"
              }
             }
            ],
            "label": "2021",
            "method": "animate"
           }
          ],
          "x": 0.1,
          "xanchor": "left",
          "y": 0,
          "yanchor": "top"
         }
        ],
        "template": {
         "data": {
          "bar": [
           {
            "error_x": {
             "color": "#2a3f5f"
            },
            "error_y": {
             "color": "#2a3f5f"
            },
            "marker": {
             "line": {
              "color": "#E5ECF6",
              "width": 0.5
             },
             "pattern": {
              "fillmode": "overlay",
              "size": 10,
              "solidity": 0.2
             }
            },
            "type": "bar"
           }
          ],
          "barpolar": [
           {
            "marker": {
             "line": {
              "color": "#E5ECF6",
              "width": 0.5
             },
             "pattern": {
              "fillmode": "overlay",
              "size": 10,
              "solidity": 0.2
             }
            },
            "type": "barpolar"
           }
          ],
          "carpet": [
           {
            "aaxis": {
             "endlinecolor": "#2a3f5f",
             "gridcolor": "white",
             "linecolor": "white",
             "minorgridcolor": "white",
             "startlinecolor": "#2a3f5f"
            },
            "baxis": {
             "endlinecolor": "#2a3f5f",
             "gridcolor": "white",
             "linecolor": "white",
             "minorgridcolor": "white",
             "startlinecolor": "#2a3f5f"
            },
            "type": "carpet"
           }
          ],
          "choropleth": [
           {
            "colorbar": {
             "outlinewidth": 0,
             "ticks": ""
            },
            "type": "choropleth"
           }
          ],
          "contour": [
           {
            "colorbar": {
             "outlinewidth": 0,
             "ticks": ""
            },
            "colorscale": [
             [
              0,
              "#0d0887"
             ],
             [
              0.1111111111111111,
              "#46039f"
             ],
             [
              0.2222222222222222,
              "#7201a8"
             ],
             [
              0.3333333333333333,
              "#9c179e"
             ],
             [
              0.4444444444444444,
              "#bd3786"
             ],
             [
              0.5555555555555556,
              "#d8576b"
             ],
             [
              0.6666666666666666,
              "#ed7953"
             ],
             [
              0.7777777777777778,
              "#fb9f3a"
             ],
             [
              0.8888888888888888,
              "#fdca26"
             ],
             [
              1,
              "#f0f921"
             ]
            ],
            "type": "contour"
           }
          ],
          "contourcarpet": [
           {
            "colorbar": {
             "outlinewidth": 0,
             "ticks": ""
            },
            "type": "contourcarpet"
           }
          ],
          "heatmap": [
           {
            "colorbar": {
             "outlinewidth": 0,
             "ticks": ""
            },
            "colorscale": [
             [
              0,
              "#0d0887"
             ],
             [
              0.1111111111111111,
              "#46039f"
             ],
             [
              0.2222222222222222,
              "#7201a8"
             ],
             [
              0.3333333333333333,
              "#9c179e"
             ],
             [
              0.4444444444444444,
              "#bd3786"
             ],
             [
              0.5555555555555556,
              "#d8576b"
             ],
             [
              0.6666666666666666,
              "#ed7953"
             ],
             [
              0.7777777777777778,
              "#fb9f3a"
             ],
             [
              0.8888888888888888,
              "#fdca26"
             ],
             [
              1,
              "#f0f921"
             ]
            ],
            "type": "heatmap"
           }
          ],
          "heatmapgl": [
           {
            "colorbar": {
             "outlinewidth": 0,
             "ticks": ""
            },
            "colorscale": [
             [
              0,
              "#0d0887"
             ],
             [
              0.1111111111111111,
              "#46039f"
             ],
             [
              0.2222222222222222,
              "#7201a8"
             ],
             [
              0.3333333333333333,
              "#9c179e"
             ],
             [
              0.4444444444444444,
              "#bd3786"
             ],
             [
              0.5555555555555556,
              "#d8576b"
             ],
             [
              0.6666666666666666,
              "#ed7953"
             ],
             [
              0.7777777777777778,
              "#fb9f3a"
             ],
             [
              0.8888888888888888,
              "#fdca26"
             ],
             [
              1,
              "#f0f921"
             ]
            ],
            "type": "heatmapgl"
           }
          ],
          "histogram": [
           {
            "marker": {
             "pattern": {
              "fillmode": "overlay",
              "size": 10,
              "solidity": 0.2
             }
            },
            "type": "histogram"
           }
          ],
          "histogram2d": [
           {
            "colorbar": {
             "outlinewidth": 0,
             "ticks": ""
            },
            "colorscale": [
             [
              0,
              "#0d0887"
             ],
             [
              0.1111111111111111,
              "#46039f"
             ],
             [
              0.2222222222222222,
              "#7201a8"
             ],
             [
              0.3333333333333333,
              "#9c179e"
             ],
             [
              0.4444444444444444,
              "#bd3786"
             ],
             [
              0.5555555555555556,
              "#d8576b"
             ],
             [
              0.6666666666666666,
              "#ed7953"
             ],
             [
              0.7777777777777778,
              "#fb9f3a"
             ],
             [
              0.8888888888888888,
              "#fdca26"
             ],
             [
              1,
              "#f0f921"
             ]
            ],
            "type": "histogram2d"
           }
          ],
          "histogram2dcontour": [
           {
            "colorbar": {
             "outlinewidth": 0,
             "ticks": ""
            },
            "colorscale": [
             [
              0,
              "#0d0887"
             ],
             [
              0.1111111111111111,
              "#46039f"
             ],
             [
              0.2222222222222222,
              "#7201a8"
             ],
             [
              0.3333333333333333,
              "#9c179e"
             ],
             [
              0.4444444444444444,
              "#bd3786"
             ],
             [
              0.5555555555555556,
              "#d8576b"
             ],
             [
              0.6666666666666666,
              "#ed7953"
             ],
             [
              0.7777777777777778,
              "#fb9f3a"
             ],
             [
              0.8888888888888888,
              "#fdca26"
             ],
             [
              1,
              "#f0f921"
             ]
            ],
            "type": "histogram2dcontour"
           }
          ],
          "mesh3d": [
           {
            "colorbar": {
             "outlinewidth": 0,
             "ticks": ""
            },
            "type": "mesh3d"
           }
          ],
          "parcoords": [
           {
            "line": {
             "colorbar": {
              "outlinewidth": 0,
              "ticks": ""
             }
            },
            "type": "parcoords"
           }
          ],
          "pie": [
           {
            "automargin": true,
            "type": "pie"
           }
          ],
          "scatter": [
           {
            "marker": {
             "colorbar": {
              "outlinewidth": 0,
              "ticks": ""
             }
            },
            "type": "scatter"
           }
          ],
          "scatter3d": [
           {
            "line": {
             "colorbar": {
              "outlinewidth": 0,
              "ticks": ""
             }
            },
            "marker": {
             "colorbar": {
              "outlinewidth": 0,
              "ticks": ""
             }
            },
            "type": "scatter3d"
           }
          ],
          "scattercarpet": [
           {
            "marker": {
             "colorbar": {
              "outlinewidth": 0,
              "ticks": ""
             }
            },
            "type": "scattercarpet"
           }
          ],
          "scattergeo": [
           {
            "marker": {
             "colorbar": {
              "outlinewidth": 0,
              "ticks": ""
             }
            },
            "type": "scattergeo"
           }
          ],
          "scattergl": [
           {
            "marker": {
             "colorbar": {
              "outlinewidth": 0,
              "ticks": ""
             }
            },
            "type": "scattergl"
           }
          ],
          "scattermapbox": [
           {
            "marker": {
             "colorbar": {
              "outlinewidth": 0,
              "ticks": ""
             }
            },
            "type": "scattermapbox"
           }
          ],
          "scatterpolar": [
           {
            "marker": {
             "colorbar": {
              "outlinewidth": 0,
              "ticks": ""
             }
            },
            "type": "scatterpolar"
           }
          ],
          "scatterpolargl": [
           {
            "marker": {
             "colorbar": {
              "outlinewidth": 0,
              "ticks": ""
             }
            },
            "type": "scatterpolargl"
           }
          ],
          "scatterternary": [
           {
            "marker": {
             "colorbar": {
              "outlinewidth": 0,
              "ticks": ""
             }
            },
            "type": "scatterternary"
           }
          ],
          "surface": [
           {
            "colorbar": {
             "outlinewidth": 0,
             "ticks": ""
            },
            "colorscale": [
             [
              0,
              "#0d0887"
             ],
             [
              0.1111111111111111,
              "#46039f"
             ],
             [
              0.2222222222222222,
              "#7201a8"
             ],
             [
              0.3333333333333333,
              "#9c179e"
             ],
             [
              0.4444444444444444,
              "#bd3786"
             ],
             [
              0.5555555555555556,
              "#d8576b"
             ],
             [
              0.6666666666666666,
              "#ed7953"
             ],
             [
              0.7777777777777778,
              "#fb9f3a"
             ],
             [
              0.8888888888888888,
              "#fdca26"
             ],
             [
              1,
              "#f0f921"
             ]
            ],
            "type": "surface"
           }
          ],
          "table": [
           {
            "cells": {
             "fill": {
              "color": "#EBF0F8"
             },
             "line": {
              "color": "white"
             }
            },
            "header": {
             "fill": {
              "color": "#C8D4E3"
             },
             "line": {
              "color": "white"
             }
            },
            "type": "table"
           }
          ]
         },
         "layout": {
          "annotationdefaults": {
           "arrowcolor": "#2a3f5f",
           "arrowhead": 0,
           "arrowwidth": 1
          },
          "autotypenumbers": "strict",
          "coloraxis": {
           "colorbar": {
            "outlinewidth": 0,
            "ticks": ""
           }
          },
          "colorscale": {
           "diverging": [
            [
             0,
             "#8e0152"
            ],
            [
             0.1,
             "#c51b7d"
            ],
            [
             0.2,
             "#de77ae"
            ],
            [
             0.3,
             "#f1b6da"
            ],
            [
             0.4,
             "#fde0ef"
            ],
            [
             0.5,
             "#f7f7f7"
            ],
            [
             0.6,
             "#e6f5d0"
            ],
            [
             0.7,
             "#b8e186"
            ],
            [
             0.8,
             "#7fbc41"
            ],
            [
             0.9,
             "#4d9221"
            ],
            [
             1,
             "#276419"
            ]
           ],
           "sequential": [
            [
             0,
             "#0d0887"
            ],
            [
             0.1111111111111111,
             "#46039f"
            ],
            [
             0.2222222222222222,
             "#7201a8"
            ],
            [
             0.3333333333333333,
             "#9c179e"
            ],
            [
             0.4444444444444444,
             "#bd3786"
            ],
            [
             0.5555555555555556,
             "#d8576b"
            ],
            [
             0.6666666666666666,
             "#ed7953"
            ],
            [
             0.7777777777777778,
             "#fb9f3a"
            ],
            [
             0.8888888888888888,
             "#fdca26"
            ],
            [
             1,
             "#f0f921"
            ]
           ],
           "sequentialminus": [
            [
             0,
             "#0d0887"
            ],
            [
             0.1111111111111111,
             "#46039f"
            ],
            [
             0.2222222222222222,
             "#7201a8"
            ],
            [
             0.3333333333333333,
             "#9c179e"
            ],
            [
             0.4444444444444444,
             "#bd3786"
            ],
            [
             0.5555555555555556,
             "#d8576b"
            ],
            [
             0.6666666666666666,
             "#ed7953"
            ],
            [
             0.7777777777777778,
             "#fb9f3a"
            ],
            [
             0.8888888888888888,
             "#fdca26"
            ],
            [
             1,
             "#f0f921"
            ]
           ]
          },
          "colorway": [
           "#636efa",
           "#EF553B",
           "#00cc96",
           "#ab63fa",
           "#FFA15A",
           "#19d3f3",
           "#FF6692",
           "#B6E880",
           "#FF97FF",
           "#FECB52"
          ],
          "font": {
           "color": "#2a3f5f"
          },
          "geo": {
           "bgcolor": "white",
           "lakecolor": "white",
           "landcolor": "#E5ECF6",
           "showlakes": true,
           "showland": true,
           "subunitcolor": "white"
          },
          "hoverlabel": {
           "align": "left"
          },
          "hovermode": "closest",
          "mapbox": {
           "style": "light"
          },
          "paper_bgcolor": "white",
          "plot_bgcolor": "#E5ECF6",
          "polar": {
           "angularaxis": {
            "gridcolor": "white",
            "linecolor": "white",
            "ticks": ""
           },
           "bgcolor": "#E5ECF6",
           "radialaxis": {
            "gridcolor": "white",
            "linecolor": "white",
            "ticks": ""
           }
          },
          "scene": {
           "xaxis": {
            "backgroundcolor": "#E5ECF6",
            "gridcolor": "white",
            "gridwidth": 2,
            "linecolor": "white",
            "showbackground": true,
            "ticks": "",
            "zerolinecolor": "white"
           },
           "yaxis": {
            "backgroundcolor": "#E5ECF6",
            "gridcolor": "white",
            "gridwidth": 2,
            "linecolor": "white",
            "showbackground": true,
            "ticks": "",
            "zerolinecolor": "white"
           },
           "zaxis": {
            "backgroundcolor": "#E5ECF6",
            "gridcolor": "white",
            "gridwidth": 2,
            "linecolor": "white",
            "showbackground": true,
            "ticks": "",
            "zerolinecolor": "white"
           }
          },
          "shapedefaults": {
           "line": {
            "color": "#2a3f5f"
           }
          },
          "ternary": {
           "aaxis": {
            "gridcolor": "white",
            "linecolor": "white",
            "ticks": ""
           },
           "baxis": {
            "gridcolor": "white",
            "linecolor": "white",
            "ticks": ""
           },
           "bgcolor": "#E5ECF6",
           "caxis": {
            "gridcolor": "white",
            "linecolor": "white",
            "ticks": ""
           }
          },
          "title": {
           "x": 0.05
          },
          "xaxis": {
           "automargin": true,
           "gridcolor": "white",
           "linecolor": "white",
           "ticks": "",
           "title": {
            "standoff": 15
           },
           "zerolinecolor": "white",
           "zerolinewidth": 2
          },
          "yaxis": {
           "automargin": true,
           "gridcolor": "white",
           "linecolor": "white",
           "ticks": "",
           "title": {
            "standoff": 15
           },
           "zerolinecolor": "white",
           "zerolinewidth": 2
          }
         }
        },
        "title": {
         "text": "Energy Generated by State Over Time"
        },
        "updatemenus": [
         {
          "buttons": [
           {
            "args": [
             null,
             {
              "frame": {
               "duration": 500,
               "redraw": true
              },
              "fromcurrent": true,
              "mode": "immediate",
              "transition": {
               "duration": 500,
               "easing": "linear"
              }
             }
            ],
            "label": "&#9654;",
            "method": "animate"
           },
           {
            "args": [
             [
              null
             ],
             {
              "frame": {
               "duration": 0,
               "redraw": true
              },
              "fromcurrent": true,
              "mode": "immediate",
              "transition": {
               "duration": 0,
               "easing": "linear"
              }
             }
            ],
            "label": "&#9724;",
            "method": "animate"
           }
          ],
          "direction": "left",
          "pad": {
           "r": 10,
           "t": 70
          },
          "showactive": false,
          "type": "buttons",
          "x": 0.1,
          "xanchor": "right",
          "y": 0,
          "yanchor": "top"
         }
        ]
       }
      },
      "text/html": [
       "<div>                            <div id=\"990c25fa-e280-4a87-8e3b-9e4114410bd8\" class=\"plotly-graph-div\" style=\"height:600px; width:100%;\"></div>            <script type=\"text/javascript\">                require([\"plotly\"], function(Plotly) {                    window.PLOTLYENV=window.PLOTLYENV || {};                                    if (document.getElementById(\"990c25fa-e280-4a87-8e3b-9e4114410bd8\")) {                    Plotly.newPlot(                        \"990c25fa-e280-4a87-8e3b-9e4114410bd8\",                        [{\"coloraxis\":\"coloraxis\",\"geo\":\"geo\",\"hovertemplate\":\"Year=2001<br>State=%{location}<br>Total Generated(MWh)=%{z}<extra></extra>\",\"locationmode\":\"USA-states\",\"locations\":[\"TX\",\"CA\",\"PA\",\"FL\",\"IL\",\"NY\",\"OH\",\"AL\",\"IN\",\"GA\",\"NC\",\"MI\",\"TN\",\"KY\",\"AZ\",\"SC\",\"LA\",\"WA\",\"WV\",\"MO\",\"VA\",\"NJ\",\"WI\",\"OK\",\"MS\",\"MD\",\"MN\",\"AR\",\"CO\",\"OR\",\"WY\",\"KS\",\"IA\",\"MA\",\"UT\",\"NV\",\"NM\",\"CT\",\"NE\",\"ND\",\"MT\",\"ME\",\"NH\",\"HI\",\"ID\",\"RI\",\"SD\",\"DE\",\"AK\",\"VT\",\"DC\"],\"name\":\"\",\"z\":[372580005.0,198596072.0,196576590.0,190945343.0,179249282.0,143914556.0,142261809.0,125345113.0,122569670.0,118316788.0,117495851.0,111845612.0,96221976.0,95417625.0,89911272.0,89158990.0,87894379.0,83048670.0,81836725.0,79544872.0,74104748.0,59421260.0,58763434.0,55249453.0,53446448.0,49062342.0,48523223.0,47192036.0,46876003.0,45051906.0,44776938.0,44748522.0,40658512.0,38478431.0,35853750.0,33875966.0,33611643.0,30490645.0,30485213.0,30332072.0,24232487.0,19564821.0,15074624.0,10633092.0,9346942.0,7501892.0,7400743.0,6807685.0,6743766.0,5480614.0,123239.0],\"type\":\"choropleth\"}],                        {\"template\":{\"data\":{\"bar\":[{\"error_x\":{\"color\":\"#2a3f5f\"},\"error_y\":{\"color\":\"#2a3f5f\"},\"marker\":{\"line\":{\"color\":\"#E5ECF6\",\"width\":0.5},\"pattern\":{\"fillmode\":\"overlay\",\"size\":10,\"solidity\":0.2}},\"type\":\"bar\"}],\"barpolar\":[{\"marker\":{\"line\":{\"color\":\"#E5ECF6\",\"width\":0.5},\"pattern\":{\"fillmode\":\"overlay\",\"size\":10,\"solidity\":0.2}},\"type\":\"barpolar\"}],\"carpet\":[{\"aaxis\":{\"endlinecolor\":\"#2a3f5f\",\"gridcolor\":\"white\",\"linecolor\":\"white\",\"minorgridcolor\":\"white\",\"startlinecolor\":\"#2a3f5f\"},\"baxis\":{\"endlinecolor\":\"#2a3f5f\",\"gridcolor\":\"white\",\"linecolor\":\"white\",\"minorgridcolor\":\"white\",\"startlinecolor\":\"#2a3f5f\"},\"type\":\"carpet\"}],\"choropleth\":[{\"colorbar\":{\"outlinewidth\":0,\"ticks\":\"\"},\"type\":\"choropleth\"}],\"contour\":[{\"colorbar\":{\"outlinewidth\":0,\"ticks\":\"\"},\"colorscale\":[[0.0,\"#0d0887\"],[0.1111111111111111,\"#46039f\"],[0.2222222222222222,\"#7201a8\"],[0.3333333333333333,\"#9c179e\"],[0.4444444444444444,\"#bd3786\"],[0.5555555555555556,\"#d8576b\"],[0.6666666666666666,\"#ed7953\"],[0.7777777777777778,\"#fb9f3a\"],[0.8888888888888888,\"#fdca26\"],[1.0,\"#f0f921\"]],\"type\":\"contour\"}],\"contourcarpet\":[{\"colorbar\":{\"outlinewidth\":0,\"ticks\":\"\"},\"type\":\"contourcarpet\"}],\"heatmap\":[{\"colorbar\":{\"outlinewidth\":0,\"ticks\":\"\"},\"colorscale\":[[0.0,\"#0d0887\"],[0.1111111111111111,\"#46039f\"],[0.2222222222222222,\"#7201a8\"],[0.3333333333333333,\"#9c179e\"],[0.4444444444444444,\"#bd3786\"],[0.5555555555555556,\"#d8576b\"],[0.6666666666666666,\"#ed7953\"],[0.7777777777777778,\"#fb9f3a\"],[0.8888888888888888,\"#fdca26\"],[1.0,\"#f0f921\"]],\"type\":\"heatmap\"}],\"heatmapgl\":[{\"colorbar\":{\"outlinewidth\":0,\"ticks\":\"\"},\"colorscale\":[[0.0,\"#0d0887\"],[0.1111111111111111,\"#46039f\"],[0.2222222222222222,\"#7201a8\"],[0.3333333333333333,\"#9c179e\"],[0.4444444444444444,\"#bd3786\"],[0.5555555555555556,\"#d8576b\"],[0.6666666666666666,\"#ed7953\"],[0.7777777777777778,\"#fb9f3a\"],[0.8888888888888888,\"#fdca26\"],[1.0,\"#f0f921\"]],\"type\":\"heatmapgl\"}],\"histogram\":[{\"marker\":{\"pattern\":{\"fillmode\":\"overlay\",\"size\":10,\"solidity\":0.2}},\"type\":\"histogram\"}],\"histogram2d\":[{\"colorbar\":{\"outlinewidth\":0,\"ticks\":\"\"},\"colorscale\":[[0.0,\"#0d0887\"],[0.1111111111111111,\"#46039f\"],[0.2222222222222222,\"#7201a8\"],[0.3333333333333333,\"#9c179e\"],[0.4444444444444444,\"#bd3786\"],[0.5555555555555556,\"#d8576b\"],[0.6666666666666666,\"#ed7953\"],[0.7777777777777778,\"#fb9f3a\"],[0.8888888888888888,\"#fdca26\"],[1.0,\"#f0f921\"]],\"type\":\"histogram2d\"}],\"histogram2dcontour\":[{\"colorbar\":{\"outlinewidth\":0,\"ticks\":\"\"},\"colorscale\":[[0.0,\"#0d0887\"],[0.1111111111111111,\"#46039f\"],[0.2222222222222222,\"#7201a8\"],[0.3333333333333333,\"#9c179e\"],[0.4444444444444444,\"#bd3786\"],[0.5555555555555556,\"#d8576b\"],[0.6666666666666666,\"#ed7953\"],[0.7777777777777778,\"#fb9f3a\"],[0.8888888888888888,\"#fdca26\"],[1.0,\"#f0f921\"]],\"type\":\"histogram2dcontour\"}],\"mesh3d\":[{\"colorbar\":{\"outlinewidth\":0,\"ticks\":\"\"},\"type\":\"mesh3d\"}],\"parcoords\":[{\"line\":{\"colorbar\":{\"outlinewidth\":0,\"ticks\":\"\"}},\"type\":\"parcoords\"}],\"pie\":[{\"automargin\":true,\"type\":\"pie\"}],\"scatter\":[{\"marker\":{\"colorbar\":{\"outlinewidth\":0,\"ticks\":\"\"}},\"type\":\"scatter\"}],\"scatter3d\":[{\"line\":{\"colorbar\":{\"outlinewidth\":0,\"ticks\":\"\"}},\"marker\":{\"colorbar\":{\"outlinewidth\":0,\"ticks\":\"\"}},\"type\":\"scatter3d\"}],\"scattercarpet\":[{\"marker\":{\"colorbar\":{\"outlinewidth\":0,\"ticks\":\"\"}},\"type\":\"scattercarpet\"}],\"scattergeo\":[{\"marker\":{\"colorbar\":{\"outlinewidth\":0,\"ticks\":\"\"}},\"type\":\"scattergeo\"}],\"scattergl\":[{\"marker\":{\"colorbar\":{\"outlinewidth\":0,\"ticks\":\"\"}},\"type\":\"scattergl\"}],\"scattermapbox\":[{\"marker\":{\"colorbar\":{\"outlinewidth\":0,\"ticks\":\"\"}},\"type\":\"scattermapbox\"}],\"scatterpolar\":[{\"marker\":{\"colorbar\":{\"outlinewidth\":0,\"ticks\":\"\"}},\"type\":\"scatterpolar\"}],\"scatterpolargl\":[{\"marker\":{\"colorbar\":{\"outlinewidth\":0,\"ticks\":\"\"}},\"type\":\"scatterpolargl\"}],\"scatterternary\":[{\"marker\":{\"colorbar\":{\"outlinewidth\":0,\"ticks\":\"\"}},\"type\":\"scatterternary\"}],\"surface\":[{\"colorbar\":{\"outlinewidth\":0,\"ticks\":\"\"},\"colorscale\":[[0.0,\"#0d0887\"],[0.1111111111111111,\"#46039f\"],[0.2222222222222222,\"#7201a8\"],[0.3333333333333333,\"#9c179e\"],[0.4444444444444444,\"#bd3786\"],[0.5555555555555556,\"#d8576b\"],[0.6666666666666666,\"#ed7953\"],[0.7777777777777778,\"#fb9f3a\"],[0.8888888888888888,\"#fdca26\"],[1.0,\"#f0f921\"]],\"type\":\"surface\"}],\"table\":[{\"cells\":{\"fill\":{\"color\":\"#EBF0F8\"},\"line\":{\"color\":\"white\"}},\"header\":{\"fill\":{\"color\":\"#C8D4E3\"},\"line\":{\"color\":\"white\"}},\"type\":\"table\"}]},\"layout\":{\"annotationdefaults\":{\"arrowcolor\":\"#2a3f5f\",\"arrowhead\":0,\"arrowwidth\":1},\"autotypenumbers\":\"strict\",\"coloraxis\":{\"colorbar\":{\"outlinewidth\":0,\"ticks\":\"\"}},\"colorscale\":{\"diverging\":[[0,\"#8e0152\"],[0.1,\"#c51b7d\"],[0.2,\"#de77ae\"],[0.3,\"#f1b6da\"],[0.4,\"#fde0ef\"],[0.5,\"#f7f7f7\"],[0.6,\"#e6f5d0\"],[0.7,\"#b8e186\"],[0.8,\"#7fbc41\"],[0.9,\"#4d9221\"],[1,\"#276419\"]],\"sequential\":[[0.0,\"#0d0887\"],[0.1111111111111111,\"#46039f\"],[0.2222222222222222,\"#7201a8\"],[0.3333333333333333,\"#9c179e\"],[0.4444444444444444,\"#bd3786\"],[0.5555555555555556,\"#d8576b\"],[0.6666666666666666,\"#ed7953\"],[0.7777777777777778,\"#fb9f3a\"],[0.8888888888888888,\"#fdca26\"],[1.0,\"#f0f921\"]],\"sequentialminus\":[[0.0,\"#0d0887\"],[0.1111111111111111,\"#46039f\"],[0.2222222222222222,\"#7201a8\"],[0.3333333333333333,\"#9c179e\"],[0.4444444444444444,\"#bd3786\"],[0.5555555555555556,\"#d8576b\"],[0.6666666666666666,\"#ed7953\"],[0.7777777777777778,\"#fb9f3a\"],[0.8888888888888888,\"#fdca26\"],[1.0,\"#f0f921\"]]},\"colorway\":[\"#636efa\",\"#EF553B\",\"#00cc96\",\"#ab63fa\",\"#FFA15A\",\"#19d3f3\",\"#FF6692\",\"#B6E880\",\"#FF97FF\",\"#FECB52\"],\"font\":{\"color\":\"#2a3f5f\"},\"geo\":{\"bgcolor\":\"white\",\"lakecolor\":\"white\",\"landcolor\":\"#E5ECF6\",\"showlakes\":true,\"showland\":true,\"subunitcolor\":\"white\"},\"hoverlabel\":{\"align\":\"left\"},\"hovermode\":\"closest\",\"mapbox\":{\"style\":\"light\"},\"paper_bgcolor\":\"white\",\"plot_bgcolor\":\"#E5ECF6\",\"polar\":{\"angularaxis\":{\"gridcolor\":\"white\",\"linecolor\":\"white\",\"ticks\":\"\"},\"bgcolor\":\"#E5ECF6\",\"radialaxis\":{\"gridcolor\":\"white\",\"linecolor\":\"white\",\"ticks\":\"\"}},\"scene\":{\"xaxis\":{\"backgroundcolor\":\"#E5ECF6\",\"gridcolor\":\"white\",\"gridwidth\":2,\"linecolor\":\"white\",\"showbackground\":true,\"ticks\":\"\",\"zerolinecolor\":\"white\"},\"yaxis\":{\"backgroundcolor\":\"#E5ECF6\",\"gridcolor\":\"white\",\"gridwidth\":2,\"linecolor\":\"white\",\"showbackground\":true,\"ticks\":\"\",\"zerolinecolor\":\"white\"},\"zaxis\":{\"backgroundcolor\":\"#E5ECF6\",\"gridcolor\":\"white\",\"gridwidth\":2,\"linecolor\":\"white\",\"showbackground\":true,\"ticks\":\"\",\"zerolinecolor\":\"white\"}},\"shapedefaults\":{\"line\":{\"color\":\"#2a3f5f\"}},\"ternary\":{\"aaxis\":{\"gridcolor\":\"white\",\"linecolor\":\"white\",\"ticks\":\"\"},\"baxis\":{\"gridcolor\":\"white\",\"linecolor\":\"white\",\"ticks\":\"\"},\"bgcolor\":\"#E5ECF6\",\"caxis\":{\"gridcolor\":\"white\",\"linecolor\":\"white\",\"ticks\":\"\"}},\"title\":{\"x\":0.05},\"xaxis\":{\"automargin\":true,\"gridcolor\":\"white\",\"linecolor\":\"white\",\"ticks\":\"\",\"title\":{\"standoff\":15},\"zerolinecolor\":\"white\",\"zerolinewidth\":2},\"yaxis\":{\"automargin\":true,\"gridcolor\":\"white\",\"linecolor\":\"white\",\"ticks\":\"\",\"title\":{\"standoff\":15},\"zerolinecolor\":\"white\",\"zerolinewidth\":2}}},\"geo\":{\"domain\":{\"x\":[0.0,1.0],\"y\":[0.0,1.0]},\"center\":{},\"scope\":\"usa\"},\"coloraxis\":{\"colorbar\":{\"title\":{\"text\":\"Total Generated(MWh)\"}},\"colorscale\":[[0.0,\"rgb(128,0,0)\"],[0.2,\"rgb(250,0,0)\"],[0.4,\"rgb(255,255,0)\"],[0.6,\"rgb(5,255,255)\"],[0.8,\"rgb(0,60,170)\"],[1.0,\"rgb(0,0,131)\"]],\"cmin\":35499.0,\"cmax\":483561773.0},\"legend\":{\"tracegroupgap\":0},\"title\":{\"text\":\"Energy Generated by State Over Time\"},\"height\":600,\"updatemenus\":[{\"buttons\":[{\"args\":[null,{\"frame\":{\"duration\":500,\"redraw\":true},\"mode\":\"immediate\",\"fromcurrent\":true,\"transition\":{\"duration\":500,\"easing\":\"linear\"}}],\"label\":\"&#9654;\",\"method\":\"animate\"},{\"args\":[[null],{\"frame\":{\"duration\":0,\"redraw\":true},\"mode\":\"immediate\",\"fromcurrent\":true,\"transition\":{\"duration\":0,\"easing\":\"linear\"}}],\"label\":\"&#9724;\",\"method\":\"animate\"}],\"direction\":\"left\",\"pad\":{\"r\":10,\"t\":70},\"showactive\":false,\"type\":\"buttons\",\"x\":0.1,\"xanchor\":\"right\",\"y\":0,\"yanchor\":\"top\"}],\"sliders\":[{\"active\":0,\"currentvalue\":{\"prefix\":\"Year=\"},\"len\":0.9,\"pad\":{\"b\":10,\"t\":60},\"steps\":[{\"args\":[[\"2001\"],{\"frame\":{\"duration\":0,\"redraw\":true},\"mode\":\"immediate\",\"fromcurrent\":true,\"transition\":{\"duration\":0,\"easing\":\"linear\"}}],\"label\":\"2001\",\"method\":\"animate\"},{\"args\":[[\"2002\"],{\"frame\":{\"duration\":0,\"redraw\":true},\"mode\":\"immediate\",\"fromcurrent\":true,\"transition\":{\"duration\":0,\"easing\":\"linear\"}}],\"label\":\"2002\",\"method\":\"animate\"},{\"args\":[[\"2003\"],{\"frame\":{\"duration\":0,\"redraw\":true},\"mode\":\"immediate\",\"fromcurrent\":true,\"transition\":{\"duration\":0,\"easing\":\"linear\"}}],\"label\":\"2003\",\"method\":\"animate\"},{\"args\":[[\"2004\"],{\"frame\":{\"duration\":0,\"redraw\":true},\"mode\":\"immediate\",\"fromcurrent\":true,\"transition\":{\"duration\":0,\"easing\":\"linear\"}}],\"label\":\"2004\",\"method\":\"animate\"},{\"args\":[[\"2005\"],{\"frame\":{\"duration\":0,\"redraw\":true},\"mode\":\"immediate\",\"fromcurrent\":true,\"transition\":{\"duration\":0,\"easing\":\"linear\"}}],\"label\":\"2005\",\"method\":\"animate\"},{\"args\":[[\"2006\"],{\"frame\":{\"duration\":0,\"redraw\":true},\"mode\":\"immediate\",\"fromcurrent\":true,\"transition\":{\"duration\":0,\"easing\":\"linear\"}}],\"label\":\"2006\",\"method\":\"animate\"},{\"args\":[[\"2007\"],{\"frame\":{\"duration\":0,\"redraw\":true},\"mode\":\"immediate\",\"fromcurrent\":true,\"transition\":{\"duration\":0,\"easing\":\"linear\"}}],\"label\":\"2007\",\"method\":\"animate\"},{\"args\":[[\"2008\"],{\"frame\":{\"duration\":0,\"redraw\":true},\"mode\":\"immediate\",\"fromcurrent\":true,\"transition\":{\"duration\":0,\"easing\":\"linear\"}}],\"label\":\"2008\",\"method\":\"animate\"},{\"args\":[[\"2009\"],{\"frame\":{\"duration\":0,\"redraw\":true},\"mode\":\"immediate\",\"fromcurrent\":true,\"transition\":{\"duration\":0,\"easing\":\"linear\"}}],\"label\":\"2009\",\"method\":\"animate\"},{\"args\":[[\"2010\"],{\"frame\":{\"duration\":0,\"redraw\":true},\"mode\":\"immediate\",\"fromcurrent\":true,\"transition\":{\"duration\":0,\"easing\":\"linear\"}}],\"label\":\"2010\",\"method\":\"animate\"},{\"args\":[[\"2011\"],{\"frame\":{\"duration\":0,\"redraw\":true},\"mode\":\"immediate\",\"fromcurrent\":true,\"transition\":{\"duration\":0,\"easing\":\"linear\"}}],\"label\":\"2011\",\"method\":\"animate\"},{\"args\":[[\"2012\"],{\"frame\":{\"duration\":0,\"redraw\":true},\"mode\":\"immediate\",\"fromcurrent\":true,\"transition\":{\"duration\":0,\"easing\":\"linear\"}}],\"label\":\"2012\",\"method\":\"animate\"},{\"args\":[[\"2013\"],{\"frame\":{\"duration\":0,\"redraw\":true},\"mode\":\"immediate\",\"fromcurrent\":true,\"transition\":{\"duration\":0,\"easing\":\"linear\"}}],\"label\":\"2013\",\"method\":\"animate\"},{\"args\":[[\"2014\"],{\"frame\":{\"duration\":0,\"redraw\":true},\"mode\":\"immediate\",\"fromcurrent\":true,\"transition\":{\"duration\":0,\"easing\":\"linear\"}}],\"label\":\"2014\",\"method\":\"animate\"},{\"args\":[[\"2015\"],{\"frame\":{\"duration\":0,\"redraw\":true},\"mode\":\"immediate\",\"fromcurrent\":true,\"transition\":{\"duration\":0,\"easing\":\"linear\"}}],\"label\":\"2015\",\"method\":\"animate\"},{\"args\":[[\"2016\"],{\"frame\":{\"duration\":0,\"redraw\":true},\"mode\":\"immediate\",\"fromcurrent\":true,\"transition\":{\"duration\":0,\"easing\":\"linear\"}}],\"label\":\"2016\",\"method\":\"animate\"},{\"args\":[[\"2017\"],{\"frame\":{\"duration\":0,\"redraw\":true},\"mode\":\"immediate\",\"fromcurrent\":true,\"transition\":{\"duration\":0,\"easing\":\"linear\"}}],\"label\":\"2017\",\"method\":\"animate\"},{\"args\":[[\"2018\"],{\"frame\":{\"duration\":0,\"redraw\":true},\"mode\":\"immediate\",\"fromcurrent\":true,\"transition\":{\"duration\":0,\"easing\":\"linear\"}}],\"label\":\"2018\",\"method\":\"animate\"},{\"args\":[[\"2019\"],{\"frame\":{\"duration\":0,\"redraw\":true},\"mode\":\"immediate\",\"fromcurrent\":true,\"transition\":{\"duration\":0,\"easing\":\"linear\"}}],\"label\":\"2019\",\"method\":\"animate\"},{\"args\":[[\"2020\"],{\"frame\":{\"duration\":0,\"redraw\":true},\"mode\":\"immediate\",\"fromcurrent\":true,\"transition\":{\"duration\":0,\"easing\":\"linear\"}}],\"label\":\"2020\",\"method\":\"animate\"},{\"args\":[[\"2021\"],{\"frame\":{\"duration\":0,\"redraw\":true},\"mode\":\"immediate\",\"fromcurrent\":true,\"transition\":{\"duration\":0,\"easing\":\"linear\"}}],\"label\":\"2021\",\"method\":\"animate\"}],\"x\":0.1,\"xanchor\":\"left\",\"y\":0,\"yanchor\":\"top\"}]},                        {\"responsive\": true}                    ).then(function(){\n",
       "                            Plotly.addFrames('990c25fa-e280-4a87-8e3b-9e4114410bd8', [{\"data\":[{\"coloraxis\":\"coloraxis\",\"geo\":\"geo\",\"hovertemplate\":\"Year=2001<br>State=%{location}<br>Total Generated(MWh)=%{z}<extra></extra>\",\"locationmode\":\"USA-states\",\"locations\":[\"TX\",\"CA\",\"PA\",\"FL\",\"IL\",\"NY\",\"OH\",\"AL\",\"IN\",\"GA\",\"NC\",\"MI\",\"TN\",\"KY\",\"AZ\",\"SC\",\"LA\",\"WA\",\"WV\",\"MO\",\"VA\",\"NJ\",\"WI\",\"OK\",\"MS\",\"MD\",\"MN\",\"AR\",\"CO\",\"OR\",\"WY\",\"KS\",\"IA\",\"MA\",\"UT\",\"NV\",\"NM\",\"CT\",\"NE\",\"ND\",\"MT\",\"ME\",\"NH\",\"HI\",\"ID\",\"RI\",\"SD\",\"DE\",\"AK\",\"VT\",\"DC\"],\"name\":\"\",\"z\":[372580005.0,198596072.0,196576590.0,190945343.0,179249282.0,143914556.0,142261809.0,125345113.0,122569670.0,118316788.0,117495851.0,111845612.0,96221976.0,95417625.0,89911272.0,89158990.0,87894379.0,83048670.0,81836725.0,79544872.0,74104748.0,59421260.0,58763434.0,55249453.0,53446448.0,49062342.0,48523223.0,47192036.0,46876003.0,45051906.0,44776938.0,44748522.0,40658512.0,38478431.0,35853750.0,33875966.0,33611643.0,30490645.0,30485213.0,30332072.0,24232487.0,19564821.0,15074624.0,10633092.0,9346942.0,7501892.0,7400743.0,6807685.0,6743766.0,5480614.0,123239.0],\"type\":\"choropleth\"}],\"name\":\"2001\"},{\"data\":[{\"coloraxis\":\"coloraxis\",\"geo\":\"geo\",\"hovertemplate\":\"Year=2002<br>State=%{location}<br>Total Generated(MWh)=%{z}<extra></extra>\",\"locationmode\":\"USA-states\",\"locations\":[\"TX\",\"PA\",\"FL\",\"IL\",\"CA\",\"OH\",\"NY\",\"AL\",\"GA\",\"IN\",\"NC\",\"MI\",\"WA\",\"SC\",\"TN\",\"LA\",\"WV\",\"AZ\",\"KY\",\"MO\",\"VA\",\"NJ\",\"OK\",\"WI\",\"MN\",\"MD\",\"AR\",\"KS\",\"OR\",\"CO\",\"WY\",\"MS\",\"IA\",\"MA\",\"UT\",\"NV\",\"NE\",\"CT\",\"ND\",\"NM\",\"MT\",\"ME\",\"NH\",\"HI\",\"ID\",\"SD\",\"RI\",\"AK\",\"DE\",\"VT\",\"DC\"],\"name\":\"\",\"z\":[385628540.0,204322877.0,203352778.0,188054454.0,184210036.0,147068847.0,139591686.0,132920675.0,126512215.0,125608144.0,124468027.0,117889088.0,102765048.0,96563499.0,96114264.0,94970963.0,94761752.0,94131663.0,92106668.0,81162196.0,75005652.0,61569386.0,59183420.0,58431437.0,52777964.0,48279085.0,47611641.0,47188445.0,47099368.0,45600388.0,43783839.0,42890862.0,42528386.0,42027824.0,36608004.0,32088938.0,31618489.0,31311219.0,31306306.0,30661706.0,25473706.0,22535036.0,15953075.0,11663073.0,9786932.0,7721958.0,7056764.0,6767322.0,6002490.0,5456191.0,261980.0],\"type\":\"choropleth\"}],\"name\":\"2002\"},{\"data\":[{\"coloraxis\":\"coloraxis\",\"geo\":\"geo\",\"hovertemplate\":\"Year=2003<br>State=%{location}<br>Total Generated(MWh)=%{z}<extra></extra>\",\"locationmode\":\"USA-states\",\"locations\":[\"TX\",\"FL\",\"PA\",\"CA\",\"IL\",\"OH\",\"NY\",\"AL\",\"NC\",\"IN\",\"GA\",\"MI\",\"WA\",\"LA\",\"WV\",\"AZ\",\"SC\",\"TN\",\"KY\",\"MO\",\"VA\",\"OK\",\"WI\",\"NJ\",\"MN\",\"MD\",\"AR\",\"OR\",\"MA\",\"CO\",\"KS\",\"WY\",\"IA\",\"MS\",\"UT\",\"NV\",\"NM\",\"ND\",\"NE\",\"CT\",\"MT\",\"NH\",\"ME\",\"HI\",\"ID\",\"SD\",\"DE\",\"AK\",\"VT\",\"RI\",\"DC\"],\"name\":\"\",\"z\":[379199684.0,212610013.0,206349513.0,192788542.0,189055260.0,146638128.0,137643314.0,137487221.0,127582319.0,124888217.0,124076833.0,111347060.0,100094691.0,94885041.0,94711553.0,94396218.0,93772678.0,92221791.0,91718819.0,87225087.0,75309420.0,60626856.0,60122424.0,57399351.0,55050995.0,52244237.0,50401100.0,48966139.0,48385024.0,46616787.0,46567561.0,43626602.0,42116195.0,40148278.0,38023667.0,33194887.0,32735652.0,31322127.0,30455983.0,29545048.0,26268726.0,21597107.0,18971635.0,10976371.0,10422936.0,7943837.0,7392287.0,6338731.0,6027962.0,5621144.0,74144.0],\"type\":\"choropleth\"}],\"name\":\"2003\"},{\"data\":[{\"coloraxis\":\"coloraxis\",\"geo\":\"geo\",\"hovertemplate\":\"Year=2004<br>State=%{location}<br>Total Generated(MWh)=%{z}<extra></extra>\",\"locationmode\":\"USA-states\",\"locations\":[\"TX\",\"FL\",\"PA\",\"CA\",\"IL\",\"OH\",\"NY\",\"AL\",\"IN\",\"GA\",\"NC\",\"MI\",\"AZ\",\"WA\",\"LA\",\"SC\",\"TN\",\"KY\",\"WV\",\"MO\",\"VA\",\"OK\",\"WI\",\"NJ\",\"MN\",\"MD\",\"AR\",\"OR\",\"CO\",\"MA\",\"KS\",\"WY\",\"MS\",\"IA\",\"UT\",\"NV\",\"NM\",\"CT\",\"NE\",\"ND\",\"MT\",\"NH\",\"ME\",\"HI\",\"ID\",\"DE\",\"SD\",\"AK\",\"VT\",\"RI\",\"DC\"],\"name\":\"\",\"z\":[390299131.0,218117927.0,214658502.0,194780356.0,191957777.0,148345907.0,137964793.0,137354770.0,127770396.0,126812715.0,126329956.0,118487272.0,104564142.0,102165052.0,98172308.0,97939928.0,97594543.0,94529948.0,89749564.0,87632910.0,78900041.0,60729560.0,60444935.0,55882341.0,52364127.0,52052768.0,51927632.0,51381279.0,47869492.0,47500481.0,46782658.0,44807605.0,43662613.0,43248191.0,38211976.0,37667435.0,32940360.0,32633408.0,32008708.0,29936105.0,26788768.0,23875786.0,19098885.0,11410403.0,10863038.0,7855551.0,7510214.0,6526717.0,5470379.0,4939420.0,36487.0],\"type\":\"choropleth\"}],\"name\":\"2004\"},{\"data\":[{\"coloraxis\":\"coloraxis\",\"geo\":\"geo\",\"hovertemplate\":\"Year=2005<br>State=%{location}<br>Total Generated(MWh)=%{z}<extra></extra>\",\"locationmode\":\"USA-states\",\"locations\":[\"TX\",\"FL\",\"PA\",\"CA\",\"IL\",\"OH\",\"NY\",\"AL\",\"GA\",\"IN\",\"NC\",\"MI\",\"SC\",\"WA\",\"AZ\",\"KY\",\"TN\",\"WV\",\"LA\",\"MO\",\"VA\",\"OK\",\"WI\",\"NJ\",\"MN\",\"MD\",\"CO\",\"OR\",\"AR\",\"MA\",\"KS\",\"WY\",\"MS\",\"IA\",\"NV\",\"UT\",\"NM\",\"CT\",\"ND\",\"NE\",\"MT\",\"NH\",\"ME\",\"HI\",\"ID\",\"DE\",\"AK\",\"SD\",\"RI\",\"VT\",\"DC\"],\"name\":\"\",\"z\":[396668722.0,220256411.0,218091125.0,200292817.0,194120146.0,156976323.0,146887419.0,137948581.0,136667892.0,130371574.0,129748578.0,121619772.0,102514664.0,101965849.0,101478656.0,97822418.0,97117167.0,93626285.0,92616878.0,90828230.0,78943045.0,68607826.0,61824662.0,60549585.0,53018996.0,52661597.0,49616696.0,49325003.0,47794510.0,47515443.0,45862696.0,45567308.0,45067454.0,44156160.0,40213751.0,38165131.0,35135643.0,33549748.0,31932614.0,31464735.0,27938778.0,24470013.0,18843978.0,11522804.0,10824984.0,8136569.0,6576659.0,6520768.0,6053295.0,5716753.0,226042.0],\"type\":\"choropleth\"}],\"name\":\"2005\"},{\"data\":[{\"coloraxis\":\"coloraxis\",\"geo\":\"geo\",\"hovertemplate\":\"Year=2006<br>State=%{location}<br>Total Generated(MWh)=%{z}<extra></extra>\",\"locationmode\":\"USA-states\",\"locations\":[\"TX\",\"FL\",\"PA\",\"CA\",\"IL\",\"OH\",\"NY\",\"AL\",\"GA\",\"IN\",\"NC\",\"MI\",\"WA\",\"AZ\",\"SC\",\"KY\",\"TN\",\"WV\",\"MO\",\"LA\",\"VA\",\"OK\",\"WI\",\"NJ\",\"OR\",\"MN\",\"AR\",\"CO\",\"MD\",\"MS\",\"MA\",\"KS\",\"IA\",\"WY\",\"UT\",\"NM\",\"CT\",\"NV\",\"NE\",\"ND\",\"MT\",\"NH\",\"ME\",\"ID\",\"HI\",\"DE\",\"SD\",\"VT\",\"AK\",\"RI\",\"DC\"],\"name\":\"\",\"z\":[400582878.0,223751621.0,218811594.0,216798687.0,192426958.0,155434074.0,142265432.0,140895442.0,138010207.0,130489786.0,125214785.0,112556738.0,108203154.0,104392530.0,99267606.0,98792015.0,93911101.0,93815805.0,91686343.0,90921829.0,73069536.0,70614880.0,61639845.0,60700138.0,53340697.0,53237789.0,52168702.0,50698354.0,48956879.0,46228847.0,45597776.0,45523736.0,45483463.0,45400371.0,41263325.0,37265624.0,34681737.0,31860023.0,31669967.0,30881137.0,28243536.0,22063696.0,16816173.0,13386085.0,11559173.0,7182180.0,7132243.0,7084344.0,6674196.0,5967724.0,81467.0],\"type\":\"choropleth\"}],\"name\":\"2006\"},{\"data\":[{\"coloraxis\":\"coloraxis\",\"geo\":\"geo\",\"hovertemplate\":\"Year=2007<br>State=%{location}<br>Total Generated(MWh)=%{z}<extra></extra>\",\"locationmode\":\"USA-states\",\"locations\":[\"TX\",\"PA\",\"FL\",\"CA\",\"IL\",\"OH\",\"NY\",\"GA\",\"AL\",\"IN\",\"NC\",\"MI\",\"AZ\",\"WA\",\"SC\",\"KY\",\"TN\",\"WV\",\"LA\",\"MO\",\"VA\",\"OK\",\"WI\",\"NJ\",\"OR\",\"AR\",\"MN\",\"CO\",\"MD\",\"KS\",\"MS\",\"IA\",\"MA\",\"WY\",\"UT\",\"NM\",\"CT\",\"NV\",\"NE\",\"ND\",\"MT\",\"NH\",\"ME\",\"HI\",\"ID\",\"DE\",\"RI\",\"AK\",\"SD\",\"VT\",\"DC\"],\"name\":\"\",\"z\":[405492296.0,226088341.0,225416061.0,210847583.0,200260680.0,155155547.0,145878688.0,145155159.0,143826270.0,130637998.0,130115299.0,119309935.0,113340970.0,106990216.0,103402144.0,97225318.0,95113406.0,93933109.0,92578329.0,91153082.0,78360507.0,72819095.0,63390629.0,62671245.0,55077795.0,54596234.0,54477646.0,53907493.0,50197926.0,50122197.0,50043686.0,49789218.0,47075975.0,45633485.0,45372574.0,35985331.0,33171209.0,32669737.0,32442699.0,31224106.0,28931492.0,23277172.0,16128569.0,11533350.0,11484091.0,8534163.0,7049843.0,6821391.0,6136605.0,5823581.0,75251.0],\"type\":\"choropleth\"}],\"name\":\"2007\"},{\"data\":[{\"coloraxis\":\"coloraxis\",\"geo\":\"geo\",\"hovertemplate\":\"Year=2008<br>State=%{location}<br>Total Generated(MWh)=%{z}<extra></extra>\",\"locationmode\":\"USA-states\",\"locations\":[\"TX\",\"PA\",\"FL\",\"CA\",\"IL\",\"OH\",\"AL\",\"NY\",\"GA\",\"IN\",\"NC\",\"AZ\",\"MI\",\"WA\",\"SC\",\"KY\",\"LA\",\"WV\",\"MO\",\"TN\",\"OK\",\"VA\",\"NJ\",\"WI\",\"OR\",\"AR\",\"MN\",\"CO\",\"IA\",\"MS\",\"MD\",\"KS\",\"UT\",\"WY\",\"MA\",\"NM\",\"NV\",\"ND\",\"NE\",\"CT\",\"MT\",\"NH\",\"ME\",\"ID\",\"HI\",\"DE\",\"RI\",\"SD\",\"VT\",\"AK\",\"DC\"],\"name\":\"\",\"z\":[404787783.0,222350925.0,219636819.0,207984261.0,199475177.0,153412252.0,145869896.0,140322101.0,136173396.0,129510293.0,125239064.0,119459173.0,114989807.0,110828452.0,100978006.0,97863340.0,92453142.0,91123098.0,91028797.0,90663313.0,76328907.0,72678531.0,63674789.0,63479554.0,58718437.0,55050527.0,54763359.0,53441594.0,53086785.0,48205711.0,47360953.0,46630321.0,46578764.0,46500449.0,42505479.0,37009838.0,35089975.0,32734580.0,32373522.0,30409472.0,29637137.0,22876990.0,17094918.0,11970553.0,11376385.0,7523839.0,7387265.0,7082673.0,6820216.0,6774834.0,72316.0],\"type\":\"choropleth\"}],\"name\":\"2008\"},{\"data\":[{\"coloraxis\":\"coloraxis\",\"geo\":\"geo\",\"hovertemplate\":\"Year=2009<br>State=%{location}<br>Total Generated(MWh)=%{z}<extra></extra>\",\"locationmode\":\"USA-states\",\"locations\":[\"TX\",\"PA\",\"FL\",\"CA\",\"IL\",\"AL\",\"OH\",\"NY\",\"GA\",\"NC\",\"IN\",\"AZ\",\"WA\",\"MI\",\"SC\",\"LA\",\"KY\",\"MO\",\"TN\",\"OK\",\"WV\",\"VA\",\"NJ\",\"WI\",\"AR\",\"OR\",\"MN\",\"IA\",\"CO\",\"MS\",\"KS\",\"WY\",\"MD\",\"UT\",\"NM\",\"MA\",\"NV\",\"ND\",\"NE\",\"CT\",\"MT\",\"NH\",\"ME\",\"ID\",\"HI\",\"SD\",\"RI\",\"VT\",\"AK\",\"DE\",\"DC\"],\"name\":\"\",\"z\":[397167910.0,219496144.0,217952307.0,204776132.0,193864356.0,143255556.0,136090226.0,133150551.0,128698378.0,118407402.0,116670279.0,111971249.0,104470133.0,101202603.0,100125485.0,90993675.0,90630426.0,88354272.0,79716889.0,75066811.0,70782515.0,70082067.0,61811239.0,59959061.0,57457737.0,56690856.0,52491849.0,51860062.0,50565951.0,48701485.0,46677308.0,46029211.0,43774831.0,43542945.0,39674339.0,38966652.0,37705131.0,34196468.0,34001894.0,31206221.0,26712736.0,20164123.0,16349847.0,13100152.0,11010533.0,8196531.0,7696824.0,7282348.0,6702158.0,4841563.0,35499.0],\"type\":\"choropleth\"}],\"name\":\"2009\"},{\"data\":[{\"coloraxis\":\"coloraxis\",\"geo\":\"geo\",\"hovertemplate\":\"Year=2010<br>State=%{location}<br>Total Generated(MWh)=%{z}<extra></extra>\",\"locationmode\":\"USA-states\",\"locations\":[\"TX\",\"PA\",\"FL\",\"CA\",\"IL\",\"AL\",\"OH\",\"GA\",\"NY\",\"NC\",\"IN\",\"AZ\",\"MI\",\"SC\",\"WA\",\"LA\",\"KY\",\"MO\",\"TN\",\"WV\",\"VA\",\"OK\",\"NJ\",\"WI\",\"AR\",\"IA\",\"OR\",\"MS\",\"MN\",\"CO\",\"WY\",\"KS\",\"MD\",\"MA\",\"UT\",\"NE\",\"NM\",\"NV\",\"ND\",\"CT\",\"MT\",\"NH\",\"ME\",\"ID\",\"HI\",\"SD\",\"RI\",\"AK\",\"VT\",\"DE\",\"DC\"],\"name\":\"\",\"z\":[411695045.0,229752306.0,229095934.0,204125595.0,201351871.0,152150512.0,143598338.0,137576940.0,136961655.0,128678483.0,125180739.0,111750959.0,111551373.0,104153132.0,103472730.0,102884940.0,98217657.0,92312990.0,82348625.0,80788947.0,72966456.0,72250734.0,65682493.0,64314068.0,61000184.0,57508721.0,55126999.0,54487260.0,53670227.0,50720792.0,48119252.0,47923761.0,43607266.0,42804824.0,42249355.0,36630007.0,36251542.0,35146247.0,34739543.0,33349623.0,29791181.0,22195913.0,17018659.0,12024564.0,10836036.0,10049637.0,7738719.0,6759576.0,6619990.0,5627647.0,199858.0],\"type\":\"choropleth\"}],\"name\":\"2010\"},{\"data\":[{\"coloraxis\":\"coloraxis\",\"geo\":\"geo\",\"hovertemplate\":\"Year=2011<br>State=%{location}<br>Total Generated(MWh)=%{z}<extra></extra>\",\"locationmode\":\"USA-states\",\"locations\":[\"TX\",\"PA\",\"FL\",\"CA\",\"IL\",\"AL\",\"NY\",\"OH\",\"GA\",\"IN\",\"NC\",\"WA\",\"MI\",\"AZ\",\"LA\",\"SC\",\"KY\",\"MO\",\"TN\",\"WV\",\"OK\",\"VA\",\"NJ\",\"WI\",\"AR\",\"OR\",\"IA\",\"MN\",\"MS\",\"CO\",\"WY\",\"KS\",\"MD\",\"UT\",\"NM\",\"MA\",\"NE\",\"ND\",\"CT\",\"NV\",\"MT\",\"NH\",\"ID\",\"ME\",\"SD\",\"HI\",\"RI\",\"AK\",\"VT\",\"DE\",\"DC\"],\"name\":\"\",\"z\":[435476923.5799999,227636139.37000003,221894574.08999997,200804842.48,199499728.05,156339209.82000002,137607867.94000003,135585804.48,124774237.14999998,122131413.98,118389854.92,115262600.82,109169506.88000001,108125356.90000002,105490736.95000002,102972567.18,98350982.19,94929440.71,81103862.22,78999623.57,74605713.63,66659105.07,64694095.980000004,63289343.78,61307535.900000006,59695164.129999995,56371912.63999999,53120061.50000001,51570942.65999999,51432554.29,47638470.85000001,45359840.15,41818068.18,40836150.010000005,38181139.31999999,38054820.53,36095051.0,35079900.120000005,33745220.62,31935917.909999996,30128542.590000004,20065941.02,16568785.909999998,15973688.059999999,11998885.499999998,10723332.93,8722272.56,6871032.800000001,6776218.809999999,6590194.809999999,200873.96000000002],\"type\":\"choropleth\"}],\"name\":\"2011\"},{\"data\":[{\"coloraxis\":\"coloraxis\",\"geo\":\"geo\",\"hovertemplate\":\"Year=2012<br>State=%{location}<br>Total Generated(MWh)=%{z}<extra></extra>\",\"locationmode\":\"USA-states\",\"locations\":[\"TX\",\"PA\",\"FL\",\"CA\",\"IL\",\"AL\",\"NY\",\"OH\",\"GA\",\"WA\",\"NC\",\"IN\",\"AZ\",\"MI\",\"LA\",\"SC\",\"MO\",\"KY\",\"OK\",\"TN\",\"WV\",\"VA\",\"NJ\",\"AR\",\"WI\",\"OR\",\"IA\",\"MS\",\"CO\",\"MN\",\"WY\",\"KS\",\"UT\",\"MD\",\"NM\",\"MA\",\"ND\",\"CT\",\"NV\",\"NE\",\"MT\",\"NH\",\"ID\",\"ME\",\"SD\",\"HI\",\"DE\",\"RI\",\"AK\",\"VT\",\"DC\"],\"name\":\"\",\"z\":[429812509.79,223419715.48000005,221096135.98000002,199518566.72000003,197565362.68,152878687.69,135768251.05999997,129745730.62,122306363.85999998,116835473.55999999,116681763.10999997,114695729.27999999,110904993.59,108166077.67000002,103407705.82000001,96755681.88,91804320.62,89949688.7,77896588.13,77724263.78999999,73413404.7,70739234.94,65263407.95,65005677.99,63742909.89,60932714.50000001,56675403.919999994,54584294.989999995,52556701.1,52193624.18000001,49588606.22,44424690.769999996,39402960.77,37809743.559999995,36635909.449999996,36198121.5,36125158.879999995,36117543.96,35173263.22,34217292.57,27804783.63,19264434.919999998,15499089.309999997,14428595.910000002,12034206.000000002,10469268.660000002,8633694.010000002,8309035.850000001,6946419.119999999,6569670.120000001,71786.78],\"type\":\"choropleth\"}],\"name\":\"2012\"},{\"data\":[{\"coloraxis\":\"coloraxis\",\"geo\":\"geo\",\"hovertemplate\":\"Year=2013<br>State=%{location}<br>Total Generated(MWh)=%{z}<extra></extra>\",\"locationmode\":\"USA-states\",\"locations\":[\"TX\",\"PA\",\"FL\",\"IL\",\"CA\",\"AL\",\"OH\",\"NY\",\"NC\",\"GA\",\"WA\",\"AZ\",\"IN\",\"MI\",\"LA\",\"SC\",\"MO\",\"KY\",\"TN\",\"VA\",\"WV\",\"OK\",\"WI\",\"NJ\",\"AR\",\"OR\",\"IA\",\"CO\",\"MS\",\"WY\",\"MN\",\"KS\",\"UT\",\"NE\",\"NV\",\"NM\",\"MD\",\"CT\",\"ND\",\"MA\",\"MT\",\"NH\",\"ID\",\"ME\",\"HI\",\"SD\",\"DE\",\"VT\",\"AK\",\"RI\",\"DC\"],\"name\":\"\",\"z\":[433380165.70000005,226785630.47000003,222398923.99,203004919.48999998,200077114.62,150572923.86,137284188.67999998,136116829.97,125936293.36999999,120953734.31,114172916.24000001,113325986.12,110403477.11000001,105417800.56000002,102010177.0,95249893.97999999,91626592.93,89741021.23,79651619.44999999,76896565.06,75863066.63999999,73673680.28999999,65962791.8,64750941.71999999,60322492.14,59895514.68,56670756.940000005,52937435.92,52810263.9,52483065.4,51296987.61000001,48472581.300000004,42516750.82000001,37104627.76,36443873.599999994,35870965.19,35850812.33,35610789.309999995,35021672.75,32885020.68,27687326.3,19778520.45,15186128.209999999,14030037.61,10267052.279999997,10108886.489999998,7760861.010000001,6884910.010000001,6496821.65,6246806.72,65852.09],\"type\":\"choropleth\"}],\"name\":\"2013\"},{\"data\":[{\"coloraxis\":\"coloraxis\",\"geo\":\"geo\",\"hovertemplate\":\"Year=2014<br>State=%{location}<br>Total Generated(MWh)=%{z}<extra></extra>\",\"locationmode\":\"USA-states\",\"locations\":[\"TX\",\"FL\",\"PA\",\"IL\",\"CA\",\"AL\",\"NY\",\"OH\",\"NC\",\"GA\",\"IN\",\"WA\",\"AZ\",\"MI\",\"LA\",\"SC\",\"KY\",\"MO\",\"WV\",\"TN\",\"VA\",\"OK\",\"NJ\",\"AR\",\"WI\",\"OR\",\"IA\",\"MN\",\"MS\",\"CO\",\"KS\",\"WY\",\"UT\",\"NE\",\"MD\",\"NV\",\"ND\",\"CT\",\"NM\",\"MA\",\"MT\",\"NH\",\"ID\",\"ME\",\"SD\",\"HI\",\"DE\",\"VT\",\"RI\",\"AK\",\"DC\"],\"name\":\"\",\"z\":[437236406.63,231062160.32000002,221709451.96000004,202352425.70000002,197704742.06,149962562.95999998,136275372.89,134602213.26999998,128903904.19,125957133.91,115633622.25,115362583.63,112379276.02000001,105820819.88,103992084.61,97095321.36,90736783.04,88074036.83000001,81162422.29999998,80256937.66,77322962.76,70298614.91,67464757.28,61580991.45999999,60767364.88,59718511.870000005,57122984.56,56825384.81999999,54864346.12,54000898.52,50042935.440000005,49457628.16,43587026.989999995,39610374.79000001,38015158.88,36192638.839999996,36112578.44,33604720.3,32124996.740000002,31123860.68,30242531.300000004,19584207.660000004,15176262.480000002,13154288.360000001,11530226.99,9998065.629999999,7626521.1,6996610.77,6293116.89,6148889.88,64972.45999999999],\"type\":\"choropleth\"}],\"name\":\"2014\"},{\"data\":[{\"coloraxis\":\"coloraxis\",\"geo\":\"geo\",\"hovertemplate\":\"Year=2015<br>State=%{location}<br>Total Generated(MWh)=%{z}<extra></extra>\",\"locationmode\":\"USA-states\",\"locations\":[\"TX\",\"FL\",\"PA\",\"CA\",\"IL\",\"AL\",\"NY\",\"GA\",\"NC\",\"OH\",\"AZ\",\"MI\",\"WA\",\"LA\",\"IN\",\"SC\",\"VA\",\"MO\",\"KY\",\"OK\",\"TN\",\"NJ\",\"WV\",\"WI\",\"MS\",\"OR\",\"MN\",\"IA\",\"AR\",\"CO\",\"WY\",\"KS\",\"UT\",\"NE\",\"NV\",\"CT\",\"ND\",\"MD\",\"NM\",\"MA\",\"MT\",\"NH\",\"ID\",\"ME\",\"HI\",\"SD\",\"DE\",\"RI\",\"AK\",\"VT\",\"DC\"],\"name\":\"\",\"z\":[449826336.0,237412634.0,214572291.0,196703858.0,193952038.0,152477426.0,138627722.0,128817897.0,128388445.0,121893402.0,113142048.0,113008049.0,109287458.0,107812353.0,104019276.0,96532213.0,84411594.0,83640067.0,83543671.0,76135598.0,75214635.0,74608859.0,72295268.0,66360184.0,64757864.0,57866535.0,56979768.0,56658919.0,55559428.0,52393077.0,48966520.0,45527126.0,41949120.0,39883390.0,39046783.0,37470623.0,37156615.0,36365544.0,32701400.0,32085971.0,29302402.0,20015894.0,15667096.0,11741265.0,10119501.0,9633033.0,7810006.0,6939020.0,6284939.0,1982048.0,53751.0],\"type\":\"choropleth\"}],\"name\":\"2015\"},{\"data\":[{\"coloraxis\":\"coloraxis\",\"geo\":\"geo\",\"hovertemplate\":\"Year=2016<br>State=%{location}<br>Total Generated(MWh)=%{z}<extra></extra>\",\"locationmode\":\"USA-states\",\"locations\":[\"TX\",\"FL\",\"PA\",\"CA\",\"IL\",\"AL\",\"NY\",\"GA\",\"NC\",\"OH\",\"WA\",\"MI\",\"AZ\",\"LA\",\"IN\",\"SC\",\"VA\",\"KY\",\"TN\",\"OK\",\"MO\",\"NJ\",\"WV\",\"WI\",\"MS\",\"AR\",\"OR\",\"MN\",\"CO\",\"IA\",\"KS\",\"WY\",\"NV\",\"UT\",\"ND\",\"MD\",\"NE\",\"CT\",\"NM\",\"MA\",\"MT\",\"NH\",\"ID\",\"SD\",\"ME\",\"HI\",\"DE\",\"RI\",\"AK\",\"VT\",\"DC\"],\"name\":\"\",\"z\":[454047591.0,238262150.0,215066511.0,196963217.0,187289131.0,142385099.0,134417107.0,133380415.0,130779159.0,118922078.0,114086582.0,112121790.0,108763451.0,107268802.0,101759058.0,96985762.0,92554876.0,80273500.0,79340634.0,78655007.0,78611511.0,77611402.0,75942967.0,64966611.0,62881295.0,60445059.0,60182014.0,59478752.0,54418479.0,54392506.0,47599989.0,46656630.0,39787004.0,38133928.0,37856451.0,37166689.0,36524868.0,36496560.0,32912046.0,31955023.0,27783530.0,19282492.0,15660939.0,11524182.0,11514428.0,9948845.0,8731260.0,6564886.0,6335035.0,1911207.0,76476.0],\"type\":\"choropleth\"}],\"name\":\"2016\"},{\"data\":[{\"coloraxis\":\"coloraxis\",\"geo\":\"geo\",\"hovertemplate\":\"Year=2017<br>State=%{location}<br>Total Generated(MWh)=%{z}<extra></extra>\",\"locationmode\":\"USA-states\",\"locations\":[\"TX\",\"FL\",\"PA\",\"CA\",\"IL\",\"AL\",\"NC\",\"NY\",\"GA\",\"OH\",\"WA\",\"MI\",\"AZ\",\"IN\",\"LA\",\"SC\",\"VA\",\"MO\",\"TN\",\"NJ\",\"OK\",\"WV\",\"KY\",\"WI\",\"OR\",\"AR\",\"MS\",\"MN\",\"IA\",\"CO\",\"KS\",\"WY\",\"ND\",\"NV\",\"UT\",\"NE\",\"CT\",\"MD\",\"NM\",\"MA\",\"MT\",\"NH\",\"ID\",\"ME\",\"SD\",\"HI\",\"RI\",\"DE\",\"AK\",\"VT\",\"DC\"],\"name\":\"\",\"z\":[452794367.0,238413437.0,213639298.0,206146521.0,183591570.0,139964250.0,128468118.0,128065081.0,127455313.0,119554366.0,115912077.0,112313503.0,105851765.0,98929819.0,97719213.0,93080939.0,90417148.0,84606730.0,79046220.0,75644512.0,73731654.0,73357079.0,73179195.0,65107332.0,62713747.0,60775216.0,59727638.0,58748832.0,57909567.0,53844000.0,50933297.0,46741847.0,41505075.0,38201294.0,37411877.0,35406983.0,34562655.0,34104082.0,33597414.0,32204114.0,28220947.0,17446840.0,17396023.0,11264280.0,10935718.0,9812967.0,7614943.0,7495976.0,6497466.0,2141388.0,66871.0],\"type\":\"choropleth\"}],\"name\":\"2017\"},{\"data\":[{\"coloraxis\":\"coloraxis\",\"geo\":\"geo\",\"hovertemplate\":\"Year=2018<br>State=%{location}<br>Total Generated(MWh)=%{z}<extra></extra>\",\"locationmode\":\"USA-states\",\"locations\":[\"TX\",\"FL\",\"PA\",\"CA\",\"IL\",\"AL\",\"NC\",\"NY\",\"GA\",\"OH\",\"WA\",\"MI\",\"IN\",\"AZ\",\"LA\",\"SC\",\"VA\",\"OK\",\"MO\",\"TN\",\"KY\",\"NJ\",\"AR\",\"WV\",\"WI\",\"OR\",\"MS\",\"IA\",\"MN\",\"CO\",\"KS\",\"WY\",\"MD\",\"ND\",\"NV\",\"CT\",\"UT\",\"NE\",\"NM\",\"MT\",\"MA\",\"ID\",\"NH\",\"SD\",\"ME\",\"HI\",\"RI\",\"AK\",\"DE\",\"VT\",\"DC\"],\"name\":\"\",\"z\":[477352423.0,244252037.0,215385830.0,195465640.0,188003356.0,145057993.0,134249495.0,132520502.0,129239370.0,126184610.0,116756728.0,115837094.0,113459711.0,111925143.0,102128485.0,99364089.0,95509122.0,86223720.0,85095382.0,81554916.0,78804498.0,75033600.0,67999351.0,67249025.0,65936804.0,64113561.0,63473772.0,63380570.0,61517441.0,55386279.0,51710214.0,46112136.0,43809648.0,42615322.0,39640242.0,39453552.0,39375425.0,36966218.0,32673682.0,28212831.0,27172882.0,18172120.0,17087155.0,12616396.0,11280700.0,9796773.0,8375258.0,6247360.0,6240643.0,2178916.0,79331.0],\"type\":\"choropleth\"}],\"name\":\"2018\"},{\"data\":[{\"coloraxis\":\"coloraxis\",\"geo\":\"geo\",\"hovertemplate\":\"Year=2019<br>State=%{location}<br>Total Generated(MWh)=%{z}<extra></extra>\",\"locationmode\":\"USA-states\",\"locations\":[\"TX\",\"FL\",\"PA\",\"CA\",\"IL\",\"AL\",\"NY\",\"NC\",\"GA\",\"OH\",\"MI\",\"AZ\",\"WA\",\"IN\",\"LA\",\"SC\",\"VA\",\"OK\",\"TN\",\"MO\",\"KY\",\"NJ\",\"MS\",\"AR\",\"WV\",\"WI\",\"OR\",\"IA\",\"MN\",\"CO\",\"KS\",\"WY\",\"ND\",\"CT\",\"NV\",\"MD\",\"UT\",\"NE\",\"NM\",\"MT\",\"MA\",\"ID\",\"NH\",\"SD\",\"ME\",\"HI\",\"RI\",\"AK\",\"DE\",\"VT\",\"DC\"],\"name\":\"\",\"z\":[483201030.0,245603484.0,228995332.0,201784204.0,184470051.0,142679431.0,131603290.0,131173860.0,128691568.0,120001127.0,116701345.0,113551988.0,106463609.0,102505380.0,100174761.0,100107503.0,96827639.0,85216500.0,82327110.0,78278751.0,71804255.0,71018775.0,65958760.0,64442899.0,63925639.0,62774299.0,62258379.0,61673543.0,59379389.0,56337735.0,50887990.0,42145657.0,41147320.0,40050038.0,39889661.0,39328689.0,39117034.0,37297614.0,35174510.0,27797079.0,21515636.0,18407813.0,18026597.0,14506647.0,10490564.0,9749998.0,7624402.0,6070842.0,5258537.0,2289798.0,174078.0],\"type\":\"choropleth\"}],\"name\":\"2019\"},{\"data\":[{\"coloraxis\":\"coloraxis\",\"geo\":\"geo\",\"hovertemplate\":\"Year=2020<br>State=%{location}<br>Total Generated(MWh)=%{z}<extra></extra>\",\"locationmode\":\"USA-states\",\"locations\":[\"TX\",\"FL\",\"PA\",\"CA\",\"IL\",\"AL\",\"NY\",\"NC\",\"OH\",\"GA\",\"WA\",\"AZ\",\"MI\",\"VA\",\"LA\",\"SC\",\"IN\",\"OK\",\"TN\",\"MO\",\"MS\",\"OR\",\"KY\",\"WI\",\"NJ\",\"IA\",\"WV\",\"MN\",\"AR\",\"KS\",\"CO\",\"ND\",\"WY\",\"CT\",\"NV\",\"UT\",\"NE\",\"MD\",\"NM\",\"MT\",\"MA\",\"ID\",\"NH\",\"SD\",\"ME\",\"HI\",\"RI\",\"AK\",\"DE\",\"VT\",\"DC\"],\"name\":\"\",\"z\":[473514913.0,250827800.0,230143281.0,193074930.0,173394524.0,137542700.0,129430272.0,124363443.0,120992732.0,120126002.0,116114470.0,109305057.0,106624719.0,103056183.0,100773772.0,98528796.0,89956916.0,82297832.0,80566009.0,72567870.0,66581789.0,63624781.0,63539006.0,61448545.0,61106460.0,59636672.0,56661533.0,56510143.0,54641261.0,54541831.0,54115011.0,42176423.0,42010988.0,41190571.0,40424745.0,37087310.0,36848680.0,36029204.0,34075585.0,23353291.0,18214141.0,17686135.0,16350578.0,14146539.0,10001869.0,9079020.0,8894940.0,6276441.0,5205373.0,2156407.0,201105.0],\"type\":\"choropleth\"}],\"name\":\"2020\"},{\"data\":[{\"coloraxis\":\"coloraxis\",\"geo\":\"geo\",\"hovertemplate\":\"Year=2021<br>State=%{location}<br>Total Generated(MWh)=%{z}<extra></extra>\",\"locationmode\":\"USA-states\",\"locations\":[\"TX\",\"FL\",\"PA\",\"CA\",\"IL\",\"AL\",\"NC\",\"GA\",\"NY\",\"OH\",\"MI\",\"WA\",\"AZ\",\"SC\",\"LA\",\"IN\",\"VA\",\"TN\",\"OK\",\"MO\",\"KY\",\"MS\",\"IA\",\"WV\",\"WI\",\"NJ\",\"OR\",\"AR\",\"MN\",\"KS\",\"CO\",\"CT\",\"WY\",\"ND\",\"UT\",\"NV\",\"MD\",\"NE\",\"NM\",\"MT\",\"MA\",\"SD\",\"NH\",\"ID\",\"ME\",\"HI\",\"RI\",\"AK\",\"DE\",\"VT\",\"DC\"],\"name\":\"\",\"z\":[483561772.0,244401034.0,241648360.0,196727105.0,181859368.0,142955138.0,131262683.0,126530744.0,125226023.0,123335607.0,116045383.0,109122717.0,108608533.0,99924403.0,98061963.0,94565164.0,94309018.0,81478885.0,80564126.0,77815979.0,70554263.0,68713326.0,66120267.0,65630557.0,65478673.0,61386525.0,61081837.0,60230136.0,59628021.0,56745953.0,56737718.0,44123571.0,43650670.0,42705233.0,42656778.0,41880183.0,39719295.0,38644645.0,35271295.0,24466639.0,19366997.0,17834631.0,17434992.0,16948588.0,10952775.0,9188093.0,8035014.0,5943528.0,4039971.0,2147736.0,218238.0],\"type\":\"choropleth\"}],\"name\":\"2021\"}]);\n",
       "                        }).then(function(){\n",
       "                            \n",
       "var gd = document.getElementById('990c25fa-e280-4a87-8e3b-9e4114410bd8');\n",
       "var x = new MutationObserver(function (mutations, observer) {{\n",
       "        var display = window.getComputedStyle(gd).display;\n",
       "        if (!display || display === 'none') {{\n",
       "            console.log([gd, 'removed!']);\n",
       "            Plotly.purge(gd);\n",
       "            observer.disconnect();\n",
       "        }}\n",
       "}});\n",
       "\n",
       "// Listen for the removal of the full notebook cells\n",
       "var notebookContainer = gd.closest('#notebook-container');\n",
       "if (notebookContainer) {{\n",
       "    x.observe(notebookContainer, {childList: true});\n",
       "}}\n",
       "\n",
       "// Listen for the clearing of the current output cell\n",
       "var outputEl = gd.closest('.output');\n",
       "if (outputEl) {{\n",
       "    x.observe(outputEl, {childList: true});\n",
       "}}\n",
       "\n",
       "                        })                };                });            </script>        </div>"
      ]
     },
     "metadata": {},
     "output_type": "display_data"
    }
   ],
   "source": [
    "from query_total_states_energy import query_data\n",
    "import plotly.express as px\n",
    "\n",
    "df = query_data()\n",
    "\n",
    "#the code below is for animating month to month\n",
    "#df['Time'] = df[['Year', 'Month']].apply(lambda row: '-'.join(row.values.astype(str)), axis=1)\n",
    "\n",
    "\n",
    "fig = px.choropleth(df, \n",
    "          locations = 'State',\n",
    "          color = 'Total Generated(MWh)', \n",
    "          animation_frame = \"Year\", #chooses years as the animation tick mark\n",
    "          color_continuous_scale = 'jet_r', #color of the scale\n",
    "          locationmode = 'USA-states',\n",
    "          scope = \"usa\",\n",
    "          range_color = (35499.0, 483561773.0),\n",
    "          title = 'Energy Generated by State Over Time',\n",
    "          height=600\n",
    "         )\n",
    "fig.show()\n",
    "#    return fig"
   ]
  },
  {
   "cell_type": "code",
   "execution_count": 10,
   "id": "f0a8987c",
   "metadata": {},
   "outputs": [
    {
     "name": "stdout",
     "output_type": "stream",
     "text": [
      "Overwriting test_total_states_energy.py\n"
     ]
    }
   ],
   "source": [
    "%%file test_total_states_energy.py\n",
    "\n",
    "from total_states_energy import import_data\n",
    "from tran_total_states_energy import transform_data\n",
    "from query_total_states_energy import query_data\n",
    "\n",
    "def test_data_columns_count():\n",
    "    df = import_data()\n",
    "    assert len(df.columns) == 7\n",
    "\n",
    "def test_data_row_count():\n",
    "    df = import_data()\n",
    "    assert len(df.index) == 496774\n",
    "    \n",
    "def test_transform_data_columns_count():\n",
    "    df = transform_data()\n",
    "    assert len(df.columns) == 4\n",
    "\n",
    "def test_transform_data_row_count():\n",
    "    df = transform_data()\n",
    "    assert len(df.index) == 13107\n",
    "    \n",
    "def test_query_data_column_count():\n",
    "    df = query_data()\n",
    "    assert len(df.columns) != 4\n",
    "\n",
    "def test_query_data_row_count():\n",
    "    df = query_data()\n",
    "    assert len(df.index) != 13107"
   ]
  },
  {
   "cell_type": "code",
   "execution_count": 11,
   "id": "e2694e78",
   "metadata": {},
   "outputs": [
    {
     "name": "stdout",
     "output_type": "stream",
     "text": [
      "\u001b[1m============================= test session starts ==============================\u001b[0m\n",
      "platform darwin -- Python 3.9.7, pytest-6.2.4, py-1.10.0, pluggy-0.13.1\n",
      "rootdir: /Users/slimykid/Group4_NFLX_MIDTERM/Adeh\n",
      "plugins: anyio-2.2.0\n",
      "collected 6 items                                                              \u001b[0m\u001b[1m\n",
      "\n",
      "test_total_states_energy.py \u001b[32m.\u001b[0m\u001b[32m.\u001b[0m\u001b[32m.\u001b[0m\u001b[32m.\u001b[0m\u001b[32m.\u001b[0m\u001b[32m.\u001b[0m\u001b[32m                                       [100%]\u001b[0m\n",
      "\n",
      "\u001b[32m============================== \u001b[32m\u001b[1m6 passed\u001b[0m\u001b[32m in 3.96s\u001b[0m\u001b[32m ===============================\u001b[0m\n"
     ]
    }
   ],
   "source": [
    "# Run the test_import_data.py file with pytest. \n",
    "!python -m pytest test_total_states_energy.py"
   ]
  },
  {
   "cell_type": "code",
   "execution_count": null,
   "id": "6f50fcdd",
   "metadata": {},
   "outputs": [],
   "source": []
  }
 ],
 "metadata": {
  "colab": {
   "include_colab_link": true,
   "provenance": []
  },
  "kernelspec": {
   "display_name": "Python 3 (ipykernel)",
   "language": "python",
   "name": "python3"
  },
  "language_info": {
   "codemirror_mode": {
    "name": "ipython",
    "version": 3
   },
   "file_extension": ".py",
   "mimetype": "text/x-python",
   "name": "python",
   "nbconvert_exporter": "python",
   "pygments_lexer": "ipython3",
   "version": "3.9.7"
  }
 },
 "nbformat": 4,
 "nbformat_minor": 5
}
