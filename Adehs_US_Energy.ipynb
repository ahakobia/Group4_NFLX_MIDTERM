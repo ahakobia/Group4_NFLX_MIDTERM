{
 "cells": [
  {
   "cell_type": "markdown",
   "id": "8cae563f",
   "metadata": {
    "colab_type": "text",
    "id": "view-in-github"
   },
   "source": [
    "<a href=\"https://colab.research.google.com/github/ahakobia/Group4_NFLX_MIDTERM/blob/main/Adehs_US_Energy.ipynb\" target=\"_parent\"><img src=\"https://colab.research.google.com/assets/colab-badge.svg\" alt=\"Open In Colab\"/></a>"
   ]
  },
  {
   "cell_type": "code",
   "execution_count": 2,
   "id": "8a1265cb",
   "metadata": {},
   "outputs": [],
   "source": [
    "import os\n",
    "import sys\n",
    "# import the connect library for psycopg2\n",
    "import psycopg2\n",
    "# import the error handling libraries for psycopg2\n",
    "from psycopg2 import OperationalError, errorcodes, errors\n",
    "import psycopg2.extras as extras\n",
    "import pandas as pd\n",
    "from io import StringIO\n",
    "import numpy as np\n",
    "\n",
    "import matplotlib.pyplot as plt"
   ]
  },
  {
   "cell_type": "code",
   "execution_count": 3,
   "id": "a15a030b",
   "metadata": {},
   "outputs": [],
   "source": [
    "params_dic = {\n",
    "    \"host\"      : \"localhost\",\n",
    "    \"user\"      : \"postgres\",\n",
    "    \"password\"  : \"postgres\",\n",
    "    \"port\"      : \"5432\"\n",
    "}"
   ]
  },
  {
   "cell_type": "code",
   "execution_count": 4,
   "id": "b10c4fa8",
   "metadata": {},
   "outputs": [
    {
     "name": "stdout",
     "output_type": "stream",
     "text": [
      "Connecting to the PostgreSQL database...\n",
      "Connection successful\n"
     ]
    }
   ],
   "source": [
    "def connect(params_dic):\n",
    "    \"\"\" Connect to the PostgreSQL database server \"\"\"\n",
    "    conn = None\n",
    "    try:\n",
    "        # connect to the PostgreSQL server\n",
    "        print('Connecting to the PostgreSQL database...')\n",
    "        conn = psycopg2.connect(**params_dic)\n",
    "    except (Exception, psycopg2.DatabaseError) as error:\n",
    "        print(error)\n",
    "        sys.exit(1) \n",
    "    print(\"Connection successful\")\n",
    "    return conn\n",
    "conn = connect(params_dic)"
   ]
  },
  {
   "cell_type": "code",
   "execution_count": 5,
   "id": "b271e2b5",
   "metadata": {
    "colab": {
     "base_uri": "https://localhost:8080/",
     "height": 350
    },
    "id": "b271e2b5",
    "outputId": "866eb74a-98f9-4e01-be3e-b20e8fc1b279"
   },
   "outputs": [
    {
     "data": {
      "text/html": [
       "<div>\n",
       "<style scoped>\n",
       "    .dataframe tbody tr th:only-of-type {\n",
       "        vertical-align: middle;\n",
       "    }\n",
       "\n",
       "    .dataframe tbody tr th {\n",
       "        vertical-align: top;\n",
       "    }\n",
       "\n",
       "    .dataframe thead th {\n",
       "        text-align: right;\n",
       "    }\n",
       "</style>\n",
       "<table border=\"1\" class=\"dataframe\">\n",
       "  <thead>\n",
       "    <tr style=\"text-align: right;\">\n",
       "      <th></th>\n",
       "      <th>year</th>\n",
       "      <th>month</th>\n",
       "      <th>state</th>\n",
       "      <th>producer</th>\n",
       "      <th>source</th>\n",
       "      <th>generated</th>\n",
       "    </tr>\n",
       "  </thead>\n",
       "  <tbody>\n",
       "    <tr>\n",
       "      <th>0</th>\n",
       "      <td>2001</td>\n",
       "      <td>1</td>\n",
       "      <td>AK</td>\n",
       "      <td>Total Electric Power Industry</td>\n",
       "      <td>Coal</td>\n",
       "      <td>46903.0</td>\n",
       "    </tr>\n",
       "    <tr>\n",
       "      <th>1</th>\n",
       "      <td>2001</td>\n",
       "      <td>1</td>\n",
       "      <td>AK</td>\n",
       "      <td>Total Electric Power Industry</td>\n",
       "      <td>Petroleum</td>\n",
       "      <td>71085.0</td>\n",
       "    </tr>\n",
       "    <tr>\n",
       "      <th>2</th>\n",
       "      <td>2001</td>\n",
       "      <td>1</td>\n",
       "      <td>AK</td>\n",
       "      <td>Total Electric Power Industry</td>\n",
       "      <td>Natural Gas</td>\n",
       "      <td>367521.0</td>\n",
       "    </tr>\n",
       "    <tr>\n",
       "      <th>3</th>\n",
       "      <td>2001</td>\n",
       "      <td>1</td>\n",
       "      <td>AK</td>\n",
       "      <td>Total Electric Power Industry</td>\n",
       "      <td>Hydroelectric Conventional</td>\n",
       "      <td>104549.0</td>\n",
       "    </tr>\n",
       "    <tr>\n",
       "      <th>4</th>\n",
       "      <td>2001</td>\n",
       "      <td>1</td>\n",
       "      <td>AK</td>\n",
       "      <td>Total Electric Power Industry</td>\n",
       "      <td>Wind</td>\n",
       "      <td>87.0</td>\n",
       "    </tr>\n",
       "    <tr>\n",
       "      <th>5</th>\n",
       "      <td>2001</td>\n",
       "      <td>1</td>\n",
       "      <td>AK</td>\n",
       "      <td>Total Electric Power Industry</td>\n",
       "      <td>Total</td>\n",
       "      <td>590145.0</td>\n",
       "    </tr>\n",
       "    <tr>\n",
       "      <th>6</th>\n",
       "      <td>2001</td>\n",
       "      <td>1</td>\n",
       "      <td>AK</td>\n",
       "      <td>Electric Generators/ Electric Utilities</td>\n",
       "      <td>Coal</td>\n",
       "      <td>18410.0</td>\n",
       "    </tr>\n",
       "    <tr>\n",
       "      <th>7</th>\n",
       "      <td>2001</td>\n",
       "      <td>1</td>\n",
       "      <td>AK</td>\n",
       "      <td>Electric Generators/ Electric Utilities</td>\n",
       "      <td>Petroleum</td>\n",
       "      <td>64883.0</td>\n",
       "    </tr>\n",
       "    <tr>\n",
       "      <th>8</th>\n",
       "      <td>2001</td>\n",
       "      <td>1</td>\n",
       "      <td>AK</td>\n",
       "      <td>Electric Generators/ Electric Utilities</td>\n",
       "      <td>Natural Gas</td>\n",
       "      <td>305277.0</td>\n",
       "    </tr>\n",
       "    <tr>\n",
       "      <th>9</th>\n",
       "      <td>2001</td>\n",
       "      <td>1</td>\n",
       "      <td>AK</td>\n",
       "      <td>Electric Generators/ Electric Utilities</td>\n",
       "      <td>Hydroelectric Conventional</td>\n",
       "      <td>104549.0</td>\n",
       "    </tr>\n",
       "  </tbody>\n",
       "</table>\n",
       "</div>"
      ],
      "text/plain": [
       "   year  month state                                 producer  \\\n",
       "0  2001      1    AK            Total Electric Power Industry   \n",
       "1  2001      1    AK            Total Electric Power Industry   \n",
       "2  2001      1    AK            Total Electric Power Industry   \n",
       "3  2001      1    AK            Total Electric Power Industry   \n",
       "4  2001      1    AK            Total Electric Power Industry   \n",
       "5  2001      1    AK            Total Electric Power Industry   \n",
       "6  2001      1    AK  Electric Generators/ Electric Utilities   \n",
       "7  2001      1    AK  Electric Generators/ Electric Utilities   \n",
       "8  2001      1    AK  Electric Generators/ Electric Utilities   \n",
       "9  2001      1    AK  Electric Generators/ Electric Utilities   \n",
       "\n",
       "                       source  generated  \n",
       "0                        Coal    46903.0  \n",
       "1                   Petroleum    71085.0  \n",
       "2                 Natural Gas   367521.0  \n",
       "3  Hydroelectric Conventional   104549.0  \n",
       "4                        Wind       87.0  \n",
       "5                       Total   590145.0  \n",
       "6                        Coal    18410.0  \n",
       "7                   Petroleum    64883.0  \n",
       "8                 Natural Gas   305277.0  \n",
       "9  Hydroelectric Conventional   104549.0  "
      ]
     },
     "execution_count": 5,
     "metadata": {},
     "output_type": "execute_result"
    }
   ],
   "source": [
    "csv_file = \"Resources/organised_Gen.csv\"\n",
    "energy_data = pd.read_csv(csv_file)\n",
    "energy_data = energy_data.drop(columns=['Unnamed: 0'])\n",
    "\n",
    "energy_df = energy_data.rename(columns={\n",
    "    \"YEAR\": \"year\", \n",
    "    \"MONTH\": \"month\",\n",
    "    \"STATE\": \"state\",\n",
    "    \"TYPE OF PRODUCER\": \"producer\",\n",
    "    \"ENERGY SOURCE\": \"source\",\n",
    "    \"GENERATION (Megawatthours)\": \"generated\"})\n",
    "\n",
    "\n",
    "energy_df['producer'] = energy_df['producer'].apply(lambda x: x.replace(',','/'))\n",
    "    \n",
    "energy_df.head(10)"
   ]
  },
  {
   "cell_type": "code",
   "execution_count": 6,
   "id": "57d435da",
   "metadata": {},
   "outputs": [
    {
     "name": "stdout",
     "output_type": "stream",
     "text": [
      "Requirement already satisfied: psycopg2-binary in /Users/slimykid/opt/anaconda3/lib/python3.9/site-packages (2.9.3)\r\n"
     ]
    }
   ],
   "source": [
    "!pip install psycopg2-binary"
   ]
  },
  {
   "cell_type": "code",
   "execution_count": 7,
   "id": "3a55a3ac",
   "metadata": {},
   "outputs": [],
   "source": [
    "# Define a function that handles and parses psycopg2 exceptions\n",
    "def show_psycopg2_exception(err):\n",
    "    # get details about the exception\n",
    "    err_type, err_obj, traceback = sys.exc_info()    \n",
    "    # get the line number when exception occured\n",
    "    line_n = traceback.tb_lineno    \n",
    "    # print the connect() error\n",
    "    print (\"\\npsycopg2 ERROR:\", err, \"on line number:\", line_n)\n",
    "    print (\"psycopg2 traceback:\", traceback, \"-- type:\", err_type) \n",
    "    # psycopg2 extensions.Diagnostics object attribute\n",
    "    print (\"\\nextensions.Diagnostics:\", err.diag)    \n",
    "    # print the pgcode and pgerror exceptions\n",
    "    print (\"pgerror:\", err.pgerror)\n",
    "    print (\"pgcode:\", err.pgcode, \"\\n\")"
   ]
  },
  {
   "cell_type": "code",
   "execution_count": 8,
   "id": "8c0ef77b",
   "metadata": {},
   "outputs": [],
   "source": [
    "def create_table(cursor):\n",
    "    try:\n",
    "        # Dropping table iris if exists\n",
    "        cursor.execute(\"DROP TABLE IF EXISTS energy;\")\n",
    "        sql = '''CREATE TABLE energy(\n",
    "        year INT NOT NULL, \n",
    "        month INT NOT NULL, \n",
    "        state VARCHAR NOT NULL, \n",
    "        producer TEXT NOT NULL,\n",
    "        source VARCHAR NOT NULL,\n",
    "        generated FLOAT NOT NULL\n",
    "        )'''\n",
    "        # Creating a table\n",
    "        cursor.execute(sql);\n",
    "        print(\"energy table is created successfully...............\")  \n",
    "    except OperationalError as err:\n",
    "        # pass exception to function\n",
    "        show_psycopg2_exception(err)\n",
    "        # set the connection to 'None' in case of error\n",
    "        conn = None"
   ]
  },
  {
   "cell_type": "code",
   "execution_count": 9,
   "id": "800cabe8",
   "metadata": {},
   "outputs": [],
   "source": [
    "# Define function using copy_from() with StringIO to insert the dataframe\n",
    "def copy_from_dataFile_StringIO(conn, datafrm, table):\n",
    "    \n",
    "  # save dataframe to an in memory buffer\n",
    "    buffer = StringIO()\n",
    "    datafrm.to_csv(buffer, header=False, index = False)\n",
    "    buffer.seek(0)\n",
    "    \n",
    "    cursor = conn.cursor()\n",
    "    try:\n",
    "        cursor.copy_from(buffer, table, sep=\",\")\n",
    "        print(\"Data inserted using copy_from_datafile_StringIO() successfully....\")\n",
    "    except (Exception, psycopg2.DatabaseError) as err:\n",
    "        # pass exception to function\n",
    "        show_psycopg2_exception(err)\n",
    "        cursor.close()"
   ]
  },
  {
   "cell_type": "code",
   "execution_count": 10,
   "id": "6557af43",
   "metadata": {},
   "outputs": [
    {
     "name": "stdout",
     "output_type": "stream",
     "text": [
      "Connecting to the PostgreSQL database...\n",
      "Connection successful\n",
      "energy table is created successfully...............\n"
     ]
    }
   ],
   "source": [
    "conn = connect(params_dic)\n",
    "# We set autocommit=True so every command we execute will produce results immediately.\n",
    "conn.autocommit = True\n",
    "cursor = conn.cursor()\n",
    "create_table(cursor)"
   ]
  },
  {
   "cell_type": "code",
   "execution_count": 11,
   "id": "ba3b7c91",
   "metadata": {},
   "outputs": [
    {
     "name": "stdout",
     "output_type": "stream",
     "text": [
      "Data inserted using copy_from_datafile_StringIO() successfully....\n"
     ]
    }
   ],
   "source": [
    "copy_from_dataFile_StringIO(conn, energy_df, 'energy')"
   ]
  },
  {
   "cell_type": "code",
   "execution_count": 74,
   "id": "227b33af",
   "metadata": {},
   "outputs": [
    {
     "name": "stdout",
     "output_type": "stream",
     "text": [
      "[(336671618.26007783,)]\n"
     ]
    }
   ],
   "source": [
    "conn.autocommit = True\n",
    "cursor = conn.cursor()\n",
    "  \n",
    "sql = '''SELECT AVG(generated) \n",
    "            FROM energy \n",
    "            WHERE producer = 'Total Electric Power Industry' \n",
    "                AND source = 'Total' \n",
    "                AND state = 'US-TOTAL'\n",
    "                ;'''  \n",
    "cursor.execute(sql)\n",
    "results = cursor.fetchall()\n",
    "print(results)\n",
    "  \n",
    "conn.commit()\n",
    "#conn.close()"
   ]
  },
  {
   "cell_type": "code",
   "execution_count": 22,
   "id": "ee86b5a7",
   "metadata": {},
   "outputs": [
    {
     "ename": "AttributeError",
     "evalue": "'list' object has no attribute 'show'",
     "output_type": "error",
     "traceback": [
      "\u001b[0;31m---------------------------------------------------------------------------\u001b[0m",
      "\u001b[0;31mAttributeError\u001b[0m                            Traceback (most recent call last)",
      "\u001b[0;32m/var/folders/_l/n59lfx993pz8wm0c3316b3vm0000gn/T/ipykernel_43453/1502981701.py\u001b[0m in \u001b[0;36m<module>\u001b[0;34m\u001b[0m\n\u001b[1;32m      9\u001b[0m \u001b[0mcursor\u001b[0m\u001b[0;34m.\u001b[0m\u001b[0mexecute\u001b[0m\u001b[0;34m(\u001b[0m\u001b[0msql\u001b[0m\u001b[0;34m)\u001b[0m\u001b[0;34m\u001b[0m\u001b[0;34m\u001b[0m\u001b[0m\n\u001b[1;32m     10\u001b[0m \u001b[0mresults2\u001b[0m \u001b[0;34m=\u001b[0m \u001b[0mcursor\u001b[0m\u001b[0;34m.\u001b[0m\u001b[0mfetchall\u001b[0m\u001b[0;34m(\u001b[0m\u001b[0;34m)\u001b[0m\u001b[0;34m\u001b[0m\u001b[0;34m\u001b[0m\u001b[0m\n\u001b[0;32m---> 11\u001b[0;31m \u001b[0mresults2\u001b[0m\u001b[0;34m.\u001b[0m\u001b[0mshow\u001b[0m\u001b[0;34m(\u001b[0m\u001b[0;34m)\u001b[0m\u001b[0;34m\u001b[0m\u001b[0;34m\u001b[0m\u001b[0m\n\u001b[0m",
      "\u001b[0;31mAttributeError\u001b[0m: 'list' object has no attribute 'show'"
     ]
    }
   ],
   "source": [
    "sql = '''SELECT YEAR, (SUM(generated))\n",
    "            FROM energy \n",
    "            WHERE producer = 'Total Electric Power Industry' \n",
    "                AND source = 'Total' \n",
    "                AND state = 'US-TOTAL'\n",
    "                AND YEAR != 2022\n",
    "            Group By YEAR\n",
    "                ;'''  \n",
    "cursor.execute(sql)\n",
    "results2 = cursor.fetchall()\n",
    "print(results2)"
   ]
  },
  {
   "cell_type": "code",
   "execution_count": 66,
   "id": "2d364a8b",
   "metadata": {},
   "outputs": [
    {
     "data": {
      "text/html": [
       "<div>\n",
       "<style scoped>\n",
       "    .dataframe tbody tr th:only-of-type {\n",
       "        vertical-align: middle;\n",
       "    }\n",
       "\n",
       "    .dataframe tbody tr th {\n",
       "        vertical-align: top;\n",
       "    }\n",
       "\n",
       "    .dataframe thead th {\n",
       "        text-align: right;\n",
       "    }\n",
       "</style>\n",
       "<table border=\"1\" class=\"dataframe\">\n",
       "  <thead>\n",
       "    <tr style=\"text-align: right;\">\n",
       "      <th></th>\n",
       "      <th>YEAR</th>\n",
       "      <th>MONTH</th>\n",
       "      <th>STATE</th>\n",
       "      <th>TYPE OF PRODUCER</th>\n",
       "      <th>ENERGY SOURCE</th>\n",
       "      <th>GENERATION (Megawatthours)</th>\n",
       "    </tr>\n",
       "  </thead>\n",
       "  <tbody>\n",
       "    <tr>\n",
       "      <th>0</th>\n",
       "      <td>2001</td>\n",
       "      <td>1</td>\n",
       "      <td>AK</td>\n",
       "      <td>Total Electric Power Industry</td>\n",
       "      <td>Coal</td>\n",
       "      <td>46903.0</td>\n",
       "    </tr>\n",
       "    <tr>\n",
       "      <th>1</th>\n",
       "      <td>2001</td>\n",
       "      <td>1</td>\n",
       "      <td>AK</td>\n",
       "      <td>Total Electric Power Industry</td>\n",
       "      <td>Petroleum</td>\n",
       "      <td>71085.0</td>\n",
       "    </tr>\n",
       "    <tr>\n",
       "      <th>2</th>\n",
       "      <td>2001</td>\n",
       "      <td>1</td>\n",
       "      <td>AK</td>\n",
       "      <td>Total Electric Power Industry</td>\n",
       "      <td>Natural Gas</td>\n",
       "      <td>367521.0</td>\n",
       "    </tr>\n",
       "    <tr>\n",
       "      <th>3</th>\n",
       "      <td>2001</td>\n",
       "      <td>1</td>\n",
       "      <td>AK</td>\n",
       "      <td>Total Electric Power Industry</td>\n",
       "      <td>Hydroelectric Conventional</td>\n",
       "      <td>104549.0</td>\n",
       "    </tr>\n",
       "    <tr>\n",
       "      <th>4</th>\n",
       "      <td>2001</td>\n",
       "      <td>1</td>\n",
       "      <td>AK</td>\n",
       "      <td>Total Electric Power Industry</td>\n",
       "      <td>Wind</td>\n",
       "      <td>87.0</td>\n",
       "    </tr>\n",
       "    <tr>\n",
       "      <th>...</th>\n",
       "      <td>...</td>\n",
       "      <td>...</td>\n",
       "      <td>...</td>\n",
       "      <td>...</td>\n",
       "      <td>...</td>\n",
       "      <td>...</td>\n",
       "    </tr>\n",
       "    <tr>\n",
       "      <th>20153</th>\n",
       "      <td>2001</td>\n",
       "      <td>12</td>\n",
       "      <td>US-TOTAL</td>\n",
       "      <td>Total Electric Power Industry</td>\n",
       "      <td>Geothermal</td>\n",
       "      <td>1190232.0</td>\n",
       "    </tr>\n",
       "    <tr>\n",
       "      <th>20154</th>\n",
       "      <td>2001</td>\n",
       "      <td>12</td>\n",
       "      <td>US-TOTAL</td>\n",
       "      <td>Total Electric Power Industry</td>\n",
       "      <td>Other Biomass</td>\n",
       "      <td>1252855.0</td>\n",
       "    </tr>\n",
       "    <tr>\n",
       "      <th>20155</th>\n",
       "      <td>2001</td>\n",
       "      <td>12</td>\n",
       "      <td>US-TOTAL</td>\n",
       "      <td>Total Electric Power Industry</td>\n",
       "      <td>Pumped Storage</td>\n",
       "      <td>-622574.0</td>\n",
       "    </tr>\n",
       "    <tr>\n",
       "      <th>20156</th>\n",
       "      <td>2001</td>\n",
       "      <td>12</td>\n",
       "      <td>US-TOTAL</td>\n",
       "      <td>Total Electric Power Industry</td>\n",
       "      <td>Other</td>\n",
       "      <td>1051329.0</td>\n",
       "    </tr>\n",
       "    <tr>\n",
       "      <th>20157</th>\n",
       "      <td>2001</td>\n",
       "      <td>12</td>\n",
       "      <td>US-TOTAL</td>\n",
       "      <td>Total Electric Power Industry</td>\n",
       "      <td>Total</td>\n",
       "      <td>305496328.0</td>\n",
       "    </tr>\n",
       "  </tbody>\n",
       "</table>\n",
       "<p>20158 rows × 6 columns</p>\n",
       "</div>"
      ],
      "text/plain": [
       "       YEAR  MONTH     STATE               TYPE OF PRODUCER  \\\n",
       "0      2001      1        AK  Total Electric Power Industry   \n",
       "1      2001      1        AK  Total Electric Power Industry   \n",
       "2      2001      1        AK  Total Electric Power Industry   \n",
       "3      2001      1        AK  Total Electric Power Industry   \n",
       "4      2001      1        AK  Total Electric Power Industry   \n",
       "...     ...    ...       ...                            ...   \n",
       "20153  2001     12  US-TOTAL  Total Electric Power Industry   \n",
       "20154  2001     12  US-TOTAL  Total Electric Power Industry   \n",
       "20155  2001     12  US-TOTAL  Total Electric Power Industry   \n",
       "20156  2001     12  US-TOTAL  Total Electric Power Industry   \n",
       "20157  2001     12  US-TOTAL  Total Electric Power Industry   \n",
       "\n",
       "                    ENERGY SOURCE  GENERATION (Megawatthours)  \n",
       "0                            Coal                     46903.0  \n",
       "1                       Petroleum                     71085.0  \n",
       "2                     Natural Gas                    367521.0  \n",
       "3      Hydroelectric Conventional                    104549.0  \n",
       "4                            Wind                        87.0  \n",
       "...                           ...                         ...  \n",
       "20153                  Geothermal                   1190232.0  \n",
       "20154               Other Biomass                   1252855.0  \n",
       "20155              Pumped Storage                   -622574.0  \n",
       "20156                       Other                   1051329.0  \n",
       "20157                       Total                 305496328.0  \n",
       "\n",
       "[20158 rows x 6 columns]"
      ]
     },
     "execution_count": 66,
     "metadata": {},
     "output_type": "execute_result"
    }
   ],
   "source": [
    "energy_data.head(20158)"
   ]
  },
  {
   "cell_type": "code",
   "execution_count": 19,
   "id": "866d2a1a",
   "metadata": {},
   "outputs": [],
   "source": [
    "# Create a temporary view and transform the temporary view to retrieve only the \"School Organization\" values from the \"TYPE\" column. \n",
    "def transform_data():\n",
    "    \n",
    "    conn.autocommit = True\n",
    "    cursor = conn.cursor()\n",
    "  \n",
    "    sql = '''SELECT YEAR, (SUM(generated))\n",
    "            FROM energy \n",
    "            WHERE producer = 'Total Electric Power Industry' \n",
    "                AND source = 'Total' \n",
    "                AND state = 'US-TOTAL'\n",
    "                AND YEAR != 2022\n",
    "            Group By YEAR\n",
    "                ;'''  \n",
    "  \n",
    "    cursor.execute(sql)\n",
    "    results = cursor.fetchall()\n",
    "    print(results)\n",
    "  \n",
    "    conn.commit()\n",
    "  \n",
    "    return results"
   ]
  },
  {
   "cell_type": "code",
   "execution_count": 21,
   "id": "3e1b57d6",
   "metadata": {},
   "outputs": [
    {
     "name": "stdout",
     "output_type": "stream",
     "text": [
      "[(2001, 3736643649.0), (2002, 3858452251.0), (2003, 3883185204.0), (2004, 3970555264.0), (2005, 4055422750.0), (2006, 4064702227.0), (2007, 4156744725.0), (2008, 4119387759.0), (2009, 3950330927.0), (2010, 4125059899.0), (2011, 4100656050.12), (2012, 4047765259.1499996), (2013, 4065964067.45), (2014, 4092934691.12), (2015, 4077600939.0), (2016, 4076674986.0), (2017, 4034270559.0), (2018, 4178277345.0), (2019, 4126882145.0), (2020, 4007018594.0), (2021, 4115540153.0)]\n"
     ]
    },
    {
     "ename": "AttributeError",
     "evalue": "'list' object has no attribute 'show'",
     "output_type": "error",
     "traceback": [
      "\u001b[0;31m---------------------------------------------------------------------------\u001b[0m",
      "\u001b[0;31mAttributeError\u001b[0m                            Traceback (most recent call last)",
      "\u001b[0;32m/var/folders/_l/n59lfx993pz8wm0c3316b3vm0000gn/T/ipykernel_43453/2372099135.py\u001b[0m in \u001b[0;36m<module>\u001b[0;34m\u001b[0m\n\u001b[0;32m----> 1\u001b[0;31m \u001b[0mtransform_data\u001b[0m\u001b[0;34m(\u001b[0m\u001b[0;34m)\u001b[0m\u001b[0;34m.\u001b[0m\u001b[0mshow\u001b[0m\u001b[0;34m(\u001b[0m\u001b[0;34m)\u001b[0m\u001b[0;34m\u001b[0m\u001b[0;34m\u001b[0m\u001b[0m\n\u001b[0m",
      "\u001b[0;31mAttributeError\u001b[0m: 'list' object has no attribute 'show'"
     ]
    }
   ],
   "source": [
    "transform_data().show()"
   ]
  },
  {
   "cell_type": "code",
   "execution_count": null,
   "id": "53282e43",
   "metadata": {},
   "outputs": [],
   "source": [
    "conn.close()"
   ]
  },
  {
   "cell_type": "code",
   "execution_count": null,
   "id": "f0a8987c",
   "metadata": {},
   "outputs": [],
   "source": []
  }
 ],
 "metadata": {
  "colab": {
   "include_colab_link": true,
   "provenance": []
  },
  "kernelspec": {
   "display_name": "Python 3 (ipykernel)",
   "language": "python",
   "name": "python3"
  },
  "language_info": {
   "codemirror_mode": {
    "name": "ipython",
    "version": 3
   },
   "file_extension": ".py",
   "mimetype": "text/x-python",
   "name": "python",
   "nbconvert_exporter": "python",
   "pygments_lexer": "ipython3",
   "version": "3.9.7"
  }
 },
 "nbformat": 4,
 "nbformat_minor": 5
}
