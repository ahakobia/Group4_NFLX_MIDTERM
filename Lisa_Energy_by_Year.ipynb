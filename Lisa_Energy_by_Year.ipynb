{
 "cells": [
  {
   "cell_type": "code",
   "execution_count": 1,
   "id": "7b73fc8a",
   "metadata": {},
   "outputs": [
    {
     "name": "stdout",
     "output_type": "stream",
     "text": [
      "Writing total_energy.py\n"
     ]
    }
   ],
   "source": [
    "%%file total_energy.py\n",
    "\n",
    "import pandas as pd\n",
    "\n",
    "def import_data():\n",
    "    csv_file = \"Resources/organised_Gen.csv\"\n",
    "    energy = pd.read_csv(csv_file)\n",
    "    return energy"
   ]
  },
  {
   "cell_type": "code",
   "execution_count": 2,
   "id": "462ca7a6",
   "metadata": {},
   "outputs": [
    {
     "data": {
      "text/html": [
       "<div>\n",
       "<style scoped>\n",
       "    .dataframe tbody tr th:only-of-type {\n",
       "        vertical-align: middle;\n",
       "    }\n",
       "\n",
       "    .dataframe tbody tr th {\n",
       "        vertical-align: top;\n",
       "    }\n",
       "\n",
       "    .dataframe thead th {\n",
       "        text-align: right;\n",
       "    }\n",
       "</style>\n",
       "<table border=\"1\" class=\"dataframe\">\n",
       "  <thead>\n",
       "    <tr style=\"text-align: right;\">\n",
       "      <th></th>\n",
       "      <th>Unnamed: 0</th>\n",
       "      <th>YEAR</th>\n",
       "      <th>MONTH</th>\n",
       "      <th>STATE</th>\n",
       "      <th>TYPE OF PRODUCER</th>\n",
       "      <th>ENERGY SOURCE</th>\n",
       "      <th>GENERATION (Megawatthours)</th>\n",
       "    </tr>\n",
       "  </thead>\n",
       "  <tbody>\n",
       "    <tr>\n",
       "      <th>0</th>\n",
       "      <td>0</td>\n",
       "      <td>2001</td>\n",
       "      <td>1</td>\n",
       "      <td>AK</td>\n",
       "      <td>Total Electric Power Industry</td>\n",
       "      <td>Coal</td>\n",
       "      <td>46903.0</td>\n",
       "    </tr>\n",
       "    <tr>\n",
       "      <th>1</th>\n",
       "      <td>1</td>\n",
       "      <td>2001</td>\n",
       "      <td>1</td>\n",
       "      <td>AK</td>\n",
       "      <td>Total Electric Power Industry</td>\n",
       "      <td>Petroleum</td>\n",
       "      <td>71085.0</td>\n",
       "    </tr>\n",
       "    <tr>\n",
       "      <th>2</th>\n",
       "      <td>2</td>\n",
       "      <td>2001</td>\n",
       "      <td>1</td>\n",
       "      <td>AK</td>\n",
       "      <td>Total Electric Power Industry</td>\n",
       "      <td>Natural Gas</td>\n",
       "      <td>367521.0</td>\n",
       "    </tr>\n",
       "    <tr>\n",
       "      <th>3</th>\n",
       "      <td>3</td>\n",
       "      <td>2001</td>\n",
       "      <td>1</td>\n",
       "      <td>AK</td>\n",
       "      <td>Total Electric Power Industry</td>\n",
       "      <td>Hydroelectric Conventional</td>\n",
       "      <td>104549.0</td>\n",
       "    </tr>\n",
       "    <tr>\n",
       "      <th>4</th>\n",
       "      <td>4</td>\n",
       "      <td>2001</td>\n",
       "      <td>1</td>\n",
       "      <td>AK</td>\n",
       "      <td>Total Electric Power Industry</td>\n",
       "      <td>Wind</td>\n",
       "      <td>87.0</td>\n",
       "    </tr>\n",
       "    <tr>\n",
       "      <th>...</th>\n",
       "      <td>...</td>\n",
       "      <td>...</td>\n",
       "      <td>...</td>\n",
       "      <td>...</td>\n",
       "      <td>...</td>\n",
       "      <td>...</td>\n",
       "      <td>...</td>\n",
       "    </tr>\n",
       "    <tr>\n",
       "      <th>496769</th>\n",
       "      <td>10581</td>\n",
       "      <td>2022</td>\n",
       "      <td>5</td>\n",
       "      <td>WY</td>\n",
       "      <td>Electric Generators, Electric Utilities</td>\n",
       "      <td>Coal</td>\n",
       "      <td>2071403.0</td>\n",
       "    </tr>\n",
       "    <tr>\n",
       "      <th>496770</th>\n",
       "      <td>10582</td>\n",
       "      <td>2022</td>\n",
       "      <td>5</td>\n",
       "      <td>WY</td>\n",
       "      <td>Electric Generators, Electric Utilities</td>\n",
       "      <td>Hydroelectric Conventional</td>\n",
       "      <td>96790.0</td>\n",
       "    </tr>\n",
       "    <tr>\n",
       "      <th>496771</th>\n",
       "      <td>10583</td>\n",
       "      <td>2022</td>\n",
       "      <td>5</td>\n",
       "      <td>WY</td>\n",
       "      <td>Electric Generators, Electric Utilities</td>\n",
       "      <td>Natural Gas</td>\n",
       "      <td>91570.0</td>\n",
       "    </tr>\n",
       "    <tr>\n",
       "      <th>496772</th>\n",
       "      <td>10584</td>\n",
       "      <td>2022</td>\n",
       "      <td>5</td>\n",
       "      <td>WY</td>\n",
       "      <td>Electric Generators, Electric Utilities</td>\n",
       "      <td>Petroleum</td>\n",
       "      <td>1812.0</td>\n",
       "    </tr>\n",
       "    <tr>\n",
       "      <th>496773</th>\n",
       "      <td>10585</td>\n",
       "      <td>2022</td>\n",
       "      <td>5</td>\n",
       "      <td>WY</td>\n",
       "      <td>Electric Generators, Electric Utilities</td>\n",
       "      <td>Wind</td>\n",
       "      <td>452913.0</td>\n",
       "    </tr>\n",
       "  </tbody>\n",
       "</table>\n",
       "<p>496774 rows × 7 columns</p>\n",
       "</div>"
      ],
      "text/plain": [
       "        Unnamed: 0  YEAR  MONTH STATE  \\\n",
       "0                0  2001      1    AK   \n",
       "1                1  2001      1    AK   \n",
       "2                2  2001      1    AK   \n",
       "3                3  2001      1    AK   \n",
       "4                4  2001      1    AK   \n",
       "...            ...   ...    ...   ...   \n",
       "496769       10581  2022      5    WY   \n",
       "496770       10582  2022      5    WY   \n",
       "496771       10583  2022      5    WY   \n",
       "496772       10584  2022      5    WY   \n",
       "496773       10585  2022      5    WY   \n",
       "\n",
       "                               TYPE OF PRODUCER               ENERGY SOURCE  \\\n",
       "0                 Total Electric Power Industry                        Coal   \n",
       "1                 Total Electric Power Industry                   Petroleum   \n",
       "2                 Total Electric Power Industry                 Natural Gas   \n",
       "3                 Total Electric Power Industry  Hydroelectric Conventional   \n",
       "4                 Total Electric Power Industry                        Wind   \n",
       "...                                         ...                         ...   \n",
       "496769  Electric Generators, Electric Utilities                        Coal   \n",
       "496770  Electric Generators, Electric Utilities  Hydroelectric Conventional   \n",
       "496771  Electric Generators, Electric Utilities                 Natural Gas   \n",
       "496772  Electric Generators, Electric Utilities                   Petroleum   \n",
       "496773  Electric Generators, Electric Utilities                        Wind   \n",
       "\n",
       "        GENERATION (Megawatthours)  \n",
       "0                          46903.0  \n",
       "1                          71085.0  \n",
       "2                         367521.0  \n",
       "3                         104549.0  \n",
       "4                             87.0  \n",
       "...                            ...  \n",
       "496769                   2071403.0  \n",
       "496770                     96790.0  \n",
       "496771                     91570.0  \n",
       "496772                      1812.0  \n",
       "496773                    452913.0  \n",
       "\n",
       "[496774 rows x 7 columns]"
      ]
     },
     "execution_count": 2,
     "metadata": {},
     "output_type": "execute_result"
    }
   ],
   "source": [
    "from total_energy import import_data\n",
    "\n",
    "x = import_data()\n",
    "x"
   ]
  },
  {
   "cell_type": "code",
   "execution_count": 3,
   "id": "e7fb247d",
   "metadata": {},
   "outputs": [
    {
     "name": "stdout",
     "output_type": "stream",
     "text": [
      "Writing tran_total_energy.py\n"
     ]
    }
   ],
   "source": [
    "%%file tran_total_energy.py\n",
    "from total_energy import import_data\n",
    "\n",
    "import pandas as pd\n",
    "\n",
    "def transform_data():\n",
    "    \n",
    "    tf_energy_data = import_data().drop(columns=['Unnamed: 0'])\n",
    "    \n",
    "    tf_energy_data = tf_energy_data.rename(columns={\n",
    "        \"YEAR\": \"year\", \n",
    "        \"MONTH\": \"month\",\n",
    "        \"STATE\": \"state\",\n",
    "        \"TYPE OF PRODUCER\": \"producer\",\n",
    "        \"ENERGY SOURCE\": \"source\",\n",
    "        \"GENERATION (Megawatthours)\": \"generated\"})\n",
    "\n",
    "\n",
    "    #tf_energy_data['producer'] = tf_energy_data['producer'].apply(lambda x: x.replace(',','/'))\n",
    "    tf_energy_data = tf_energy_data[tf_energy_data.state != 'US-TOTAL']\n",
    "    tf_energy_data = tf_energy_data[tf_energy_data.producer != 'Total Electric Power Industry']\n",
    "    tf_energy_data = tf_energy_data[tf_energy_data.source != 'Total']\n",
    "    tf_energy_data = tf_energy_data[tf_energy_data.year != 2022]\n",
    "    \n",
    "    tf_energy_data = tf_energy_data.drop(columns=['month'])\n",
    "    tf_energy_data = tf_energy_data.drop(columns=['producer'])\n",
    "    tf_energy_data = tf_energy_data.drop(columns=['state'])\n",
    "    \n",
    "    return tf_energy_data.reset_index(drop = True)"
   ]
  },
  {
   "cell_type": "code",
   "execution_count": 4,
   "id": "90111ebf",
   "metadata": {},
   "outputs": [
    {
     "name": "stdout",
     "output_type": "stream",
     "text": [
      "Query execution time: 0.5842061419999993s\n"
     ]
    },
    {
     "data": {
      "text/html": [
       "<div>\n",
       "<style scoped>\n",
       "    .dataframe tbody tr th:only-of-type {\n",
       "        vertical-align: middle;\n",
       "    }\n",
       "\n",
       "    .dataframe tbody tr th {\n",
       "        vertical-align: top;\n",
       "    }\n",
       "\n",
       "    .dataframe thead th {\n",
       "        text-align: right;\n",
       "    }\n",
       "</style>\n",
       "<table border=\"1\" class=\"dataframe\">\n",
       "  <thead>\n",
       "    <tr style=\"text-align: right;\">\n",
       "      <th></th>\n",
       "      <th>year</th>\n",
       "      <th>source</th>\n",
       "      <th>generated</th>\n",
       "    </tr>\n",
       "  </thead>\n",
       "  <tbody>\n",
       "    <tr>\n",
       "      <th>0</th>\n",
       "      <td>2001</td>\n",
       "      <td>Coal</td>\n",
       "      <td>18410.0</td>\n",
       "    </tr>\n",
       "    <tr>\n",
       "      <th>1</th>\n",
       "      <td>2001</td>\n",
       "      <td>Petroleum</td>\n",
       "      <td>64883.0</td>\n",
       "    </tr>\n",
       "    <tr>\n",
       "      <th>2</th>\n",
       "      <td>2001</td>\n",
       "      <td>Natural Gas</td>\n",
       "      <td>305277.0</td>\n",
       "    </tr>\n",
       "    <tr>\n",
       "      <th>3</th>\n",
       "      <td>2001</td>\n",
       "      <td>Hydroelectric Conventional</td>\n",
       "      <td>104549.0</td>\n",
       "    </tr>\n",
       "    <tr>\n",
       "      <th>4</th>\n",
       "      <td>2001</td>\n",
       "      <td>Wind</td>\n",
       "      <td>87.0</td>\n",
       "    </tr>\n",
       "    <tr>\n",
       "      <th>...</th>\n",
       "      <td>...</td>\n",
       "      <td>...</td>\n",
       "      <td>...</td>\n",
       "    </tr>\n",
       "    <tr>\n",
       "      <th>282589</th>\n",
       "      <td>2021</td>\n",
       "      <td>Coal</td>\n",
       "      <td>2408632.0</td>\n",
       "    </tr>\n",
       "    <tr>\n",
       "      <th>282590</th>\n",
       "      <td>2021</td>\n",
       "      <td>Hydroelectric Conventional</td>\n",
       "      <td>109773.0</td>\n",
       "    </tr>\n",
       "    <tr>\n",
       "      <th>282591</th>\n",
       "      <td>2021</td>\n",
       "      <td>Natural Gas</td>\n",
       "      <td>44421.0</td>\n",
       "    </tr>\n",
       "    <tr>\n",
       "      <th>282592</th>\n",
       "      <td>2021</td>\n",
       "      <td>Petroleum</td>\n",
       "      <td>7181.0</td>\n",
       "    </tr>\n",
       "    <tr>\n",
       "      <th>282593</th>\n",
       "      <td>2021</td>\n",
       "      <td>Wind</td>\n",
       "      <td>669554.0</td>\n",
       "    </tr>\n",
       "  </tbody>\n",
       "</table>\n",
       "<p>282594 rows × 3 columns</p>\n",
       "</div>"
      ],
      "text/plain": [
       "        year                      source  generated\n",
       "0       2001                        Coal    18410.0\n",
       "1       2001                   Petroleum    64883.0\n",
       "2       2001                 Natural Gas   305277.0\n",
       "3       2001  Hydroelectric Conventional   104549.0\n",
       "4       2001                        Wind       87.0\n",
       "...      ...                         ...        ...\n",
       "282589  2021                        Coal  2408632.0\n",
       "282590  2021  Hydroelectric Conventional   109773.0\n",
       "282591  2021                 Natural Gas    44421.0\n",
       "282592  2021                   Petroleum     7181.0\n",
       "282593  2021                        Wind   669554.0\n",
       "\n",
       "[282594 rows x 3 columns]"
      ]
     },
     "execution_count": 4,
     "metadata": {},
     "output_type": "execute_result"
    }
   ],
   "source": [
    "from tran_total_energy import transform_data\n",
    "import sys\n",
    "\n",
    "import psycopg2\n",
    "\n",
    "from psycopg2 import OperationalError, errorcodes, errors\n",
    "import psycopg2.extras as extras\n",
    "import pandas as pd\n",
    "from io import StringIO\n",
    "import numpy as np\n",
    "\n",
    "import plotly.express as px\n",
    "from timeit import default_timer as timer\n",
    "\n",
    "from tran_total_energy import transform_data\n",
    "start = timer()\n",
    "x = transform_data()\n",
    "end = timer()\n",
    "k = end - start \n",
    "print(\"Query execution time: {}s\".format(k))\n",
    "x"
   ]
  },
  {
   "cell_type": "code",
   "execution_count": 5,
   "id": "c3cc71c6",
   "metadata": {},
   "outputs": [
    {
     "name": "stdout",
     "output_type": "stream",
     "text": [
      "Writing query_total_energy.py\n"
     ]
    }
   ],
   "source": [
    "%%file query_total_energy.py \n",
    "\n",
    "from tran_total_energy import transform_data\n",
    "import sys\n",
    "import pandas as pd\n",
    "\n",
    "import psycopg2\n",
    "\n",
    "from psycopg2 import OperationalError, errorcodes, errors\n",
    "import psycopg2.extras as extras\n",
    "from io import StringIO\n",
    "import numpy as np\n",
    "\n",
    "import plotly.express as px\n",
    "from timeit import default_timer as timer\n",
    "\n",
    "edf = transform_data()\n",
    "\n",
    "params_dic = {\n",
    "    \"host\"      : \"localhost\",\n",
    "    \"user\"      : \"postgres\",\n",
    "    \"password\"  : \"postgres\",\n",
    "    \"port\"      : \"5432\"\n",
    "}\n",
    "\n",
    "def connect(params_dic):\n",
    "    \"\"\" Connect to the PostgreSQL database server \"\"\"\n",
    "    conn = None\n",
    "    try:\n",
    "        # connect to the PostgreSQL server\n",
    "        print('Connecting to the PostgreSQL database...')\n",
    "        conn = psycopg2.connect(**params_dic)\n",
    "    except (Exception, psycopg2.DatabaseError) as error:\n",
    "        print(error)\n",
    "        sys.exit(1) \n",
    "    print(\"Connection successful\")\n",
    "    return conn\n",
    "conn = connect(params_dic)\n",
    "\n",
    "#install psycopg2-binary for MacOs if you don't have it\n",
    "    #!pip install psycopg2-binary\n",
    "\n",
    "# Define a function that handles and parses psycopg2 exceptions\n",
    "def show_psycopg2_exception(err):\n",
    "    # get details about the exception\n",
    "    err_type, err_obj, traceback = sys.exc_info()    \n",
    "    # get the line number when exception occured\n",
    "    line_n = traceback.tb_lineno    \n",
    "    # print the connect() error\n",
    "    print (\"\\npsycopg2 ERROR:\", err, \"on line number:\", line_n)\n",
    "    print (\"psycopg2 traceback:\", traceback, \"-- type:\", err_type) \n",
    "    # psycopg2 extensions.Diagnostics object attribute\n",
    "    print (\"\\nextensions.Diagnostics:\", err.diag)    \n",
    "    # print the pgcode and pgerror exceptions\n",
    "    print (\"pgerror:\", err.pgerror)\n",
    "    print (\"pgcode:\", err.pgcode, \"\\n\")\n",
    "\n",
    "def create_table(cursor):\n",
    "    try:\n",
    "        # \n",
    "        cursor.execute(\"DROP TABLE IF EXISTS energy_over_time;\")\n",
    "        sql = '''CREATE TABLE energy_over_time(\n",
    "        year INT NOT NULL, \n",
    "        source VARCHAR NOT NULL, \n",
    "        generated FLOAT NOT NULL\n",
    "        )'''\n",
    "        # Creating a table\n",
    "        cursor.execute(sql);\n",
    "        print(\"energy table is created successfully...............\")  \n",
    "    except OperationalError as err:\n",
    "        # pass exception to function\n",
    "        show_psycopg2_exception(err)\n",
    "        # set the connection to 'None' in case of error\n",
    "        conn = None\n",
    "\n",
    "# Define function using copy_from() with StringIO to insert the dataframe\n",
    "def copy_from_dataFile_StringIO(conn, datafrm, table):\n",
    "    \n",
    "    #save dataframe to an in memory buffer\n",
    "    buffer = StringIO()\n",
    "    datafrm.to_csv(buffer, header=False, index = False)\n",
    "    buffer.seek(0)\n",
    "    \n",
    "    cursor = conn.cursor()\n",
    "    try:\n",
    "        cursor.copy_from(buffer, table, sep=\",\")\n",
    "        print(\"Data inserted using copy_from_datafile_StringIO() successfully....\")\n",
    "    except (Exception, psycopg2.DatabaseError) as err:\n",
    "        # pass exception to function\n",
    "        show_psycopg2_exception(err)\n",
    "        cursor.close()\n",
    "\n",
    "conn = connect(params_dic)\n",
    "\n",
    "# We set autocommit=True so every command we execute will produce results immediately.\n",
    "conn.autocommit = True\n",
    "cursor = conn.cursor()\n",
    "create_table(cursor)\n",
    "\n",
    "copy_from_dataFile_StringIO(conn, edf, 'energy_over_time')\n",
    "\n",
    "\n",
    "def query_data():\n",
    "    start = timer()\n",
    "\n",
    "    conn.autocommit = True\n",
    "    cursor = conn.cursor()\n",
    "  \n",
    "    sql = '''SELECT year, source, SUM(generated)\n",
    "            FROM energy_over_time \n",
    "            Group By year, source\n",
    "            Order By year\n",
    "                ;''' \n",
    "  \n",
    "    cursor.execute(sql)\n",
    "    results = cursor.fetchall()\n",
    "    df = pd.DataFrame (results, columns = ['Year', 'Energy Source','Total Generated'])\n",
    "    conn.commit()\n",
    "    end = timer()\n",
    "    k = end - start \n",
    "    #print(\"Query execution time: {}s\".format(k))\n",
    "    #fig.show()\n",
    "    return df"
   ]
  },
  {
   "cell_type": "code",
   "execution_count": 6,
   "id": "e20b8bc5",
   "metadata": {},
   "outputs": [
    {
     "name": "stdout",
     "output_type": "stream",
     "text": [
      "Connecting to the PostgreSQL database...\n",
      "Connection successful\n",
      "Connecting to the PostgreSQL database...\n",
      "Connection successful\n",
      "energy table is created successfully...............\n",
      "Data inserted using copy_from_datafile_StringIO() successfully....\n",
      "Query execution time: 0.648082438000003s\n"
     ]
    }
   ],
   "source": [
    "from tran_total_energy import transform_data\n",
    "from query_total_energy import query_data\n",
    "\n",
    "start = timer()\n",
    "x = transform_data()\n",
    "y = query_data()\n",
    "end = timer()\n",
    "k = end - start \n",
    "print(\"Query execution time: {}s\".format(k))"
   ]
  },
  {
   "cell_type": "code",
   "execution_count": 7,
   "id": "4d49ffab",
   "metadata": {},
   "outputs": [
    {
     "data": {
      "text/html": [
       "<div>\n",
       "<style scoped>\n",
       "    .dataframe tbody tr th:only-of-type {\n",
       "        vertical-align: middle;\n",
       "    }\n",
       "\n",
       "    .dataframe tbody tr th {\n",
       "        vertical-align: top;\n",
       "    }\n",
       "\n",
       "    .dataframe thead th {\n",
       "        text-align: right;\n",
       "    }\n",
       "</style>\n",
       "<table border=\"1\" class=\"dataframe\">\n",
       "  <thead>\n",
       "    <tr style=\"text-align: right;\">\n",
       "      <th></th>\n",
       "      <th>Year</th>\n",
       "      <th>Energy Source</th>\n",
       "      <th>Total Generated</th>\n",
       "    </tr>\n",
       "  </thead>\n",
       "  <tbody>\n",
       "    <tr>\n",
       "      <th>0</th>\n",
       "      <td>2001</td>\n",
       "      <td>Geothermal</td>\n",
       "      <td>13740501.0</td>\n",
       "    </tr>\n",
       "    <tr>\n",
       "      <th>1</th>\n",
       "      <td>2001</td>\n",
       "      <td>Wood and Wood Derived Fuels</td>\n",
       "      <td>35199905.0</td>\n",
       "    </tr>\n",
       "    <tr>\n",
       "      <th>2</th>\n",
       "      <td>2001</td>\n",
       "      <td>Other Biomass</td>\n",
       "      <td>14548144.0</td>\n",
       "    </tr>\n",
       "    <tr>\n",
       "      <th>3</th>\n",
       "      <td>2001</td>\n",
       "      <td>Hydroelectric Conventional</td>\n",
       "      <td>216961052.0</td>\n",
       "    </tr>\n",
       "    <tr>\n",
       "      <th>4</th>\n",
       "      <td>2001</td>\n",
       "      <td>Solar Thermal and Photovoltaic</td>\n",
       "      <td>542755.0</td>\n",
       "    </tr>\n",
       "    <tr>\n",
       "      <th>...</th>\n",
       "      <td>...</td>\n",
       "      <td>...</td>\n",
       "      <td>...</td>\n",
       "    </tr>\n",
       "    <tr>\n",
       "      <th>268</th>\n",
       "      <td>2021</td>\n",
       "      <td>Nuclear</td>\n",
       "      <td>778151500.0</td>\n",
       "    </tr>\n",
       "    <tr>\n",
       "      <th>269</th>\n",
       "      <td>2021</td>\n",
       "      <td>Other</td>\n",
       "      <td>12139767.0</td>\n",
       "    </tr>\n",
       "    <tr>\n",
       "      <th>270</th>\n",
       "      <td>2021</td>\n",
       "      <td>Wood and Wood Derived Fuels</td>\n",
       "      <td>37170460.0</td>\n",
       "    </tr>\n",
       "    <tr>\n",
       "      <th>271</th>\n",
       "      <td>2021</td>\n",
       "      <td>Other Gases</td>\n",
       "      <td>11283103.0</td>\n",
       "    </tr>\n",
       "    <tr>\n",
       "      <th>272</th>\n",
       "      <td>2021</td>\n",
       "      <td>Hydroelectric Conventional</td>\n",
       "      <td>260224898.0</td>\n",
       "    </tr>\n",
       "  </tbody>\n",
       "</table>\n",
       "<p>273 rows × 3 columns</p>\n",
       "</div>"
      ],
      "text/plain": [
       "     Year                   Energy Source  Total Generated\n",
       "0    2001                      Geothermal       13740501.0\n",
       "1    2001     Wood and Wood Derived Fuels       35199905.0\n",
       "2    2001                   Other Biomass       14548144.0\n",
       "3    2001      Hydroelectric Conventional      216961052.0\n",
       "4    2001  Solar Thermal and Photovoltaic         542755.0\n",
       "..    ...                             ...              ...\n",
       "268  2021                         Nuclear      778151500.0\n",
       "269  2021                           Other       12139767.0\n",
       "270  2021     Wood and Wood Derived Fuels       37170460.0\n",
       "271  2021                     Other Gases       11283103.0\n",
       "272  2021      Hydroelectric Conventional      260224898.0\n",
       "\n",
       "[273 rows x 3 columns]"
      ]
     },
     "execution_count": 7,
     "metadata": {},
     "output_type": "execute_result"
    }
   ],
   "source": [
    "query_data()"
   ]
  },
  {
   "cell_type": "code",
   "execution_count": 8,
   "id": "e59203ab",
   "metadata": {},
   "outputs": [
    {
     "name": "stdout",
     "output_type": "stream",
     "text": [
      "Writing test_total_energy.py\n"
     ]
    }
   ],
   "source": [
    "%%file test_total_energy.py\n",
    "\n",
    "from total_energy import import_data\n",
    "from tran_total_energy import transform_data\n",
    "from query_total_energy import query_data\n",
    "\n",
    "def test_data_columns_count():\n",
    "    df = import_data()\n",
    "    assert len(df.columns) == 7\n",
    "\n",
    "def test_data_row_count():\n",
    "    df = import_data()\n",
    "    assert len(df.index) == 496774\n",
    "    \n",
    "def test_transform_data_columns_count():\n",
    "    df = transform_data()\n",
    "    assert len(df.columns) == 3\n",
    "\n",
    "def test_transform_data_row_count():\n",
    "    df = transform_data()\n",
    "    assert len(df.index) == 282594\n",
    "    \n",
    "def test_query_data_column_count():\n",
    "    df = query_data()\n",
    "    assert len(df.columns) == 3\n",
    "\n",
    "def test_query_data_row_count():\n",
    "    df = query_data()\n",
    "    assert len(df.index) == 273"
   ]
  },
  {
   "cell_type": "code",
   "execution_count": 9,
   "id": "429df940",
   "metadata": {},
   "outputs": [
    {
     "name": "stdout",
     "output_type": "stream",
     "text": [
      "\u001b[1mTest session starts (platform: darwin, Python 3.9.7, pytest 6.2.4, pytest-sugar 0.9.5)\u001b[0m\n",
      "rootdir: /Users/LisaHong/Desktop/github-test-project\n",
      "plugins: anyio-2.2.0, sugar-0.9.5\n",
      "\u001b[1mcollecting ... \u001b[0m\n",
      " \u001b[36m\u001b[0mtest_total_energy.py\u001b[0m \u001b[32m✓\u001b[0m\u001b[32m✓\u001b[0m\u001b[32m✓\u001b[0m\u001b[32m✓\u001b[0m\u001b[32m✓\u001b[0m\u001b[32m✓\u001b[0m                                     \u001b[32m100% \u001b[0m\u001b[40m\u001b[32m█\u001b[0m\u001b[40m\u001b[32m█\u001b[0m\u001b[40m\u001b[32m█\u001b[0m\u001b[40m\u001b[32m█\u001b[0m\u001b[40m\u001b[32m█\u001b[0m\u001b[40m\u001b[32m█\u001b[0m\u001b[40m\u001b[32m█\u001b[0m\u001b[40m\u001b[32m█\u001b[0m\u001b[40m\u001b[32m█\u001b[0m\u001b[40m\u001b[32m█\u001b[0m\n",
      "\n",
      "Results (4.98s):\n",
      "\u001b[32m       6 passed\u001b[0m\n"
     ]
    }
   ],
   "source": [
    "# Run the test_import_data.py file with pytest. \n",
    "!python -m pytest test_total_energy.py"
   ]
  },
  {
   "cell_type": "code",
   "execution_count": 10,
   "id": "956a2ac8",
   "metadata": {},
   "outputs": [
    {
     "data": {
      "text/html": [
       "<div>\n",
       "<style scoped>\n",
       "    .dataframe tbody tr th:only-of-type {\n",
       "        vertical-align: middle;\n",
       "    }\n",
       "\n",
       "    .dataframe tbody tr th {\n",
       "        vertical-align: top;\n",
       "    }\n",
       "\n",
       "    .dataframe thead th {\n",
       "        text-align: right;\n",
       "    }\n",
       "</style>\n",
       "<table border=\"1\" class=\"dataframe\">\n",
       "  <thead>\n",
       "    <tr style=\"text-align: right;\">\n",
       "      <th></th>\n",
       "      <th>year</th>\n",
       "      <th>source</th>\n",
       "      <th>generated</th>\n",
       "    </tr>\n",
       "  </thead>\n",
       "  <tbody>\n",
       "    <tr>\n",
       "      <th>0</th>\n",
       "      <td>2001</td>\n",
       "      <td>Coal</td>\n",
       "      <td>1.903956e+09</td>\n",
       "    </tr>\n",
       "    <tr>\n",
       "      <th>1</th>\n",
       "      <td>2001</td>\n",
       "      <td>Geothermal</td>\n",
       "      <td>1.374050e+07</td>\n",
       "    </tr>\n",
       "    <tr>\n",
       "      <th>2</th>\n",
       "      <td>2001</td>\n",
       "      <td>Hydroelectric Conventional</td>\n",
       "      <td>2.169611e+08</td>\n",
       "    </tr>\n",
       "    <tr>\n",
       "      <th>3</th>\n",
       "      <td>2001</td>\n",
       "      <td>Natural Gas</td>\n",
       "      <td>6.391291e+08</td>\n",
       "    </tr>\n",
       "    <tr>\n",
       "      <th>4</th>\n",
       "      <td>2001</td>\n",
       "      <td>Nuclear</td>\n",
       "      <td>7.688263e+08</td>\n",
       "    </tr>\n",
       "    <tr>\n",
       "      <th>...</th>\n",
       "      <td>...</td>\n",
       "      <td>...</td>\n",
       "      <td>...</td>\n",
       "    </tr>\n",
       "    <tr>\n",
       "      <th>268</th>\n",
       "      <td>2021</td>\n",
       "      <td>Petroleum</td>\n",
       "      <td>1.878178e+07</td>\n",
       "    </tr>\n",
       "    <tr>\n",
       "      <th>269</th>\n",
       "      <td>2021</td>\n",
       "      <td>Pumped Storage</td>\n",
       "      <td>-5.111684e+06</td>\n",
       "    </tr>\n",
       "    <tr>\n",
       "      <th>270</th>\n",
       "      <td>2021</td>\n",
       "      <td>Solar Thermal and Photovoltaic</td>\n",
       "      <td>1.146782e+08</td>\n",
       "    </tr>\n",
       "    <tr>\n",
       "      <th>271</th>\n",
       "      <td>2021</td>\n",
       "      <td>Wind</td>\n",
       "      <td>3.797673e+08</td>\n",
       "    </tr>\n",
       "    <tr>\n",
       "      <th>272</th>\n",
       "      <td>2021</td>\n",
       "      <td>Wood and Wood Derived Fuels</td>\n",
       "      <td>3.717046e+07</td>\n",
       "    </tr>\n",
       "  </tbody>\n",
       "</table>\n",
       "<p>273 rows × 3 columns</p>\n",
       "</div>"
      ],
      "text/plain": [
       "     year                          source     generated\n",
       "0    2001                            Coal  1.903956e+09\n",
       "1    2001                      Geothermal  1.374050e+07\n",
       "2    2001      Hydroelectric Conventional  2.169611e+08\n",
       "3    2001                     Natural Gas  6.391291e+08\n",
       "4    2001                         Nuclear  7.688263e+08\n",
       "..    ...                             ...           ...\n",
       "268  2021                       Petroleum  1.878178e+07\n",
       "269  2021                  Pumped Storage -5.111684e+06\n",
       "270  2021  Solar Thermal and Photovoltaic  1.146782e+08\n",
       "271  2021                            Wind  3.797673e+08\n",
       "272  2021     Wood and Wood Derived Fuels  3.717046e+07\n",
       "\n",
       "[273 rows x 3 columns]"
      ]
     },
     "execution_count": 10,
     "metadata": {},
     "output_type": "execute_result"
    }
   ],
   "source": [
    "state_grouped=x.groupby(['year', 'source']).sum().reset_index()\n",
    "state_grouped"
   ]
  },
  {
   "cell_type": "code",
   "execution_count": 23,
   "id": "59f82404",
   "metadata": {},
   "outputs": [
    {
     "data": {
      "application/vnd.plotly.v1+json": {
       "config": {
        "plotlyServerURL": "https://plot.ly"
       },
       "data": [
        {
         "hovertemplate": "Energy Source=Coal<br>Year=%{x}<br>Total Energy Generated (Megawatthours)=%{y}<extra></extra>",
         "legendgroup": "Coal",
         "line": {
          "color": "#ab63fa",
          "dash": "solid"
         },
         "marker": {
          "symbol": "circle"
         },
         "mode": "lines",
         "name": "Coal",
         "orientation": "v",
         "showlegend": true,
         "type": "scatter",
         "x": [
          2001,
          2002,
          2003,
          2004,
          2005,
          2006,
          2007,
          2008,
          2009,
          2010,
          2011,
          2012,
          2013,
          2014,
          2015,
          2016,
          2017,
          2018,
          2019,
          2020,
          2021
         ],
         "xaxis": "x",
         "y": [
          1903955939,
          1933130342,
          1973736746,
          1978300559,
          2012873053,
          1990511140,
          2016455587,
          1985801252,
          1755904259,
          1847290262,
          1733430006.15,
          1514042945.36,
          1581114716.5,
          1585696613.92,
          1352398200,
          1239148659,
          1205835277,
          1149487354,
          964956757,
          773392913,
          898678541
         ],
         "yaxis": "y"
        },
        {
         "hovertemplate": "Energy Source=Natural Gas<br>Year=%{x}<br>Total Energy Generated (Megawatthours)=%{y}<extra></extra>",
         "legendgroup": "Natural Gas",
         "line": {
          "color": "#FFA15A",
          "dash": "solid"
         },
         "marker": {
          "symbol": "circle"
         },
         "mode": "lines",
         "name": "Natural Gas",
         "orientation": "v",
         "showlegend": true,
         "type": "scatter",
         "x": [
          2001,
          2002,
          2003,
          2004,
          2005,
          2006,
          2007,
          2008,
          2009,
          2010,
          2011,
          2012,
          2013,
          2014,
          2015,
          2016,
          2017,
          2018,
          2019,
          2020,
          2021
         ],
         "xaxis": "x",
         "y": [
          639129114,
          691005761,
          649907551,
          710100037,
          760960257,
          816440783,
          896589798,
          882980635,
          920978685,
          987697270,
          1013688930.27,
          1225894176.39,
          1124835560.81,
          1121927524.12,
          1333482110,
          1378306947,
          1296442511,
          1469132687,
          1585716776,
          1624050006,
          1575229843
         ],
         "yaxis": "y"
        },
        {
         "hovertemplate": "Energy Source=Nuclear<br>Year=%{x}<br>Total Energy Generated (Megawatthours)=%{y}<extra></extra>",
         "legendgroup": "Nuclear",
         "line": {
          "color": "#19d3f3",
          "dash": "solid"
         },
         "marker": {
          "symbol": "circle"
         },
         "mode": "lines",
         "name": "Nuclear",
         "orientation": "v",
         "showlegend": true,
         "type": "scatter",
         "x": [
          2001,
          2002,
          2003,
          2004,
          2005,
          2006,
          2007,
          2008,
          2009,
          2010,
          2011,
          2012,
          2013,
          2014,
          2015,
          2016,
          2017,
          2018,
          2019,
          2020,
          2021
         ],
         "xaxis": "x",
         "y": [
          768826308,
          780064087,
          763732695,
          788528387,
          781986365,
          787218636,
          806424753,
          806208435,
          798854585,
          806968301,
          790204367,
          769331249,
          789016473,
          797067458,
          797177877,
          805693948,
          804949635,
          807084477,
          809409262,
          789878863,
          778151500
         ],
         "yaxis": "y"
        },
        {
         "hovertemplate": "Energy Source=Hydroelectric Conventional<br>Year=%{x}<br>Total Energy Generated (Megawatthours)=%{y}<extra></extra>",
         "legendgroup": "Hydroelectric Conventional",
         "line": {
          "color": "#FF6692",
          "dash": "solid"
         },
         "marker": {
          "symbol": "circle"
         },
         "mode": "lines",
         "name": "Hydroelectric Conventional",
         "orientation": "v",
         "showlegend": true,
         "type": "scatter",
         "x": [
          2001,
          2002,
          2003,
          2004,
          2005,
          2006,
          2007,
          2008,
          2009,
          2010,
          2011,
          2012,
          2013,
          2014,
          2015,
          2016,
          2017,
          2018,
          2019,
          2020,
          2021
         ],
         "xaxis": "x",
         "y": [
          216961052,
          264328825,
          275806313,
          268417344,
          270321260,
          289246405,
          247509969,
          254831403,
          273445091,
          260203083,
          319354903.88,
          276240223.81,
          268565383.23,
          258748948.63,
          249080087,
          267812150,
          300332936,
          292523988,
          287873720,
          285273918,
          260224898
         ],
         "yaxis": "y"
        },
        {
         "hovertemplate": "Energy Source=Wind<br>Year=%{x}<br>Total Energy Generated (Megawatthours)=%{y}<extra></extra>",
         "legendgroup": "Wind",
         "line": {
          "color": "#B6E880",
          "dash": "solid"
         },
         "marker": {
          "symbol": "circle"
         },
         "mode": "lines",
         "name": "Wind",
         "orientation": "v",
         "showlegend": true,
         "type": "scatter",
         "x": [
          2001,
          2002,
          2003,
          2004,
          2005,
          2006,
          2007,
          2008,
          2009,
          2010,
          2011,
          2012,
          2013,
          2014,
          2015,
          2016,
          2017,
          2018,
          2019,
          2020,
          2021
         ],
         "xaxis": "x",
         "y": [
          6737332,
          10354277,
          11187470,
          14143747,
          17810554,
          26589145,
          34449924,
          55363100,
          73886143,
          94652254,
          120176598.83,
          140821703.25,
          167839745.64,
          181791389.65,
          190718546,
          226992564,
          254302706,
          272667469,
          294906318,
          337938041,
          379767256
         ],
         "yaxis": "y"
        },
        {
         "hovertemplate": "Energy Source=Petroleum<br>Year=%{x}<br>Total Energy Generated (Megawatthours)=%{y}<extra></extra>",
         "legendgroup": "Petroleum",
         "line": {
          "color": "#FF97FF",
          "dash": "solid"
         },
         "marker": {
          "symbol": "circle"
         },
         "mode": "lines",
         "name": "Petroleum",
         "orientation": "v",
         "showlegend": true,
         "type": "scatter",
         "x": [
          2001,
          2002,
          2003,
          2004,
          2005,
          2006,
          2007,
          2008,
          2009,
          2010,
          2011,
          2012,
          2013,
          2014,
          2015,
          2016,
          2017,
          2018,
          2019,
          2020,
          2021
         ],
         "xaxis": "x",
         "y": [
          124880223,
          94567379,
          119405639,
          121145083,
          122225034,
          64166415,
          65738967,
          46242610,
          38936507,
          37061009,
          30182246.75,
          23189542.33,
          27164444.79,
          30488869,
          28248721,
          24204817,
          21389948,
          25225630,
          18438197,
          17341026,
          18781782
         ],
         "yaxis": "y"
        },
        {
         "hovertemplate": "Energy Source=Solar Thermal and Photovoltaic<br>Year=%{x}<br>Total Energy Generated (Megawatthours)=%{y}<extra></extra>",
         "legendgroup": "Solar Thermal and Photovoltaic",
         "line": {
          "color": "#FECB52",
          "dash": "solid"
         },
         "marker": {
          "symbol": "circle"
         },
         "mode": "lines",
         "name": "Solar Thermal and Photovoltaic",
         "orientation": "v",
         "showlegend": true,
         "type": "scatter",
         "x": [
          2001,
          2002,
          2003,
          2004,
          2005,
          2006,
          2007,
          2008,
          2009,
          2010,
          2011,
          2012,
          2013,
          2014,
          2015,
          2016,
          2017,
          2018,
          2019,
          2020,
          2021
         ],
         "xaxis": "x",
         "y": [
          542755,
          554831,
          534001,
          575157,
          550293,
          507704,
          611792,
          864314,
          891179,
          1212186,
          1817695.92,
          4326675.6,
          9035620.72,
          18321454.43,
          24892903,
          36054117,
          53286867,
          63825306,
          71936818,
          89198725,
          114678250
         ],
         "yaxis": "y"
        },
        {
         "hovertemplate": "Energy Source=Geothermal<br>Year=%{x}<br>Total Energy Generated (Megawatthours)=%{y}<extra></extra>",
         "legendgroup": "Geothermal",
         "line": {
          "color": "#636efa",
          "dash": "solid"
         },
         "marker": {
          "symbol": "circle"
         },
         "mode": "lines",
         "name": "Geothermal",
         "orientation": "v",
         "showlegend": true,
         "type": "scatter",
         "x": [
          2001,
          2002,
          2003,
          2004,
          2005,
          2006,
          2007,
          2008,
          2009,
          2010,
          2011,
          2012,
          2013,
          2014,
          2015,
          2016,
          2017,
          2018,
          2019,
          2020,
          2021
         ],
         "xaxis": "x",
         "y": [
          13740501,
          14491312,
          14424229,
          14810975,
          14691746,
          14568029,
          14637214,
          14839976,
          15008658,
          15219212,
          15363826.07,
          15562425.64,
          15774674.17,
          16628434.57,
          15917574,
          15825802,
          15926772,
          15967135,
          15472719,
          15889696,
          16237882
         ],
         "yaxis": "y"
        },
        {
         "hovertemplate": "Energy Source=Wood and Wood Derived Fuels<br>Year=%{x}<br>Total Energy Generated (Megawatthours)=%{y}<extra></extra>",
         "legendgroup": "Wood and Wood Derived Fuels",
         "line": {
          "color": "#EF553B",
          "dash": "solid"
         },
         "marker": {
          "symbol": "circle"
         },
         "mode": "lines",
         "name": "Wood and Wood Derived Fuels",
         "orientation": "v",
         "showlegend": true,
         "type": "scatter",
         "x": [
          2001,
          2002,
          2003,
          2004,
          2005,
          2006,
          2007,
          2008,
          2009,
          2010,
          2011,
          2012,
          2013,
          2014,
          2015,
          2016,
          2017,
          2018,
          2019,
          2020,
          2021
         ],
         "xaxis": "x",
         "y": [
          35199905,
          38665032,
          37529100,
          38116872,
          38856413,
          38762097,
          39014046,
          37299856,
          36050143,
          37172157,
          37449067.01,
          37799129.44,
          40027537.27,
          43049862.16,
          41928505,
          40947234,
          41123530,
          40936161,
          38543389,
          36210347,
          37170460
         ],
         "yaxis": "y"
        },
        {
         "hovertemplate": "Energy Source=Pumped Storage<br>Year=%{x}<br>Total Energy Generated (Megawatthours)=%{y}<extra></extra>",
         "legendgroup": "Pumped Storage",
         "line": {
          "color": "#00cc96",
          "dash": "solid"
         },
         "marker": {
          "symbol": "circle"
         },
         "mode": "lines",
         "name": "Pumped Storage",
         "orientation": "v",
         "showlegend": true,
         "type": "scatter",
         "x": [
          2001,
          2002,
          2003,
          2004,
          2005,
          2006,
          2007,
          2008,
          2009,
          2010,
          2011,
          2012,
          2013,
          2014,
          2015,
          2016,
          2017,
          2018,
          2019,
          2020,
          2021
         ],
         "xaxis": "x",
         "y": [
          -8823445,
          -8742929,
          -8535065,
          -8488210,
          -6557786,
          -6557842,
          -6896352,
          -6288062,
          -4627345,
          -5501132,
          -5905392,
          -4950495.99,
          -4681033,
          -6208716,
          -5091488,
          -6686127,
          -6494548,
          -5904539,
          -5260744,
          -5321205,
          -5111684
         ],
         "yaxis": "y"
        },
        {
         "hovertemplate": "Energy Source=Other Gases<br>Year=%{x}<br>Total Energy Generated (Megawatthours)=%{y}<extra></extra>",
         "legendgroup": "Other Gases",
         "line": {
          "color": "purple",
          "dash": "solid"
         },
         "marker": {
          "symbol": "circle"
         },
         "mode": "lines",
         "name": "Other Gases",
         "orientation": "v",
         "showlegend": true,
         "type": "scatter",
         "x": [
          2001,
          2002,
          2003,
          2004,
          2005,
          2006,
          2007,
          2008,
          2009,
          2010,
          2011,
          2012,
          2013,
          2014,
          2015,
          2016,
          2017,
          2018,
          2019,
          2020,
          2021
         ],
         "xaxis": "x",
         "y": [
          9039473,
          11462685,
          15600026,
          15252421,
          13464151,
          14176800,
          13453352,
          11706870,
          10632113,
          11312795,
          11566200.52,
          11897585.24,
          12852937.22,
          11577838.22,
          13116699,
          12807433,
          12468968,
          13462749,
          12591101,
          11818477,
          11283103
         ],
         "yaxis": "y"
        },
        {
         "hovertemplate": "Energy Source=Other Biomass<br>Year=%{x}<br>Total Energy Generated (Megawatthours)=%{y}<extra></extra>",
         "legendgroup": "Other Biomass",
         "line": {
          "color": "gray",
          "dash": "solid"
         },
         "marker": {
          "symbol": "circle"
         },
         "mode": "lines",
         "name": "Other Biomass",
         "orientation": "v",
         "showlegend": true,
         "type": "scatter",
         "x": [
          2001,
          2002,
          2003,
          2004,
          2005,
          2006,
          2007,
          2008,
          2009,
          2010,
          2011,
          2012,
          2013,
          2014,
          2015,
          2016,
          2017,
          2018,
          2019,
          2020,
          2021
         ],
         "xaxis": "x",
         "y": [
          14548144,
          15043713,
          15812013,
          15420595,
          15420407,
          16098548,
          16524555,
          17733761,
          18442614,
          18917227,
          19221763.89,
          19823037.19,
          20830490.32,
          21269065.98,
          21703358,
          21813229,
          21609890,
          20895778,
          18963564,
          18492702,
          18308654
         ],
         "yaxis": "y"
        },
        {
         "hovertemplate": "Energy Source=Other<br>Year=%{x}<br>Total Energy Generated (Megawatthours)=%{y}<extra></extra>",
         "legendgroup": "Other",
         "line": {
          "color": "#1f77b4",
          "dash": "solid"
         },
         "marker": {
          "symbol": "circle"
         },
         "mode": "lines",
         "name": "Other",
         "orientation": "v",
         "showlegend": true,
         "type": "scatter",
         "x": [
          2001,
          2002,
          2003,
          2004,
          2005,
          2006,
          2007,
          2008,
          2009,
          2010,
          2011,
          2012,
          2013,
          2014,
          2015,
          2016,
          2017,
          2018,
          2019,
          2020,
          2021
         ],
         "xaxis": "x",
         "y": [
          11906353,
          13526916,
          14044522,
          14232431,
          12821041,
          12974403,
          12231148,
          11803654,
          11928337,
          12855339,
          14105841.92,
          13787067.17,
          13587522.129999999,
          12575954.16,
          14027809,
          13754235,
          13096119,
          12973208,
          13334272,
          12855196,
          12139767
         ],
         "yaxis": "y"
        }
       ],
       "layout": {
        "legend": {
         "title": {
          "text": "Energy Source"
         },
         "tracegroupgap": 0
        },
        "template": {
         "data": {
          "bar": [
           {
            "error_x": {
             "color": "#2a3f5f"
            },
            "error_y": {
             "color": "#2a3f5f"
            },
            "marker": {
             "line": {
              "color": "#E5ECF6",
              "width": 0.5
             },
             "pattern": {
              "fillmode": "overlay",
              "size": 10,
              "solidity": 0.2
             }
            },
            "type": "bar"
           }
          ],
          "barpolar": [
           {
            "marker": {
             "line": {
              "color": "#E5ECF6",
              "width": 0.5
             },
             "pattern": {
              "fillmode": "overlay",
              "size": 10,
              "solidity": 0.2
             }
            },
            "type": "barpolar"
           }
          ],
          "carpet": [
           {
            "aaxis": {
             "endlinecolor": "#2a3f5f",
             "gridcolor": "white",
             "linecolor": "white",
             "minorgridcolor": "white",
             "startlinecolor": "#2a3f5f"
            },
            "baxis": {
             "endlinecolor": "#2a3f5f",
             "gridcolor": "white",
             "linecolor": "white",
             "minorgridcolor": "white",
             "startlinecolor": "#2a3f5f"
            },
            "type": "carpet"
           }
          ],
          "choropleth": [
           {
            "colorbar": {
             "outlinewidth": 0,
             "ticks": ""
            },
            "type": "choropleth"
           }
          ],
          "contour": [
           {
            "colorbar": {
             "outlinewidth": 0,
             "ticks": ""
            },
            "colorscale": [
             [
              0,
              "#0d0887"
             ],
             [
              0.1111111111111111,
              "#46039f"
             ],
             [
              0.2222222222222222,
              "#7201a8"
             ],
             [
              0.3333333333333333,
              "#9c179e"
             ],
             [
              0.4444444444444444,
              "#bd3786"
             ],
             [
              0.5555555555555556,
              "#d8576b"
             ],
             [
              0.6666666666666666,
              "#ed7953"
             ],
             [
              0.7777777777777778,
              "#fb9f3a"
             ],
             [
              0.8888888888888888,
              "#fdca26"
             ],
             [
              1,
              "#f0f921"
             ]
            ],
            "type": "contour"
           }
          ],
          "contourcarpet": [
           {
            "colorbar": {
             "outlinewidth": 0,
             "ticks": ""
            },
            "type": "contourcarpet"
           }
          ],
          "heatmap": [
           {
            "colorbar": {
             "outlinewidth": 0,
             "ticks": ""
            },
            "colorscale": [
             [
              0,
              "#0d0887"
             ],
             [
              0.1111111111111111,
              "#46039f"
             ],
             [
              0.2222222222222222,
              "#7201a8"
             ],
             [
              0.3333333333333333,
              "#9c179e"
             ],
             [
              0.4444444444444444,
              "#bd3786"
             ],
             [
              0.5555555555555556,
              "#d8576b"
             ],
             [
              0.6666666666666666,
              "#ed7953"
             ],
             [
              0.7777777777777778,
              "#fb9f3a"
             ],
             [
              0.8888888888888888,
              "#fdca26"
             ],
             [
              1,
              "#f0f921"
             ]
            ],
            "type": "heatmap"
           }
          ],
          "heatmapgl": [
           {
            "colorbar": {
             "outlinewidth": 0,
             "ticks": ""
            },
            "colorscale": [
             [
              0,
              "#0d0887"
             ],
             [
              0.1111111111111111,
              "#46039f"
             ],
             [
              0.2222222222222222,
              "#7201a8"
             ],
             [
              0.3333333333333333,
              "#9c179e"
             ],
             [
              0.4444444444444444,
              "#bd3786"
             ],
             [
              0.5555555555555556,
              "#d8576b"
             ],
             [
              0.6666666666666666,
              "#ed7953"
             ],
             [
              0.7777777777777778,
              "#fb9f3a"
             ],
             [
              0.8888888888888888,
              "#fdca26"
             ],
             [
              1,
              "#f0f921"
             ]
            ],
            "type": "heatmapgl"
           }
          ],
          "histogram": [
           {
            "marker": {
             "pattern": {
              "fillmode": "overlay",
              "size": 10,
              "solidity": 0.2
             }
            },
            "type": "histogram"
           }
          ],
          "histogram2d": [
           {
            "colorbar": {
             "outlinewidth": 0,
             "ticks": ""
            },
            "colorscale": [
             [
              0,
              "#0d0887"
             ],
             [
              0.1111111111111111,
              "#46039f"
             ],
             [
              0.2222222222222222,
              "#7201a8"
             ],
             [
              0.3333333333333333,
              "#9c179e"
             ],
             [
              0.4444444444444444,
              "#bd3786"
             ],
             [
              0.5555555555555556,
              "#d8576b"
             ],
             [
              0.6666666666666666,
              "#ed7953"
             ],
             [
              0.7777777777777778,
              "#fb9f3a"
             ],
             [
              0.8888888888888888,
              "#fdca26"
             ],
             [
              1,
              "#f0f921"
             ]
            ],
            "type": "histogram2d"
           }
          ],
          "histogram2dcontour": [
           {
            "colorbar": {
             "outlinewidth": 0,
             "ticks": ""
            },
            "colorscale": [
             [
              0,
              "#0d0887"
             ],
             [
              0.1111111111111111,
              "#46039f"
             ],
             [
              0.2222222222222222,
              "#7201a8"
             ],
             [
              0.3333333333333333,
              "#9c179e"
             ],
             [
              0.4444444444444444,
              "#bd3786"
             ],
             [
              0.5555555555555556,
              "#d8576b"
             ],
             [
              0.6666666666666666,
              "#ed7953"
             ],
             [
              0.7777777777777778,
              "#fb9f3a"
             ],
             [
              0.8888888888888888,
              "#fdca26"
             ],
             [
              1,
              "#f0f921"
             ]
            ],
            "type": "histogram2dcontour"
           }
          ],
          "mesh3d": [
           {
            "colorbar": {
             "outlinewidth": 0,
             "ticks": ""
            },
            "type": "mesh3d"
           }
          ],
          "parcoords": [
           {
            "line": {
             "colorbar": {
              "outlinewidth": 0,
              "ticks": ""
             }
            },
            "type": "parcoords"
           }
          ],
          "pie": [
           {
            "automargin": true,
            "type": "pie"
           }
          ],
          "scatter": [
           {
            "marker": {
             "colorbar": {
              "outlinewidth": 0,
              "ticks": ""
             }
            },
            "type": "scatter"
           }
          ],
          "scatter3d": [
           {
            "line": {
             "colorbar": {
              "outlinewidth": 0,
              "ticks": ""
             }
            },
            "marker": {
             "colorbar": {
              "outlinewidth": 0,
              "ticks": ""
             }
            },
            "type": "scatter3d"
           }
          ],
          "scattercarpet": [
           {
            "marker": {
             "colorbar": {
              "outlinewidth": 0,
              "ticks": ""
             }
            },
            "type": "scattercarpet"
           }
          ],
          "scattergeo": [
           {
            "marker": {
             "colorbar": {
              "outlinewidth": 0,
              "ticks": ""
             }
            },
            "type": "scattergeo"
           }
          ],
          "scattergl": [
           {
            "marker": {
             "colorbar": {
              "outlinewidth": 0,
              "ticks": ""
             }
            },
            "type": "scattergl"
           }
          ],
          "scattermapbox": [
           {
            "marker": {
             "colorbar": {
              "outlinewidth": 0,
              "ticks": ""
             }
            },
            "type": "scattermapbox"
           }
          ],
          "scatterpolar": [
           {
            "marker": {
             "colorbar": {
              "outlinewidth": 0,
              "ticks": ""
             }
            },
            "type": "scatterpolar"
           }
          ],
          "scatterpolargl": [
           {
            "marker": {
             "colorbar": {
              "outlinewidth": 0,
              "ticks": ""
             }
            },
            "type": "scatterpolargl"
           }
          ],
          "scatterternary": [
           {
            "marker": {
             "colorbar": {
              "outlinewidth": 0,
              "ticks": ""
             }
            },
            "type": "scatterternary"
           }
          ],
          "surface": [
           {
            "colorbar": {
             "outlinewidth": 0,
             "ticks": ""
            },
            "colorscale": [
             [
              0,
              "#0d0887"
             ],
             [
              0.1111111111111111,
              "#46039f"
             ],
             [
              0.2222222222222222,
              "#7201a8"
             ],
             [
              0.3333333333333333,
              "#9c179e"
             ],
             [
              0.4444444444444444,
              "#bd3786"
             ],
             [
              0.5555555555555556,
              "#d8576b"
             ],
             [
              0.6666666666666666,
              "#ed7953"
             ],
             [
              0.7777777777777778,
              "#fb9f3a"
             ],
             [
              0.8888888888888888,
              "#fdca26"
             ],
             [
              1,
              "#f0f921"
             ]
            ],
            "type": "surface"
           }
          ],
          "table": [
           {
            "cells": {
             "fill": {
              "color": "#EBF0F8"
             },
             "line": {
              "color": "white"
             }
            },
            "header": {
             "fill": {
              "color": "#C8D4E3"
             },
             "line": {
              "color": "white"
             }
            },
            "type": "table"
           }
          ]
         },
         "layout": {
          "annotationdefaults": {
           "arrowcolor": "#2a3f5f",
           "arrowhead": 0,
           "arrowwidth": 1
          },
          "autotypenumbers": "strict",
          "coloraxis": {
           "colorbar": {
            "outlinewidth": 0,
            "ticks": ""
           }
          },
          "colorscale": {
           "diverging": [
            [
             0,
             "#8e0152"
            ],
            [
             0.1,
             "#c51b7d"
            ],
            [
             0.2,
             "#de77ae"
            ],
            [
             0.3,
             "#f1b6da"
            ],
            [
             0.4,
             "#fde0ef"
            ],
            [
             0.5,
             "#f7f7f7"
            ],
            [
             0.6,
             "#e6f5d0"
            ],
            [
             0.7,
             "#b8e186"
            ],
            [
             0.8,
             "#7fbc41"
            ],
            [
             0.9,
             "#4d9221"
            ],
            [
             1,
             "#276419"
            ]
           ],
           "sequential": [
            [
             0,
             "#0d0887"
            ],
            [
             0.1111111111111111,
             "#46039f"
            ],
            [
             0.2222222222222222,
             "#7201a8"
            ],
            [
             0.3333333333333333,
             "#9c179e"
            ],
            [
             0.4444444444444444,
             "#bd3786"
            ],
            [
             0.5555555555555556,
             "#d8576b"
            ],
            [
             0.6666666666666666,
             "#ed7953"
            ],
            [
             0.7777777777777778,
             "#fb9f3a"
            ],
            [
             0.8888888888888888,
             "#fdca26"
            ],
            [
             1,
             "#f0f921"
            ]
           ],
           "sequentialminus": [
            [
             0,
             "#0d0887"
            ],
            [
             0.1111111111111111,
             "#46039f"
            ],
            [
             0.2222222222222222,
             "#7201a8"
            ],
            [
             0.3333333333333333,
             "#9c179e"
            ],
            [
             0.4444444444444444,
             "#bd3786"
            ],
            [
             0.5555555555555556,
             "#d8576b"
            ],
            [
             0.6666666666666666,
             "#ed7953"
            ],
            [
             0.7777777777777778,
             "#fb9f3a"
            ],
            [
             0.8888888888888888,
             "#fdca26"
            ],
            [
             1,
             "#f0f921"
            ]
           ]
          },
          "colorway": [
           "#636efa",
           "#EF553B",
           "#00cc96",
           "#ab63fa",
           "#FFA15A",
           "#19d3f3",
           "#FF6692",
           "#B6E880",
           "#FF97FF",
           "#FECB52"
          ],
          "font": {
           "color": "#2a3f5f"
          },
          "geo": {
           "bgcolor": "white",
           "lakecolor": "white",
           "landcolor": "#E5ECF6",
           "showlakes": true,
           "showland": true,
           "subunitcolor": "white"
          },
          "hoverlabel": {
           "align": "left"
          },
          "hovermode": "closest",
          "mapbox": {
           "style": "light"
          },
          "paper_bgcolor": "white",
          "plot_bgcolor": "#E5ECF6",
          "polar": {
           "angularaxis": {
            "gridcolor": "white",
            "linecolor": "white",
            "ticks": ""
           },
           "bgcolor": "#E5ECF6",
           "radialaxis": {
            "gridcolor": "white",
            "linecolor": "white",
            "ticks": ""
           }
          },
          "scene": {
           "xaxis": {
            "backgroundcolor": "#E5ECF6",
            "gridcolor": "white",
            "gridwidth": 2,
            "linecolor": "white",
            "showbackground": true,
            "ticks": "",
            "zerolinecolor": "white"
           },
           "yaxis": {
            "backgroundcolor": "#E5ECF6",
            "gridcolor": "white",
            "gridwidth": 2,
            "linecolor": "white",
            "showbackground": true,
            "ticks": "",
            "zerolinecolor": "white"
           },
           "zaxis": {
            "backgroundcolor": "#E5ECF6",
            "gridcolor": "white",
            "gridwidth": 2,
            "linecolor": "white",
            "showbackground": true,
            "ticks": "",
            "zerolinecolor": "white"
           }
          },
          "shapedefaults": {
           "line": {
            "color": "#2a3f5f"
           }
          },
          "ternary": {
           "aaxis": {
            "gridcolor": "white",
            "linecolor": "white",
            "ticks": ""
           },
           "baxis": {
            "gridcolor": "white",
            "linecolor": "white",
            "ticks": ""
           },
           "bgcolor": "#E5ECF6",
           "caxis": {
            "gridcolor": "white",
            "linecolor": "white",
            "ticks": ""
           }
          },
          "title": {
           "x": 0.05
          },
          "xaxis": {
           "automargin": true,
           "gridcolor": "white",
           "linecolor": "white",
           "ticks": "",
           "title": {
            "standoff": 15
           },
           "zerolinecolor": "white",
           "zerolinewidth": 2
          },
          "yaxis": {
           "automargin": true,
           "gridcolor": "white",
           "linecolor": "white",
           "ticks": "",
           "title": {
            "standoff": 15
           },
           "zerolinecolor": "white",
           "zerolinewidth": 2
          }
         }
        },
        "title": {
         "text": "Energy Source from 2001-2021"
        },
        "xaxis": {
         "anchor": "y",
         "domain": [
          0,
          1
         ],
         "title": {
          "text": "Year"
         }
        },
        "yaxis": {
         "anchor": "x",
         "domain": [
          0,
          1
         ],
         "title": {
          "text": "Total Energy Generated (Megawatthours)"
         }
        }
       }
      },
      "text/html": [
       "<div>                            <div id=\"c620d2c1-3b2e-40a5-a656-a7f1a8536318\" class=\"plotly-graph-div\" style=\"height:525px; width:100%;\"></div>            <script type=\"text/javascript\">                require([\"plotly\"], function(Plotly) {                    window.PLOTLYENV=window.PLOTLYENV || {};                                    if (document.getElementById(\"c620d2c1-3b2e-40a5-a656-a7f1a8536318\")) {                    Plotly.newPlot(                        \"c620d2c1-3b2e-40a5-a656-a7f1a8536318\",                        [{\"hovertemplate\":\"Energy Source=Coal<br>Year=%{x}<br>Total Energy Generated (Megawatthours)=%{y}<extra></extra>\",\"legendgroup\":\"Coal\",\"line\":{\"color\":\"#ab63fa\",\"dash\":\"solid\"},\"marker\":{\"symbol\":\"circle\"},\"mode\":\"lines\",\"name\":\"Coal\",\"orientation\":\"v\",\"showlegend\":true,\"x\":[2001,2002,2003,2004,2005,2006,2007,2008,2009,2010,2011,2012,2013,2014,2015,2016,2017,2018,2019,2020,2021],\"xaxis\":\"x\",\"y\":[1903955939.0,1933130342.0,1973736746.0,1978300559.0,2012873053.0,1990511140.0,2016455587.0,1985801252.0,1755904259.0,1847290262.0,1733430006.15,1514042945.36,1581114716.5,1585696613.92,1352398200.0,1239148659.0,1205835277.0,1149487354.0,964956757.0,773392913.0,898678541.0],\"yaxis\":\"y\",\"type\":\"scatter\"},{\"hovertemplate\":\"Energy Source=Natural Gas<br>Year=%{x}<br>Total Energy Generated (Megawatthours)=%{y}<extra></extra>\",\"legendgroup\":\"Natural Gas\",\"line\":{\"color\":\"#FFA15A\",\"dash\":\"solid\"},\"marker\":{\"symbol\":\"circle\"},\"mode\":\"lines\",\"name\":\"Natural Gas\",\"orientation\":\"v\",\"showlegend\":true,\"x\":[2001,2002,2003,2004,2005,2006,2007,2008,2009,2010,2011,2012,2013,2014,2015,2016,2017,2018,2019,2020,2021],\"xaxis\":\"x\",\"y\":[639129114.0,691005761.0,649907551.0,710100037.0,760960257.0,816440783.0,896589798.0,882980635.0,920978685.0,987697270.0,1013688930.27,1225894176.39,1124835560.81,1121927524.12,1333482110.0,1378306947.0,1296442511.0,1469132687.0,1585716776.0,1624050006.0,1575229843.0],\"yaxis\":\"y\",\"type\":\"scatter\"},{\"hovertemplate\":\"Energy Source=Nuclear<br>Year=%{x}<br>Total Energy Generated (Megawatthours)=%{y}<extra></extra>\",\"legendgroup\":\"Nuclear\",\"line\":{\"color\":\"#19d3f3\",\"dash\":\"solid\"},\"marker\":{\"symbol\":\"circle\"},\"mode\":\"lines\",\"name\":\"Nuclear\",\"orientation\":\"v\",\"showlegend\":true,\"x\":[2001,2002,2003,2004,2005,2006,2007,2008,2009,2010,2011,2012,2013,2014,2015,2016,2017,2018,2019,2020,2021],\"xaxis\":\"x\",\"y\":[768826308.0,780064087.0,763732695.0,788528387.0,781986365.0,787218636.0,806424753.0,806208435.0,798854585.0,806968301.0,790204367.0,769331249.0,789016473.0,797067458.0,797177877.0,805693948.0,804949635.0,807084477.0,809409262.0,789878863.0,778151500.0],\"yaxis\":\"y\",\"type\":\"scatter\"},{\"hovertemplate\":\"Energy Source=Hydroelectric Conventional<br>Year=%{x}<br>Total Energy Generated (Megawatthours)=%{y}<extra></extra>\",\"legendgroup\":\"Hydroelectric Conventional\",\"line\":{\"color\":\"#FF6692\",\"dash\":\"solid\"},\"marker\":{\"symbol\":\"circle\"},\"mode\":\"lines\",\"name\":\"Hydroelectric Conventional\",\"orientation\":\"v\",\"showlegend\":true,\"x\":[2001,2002,2003,2004,2005,2006,2007,2008,2009,2010,2011,2012,2013,2014,2015,2016,2017,2018,2019,2020,2021],\"xaxis\":\"x\",\"y\":[216961052.0,264328825.0,275806313.0,268417344.0,270321260.0,289246405.0,247509969.0,254831403.0,273445091.0,260203083.0,319354903.88,276240223.81,268565383.23,258748948.63,249080087.0,267812150.0,300332936.0,292523988.0,287873720.0,285273918.0,260224898.0],\"yaxis\":\"y\",\"type\":\"scatter\"},{\"hovertemplate\":\"Energy Source=Wind<br>Year=%{x}<br>Total Energy Generated (Megawatthours)=%{y}<extra></extra>\",\"legendgroup\":\"Wind\",\"line\":{\"color\":\"#B6E880\",\"dash\":\"solid\"},\"marker\":{\"symbol\":\"circle\"},\"mode\":\"lines\",\"name\":\"Wind\",\"orientation\":\"v\",\"showlegend\":true,\"x\":[2001,2002,2003,2004,2005,2006,2007,2008,2009,2010,2011,2012,2013,2014,2015,2016,2017,2018,2019,2020,2021],\"xaxis\":\"x\",\"y\":[6737332.0,10354277.0,11187470.0,14143747.0,17810554.0,26589145.0,34449924.0,55363100.0,73886143.0,94652254.0,120176598.83,140821703.25,167839745.64,181791389.65,190718546.0,226992564.0,254302706.0,272667469.0,294906318.0,337938041.0,379767256.0],\"yaxis\":\"y\",\"type\":\"scatter\"},{\"hovertemplate\":\"Energy Source=Petroleum<br>Year=%{x}<br>Total Energy Generated (Megawatthours)=%{y}<extra></extra>\",\"legendgroup\":\"Petroleum\",\"line\":{\"color\":\"#FF97FF\",\"dash\":\"solid\"},\"marker\":{\"symbol\":\"circle\"},\"mode\":\"lines\",\"name\":\"Petroleum\",\"orientation\":\"v\",\"showlegend\":true,\"x\":[2001,2002,2003,2004,2005,2006,2007,2008,2009,2010,2011,2012,2013,2014,2015,2016,2017,2018,2019,2020,2021],\"xaxis\":\"x\",\"y\":[124880223.0,94567379.0,119405639.0,121145083.0,122225034.0,64166415.0,65738967.0,46242610.0,38936507.0,37061009.0,30182246.75,23189542.33,27164444.79,30488869.0,28248721.0,24204817.0,21389948.0,25225630.0,18438197.0,17341026.0,18781782.0],\"yaxis\":\"y\",\"type\":\"scatter\"},{\"hovertemplate\":\"Energy Source=Solar Thermal and Photovoltaic<br>Year=%{x}<br>Total Energy Generated (Megawatthours)=%{y}<extra></extra>\",\"legendgroup\":\"Solar Thermal and Photovoltaic\",\"line\":{\"color\":\"#FECB52\",\"dash\":\"solid\"},\"marker\":{\"symbol\":\"circle\"},\"mode\":\"lines\",\"name\":\"Solar Thermal and Photovoltaic\",\"orientation\":\"v\",\"showlegend\":true,\"x\":[2001,2002,2003,2004,2005,2006,2007,2008,2009,2010,2011,2012,2013,2014,2015,2016,2017,2018,2019,2020,2021],\"xaxis\":\"x\",\"y\":[542755.0,554831.0,534001.0,575157.0,550293.0,507704.0,611792.0,864314.0,891179.0,1212186.0,1817695.92,4326675.6,9035620.72,18321454.43,24892903.0,36054117.0,53286867.0,63825306.0,71936818.0,89198725.0,114678250.0],\"yaxis\":\"y\",\"type\":\"scatter\"},{\"hovertemplate\":\"Energy Source=Geothermal<br>Year=%{x}<br>Total Energy Generated (Megawatthours)=%{y}<extra></extra>\",\"legendgroup\":\"Geothermal\",\"line\":{\"color\":\"#636efa\",\"dash\":\"solid\"},\"marker\":{\"symbol\":\"circle\"},\"mode\":\"lines\",\"name\":\"Geothermal\",\"orientation\":\"v\",\"showlegend\":true,\"x\":[2001,2002,2003,2004,2005,2006,2007,2008,2009,2010,2011,2012,2013,2014,2015,2016,2017,2018,2019,2020,2021],\"xaxis\":\"x\",\"y\":[13740501.0,14491312.0,14424229.0,14810975.0,14691746.0,14568029.0,14637214.0,14839976.0,15008658.0,15219212.0,15363826.07,15562425.64,15774674.17,16628434.57,15917574.0,15825802.0,15926772.0,15967135.0,15472719.0,15889696.0,16237882.0],\"yaxis\":\"y\",\"type\":\"scatter\"},{\"hovertemplate\":\"Energy Source=Wood and Wood Derived Fuels<br>Year=%{x}<br>Total Energy Generated (Megawatthours)=%{y}<extra></extra>\",\"legendgroup\":\"Wood and Wood Derived Fuels\",\"line\":{\"color\":\"#EF553B\",\"dash\":\"solid\"},\"marker\":{\"symbol\":\"circle\"},\"mode\":\"lines\",\"name\":\"Wood and Wood Derived Fuels\",\"orientation\":\"v\",\"showlegend\":true,\"x\":[2001,2002,2003,2004,2005,2006,2007,2008,2009,2010,2011,2012,2013,2014,2015,2016,2017,2018,2019,2020,2021],\"xaxis\":\"x\",\"y\":[35199905.0,38665032.0,37529100.0,38116872.0,38856413.0,38762097.0,39014046.0,37299856.0,36050143.0,37172157.0,37449067.01,37799129.44,40027537.27,43049862.16,41928505.0,40947234.0,41123530.0,40936161.0,38543389.0,36210347.0,37170460.0],\"yaxis\":\"y\",\"type\":\"scatter\"},{\"hovertemplate\":\"Energy Source=Pumped Storage<br>Year=%{x}<br>Total Energy Generated (Megawatthours)=%{y}<extra></extra>\",\"legendgroup\":\"Pumped Storage\",\"line\":{\"color\":\"#00cc96\",\"dash\":\"solid\"},\"marker\":{\"symbol\":\"circle\"},\"mode\":\"lines\",\"name\":\"Pumped Storage\",\"orientation\":\"v\",\"showlegend\":true,\"x\":[2001,2002,2003,2004,2005,2006,2007,2008,2009,2010,2011,2012,2013,2014,2015,2016,2017,2018,2019,2020,2021],\"xaxis\":\"x\",\"y\":[-8823445.0,-8742929.0,-8535065.0,-8488210.0,-6557786.0,-6557842.0,-6896352.0,-6288062.0,-4627345.0,-5501132.0,-5905392.0,-4950495.99,-4681033.0,-6208716.0,-5091488.0,-6686127.0,-6494548.0,-5904539.0,-5260744.0,-5321205.0,-5111684.0],\"yaxis\":\"y\",\"type\":\"scatter\"},{\"hovertemplate\":\"Energy Source=Other Gases<br>Year=%{x}<br>Total Energy Generated (Megawatthours)=%{y}<extra></extra>\",\"legendgroup\":\"Other Gases\",\"line\":{\"color\":\"purple\",\"dash\":\"solid\"},\"marker\":{\"symbol\":\"circle\"},\"mode\":\"lines\",\"name\":\"Other Gases\",\"orientation\":\"v\",\"showlegend\":true,\"x\":[2001,2002,2003,2004,2005,2006,2007,2008,2009,2010,2011,2012,2013,2014,2015,2016,2017,2018,2019,2020,2021],\"xaxis\":\"x\",\"y\":[9039473.0,11462685.0,15600026.0,15252421.0,13464151.0,14176800.0,13453352.0,11706870.0,10632113.0,11312795.0,11566200.52,11897585.24,12852937.22,11577838.22,13116699.0,12807433.0,12468968.0,13462749.0,12591101.0,11818477.0,11283103.0],\"yaxis\":\"y\",\"type\":\"scatter\"},{\"hovertemplate\":\"Energy Source=Other Biomass<br>Year=%{x}<br>Total Energy Generated (Megawatthours)=%{y}<extra></extra>\",\"legendgroup\":\"Other Biomass\",\"line\":{\"color\":\"gray\",\"dash\":\"solid\"},\"marker\":{\"symbol\":\"circle\"},\"mode\":\"lines\",\"name\":\"Other Biomass\",\"orientation\":\"v\",\"showlegend\":true,\"x\":[2001,2002,2003,2004,2005,2006,2007,2008,2009,2010,2011,2012,2013,2014,2015,2016,2017,2018,2019,2020,2021],\"xaxis\":\"x\",\"y\":[14548144.0,15043713.0,15812013.0,15420595.0,15420407.0,16098548.0,16524555.0,17733761.0,18442614.0,18917227.0,19221763.89,19823037.19,20830490.32,21269065.98,21703358.0,21813229.0,21609890.0,20895778.0,18963564.0,18492702.0,18308654.0],\"yaxis\":\"y\",\"type\":\"scatter\"},{\"hovertemplate\":\"Energy Source=Other<br>Year=%{x}<br>Total Energy Generated (Megawatthours)=%{y}<extra></extra>\",\"legendgroup\":\"Other\",\"line\":{\"color\":\"#1f77b4\",\"dash\":\"solid\"},\"marker\":{\"symbol\":\"circle\"},\"mode\":\"lines\",\"name\":\"Other\",\"orientation\":\"v\",\"showlegend\":true,\"x\":[2001,2002,2003,2004,2005,2006,2007,2008,2009,2010,2011,2012,2013,2014,2015,2016,2017,2018,2019,2020,2021],\"xaxis\":\"x\",\"y\":[11906353.0,13526916.0,14044522.0,14232431.0,12821041.0,12974403.0,12231148.0,11803654.0,11928337.0,12855339.0,14105841.92,13787067.17,13587522.129999999,12575954.16,14027809.0,13754235.0,13096119.0,12973208.0,13334272.0,12855196.0,12139767.0],\"yaxis\":\"y\",\"type\":\"scatter\"}],                        {\"template\":{\"data\":{\"bar\":[{\"error_x\":{\"color\":\"#2a3f5f\"},\"error_y\":{\"color\":\"#2a3f5f\"},\"marker\":{\"line\":{\"color\":\"#E5ECF6\",\"width\":0.5},\"pattern\":{\"fillmode\":\"overlay\",\"size\":10,\"solidity\":0.2}},\"type\":\"bar\"}],\"barpolar\":[{\"marker\":{\"line\":{\"color\":\"#E5ECF6\",\"width\":0.5},\"pattern\":{\"fillmode\":\"overlay\",\"size\":10,\"solidity\":0.2}},\"type\":\"barpolar\"}],\"carpet\":[{\"aaxis\":{\"endlinecolor\":\"#2a3f5f\",\"gridcolor\":\"white\",\"linecolor\":\"white\",\"minorgridcolor\":\"white\",\"startlinecolor\":\"#2a3f5f\"},\"baxis\":{\"endlinecolor\":\"#2a3f5f\",\"gridcolor\":\"white\",\"linecolor\":\"white\",\"minorgridcolor\":\"white\",\"startlinecolor\":\"#2a3f5f\"},\"type\":\"carpet\"}],\"choropleth\":[{\"colorbar\":{\"outlinewidth\":0,\"ticks\":\"\"},\"type\":\"choropleth\"}],\"contour\":[{\"colorbar\":{\"outlinewidth\":0,\"ticks\":\"\"},\"colorscale\":[[0.0,\"#0d0887\"],[0.1111111111111111,\"#46039f\"],[0.2222222222222222,\"#7201a8\"],[0.3333333333333333,\"#9c179e\"],[0.4444444444444444,\"#bd3786\"],[0.5555555555555556,\"#d8576b\"],[0.6666666666666666,\"#ed7953\"],[0.7777777777777778,\"#fb9f3a\"],[0.8888888888888888,\"#fdca26\"],[1.0,\"#f0f921\"]],\"type\":\"contour\"}],\"contourcarpet\":[{\"colorbar\":{\"outlinewidth\":0,\"ticks\":\"\"},\"type\":\"contourcarpet\"}],\"heatmap\":[{\"colorbar\":{\"outlinewidth\":0,\"ticks\":\"\"},\"colorscale\":[[0.0,\"#0d0887\"],[0.1111111111111111,\"#46039f\"],[0.2222222222222222,\"#7201a8\"],[0.3333333333333333,\"#9c179e\"],[0.4444444444444444,\"#bd3786\"],[0.5555555555555556,\"#d8576b\"],[0.6666666666666666,\"#ed7953\"],[0.7777777777777778,\"#fb9f3a\"],[0.8888888888888888,\"#fdca26\"],[1.0,\"#f0f921\"]],\"type\":\"heatmap\"}],\"heatmapgl\":[{\"colorbar\":{\"outlinewidth\":0,\"ticks\":\"\"},\"colorscale\":[[0.0,\"#0d0887\"],[0.1111111111111111,\"#46039f\"],[0.2222222222222222,\"#7201a8\"],[0.3333333333333333,\"#9c179e\"],[0.4444444444444444,\"#bd3786\"],[0.5555555555555556,\"#d8576b\"],[0.6666666666666666,\"#ed7953\"],[0.7777777777777778,\"#fb9f3a\"],[0.8888888888888888,\"#fdca26\"],[1.0,\"#f0f921\"]],\"type\":\"heatmapgl\"}],\"histogram\":[{\"marker\":{\"pattern\":{\"fillmode\":\"overlay\",\"size\":10,\"solidity\":0.2}},\"type\":\"histogram\"}],\"histogram2d\":[{\"colorbar\":{\"outlinewidth\":0,\"ticks\":\"\"},\"colorscale\":[[0.0,\"#0d0887\"],[0.1111111111111111,\"#46039f\"],[0.2222222222222222,\"#7201a8\"],[0.3333333333333333,\"#9c179e\"],[0.4444444444444444,\"#bd3786\"],[0.5555555555555556,\"#d8576b\"],[0.6666666666666666,\"#ed7953\"],[0.7777777777777778,\"#fb9f3a\"],[0.8888888888888888,\"#fdca26\"],[1.0,\"#f0f921\"]],\"type\":\"histogram2d\"}],\"histogram2dcontour\":[{\"colorbar\":{\"outlinewidth\":0,\"ticks\":\"\"},\"colorscale\":[[0.0,\"#0d0887\"],[0.1111111111111111,\"#46039f\"],[0.2222222222222222,\"#7201a8\"],[0.3333333333333333,\"#9c179e\"],[0.4444444444444444,\"#bd3786\"],[0.5555555555555556,\"#d8576b\"],[0.6666666666666666,\"#ed7953\"],[0.7777777777777778,\"#fb9f3a\"],[0.8888888888888888,\"#fdca26\"],[1.0,\"#f0f921\"]],\"type\":\"histogram2dcontour\"}],\"mesh3d\":[{\"colorbar\":{\"outlinewidth\":0,\"ticks\":\"\"},\"type\":\"mesh3d\"}],\"parcoords\":[{\"line\":{\"colorbar\":{\"outlinewidth\":0,\"ticks\":\"\"}},\"type\":\"parcoords\"}],\"pie\":[{\"automargin\":true,\"type\":\"pie\"}],\"scatter\":[{\"marker\":{\"colorbar\":{\"outlinewidth\":0,\"ticks\":\"\"}},\"type\":\"scatter\"}],\"scatter3d\":[{\"line\":{\"colorbar\":{\"outlinewidth\":0,\"ticks\":\"\"}},\"marker\":{\"colorbar\":{\"outlinewidth\":0,\"ticks\":\"\"}},\"type\":\"scatter3d\"}],\"scattercarpet\":[{\"marker\":{\"colorbar\":{\"outlinewidth\":0,\"ticks\":\"\"}},\"type\":\"scattercarpet\"}],\"scattergeo\":[{\"marker\":{\"colorbar\":{\"outlinewidth\":0,\"ticks\":\"\"}},\"type\":\"scattergeo\"}],\"scattergl\":[{\"marker\":{\"colorbar\":{\"outlinewidth\":0,\"ticks\":\"\"}},\"type\":\"scattergl\"}],\"scattermapbox\":[{\"marker\":{\"colorbar\":{\"outlinewidth\":0,\"ticks\":\"\"}},\"type\":\"scattermapbox\"}],\"scatterpolar\":[{\"marker\":{\"colorbar\":{\"outlinewidth\":0,\"ticks\":\"\"}},\"type\":\"scatterpolar\"}],\"scatterpolargl\":[{\"marker\":{\"colorbar\":{\"outlinewidth\":0,\"ticks\":\"\"}},\"type\":\"scatterpolargl\"}],\"scatterternary\":[{\"marker\":{\"colorbar\":{\"outlinewidth\":0,\"ticks\":\"\"}},\"type\":\"scatterternary\"}],\"surface\":[{\"colorbar\":{\"outlinewidth\":0,\"ticks\":\"\"},\"colorscale\":[[0.0,\"#0d0887\"],[0.1111111111111111,\"#46039f\"],[0.2222222222222222,\"#7201a8\"],[0.3333333333333333,\"#9c179e\"],[0.4444444444444444,\"#bd3786\"],[0.5555555555555556,\"#d8576b\"],[0.6666666666666666,\"#ed7953\"],[0.7777777777777778,\"#fb9f3a\"],[0.8888888888888888,\"#fdca26\"],[1.0,\"#f0f921\"]],\"type\":\"surface\"}],\"table\":[{\"cells\":{\"fill\":{\"color\":\"#EBF0F8\"},\"line\":{\"color\":\"white\"}},\"header\":{\"fill\":{\"color\":\"#C8D4E3\"},\"line\":{\"color\":\"white\"}},\"type\":\"table\"}]},\"layout\":{\"annotationdefaults\":{\"arrowcolor\":\"#2a3f5f\",\"arrowhead\":0,\"arrowwidth\":1},\"autotypenumbers\":\"strict\",\"coloraxis\":{\"colorbar\":{\"outlinewidth\":0,\"ticks\":\"\"}},\"colorscale\":{\"diverging\":[[0,\"#8e0152\"],[0.1,\"#c51b7d\"],[0.2,\"#de77ae\"],[0.3,\"#f1b6da\"],[0.4,\"#fde0ef\"],[0.5,\"#f7f7f7\"],[0.6,\"#e6f5d0\"],[0.7,\"#b8e186\"],[0.8,\"#7fbc41\"],[0.9,\"#4d9221\"],[1,\"#276419\"]],\"sequential\":[[0.0,\"#0d0887\"],[0.1111111111111111,\"#46039f\"],[0.2222222222222222,\"#7201a8\"],[0.3333333333333333,\"#9c179e\"],[0.4444444444444444,\"#bd3786\"],[0.5555555555555556,\"#d8576b\"],[0.6666666666666666,\"#ed7953\"],[0.7777777777777778,\"#fb9f3a\"],[0.8888888888888888,\"#fdca26\"],[1.0,\"#f0f921\"]],\"sequentialminus\":[[0.0,\"#0d0887\"],[0.1111111111111111,\"#46039f\"],[0.2222222222222222,\"#7201a8\"],[0.3333333333333333,\"#9c179e\"],[0.4444444444444444,\"#bd3786\"],[0.5555555555555556,\"#d8576b\"],[0.6666666666666666,\"#ed7953\"],[0.7777777777777778,\"#fb9f3a\"],[0.8888888888888888,\"#fdca26\"],[1.0,\"#f0f921\"]]},\"colorway\":[\"#636efa\",\"#EF553B\",\"#00cc96\",\"#ab63fa\",\"#FFA15A\",\"#19d3f3\",\"#FF6692\",\"#B6E880\",\"#FF97FF\",\"#FECB52\"],\"font\":{\"color\":\"#2a3f5f\"},\"geo\":{\"bgcolor\":\"white\",\"lakecolor\":\"white\",\"landcolor\":\"#E5ECF6\",\"showlakes\":true,\"showland\":true,\"subunitcolor\":\"white\"},\"hoverlabel\":{\"align\":\"left\"},\"hovermode\":\"closest\",\"mapbox\":{\"style\":\"light\"},\"paper_bgcolor\":\"white\",\"plot_bgcolor\":\"#E5ECF6\",\"polar\":{\"angularaxis\":{\"gridcolor\":\"white\",\"linecolor\":\"white\",\"ticks\":\"\"},\"bgcolor\":\"#E5ECF6\",\"radialaxis\":{\"gridcolor\":\"white\",\"linecolor\":\"white\",\"ticks\":\"\"}},\"scene\":{\"xaxis\":{\"backgroundcolor\":\"#E5ECF6\",\"gridcolor\":\"white\",\"gridwidth\":2,\"linecolor\":\"white\",\"showbackground\":true,\"ticks\":\"\",\"zerolinecolor\":\"white\"},\"yaxis\":{\"backgroundcolor\":\"#E5ECF6\",\"gridcolor\":\"white\",\"gridwidth\":2,\"linecolor\":\"white\",\"showbackground\":true,\"ticks\":\"\",\"zerolinecolor\":\"white\"},\"zaxis\":{\"backgroundcolor\":\"#E5ECF6\",\"gridcolor\":\"white\",\"gridwidth\":2,\"linecolor\":\"white\",\"showbackground\":true,\"ticks\":\"\",\"zerolinecolor\":\"white\"}},\"shapedefaults\":{\"line\":{\"color\":\"#2a3f5f\"}},\"ternary\":{\"aaxis\":{\"gridcolor\":\"white\",\"linecolor\":\"white\",\"ticks\":\"\"},\"baxis\":{\"gridcolor\":\"white\",\"linecolor\":\"white\",\"ticks\":\"\"},\"bgcolor\":\"#E5ECF6\",\"caxis\":{\"gridcolor\":\"white\",\"linecolor\":\"white\",\"ticks\":\"\"}},\"title\":{\"x\":0.05},\"xaxis\":{\"automargin\":true,\"gridcolor\":\"white\",\"linecolor\":\"white\",\"ticks\":\"\",\"title\":{\"standoff\":15},\"zerolinecolor\":\"white\",\"zerolinewidth\":2},\"yaxis\":{\"automargin\":true,\"gridcolor\":\"white\",\"linecolor\":\"white\",\"ticks\":\"\",\"title\":{\"standoff\":15},\"zerolinecolor\":\"white\",\"zerolinewidth\":2}}},\"xaxis\":{\"anchor\":\"y\",\"domain\":[0.0,1.0],\"title\":{\"text\":\"Year\"}},\"yaxis\":{\"anchor\":\"x\",\"domain\":[0.0,1.0],\"title\":{\"text\":\"Total Energy Generated (Megawatthours)\"}},\"legend\":{\"title\":{\"text\":\"Energy Source\"},\"tracegroupgap\":0},\"title\":{\"text\":\"Energy Source from 2001-2021\"}},                        {\"responsive\": true}                    ).then(function(){\n",
       "                            \n",
       "var gd = document.getElementById('c620d2c1-3b2e-40a5-a656-a7f1a8536318');\n",
       "var x = new MutationObserver(function (mutations, observer) {{\n",
       "        var display = window.getComputedStyle(gd).display;\n",
       "        if (!display || display === 'none') {{\n",
       "            console.log([gd, 'removed!']);\n",
       "            Plotly.purge(gd);\n",
       "            observer.disconnect();\n",
       "        }}\n",
       "}});\n",
       "\n",
       "// Listen for the removal of the full notebook cells\n",
       "var notebookContainer = gd.closest('#notebook-container');\n",
       "if (notebookContainer) {{\n",
       "    x.observe(notebookContainer, {childList: true});\n",
       "}}\n",
       "\n",
       "// Listen for the clearing of the current output cell\n",
       "var outputEl = gd.closest('.output');\n",
       "if (outputEl) {{\n",
       "    x.observe(outputEl, {childList: true});\n",
       "}}\n",
       "\n",
       "                        })                };                });            </script>        </div>"
      ]
     },
     "metadata": {},
     "output_type": "display_data"
    }
   ],
   "source": [
    "fig = px.line(state_grouped, x=\"year\", y=\"generated\",color='source', title=\"Energy Source from 2001-2021\", labels={'year':'Year', 'generated':'Total Energy Generated (Megawatthours)', 'source':'Energy Source'},\\\n",
    "             category_orders= {'source':['Coal','Natural Gas','Nuclear','Hydroelectric Conventional','Wind','Petroleum','Solar Thermal and Photovoltaic','Geothermal','Wood and Wood Derived Fuels','Pumped Storage','Other Gases','Other Biomass','Other']},\\\n",
    "             color_discrete_map={'Other Gases': 'purple','Other Biomass':'gray' ,'Other':'#1f77b4'}) \n",
    "fig.show()"
   ]
  },
  {
   "cell_type": "code",
   "execution_count": null,
   "id": "b65e7cf0",
   "metadata": {},
   "outputs": [],
   "source": []
  }
 ],
 "metadata": {
  "kernelspec": {
   "display_name": "Python 3 (ipykernel)",
   "language": "python",
   "name": "python3"
  },
  "language_info": {
   "codemirror_mode": {
    "name": "ipython",
    "version": 3
   },
   "file_extension": ".py",
   "mimetype": "text/x-python",
   "name": "python",
   "nbconvert_exporter": "python",
   "pygments_lexer": "ipython3",
   "version": "3.9.7"
  }
 },
 "nbformat": 4,
 "nbformat_minor": 5
}
