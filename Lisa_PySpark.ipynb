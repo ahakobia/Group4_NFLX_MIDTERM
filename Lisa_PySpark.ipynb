{
  "cells": [
    {
      "cell_type": "code",
      "execution_count": 1,
      "id": "5620af14",
      "metadata": {
        "colab": {
          "base_uri": "https://localhost:8080/"
        },
        "id": "5620af14",
        "outputId": "3fb8cb14-4e08-40ea-b60c-8d709cf0b769"
      },
      "outputs": [
        {
          "output_type": "stream",
          "name": "stdout",
          "text": [
            "Get:1 https://cloud.r-project.org/bin/linux/ubuntu bionic-cran40/ InRelease [3,626 B]\n",
            "Get:2 http://ppa.launchpad.net/c2d4u.team/c2d4u4.0+/ubuntu bionic InRelease [15.9 kB]\n",
            "Get:3 http://security.ubuntu.com/ubuntu bionic-security InRelease [88.7 kB]\n",
            "Hit:4 http://archive.ubuntu.com/ubuntu bionic InRelease\n",
            "Ign:5 https://developer.download.nvidia.com/compute/machine-learning/repos/ubuntu1804/x86_64  InRelease\n",
            "Get:6 https://developer.download.nvidia.com/compute/cuda/repos/ubuntu1804/x86_64  InRelease [1,581 B]\n",
            "Hit:7 https://developer.download.nvidia.com/compute/machine-learning/repos/ubuntu1804/x86_64  Release\n",
            "Get:8 http://archive.ubuntu.com/ubuntu bionic-updates InRelease [88.7 kB]\n",
            "Hit:9 http://ppa.launchpad.net/cran/libgit2/ubuntu bionic InRelease\n",
            "Hit:10 http://ppa.launchpad.net/deadsnakes/ppa/ubuntu bionic InRelease\n",
            "Get:11 http://archive.ubuntu.com/ubuntu bionic-backports InRelease [83.3 kB]\n",
            "Get:12 http://ppa.launchpad.net/graphics-drivers/ppa/ubuntu bionic InRelease [21.3 kB]\n",
            "Get:13 https://developer.download.nvidia.com/compute/cuda/repos/ubuntu1804/x86_64  Packages [913 kB]\n",
            "Get:14 http://ppa.launchpad.net/c2d4u.team/c2d4u4.0+/ubuntu bionic/main Sources [2,155 kB]\n",
            "Get:16 http://security.ubuntu.com/ubuntu bionic-security/main amd64 Packages [2,990 kB]\n",
            "Get:17 http://ppa.launchpad.net/c2d4u.team/c2d4u4.0+/ubuntu bionic/main amd64 Packages [1,104 kB]\n",
            "Get:18 http://archive.ubuntu.com/ubuntu bionic-updates/main amd64 Packages [3,422 kB]\n",
            "Get:19 http://security.ubuntu.com/ubuntu bionic-security/universe amd64 Packages [1,546 kB]\n",
            "Get:20 http://archive.ubuntu.com/ubuntu bionic-updates/universe amd64 Packages [2,323 kB]\n",
            "Get:21 http://ppa.launchpad.net/graphics-drivers/ppa/ubuntu bionic/main amd64 Packages [48.3 kB]\n",
            "Fetched 14.8 MB in 4s (3,495 kB/s)\n",
            "Reading package lists... Done\n"
          ]
        }
      ],
      "source": [
        "# Activate Spark in our Colab notebook.\n",
        "import os\n",
        "# Find the latest version of spark 3.0  from http://www.apache.org/dist/spark/ and enter as the spark version\n",
        "# For example: 'spark-3.2.2'\n",
        "spark_version = 'spark-3.2.2'\n",
        "# spark_version = 'spark-3.<enter version>'\n",
        "os.environ['SPARK_VERSION']=spark_version\n",
        "\n",
        "# Install Spark and Java\n",
        "!apt-get update\n",
        "!apt-get install openjdk-11-jdk-headless -qq > /dev/null\n",
        "!wget -q http://www.apache.org/dist/spark/$SPARK_VERSION/$SPARK_VERSION-bin-hadoop3.2.tgz\n",
        "!tar xf $SPARK_VERSION-bin-hadoop3.2.tgz\n",
        "!pip install -q findspark\n",
        "\n",
        "# Set Environment Variables\n",
        "os.environ[\"JAVA_HOME\"] = \"/usr/lib/jvm/java-11-openjdk-amd64\"\n",
        "os.environ[\"SPARK_HOME\"] = f\"/content/{spark_version}-bin-hadoop3.2\""
      ]
    },
    {
      "cell_type": "code",
      "execution_count": 2,
      "id": "e6c2175f",
      "metadata": {
        "id": "e6c2175f"
      },
      "outputs": [],
      "source": [
        "# Install pytest and pytest-sugar to make our output look nice.\n",
        "!pip install -q pytest pytest-sugar"
      ]
    },
    {
      "cell_type": "code",
      "execution_count": 3,
      "id": "2e7d7aff",
      "metadata": {
        "colab": {
          "base_uri": "https://localhost:8080/",
          "height": 53
        },
        "id": "2e7d7aff",
        "outputId": "e24c56c1-0708-43b9-80be-dffa3165712b"
      },
      "outputs": [
        {
          "output_type": "stream",
          "name": "stdout",
          "text": [
            "/content/tests\n"
          ]
        },
        {
          "output_type": "execute_result",
          "data": {
            "text/plain": [
              "'/content/tests'"
            ],
            "application/vnd.google.colaboratory.intrinsic+json": {
              "type": "string"
            }
          },
          "metadata": {},
          "execution_count": 3
        }
      ],
      "source": [
        "# Create and navigate to the tdd directory.\n",
        "from pathlib import Path\n",
        "if Path.cwd().name != 'tests':\n",
        "    %mkdir tests\n",
        "    %cd tests\n",
        "# Show the current working directory.  \n",
        "%pwd"
      ]
    },
    {
      "cell_type": "code",
      "execution_count": 4,
      "id": "a6df55ae",
      "metadata": {
        "colab": {
          "base_uri": "https://localhost:8080/"
        },
        "id": "a6df55ae",
        "outputId": "ef341d52-7af7-4ff9-dbda-5d77263070e7"
      },
      "outputs": [
        {
          "output_type": "stream",
          "name": "stdout",
          "text": [
            "Writing __init__.py\n"
          ]
        }
      ],
      "source": [
        "# Initialize the __init__.py file. \n",
        "# This file will be stored in our pwd (/content/tests)\n",
        "%%file __init__.py\n",
        "pass"
      ]
    },
    {
      "cell_type": "code",
      "execution_count": 21,
      "id": "b2bf2556",
      "metadata": {
        "colab": {
          "base_uri": "https://localhost:8080/"
        },
        "id": "b2bf2556",
        "outputId": "328109cb-39a5-4180-8b34-9edf12668680"
      },
      "outputs": [
        {
          "output_type": "stream",
          "name": "stdout",
          "text": [
            "--- 0.029879331588745117 seconds ---\n"
          ]
        }
      ],
      "source": [
        "import findspark\n",
        "findspark.init()\n",
        "\n",
        "# Import other dependencies. \n",
        "from pyspark import SparkFiles\n",
        "from pyspark.sql import SparkSession\n",
        "\n",
        "import time\n",
        "spark = SparkSession.builder.appName(\"sparkEnergyData\").getOrCreate()\n",
        "\n",
        "# url = \"https://raw.githubusercontent.com/ahakobia/Group4_NFLX_MIDTERM/main/Resources/organised_Gen.csv?token=GHSAT0AAAAAABXH6XNLVR2KDPQKXAWUGPNQYZX5EYQ\"\n",
        "# spark.sparkContext.addFile(url)\n",
        "# energy = spark.read.csv(SparkFiles.get(\"organised_Gen.csv\"), header=True)\n",
        "\n",
        "spark = SparkSession \\\n",
        "    .builder \\\n",
        "    .appName(\"energy file read in\") \\\n",
        "    .getOrCreate()\n",
        "energy = spark.read.csv('organised_Gen.csv', header = True)\n",
        "energy = energy.withColumnRenamed('TYPE OF PRODUCER', 'producer')\n",
        "energy = energy.withColumnRenamed('ENERGY SOURCE', 'source')\n",
        "energy = energy.withColumnRenamed('GENERATION (Megawatthours)', 'generated')\n",
        "energy.write.parquet('parquet_energy',mode='overwrite')\n",
        "p_energy = spark.read.parquet('parquet_energy')\n",
        "p_energy.createOrReplaceTempView('p_energy_data')\n",
        "\n",
        "start_time = time.time()\n",
        "transformed_df = spark.sql(\"\"\"\n",
        "    SELECT\n",
        "        YEAR as year,\n",
        "        MONTH as month,\n",
        "        STATE as state, producer, source, generated\n",
        "        FROM p_energy_data\n",
        "        WHERE state != 'US-TOTAL' AND producer != 'Total Electric Power Industry'\n",
        "        AND source != 'Total'\n",
        "        \"\"\")\n",
        "transformed_df\n",
        "\n",
        "  \n",
        "q_df = spark.sql(\"\"\"SELECT state, source, SUM(generated) as Total_generated\n",
        "            FROM p_energy_data \n",
        "            WHERE producer != 'Total Electric Power Industry' \n",
        "                AND source != 'Total' \n",
        "                AND state != 'US-TOTAL'\n",
        "            Group By state, source\n",
        "            Order By state\n",
        "                \"\"\")\n",
        "q_df\n",
        "\n",
        "\n",
        "print(\"--- %s seconds ---\" % (time.time() - start_time))"
      ]
    },
    {
      "cell_type": "code",
      "execution_count": 16,
      "id": "941186c0",
      "metadata": {
        "colab": {
          "base_uri": "https://localhost:8080/"
        },
        "id": "941186c0",
        "outputId": "2ef01280-713a-44b3-a596-8694779bd957"
      },
      "outputs": [
        {
          "output_type": "stream",
          "name": "stdout",
          "text": [
            "+-----+--------------------+--------------------+\n",
            "|state|              source|     Total_generated|\n",
            "+-----+--------------------+--------------------+\n",
            "|   AK|         Other Gases|   5396.769999999999|\n",
            "|   AK|Wood and Wood Der...|              3099.0|\n",
            "|   AK|Solar Thermal and...|               634.0|\n",
            "|   AK|               Other|  4865.1600000000035|\n",
            "|   AK|                Wind|          1461976.87|\n",
            "|   AK|           Petroleum|1.9088571230000004E7|\n",
            "|   AK|Hydroelectric Con...|3.2033605810000002E7|\n",
            "|   AK|         Natural Gas|       7.248417518E7|\n",
            "|   AK|                Coal|       1.357579265E7|\n",
            "|   AK|       Other Biomass|           492652.07|\n",
            "|   AL|       Other Biomass|   537102.6700000002|\n",
            "|   AL|               Other|  1594962.9199999995|\n",
            "|   AL|             Nuclear|        8.17414918E8|\n",
            "|   AL|Hydroelectric Con...|2.0827445608000004E8|\n",
            "|   AL|                Coal|1.1446237862399998E9|\n",
            "|   AL|         Natural Gas| 8.162555680700002E8|\n",
            "|   AL|           Petroleum|  3387558.5799999987|\n",
            "|   AL|Solar Thermal and...|           2193804.0|\n",
            "|   AL|Wood and Wood Der...| 7.132940224999997E7|\n",
            "|   AL|         Other Gases|  2707126.9499999997|\n",
            "+-----+--------------------+--------------------+\n",
            "only showing top 20 rows\n",
            "\n"
          ]
        }
      ],
      "source": [
        "q_df.show()"
      ]
    },
    {
      "cell_type": "code",
      "source": [
        "# Create a bank_data.py file and write the function to it. \n",
        "# This file will be stored in our pwd (/content/tests).\n",
        "%%file total_energy.py\n",
        "\n",
        "# Import findspark() and initialize. \n",
        "import findspark\n",
        "findspark.init()\n",
        "\n",
        "# Import other dependencies. \n",
        "from pyspark import SparkFiles\n",
        "from pyspark.sql import SparkSession\n",
        "spark = SparkSession.builder.appName(\"sparkEnergyData\").getOrCreate()\n",
        "\n",
        "# Create the import_data function. \n",
        "def import_data():\n",
        "    spark = SparkSession \\\n",
        "    .builder \\\n",
        "    .appName(\"energy file read in\") \\\n",
        "    .getOrCreate()\n",
        "    energy = spark.read.csv('organised_Gen.csv', header = True)\n",
        "    energy = energy.withColumnRenamed('TYPE OF PRODUCER', 'producer')\n",
        "    energy = energy.withColumnRenamed('ENERGY SOURCE', 'source')\n",
        "    energy = energy.withColumnRenamed('GENERATION (Megawatthours)', 'generated')\n",
        "    energy.write.parquet('parquet_energy',mode='overwrite')\n",
        "    p_energy = spark.read.parquet('parquet_energy')\n",
        "    p_energy.createOrReplaceTempView('p_energy_data')\n",
        "    return p_energy\n",
        "\n",
        "def transform_data():\n",
        "    transformed_df = spark.sql(\"\"\"\n",
        "    SELECT\n",
        "        YEAR as year,\n",
        "        MONTH as month,\n",
        "        STATE as state, producer, source, generated\n",
        "        FROM p_energy_data\n",
        "        WHERE state != 'US-TOTAL' AND producer != 'Total Electric Power Industry'\n",
        "        AND source != 'Total'\n",
        "        \"\"\")\n",
        "    return transformed_df\n",
        "\n",
        "def query_data():\n",
        "  \n",
        "    q_df = spark.sql(\"\"\"SELECT state, source, SUM(generated) as Total_generated\n",
        "            FROM p_energy_data \n",
        "            WHERE producer != 'Total Electric Power Industry' \n",
        "                AND source != 'Total' \n",
        "                AND state != 'US-TOTAL'\n",
        "            Group By state, source\n",
        "            Order By state\n",
        "                \"\"\")\n",
        "    return q_df"
      ],
      "metadata": {
        "colab": {
          "base_uri": "https://localhost:8080/"
        },
        "id": "6Tar67di4Ack",
        "outputId": "a62a4e4c-eb16-4f51-a0bc-e4f9f229b58e"
      },
      "id": "6Tar67di4Ack",
      "execution_count": 22,
      "outputs": [
        {
          "output_type": "stream",
          "name": "stdout",
          "text": [
            "Writing total_energy.py\n"
          ]
        }
      ]
    },
    {
      "cell_type": "code",
      "source": [
        "# Create a test_bank_data.py file and write the test functions to it. \n",
        "# This file will be stored in our pwd (/content/tests).\n",
        "%%file test_total_states_energy.py\n",
        "\n",
        "# From the bank_data.py file and import the import_data function. \n",
        "from total_energy import (import_data, transform_data, query_data)\n",
        "\n",
        "# Write the tests. \n",
        "def test_row_count_before_transform():\n",
        "  df = import_data()\n",
        "  assert df.count() == 496774\n",
        "\n",
        "def test_column_count_before_transform():\n",
        "  df = import_data()\n",
        "  assert len(df.columns) == 7\n",
        "\n",
        "def test_row_count_after_transform():\n",
        "    df = transform_data()\n",
        "    assert df.count() != 496774\n",
        "\n",
        "def test_column_count_after_transform():\n",
        "    df = transform_data()\n",
        "    assert len(df.columns) != 7\n",
        "\n",
        "def test_row_count_query():\n",
        "    df = query_data()\n",
        "    assert df.count() == 529\n",
        "\n",
        "def test_column_count_query():\n",
        "    df = query_data()\n",
        "    assert len(df.columns) == 3"
      ],
      "metadata": {
        "colab": {
          "base_uri": "https://localhost:8080/"
        },
        "id": "4qHf2kC_1BnZ",
        "outputId": "ae80f6a4-c382-4fac-ef55-9527cfbf6ec7"
      },
      "id": "4qHf2kC_1BnZ",
      "execution_count": 27,
      "outputs": [
        {
          "output_type": "stream",
          "name": "stdout",
          "text": [
            "Overwriting test_total_states_energy.py\n"
          ]
        }
      ]
    },
    {
      "cell_type": "code",
      "source": [
        "# Run the test_import_data.py file with pytest. \n",
        "!python -m pytest test_total_states_energy.py"
      ],
      "metadata": {
        "colab": {
          "base_uri": "https://localhost:8080/"
        },
        "id": "T_UEOlhL16KZ",
        "outputId": "6d7cfd2a-4482-4c2e-ae83-18f0ac1d4c09"
      },
      "id": "T_UEOlhL16KZ",
      "execution_count": 28,
      "outputs": [
        {
          "output_type": "stream",
          "name": "stdout",
          "text": [
            "\u001b[1mTest session starts (platform: linux, Python 3.7.14, pytest 3.6.4, pytest-sugar 0.9.5)\u001b[0m\n",
            "rootdir: /content/tests, inifile:\n",
            "plugins: typeguard-2.7.1, sugar-0.9.5\n",
            "\n",
            " \u001b[36m\u001b[0mtest_total_states_energy.py\u001b[0m \u001b[32m✓\u001b[0m\u001b[32m✓\u001b[0m\u001b[32m✓\u001b[0m\u001b[32m✓\u001b[0m\u001b[32m✓\u001b[0m\u001b[32m✓\u001b[0m                              \u001b[32m100% \u001b[0m\u001b[40m\u001b[32m█\u001b[0m\u001b[40m\u001b[32m█\u001b[0m\u001b[40m\u001b[32m█\u001b[0m\u001b[40m\u001b[32m█\u001b[0m\u001b[40m\u001b[32m█\u001b[0m\u001b[40m\u001b[32m█\u001b[0m\u001b[40m\u001b[32m█\u001b[0m\u001b[40m\u001b[32m█\u001b[0m\u001b[40m\u001b[32m█\u001b[0m\u001b[40m\u001b[32m█\u001b[0m\n",
            "\n",
            "Results (24.40s):\n",
            "\u001b[32m       6 passed\u001b[0m\n"
          ]
        }
      ]
    }
  ],
  "metadata": {
    "kernelspec": {
      "display_name": "Python 3 (ipykernel)",
      "language": "python",
      "name": "python3"
    },
    "language_info": {
      "codemirror_mode": {
        "name": "ipython",
        "version": 3
      },
      "file_extension": ".py",
      "mimetype": "text/x-python",
      "name": "python",
      "nbconvert_exporter": "python",
      "pygments_lexer": "ipython3",
      "version": "3.9.7"
    },
    "colab": {
      "provenance": []
    }
<<<<<<< HEAD
   ],
   "source": [
    "import findspark\n",
    "findspark.init()\n",
    "\n",
    "# Import other dependencies. \n",
    "from pyspark import SparkFiles\n",
    "from pyspark.sql import SparkSession\n",
    "\n",
    "import time\n",
    "spark = SparkSession.builder.appName(\"sparkEnergyData\").getOrCreate()\n",
    "\n",
    "# url = \"https://raw.githubusercontent.com/ahakobia/Group4_NFLX_MIDTERM/main/Resources/organised_Gen.csv?token=GHSAT0AAAAAABXH6XNLVR2KDPQKXAWUGPNQYZX5EYQ\"\n",
    "# spark.sparkContext.addFile(url)\n",
    "# energy = spark.read.csv(SparkFiles.get(\"organised_Gen.csv\"), header=True)\n",
    "\n",
    "spark = SparkSession \\\n",
    "    .builder \\\n",
    "    .appName(\"energy file read in\") \\\n",
    "    .getOrCreate()\n",
    "energy = spark.read.csv('organised_Gen.csv', header = True)\n",
    "energy = energy.withColumnRenamed('TYPE OF PRODUCER', 'producer')\n",
    "energy = energy.withColumnRenamed('ENERGY SOURCE', 'source')\n",
    "energy = energy.withColumnRenamed('GENERATION (Megawatthours)', 'generated')\n",
    "energy.write.parquet('parquet_energy',mode='overwrite')\n",
    "p_energy = spark.read.parquet('parquet_energy')\n",
    "p_energy.createOrReplaceTempView('p_energy_data')\n",
    "\n",
    "start_time = time.time()\n",
    "transformed_df = spark.sql(\"\"\"\n",
    "    SELECT\n",
    "        YEAR as year,\n",
    "        MONTH as month,\n",
    "        STATE as state, producer, source, generated\n",
    "        FROM p_energy_data\n",
    "        WHERE state != 'US-TOTAL' AND producer != 'Total Electric Power Industry'\n",
    "        AND source != 'Total'\n",
    "        \"\"\")\n",
    "transformed_df\n",
    "\n",
    "  \n",
    "q_df = spark.sql(\"\"\"SELECT Energy_Source, Generated_Megawatthours, Season\n",
    "            FROM energy \n",
    "            WHERE Producer_Type != 'Total Electric Power Industry' AND Energy_Source != 'Total' AND State != 'US-TOTAL'\n",
    "            GROUP BY Energy_Source, Generated_Megawatthours, Season\n",
    "                \"\"\")\n",
    "q_df\n",
    "\n",
    "\n",
    "print(\"--- %s seconds ---\" % (time.time() - start_time))"
   ]
=======
>>>>>>> d44bdda775a66aa41dbb14031f7e81b307549f5c
  },
  "nbformat": 4,
  "nbformat_minor": 5
}